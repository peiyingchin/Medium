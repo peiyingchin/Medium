{
 "cells": [
  {
   "cell_type": "markdown",
   "id": "f2948200",
   "metadata": {},
   "source": [
    "# Beat the Market with Yearly Stock Picks: A 38% Annual Return Strategy\n",
    "1. Find out 3 years continuous uptrend in OEPS\n",
    "2. Find out OEPS > 0 in 3 years \n",
    "3. Buy only when shorlisted stock are in uptrend, sell when break uptrend and price is below SMA20\n"
   ]
  },
  {
   "cell_type": "code",
   "execution_count": 1,
   "id": "cb2c22b8",
   "metadata": {},
   "outputs": [],
   "source": [
    "import requests\n",
    "import pandas as pd\n",
    "import certifi\n",
    "import json\n",
    "from urllib.request import urlopen\n",
    "from datetime import datetime\n",
    "import time\n",
    "import pandas_ta as ta\n",
    "import numpy as np"
   ]
  },
  {
   "cell_type": "code",
   "execution_count": 2,
   "id": "4121ae80",
   "metadata": {},
   "outputs": [],
   "source": [
    "# data = dataframe in pandas format to calculate sma\n",
    "# ema_value = is an array to calcuate the lenth of ema \n",
    "# variable = variable used to calculate ema, it can be a \"Close\", or \"Adj Close\" in string format\n",
    "def ema(data,ema_value,variable):\n",
    "    # auto assign a variable name based on length of ema \n",
    "    variable_name = 'EMA'+ str(ema_value)\n",
    "    # calculate ema \n",
    "    data[variable_name] = data[variable].ewm(span=ema_value, adjust=False).mean()\n",
    "     # return ema variable calculated \n",
    "    return data[variable_name]\n",
    "\n",
    "# data = dataframe in pandas format to calculate sma\n",
    "# sma_value = is an array to calcuate the lenth of sma \n",
    "# variable = variable used to calculate sma, it can be a \"Close\", or \"Adj Close\" in string format\n",
    "def sma(data,sma_value,variable):\n",
    "     # auto assign a variable name based on length of sma \n",
    "    variable_name = 'SMA'+ str(sma_value)\n",
    "    # calculate sma \n",
    "    data[variable_name] =ta.sma(data[variable], length=sma_value)\n",
    "    # return sma variable calculated \n",
    "    return data[variable_name]"
   ]
  },
  {
   "cell_type": "code",
   "execution_count": 3,
   "id": "36b4d17c",
   "metadata": {},
   "outputs": [],
   "source": [
    "\n",
    "def get_jsonparsed_data(url):\n",
    "    response = urlopen(url, cafile=certifi.where())\n",
    "    data = response.read().decode(\"utf-8\")\n",
    "    return pd.DataFrame(json.loads(data))"
   ]
  },
  {
   "cell_type": "code",
   "execution_count": 4,
   "id": "b7940783",
   "metadata": {},
   "outputs": [],
   "source": [
    "def Get_Signal(data):    \n",
    "    #table start\n",
    "    df_init =  data.copy()\n",
    "    \n",
    "    '''To make sure row arrange in an ascending order'''\n",
    "    df_init.sort_values(by = 'date',inplace=True)\n",
    "    \n",
    "    '''Process data by remove Null value in moving average varaible that your want to used for triggered''' \n",
    "    #df_init.dropna(subset=['SMA120'],inplace=True)\n",
    "    #df_init.dropna(subset=['SMA120'],inplace=True)\n",
    "    '''generate as 1 if Adj close is higher than variable you want to test, generate as -1 if Adj close is less than the\n",
    "    variable you want to test in a signal variable  \n",
    "    '''\n",
    "    # create a signal variable\n",
    "    #df_init['signal'] = np.nan \n",
    "    # trigger a buy only if it is a up trend \n",
    "    #df_init.loc[(df['adjClose']>=df[variable_lower])&(df[variable_lower]>=df[variable_upper]) ,'Signal'] = 1\n",
    "    \n",
    "    # just triggered sell as close is less than variable triggered\n",
    "    df_init.loc[(df_init['adjClose']<df_init['sma20']) ,'Signal'] = -1\n",
    "    df_init.loc[((df_init['uptrend']==False) ) ,'Signal'] = -1\n",
    "    \n",
    "    ''' move the signal of today to tmr, thus, we need to define a shift(1), as the signal buy is based on yesterday'''\n",
    "    df_init['Signal'] = df_init['Signal'].shift(1)\n",
    "    \n",
    "    '''after we have a buy and sell signal, lets create a hold signal which is equal to 2 after a buy signal and\n",
    "    a do nothing signal which is equal to 0 after a sell signal'''\n",
    "    \n",
    "    # In order to make a decision on a hold or do nothing signal based on yesterday signal we need to create a for loop \n",
    "    # a calendar date should be created to used for a a for loop \n",
    "    date_list = df_init.date.unique()\n",
    "    \n",
    "    # declare a first day, the first date is a null in signal as there is no yesterday data for first data\n",
    "    first_date = date_list[0]\n",
    "    \n",
    "    # declare a previous day \n",
    "    prev = first_date \n",
    "    \n",
    "    for i in date_list:\n",
    "        if i == first_date:\n",
    "            df_init.loc[df_init.date == i,'Signal'] = 0 \n",
    "        else:\n",
    "            \n",
    "    \n",
    "            #print(prev)\n",
    "            # if you have a sell signal yesterday, you should have a do nothing signal today\n",
    "            if (df_init.loc[(df_init.date == prev),'Signal'].values[0]==-1):\n",
    "                df_init.loc[df_init.date == i,'Signal']=0 \n",
    "            # if you have a buy signal yesterday, you should have a hold signal today\n",
    "            elif (df_init.loc[(df_init.date == prev)  ,'Signal'].values[0]==1):\n",
    "                df_init.loc[df_init.date == i,'Signal'] = 2\n",
    "\n",
    "            # if you have a hold signal yesterday and you do not have a sell signal today, you should have a hold signal today\n",
    "            elif ((df_init.loc[(df_init.date == prev) ,'Signal'].values[0]==2)&(df_init.loc[(df_init.date == i) ,'Signal'].values[0]!=-1) ):\n",
    "                df_init.loc[df_init.date == i,'Signal'] = 2\n",
    "\n",
    "            # if you have a do nothing signal yesterday and today is a sell signal, you should equal to have a do nothing signal\n",
    "            elif ((df_init.loc[(df_init.date == prev) ,'Signal'].values[0]==0)&(df_init.loc[(df_init.date == i) ,'Signal'].values[0]==-1) ):\n",
    "                df_init.loc[df_init.date == i,'Signal'] = 0\n",
    "                \n",
    "        # redeclare your previous date before to next day in for loop\n",
    "        prev = i\n",
    "    \n",
    "    return df_init"
   ]
  },
  {
   "cell_type": "code",
   "execution_count": 5,
   "id": "246db48b",
   "metadata": {},
   "outputs": [],
   "source": [
    "import datetime\n",
    "def backtest_strategy(df_init,capital):\n",
    "    df_init= all_signal[['date','Price','Signal','Symbol']].copy()\n",
    "    df_init.date =pd.to_datetime(df_init.date)\n",
    "    df_init = df_init.sort_values(by=['date'])\n",
    "    df_init.set_index('date',inplace=True)\n",
    "    calendar = df_init.index.unique()\n",
    "    #assign dummy row - day before the trade\n",
    "    start_date = pd.DataFrame(columns=df_init.columns,index=[df_init.index.min()- datetime.timedelta(days=1)])\n",
    "    df_init = df_init.append(start_date)\n",
    "\n",
    "    #initiat 2 variable: cash and units which represent each status of cash and units of apple holding for each day\n",
    "    df_init = df_init.assign(cash=np.nan,units = 0)\n",
    "\n",
    "    #assign capital for first dummy day assigned to be capital defined in function\n",
    "    df_init.loc[pd.Series(df_init.index.min()), 'cash'] = capital\n",
    "    # obtain list of calendar \n",
    "    calendar = pd.Series(df_init.index.sort_values().unique()).iloc[1:]\n",
    "\n",
    "    for date in calendar: \n",
    "        #get yesterday data\n",
    "        prev_date = df_init.index[df_init.index<date].unique().sort_values()[-1]\n",
    "        stock_holding=[]\n",
    "        for stock_check in df_init[(df_init.index==prev_date) & (df_init['units']>0)].Symbol.unique():\n",
    "            # calculate total stock value of yesterday \n",
    "            tem_stock_holding =df_init.loc[(df_init.index==prev_date) & (df_init.Symbol ==stock_check), 'units'].values[0]*df_init.loc[(df_init.index==date) & (df_init.Symbol ==stock_check),'Price'].values[0]\n",
    "            stock_holding.append(tem_stock_holding)\n",
    "\n",
    "        stock_holding = sum(stock_holding)\n",
    "        # total portfolio value by add cash and stock value of yesterday \n",
    "        port_value = stock_holding + df_init.loc[prev_date, 'cash'].sum()\n",
    "        stock_pick = df_init.loc[date].Symbol.unique()\n",
    "        print(date)\n",
    "        print(port_value)\n",
    "        stock_to_hold = len(df_init[((df_init['Signal']==1)|(df_init['Signal']==2))&(df_init.index==date)].Symbol.unique())\n",
    "        if stock_to_hold >0:\n",
    "            for stock_check in df_init[(df_init.index==date)].Symbol.unique():\n",
    "                if ((df_init.loc[(df_init.index==date) & (df_init.Symbol ==stock_check), 'Signal'].values[0] == 0)|(df_init.loc[(df_init.index==date) & (df_init.Symbol ==stock_check), 'Signal'].values[0] == -1)):          \n",
    "                    df_init.loc[(df_init.index==date) & (df_init.Symbol ==stock_check), 'units'] = 0\n",
    "                    df_init.loc[(df_init.index==date) & (df_init.Symbol ==stock_check), 'cash'] =0   \n",
    "\n",
    "                elif df_init.loc[(df_init.index==date) & (df_init.Symbol ==stock_check), 'Signal'].values[0] == 1:\n",
    "\n",
    "                    unit_buy = int((port_value/stock_to_hold)/df_init.loc[(df_init.index==date) & (df_init.Symbol ==stock_check), 'Price'].values[0])\n",
    "                    df_init.loc[(df_init.index==date)& (df_init.Symbol ==stock_check), 'units'] = unit_buy\n",
    "                    df_init.loc[(df_init.index==date)& (df_init.Symbol ==stock_check), 'cash'] = port_value/stock_to_hold - unit_buy*df_init.loc[(df_init.index==date)& (df_init.Symbol ==stock_check), 'Price'].values[0]   \n",
    "\n",
    "                elif df_init.loc[(df_init.index==date) & (df_init.Symbol ==stock_check), 'Signal'].values[0] == 2:        \n",
    "                    unit_buy = int((port_value/stock_to_hold)/df_init.loc[(df_init.index==date) & (df_init.Symbol ==stock_check), 'Price'].values[0])\n",
    "                    df_init.loc[(df_init.index==date)& (df_init.Symbol ==stock_check), 'units'] = unit_buy\n",
    "                    df_init.loc[(df_init.index==date)& (df_init.Symbol ==stock_check), 'cash'] = port_value/stock_to_hold - unit_buy*df_init.loc[(df_init.index==date)& (df_init.Symbol ==stock_check), 'Price'].values[0]   \n",
    "                   \n",
    "        else:\n",
    "            total_stock = len(df_init[(df_init.index==date)].Symbol.unique())\n",
    "            df_init.loc[(df_init.index==date), 'units'] = 0\n",
    "            df_init.loc[(df_init.index==date), 'cash'] = port_value/total_stock\n",
    "    df_init[df_init.index!=df_init.index.min()]\n",
    "    return (df_init)"
   ]
  },
  {
   "cell_type": "code",
   "execution_count": 6,
   "id": "40603531",
   "metadata": {},
   "outputs": [],
   "source": [
    "# annualized return \n",
    "# df =data with return \n",
    "# variable = variable name of return\n",
    "def annualized(df,variable):\n",
    "    days_held =df.shape[0]\n",
    "    Return = (df.iloc[-1][variable] - df.iloc[0][variable])/df.iloc[0][variable]\n",
    "    ar = ((1+Return) ** (365/days_held))-1\n",
    "    # get annualized in %\n",
    "    return ar*100\n",
    "# maximum drawdown \n",
    "# df =data with return \n",
    "# variable = variable name of return\n",
    "def MDD(df,variable):\n",
    "    window = 252\n",
    "    Roll_Max = df[variable].rolling(window, min_periods=1).max()\n",
    "    Drawdown = df[variable]/Roll_Max - 1.0\n",
    "    mdd = Drawdown.min()\n",
    "    # get drawdown in %\n",
    "    return mdd*100"
   ]
  },
  {
   "cell_type": "code",
   "execution_count": 9,
   "id": "d81b9165",
   "metadata": {},
   "outputs": [],
   "source": [
    "api = 'Key In your FMP API'"
   ]
  },
  {
   "cell_type": "code",
   "execution_count": 12,
   "id": "842aa44c",
   "metadata": {
    "scrolled": true
   },
   "outputs": [
    {
     "name": "stdout",
     "output_type": "stream",
     "text": [
      "MMM\n"
     ]
    },
    {
     "name": "stderr",
     "output_type": "stream",
     "text": [
      "C:\\Users\\CHIN\\AppData\\Local\\Temp/ipykernel_4828/1728708311.py:2: DeprecationWarning: cafile, capath and cadefault are deprecated, use a custom context instead.\n",
      "  response = urlopen(url, cafile=certifi.where())\n"
     ]
    },
    {
     "name": "stdout",
     "output_type": "stream",
     "text": [
      "AOS\n"
     ]
    },
    {
     "name": "stderr",
     "output_type": "stream",
     "text": [
      "C:\\Users\\CHIN\\AppData\\Local\\Temp/ipykernel_4828/1728708311.py:2: DeprecationWarning: cafile, capath and cadefault are deprecated, use a custom context instead.\n",
      "  response = urlopen(url, cafile=certifi.where())\n"
     ]
    },
    {
     "name": "stdout",
     "output_type": "stream",
     "text": [
      "ABT\n"
     ]
    },
    {
     "name": "stderr",
     "output_type": "stream",
     "text": [
      "C:\\Users\\CHIN\\AppData\\Local\\Temp/ipykernel_4828/1728708311.py:2: DeprecationWarning: cafile, capath and cadefault are deprecated, use a custom context instead.\n",
      "  response = urlopen(url, cafile=certifi.where())\n"
     ]
    },
    {
     "name": "stdout",
     "output_type": "stream",
     "text": [
      "ABBV\n"
     ]
    },
    {
     "name": "stderr",
     "output_type": "stream",
     "text": [
      "C:\\Users\\CHIN\\AppData\\Local\\Temp/ipykernel_4828/1728708311.py:2: DeprecationWarning: cafile, capath and cadefault are deprecated, use a custom context instead.\n",
      "  response = urlopen(url, cafile=certifi.where())\n"
     ]
    },
    {
     "name": "stdout",
     "output_type": "stream",
     "text": [
      "ACN\n"
     ]
    },
    {
     "name": "stderr",
     "output_type": "stream",
     "text": [
      "C:\\Users\\CHIN\\AppData\\Local\\Temp/ipykernel_4828/1728708311.py:2: DeprecationWarning: cafile, capath and cadefault are deprecated, use a custom context instead.\n",
      "  response = urlopen(url, cafile=certifi.where())\n"
     ]
    },
    {
     "name": "stdout",
     "output_type": "stream",
     "text": [
      "ADBE\n"
     ]
    },
    {
     "name": "stderr",
     "output_type": "stream",
     "text": [
      "C:\\Users\\CHIN\\AppData\\Local\\Temp/ipykernel_4828/1728708311.py:2: DeprecationWarning: cafile, capath and cadefault are deprecated, use a custom context instead.\n",
      "  response = urlopen(url, cafile=certifi.where())\n"
     ]
    },
    {
     "name": "stdout",
     "output_type": "stream",
     "text": [
      "AMD\n"
     ]
    },
    {
     "name": "stderr",
     "output_type": "stream",
     "text": [
      "C:\\Users\\CHIN\\AppData\\Local\\Temp/ipykernel_4828/1728708311.py:2: DeprecationWarning: cafile, capath and cadefault are deprecated, use a custom context instead.\n",
      "  response = urlopen(url, cafile=certifi.where())\n"
     ]
    },
    {
     "name": "stdout",
     "output_type": "stream",
     "text": [
      "AES\n"
     ]
    },
    {
     "name": "stderr",
     "output_type": "stream",
     "text": [
      "C:\\Users\\CHIN\\AppData\\Local\\Temp/ipykernel_4828/1728708311.py:2: DeprecationWarning: cafile, capath and cadefault are deprecated, use a custom context instead.\n",
      "  response = urlopen(url, cafile=certifi.where())\n"
     ]
    },
    {
     "name": "stdout",
     "output_type": "stream",
     "text": [
      "AFL\n"
     ]
    },
    {
     "name": "stderr",
     "output_type": "stream",
     "text": [
      "C:\\Users\\CHIN\\AppData\\Local\\Temp/ipykernel_4828/1728708311.py:2: DeprecationWarning: cafile, capath and cadefault are deprecated, use a custom context instead.\n",
      "  response = urlopen(url, cafile=certifi.where())\n"
     ]
    },
    {
     "name": "stdout",
     "output_type": "stream",
     "text": [
      "A\n"
     ]
    },
    {
     "name": "stderr",
     "output_type": "stream",
     "text": [
      "C:\\Users\\CHIN\\AppData\\Local\\Temp/ipykernel_4828/1728708311.py:2: DeprecationWarning: cafile, capath and cadefault are deprecated, use a custom context instead.\n",
      "  response = urlopen(url, cafile=certifi.where())\n"
     ]
    },
    {
     "name": "stdout",
     "output_type": "stream",
     "text": [
      "APD\n"
     ]
    },
    {
     "name": "stderr",
     "output_type": "stream",
     "text": [
      "C:\\Users\\CHIN\\AppData\\Local\\Temp/ipykernel_4828/1728708311.py:2: DeprecationWarning: cafile, capath and cadefault are deprecated, use a custom context instead.\n",
      "  response = urlopen(url, cafile=certifi.where())\n"
     ]
    },
    {
     "name": "stdout",
     "output_type": "stream",
     "text": [
      "ABNB\n"
     ]
    },
    {
     "name": "stderr",
     "output_type": "stream",
     "text": [
      "C:\\Users\\CHIN\\AppData\\Local\\Temp/ipykernel_4828/1728708311.py:2: DeprecationWarning: cafile, capath and cadefault are deprecated, use a custom context instead.\n",
      "  response = urlopen(url, cafile=certifi.where())\n"
     ]
    },
    {
     "name": "stdout",
     "output_type": "stream",
     "text": [
      "AKAM\n"
     ]
    },
    {
     "name": "stderr",
     "output_type": "stream",
     "text": [
      "C:\\Users\\CHIN\\AppData\\Local\\Temp/ipykernel_4828/1728708311.py:2: DeprecationWarning: cafile, capath and cadefault are deprecated, use a custom context instead.\n",
      "  response = urlopen(url, cafile=certifi.where())\n"
     ]
    },
    {
     "name": "stdout",
     "output_type": "stream",
     "text": [
      "ALK\n"
     ]
    },
    {
     "name": "stderr",
     "output_type": "stream",
     "text": [
      "C:\\Users\\CHIN\\AppData\\Local\\Temp/ipykernel_4828/1728708311.py:2: DeprecationWarning: cafile, capath and cadefault are deprecated, use a custom context instead.\n",
      "  response = urlopen(url, cafile=certifi.where())\n"
     ]
    },
    {
     "name": "stdout",
     "output_type": "stream",
     "text": [
      "ALB\n"
     ]
    },
    {
     "name": "stderr",
     "output_type": "stream",
     "text": [
      "C:\\Users\\CHIN\\AppData\\Local\\Temp/ipykernel_4828/1728708311.py:2: DeprecationWarning: cafile, capath and cadefault are deprecated, use a custom context instead.\n",
      "  response = urlopen(url, cafile=certifi.where())\n"
     ]
    },
    {
     "name": "stdout",
     "output_type": "stream",
     "text": [
      "ARE\n"
     ]
    },
    {
     "name": "stderr",
     "output_type": "stream",
     "text": [
      "C:\\Users\\CHIN\\AppData\\Local\\Temp/ipykernel_4828/1728708311.py:2: DeprecationWarning: cafile, capath and cadefault are deprecated, use a custom context instead.\n",
      "  response = urlopen(url, cafile=certifi.where())\n"
     ]
    },
    {
     "name": "stdout",
     "output_type": "stream",
     "text": [
      "ALGN\n"
     ]
    },
    {
     "name": "stderr",
     "output_type": "stream",
     "text": [
      "C:\\Users\\CHIN\\AppData\\Local\\Temp/ipykernel_4828/1728708311.py:2: DeprecationWarning: cafile, capath and cadefault are deprecated, use a custom context instead.\n",
      "  response = urlopen(url, cafile=certifi.where())\n"
     ]
    },
    {
     "name": "stdout",
     "output_type": "stream",
     "text": [
      "ALLE\n"
     ]
    },
    {
     "name": "stderr",
     "output_type": "stream",
     "text": [
      "C:\\Users\\CHIN\\AppData\\Local\\Temp/ipykernel_4828/1728708311.py:2: DeprecationWarning: cafile, capath and cadefault are deprecated, use a custom context instead.\n",
      "  response = urlopen(url, cafile=certifi.where())\n"
     ]
    },
    {
     "name": "stdout",
     "output_type": "stream",
     "text": [
      "LNT\n"
     ]
    },
    {
     "name": "stderr",
     "output_type": "stream",
     "text": [
      "C:\\Users\\CHIN\\AppData\\Local\\Temp/ipykernel_4828/1728708311.py:2: DeprecationWarning: cafile, capath and cadefault are deprecated, use a custom context instead.\n",
      "  response = urlopen(url, cafile=certifi.where())\n"
     ]
    },
    {
     "name": "stdout",
     "output_type": "stream",
     "text": [
      "ALL\n"
     ]
    },
    {
     "name": "stderr",
     "output_type": "stream",
     "text": [
      "C:\\Users\\CHIN\\AppData\\Local\\Temp/ipykernel_4828/1728708311.py:2: DeprecationWarning: cafile, capath and cadefault are deprecated, use a custom context instead.\n",
      "  response = urlopen(url, cafile=certifi.where())\n"
     ]
    },
    {
     "name": "stdout",
     "output_type": "stream",
     "text": [
      "GOOGL\n"
     ]
    },
    {
     "name": "stderr",
     "output_type": "stream",
     "text": [
      "C:\\Users\\CHIN\\AppData\\Local\\Temp/ipykernel_4828/1728708311.py:2: DeprecationWarning: cafile, capath and cadefault are deprecated, use a custom context instead.\n",
      "  response = urlopen(url, cafile=certifi.where())\n"
     ]
    },
    {
     "name": "stdout",
     "output_type": "stream",
     "text": [
      "GOOG\n"
     ]
    },
    {
     "name": "stderr",
     "output_type": "stream",
     "text": [
      "C:\\Users\\CHIN\\AppData\\Local\\Temp/ipykernel_4828/1728708311.py:2: DeprecationWarning: cafile, capath and cadefault are deprecated, use a custom context instead.\n",
      "  response = urlopen(url, cafile=certifi.where())\n"
     ]
    },
    {
     "name": "stdout",
     "output_type": "stream",
     "text": [
      "MO\n"
     ]
    },
    {
     "name": "stderr",
     "output_type": "stream",
     "text": [
      "C:\\Users\\CHIN\\AppData\\Local\\Temp/ipykernel_4828/1728708311.py:2: DeprecationWarning: cafile, capath and cadefault are deprecated, use a custom context instead.\n",
      "  response = urlopen(url, cafile=certifi.where())\n"
     ]
    },
    {
     "name": "stdout",
     "output_type": "stream",
     "text": [
      "AMZN\n"
     ]
    },
    {
     "name": "stderr",
     "output_type": "stream",
     "text": [
      "C:\\Users\\CHIN\\AppData\\Local\\Temp/ipykernel_4828/1728708311.py:2: DeprecationWarning: cafile, capath and cadefault are deprecated, use a custom context instead.\n",
      "  response = urlopen(url, cafile=certifi.where())\n"
     ]
    },
    {
     "name": "stdout",
     "output_type": "stream",
     "text": [
      "AMCR\n"
     ]
    },
    {
     "name": "stderr",
     "output_type": "stream",
     "text": [
      "C:\\Users\\CHIN\\AppData\\Local\\Temp/ipykernel_4828/1728708311.py:2: DeprecationWarning: cafile, capath and cadefault are deprecated, use a custom context instead.\n",
      "  response = urlopen(url, cafile=certifi.where())\n"
     ]
    },
    {
     "name": "stdout",
     "output_type": "stream",
     "text": [
      "AEE\n"
     ]
    },
    {
     "name": "stderr",
     "output_type": "stream",
     "text": [
      "C:\\Users\\CHIN\\AppData\\Local\\Temp/ipykernel_4828/1728708311.py:2: DeprecationWarning: cafile, capath and cadefault are deprecated, use a custom context instead.\n",
      "  response = urlopen(url, cafile=certifi.where())\n"
     ]
    },
    {
     "name": "stdout",
     "output_type": "stream",
     "text": [
      "AAL\n"
     ]
    },
    {
     "name": "stderr",
     "output_type": "stream",
     "text": [
      "C:\\Users\\CHIN\\AppData\\Local\\Temp/ipykernel_4828/1728708311.py:2: DeprecationWarning: cafile, capath and cadefault are deprecated, use a custom context instead.\n",
      "  response = urlopen(url, cafile=certifi.where())\n"
     ]
    },
    {
     "name": "stdout",
     "output_type": "stream",
     "text": [
      "AEP\n"
     ]
    },
    {
     "name": "stderr",
     "output_type": "stream",
     "text": [
      "C:\\Users\\CHIN\\AppData\\Local\\Temp/ipykernel_4828/1728708311.py:2: DeprecationWarning: cafile, capath and cadefault are deprecated, use a custom context instead.\n",
      "  response = urlopen(url, cafile=certifi.where())\n"
     ]
    },
    {
     "name": "stdout",
     "output_type": "stream",
     "text": [
      "AXP\n"
     ]
    },
    {
     "name": "stderr",
     "output_type": "stream",
     "text": [
      "C:\\Users\\CHIN\\AppData\\Local\\Temp/ipykernel_4828/1728708311.py:2: DeprecationWarning: cafile, capath and cadefault are deprecated, use a custom context instead.\n",
      "  response = urlopen(url, cafile=certifi.where())\n"
     ]
    },
    {
     "name": "stdout",
     "output_type": "stream",
     "text": [
      "AIG\n"
     ]
    },
    {
     "name": "stderr",
     "output_type": "stream",
     "text": [
      "C:\\Users\\CHIN\\AppData\\Local\\Temp/ipykernel_4828/1728708311.py:2: DeprecationWarning: cafile, capath and cadefault are deprecated, use a custom context instead.\n",
      "  response = urlopen(url, cafile=certifi.where())\n"
     ]
    },
    {
     "name": "stdout",
     "output_type": "stream",
     "text": [
      "AMT\n"
     ]
    },
    {
     "name": "stderr",
     "output_type": "stream",
     "text": [
      "C:\\Users\\CHIN\\AppData\\Local\\Temp/ipykernel_4828/1728708311.py:2: DeprecationWarning: cafile, capath and cadefault are deprecated, use a custom context instead.\n",
      "  response = urlopen(url, cafile=certifi.where())\n"
     ]
    },
    {
     "name": "stdout",
     "output_type": "stream",
     "text": [
      "AWK\n"
     ]
    },
    {
     "name": "stderr",
     "output_type": "stream",
     "text": [
      "C:\\Users\\CHIN\\AppData\\Local\\Temp/ipykernel_4828/1728708311.py:2: DeprecationWarning: cafile, capath and cadefault are deprecated, use a custom context instead.\n",
      "  response = urlopen(url, cafile=certifi.where())\n"
     ]
    },
    {
     "name": "stdout",
     "output_type": "stream",
     "text": [
      "AMP\n"
     ]
    },
    {
     "name": "stderr",
     "output_type": "stream",
     "text": [
      "C:\\Users\\CHIN\\AppData\\Local\\Temp/ipykernel_4828/1728708311.py:2: DeprecationWarning: cafile, capath and cadefault are deprecated, use a custom context instead.\n",
      "  response = urlopen(url, cafile=certifi.where())\n"
     ]
    },
    {
     "name": "stdout",
     "output_type": "stream",
     "text": [
      "AME\n",
      "AMGN\n"
     ]
    },
    {
     "name": "stderr",
     "output_type": "stream",
     "text": [
      "C:\\Users\\CHIN\\AppData\\Local\\Temp/ipykernel_4828/1728708311.py:2: DeprecationWarning: cafile, capath and cadefault are deprecated, use a custom context instead.\n",
      "  response = urlopen(url, cafile=certifi.where())\n"
     ]
    },
    {
     "name": "stdout",
     "output_type": "stream",
     "text": [
      "APH\n"
     ]
    },
    {
     "name": "stderr",
     "output_type": "stream",
     "text": [
      "C:\\Users\\CHIN\\AppData\\Local\\Temp/ipykernel_4828/1728708311.py:2: DeprecationWarning: cafile, capath and cadefault are deprecated, use a custom context instead.\n",
      "  response = urlopen(url, cafile=certifi.where())\n"
     ]
    },
    {
     "name": "stdout",
     "output_type": "stream",
     "text": [
      "ADI\n"
     ]
    },
    {
     "name": "stderr",
     "output_type": "stream",
     "text": [
      "C:\\Users\\CHIN\\AppData\\Local\\Temp/ipykernel_4828/1728708311.py:2: DeprecationWarning: cafile, capath and cadefault are deprecated, use a custom context instead.\n",
      "  response = urlopen(url, cafile=certifi.where())\n"
     ]
    },
    {
     "name": "stdout",
     "output_type": "stream",
     "text": [
      "ANSS\n"
     ]
    },
    {
     "name": "stderr",
     "output_type": "stream",
     "text": [
      "C:\\Users\\CHIN\\AppData\\Local\\Temp/ipykernel_4828/1728708311.py:2: DeprecationWarning: cafile, capath and cadefault are deprecated, use a custom context instead.\n",
      "  response = urlopen(url, cafile=certifi.where())\n"
     ]
    },
    {
     "name": "stdout",
     "output_type": "stream",
     "text": [
      "AON\n"
     ]
    },
    {
     "name": "stderr",
     "output_type": "stream",
     "text": [
      "C:\\Users\\CHIN\\AppData\\Local\\Temp/ipykernel_4828/1728708311.py:2: DeprecationWarning: cafile, capath and cadefault are deprecated, use a custom context instead.\n",
      "  response = urlopen(url, cafile=certifi.where())\n"
     ]
    },
    {
     "name": "stdout",
     "output_type": "stream",
     "text": [
      "APA\n"
     ]
    },
    {
     "name": "stderr",
     "output_type": "stream",
     "text": [
      "C:\\Users\\CHIN\\AppData\\Local\\Temp/ipykernel_4828/1728708311.py:2: DeprecationWarning: cafile, capath and cadefault are deprecated, use a custom context instead.\n",
      "  response = urlopen(url, cafile=certifi.where())\n"
     ]
    },
    {
     "name": "stdout",
     "output_type": "stream",
     "text": [
      "AAPL\n"
     ]
    },
    {
     "name": "stderr",
     "output_type": "stream",
     "text": [
      "C:\\Users\\CHIN\\AppData\\Local\\Temp/ipykernel_4828/1728708311.py:2: DeprecationWarning: cafile, capath and cadefault are deprecated, use a custom context instead.\n",
      "  response = urlopen(url, cafile=certifi.where())\n"
     ]
    },
    {
     "name": "stdout",
     "output_type": "stream",
     "text": [
      "AMAT\n"
     ]
    },
    {
     "name": "stderr",
     "output_type": "stream",
     "text": [
      "C:\\Users\\CHIN\\AppData\\Local\\Temp/ipykernel_4828/1728708311.py:2: DeprecationWarning: cafile, capath and cadefault are deprecated, use a custom context instead.\n",
      "  response = urlopen(url, cafile=certifi.where())\n"
     ]
    },
    {
     "name": "stdout",
     "output_type": "stream",
     "text": [
      "APTV\n"
     ]
    },
    {
     "name": "stderr",
     "output_type": "stream",
     "text": [
      "C:\\Users\\CHIN\\AppData\\Local\\Temp/ipykernel_4828/1728708311.py:2: DeprecationWarning: cafile, capath and cadefault are deprecated, use a custom context instead.\n",
      "  response = urlopen(url, cafile=certifi.where())\n"
     ]
    },
    {
     "name": "stdout",
     "output_type": "stream",
     "text": [
      "ACGL\n"
     ]
    },
    {
     "name": "stderr",
     "output_type": "stream",
     "text": [
      "C:\\Users\\CHIN\\AppData\\Local\\Temp/ipykernel_4828/1728708311.py:2: DeprecationWarning: cafile, capath and cadefault are deprecated, use a custom context instead.\n",
      "  response = urlopen(url, cafile=certifi.where())\n"
     ]
    },
    {
     "name": "stdout",
     "output_type": "stream",
     "text": [
      "ADM\n"
     ]
    },
    {
     "name": "stderr",
     "output_type": "stream",
     "text": [
      "C:\\Users\\CHIN\\AppData\\Local\\Temp/ipykernel_4828/1728708311.py:2: DeprecationWarning: cafile, capath and cadefault are deprecated, use a custom context instead.\n",
      "  response = urlopen(url, cafile=certifi.where())\n"
     ]
    },
    {
     "name": "stdout",
     "output_type": "stream",
     "text": [
      "ANET\n"
     ]
    },
    {
     "name": "stderr",
     "output_type": "stream",
     "text": [
      "C:\\Users\\CHIN\\AppData\\Local\\Temp/ipykernel_4828/1728708311.py:2: DeprecationWarning: cafile, capath and cadefault are deprecated, use a custom context instead.\n",
      "  response = urlopen(url, cafile=certifi.where())\n"
     ]
    },
    {
     "name": "stdout",
     "output_type": "stream",
     "text": [
      "AJG\n"
     ]
    },
    {
     "name": "stderr",
     "output_type": "stream",
     "text": [
      "C:\\Users\\CHIN\\AppData\\Local\\Temp/ipykernel_4828/1728708311.py:2: DeprecationWarning: cafile, capath and cadefault are deprecated, use a custom context instead.\n",
      "  response = urlopen(url, cafile=certifi.where())\n"
     ]
    },
    {
     "name": "stdout",
     "output_type": "stream",
     "text": [
      "AIZ\n"
     ]
    },
    {
     "name": "stderr",
     "output_type": "stream",
     "text": [
      "C:\\Users\\CHIN\\AppData\\Local\\Temp/ipykernel_4828/1728708311.py:2: DeprecationWarning: cafile, capath and cadefault are deprecated, use a custom context instead.\n",
      "  response = urlopen(url, cafile=certifi.where())\n"
     ]
    },
    {
     "name": "stdout",
     "output_type": "stream",
     "text": [
      "T\n"
     ]
    },
    {
     "name": "stderr",
     "output_type": "stream",
     "text": [
      "C:\\Users\\CHIN\\AppData\\Local\\Temp/ipykernel_4828/1728708311.py:2: DeprecationWarning: cafile, capath and cadefault are deprecated, use a custom context instead.\n",
      "  response = urlopen(url, cafile=certifi.where())\n"
     ]
    },
    {
     "name": "stdout",
     "output_type": "stream",
     "text": [
      "ATO\n"
     ]
    },
    {
     "name": "stderr",
     "output_type": "stream",
     "text": [
      "C:\\Users\\CHIN\\AppData\\Local\\Temp/ipykernel_4828/1728708311.py:2: DeprecationWarning: cafile, capath and cadefault are deprecated, use a custom context instead.\n",
      "  response = urlopen(url, cafile=certifi.where())\n"
     ]
    },
    {
     "name": "stdout",
     "output_type": "stream",
     "text": [
      "ADSK\n"
     ]
    },
    {
     "name": "stderr",
     "output_type": "stream",
     "text": [
      "C:\\Users\\CHIN\\AppData\\Local\\Temp/ipykernel_4828/1728708311.py:2: DeprecationWarning: cafile, capath and cadefault are deprecated, use a custom context instead.\n",
      "  response = urlopen(url, cafile=certifi.where())\n"
     ]
    },
    {
     "name": "stdout",
     "output_type": "stream",
     "text": [
      "ADP\n"
     ]
    },
    {
     "name": "stderr",
     "output_type": "stream",
     "text": [
      "C:\\Users\\CHIN\\AppData\\Local\\Temp/ipykernel_4828/1728708311.py:2: DeprecationWarning: cafile, capath and cadefault are deprecated, use a custom context instead.\n",
      "  response = urlopen(url, cafile=certifi.where())\n"
     ]
    },
    {
     "name": "stdout",
     "output_type": "stream",
     "text": [
      "AZO\n"
     ]
    },
    {
     "name": "stderr",
     "output_type": "stream",
     "text": [
      "C:\\Users\\CHIN\\AppData\\Local\\Temp/ipykernel_4828/1728708311.py:2: DeprecationWarning: cafile, capath and cadefault are deprecated, use a custom context instead.\n",
      "  response = urlopen(url, cafile=certifi.where())\n"
     ]
    },
    {
     "name": "stdout",
     "output_type": "stream",
     "text": [
      "AVB\n"
     ]
    },
    {
     "name": "stderr",
     "output_type": "stream",
     "text": [
      "C:\\Users\\CHIN\\AppData\\Local\\Temp/ipykernel_4828/1728708311.py:2: DeprecationWarning: cafile, capath and cadefault are deprecated, use a custom context instead.\n",
      "  response = urlopen(url, cafile=certifi.where())\n"
     ]
    },
    {
     "name": "stdout",
     "output_type": "stream",
     "text": [
      "AVY\n"
     ]
    },
    {
     "name": "stderr",
     "output_type": "stream",
     "text": [
      "C:\\Users\\CHIN\\AppData\\Local\\Temp/ipykernel_4828/1728708311.py:2: DeprecationWarning: cafile, capath and cadefault are deprecated, use a custom context instead.\n",
      "  response = urlopen(url, cafile=certifi.where())\n"
     ]
    },
    {
     "name": "stdout",
     "output_type": "stream",
     "text": [
      "AXON\n"
     ]
    },
    {
     "name": "stderr",
     "output_type": "stream",
     "text": [
      "C:\\Users\\CHIN\\AppData\\Local\\Temp/ipykernel_4828/1728708311.py:2: DeprecationWarning: cafile, capath and cadefault are deprecated, use a custom context instead.\n",
      "  response = urlopen(url, cafile=certifi.where())\n"
     ]
    },
    {
     "name": "stdout",
     "output_type": "stream",
     "text": [
      "BKR\n"
     ]
    },
    {
     "name": "stderr",
     "output_type": "stream",
     "text": [
      "C:\\Users\\CHIN\\AppData\\Local\\Temp/ipykernel_4828/1728708311.py:2: DeprecationWarning: cafile, capath and cadefault are deprecated, use a custom context instead.\n",
      "  response = urlopen(url, cafile=certifi.where())\n"
     ]
    },
    {
     "name": "stdout",
     "output_type": "stream",
     "text": [
      "BALL\n"
     ]
    },
    {
     "name": "stderr",
     "output_type": "stream",
     "text": [
      "C:\\Users\\CHIN\\AppData\\Local\\Temp/ipykernel_4828/1728708311.py:2: DeprecationWarning: cafile, capath and cadefault are deprecated, use a custom context instead.\n",
      "  response = urlopen(url, cafile=certifi.where())\n"
     ]
    },
    {
     "name": "stdout",
     "output_type": "stream",
     "text": [
      "BAC\n"
     ]
    },
    {
     "name": "stderr",
     "output_type": "stream",
     "text": [
      "C:\\Users\\CHIN\\AppData\\Local\\Temp/ipykernel_4828/1728708311.py:2: DeprecationWarning: cafile, capath and cadefault are deprecated, use a custom context instead.\n",
      "  response = urlopen(url, cafile=certifi.where())\n"
     ]
    },
    {
     "name": "stdout",
     "output_type": "stream",
     "text": [
      "BK\n"
     ]
    },
    {
     "name": "stderr",
     "output_type": "stream",
     "text": [
      "C:\\Users\\CHIN\\AppData\\Local\\Temp/ipykernel_4828/1728708311.py:2: DeprecationWarning: cafile, capath and cadefault are deprecated, use a custom context instead.\n",
      "  response = urlopen(url, cafile=certifi.where())\n"
     ]
    },
    {
     "name": "stdout",
     "output_type": "stream",
     "text": [
      "BBWI\n"
     ]
    },
    {
     "name": "stderr",
     "output_type": "stream",
     "text": [
      "C:\\Users\\CHIN\\AppData\\Local\\Temp/ipykernel_4828/1728708311.py:2: DeprecationWarning: cafile, capath and cadefault are deprecated, use a custom context instead.\n",
      "  response = urlopen(url, cafile=certifi.where())\n"
     ]
    },
    {
     "name": "stdout",
     "output_type": "stream",
     "text": [
      "BAX\n"
     ]
    },
    {
     "name": "stderr",
     "output_type": "stream",
     "text": [
      "C:\\Users\\CHIN\\AppData\\Local\\Temp/ipykernel_4828/1728708311.py:2: DeprecationWarning: cafile, capath and cadefault are deprecated, use a custom context instead.\n",
      "  response = urlopen(url, cafile=certifi.where())\n"
     ]
    },
    {
     "name": "stdout",
     "output_type": "stream",
     "text": [
      "BDX\n"
     ]
    },
    {
     "name": "stderr",
     "output_type": "stream",
     "text": [
      "C:\\Users\\CHIN\\AppData\\Local\\Temp/ipykernel_4828/1728708311.py:2: DeprecationWarning: cafile, capath and cadefault are deprecated, use a custom context instead.\n",
      "  response = urlopen(url, cafile=certifi.where())\n"
     ]
    },
    {
     "name": "stdout",
     "output_type": "stream",
     "text": [
      "BRK.B\n"
     ]
    },
    {
     "name": "stderr",
     "output_type": "stream",
     "text": [
      "C:\\Users\\CHIN\\AppData\\Local\\Temp/ipykernel_4828/1728708311.py:2: DeprecationWarning: cafile, capath and cadefault are deprecated, use a custom context instead.\n",
      "  response = urlopen(url, cafile=certifi.where())\n"
     ]
    },
    {
     "name": "stdout",
     "output_type": "stream",
     "text": [
      "BBY\n",
      "BIO\n"
     ]
    },
    {
     "name": "stderr",
     "output_type": "stream",
     "text": [
      "C:\\Users\\CHIN\\AppData\\Local\\Temp/ipykernel_4828/1728708311.py:2: DeprecationWarning: cafile, capath and cadefault are deprecated, use a custom context instead.\n",
      "  response = urlopen(url, cafile=certifi.where())\n"
     ]
    },
    {
     "name": "stdout",
     "output_type": "stream",
     "text": [
      "TECH\n"
     ]
    },
    {
     "name": "stderr",
     "output_type": "stream",
     "text": [
      "C:\\Users\\CHIN\\AppData\\Local\\Temp/ipykernel_4828/1728708311.py:2: DeprecationWarning: cafile, capath and cadefault are deprecated, use a custom context instead.\n",
      "  response = urlopen(url, cafile=certifi.where())\n"
     ]
    },
    {
     "name": "stdout",
     "output_type": "stream",
     "text": [
      "BIIB\n"
     ]
    },
    {
     "name": "stderr",
     "output_type": "stream",
     "text": [
      "C:\\Users\\CHIN\\AppData\\Local\\Temp/ipykernel_4828/1728708311.py:2: DeprecationWarning: cafile, capath and cadefault are deprecated, use a custom context instead.\n",
      "  response = urlopen(url, cafile=certifi.where())\n"
     ]
    },
    {
     "name": "stdout",
     "output_type": "stream",
     "text": [
      "BLK\n"
     ]
    },
    {
     "name": "stderr",
     "output_type": "stream",
     "text": [
      "C:\\Users\\CHIN\\AppData\\Local\\Temp/ipykernel_4828/1728708311.py:2: DeprecationWarning: cafile, capath and cadefault are deprecated, use a custom context instead.\n",
      "  response = urlopen(url, cafile=certifi.where())\n"
     ]
    },
    {
     "name": "stdout",
     "output_type": "stream",
     "text": [
      "BX\n"
     ]
    },
    {
     "name": "stderr",
     "output_type": "stream",
     "text": [
      "C:\\Users\\CHIN\\AppData\\Local\\Temp/ipykernel_4828/1728708311.py:2: DeprecationWarning: cafile, capath and cadefault are deprecated, use a custom context instead.\n",
      "  response = urlopen(url, cafile=certifi.where())\n"
     ]
    },
    {
     "name": "stdout",
     "output_type": "stream",
     "text": [
      "BA\n"
     ]
    },
    {
     "name": "stderr",
     "output_type": "stream",
     "text": [
      "C:\\Users\\CHIN\\AppData\\Local\\Temp/ipykernel_4828/1728708311.py:2: DeprecationWarning: cafile, capath and cadefault are deprecated, use a custom context instead.\n",
      "  response = urlopen(url, cafile=certifi.where())\n"
     ]
    },
    {
     "name": "stdout",
     "output_type": "stream",
     "text": [
      "BKNG\n"
     ]
    },
    {
     "name": "stderr",
     "output_type": "stream",
     "text": [
      "C:\\Users\\CHIN\\AppData\\Local\\Temp/ipykernel_4828/1728708311.py:2: DeprecationWarning: cafile, capath and cadefault are deprecated, use a custom context instead.\n",
      "  response = urlopen(url, cafile=certifi.where())\n"
     ]
    },
    {
     "name": "stdout",
     "output_type": "stream",
     "text": [
      "BWA\n"
     ]
    },
    {
     "name": "stderr",
     "output_type": "stream",
     "text": [
      "C:\\Users\\CHIN\\AppData\\Local\\Temp/ipykernel_4828/1728708311.py:2: DeprecationWarning: cafile, capath and cadefault are deprecated, use a custom context instead.\n",
      "  response = urlopen(url, cafile=certifi.where())\n"
     ]
    },
    {
     "name": "stdout",
     "output_type": "stream",
     "text": [
      "BXP\n"
     ]
    },
    {
     "name": "stderr",
     "output_type": "stream",
     "text": [
      "C:\\Users\\CHIN\\AppData\\Local\\Temp/ipykernel_4828/1728708311.py:2: DeprecationWarning: cafile, capath and cadefault are deprecated, use a custom context instead.\n",
      "  response = urlopen(url, cafile=certifi.where())\n"
     ]
    },
    {
     "name": "stdout",
     "output_type": "stream",
     "text": [
      "BSX\n"
     ]
    },
    {
     "name": "stderr",
     "output_type": "stream",
     "text": [
      "C:\\Users\\CHIN\\AppData\\Local\\Temp/ipykernel_4828/1728708311.py:2: DeprecationWarning: cafile, capath and cadefault are deprecated, use a custom context instead.\n",
      "  response = urlopen(url, cafile=certifi.where())\n"
     ]
    },
    {
     "name": "stdout",
     "output_type": "stream",
     "text": [
      "BMY\n"
     ]
    },
    {
     "name": "stderr",
     "output_type": "stream",
     "text": [
      "C:\\Users\\CHIN\\AppData\\Local\\Temp/ipykernel_4828/1728708311.py:2: DeprecationWarning: cafile, capath and cadefault are deprecated, use a custom context instead.\n",
      "  response = urlopen(url, cafile=certifi.where())\n"
     ]
    },
    {
     "name": "stdout",
     "output_type": "stream",
     "text": [
      "AVGO\n"
     ]
    },
    {
     "name": "stderr",
     "output_type": "stream",
     "text": [
      "C:\\Users\\CHIN\\AppData\\Local\\Temp/ipykernel_4828/1728708311.py:2: DeprecationWarning: cafile, capath and cadefault are deprecated, use a custom context instead.\n",
      "  response = urlopen(url, cafile=certifi.where())\n"
     ]
    },
    {
     "name": "stdout",
     "output_type": "stream",
     "text": [
      "BR\n"
     ]
    },
    {
     "name": "stderr",
     "output_type": "stream",
     "text": [
      "C:\\Users\\CHIN\\AppData\\Local\\Temp/ipykernel_4828/1728708311.py:2: DeprecationWarning: cafile, capath and cadefault are deprecated, use a custom context instead.\n",
      "  response = urlopen(url, cafile=certifi.where())\n"
     ]
    },
    {
     "name": "stdout",
     "output_type": "stream",
     "text": [
      "BRO\n"
     ]
    },
    {
     "name": "stderr",
     "output_type": "stream",
     "text": [
      "C:\\Users\\CHIN\\AppData\\Local\\Temp/ipykernel_4828/1728708311.py:2: DeprecationWarning: cafile, capath and cadefault are deprecated, use a custom context instead.\n",
      "  response = urlopen(url, cafile=certifi.where())\n"
     ]
    },
    {
     "name": "stdout",
     "output_type": "stream",
     "text": [
      "BF.B\n"
     ]
    },
    {
     "name": "stderr",
     "output_type": "stream",
     "text": [
      "C:\\Users\\CHIN\\AppData\\Local\\Temp/ipykernel_4828/1728708311.py:2: DeprecationWarning: cafile, capath and cadefault are deprecated, use a custom context instead.\n",
      "  response = urlopen(url, cafile=certifi.where())\n"
     ]
    },
    {
     "name": "stdout",
     "output_type": "stream",
     "text": [
      "BG\n",
      "CDNS\n"
     ]
    },
    {
     "name": "stderr",
     "output_type": "stream",
     "text": [
      "C:\\Users\\CHIN\\AppData\\Local\\Temp/ipykernel_4828/1728708311.py:2: DeprecationWarning: cafile, capath and cadefault are deprecated, use a custom context instead.\n",
      "  response = urlopen(url, cafile=certifi.where())\n"
     ]
    },
    {
     "name": "stdout",
     "output_type": "stream",
     "text": [
      "CZR\n"
     ]
    },
    {
     "name": "stderr",
     "output_type": "stream",
     "text": [
      "C:\\Users\\CHIN\\AppData\\Local\\Temp/ipykernel_4828/1728708311.py:2: DeprecationWarning: cafile, capath and cadefault are deprecated, use a custom context instead.\n",
      "  response = urlopen(url, cafile=certifi.where())\n"
     ]
    },
    {
     "name": "stdout",
     "output_type": "stream",
     "text": [
      "CPT\n"
     ]
    },
    {
     "name": "stderr",
     "output_type": "stream",
     "text": [
      "C:\\Users\\CHIN\\AppData\\Local\\Temp/ipykernel_4828/1728708311.py:2: DeprecationWarning: cafile, capath and cadefault are deprecated, use a custom context instead.\n",
      "  response = urlopen(url, cafile=certifi.where())\n"
     ]
    },
    {
     "name": "stdout",
     "output_type": "stream",
     "text": [
      "CPB\n"
     ]
    },
    {
     "name": "stderr",
     "output_type": "stream",
     "text": [
      "C:\\Users\\CHIN\\AppData\\Local\\Temp/ipykernel_4828/1728708311.py:2: DeprecationWarning: cafile, capath and cadefault are deprecated, use a custom context instead.\n",
      "  response = urlopen(url, cafile=certifi.where())\n"
     ]
    },
    {
     "name": "stdout",
     "output_type": "stream",
     "text": [
      "COF\n"
     ]
    },
    {
     "name": "stderr",
     "output_type": "stream",
     "text": [
      "C:\\Users\\CHIN\\AppData\\Local\\Temp/ipykernel_4828/1728708311.py:2: DeprecationWarning: cafile, capath and cadefault are deprecated, use a custom context instead.\n",
      "  response = urlopen(url, cafile=certifi.where())\n"
     ]
    },
    {
     "name": "stdout",
     "output_type": "stream",
     "text": [
      "CAH\n"
     ]
    },
    {
     "name": "stderr",
     "output_type": "stream",
     "text": [
      "C:\\Users\\CHIN\\AppData\\Local\\Temp/ipykernel_4828/1728708311.py:2: DeprecationWarning: cafile, capath and cadefault are deprecated, use a custom context instead.\n",
      "  response = urlopen(url, cafile=certifi.where())\n"
     ]
    },
    {
     "name": "stdout",
     "output_type": "stream",
     "text": [
      "KMX\n"
     ]
    },
    {
     "name": "stderr",
     "output_type": "stream",
     "text": [
      "C:\\Users\\CHIN\\AppData\\Local\\Temp/ipykernel_4828/1728708311.py:2: DeprecationWarning: cafile, capath and cadefault are deprecated, use a custom context instead.\n",
      "  response = urlopen(url, cafile=certifi.where())\n"
     ]
    },
    {
     "name": "stdout",
     "output_type": "stream",
     "text": [
      "CCL\n"
     ]
    },
    {
     "name": "stderr",
     "output_type": "stream",
     "text": [
      "C:\\Users\\CHIN\\AppData\\Local\\Temp/ipykernel_4828/1728708311.py:2: DeprecationWarning: cafile, capath and cadefault are deprecated, use a custom context instead.\n",
      "  response = urlopen(url, cafile=certifi.where())\n"
     ]
    },
    {
     "name": "stdout",
     "output_type": "stream",
     "text": [
      "CARR\n"
     ]
    },
    {
     "name": "stderr",
     "output_type": "stream",
     "text": [
      "C:\\Users\\CHIN\\AppData\\Local\\Temp/ipykernel_4828/1728708311.py:2: DeprecationWarning: cafile, capath and cadefault are deprecated, use a custom context instead.\n",
      "  response = urlopen(url, cafile=certifi.where())\n"
     ]
    },
    {
     "name": "stdout",
     "output_type": "stream",
     "text": [
      "CTLT\n"
     ]
    },
    {
     "name": "stderr",
     "output_type": "stream",
     "text": [
      "C:\\Users\\CHIN\\AppData\\Local\\Temp/ipykernel_4828/1728708311.py:2: DeprecationWarning: cafile, capath and cadefault are deprecated, use a custom context instead.\n",
      "  response = urlopen(url, cafile=certifi.where())\n"
     ]
    },
    {
     "name": "stdout",
     "output_type": "stream",
     "text": [
      "CAT\n"
     ]
    },
    {
     "name": "stderr",
     "output_type": "stream",
     "text": [
      "C:\\Users\\CHIN\\AppData\\Local\\Temp/ipykernel_4828/1728708311.py:2: DeprecationWarning: cafile, capath and cadefault are deprecated, use a custom context instead.\n",
      "  response = urlopen(url, cafile=certifi.where())\n"
     ]
    },
    {
     "name": "stdout",
     "output_type": "stream",
     "text": [
      "CBOE\n"
     ]
    },
    {
     "name": "stderr",
     "output_type": "stream",
     "text": [
      "C:\\Users\\CHIN\\AppData\\Local\\Temp/ipykernel_4828/1728708311.py:2: DeprecationWarning: cafile, capath and cadefault are deprecated, use a custom context instead.\n",
      "  response = urlopen(url, cafile=certifi.where())\n"
     ]
    },
    {
     "name": "stdout",
     "output_type": "stream",
     "text": [
      "CBRE\n"
     ]
    },
    {
     "name": "stderr",
     "output_type": "stream",
     "text": [
      "C:\\Users\\CHIN\\AppData\\Local\\Temp/ipykernel_4828/1728708311.py:2: DeprecationWarning: cafile, capath and cadefault are deprecated, use a custom context instead.\n",
      "  response = urlopen(url, cafile=certifi.where())\n"
     ]
    },
    {
     "name": "stdout",
     "output_type": "stream",
     "text": [
      "CDW\n"
     ]
    },
    {
     "name": "stderr",
     "output_type": "stream",
     "text": [
      "C:\\Users\\CHIN\\AppData\\Local\\Temp/ipykernel_4828/1728708311.py:2: DeprecationWarning: cafile, capath and cadefault are deprecated, use a custom context instead.\n",
      "  response = urlopen(url, cafile=certifi.where())\n"
     ]
    },
    {
     "name": "stdout",
     "output_type": "stream",
     "text": [
      "CE\n"
     ]
    },
    {
     "name": "stderr",
     "output_type": "stream",
     "text": [
      "C:\\Users\\CHIN\\AppData\\Local\\Temp/ipykernel_4828/1728708311.py:2: DeprecationWarning: cafile, capath and cadefault are deprecated, use a custom context instead.\n",
      "  response = urlopen(url, cafile=certifi.where())\n"
     ]
    },
    {
     "name": "stdout",
     "output_type": "stream",
     "text": [
      "COR\n"
     ]
    },
    {
     "name": "stderr",
     "output_type": "stream",
     "text": [
      "C:\\Users\\CHIN\\AppData\\Local\\Temp/ipykernel_4828/1728708311.py:2: DeprecationWarning: cafile, capath and cadefault are deprecated, use a custom context instead.\n",
      "  response = urlopen(url, cafile=certifi.where())\n"
     ]
    },
    {
     "name": "stdout",
     "output_type": "stream",
     "text": [
      "CNC\n"
     ]
    },
    {
     "name": "stderr",
     "output_type": "stream",
     "text": [
      "C:\\Users\\CHIN\\AppData\\Local\\Temp/ipykernel_4828/1728708311.py:2: DeprecationWarning: cafile, capath and cadefault are deprecated, use a custom context instead.\n",
      "  response = urlopen(url, cafile=certifi.where())\n"
     ]
    },
    {
     "name": "stdout",
     "output_type": "stream",
     "text": [
      "CNP\n"
     ]
    },
    {
     "name": "stderr",
     "output_type": "stream",
     "text": [
      "C:\\Users\\CHIN\\AppData\\Local\\Temp/ipykernel_4828/1728708311.py:2: DeprecationWarning: cafile, capath and cadefault are deprecated, use a custom context instead.\n",
      "  response = urlopen(url, cafile=certifi.where())\n"
     ]
    },
    {
     "name": "stdout",
     "output_type": "stream",
     "text": [
      "CDAY\n"
     ]
    },
    {
     "name": "stderr",
     "output_type": "stream",
     "text": [
      "C:\\Users\\CHIN\\AppData\\Local\\Temp/ipykernel_4828/1728708311.py:2: DeprecationWarning: cafile, capath and cadefault are deprecated, use a custom context instead.\n",
      "  response = urlopen(url, cafile=certifi.where())\n"
     ]
    },
    {
     "name": "stdout",
     "output_type": "stream",
     "text": [
      "CF\n"
     ]
    },
    {
     "name": "stderr",
     "output_type": "stream",
     "text": [
      "C:\\Users\\CHIN\\AppData\\Local\\Temp/ipykernel_4828/1728708311.py:2: DeprecationWarning: cafile, capath and cadefault are deprecated, use a custom context instead.\n",
      "  response = urlopen(url, cafile=certifi.where())\n"
     ]
    },
    {
     "name": "stdout",
     "output_type": "stream",
     "text": [
      "CHRW\n"
     ]
    },
    {
     "name": "stderr",
     "output_type": "stream",
     "text": [
      "C:\\Users\\CHIN\\AppData\\Local\\Temp/ipykernel_4828/1728708311.py:2: DeprecationWarning: cafile, capath and cadefault are deprecated, use a custom context instead.\n",
      "  response = urlopen(url, cafile=certifi.where())\n"
     ]
    },
    {
     "name": "stdout",
     "output_type": "stream",
     "text": [
      "CRL\n"
     ]
    },
    {
     "name": "stderr",
     "output_type": "stream",
     "text": [
      "C:\\Users\\CHIN\\AppData\\Local\\Temp/ipykernel_4828/1728708311.py:2: DeprecationWarning: cafile, capath and cadefault are deprecated, use a custom context instead.\n",
      "  response = urlopen(url, cafile=certifi.where())\n"
     ]
    },
    {
     "name": "stdout",
     "output_type": "stream",
     "text": [
      "SCHW\n"
     ]
    },
    {
     "name": "stderr",
     "output_type": "stream",
     "text": [
      "C:\\Users\\CHIN\\AppData\\Local\\Temp/ipykernel_4828/1728708311.py:2: DeprecationWarning: cafile, capath and cadefault are deprecated, use a custom context instead.\n",
      "  response = urlopen(url, cafile=certifi.where())\n"
     ]
    },
    {
     "name": "stdout",
     "output_type": "stream",
     "text": [
      "CHTR\n"
     ]
    },
    {
     "name": "stderr",
     "output_type": "stream",
     "text": [
      "C:\\Users\\CHIN\\AppData\\Local\\Temp/ipykernel_4828/1728708311.py:2: DeprecationWarning: cafile, capath and cadefault are deprecated, use a custom context instead.\n",
      "  response = urlopen(url, cafile=certifi.where())\n"
     ]
    },
    {
     "name": "stdout",
     "output_type": "stream",
     "text": [
      "CVX\n"
     ]
    },
    {
     "name": "stderr",
     "output_type": "stream",
     "text": [
      "C:\\Users\\CHIN\\AppData\\Local\\Temp/ipykernel_4828/1728708311.py:2: DeprecationWarning: cafile, capath and cadefault are deprecated, use a custom context instead.\n",
      "  response = urlopen(url, cafile=certifi.where())\n"
     ]
    },
    {
     "name": "stdout",
     "output_type": "stream",
     "text": [
      "CMG\n"
     ]
    },
    {
     "name": "stderr",
     "output_type": "stream",
     "text": [
      "C:\\Users\\CHIN\\AppData\\Local\\Temp/ipykernel_4828/1728708311.py:2: DeprecationWarning: cafile, capath and cadefault are deprecated, use a custom context instead.\n",
      "  response = urlopen(url, cafile=certifi.where())\n"
     ]
    },
    {
     "name": "stdout",
     "output_type": "stream",
     "text": [
      "CB\n"
     ]
    },
    {
     "name": "stderr",
     "output_type": "stream",
     "text": [
      "C:\\Users\\CHIN\\AppData\\Local\\Temp/ipykernel_4828/1728708311.py:2: DeprecationWarning: cafile, capath and cadefault are deprecated, use a custom context instead.\n",
      "  response = urlopen(url, cafile=certifi.where())\n"
     ]
    },
    {
     "name": "stdout",
     "output_type": "stream",
     "text": [
      "CHD\n"
     ]
    },
    {
     "name": "stderr",
     "output_type": "stream",
     "text": [
      "C:\\Users\\CHIN\\AppData\\Local\\Temp/ipykernel_4828/1728708311.py:2: DeprecationWarning: cafile, capath and cadefault are deprecated, use a custom context instead.\n",
      "  response = urlopen(url, cafile=certifi.where())\n"
     ]
    },
    {
     "name": "stdout",
     "output_type": "stream",
     "text": [
      "CI\n"
     ]
    },
    {
     "name": "stderr",
     "output_type": "stream",
     "text": [
      "C:\\Users\\CHIN\\AppData\\Local\\Temp/ipykernel_4828/1728708311.py:2: DeprecationWarning: cafile, capath and cadefault are deprecated, use a custom context instead.\n",
      "  response = urlopen(url, cafile=certifi.where())\n"
     ]
    },
    {
     "name": "stdout",
     "output_type": "stream",
     "text": [
      "CINF\n"
     ]
    },
    {
     "name": "stderr",
     "output_type": "stream",
     "text": [
      "C:\\Users\\CHIN\\AppData\\Local\\Temp/ipykernel_4828/1728708311.py:2: DeprecationWarning: cafile, capath and cadefault are deprecated, use a custom context instead.\n",
      "  response = urlopen(url, cafile=certifi.where())\n"
     ]
    },
    {
     "name": "stdout",
     "output_type": "stream",
     "text": [
      "CTAS\n"
     ]
    },
    {
     "name": "stderr",
     "output_type": "stream",
     "text": [
      "C:\\Users\\CHIN\\AppData\\Local\\Temp/ipykernel_4828/1728708311.py:2: DeprecationWarning: cafile, capath and cadefault are deprecated, use a custom context instead.\n",
      "  response = urlopen(url, cafile=certifi.where())\n"
     ]
    },
    {
     "name": "stdout",
     "output_type": "stream",
     "text": [
      "CSCO\n"
     ]
    },
    {
     "name": "stderr",
     "output_type": "stream",
     "text": [
      "C:\\Users\\CHIN\\AppData\\Local\\Temp/ipykernel_4828/1728708311.py:2: DeprecationWarning: cafile, capath and cadefault are deprecated, use a custom context instead.\n",
      "  response = urlopen(url, cafile=certifi.where())\n"
     ]
    },
    {
     "name": "stdout",
     "output_type": "stream",
     "text": [
      "C\n"
     ]
    },
    {
     "name": "stderr",
     "output_type": "stream",
     "text": [
      "C:\\Users\\CHIN\\AppData\\Local\\Temp/ipykernel_4828/1728708311.py:2: DeprecationWarning: cafile, capath and cadefault are deprecated, use a custom context instead.\n",
      "  response = urlopen(url, cafile=certifi.where())\n"
     ]
    },
    {
     "name": "stdout",
     "output_type": "stream",
     "text": [
      "CFG\n",
      "CLX\n"
     ]
    },
    {
     "name": "stderr",
     "output_type": "stream",
     "text": [
      "C:\\Users\\CHIN\\AppData\\Local\\Temp/ipykernel_4828/1728708311.py:2: DeprecationWarning: cafile, capath and cadefault are deprecated, use a custom context instead.\n",
      "  response = urlopen(url, cafile=certifi.where())\n"
     ]
    },
    {
     "name": "stdout",
     "output_type": "stream",
     "text": [
      "CME\n"
     ]
    },
    {
     "name": "stderr",
     "output_type": "stream",
     "text": [
      "C:\\Users\\CHIN\\AppData\\Local\\Temp/ipykernel_4828/1728708311.py:2: DeprecationWarning: cafile, capath and cadefault are deprecated, use a custom context instead.\n",
      "  response = urlopen(url, cafile=certifi.where())\n"
     ]
    },
    {
     "name": "stdout",
     "output_type": "stream",
     "text": [
      "CMS\n"
     ]
    },
    {
     "name": "stderr",
     "output_type": "stream",
     "text": [
      "C:\\Users\\CHIN\\AppData\\Local\\Temp/ipykernel_4828/1728708311.py:2: DeprecationWarning: cafile, capath and cadefault are deprecated, use a custom context instead.\n",
      "  response = urlopen(url, cafile=certifi.where())\n"
     ]
    },
    {
     "name": "stdout",
     "output_type": "stream",
     "text": [
      "KO\n"
     ]
    },
    {
     "name": "stderr",
     "output_type": "stream",
     "text": [
      "C:\\Users\\CHIN\\AppData\\Local\\Temp/ipykernel_4828/1728708311.py:2: DeprecationWarning: cafile, capath and cadefault are deprecated, use a custom context instead.\n",
      "  response = urlopen(url, cafile=certifi.where())\n"
     ]
    },
    {
     "name": "stdout",
     "output_type": "stream",
     "text": [
      "CTSH\n"
     ]
    },
    {
     "name": "stderr",
     "output_type": "stream",
     "text": [
      "C:\\Users\\CHIN\\AppData\\Local\\Temp/ipykernel_4828/1728708311.py:2: DeprecationWarning: cafile, capath and cadefault are deprecated, use a custom context instead.\n",
      "  response = urlopen(url, cafile=certifi.where())\n"
     ]
    },
    {
     "name": "stdout",
     "output_type": "stream",
     "text": [
      "CL\n"
     ]
    },
    {
     "name": "stderr",
     "output_type": "stream",
     "text": [
      "C:\\Users\\CHIN\\AppData\\Local\\Temp/ipykernel_4828/1728708311.py:2: DeprecationWarning: cafile, capath and cadefault are deprecated, use a custom context instead.\n",
      "  response = urlopen(url, cafile=certifi.where())\n"
     ]
    },
    {
     "name": "stdout",
     "output_type": "stream",
     "text": [
      "CMCSA\n"
     ]
    },
    {
     "name": "stderr",
     "output_type": "stream",
     "text": [
      "C:\\Users\\CHIN\\AppData\\Local\\Temp/ipykernel_4828/1728708311.py:2: DeprecationWarning: cafile, capath and cadefault are deprecated, use a custom context instead.\n",
      "  response = urlopen(url, cafile=certifi.where())\n"
     ]
    },
    {
     "name": "stdout",
     "output_type": "stream",
     "text": [
      "CMA\n"
     ]
    },
    {
     "name": "stderr",
     "output_type": "stream",
     "text": [
      "C:\\Users\\CHIN\\AppData\\Local\\Temp/ipykernel_4828/1728708311.py:2: DeprecationWarning: cafile, capath and cadefault are deprecated, use a custom context instead.\n",
      "  response = urlopen(url, cafile=certifi.where())\n"
     ]
    },
    {
     "name": "stdout",
     "output_type": "stream",
     "text": [
      "CAG\n"
     ]
    },
    {
     "name": "stderr",
     "output_type": "stream",
     "text": [
      "C:\\Users\\CHIN\\AppData\\Local\\Temp/ipykernel_4828/1728708311.py:2: DeprecationWarning: cafile, capath and cadefault are deprecated, use a custom context instead.\n",
      "  response = urlopen(url, cafile=certifi.where())\n"
     ]
    },
    {
     "name": "stdout",
     "output_type": "stream",
     "text": [
      "COP\n"
     ]
    },
    {
     "name": "stderr",
     "output_type": "stream",
     "text": [
      "C:\\Users\\CHIN\\AppData\\Local\\Temp/ipykernel_4828/1728708311.py:2: DeprecationWarning: cafile, capath and cadefault are deprecated, use a custom context instead.\n",
      "  response = urlopen(url, cafile=certifi.where())\n"
     ]
    },
    {
     "name": "stdout",
     "output_type": "stream",
     "text": [
      "ED\n"
     ]
    },
    {
     "name": "stderr",
     "output_type": "stream",
     "text": [
      "C:\\Users\\CHIN\\AppData\\Local\\Temp/ipykernel_4828/1728708311.py:2: DeprecationWarning: cafile, capath and cadefault are deprecated, use a custom context instead.\n",
      "  response = urlopen(url, cafile=certifi.where())\n"
     ]
    },
    {
     "name": "stdout",
     "output_type": "stream",
     "text": [
      "STZ\n"
     ]
    },
    {
     "name": "stderr",
     "output_type": "stream",
     "text": [
      "C:\\Users\\CHIN\\AppData\\Local\\Temp/ipykernel_4828/1728708311.py:2: DeprecationWarning: cafile, capath and cadefault are deprecated, use a custom context instead.\n",
      "  response = urlopen(url, cafile=certifi.where())\n"
     ]
    },
    {
     "name": "stdout",
     "output_type": "stream",
     "text": [
      "CEG\n"
     ]
    },
    {
     "name": "stderr",
     "output_type": "stream",
     "text": [
      "C:\\Users\\CHIN\\AppData\\Local\\Temp/ipykernel_4828/1728708311.py:2: DeprecationWarning: cafile, capath and cadefault are deprecated, use a custom context instead.\n",
      "  response = urlopen(url, cafile=certifi.where())\n"
     ]
    },
    {
     "name": "stdout",
     "output_type": "stream",
     "text": [
      "COO\n"
     ]
    },
    {
     "name": "stderr",
     "output_type": "stream",
     "text": [
      "C:\\Users\\CHIN\\AppData\\Local\\Temp/ipykernel_4828/1728708311.py:2: DeprecationWarning: cafile, capath and cadefault are deprecated, use a custom context instead.\n",
      "  response = urlopen(url, cafile=certifi.where())\n"
     ]
    },
    {
     "name": "stdout",
     "output_type": "stream",
     "text": [
      "CPRT\n"
     ]
    },
    {
     "name": "stderr",
     "output_type": "stream",
     "text": [
      "C:\\Users\\CHIN\\AppData\\Local\\Temp/ipykernel_4828/1728708311.py:2: DeprecationWarning: cafile, capath and cadefault are deprecated, use a custom context instead.\n",
      "  response = urlopen(url, cafile=certifi.where())\n"
     ]
    },
    {
     "name": "stdout",
     "output_type": "stream",
     "text": [
      "GLW\n"
     ]
    },
    {
     "name": "stderr",
     "output_type": "stream",
     "text": [
      "C:\\Users\\CHIN\\AppData\\Local\\Temp/ipykernel_4828/1728708311.py:2: DeprecationWarning: cafile, capath and cadefault are deprecated, use a custom context instead.\n",
      "  response = urlopen(url, cafile=certifi.where())\n"
     ]
    },
    {
     "name": "stdout",
     "output_type": "stream",
     "text": [
      "CTVA\n"
     ]
    },
    {
     "name": "stderr",
     "output_type": "stream",
     "text": [
      "C:\\Users\\CHIN\\AppData\\Local\\Temp/ipykernel_4828/1728708311.py:2: DeprecationWarning: cafile, capath and cadefault are deprecated, use a custom context instead.\n",
      "  response = urlopen(url, cafile=certifi.where())\n"
     ]
    },
    {
     "name": "stdout",
     "output_type": "stream",
     "text": [
      "CSGP\n"
     ]
    },
    {
     "name": "stderr",
     "output_type": "stream",
     "text": [
      "C:\\Users\\CHIN\\AppData\\Local\\Temp/ipykernel_4828/1728708311.py:2: DeprecationWarning: cafile, capath and cadefault are deprecated, use a custom context instead.\n",
      "  response = urlopen(url, cafile=certifi.where())\n"
     ]
    },
    {
     "name": "stdout",
     "output_type": "stream",
     "text": [
      "COST\n"
     ]
    },
    {
     "name": "stderr",
     "output_type": "stream",
     "text": [
      "C:\\Users\\CHIN\\AppData\\Local\\Temp/ipykernel_4828/1728708311.py:2: DeprecationWarning: cafile, capath and cadefault are deprecated, use a custom context instead.\n",
      "  response = urlopen(url, cafile=certifi.where())\n"
     ]
    },
    {
     "name": "stdout",
     "output_type": "stream",
     "text": [
      "CTRA\n"
     ]
    },
    {
     "name": "stderr",
     "output_type": "stream",
     "text": [
      "C:\\Users\\CHIN\\AppData\\Local\\Temp/ipykernel_4828/1728708311.py:2: DeprecationWarning: cafile, capath and cadefault are deprecated, use a custom context instead.\n",
      "  response = urlopen(url, cafile=certifi.where())\n"
     ]
    },
    {
     "name": "stdout",
     "output_type": "stream",
     "text": [
      "CCI\n"
     ]
    },
    {
     "name": "stderr",
     "output_type": "stream",
     "text": [
      "C:\\Users\\CHIN\\AppData\\Local\\Temp/ipykernel_4828/1728708311.py:2: DeprecationWarning: cafile, capath and cadefault are deprecated, use a custom context instead.\n",
      "  response = urlopen(url, cafile=certifi.where())\n"
     ]
    },
    {
     "name": "stdout",
     "output_type": "stream",
     "text": [
      "CSX\n"
     ]
    },
    {
     "name": "stderr",
     "output_type": "stream",
     "text": [
      "C:\\Users\\CHIN\\AppData\\Local\\Temp/ipykernel_4828/1728708311.py:2: DeprecationWarning: cafile, capath and cadefault are deprecated, use a custom context instead.\n",
      "  response = urlopen(url, cafile=certifi.where())\n"
     ]
    },
    {
     "name": "stdout",
     "output_type": "stream",
     "text": [
      "CMI\n"
     ]
    },
    {
     "name": "stderr",
     "output_type": "stream",
     "text": [
      "C:\\Users\\CHIN\\AppData\\Local\\Temp/ipykernel_4828/1728708311.py:2: DeprecationWarning: cafile, capath and cadefault are deprecated, use a custom context instead.\n",
      "  response = urlopen(url, cafile=certifi.where())\n"
     ]
    },
    {
     "name": "stdout",
     "output_type": "stream",
     "text": [
      "CVS\n"
     ]
    },
    {
     "name": "stderr",
     "output_type": "stream",
     "text": [
      "C:\\Users\\CHIN\\AppData\\Local\\Temp/ipykernel_4828/1728708311.py:2: DeprecationWarning: cafile, capath and cadefault are deprecated, use a custom context instead.\n",
      "  response = urlopen(url, cafile=certifi.where())\n"
     ]
    },
    {
     "name": "stdout",
     "output_type": "stream",
     "text": [
      "DHR\n"
     ]
    },
    {
     "name": "stderr",
     "output_type": "stream",
     "text": [
      "C:\\Users\\CHIN\\AppData\\Local\\Temp/ipykernel_4828/1728708311.py:2: DeprecationWarning: cafile, capath and cadefault are deprecated, use a custom context instead.\n",
      "  response = urlopen(url, cafile=certifi.where())\n"
     ]
    },
    {
     "name": "stdout",
     "output_type": "stream",
     "text": [
      "DRI\n"
     ]
    },
    {
     "name": "stderr",
     "output_type": "stream",
     "text": [
      "C:\\Users\\CHIN\\AppData\\Local\\Temp/ipykernel_4828/1728708311.py:2: DeprecationWarning: cafile, capath and cadefault are deprecated, use a custom context instead.\n",
      "  response = urlopen(url, cafile=certifi.where())\n"
     ]
    },
    {
     "name": "stdout",
     "output_type": "stream",
     "text": [
      "DVA\n"
     ]
    },
    {
     "name": "stderr",
     "output_type": "stream",
     "text": [
      "C:\\Users\\CHIN\\AppData\\Local\\Temp/ipykernel_4828/1728708311.py:2: DeprecationWarning: cafile, capath and cadefault are deprecated, use a custom context instead.\n",
      "  response = urlopen(url, cafile=certifi.where())\n"
     ]
    },
    {
     "name": "stdout",
     "output_type": "stream",
     "text": [
      "DE\n"
     ]
    },
    {
     "name": "stderr",
     "output_type": "stream",
     "text": [
      "C:\\Users\\CHIN\\AppData\\Local\\Temp/ipykernel_4828/1728708311.py:2: DeprecationWarning: cafile, capath and cadefault are deprecated, use a custom context instead.\n",
      "  response = urlopen(url, cafile=certifi.where())\n"
     ]
    },
    {
     "name": "stdout",
     "output_type": "stream",
     "text": [
      "DAL\n"
     ]
    },
    {
     "name": "stderr",
     "output_type": "stream",
     "text": [
      "C:\\Users\\CHIN\\AppData\\Local\\Temp/ipykernel_4828/1728708311.py:2: DeprecationWarning: cafile, capath and cadefault are deprecated, use a custom context instead.\n",
      "  response = urlopen(url, cafile=certifi.where())\n"
     ]
    },
    {
     "name": "stdout",
     "output_type": "stream",
     "text": [
      "XRAY\n"
     ]
    },
    {
     "name": "stderr",
     "output_type": "stream",
     "text": [
      "C:\\Users\\CHIN\\AppData\\Local\\Temp/ipykernel_4828/1728708311.py:2: DeprecationWarning: cafile, capath and cadefault are deprecated, use a custom context instead.\n",
      "  response = urlopen(url, cafile=certifi.where())\n"
     ]
    },
    {
     "name": "stdout",
     "output_type": "stream",
     "text": [
      "DVN\n"
     ]
    },
    {
     "name": "stderr",
     "output_type": "stream",
     "text": [
      "C:\\Users\\CHIN\\AppData\\Local\\Temp/ipykernel_4828/1728708311.py:2: DeprecationWarning: cafile, capath and cadefault are deprecated, use a custom context instead.\n",
      "  response = urlopen(url, cafile=certifi.where())\n"
     ]
    },
    {
     "name": "stdout",
     "output_type": "stream",
     "text": [
      "DXCM\n"
     ]
    },
    {
     "name": "stderr",
     "output_type": "stream",
     "text": [
      "C:\\Users\\CHIN\\AppData\\Local\\Temp/ipykernel_4828/1728708311.py:2: DeprecationWarning: cafile, capath and cadefault are deprecated, use a custom context instead.\n",
      "  response = urlopen(url, cafile=certifi.where())\n"
     ]
    },
    {
     "name": "stdout",
     "output_type": "stream",
     "text": [
      "FANG\n"
     ]
    },
    {
     "name": "stderr",
     "output_type": "stream",
     "text": [
      "C:\\Users\\CHIN\\AppData\\Local\\Temp/ipykernel_4828/1728708311.py:2: DeprecationWarning: cafile, capath and cadefault are deprecated, use a custom context instead.\n",
      "  response = urlopen(url, cafile=certifi.where())\n"
     ]
    },
    {
     "name": "stdout",
     "output_type": "stream",
     "text": [
      "DLR\n"
     ]
    },
    {
     "name": "stderr",
     "output_type": "stream",
     "text": [
      "C:\\Users\\CHIN\\AppData\\Local\\Temp/ipykernel_4828/1728708311.py:2: DeprecationWarning: cafile, capath and cadefault are deprecated, use a custom context instead.\n",
      "  response = urlopen(url, cafile=certifi.where())\n"
     ]
    },
    {
     "name": "stdout",
     "output_type": "stream",
     "text": [
      "DFS\n"
     ]
    },
    {
     "name": "stderr",
     "output_type": "stream",
     "text": [
      "C:\\Users\\CHIN\\AppData\\Local\\Temp/ipykernel_4828/1728708311.py:2: DeprecationWarning: cafile, capath and cadefault are deprecated, use a custom context instead.\n",
      "  response = urlopen(url, cafile=certifi.where())\n"
     ]
    },
    {
     "name": "stdout",
     "output_type": "stream",
     "text": [
      "DG\n"
     ]
    },
    {
     "name": "stderr",
     "output_type": "stream",
     "text": [
      "C:\\Users\\CHIN\\AppData\\Local\\Temp/ipykernel_4828/1728708311.py:2: DeprecationWarning: cafile, capath and cadefault are deprecated, use a custom context instead.\n",
      "  response = urlopen(url, cafile=certifi.where())\n"
     ]
    },
    {
     "name": "stdout",
     "output_type": "stream",
     "text": [
      "DLTR\n"
     ]
    },
    {
     "name": "stderr",
     "output_type": "stream",
     "text": [
      "C:\\Users\\CHIN\\AppData\\Local\\Temp/ipykernel_4828/1728708311.py:2: DeprecationWarning: cafile, capath and cadefault are deprecated, use a custom context instead.\n",
      "  response = urlopen(url, cafile=certifi.where())\n"
     ]
    },
    {
     "name": "stdout",
     "output_type": "stream",
     "text": [
      "D\n"
     ]
    },
    {
     "name": "stderr",
     "output_type": "stream",
     "text": [
      "C:\\Users\\CHIN\\AppData\\Local\\Temp/ipykernel_4828/1728708311.py:2: DeprecationWarning: cafile, capath and cadefault are deprecated, use a custom context instead.\n",
      "  response = urlopen(url, cafile=certifi.where())\n"
     ]
    },
    {
     "name": "stdout",
     "output_type": "stream",
     "text": [
      "DPZ\n"
     ]
    },
    {
     "name": "stderr",
     "output_type": "stream",
     "text": [
      "C:\\Users\\CHIN\\AppData\\Local\\Temp/ipykernel_4828/1728708311.py:2: DeprecationWarning: cafile, capath and cadefault are deprecated, use a custom context instead.\n",
      "  response = urlopen(url, cafile=certifi.where())\n"
     ]
    },
    {
     "name": "stdout",
     "output_type": "stream",
     "text": [
      "DOV\n"
     ]
    },
    {
     "name": "stderr",
     "output_type": "stream",
     "text": [
      "C:\\Users\\CHIN\\AppData\\Local\\Temp/ipykernel_4828/1728708311.py:2: DeprecationWarning: cafile, capath and cadefault are deprecated, use a custom context instead.\n",
      "  response = urlopen(url, cafile=certifi.where())\n"
     ]
    },
    {
     "name": "stdout",
     "output_type": "stream",
     "text": [
      "DOW\n"
     ]
    },
    {
     "name": "stderr",
     "output_type": "stream",
     "text": [
      "C:\\Users\\CHIN\\AppData\\Local\\Temp/ipykernel_4828/1728708311.py:2: DeprecationWarning: cafile, capath and cadefault are deprecated, use a custom context instead.\n",
      "  response = urlopen(url, cafile=certifi.where())\n"
     ]
    },
    {
     "name": "stdout",
     "output_type": "stream",
     "text": [
      "DHI\n"
     ]
    },
    {
     "name": "stderr",
     "output_type": "stream",
     "text": [
      "C:\\Users\\CHIN\\AppData\\Local\\Temp/ipykernel_4828/1728708311.py:2: DeprecationWarning: cafile, capath and cadefault are deprecated, use a custom context instead.\n",
      "  response = urlopen(url, cafile=certifi.where())\n"
     ]
    },
    {
     "name": "stdout",
     "output_type": "stream",
     "text": [
      "DTE\n"
     ]
    },
    {
     "name": "stderr",
     "output_type": "stream",
     "text": [
      "C:\\Users\\CHIN\\AppData\\Local\\Temp/ipykernel_4828/1728708311.py:2: DeprecationWarning: cafile, capath and cadefault are deprecated, use a custom context instead.\n",
      "  response = urlopen(url, cafile=certifi.where())\n"
     ]
    },
    {
     "name": "stdout",
     "output_type": "stream",
     "text": [
      "DUK\n"
     ]
    },
    {
     "name": "stderr",
     "output_type": "stream",
     "text": [
      "C:\\Users\\CHIN\\AppData\\Local\\Temp/ipykernel_4828/1728708311.py:2: DeprecationWarning: cafile, capath and cadefault are deprecated, use a custom context instead.\n",
      "  response = urlopen(url, cafile=certifi.where())\n"
     ]
    },
    {
     "name": "stdout",
     "output_type": "stream",
     "text": [
      "DD\n"
     ]
    },
    {
     "name": "stderr",
     "output_type": "stream",
     "text": [
      "C:\\Users\\CHIN\\AppData\\Local\\Temp/ipykernel_4828/1728708311.py:2: DeprecationWarning: cafile, capath and cadefault are deprecated, use a custom context instead.\n",
      "  response = urlopen(url, cafile=certifi.where())\n"
     ]
    },
    {
     "name": "stdout",
     "output_type": "stream",
     "text": [
      "EMN\n"
     ]
    },
    {
     "name": "stderr",
     "output_type": "stream",
     "text": [
      "C:\\Users\\CHIN\\AppData\\Local\\Temp/ipykernel_4828/1728708311.py:2: DeprecationWarning: cafile, capath and cadefault are deprecated, use a custom context instead.\n",
      "  response = urlopen(url, cafile=certifi.where())\n"
     ]
    },
    {
     "name": "stdout",
     "output_type": "stream",
     "text": [
      "ETN\n"
     ]
    },
    {
     "name": "stderr",
     "output_type": "stream",
     "text": [
      "C:\\Users\\CHIN\\AppData\\Local\\Temp/ipykernel_4828/1728708311.py:2: DeprecationWarning: cafile, capath and cadefault are deprecated, use a custom context instead.\n",
      "  response = urlopen(url, cafile=certifi.where())\n"
     ]
    },
    {
     "name": "stdout",
     "output_type": "stream",
     "text": [
      "EBAY\n"
     ]
    },
    {
     "name": "stderr",
     "output_type": "stream",
     "text": [
      "C:\\Users\\CHIN\\AppData\\Local\\Temp/ipykernel_4828/1728708311.py:2: DeprecationWarning: cafile, capath and cadefault are deprecated, use a custom context instead.\n",
      "  response = urlopen(url, cafile=certifi.where())\n"
     ]
    },
    {
     "name": "stdout",
     "output_type": "stream",
     "text": [
      "ECL\n"
     ]
    },
    {
     "name": "stderr",
     "output_type": "stream",
     "text": [
      "C:\\Users\\CHIN\\AppData\\Local\\Temp/ipykernel_4828/1728708311.py:2: DeprecationWarning: cafile, capath and cadefault are deprecated, use a custom context instead.\n",
      "  response = urlopen(url, cafile=certifi.where())\n"
     ]
    },
    {
     "name": "stdout",
     "output_type": "stream",
     "text": [
      "EIX\n"
     ]
    },
    {
     "name": "stderr",
     "output_type": "stream",
     "text": [
      "C:\\Users\\CHIN\\AppData\\Local\\Temp/ipykernel_4828/1728708311.py:2: DeprecationWarning: cafile, capath and cadefault are deprecated, use a custom context instead.\n",
      "  response = urlopen(url, cafile=certifi.where())\n"
     ]
    },
    {
     "name": "stdout",
     "output_type": "stream",
     "text": [
      "EW\n"
     ]
    },
    {
     "name": "stderr",
     "output_type": "stream",
     "text": [
      "C:\\Users\\CHIN\\AppData\\Local\\Temp/ipykernel_4828/1728708311.py:2: DeprecationWarning: cafile, capath and cadefault are deprecated, use a custom context instead.\n",
      "  response = urlopen(url, cafile=certifi.where())\n"
     ]
    },
    {
     "name": "stdout",
     "output_type": "stream",
     "text": [
      "EA\n"
     ]
    },
    {
     "name": "stderr",
     "output_type": "stream",
     "text": [
      "C:\\Users\\CHIN\\AppData\\Local\\Temp/ipykernel_4828/1728708311.py:2: DeprecationWarning: cafile, capath and cadefault are deprecated, use a custom context instead.\n",
      "  response = urlopen(url, cafile=certifi.where())\n"
     ]
    },
    {
     "name": "stdout",
     "output_type": "stream",
     "text": [
      "ELV\n"
     ]
    },
    {
     "name": "stderr",
     "output_type": "stream",
     "text": [
      "C:\\Users\\CHIN\\AppData\\Local\\Temp/ipykernel_4828/1728708311.py:2: DeprecationWarning: cafile, capath and cadefault are deprecated, use a custom context instead.\n",
      "  response = urlopen(url, cafile=certifi.where())\n"
     ]
    },
    {
     "name": "stdout",
     "output_type": "stream",
     "text": [
      "LLY\n"
     ]
    },
    {
     "name": "stderr",
     "output_type": "stream",
     "text": [
      "C:\\Users\\CHIN\\AppData\\Local\\Temp/ipykernel_4828/1728708311.py:2: DeprecationWarning: cafile, capath and cadefault are deprecated, use a custom context instead.\n",
      "  response = urlopen(url, cafile=certifi.where())\n"
     ]
    },
    {
     "name": "stdout",
     "output_type": "stream",
     "text": [
      "EMR\n"
     ]
    },
    {
     "name": "stderr",
     "output_type": "stream",
     "text": [
      "C:\\Users\\CHIN\\AppData\\Local\\Temp/ipykernel_4828/1728708311.py:2: DeprecationWarning: cafile, capath and cadefault are deprecated, use a custom context instead.\n",
      "  response = urlopen(url, cafile=certifi.where())\n"
     ]
    },
    {
     "name": "stdout",
     "output_type": "stream",
     "text": [
      "ENPH\n"
     ]
    },
    {
     "name": "stderr",
     "output_type": "stream",
     "text": [
      "C:\\Users\\CHIN\\AppData\\Local\\Temp/ipykernel_4828/1728708311.py:2: DeprecationWarning: cafile, capath and cadefault are deprecated, use a custom context instead.\n",
      "  response = urlopen(url, cafile=certifi.where())\n"
     ]
    },
    {
     "name": "stdout",
     "output_type": "stream",
     "text": [
      "ETR\n"
     ]
    },
    {
     "name": "stderr",
     "output_type": "stream",
     "text": [
      "C:\\Users\\CHIN\\AppData\\Local\\Temp/ipykernel_4828/1728708311.py:2: DeprecationWarning: cafile, capath and cadefault are deprecated, use a custom context instead.\n",
      "  response = urlopen(url, cafile=certifi.where())\n"
     ]
    },
    {
     "name": "stdout",
     "output_type": "stream",
     "text": [
      "EOG\n"
     ]
    },
    {
     "name": "stderr",
     "output_type": "stream",
     "text": [
      "C:\\Users\\CHIN\\AppData\\Local\\Temp/ipykernel_4828/1728708311.py:2: DeprecationWarning: cafile, capath and cadefault are deprecated, use a custom context instead.\n",
      "  response = urlopen(url, cafile=certifi.where())\n"
     ]
    },
    {
     "name": "stdout",
     "output_type": "stream",
     "text": [
      "EPAM\n"
     ]
    },
    {
     "name": "stderr",
     "output_type": "stream",
     "text": [
      "C:\\Users\\CHIN\\AppData\\Local\\Temp/ipykernel_4828/1728708311.py:2: DeprecationWarning: cafile, capath and cadefault are deprecated, use a custom context instead.\n",
      "  response = urlopen(url, cafile=certifi.where())\n"
     ]
    },
    {
     "name": "stdout",
     "output_type": "stream",
     "text": [
      "EQT\n"
     ]
    },
    {
     "name": "stderr",
     "output_type": "stream",
     "text": [
      "C:\\Users\\CHIN\\AppData\\Local\\Temp/ipykernel_4828/1728708311.py:2: DeprecationWarning: cafile, capath and cadefault are deprecated, use a custom context instead.\n",
      "  response = urlopen(url, cafile=certifi.where())\n"
     ]
    },
    {
     "name": "stdout",
     "output_type": "stream",
     "text": [
      "EFX\n"
     ]
    },
    {
     "name": "stderr",
     "output_type": "stream",
     "text": [
      "C:\\Users\\CHIN\\AppData\\Local\\Temp/ipykernel_4828/1728708311.py:2: DeprecationWarning: cafile, capath and cadefault are deprecated, use a custom context instead.\n",
      "  response = urlopen(url, cafile=certifi.where())\n"
     ]
    },
    {
     "name": "stdout",
     "output_type": "stream",
     "text": [
      "EQIX\n"
     ]
    },
    {
     "name": "stderr",
     "output_type": "stream",
     "text": [
      "C:\\Users\\CHIN\\AppData\\Local\\Temp/ipykernel_4828/1728708311.py:2: DeprecationWarning: cafile, capath and cadefault are deprecated, use a custom context instead.\n",
      "  response = urlopen(url, cafile=certifi.where())\n"
     ]
    },
    {
     "name": "stdout",
     "output_type": "stream",
     "text": [
      "EQR\n"
     ]
    },
    {
     "name": "stderr",
     "output_type": "stream",
     "text": [
      "C:\\Users\\CHIN\\AppData\\Local\\Temp/ipykernel_4828/1728708311.py:2: DeprecationWarning: cafile, capath and cadefault are deprecated, use a custom context instead.\n",
      "  response = urlopen(url, cafile=certifi.where())\n"
     ]
    },
    {
     "name": "stdout",
     "output_type": "stream",
     "text": [
      "ESS\n"
     ]
    },
    {
     "name": "stderr",
     "output_type": "stream",
     "text": [
      "C:\\Users\\CHIN\\AppData\\Local\\Temp/ipykernel_4828/1728708311.py:2: DeprecationWarning: cafile, capath and cadefault are deprecated, use a custom context instead.\n",
      "  response = urlopen(url, cafile=certifi.where())\n"
     ]
    },
    {
     "name": "stdout",
     "output_type": "stream",
     "text": [
      "EL\n"
     ]
    },
    {
     "name": "stderr",
     "output_type": "stream",
     "text": [
      "C:\\Users\\CHIN\\AppData\\Local\\Temp/ipykernel_4828/1728708311.py:2: DeprecationWarning: cafile, capath and cadefault are deprecated, use a custom context instead.\n",
      "  response = urlopen(url, cafile=certifi.where())\n"
     ]
    },
    {
     "name": "stdout",
     "output_type": "stream",
     "text": [
      "ETSY\n"
     ]
    },
    {
     "name": "stderr",
     "output_type": "stream",
     "text": [
      "C:\\Users\\CHIN\\AppData\\Local\\Temp/ipykernel_4828/1728708311.py:2: DeprecationWarning: cafile, capath and cadefault are deprecated, use a custom context instead.\n",
      "  response = urlopen(url, cafile=certifi.where())\n"
     ]
    },
    {
     "name": "stdout",
     "output_type": "stream",
     "text": [
      "EG\n"
     ]
    },
    {
     "name": "stderr",
     "output_type": "stream",
     "text": [
      "C:\\Users\\CHIN\\AppData\\Local\\Temp/ipykernel_4828/1728708311.py:2: DeprecationWarning: cafile, capath and cadefault are deprecated, use a custom context instead.\n",
      "  response = urlopen(url, cafile=certifi.where())\n"
     ]
    },
    {
     "name": "stdout",
     "output_type": "stream",
     "text": [
      "EVRG\n",
      "ES\n"
     ]
    },
    {
     "name": "stderr",
     "output_type": "stream",
     "text": [
      "C:\\Users\\CHIN\\AppData\\Local\\Temp/ipykernel_4828/1728708311.py:2: DeprecationWarning: cafile, capath and cadefault are deprecated, use a custom context instead.\n",
      "  response = urlopen(url, cafile=certifi.where())\n"
     ]
    },
    {
     "name": "stdout",
     "output_type": "stream",
     "text": [
      "EXC\n"
     ]
    },
    {
     "name": "stderr",
     "output_type": "stream",
     "text": [
      "C:\\Users\\CHIN\\AppData\\Local\\Temp/ipykernel_4828/1728708311.py:2: DeprecationWarning: cafile, capath and cadefault are deprecated, use a custom context instead.\n",
      "  response = urlopen(url, cafile=certifi.where())\n"
     ]
    },
    {
     "name": "stdout",
     "output_type": "stream",
     "text": [
      "EXPE\n"
     ]
    },
    {
     "name": "stderr",
     "output_type": "stream",
     "text": [
      "C:\\Users\\CHIN\\AppData\\Local\\Temp/ipykernel_4828/1728708311.py:2: DeprecationWarning: cafile, capath and cadefault are deprecated, use a custom context instead.\n",
      "  response = urlopen(url, cafile=certifi.where())\n"
     ]
    },
    {
     "name": "stdout",
     "output_type": "stream",
     "text": [
      "EXPD\n"
     ]
    },
    {
     "name": "stderr",
     "output_type": "stream",
     "text": [
      "C:\\Users\\CHIN\\AppData\\Local\\Temp/ipykernel_4828/1728708311.py:2: DeprecationWarning: cafile, capath and cadefault are deprecated, use a custom context instead.\n",
      "  response = urlopen(url, cafile=certifi.where())\n"
     ]
    },
    {
     "name": "stdout",
     "output_type": "stream",
     "text": [
      "EXR\n"
     ]
    },
    {
     "name": "stderr",
     "output_type": "stream",
     "text": [
      "C:\\Users\\CHIN\\AppData\\Local\\Temp/ipykernel_4828/1728708311.py:2: DeprecationWarning: cafile, capath and cadefault are deprecated, use a custom context instead.\n",
      "  response = urlopen(url, cafile=certifi.where())\n"
     ]
    },
    {
     "name": "stdout",
     "output_type": "stream",
     "text": [
      "XOM\n"
     ]
    },
    {
     "name": "stderr",
     "output_type": "stream",
     "text": [
      "C:\\Users\\CHIN\\AppData\\Local\\Temp/ipykernel_4828/1728708311.py:2: DeprecationWarning: cafile, capath and cadefault are deprecated, use a custom context instead.\n",
      "  response = urlopen(url, cafile=certifi.where())\n"
     ]
    },
    {
     "name": "stdout",
     "output_type": "stream",
     "text": [
      "FFIV\n"
     ]
    },
    {
     "name": "stderr",
     "output_type": "stream",
     "text": [
      "C:\\Users\\CHIN\\AppData\\Local\\Temp/ipykernel_4828/1728708311.py:2: DeprecationWarning: cafile, capath and cadefault are deprecated, use a custom context instead.\n",
      "  response = urlopen(url, cafile=certifi.where())\n"
     ]
    },
    {
     "name": "stdout",
     "output_type": "stream",
     "text": [
      "FDS\n"
     ]
    },
    {
     "name": "stderr",
     "output_type": "stream",
     "text": [
      "C:\\Users\\CHIN\\AppData\\Local\\Temp/ipykernel_4828/1728708311.py:2: DeprecationWarning: cafile, capath and cadefault are deprecated, use a custom context instead.\n",
      "  response = urlopen(url, cafile=certifi.where())\n"
     ]
    },
    {
     "name": "stdout",
     "output_type": "stream",
     "text": [
      "FICO\n"
     ]
    },
    {
     "name": "stderr",
     "output_type": "stream",
     "text": [
      "C:\\Users\\CHIN\\AppData\\Local\\Temp/ipykernel_4828/1728708311.py:2: DeprecationWarning: cafile, capath and cadefault are deprecated, use a custom context instead.\n",
      "  response = urlopen(url, cafile=certifi.where())\n"
     ]
    },
    {
     "name": "stdout",
     "output_type": "stream",
     "text": [
      "FAST\n"
     ]
    },
    {
     "name": "stderr",
     "output_type": "stream",
     "text": [
      "C:\\Users\\CHIN\\AppData\\Local\\Temp/ipykernel_4828/1728708311.py:2: DeprecationWarning: cafile, capath and cadefault are deprecated, use a custom context instead.\n",
      "  response = urlopen(url, cafile=certifi.where())\n"
     ]
    },
    {
     "name": "stdout",
     "output_type": "stream",
     "text": [
      "FRT\n"
     ]
    },
    {
     "name": "stderr",
     "output_type": "stream",
     "text": [
      "C:\\Users\\CHIN\\AppData\\Local\\Temp/ipykernel_4828/1728708311.py:2: DeprecationWarning: cafile, capath and cadefault are deprecated, use a custom context instead.\n",
      "  response = urlopen(url, cafile=certifi.where())\n"
     ]
    },
    {
     "name": "stdout",
     "output_type": "stream",
     "text": [
      "FDX\n"
     ]
    },
    {
     "name": "stderr",
     "output_type": "stream",
     "text": [
      "C:\\Users\\CHIN\\AppData\\Local\\Temp/ipykernel_4828/1728708311.py:2: DeprecationWarning: cafile, capath and cadefault are deprecated, use a custom context instead.\n",
      "  response = urlopen(url, cafile=certifi.where())\n"
     ]
    },
    {
     "name": "stdout",
     "output_type": "stream",
     "text": [
      "FIS\n"
     ]
    },
    {
     "name": "stderr",
     "output_type": "stream",
     "text": [
      "C:\\Users\\CHIN\\AppData\\Local\\Temp/ipykernel_4828/1728708311.py:2: DeprecationWarning: cafile, capath and cadefault are deprecated, use a custom context instead.\n",
      "  response = urlopen(url, cafile=certifi.where())\n"
     ]
    },
    {
     "name": "stdout",
     "output_type": "stream",
     "text": [
      "FITB\n"
     ]
    },
    {
     "name": "stderr",
     "output_type": "stream",
     "text": [
      "C:\\Users\\CHIN\\AppData\\Local\\Temp/ipykernel_4828/1728708311.py:2: DeprecationWarning: cafile, capath and cadefault are deprecated, use a custom context instead.\n",
      "  response = urlopen(url, cafile=certifi.where())\n"
     ]
    },
    {
     "name": "stdout",
     "output_type": "stream",
     "text": [
      "FSLR\n"
     ]
    },
    {
     "name": "stderr",
     "output_type": "stream",
     "text": [
      "C:\\Users\\CHIN\\AppData\\Local\\Temp/ipykernel_4828/1728708311.py:2: DeprecationWarning: cafile, capath and cadefault are deprecated, use a custom context instead.\n",
      "  response = urlopen(url, cafile=certifi.where())\n"
     ]
    },
    {
     "name": "stdout",
     "output_type": "stream",
     "text": [
      "FE\n"
     ]
    },
    {
     "name": "stderr",
     "output_type": "stream",
     "text": [
      "C:\\Users\\CHIN\\AppData\\Local\\Temp/ipykernel_4828/1728708311.py:2: DeprecationWarning: cafile, capath and cadefault are deprecated, use a custom context instead.\n",
      "  response = urlopen(url, cafile=certifi.where())\n"
     ]
    },
    {
     "name": "stdout",
     "output_type": "stream",
     "text": [
      "FI\n"
     ]
    },
    {
     "name": "stderr",
     "output_type": "stream",
     "text": [
      "C:\\Users\\CHIN\\AppData\\Local\\Temp/ipykernel_4828/1728708311.py:2: DeprecationWarning: cafile, capath and cadefault are deprecated, use a custom context instead.\n",
      "  response = urlopen(url, cafile=certifi.where())\n"
     ]
    },
    {
     "name": "stdout",
     "output_type": "stream",
     "text": [
      "FLT\n"
     ]
    },
    {
     "name": "stderr",
     "output_type": "stream",
     "text": [
      "C:\\Users\\CHIN\\AppData\\Local\\Temp/ipykernel_4828/1728708311.py:2: DeprecationWarning: cafile, capath and cadefault are deprecated, use a custom context instead.\n",
      "  response = urlopen(url, cafile=certifi.where())\n"
     ]
    },
    {
     "name": "stdout",
     "output_type": "stream",
     "text": [
      "FMC\n"
     ]
    },
    {
     "name": "stderr",
     "output_type": "stream",
     "text": [
      "C:\\Users\\CHIN\\AppData\\Local\\Temp/ipykernel_4828/1728708311.py:2: DeprecationWarning: cafile, capath and cadefault are deprecated, use a custom context instead.\n",
      "  response = urlopen(url, cafile=certifi.where())\n"
     ]
    },
    {
     "name": "stdout",
     "output_type": "stream",
     "text": [
      "F\n"
     ]
    },
    {
     "name": "stderr",
     "output_type": "stream",
     "text": [
      "C:\\Users\\CHIN\\AppData\\Local\\Temp/ipykernel_4828/1728708311.py:2: DeprecationWarning: cafile, capath and cadefault are deprecated, use a custom context instead.\n",
      "  response = urlopen(url, cafile=certifi.where())\n"
     ]
    },
    {
     "name": "stdout",
     "output_type": "stream",
     "text": [
      "FTNT\n"
     ]
    },
    {
     "name": "stderr",
     "output_type": "stream",
     "text": [
      "C:\\Users\\CHIN\\AppData\\Local\\Temp/ipykernel_4828/1728708311.py:2: DeprecationWarning: cafile, capath and cadefault are deprecated, use a custom context instead.\n",
      "  response = urlopen(url, cafile=certifi.where())\n"
     ]
    },
    {
     "name": "stdout",
     "output_type": "stream",
     "text": [
      "FTV\n"
     ]
    },
    {
     "name": "stderr",
     "output_type": "stream",
     "text": [
      "C:\\Users\\CHIN\\AppData\\Local\\Temp/ipykernel_4828/1728708311.py:2: DeprecationWarning: cafile, capath and cadefault are deprecated, use a custom context instead.\n",
      "  response = urlopen(url, cafile=certifi.where())\n"
     ]
    },
    {
     "name": "stdout",
     "output_type": "stream",
     "text": [
      "FOXA\n"
     ]
    },
    {
     "name": "stderr",
     "output_type": "stream",
     "text": [
      "C:\\Users\\CHIN\\AppData\\Local\\Temp/ipykernel_4828/1728708311.py:2: DeprecationWarning: cafile, capath and cadefault are deprecated, use a custom context instead.\n",
      "  response = urlopen(url, cafile=certifi.where())\n"
     ]
    },
    {
     "name": "stdout",
     "output_type": "stream",
     "text": [
      "FOX\n"
     ]
    },
    {
     "name": "stderr",
     "output_type": "stream",
     "text": [
      "C:\\Users\\CHIN\\AppData\\Local\\Temp/ipykernel_4828/1728708311.py:2: DeprecationWarning: cafile, capath and cadefault are deprecated, use a custom context instead.\n",
      "  response = urlopen(url, cafile=certifi.where())\n"
     ]
    },
    {
     "name": "stdout",
     "output_type": "stream",
     "text": [
      "BEN\n"
     ]
    },
    {
     "name": "stderr",
     "output_type": "stream",
     "text": [
      "C:\\Users\\CHIN\\AppData\\Local\\Temp/ipykernel_4828/1728708311.py:2: DeprecationWarning: cafile, capath and cadefault are deprecated, use a custom context instead.\n",
      "  response = urlopen(url, cafile=certifi.where())\n"
     ]
    },
    {
     "name": "stdout",
     "output_type": "stream",
     "text": [
      "FCX\n"
     ]
    },
    {
     "name": "stderr",
     "output_type": "stream",
     "text": [
      "C:\\Users\\CHIN\\AppData\\Local\\Temp/ipykernel_4828/1728708311.py:2: DeprecationWarning: cafile, capath and cadefault are deprecated, use a custom context instead.\n",
      "  response = urlopen(url, cafile=certifi.where())\n"
     ]
    },
    {
     "name": "stdout",
     "output_type": "stream",
     "text": [
      "GRMN\n"
     ]
    },
    {
     "name": "stderr",
     "output_type": "stream",
     "text": [
      "C:\\Users\\CHIN\\AppData\\Local\\Temp/ipykernel_4828/1728708311.py:2: DeprecationWarning: cafile, capath and cadefault are deprecated, use a custom context instead.\n",
      "  response = urlopen(url, cafile=certifi.where())\n"
     ]
    },
    {
     "name": "stdout",
     "output_type": "stream",
     "text": [
      "IT\n"
     ]
    },
    {
     "name": "stderr",
     "output_type": "stream",
     "text": [
      "C:\\Users\\CHIN\\AppData\\Local\\Temp/ipykernel_4828/1728708311.py:2: DeprecationWarning: cafile, capath and cadefault are deprecated, use a custom context instead.\n",
      "  response = urlopen(url, cafile=certifi.where())\n"
     ]
    },
    {
     "name": "stdout",
     "output_type": "stream",
     "text": [
      "GEHC\n"
     ]
    },
    {
     "name": "stderr",
     "output_type": "stream",
     "text": [
      "C:\\Users\\CHIN\\AppData\\Local\\Temp/ipykernel_4828/1728708311.py:2: DeprecationWarning: cafile, capath and cadefault are deprecated, use a custom context instead.\n",
      "  response = urlopen(url, cafile=certifi.where())\n"
     ]
    },
    {
     "name": "stdout",
     "output_type": "stream",
     "text": [
      "GEN\n"
     ]
    },
    {
     "name": "stderr",
     "output_type": "stream",
     "text": [
      "C:\\Users\\CHIN\\AppData\\Local\\Temp/ipykernel_4828/1728708311.py:2: DeprecationWarning: cafile, capath and cadefault are deprecated, use a custom context instead.\n",
      "  response = urlopen(url, cafile=certifi.where())\n"
     ]
    },
    {
     "name": "stdout",
     "output_type": "stream",
     "text": [
      "GNRC\n"
     ]
    },
    {
     "name": "stderr",
     "output_type": "stream",
     "text": [
      "C:\\Users\\CHIN\\AppData\\Local\\Temp/ipykernel_4828/1728708311.py:2: DeprecationWarning: cafile, capath and cadefault are deprecated, use a custom context instead.\n",
      "  response = urlopen(url, cafile=certifi.where())\n"
     ]
    },
    {
     "name": "stdout",
     "output_type": "stream",
     "text": [
      "GD\n"
     ]
    },
    {
     "name": "stderr",
     "output_type": "stream",
     "text": [
      "C:\\Users\\CHIN\\AppData\\Local\\Temp/ipykernel_4828/1728708311.py:2: DeprecationWarning: cafile, capath and cadefault are deprecated, use a custom context instead.\n",
      "  response = urlopen(url, cafile=certifi.where())\n"
     ]
    },
    {
     "name": "stdout",
     "output_type": "stream",
     "text": [
      "GE\n"
     ]
    },
    {
     "name": "stderr",
     "output_type": "stream",
     "text": [
      "C:\\Users\\CHIN\\AppData\\Local\\Temp/ipykernel_4828/1728708311.py:2: DeprecationWarning: cafile, capath and cadefault are deprecated, use a custom context instead.\n",
      "  response = urlopen(url, cafile=certifi.where())\n"
     ]
    },
    {
     "name": "stdout",
     "output_type": "stream",
     "text": [
      "GIS\n"
     ]
    },
    {
     "name": "stderr",
     "output_type": "stream",
     "text": [
      "C:\\Users\\CHIN\\AppData\\Local\\Temp/ipykernel_4828/1728708311.py:2: DeprecationWarning: cafile, capath and cadefault are deprecated, use a custom context instead.\n",
      "  response = urlopen(url, cafile=certifi.where())\n"
     ]
    },
    {
     "name": "stdout",
     "output_type": "stream",
     "text": [
      "GM\n"
     ]
    },
    {
     "name": "stderr",
     "output_type": "stream",
     "text": [
      "C:\\Users\\CHIN\\AppData\\Local\\Temp/ipykernel_4828/1728708311.py:2: DeprecationWarning: cafile, capath and cadefault are deprecated, use a custom context instead.\n",
      "  response = urlopen(url, cafile=certifi.where())\n"
     ]
    },
    {
     "name": "stdout",
     "output_type": "stream",
     "text": [
      "GPC\n"
     ]
    },
    {
     "name": "stderr",
     "output_type": "stream",
     "text": [
      "C:\\Users\\CHIN\\AppData\\Local\\Temp/ipykernel_4828/1728708311.py:2: DeprecationWarning: cafile, capath and cadefault are deprecated, use a custom context instead.\n",
      "  response = urlopen(url, cafile=certifi.where())\n"
     ]
    },
    {
     "name": "stdout",
     "output_type": "stream",
     "text": [
      "GILD\n"
     ]
    },
    {
     "name": "stderr",
     "output_type": "stream",
     "text": [
      "C:\\Users\\CHIN\\AppData\\Local\\Temp/ipykernel_4828/1728708311.py:2: DeprecationWarning: cafile, capath and cadefault are deprecated, use a custom context instead.\n",
      "  response = urlopen(url, cafile=certifi.where())\n"
     ]
    },
    {
     "name": "stdout",
     "output_type": "stream",
     "text": [
      "GPN\n"
     ]
    },
    {
     "name": "stderr",
     "output_type": "stream",
     "text": [
      "C:\\Users\\CHIN\\AppData\\Local\\Temp/ipykernel_4828/1728708311.py:2: DeprecationWarning: cafile, capath and cadefault are deprecated, use a custom context instead.\n",
      "  response = urlopen(url, cafile=certifi.where())\n"
     ]
    },
    {
     "name": "stdout",
     "output_type": "stream",
     "text": [
      "GL\n"
     ]
    },
    {
     "name": "stderr",
     "output_type": "stream",
     "text": [
      "C:\\Users\\CHIN\\AppData\\Local\\Temp/ipykernel_4828/1728708311.py:2: DeprecationWarning: cafile, capath and cadefault are deprecated, use a custom context instead.\n",
      "  response = urlopen(url, cafile=certifi.where())\n"
     ]
    },
    {
     "name": "stdout",
     "output_type": "stream",
     "text": [
      "GS\n"
     ]
    },
    {
     "name": "stderr",
     "output_type": "stream",
     "text": [
      "C:\\Users\\CHIN\\AppData\\Local\\Temp/ipykernel_4828/1728708311.py:2: DeprecationWarning: cafile, capath and cadefault are deprecated, use a custom context instead.\n",
      "  response = urlopen(url, cafile=certifi.where())\n"
     ]
    },
    {
     "name": "stdout",
     "output_type": "stream",
     "text": [
      "HAL\n"
     ]
    },
    {
     "name": "stderr",
     "output_type": "stream",
     "text": [
      "C:\\Users\\CHIN\\AppData\\Local\\Temp/ipykernel_4828/1728708311.py:2: DeprecationWarning: cafile, capath and cadefault are deprecated, use a custom context instead.\n",
      "  response = urlopen(url, cafile=certifi.where())\n"
     ]
    },
    {
     "name": "stdout",
     "output_type": "stream",
     "text": [
      "HIG\n"
     ]
    },
    {
     "name": "stderr",
     "output_type": "stream",
     "text": [
      "C:\\Users\\CHIN\\AppData\\Local\\Temp/ipykernel_4828/1728708311.py:2: DeprecationWarning: cafile, capath and cadefault are deprecated, use a custom context instead.\n",
      "  response = urlopen(url, cafile=certifi.where())\n"
     ]
    },
    {
     "name": "stdout",
     "output_type": "stream",
     "text": [
      "HAS\n"
     ]
    },
    {
     "name": "stderr",
     "output_type": "stream",
     "text": [
      "C:\\Users\\CHIN\\AppData\\Local\\Temp/ipykernel_4828/1728708311.py:2: DeprecationWarning: cafile, capath and cadefault are deprecated, use a custom context instead.\n",
      "  response = urlopen(url, cafile=certifi.where())\n"
     ]
    },
    {
     "name": "stdout",
     "output_type": "stream",
     "text": [
      "HCA\n"
     ]
    },
    {
     "name": "stderr",
     "output_type": "stream",
     "text": [
      "C:\\Users\\CHIN\\AppData\\Local\\Temp/ipykernel_4828/1728708311.py:2: DeprecationWarning: cafile, capath and cadefault are deprecated, use a custom context instead.\n",
      "  response = urlopen(url, cafile=certifi.where())\n"
     ]
    },
    {
     "name": "stdout",
     "output_type": "stream",
     "text": [
      "PEAK\n"
     ]
    },
    {
     "name": "stderr",
     "output_type": "stream",
     "text": [
      "C:\\Users\\CHIN\\AppData\\Local\\Temp/ipykernel_4828/1728708311.py:2: DeprecationWarning: cafile, capath and cadefault are deprecated, use a custom context instead.\n",
      "  response = urlopen(url, cafile=certifi.where())\n"
     ]
    },
    {
     "name": "stdout",
     "output_type": "stream",
     "text": [
      "HSIC\n"
     ]
    },
    {
     "name": "stderr",
     "output_type": "stream",
     "text": [
      "C:\\Users\\CHIN\\AppData\\Local\\Temp/ipykernel_4828/1728708311.py:2: DeprecationWarning: cafile, capath and cadefault are deprecated, use a custom context instead.\n",
      "  response = urlopen(url, cafile=certifi.where())\n"
     ]
    },
    {
     "name": "stdout",
     "output_type": "stream",
     "text": [
      "HSY\n"
     ]
    },
    {
     "name": "stderr",
     "output_type": "stream",
     "text": [
      "C:\\Users\\CHIN\\AppData\\Local\\Temp/ipykernel_4828/1728708311.py:2: DeprecationWarning: cafile, capath and cadefault are deprecated, use a custom context instead.\n",
      "  response = urlopen(url, cafile=certifi.where())\n"
     ]
    },
    {
     "name": "stdout",
     "output_type": "stream",
     "text": [
      "HES\n"
     ]
    },
    {
     "name": "stderr",
     "output_type": "stream",
     "text": [
      "C:\\Users\\CHIN\\AppData\\Local\\Temp/ipykernel_4828/1728708311.py:2: DeprecationWarning: cafile, capath and cadefault are deprecated, use a custom context instead.\n",
      "  response = urlopen(url, cafile=certifi.where())\n"
     ]
    },
    {
     "name": "stdout",
     "output_type": "stream",
     "text": [
      "HPE\n"
     ]
    },
    {
     "name": "stderr",
     "output_type": "stream",
     "text": [
      "C:\\Users\\CHIN\\AppData\\Local\\Temp/ipykernel_4828/1728708311.py:2: DeprecationWarning: cafile, capath and cadefault are deprecated, use a custom context instead.\n",
      "  response = urlopen(url, cafile=certifi.where())\n"
     ]
    },
    {
     "name": "stdout",
     "output_type": "stream",
     "text": [
      "HLT\n"
     ]
    },
    {
     "name": "stderr",
     "output_type": "stream",
     "text": [
      "C:\\Users\\CHIN\\AppData\\Local\\Temp/ipykernel_4828/1728708311.py:2: DeprecationWarning: cafile, capath and cadefault are deprecated, use a custom context instead.\n",
      "  response = urlopen(url, cafile=certifi.where())\n"
     ]
    },
    {
     "name": "stdout",
     "output_type": "stream",
     "text": [
      "HOLX\n"
     ]
    },
    {
     "name": "stderr",
     "output_type": "stream",
     "text": [
      "C:\\Users\\CHIN\\AppData\\Local\\Temp/ipykernel_4828/1728708311.py:2: DeprecationWarning: cafile, capath and cadefault are deprecated, use a custom context instead.\n",
      "  response = urlopen(url, cafile=certifi.where())\n"
     ]
    },
    {
     "name": "stdout",
     "output_type": "stream",
     "text": [
      "HD\n"
     ]
    },
    {
     "name": "stderr",
     "output_type": "stream",
     "text": [
      "C:\\Users\\CHIN\\AppData\\Local\\Temp/ipykernel_4828/1728708311.py:2: DeprecationWarning: cafile, capath and cadefault are deprecated, use a custom context instead.\n",
      "  response = urlopen(url, cafile=certifi.where())\n"
     ]
    },
    {
     "name": "stdout",
     "output_type": "stream",
     "text": [
      "HON\n"
     ]
    },
    {
     "name": "stderr",
     "output_type": "stream",
     "text": [
      "C:\\Users\\CHIN\\AppData\\Local\\Temp/ipykernel_4828/1728708311.py:2: DeprecationWarning: cafile, capath and cadefault are deprecated, use a custom context instead.\n",
      "  response = urlopen(url, cafile=certifi.where())\n"
     ]
    },
    {
     "name": "stdout",
     "output_type": "stream",
     "text": [
      "HRL\n"
     ]
    },
    {
     "name": "stderr",
     "output_type": "stream",
     "text": [
      "C:\\Users\\CHIN\\AppData\\Local\\Temp/ipykernel_4828/1728708311.py:2: DeprecationWarning: cafile, capath and cadefault are deprecated, use a custom context instead.\n",
      "  response = urlopen(url, cafile=certifi.where())\n"
     ]
    },
    {
     "name": "stdout",
     "output_type": "stream",
     "text": [
      "HST\n"
     ]
    },
    {
     "name": "stderr",
     "output_type": "stream",
     "text": [
      "C:\\Users\\CHIN\\AppData\\Local\\Temp/ipykernel_4828/1728708311.py:2: DeprecationWarning: cafile, capath and cadefault are deprecated, use a custom context instead.\n",
      "  response = urlopen(url, cafile=certifi.where())\n"
     ]
    },
    {
     "name": "stdout",
     "output_type": "stream",
     "text": [
      "HWM\n"
     ]
    },
    {
     "name": "stderr",
     "output_type": "stream",
     "text": [
      "C:\\Users\\CHIN\\AppData\\Local\\Temp/ipykernel_4828/1728708311.py:2: DeprecationWarning: cafile, capath and cadefault are deprecated, use a custom context instead.\n",
      "  response = urlopen(url, cafile=certifi.where())\n"
     ]
    },
    {
     "name": "stdout",
     "output_type": "stream",
     "text": [
      "HPQ\n"
     ]
    },
    {
     "name": "stderr",
     "output_type": "stream",
     "text": [
      "C:\\Users\\CHIN\\AppData\\Local\\Temp/ipykernel_4828/1728708311.py:2: DeprecationWarning: cafile, capath and cadefault are deprecated, use a custom context instead.\n",
      "  response = urlopen(url, cafile=certifi.where())\n"
     ]
    },
    {
     "name": "stdout",
     "output_type": "stream",
     "text": [
      "HUBB\n"
     ]
    },
    {
     "name": "stderr",
     "output_type": "stream",
     "text": [
      "C:\\Users\\CHIN\\AppData\\Local\\Temp/ipykernel_4828/1728708311.py:2: DeprecationWarning: cafile, capath and cadefault are deprecated, use a custom context instead.\n",
      "  response = urlopen(url, cafile=certifi.where())\n"
     ]
    },
    {
     "name": "stdout",
     "output_type": "stream",
     "text": [
      "HUM\n"
     ]
    },
    {
     "name": "stderr",
     "output_type": "stream",
     "text": [
      "C:\\Users\\CHIN\\AppData\\Local\\Temp/ipykernel_4828/1728708311.py:2: DeprecationWarning: cafile, capath and cadefault are deprecated, use a custom context instead.\n",
      "  response = urlopen(url, cafile=certifi.where())\n"
     ]
    },
    {
     "name": "stdout",
     "output_type": "stream",
     "text": [
      "HBAN\n"
     ]
    },
    {
     "name": "stderr",
     "output_type": "stream",
     "text": [
      "C:\\Users\\CHIN\\AppData\\Local\\Temp/ipykernel_4828/1728708311.py:2: DeprecationWarning: cafile, capath and cadefault are deprecated, use a custom context instead.\n",
      "  response = urlopen(url, cafile=certifi.where())\n"
     ]
    },
    {
     "name": "stdout",
     "output_type": "stream",
     "text": [
      "HII\n"
     ]
    },
    {
     "name": "stderr",
     "output_type": "stream",
     "text": [
      "C:\\Users\\CHIN\\AppData\\Local\\Temp/ipykernel_4828/1728708311.py:2: DeprecationWarning: cafile, capath and cadefault are deprecated, use a custom context instead.\n",
      "  response = urlopen(url, cafile=certifi.where())\n"
     ]
    },
    {
     "name": "stdout",
     "output_type": "stream",
     "text": [
      "IBM\n"
     ]
    },
    {
     "name": "stderr",
     "output_type": "stream",
     "text": [
      "C:\\Users\\CHIN\\AppData\\Local\\Temp/ipykernel_4828/1728708311.py:2: DeprecationWarning: cafile, capath and cadefault are deprecated, use a custom context instead.\n",
      "  response = urlopen(url, cafile=certifi.where())\n"
     ]
    },
    {
     "name": "stdout",
     "output_type": "stream",
     "text": [
      "IEX\n"
     ]
    },
    {
     "name": "stderr",
     "output_type": "stream",
     "text": [
      "C:\\Users\\CHIN\\AppData\\Local\\Temp/ipykernel_4828/1728708311.py:2: DeprecationWarning: cafile, capath and cadefault are deprecated, use a custom context instead.\n",
      "  response = urlopen(url, cafile=certifi.where())\n"
     ]
    },
    {
     "name": "stdout",
     "output_type": "stream",
     "text": [
      "IDXX\n"
     ]
    },
    {
     "name": "stderr",
     "output_type": "stream",
     "text": [
      "C:\\Users\\CHIN\\AppData\\Local\\Temp/ipykernel_4828/1728708311.py:2: DeprecationWarning: cafile, capath and cadefault are deprecated, use a custom context instead.\n",
      "  response = urlopen(url, cafile=certifi.where())\n"
     ]
    },
    {
     "name": "stdout",
     "output_type": "stream",
     "text": [
      "ITW\n"
     ]
    },
    {
     "name": "stderr",
     "output_type": "stream",
     "text": [
      "C:\\Users\\CHIN\\AppData\\Local\\Temp/ipykernel_4828/1728708311.py:2: DeprecationWarning: cafile, capath and cadefault are deprecated, use a custom context instead.\n",
      "  response = urlopen(url, cafile=certifi.where())\n"
     ]
    },
    {
     "name": "stdout",
     "output_type": "stream",
     "text": [
      "ILMN\n"
     ]
    },
    {
     "name": "stderr",
     "output_type": "stream",
     "text": [
      "C:\\Users\\CHIN\\AppData\\Local\\Temp/ipykernel_4828/1728708311.py:2: DeprecationWarning: cafile, capath and cadefault are deprecated, use a custom context instead.\n",
      "  response = urlopen(url, cafile=certifi.where())\n"
     ]
    },
    {
     "name": "stdout",
     "output_type": "stream",
     "text": [
      "INCY\n"
     ]
    },
    {
     "name": "stderr",
     "output_type": "stream",
     "text": [
      "C:\\Users\\CHIN\\AppData\\Local\\Temp/ipykernel_4828/1728708311.py:2: DeprecationWarning: cafile, capath and cadefault are deprecated, use a custom context instead.\n",
      "  response = urlopen(url, cafile=certifi.where())\n"
     ]
    },
    {
     "name": "stdout",
     "output_type": "stream",
     "text": [
      "IR\n"
     ]
    },
    {
     "name": "stderr",
     "output_type": "stream",
     "text": [
      "C:\\Users\\CHIN\\AppData\\Local\\Temp/ipykernel_4828/1728708311.py:2: DeprecationWarning: cafile, capath and cadefault are deprecated, use a custom context instead.\n",
      "  response = urlopen(url, cafile=certifi.where())\n"
     ]
    },
    {
     "name": "stdout",
     "output_type": "stream",
     "text": [
      "PODD\n"
     ]
    },
    {
     "name": "stderr",
     "output_type": "stream",
     "text": [
      "C:\\Users\\CHIN\\AppData\\Local\\Temp/ipykernel_4828/1728708311.py:2: DeprecationWarning: cafile, capath and cadefault are deprecated, use a custom context instead.\n",
      "  response = urlopen(url, cafile=certifi.where())\n"
     ]
    },
    {
     "name": "stdout",
     "output_type": "stream",
     "text": [
      "INTC\n"
     ]
    },
    {
     "name": "stderr",
     "output_type": "stream",
     "text": [
      "C:\\Users\\CHIN\\AppData\\Local\\Temp/ipykernel_4828/1728708311.py:2: DeprecationWarning: cafile, capath and cadefault are deprecated, use a custom context instead.\n",
      "  response = urlopen(url, cafile=certifi.where())\n"
     ]
    },
    {
     "name": "stdout",
     "output_type": "stream",
     "text": [
      "ICE\n"
     ]
    },
    {
     "name": "stderr",
     "output_type": "stream",
     "text": [
      "C:\\Users\\CHIN\\AppData\\Local\\Temp/ipykernel_4828/1728708311.py:2: DeprecationWarning: cafile, capath and cadefault are deprecated, use a custom context instead.\n",
      "  response = urlopen(url, cafile=certifi.where())\n"
     ]
    },
    {
     "name": "stdout",
     "output_type": "stream",
     "text": [
      "IFF\n"
     ]
    },
    {
     "name": "stderr",
     "output_type": "stream",
     "text": [
      "C:\\Users\\CHIN\\AppData\\Local\\Temp/ipykernel_4828/1728708311.py:2: DeprecationWarning: cafile, capath and cadefault are deprecated, use a custom context instead.\n",
      "  response = urlopen(url, cafile=certifi.where())\n"
     ]
    },
    {
     "name": "stdout",
     "output_type": "stream",
     "text": [
      "IP\n"
     ]
    },
    {
     "name": "stderr",
     "output_type": "stream",
     "text": [
      "C:\\Users\\CHIN\\AppData\\Local\\Temp/ipykernel_4828/1728708311.py:2: DeprecationWarning: cafile, capath and cadefault are deprecated, use a custom context instead.\n",
      "  response = urlopen(url, cafile=certifi.where())\n"
     ]
    },
    {
     "name": "stdout",
     "output_type": "stream",
     "text": [
      "IPG\n"
     ]
    },
    {
     "name": "stderr",
     "output_type": "stream",
     "text": [
      "C:\\Users\\CHIN\\AppData\\Local\\Temp/ipykernel_4828/1728708311.py:2: DeprecationWarning: cafile, capath and cadefault are deprecated, use a custom context instead.\n",
      "  response = urlopen(url, cafile=certifi.where())\n"
     ]
    },
    {
     "name": "stdout",
     "output_type": "stream",
     "text": [
      "INTU\n"
     ]
    },
    {
     "name": "stderr",
     "output_type": "stream",
     "text": [
      "C:\\Users\\CHIN\\AppData\\Local\\Temp/ipykernel_4828/1728708311.py:2: DeprecationWarning: cafile, capath and cadefault are deprecated, use a custom context instead.\n",
      "  response = urlopen(url, cafile=certifi.where())\n"
     ]
    },
    {
     "name": "stdout",
     "output_type": "stream",
     "text": [
      "ISRG\n"
     ]
    },
    {
     "name": "stderr",
     "output_type": "stream",
     "text": [
      "C:\\Users\\CHIN\\AppData\\Local\\Temp/ipykernel_4828/1728708311.py:2: DeprecationWarning: cafile, capath and cadefault are deprecated, use a custom context instead.\n",
      "  response = urlopen(url, cafile=certifi.where())\n"
     ]
    },
    {
     "name": "stdout",
     "output_type": "stream",
     "text": [
      "IVZ\n"
     ]
    },
    {
     "name": "stderr",
     "output_type": "stream",
     "text": [
      "C:\\Users\\CHIN\\AppData\\Local\\Temp/ipykernel_4828/1728708311.py:2: DeprecationWarning: cafile, capath and cadefault are deprecated, use a custom context instead.\n",
      "  response = urlopen(url, cafile=certifi.where())\n"
     ]
    },
    {
     "name": "stdout",
     "output_type": "stream",
     "text": [
      "INVH\n"
     ]
    },
    {
     "name": "stderr",
     "output_type": "stream",
     "text": [
      "C:\\Users\\CHIN\\AppData\\Local\\Temp/ipykernel_4828/1728708311.py:2: DeprecationWarning: cafile, capath and cadefault are deprecated, use a custom context instead.\n",
      "  response = urlopen(url, cafile=certifi.where())\n"
     ]
    },
    {
     "name": "stdout",
     "output_type": "stream",
     "text": [
      "IQV\n"
     ]
    },
    {
     "name": "stderr",
     "output_type": "stream",
     "text": [
      "C:\\Users\\CHIN\\AppData\\Local\\Temp/ipykernel_4828/1728708311.py:2: DeprecationWarning: cafile, capath and cadefault are deprecated, use a custom context instead.\n",
      "  response = urlopen(url, cafile=certifi.where())\n"
     ]
    },
    {
     "name": "stdout",
     "output_type": "stream",
     "text": [
      "IRM\n"
     ]
    },
    {
     "name": "stderr",
     "output_type": "stream",
     "text": [
      "C:\\Users\\CHIN\\AppData\\Local\\Temp/ipykernel_4828/1728708311.py:2: DeprecationWarning: cafile, capath and cadefault are deprecated, use a custom context instead.\n",
      "  response = urlopen(url, cafile=certifi.where())\n"
     ]
    },
    {
     "name": "stdout",
     "output_type": "stream",
     "text": [
      "JBHT\n"
     ]
    },
    {
     "name": "stderr",
     "output_type": "stream",
     "text": [
      "C:\\Users\\CHIN\\AppData\\Local\\Temp/ipykernel_4828/1728708311.py:2: DeprecationWarning: cafile, capath and cadefault are deprecated, use a custom context instead.\n",
      "  response = urlopen(url, cafile=certifi.where())\n"
     ]
    },
    {
     "name": "stdout",
     "output_type": "stream",
     "text": [
      "JKHY\n"
     ]
    },
    {
     "name": "stderr",
     "output_type": "stream",
     "text": [
      "C:\\Users\\CHIN\\AppData\\Local\\Temp/ipykernel_4828/1728708311.py:2: DeprecationWarning: cafile, capath and cadefault are deprecated, use a custom context instead.\n",
      "  response = urlopen(url, cafile=certifi.where())\n"
     ]
    },
    {
     "name": "stdout",
     "output_type": "stream",
     "text": [
      "J\n"
     ]
    },
    {
     "name": "stderr",
     "output_type": "stream",
     "text": [
      "C:\\Users\\CHIN\\AppData\\Local\\Temp/ipykernel_4828/1728708311.py:2: DeprecationWarning: cafile, capath and cadefault are deprecated, use a custom context instead.\n",
      "  response = urlopen(url, cafile=certifi.where())\n"
     ]
    },
    {
     "name": "stdout",
     "output_type": "stream",
     "text": [
      "JNJ\n"
     ]
    },
    {
     "name": "stderr",
     "output_type": "stream",
     "text": [
      "C:\\Users\\CHIN\\AppData\\Local\\Temp/ipykernel_4828/1728708311.py:2: DeprecationWarning: cafile, capath and cadefault are deprecated, use a custom context instead.\n",
      "  response = urlopen(url, cafile=certifi.where())\n"
     ]
    },
    {
     "name": "stdout",
     "output_type": "stream",
     "text": [
      "JCI\n"
     ]
    },
    {
     "name": "stderr",
     "output_type": "stream",
     "text": [
      "C:\\Users\\CHIN\\AppData\\Local\\Temp/ipykernel_4828/1728708311.py:2: DeprecationWarning: cafile, capath and cadefault are deprecated, use a custom context instead.\n",
      "  response = urlopen(url, cafile=certifi.where())\n"
     ]
    },
    {
     "name": "stdout",
     "output_type": "stream",
     "text": [
      "JPM\n"
     ]
    },
    {
     "name": "stderr",
     "output_type": "stream",
     "text": [
      "C:\\Users\\CHIN\\AppData\\Local\\Temp/ipykernel_4828/1728708311.py:2: DeprecationWarning: cafile, capath and cadefault are deprecated, use a custom context instead.\n",
      "  response = urlopen(url, cafile=certifi.where())\n"
     ]
    },
    {
     "name": "stdout",
     "output_type": "stream",
     "text": [
      "JNPR\n"
     ]
    },
    {
     "name": "stderr",
     "output_type": "stream",
     "text": [
      "C:\\Users\\CHIN\\AppData\\Local\\Temp/ipykernel_4828/1728708311.py:2: DeprecationWarning: cafile, capath and cadefault are deprecated, use a custom context instead.\n",
      "  response = urlopen(url, cafile=certifi.where())\n"
     ]
    },
    {
     "name": "stdout",
     "output_type": "stream",
     "text": [
      "K\n"
     ]
    },
    {
     "name": "stderr",
     "output_type": "stream",
     "text": [
      "C:\\Users\\CHIN\\AppData\\Local\\Temp/ipykernel_4828/1728708311.py:2: DeprecationWarning: cafile, capath and cadefault are deprecated, use a custom context instead.\n",
      "  response = urlopen(url, cafile=certifi.where())\n"
     ]
    },
    {
     "name": "stdout",
     "output_type": "stream",
     "text": [
      "KVUE\n"
     ]
    },
    {
     "name": "stderr",
     "output_type": "stream",
     "text": [
      "C:\\Users\\CHIN\\AppData\\Local\\Temp/ipykernel_4828/1728708311.py:2: DeprecationWarning: cafile, capath and cadefault are deprecated, use a custom context instead.\n",
      "  response = urlopen(url, cafile=certifi.where())\n"
     ]
    },
    {
     "name": "stdout",
     "output_type": "stream",
     "text": [
      "KDP\n",
      "KEY\n"
     ]
    },
    {
     "name": "stderr",
     "output_type": "stream",
     "text": [
      "C:\\Users\\CHIN\\AppData\\Local\\Temp/ipykernel_4828/1728708311.py:2: DeprecationWarning: cafile, capath and cadefault are deprecated, use a custom context instead.\n",
      "  response = urlopen(url, cafile=certifi.where())\n"
     ]
    },
    {
     "name": "stdout",
     "output_type": "stream",
     "text": [
      "KEYS\n"
     ]
    },
    {
     "name": "stderr",
     "output_type": "stream",
     "text": [
      "C:\\Users\\CHIN\\AppData\\Local\\Temp/ipykernel_4828/1728708311.py:2: DeprecationWarning: cafile, capath and cadefault are deprecated, use a custom context instead.\n",
      "  response = urlopen(url, cafile=certifi.where())\n"
     ]
    },
    {
     "name": "stdout",
     "output_type": "stream",
     "text": [
      "KMB\n"
     ]
    },
    {
     "name": "stderr",
     "output_type": "stream",
     "text": [
      "C:\\Users\\CHIN\\AppData\\Local\\Temp/ipykernel_4828/1728708311.py:2: DeprecationWarning: cafile, capath and cadefault are deprecated, use a custom context instead.\n",
      "  response = urlopen(url, cafile=certifi.where())\n"
     ]
    },
    {
     "name": "stdout",
     "output_type": "stream",
     "text": [
      "KIM\n"
     ]
    },
    {
     "name": "stderr",
     "output_type": "stream",
     "text": [
      "C:\\Users\\CHIN\\AppData\\Local\\Temp/ipykernel_4828/1728708311.py:2: DeprecationWarning: cafile, capath and cadefault are deprecated, use a custom context instead.\n",
      "  response = urlopen(url, cafile=certifi.where())\n"
     ]
    },
    {
     "name": "stdout",
     "output_type": "stream",
     "text": [
      "KMI\n"
     ]
    },
    {
     "name": "stderr",
     "output_type": "stream",
     "text": [
      "C:\\Users\\CHIN\\AppData\\Local\\Temp/ipykernel_4828/1728708311.py:2: DeprecationWarning: cafile, capath and cadefault are deprecated, use a custom context instead.\n",
      "  response = urlopen(url, cafile=certifi.where())\n"
     ]
    },
    {
     "name": "stdout",
     "output_type": "stream",
     "text": [
      "KLAC\n"
     ]
    },
    {
     "name": "stderr",
     "output_type": "stream",
     "text": [
      "C:\\Users\\CHIN\\AppData\\Local\\Temp/ipykernel_4828/1728708311.py:2: DeprecationWarning: cafile, capath and cadefault are deprecated, use a custom context instead.\n",
      "  response = urlopen(url, cafile=certifi.where())\n"
     ]
    },
    {
     "name": "stdout",
     "output_type": "stream",
     "text": [
      "KHC\n"
     ]
    },
    {
     "name": "stderr",
     "output_type": "stream",
     "text": [
      "C:\\Users\\CHIN\\AppData\\Local\\Temp/ipykernel_4828/1728708311.py:2: DeprecationWarning: cafile, capath and cadefault are deprecated, use a custom context instead.\n",
      "  response = urlopen(url, cafile=certifi.where())\n"
     ]
    },
    {
     "name": "stdout",
     "output_type": "stream",
     "text": [
      "KR\n"
     ]
    },
    {
     "name": "stderr",
     "output_type": "stream",
     "text": [
      "C:\\Users\\CHIN\\AppData\\Local\\Temp/ipykernel_4828/1728708311.py:2: DeprecationWarning: cafile, capath and cadefault are deprecated, use a custom context instead.\n",
      "  response = urlopen(url, cafile=certifi.where())\n"
     ]
    },
    {
     "name": "stdout",
     "output_type": "stream",
     "text": [
      "LHX\n"
     ]
    },
    {
     "name": "stderr",
     "output_type": "stream",
     "text": [
      "C:\\Users\\CHIN\\AppData\\Local\\Temp/ipykernel_4828/1728708311.py:2: DeprecationWarning: cafile, capath and cadefault are deprecated, use a custom context instead.\n",
      "  response = urlopen(url, cafile=certifi.where())\n"
     ]
    },
    {
     "name": "stdout",
     "output_type": "stream",
     "text": [
      "LH\n"
     ]
    },
    {
     "name": "stderr",
     "output_type": "stream",
     "text": [
      "C:\\Users\\CHIN\\AppData\\Local\\Temp/ipykernel_4828/1728708311.py:2: DeprecationWarning: cafile, capath and cadefault are deprecated, use a custom context instead.\n",
      "  response = urlopen(url, cafile=certifi.where())\n"
     ]
    },
    {
     "name": "stdout",
     "output_type": "stream",
     "text": [
      "LRCX\n"
     ]
    },
    {
     "name": "stderr",
     "output_type": "stream",
     "text": [
      "C:\\Users\\CHIN\\AppData\\Local\\Temp/ipykernel_4828/1728708311.py:2: DeprecationWarning: cafile, capath and cadefault are deprecated, use a custom context instead.\n",
      "  response = urlopen(url, cafile=certifi.where())\n"
     ]
    },
    {
     "name": "stdout",
     "output_type": "stream",
     "text": [
      "LW\n"
     ]
    },
    {
     "name": "stderr",
     "output_type": "stream",
     "text": [
      "C:\\Users\\CHIN\\AppData\\Local\\Temp/ipykernel_4828/1728708311.py:2: DeprecationWarning: cafile, capath and cadefault are deprecated, use a custom context instead.\n",
      "  response = urlopen(url, cafile=certifi.where())\n"
     ]
    },
    {
     "name": "stdout",
     "output_type": "stream",
     "text": [
      "LVS\n"
     ]
    },
    {
     "name": "stderr",
     "output_type": "stream",
     "text": [
      "C:\\Users\\CHIN\\AppData\\Local\\Temp/ipykernel_4828/1728708311.py:2: DeprecationWarning: cafile, capath and cadefault are deprecated, use a custom context instead.\n",
      "  response = urlopen(url, cafile=certifi.where())\n"
     ]
    },
    {
     "name": "stdout",
     "output_type": "stream",
     "text": [
      "LDOS\n"
     ]
    },
    {
     "name": "stderr",
     "output_type": "stream",
     "text": [
      "C:\\Users\\CHIN\\AppData\\Local\\Temp/ipykernel_4828/1728708311.py:2: DeprecationWarning: cafile, capath and cadefault are deprecated, use a custom context instead.\n",
      "  response = urlopen(url, cafile=certifi.where())\n"
     ]
    },
    {
     "name": "stdout",
     "output_type": "stream",
     "text": [
      "LEN\n"
     ]
    },
    {
     "name": "stderr",
     "output_type": "stream",
     "text": [
      "C:\\Users\\CHIN\\AppData\\Local\\Temp/ipykernel_4828/1728708311.py:2: DeprecationWarning: cafile, capath and cadefault are deprecated, use a custom context instead.\n",
      "  response = urlopen(url, cafile=certifi.where())\n"
     ]
    },
    {
     "name": "stdout",
     "output_type": "stream",
     "text": [
      "LIN\n"
     ]
    },
    {
     "name": "stderr",
     "output_type": "stream",
     "text": [
      "C:\\Users\\CHIN\\AppData\\Local\\Temp/ipykernel_4828/1728708311.py:2: DeprecationWarning: cafile, capath and cadefault are deprecated, use a custom context instead.\n",
      "  response = urlopen(url, cafile=certifi.where())\n"
     ]
    },
    {
     "name": "stdout",
     "output_type": "stream",
     "text": [
      "LYV\n"
     ]
    },
    {
     "name": "stderr",
     "output_type": "stream",
     "text": [
      "C:\\Users\\CHIN\\AppData\\Local\\Temp/ipykernel_4828/1728708311.py:2: DeprecationWarning: cafile, capath and cadefault are deprecated, use a custom context instead.\n",
      "  response = urlopen(url, cafile=certifi.where())\n"
     ]
    },
    {
     "name": "stdout",
     "output_type": "stream",
     "text": [
      "LKQ\n"
     ]
    },
    {
     "name": "stderr",
     "output_type": "stream",
     "text": [
      "C:\\Users\\CHIN\\AppData\\Local\\Temp/ipykernel_4828/1728708311.py:2: DeprecationWarning: cafile, capath and cadefault are deprecated, use a custom context instead.\n",
      "  response = urlopen(url, cafile=certifi.where())\n"
     ]
    },
    {
     "name": "stdout",
     "output_type": "stream",
     "text": [
      "LMT\n"
     ]
    },
    {
     "name": "stderr",
     "output_type": "stream",
     "text": [
      "C:\\Users\\CHIN\\AppData\\Local\\Temp/ipykernel_4828/1728708311.py:2: DeprecationWarning: cafile, capath and cadefault are deprecated, use a custom context instead.\n",
      "  response = urlopen(url, cafile=certifi.where())\n"
     ]
    },
    {
     "name": "stdout",
     "output_type": "stream",
     "text": [
      "L\n"
     ]
    },
    {
     "name": "stderr",
     "output_type": "stream",
     "text": [
      "C:\\Users\\CHIN\\AppData\\Local\\Temp/ipykernel_4828/1728708311.py:2: DeprecationWarning: cafile, capath and cadefault are deprecated, use a custom context instead.\n",
      "  response = urlopen(url, cafile=certifi.where())\n"
     ]
    },
    {
     "name": "stdout",
     "output_type": "stream",
     "text": [
      "LOW\n"
     ]
    },
    {
     "name": "stderr",
     "output_type": "stream",
     "text": [
      "C:\\Users\\CHIN\\AppData\\Local\\Temp/ipykernel_4828/1728708311.py:2: DeprecationWarning: cafile, capath and cadefault are deprecated, use a custom context instead.\n",
      "  response = urlopen(url, cafile=certifi.where())\n"
     ]
    },
    {
     "name": "stdout",
     "output_type": "stream",
     "text": [
      "LULU\n"
     ]
    },
    {
     "name": "stderr",
     "output_type": "stream",
     "text": [
      "C:\\Users\\CHIN\\AppData\\Local\\Temp/ipykernel_4828/1728708311.py:2: DeprecationWarning: cafile, capath and cadefault are deprecated, use a custom context instead.\n",
      "  response = urlopen(url, cafile=certifi.where())\n"
     ]
    },
    {
     "name": "stdout",
     "output_type": "stream",
     "text": [
      "LYB\n"
     ]
    },
    {
     "name": "stderr",
     "output_type": "stream",
     "text": [
      "C:\\Users\\CHIN\\AppData\\Local\\Temp/ipykernel_4828/1728708311.py:2: DeprecationWarning: cafile, capath and cadefault are deprecated, use a custom context instead.\n",
      "  response = urlopen(url, cafile=certifi.where())\n"
     ]
    },
    {
     "name": "stdout",
     "output_type": "stream",
     "text": [
      "MTB\n"
     ]
    },
    {
     "name": "stderr",
     "output_type": "stream",
     "text": [
      "C:\\Users\\CHIN\\AppData\\Local\\Temp/ipykernel_4828/1728708311.py:2: DeprecationWarning: cafile, capath and cadefault are deprecated, use a custom context instead.\n",
      "  response = urlopen(url, cafile=certifi.where())\n"
     ]
    },
    {
     "name": "stdout",
     "output_type": "stream",
     "text": [
      "MRO\n"
     ]
    },
    {
     "name": "stderr",
     "output_type": "stream",
     "text": [
      "C:\\Users\\CHIN\\AppData\\Local\\Temp/ipykernel_4828/1728708311.py:2: DeprecationWarning: cafile, capath and cadefault are deprecated, use a custom context instead.\n",
      "  response = urlopen(url, cafile=certifi.where())\n"
     ]
    },
    {
     "name": "stdout",
     "output_type": "stream",
     "text": [
      "MPC\n"
     ]
    },
    {
     "name": "stderr",
     "output_type": "stream",
     "text": [
      "C:\\Users\\CHIN\\AppData\\Local\\Temp/ipykernel_4828/1728708311.py:2: DeprecationWarning: cafile, capath and cadefault are deprecated, use a custom context instead.\n",
      "  response = urlopen(url, cafile=certifi.where())\n"
     ]
    },
    {
     "name": "stdout",
     "output_type": "stream",
     "text": [
      "MKTX\n"
     ]
    },
    {
     "name": "stderr",
     "output_type": "stream",
     "text": [
      "C:\\Users\\CHIN\\AppData\\Local\\Temp/ipykernel_4828/1728708311.py:2: DeprecationWarning: cafile, capath and cadefault are deprecated, use a custom context instead.\n",
      "  response = urlopen(url, cafile=certifi.where())\n"
     ]
    },
    {
     "name": "stdout",
     "output_type": "stream",
     "text": [
      "MAR\n"
     ]
    },
    {
     "name": "stderr",
     "output_type": "stream",
     "text": [
      "C:\\Users\\CHIN\\AppData\\Local\\Temp/ipykernel_4828/1728708311.py:2: DeprecationWarning: cafile, capath and cadefault are deprecated, use a custom context instead.\n",
      "  response = urlopen(url, cafile=certifi.where())\n"
     ]
    },
    {
     "name": "stdout",
     "output_type": "stream",
     "text": [
      "MMC\n"
     ]
    },
    {
     "name": "stderr",
     "output_type": "stream",
     "text": [
      "C:\\Users\\CHIN\\AppData\\Local\\Temp/ipykernel_4828/1728708311.py:2: DeprecationWarning: cafile, capath and cadefault are deprecated, use a custom context instead.\n",
      "  response = urlopen(url, cafile=certifi.where())\n"
     ]
    },
    {
     "name": "stdout",
     "output_type": "stream",
     "text": [
      "MLM\n"
     ]
    },
    {
     "name": "stderr",
     "output_type": "stream",
     "text": [
      "C:\\Users\\CHIN\\AppData\\Local\\Temp/ipykernel_4828/1728708311.py:2: DeprecationWarning: cafile, capath and cadefault are deprecated, use a custom context instead.\n",
      "  response = urlopen(url, cafile=certifi.where())\n"
     ]
    },
    {
     "name": "stdout",
     "output_type": "stream",
     "text": [
      "MAS\n"
     ]
    },
    {
     "name": "stderr",
     "output_type": "stream",
     "text": [
      "C:\\Users\\CHIN\\AppData\\Local\\Temp/ipykernel_4828/1728708311.py:2: DeprecationWarning: cafile, capath and cadefault are deprecated, use a custom context instead.\n",
      "  response = urlopen(url, cafile=certifi.where())\n"
     ]
    },
    {
     "name": "stdout",
     "output_type": "stream",
     "text": [
      "MA\n"
     ]
    },
    {
     "name": "stderr",
     "output_type": "stream",
     "text": [
      "C:\\Users\\CHIN\\AppData\\Local\\Temp/ipykernel_4828/1728708311.py:2: DeprecationWarning: cafile, capath and cadefault are deprecated, use a custom context instead.\n",
      "  response = urlopen(url, cafile=certifi.where())\n"
     ]
    },
    {
     "name": "stdout",
     "output_type": "stream",
     "text": [
      "MTCH\n"
     ]
    },
    {
     "name": "stderr",
     "output_type": "stream",
     "text": [
      "C:\\Users\\CHIN\\AppData\\Local\\Temp/ipykernel_4828/1728708311.py:2: DeprecationWarning: cafile, capath and cadefault are deprecated, use a custom context instead.\n",
      "  response = urlopen(url, cafile=certifi.where())\n"
     ]
    },
    {
     "name": "stdout",
     "output_type": "stream",
     "text": [
      "MKC\n"
     ]
    },
    {
     "name": "stderr",
     "output_type": "stream",
     "text": [
      "C:\\Users\\CHIN\\AppData\\Local\\Temp/ipykernel_4828/1728708311.py:2: DeprecationWarning: cafile, capath and cadefault are deprecated, use a custom context instead.\n",
      "  response = urlopen(url, cafile=certifi.where())\n"
     ]
    },
    {
     "name": "stdout",
     "output_type": "stream",
     "text": [
      "MCD\n"
     ]
    },
    {
     "name": "stderr",
     "output_type": "stream",
     "text": [
      "C:\\Users\\CHIN\\AppData\\Local\\Temp/ipykernel_4828/1728708311.py:2: DeprecationWarning: cafile, capath and cadefault are deprecated, use a custom context instead.\n",
      "  response = urlopen(url, cafile=certifi.where())\n"
     ]
    },
    {
     "name": "stdout",
     "output_type": "stream",
     "text": [
      "MCK\n"
     ]
    },
    {
     "name": "stderr",
     "output_type": "stream",
     "text": [
      "C:\\Users\\CHIN\\AppData\\Local\\Temp/ipykernel_4828/1728708311.py:2: DeprecationWarning: cafile, capath and cadefault are deprecated, use a custom context instead.\n",
      "  response = urlopen(url, cafile=certifi.where())\n"
     ]
    },
    {
     "name": "stdout",
     "output_type": "stream",
     "text": [
      "MDT\n"
     ]
    },
    {
     "name": "stderr",
     "output_type": "stream",
     "text": [
      "C:\\Users\\CHIN\\AppData\\Local\\Temp/ipykernel_4828/1728708311.py:2: DeprecationWarning: cafile, capath and cadefault are deprecated, use a custom context instead.\n",
      "  response = urlopen(url, cafile=certifi.where())\n"
     ]
    },
    {
     "name": "stdout",
     "output_type": "stream",
     "text": [
      "MRK\n"
     ]
    },
    {
     "name": "stderr",
     "output_type": "stream",
     "text": [
      "C:\\Users\\CHIN\\AppData\\Local\\Temp/ipykernel_4828/1728708311.py:2: DeprecationWarning: cafile, capath and cadefault are deprecated, use a custom context instead.\n",
      "  response = urlopen(url, cafile=certifi.where())\n"
     ]
    },
    {
     "name": "stdout",
     "output_type": "stream",
     "text": [
      "META\n"
     ]
    },
    {
     "name": "stderr",
     "output_type": "stream",
     "text": [
      "C:\\Users\\CHIN\\AppData\\Local\\Temp/ipykernel_4828/1728708311.py:2: DeprecationWarning: cafile, capath and cadefault are deprecated, use a custom context instead.\n",
      "  response = urlopen(url, cafile=certifi.where())\n"
     ]
    },
    {
     "name": "stdout",
     "output_type": "stream",
     "text": [
      "MET\n"
     ]
    },
    {
     "name": "stderr",
     "output_type": "stream",
     "text": [
      "C:\\Users\\CHIN\\AppData\\Local\\Temp/ipykernel_4828/1728708311.py:2: DeprecationWarning: cafile, capath and cadefault are deprecated, use a custom context instead.\n",
      "  response = urlopen(url, cafile=certifi.where())\n"
     ]
    },
    {
     "name": "stdout",
     "output_type": "stream",
     "text": [
      "MTD\n"
     ]
    },
    {
     "name": "stderr",
     "output_type": "stream",
     "text": [
      "C:\\Users\\CHIN\\AppData\\Local\\Temp/ipykernel_4828/1728708311.py:2: DeprecationWarning: cafile, capath and cadefault are deprecated, use a custom context instead.\n",
      "  response = urlopen(url, cafile=certifi.where())\n"
     ]
    },
    {
     "name": "stdout",
     "output_type": "stream",
     "text": [
      "MGM\n"
     ]
    },
    {
     "name": "stderr",
     "output_type": "stream",
     "text": [
      "C:\\Users\\CHIN\\AppData\\Local\\Temp/ipykernel_4828/1728708311.py:2: DeprecationWarning: cafile, capath and cadefault are deprecated, use a custom context instead.\n",
      "  response = urlopen(url, cafile=certifi.where())\n"
     ]
    },
    {
     "name": "stdout",
     "output_type": "stream",
     "text": [
      "MCHP\n"
     ]
    },
    {
     "name": "stderr",
     "output_type": "stream",
     "text": [
      "C:\\Users\\CHIN\\AppData\\Local\\Temp/ipykernel_4828/1728708311.py:2: DeprecationWarning: cafile, capath and cadefault are deprecated, use a custom context instead.\n",
      "  response = urlopen(url, cafile=certifi.where())\n"
     ]
    },
    {
     "name": "stdout",
     "output_type": "stream",
     "text": [
      "MU\n"
     ]
    },
    {
     "name": "stderr",
     "output_type": "stream",
     "text": [
      "C:\\Users\\CHIN\\AppData\\Local\\Temp/ipykernel_4828/1728708311.py:2: DeprecationWarning: cafile, capath and cadefault are deprecated, use a custom context instead.\n",
      "  response = urlopen(url, cafile=certifi.where())\n"
     ]
    },
    {
     "name": "stdout",
     "output_type": "stream",
     "text": [
      "MSFT\n"
     ]
    },
    {
     "name": "stderr",
     "output_type": "stream",
     "text": [
      "C:\\Users\\CHIN\\AppData\\Local\\Temp/ipykernel_4828/1728708311.py:2: DeprecationWarning: cafile, capath and cadefault are deprecated, use a custom context instead.\n",
      "  response = urlopen(url, cafile=certifi.where())\n"
     ]
    },
    {
     "name": "stdout",
     "output_type": "stream",
     "text": [
      "MAA\n"
     ]
    },
    {
     "name": "stderr",
     "output_type": "stream",
     "text": [
      "C:\\Users\\CHIN\\AppData\\Local\\Temp/ipykernel_4828/1728708311.py:2: DeprecationWarning: cafile, capath and cadefault are deprecated, use a custom context instead.\n",
      "  response = urlopen(url, cafile=certifi.where())\n"
     ]
    },
    {
     "name": "stdout",
     "output_type": "stream",
     "text": [
      "MRNA\n"
     ]
    },
    {
     "name": "stderr",
     "output_type": "stream",
     "text": [
      "C:\\Users\\CHIN\\AppData\\Local\\Temp/ipykernel_4828/1728708311.py:2: DeprecationWarning: cafile, capath and cadefault are deprecated, use a custom context instead.\n",
      "  response = urlopen(url, cafile=certifi.where())\n"
     ]
    },
    {
     "name": "stdout",
     "output_type": "stream",
     "text": [
      "MHK\n"
     ]
    },
    {
     "name": "stderr",
     "output_type": "stream",
     "text": [
      "C:\\Users\\CHIN\\AppData\\Local\\Temp/ipykernel_4828/1728708311.py:2: DeprecationWarning: cafile, capath and cadefault are deprecated, use a custom context instead.\n",
      "  response = urlopen(url, cafile=certifi.where())\n"
     ]
    },
    {
     "name": "stdout",
     "output_type": "stream",
     "text": [
      "MOH\n"
     ]
    },
    {
     "name": "stderr",
     "output_type": "stream",
     "text": [
      "C:\\Users\\CHIN\\AppData\\Local\\Temp/ipykernel_4828/1728708311.py:2: DeprecationWarning: cafile, capath and cadefault are deprecated, use a custom context instead.\n",
      "  response = urlopen(url, cafile=certifi.where())\n"
     ]
    },
    {
     "name": "stdout",
     "output_type": "stream",
     "text": [
      "TAP\n"
     ]
    },
    {
     "name": "stderr",
     "output_type": "stream",
     "text": [
      "C:\\Users\\CHIN\\AppData\\Local\\Temp/ipykernel_4828/1728708311.py:2: DeprecationWarning: cafile, capath and cadefault are deprecated, use a custom context instead.\n",
      "  response = urlopen(url, cafile=certifi.where())\n"
     ]
    },
    {
     "name": "stdout",
     "output_type": "stream",
     "text": [
      "MDLZ\n"
     ]
    },
    {
     "name": "stderr",
     "output_type": "stream",
     "text": [
      "C:\\Users\\CHIN\\AppData\\Local\\Temp/ipykernel_4828/1728708311.py:2: DeprecationWarning: cafile, capath and cadefault are deprecated, use a custom context instead.\n",
      "  response = urlopen(url, cafile=certifi.where())\n"
     ]
    },
    {
     "name": "stdout",
     "output_type": "stream",
     "text": [
      "MPWR\n"
     ]
    },
    {
     "name": "stderr",
     "output_type": "stream",
     "text": [
      "C:\\Users\\CHIN\\AppData\\Local\\Temp/ipykernel_4828/1728708311.py:2: DeprecationWarning: cafile, capath and cadefault are deprecated, use a custom context instead.\n",
      "  response = urlopen(url, cafile=certifi.where())\n"
     ]
    },
    {
     "name": "stdout",
     "output_type": "stream",
     "text": [
      "MNST\n"
     ]
    },
    {
     "name": "stderr",
     "output_type": "stream",
     "text": [
      "C:\\Users\\CHIN\\AppData\\Local\\Temp/ipykernel_4828/1728708311.py:2: DeprecationWarning: cafile, capath and cadefault are deprecated, use a custom context instead.\n",
      "  response = urlopen(url, cafile=certifi.where())\n"
     ]
    },
    {
     "name": "stdout",
     "output_type": "stream",
     "text": [
      "MCO\n"
     ]
    },
    {
     "name": "stderr",
     "output_type": "stream",
     "text": [
      "C:\\Users\\CHIN\\AppData\\Local\\Temp/ipykernel_4828/1728708311.py:2: DeprecationWarning: cafile, capath and cadefault are deprecated, use a custom context instead.\n",
      "  response = urlopen(url, cafile=certifi.where())\n"
     ]
    },
    {
     "name": "stdout",
     "output_type": "stream",
     "text": [
      "MS\n"
     ]
    },
    {
     "name": "stderr",
     "output_type": "stream",
     "text": [
      "C:\\Users\\CHIN\\AppData\\Local\\Temp/ipykernel_4828/1728708311.py:2: DeprecationWarning: cafile, capath and cadefault are deprecated, use a custom context instead.\n",
      "  response = urlopen(url, cafile=certifi.where())\n"
     ]
    },
    {
     "name": "stdout",
     "output_type": "stream",
     "text": [
      "MOS\n"
     ]
    },
    {
     "name": "stderr",
     "output_type": "stream",
     "text": [
      "C:\\Users\\CHIN\\AppData\\Local\\Temp/ipykernel_4828/1728708311.py:2: DeprecationWarning: cafile, capath and cadefault are deprecated, use a custom context instead.\n",
      "  response = urlopen(url, cafile=certifi.where())\n"
     ]
    },
    {
     "name": "stdout",
     "output_type": "stream",
     "text": [
      "MSI\n"
     ]
    },
    {
     "name": "stderr",
     "output_type": "stream",
     "text": [
      "C:\\Users\\CHIN\\AppData\\Local\\Temp/ipykernel_4828/1728708311.py:2: DeprecationWarning: cafile, capath and cadefault are deprecated, use a custom context instead.\n",
      "  response = urlopen(url, cafile=certifi.where())\n"
     ]
    },
    {
     "name": "stdout",
     "output_type": "stream",
     "text": [
      "MSCI\n"
     ]
    },
    {
     "name": "stderr",
     "output_type": "stream",
     "text": [
      "C:\\Users\\CHIN\\AppData\\Local\\Temp/ipykernel_4828/1728708311.py:2: DeprecationWarning: cafile, capath and cadefault are deprecated, use a custom context instead.\n",
      "  response = urlopen(url, cafile=certifi.where())\n"
     ]
    },
    {
     "name": "stdout",
     "output_type": "stream",
     "text": [
      "NDAQ\n"
     ]
    },
    {
     "name": "stderr",
     "output_type": "stream",
     "text": [
      "C:\\Users\\CHIN\\AppData\\Local\\Temp/ipykernel_4828/1728708311.py:2: DeprecationWarning: cafile, capath and cadefault are deprecated, use a custom context instead.\n",
      "  response = urlopen(url, cafile=certifi.where())\n"
     ]
    },
    {
     "name": "stdout",
     "output_type": "stream",
     "text": [
      "NTAP\n"
     ]
    },
    {
     "name": "stderr",
     "output_type": "stream",
     "text": [
      "C:\\Users\\CHIN\\AppData\\Local\\Temp/ipykernel_4828/1728708311.py:2: DeprecationWarning: cafile, capath and cadefault are deprecated, use a custom context instead.\n",
      "  response = urlopen(url, cafile=certifi.where())\n"
     ]
    },
    {
     "name": "stdout",
     "output_type": "stream",
     "text": [
      "NFLX\n"
     ]
    },
    {
     "name": "stderr",
     "output_type": "stream",
     "text": [
      "C:\\Users\\CHIN\\AppData\\Local\\Temp/ipykernel_4828/1728708311.py:2: DeprecationWarning: cafile, capath and cadefault are deprecated, use a custom context instead.\n",
      "  response = urlopen(url, cafile=certifi.where())\n"
     ]
    },
    {
     "name": "stdout",
     "output_type": "stream",
     "text": [
      "NEM\n"
     ]
    },
    {
     "name": "stderr",
     "output_type": "stream",
     "text": [
      "C:\\Users\\CHIN\\AppData\\Local\\Temp/ipykernel_4828/1728708311.py:2: DeprecationWarning: cafile, capath and cadefault are deprecated, use a custom context instead.\n",
      "  response = urlopen(url, cafile=certifi.where())\n"
     ]
    },
    {
     "name": "stdout",
     "output_type": "stream",
     "text": [
      "NWSA\n"
     ]
    },
    {
     "name": "stderr",
     "output_type": "stream",
     "text": [
      "C:\\Users\\CHIN\\AppData\\Local\\Temp/ipykernel_4828/1728708311.py:2: DeprecationWarning: cafile, capath and cadefault are deprecated, use a custom context instead.\n",
      "  response = urlopen(url, cafile=certifi.where())\n"
     ]
    },
    {
     "name": "stdout",
     "output_type": "stream",
     "text": [
      "NWS\n"
     ]
    },
    {
     "name": "stderr",
     "output_type": "stream",
     "text": [
      "C:\\Users\\CHIN\\AppData\\Local\\Temp/ipykernel_4828/1728708311.py:2: DeprecationWarning: cafile, capath and cadefault are deprecated, use a custom context instead.\n",
      "  response = urlopen(url, cafile=certifi.where())\n"
     ]
    },
    {
     "name": "stdout",
     "output_type": "stream",
     "text": [
      "NEE\n"
     ]
    },
    {
     "name": "stderr",
     "output_type": "stream",
     "text": [
      "C:\\Users\\CHIN\\AppData\\Local\\Temp/ipykernel_4828/1728708311.py:2: DeprecationWarning: cafile, capath and cadefault are deprecated, use a custom context instead.\n",
      "  response = urlopen(url, cafile=certifi.where())\n"
     ]
    },
    {
     "name": "stdout",
     "output_type": "stream",
     "text": [
      "NKE\n"
     ]
    },
    {
     "name": "stderr",
     "output_type": "stream",
     "text": [
      "C:\\Users\\CHIN\\AppData\\Local\\Temp/ipykernel_4828/1728708311.py:2: DeprecationWarning: cafile, capath and cadefault are deprecated, use a custom context instead.\n",
      "  response = urlopen(url, cafile=certifi.where())\n"
     ]
    },
    {
     "name": "stdout",
     "output_type": "stream",
     "text": [
      "NI\n"
     ]
    },
    {
     "name": "stderr",
     "output_type": "stream",
     "text": [
      "C:\\Users\\CHIN\\AppData\\Local\\Temp/ipykernel_4828/1728708311.py:2: DeprecationWarning: cafile, capath and cadefault are deprecated, use a custom context instead.\n",
      "  response = urlopen(url, cafile=certifi.where())\n"
     ]
    },
    {
     "name": "stdout",
     "output_type": "stream",
     "text": [
      "NDSN\n"
     ]
    },
    {
     "name": "stderr",
     "output_type": "stream",
     "text": [
      "C:\\Users\\CHIN\\AppData\\Local\\Temp/ipykernel_4828/1728708311.py:2: DeprecationWarning: cafile, capath and cadefault are deprecated, use a custom context instead.\n",
      "  response = urlopen(url, cafile=certifi.where())\n"
     ]
    },
    {
     "name": "stdout",
     "output_type": "stream",
     "text": [
      "NSC\n"
     ]
    },
    {
     "name": "stderr",
     "output_type": "stream",
     "text": [
      "C:\\Users\\CHIN\\AppData\\Local\\Temp/ipykernel_4828/1728708311.py:2: DeprecationWarning: cafile, capath and cadefault are deprecated, use a custom context instead.\n",
      "  response = urlopen(url, cafile=certifi.where())\n"
     ]
    },
    {
     "name": "stdout",
     "output_type": "stream",
     "text": [
      "NTRS\n"
     ]
    },
    {
     "name": "stderr",
     "output_type": "stream",
     "text": [
      "C:\\Users\\CHIN\\AppData\\Local\\Temp/ipykernel_4828/1728708311.py:2: DeprecationWarning: cafile, capath and cadefault are deprecated, use a custom context instead.\n",
      "  response = urlopen(url, cafile=certifi.where())\n"
     ]
    },
    {
     "name": "stdout",
     "output_type": "stream",
     "text": [
      "NOC\n"
     ]
    },
    {
     "name": "stderr",
     "output_type": "stream",
     "text": [
      "C:\\Users\\CHIN\\AppData\\Local\\Temp/ipykernel_4828/1728708311.py:2: DeprecationWarning: cafile, capath and cadefault are deprecated, use a custom context instead.\n",
      "  response = urlopen(url, cafile=certifi.where())\n"
     ]
    },
    {
     "name": "stdout",
     "output_type": "stream",
     "text": [
      "NCLH\n"
     ]
    },
    {
     "name": "stderr",
     "output_type": "stream",
     "text": [
      "C:\\Users\\CHIN\\AppData\\Local\\Temp/ipykernel_4828/1728708311.py:2: DeprecationWarning: cafile, capath and cadefault are deprecated, use a custom context instead.\n",
      "  response = urlopen(url, cafile=certifi.where())\n"
     ]
    },
    {
     "name": "stdout",
     "output_type": "stream",
     "text": [
      "NRG\n"
     ]
    },
    {
     "name": "stderr",
     "output_type": "stream",
     "text": [
      "C:\\Users\\CHIN\\AppData\\Local\\Temp/ipykernel_4828/1728708311.py:2: DeprecationWarning: cafile, capath and cadefault are deprecated, use a custom context instead.\n",
      "  response = urlopen(url, cafile=certifi.where())\n"
     ]
    },
    {
     "name": "stdout",
     "output_type": "stream",
     "text": [
      "NUE\n"
     ]
    },
    {
     "name": "stderr",
     "output_type": "stream",
     "text": [
      "C:\\Users\\CHIN\\AppData\\Local\\Temp/ipykernel_4828/1728708311.py:2: DeprecationWarning: cafile, capath and cadefault are deprecated, use a custom context instead.\n",
      "  response = urlopen(url, cafile=certifi.where())\n"
     ]
    },
    {
     "name": "stdout",
     "output_type": "stream",
     "text": [
      "NVDA\n"
     ]
    },
    {
     "name": "stderr",
     "output_type": "stream",
     "text": [
      "C:\\Users\\CHIN\\AppData\\Local\\Temp/ipykernel_4828/1728708311.py:2: DeprecationWarning: cafile, capath and cadefault are deprecated, use a custom context instead.\n",
      "  response = urlopen(url, cafile=certifi.where())\n"
     ]
    },
    {
     "name": "stdout",
     "output_type": "stream",
     "text": [
      "NVR\n"
     ]
    },
    {
     "name": "stderr",
     "output_type": "stream",
     "text": [
      "C:\\Users\\CHIN\\AppData\\Local\\Temp/ipykernel_4828/1728708311.py:2: DeprecationWarning: cafile, capath and cadefault are deprecated, use a custom context instead.\n",
      "  response = urlopen(url, cafile=certifi.where())\n"
     ]
    },
    {
     "name": "stdout",
     "output_type": "stream",
     "text": [
      "NXPI\n"
     ]
    },
    {
     "name": "stderr",
     "output_type": "stream",
     "text": [
      "C:\\Users\\CHIN\\AppData\\Local\\Temp/ipykernel_4828/1728708311.py:2: DeprecationWarning: cafile, capath and cadefault are deprecated, use a custom context instead.\n",
      "  response = urlopen(url, cafile=certifi.where())\n"
     ]
    },
    {
     "name": "stdout",
     "output_type": "stream",
     "text": [
      "ORLY\n"
     ]
    },
    {
     "name": "stderr",
     "output_type": "stream",
     "text": [
      "C:\\Users\\CHIN\\AppData\\Local\\Temp/ipykernel_4828/1728708311.py:2: DeprecationWarning: cafile, capath and cadefault are deprecated, use a custom context instead.\n",
      "  response = urlopen(url, cafile=certifi.where())\n"
     ]
    },
    {
     "name": "stdout",
     "output_type": "stream",
     "text": [
      "OXY\n"
     ]
    },
    {
     "name": "stderr",
     "output_type": "stream",
     "text": [
      "C:\\Users\\CHIN\\AppData\\Local\\Temp/ipykernel_4828/1728708311.py:2: DeprecationWarning: cafile, capath and cadefault are deprecated, use a custom context instead.\n",
      "  response = urlopen(url, cafile=certifi.where())\n"
     ]
    },
    {
     "name": "stdout",
     "output_type": "stream",
     "text": [
      "ODFL\n"
     ]
    },
    {
     "name": "stderr",
     "output_type": "stream",
     "text": [
      "C:\\Users\\CHIN\\AppData\\Local\\Temp/ipykernel_4828/1728708311.py:2: DeprecationWarning: cafile, capath and cadefault are deprecated, use a custom context instead.\n",
      "  response = urlopen(url, cafile=certifi.where())\n"
     ]
    },
    {
     "name": "stdout",
     "output_type": "stream",
     "text": [
      "OMC\n"
     ]
    },
    {
     "name": "stderr",
     "output_type": "stream",
     "text": [
      "C:\\Users\\CHIN\\AppData\\Local\\Temp/ipykernel_4828/1728708311.py:2: DeprecationWarning: cafile, capath and cadefault are deprecated, use a custom context instead.\n",
      "  response = urlopen(url, cafile=certifi.where())\n"
     ]
    },
    {
     "name": "stdout",
     "output_type": "stream",
     "text": [
      "ON\n"
     ]
    },
    {
     "name": "stderr",
     "output_type": "stream",
     "text": [
      "C:\\Users\\CHIN\\AppData\\Local\\Temp/ipykernel_4828/1728708311.py:2: DeprecationWarning: cafile, capath and cadefault are deprecated, use a custom context instead.\n",
      "  response = urlopen(url, cafile=certifi.where())\n"
     ]
    },
    {
     "name": "stdout",
     "output_type": "stream",
     "text": [
      "OKE\n"
     ]
    },
    {
     "name": "stderr",
     "output_type": "stream",
     "text": [
      "C:\\Users\\CHIN\\AppData\\Local\\Temp/ipykernel_4828/1728708311.py:2: DeprecationWarning: cafile, capath and cadefault are deprecated, use a custom context instead.\n",
      "  response = urlopen(url, cafile=certifi.where())\n"
     ]
    },
    {
     "name": "stdout",
     "output_type": "stream",
     "text": [
      "ORCL\n"
     ]
    },
    {
     "name": "stderr",
     "output_type": "stream",
     "text": [
      "C:\\Users\\CHIN\\AppData\\Local\\Temp/ipykernel_4828/1728708311.py:2: DeprecationWarning: cafile, capath and cadefault are deprecated, use a custom context instead.\n",
      "  response = urlopen(url, cafile=certifi.where())\n"
     ]
    },
    {
     "name": "stdout",
     "output_type": "stream",
     "text": [
      "OTIS\n"
     ]
    },
    {
     "name": "stderr",
     "output_type": "stream",
     "text": [
      "C:\\Users\\CHIN\\AppData\\Local\\Temp/ipykernel_4828/1728708311.py:2: DeprecationWarning: cafile, capath and cadefault are deprecated, use a custom context instead.\n",
      "  response = urlopen(url, cafile=certifi.where())\n"
     ]
    },
    {
     "name": "stdout",
     "output_type": "stream",
     "text": [
      "PCAR\n"
     ]
    },
    {
     "name": "stderr",
     "output_type": "stream",
     "text": [
      "C:\\Users\\CHIN\\AppData\\Local\\Temp/ipykernel_4828/1728708311.py:2: DeprecationWarning: cafile, capath and cadefault are deprecated, use a custom context instead.\n",
      "  response = urlopen(url, cafile=certifi.where())\n"
     ]
    },
    {
     "name": "stdout",
     "output_type": "stream",
     "text": [
      "PKG\n"
     ]
    },
    {
     "name": "stderr",
     "output_type": "stream",
     "text": [
      "C:\\Users\\CHIN\\AppData\\Local\\Temp/ipykernel_4828/1728708311.py:2: DeprecationWarning: cafile, capath and cadefault are deprecated, use a custom context instead.\n",
      "  response = urlopen(url, cafile=certifi.where())\n"
     ]
    },
    {
     "name": "stdout",
     "output_type": "stream",
     "text": [
      "PANW\n"
     ]
    },
    {
     "name": "stderr",
     "output_type": "stream",
     "text": [
      "C:\\Users\\CHIN\\AppData\\Local\\Temp/ipykernel_4828/1728708311.py:2: DeprecationWarning: cafile, capath and cadefault are deprecated, use a custom context instead.\n",
      "  response = urlopen(url, cafile=certifi.where())\n"
     ]
    },
    {
     "name": "stdout",
     "output_type": "stream",
     "text": [
      "PARA\n"
     ]
    },
    {
     "name": "stderr",
     "output_type": "stream",
     "text": [
      "C:\\Users\\CHIN\\AppData\\Local\\Temp/ipykernel_4828/1728708311.py:2: DeprecationWarning: cafile, capath and cadefault are deprecated, use a custom context instead.\n",
      "  response = urlopen(url, cafile=certifi.where())\n"
     ]
    },
    {
     "name": "stdout",
     "output_type": "stream",
     "text": [
      "PH\n"
     ]
    },
    {
     "name": "stderr",
     "output_type": "stream",
     "text": [
      "C:\\Users\\CHIN\\AppData\\Local\\Temp/ipykernel_4828/1728708311.py:2: DeprecationWarning: cafile, capath and cadefault are deprecated, use a custom context instead.\n",
      "  response = urlopen(url, cafile=certifi.where())\n"
     ]
    },
    {
     "name": "stdout",
     "output_type": "stream",
     "text": [
      "PAYX\n"
     ]
    },
    {
     "name": "stderr",
     "output_type": "stream",
     "text": [
      "C:\\Users\\CHIN\\AppData\\Local\\Temp/ipykernel_4828/1728708311.py:2: DeprecationWarning: cafile, capath and cadefault are deprecated, use a custom context instead.\n",
      "  response = urlopen(url, cafile=certifi.where())\n"
     ]
    },
    {
     "name": "stdout",
     "output_type": "stream",
     "text": [
      "PAYC\n"
     ]
    },
    {
     "name": "stderr",
     "output_type": "stream",
     "text": [
      "C:\\Users\\CHIN\\AppData\\Local\\Temp/ipykernel_4828/1728708311.py:2: DeprecationWarning: cafile, capath and cadefault are deprecated, use a custom context instead.\n",
      "  response = urlopen(url, cafile=certifi.where())\n"
     ]
    },
    {
     "name": "stdout",
     "output_type": "stream",
     "text": [
      "PYPL\n"
     ]
    },
    {
     "name": "stderr",
     "output_type": "stream",
     "text": [
      "C:\\Users\\CHIN\\AppData\\Local\\Temp/ipykernel_4828/1728708311.py:2: DeprecationWarning: cafile, capath and cadefault are deprecated, use a custom context instead.\n",
      "  response = urlopen(url, cafile=certifi.where())\n"
     ]
    },
    {
     "name": "stdout",
     "output_type": "stream",
     "text": [
      "PNR\n"
     ]
    },
    {
     "name": "stderr",
     "output_type": "stream",
     "text": [
      "C:\\Users\\CHIN\\AppData\\Local\\Temp/ipykernel_4828/1728708311.py:2: DeprecationWarning: cafile, capath and cadefault are deprecated, use a custom context instead.\n",
      "  response = urlopen(url, cafile=certifi.where())\n"
     ]
    },
    {
     "name": "stdout",
     "output_type": "stream",
     "text": [
      "PEP\n"
     ]
    },
    {
     "name": "stderr",
     "output_type": "stream",
     "text": [
      "C:\\Users\\CHIN\\AppData\\Local\\Temp/ipykernel_4828/1728708311.py:2: DeprecationWarning: cafile, capath and cadefault are deprecated, use a custom context instead.\n",
      "  response = urlopen(url, cafile=certifi.where())\n"
     ]
    },
    {
     "name": "stdout",
     "output_type": "stream",
     "text": [
      "PFE\n"
     ]
    },
    {
     "name": "stderr",
     "output_type": "stream",
     "text": [
      "C:\\Users\\CHIN\\AppData\\Local\\Temp/ipykernel_4828/1728708311.py:2: DeprecationWarning: cafile, capath and cadefault are deprecated, use a custom context instead.\n",
      "  response = urlopen(url, cafile=certifi.where())\n"
     ]
    },
    {
     "name": "stdout",
     "output_type": "stream",
     "text": [
      "PCG\n"
     ]
    },
    {
     "name": "stderr",
     "output_type": "stream",
     "text": [
      "C:\\Users\\CHIN\\AppData\\Local\\Temp/ipykernel_4828/1728708311.py:2: DeprecationWarning: cafile, capath and cadefault are deprecated, use a custom context instead.\n",
      "  response = urlopen(url, cafile=certifi.where())\n"
     ]
    },
    {
     "name": "stdout",
     "output_type": "stream",
     "text": [
      "PM\n"
     ]
    },
    {
     "name": "stderr",
     "output_type": "stream",
     "text": [
      "C:\\Users\\CHIN\\AppData\\Local\\Temp/ipykernel_4828/1728708311.py:2: DeprecationWarning: cafile, capath and cadefault are deprecated, use a custom context instead.\n",
      "  response = urlopen(url, cafile=certifi.where())\n"
     ]
    },
    {
     "name": "stdout",
     "output_type": "stream",
     "text": [
      "PSX\n"
     ]
    },
    {
     "name": "stderr",
     "output_type": "stream",
     "text": [
      "C:\\Users\\CHIN\\AppData\\Local\\Temp/ipykernel_4828/1728708311.py:2: DeprecationWarning: cafile, capath and cadefault are deprecated, use a custom context instead.\n",
      "  response = urlopen(url, cafile=certifi.where())\n"
     ]
    },
    {
     "name": "stdout",
     "output_type": "stream",
     "text": [
      "PNW\n"
     ]
    },
    {
     "name": "stderr",
     "output_type": "stream",
     "text": [
      "C:\\Users\\CHIN\\AppData\\Local\\Temp/ipykernel_4828/1728708311.py:2: DeprecationWarning: cafile, capath and cadefault are deprecated, use a custom context instead.\n",
      "  response = urlopen(url, cafile=certifi.where())\n"
     ]
    },
    {
     "name": "stdout",
     "output_type": "stream",
     "text": [
      "PXD\n"
     ]
    },
    {
     "name": "stderr",
     "output_type": "stream",
     "text": [
      "C:\\Users\\CHIN\\AppData\\Local\\Temp/ipykernel_4828/1728708311.py:2: DeprecationWarning: cafile, capath and cadefault are deprecated, use a custom context instead.\n",
      "  response = urlopen(url, cafile=certifi.where())\n"
     ]
    },
    {
     "name": "stdout",
     "output_type": "stream",
     "text": [
      "PNC\n"
     ]
    },
    {
     "name": "stderr",
     "output_type": "stream",
     "text": [
      "C:\\Users\\CHIN\\AppData\\Local\\Temp/ipykernel_4828/1728708311.py:2: DeprecationWarning: cafile, capath and cadefault are deprecated, use a custom context instead.\n",
      "  response = urlopen(url, cafile=certifi.where())\n"
     ]
    },
    {
     "name": "stdout",
     "output_type": "stream",
     "text": [
      "POOL\n"
     ]
    },
    {
     "name": "stderr",
     "output_type": "stream",
     "text": [
      "C:\\Users\\CHIN\\AppData\\Local\\Temp/ipykernel_4828/1728708311.py:2: DeprecationWarning: cafile, capath and cadefault are deprecated, use a custom context instead.\n",
      "  response = urlopen(url, cafile=certifi.where())\n"
     ]
    },
    {
     "name": "stdout",
     "output_type": "stream",
     "text": [
      "PPG\n"
     ]
    },
    {
     "name": "stderr",
     "output_type": "stream",
     "text": [
      "C:\\Users\\CHIN\\AppData\\Local\\Temp/ipykernel_4828/1728708311.py:2: DeprecationWarning: cafile, capath and cadefault are deprecated, use a custom context instead.\n",
      "  response = urlopen(url, cafile=certifi.where())\n"
     ]
    },
    {
     "name": "stdout",
     "output_type": "stream",
     "text": [
      "PPL\n"
     ]
    },
    {
     "name": "stderr",
     "output_type": "stream",
     "text": [
      "C:\\Users\\CHIN\\AppData\\Local\\Temp/ipykernel_4828/1728708311.py:2: DeprecationWarning: cafile, capath and cadefault are deprecated, use a custom context instead.\n",
      "  response = urlopen(url, cafile=certifi.where())\n"
     ]
    },
    {
     "name": "stdout",
     "output_type": "stream",
     "text": [
      "PFG\n"
     ]
    },
    {
     "name": "stderr",
     "output_type": "stream",
     "text": [
      "C:\\Users\\CHIN\\AppData\\Local\\Temp/ipykernel_4828/1728708311.py:2: DeprecationWarning: cafile, capath and cadefault are deprecated, use a custom context instead.\n",
      "  response = urlopen(url, cafile=certifi.where())\n"
     ]
    },
    {
     "name": "stdout",
     "output_type": "stream",
     "text": [
      "PG\n"
     ]
    },
    {
     "name": "stderr",
     "output_type": "stream",
     "text": [
      "C:\\Users\\CHIN\\AppData\\Local\\Temp/ipykernel_4828/1728708311.py:2: DeprecationWarning: cafile, capath and cadefault are deprecated, use a custom context instead.\n",
      "  response = urlopen(url, cafile=certifi.where())\n"
     ]
    },
    {
     "name": "stdout",
     "output_type": "stream",
     "text": [
      "PGR\n"
     ]
    },
    {
     "name": "stderr",
     "output_type": "stream",
     "text": [
      "C:\\Users\\CHIN\\AppData\\Local\\Temp/ipykernel_4828/1728708311.py:2: DeprecationWarning: cafile, capath and cadefault are deprecated, use a custom context instead.\n",
      "  response = urlopen(url, cafile=certifi.where())\n"
     ]
    },
    {
     "name": "stdout",
     "output_type": "stream",
     "text": [
      "PLD\n"
     ]
    },
    {
     "name": "stderr",
     "output_type": "stream",
     "text": [
      "C:\\Users\\CHIN\\AppData\\Local\\Temp/ipykernel_4828/1728708311.py:2: DeprecationWarning: cafile, capath and cadefault are deprecated, use a custom context instead.\n",
      "  response = urlopen(url, cafile=certifi.where())\n"
     ]
    },
    {
     "name": "stdout",
     "output_type": "stream",
     "text": [
      "PRU\n"
     ]
    },
    {
     "name": "stderr",
     "output_type": "stream",
     "text": [
      "C:\\Users\\CHIN\\AppData\\Local\\Temp/ipykernel_4828/1728708311.py:2: DeprecationWarning: cafile, capath and cadefault are deprecated, use a custom context instead.\n",
      "  response = urlopen(url, cafile=certifi.where())\n"
     ]
    },
    {
     "name": "stdout",
     "output_type": "stream",
     "text": [
      "PEG\n",
      "PTC\n"
     ]
    },
    {
     "name": "stderr",
     "output_type": "stream",
     "text": [
      "C:\\Users\\CHIN\\AppData\\Local\\Temp/ipykernel_4828/1728708311.py:2: DeprecationWarning: cafile, capath and cadefault are deprecated, use a custom context instead.\n",
      "  response = urlopen(url, cafile=certifi.where())\n"
     ]
    },
    {
     "name": "stdout",
     "output_type": "stream",
     "text": [
      "PSA\n"
     ]
    },
    {
     "name": "stderr",
     "output_type": "stream",
     "text": [
      "C:\\Users\\CHIN\\AppData\\Local\\Temp/ipykernel_4828/1728708311.py:2: DeprecationWarning: cafile, capath and cadefault are deprecated, use a custom context instead.\n",
      "  response = urlopen(url, cafile=certifi.where())\n"
     ]
    },
    {
     "name": "stdout",
     "output_type": "stream",
     "text": [
      "PHM\n"
     ]
    },
    {
     "name": "stderr",
     "output_type": "stream",
     "text": [
      "C:\\Users\\CHIN\\AppData\\Local\\Temp/ipykernel_4828/1728708311.py:2: DeprecationWarning: cafile, capath and cadefault are deprecated, use a custom context instead.\n",
      "  response = urlopen(url, cafile=certifi.where())\n"
     ]
    },
    {
     "name": "stdout",
     "output_type": "stream",
     "text": [
      "QRVO\n"
     ]
    },
    {
     "name": "stderr",
     "output_type": "stream",
     "text": [
      "C:\\Users\\CHIN\\AppData\\Local\\Temp/ipykernel_4828/1728708311.py:2: DeprecationWarning: cafile, capath and cadefault are deprecated, use a custom context instead.\n",
      "  response = urlopen(url, cafile=certifi.where())\n"
     ]
    },
    {
     "name": "stdout",
     "output_type": "stream",
     "text": [
      "PWR\n"
     ]
    },
    {
     "name": "stderr",
     "output_type": "stream",
     "text": [
      "C:\\Users\\CHIN\\AppData\\Local\\Temp/ipykernel_4828/1728708311.py:2: DeprecationWarning: cafile, capath and cadefault are deprecated, use a custom context instead.\n",
      "  response = urlopen(url, cafile=certifi.where())\n"
     ]
    },
    {
     "name": "stdout",
     "output_type": "stream",
     "text": [
      "QCOM\n"
     ]
    },
    {
     "name": "stderr",
     "output_type": "stream",
     "text": [
      "C:\\Users\\CHIN\\AppData\\Local\\Temp/ipykernel_4828/1728708311.py:2: DeprecationWarning: cafile, capath and cadefault are deprecated, use a custom context instead.\n",
      "  response = urlopen(url, cafile=certifi.where())\n"
     ]
    },
    {
     "name": "stdout",
     "output_type": "stream",
     "text": [
      "DGX\n"
     ]
    },
    {
     "name": "stderr",
     "output_type": "stream",
     "text": [
      "C:\\Users\\CHIN\\AppData\\Local\\Temp/ipykernel_4828/1728708311.py:2: DeprecationWarning: cafile, capath and cadefault are deprecated, use a custom context instead.\n",
      "  response = urlopen(url, cafile=certifi.where())\n"
     ]
    },
    {
     "name": "stdout",
     "output_type": "stream",
     "text": [
      "RL\n"
     ]
    },
    {
     "name": "stderr",
     "output_type": "stream",
     "text": [
      "C:\\Users\\CHIN\\AppData\\Local\\Temp/ipykernel_4828/1728708311.py:2: DeprecationWarning: cafile, capath and cadefault are deprecated, use a custom context instead.\n",
      "  response = urlopen(url, cafile=certifi.where())\n"
     ]
    },
    {
     "name": "stdout",
     "output_type": "stream",
     "text": [
      "RJF\n"
     ]
    },
    {
     "name": "stderr",
     "output_type": "stream",
     "text": [
      "C:\\Users\\CHIN\\AppData\\Local\\Temp/ipykernel_4828/1728708311.py:2: DeprecationWarning: cafile, capath and cadefault are deprecated, use a custom context instead.\n",
      "  response = urlopen(url, cafile=certifi.where())\n"
     ]
    },
    {
     "name": "stdout",
     "output_type": "stream",
     "text": [
      "RTX\n"
     ]
    },
    {
     "name": "stderr",
     "output_type": "stream",
     "text": [
      "C:\\Users\\CHIN\\AppData\\Local\\Temp/ipykernel_4828/1728708311.py:2: DeprecationWarning: cafile, capath and cadefault are deprecated, use a custom context instead.\n",
      "  response = urlopen(url, cafile=certifi.where())\n"
     ]
    },
    {
     "name": "stdout",
     "output_type": "stream",
     "text": [
      "O\n"
     ]
    },
    {
     "name": "stderr",
     "output_type": "stream",
     "text": [
      "C:\\Users\\CHIN\\AppData\\Local\\Temp/ipykernel_4828/1728708311.py:2: DeprecationWarning: cafile, capath and cadefault are deprecated, use a custom context instead.\n",
      "  response = urlopen(url, cafile=certifi.where())\n"
     ]
    },
    {
     "name": "stdout",
     "output_type": "stream",
     "text": [
      "REG\n"
     ]
    },
    {
     "name": "stderr",
     "output_type": "stream",
     "text": [
      "C:\\Users\\CHIN\\AppData\\Local\\Temp/ipykernel_4828/1728708311.py:2: DeprecationWarning: cafile, capath and cadefault are deprecated, use a custom context instead.\n",
      "  response = urlopen(url, cafile=certifi.where())\n"
     ]
    },
    {
     "name": "stdout",
     "output_type": "stream",
     "text": [
      "REGN\n"
     ]
    },
    {
     "name": "stderr",
     "output_type": "stream",
     "text": [
      "C:\\Users\\CHIN\\AppData\\Local\\Temp/ipykernel_4828/1728708311.py:2: DeprecationWarning: cafile, capath and cadefault are deprecated, use a custom context instead.\n",
      "  response = urlopen(url, cafile=certifi.where())\n"
     ]
    },
    {
     "name": "stdout",
     "output_type": "stream",
     "text": [
      "RF\n"
     ]
    },
    {
     "name": "stderr",
     "output_type": "stream",
     "text": [
      "C:\\Users\\CHIN\\AppData\\Local\\Temp/ipykernel_4828/1728708311.py:2: DeprecationWarning: cafile, capath and cadefault are deprecated, use a custom context instead.\n",
      "  response = urlopen(url, cafile=certifi.where())\n"
     ]
    },
    {
     "name": "stdout",
     "output_type": "stream",
     "text": [
      "RSG\n"
     ]
    },
    {
     "name": "stderr",
     "output_type": "stream",
     "text": [
      "C:\\Users\\CHIN\\AppData\\Local\\Temp/ipykernel_4828/1728708311.py:2: DeprecationWarning: cafile, capath and cadefault are deprecated, use a custom context instead.\n",
      "  response = urlopen(url, cafile=certifi.where())\n"
     ]
    },
    {
     "name": "stdout",
     "output_type": "stream",
     "text": [
      "RMD\n"
     ]
    },
    {
     "name": "stderr",
     "output_type": "stream",
     "text": [
      "C:\\Users\\CHIN\\AppData\\Local\\Temp/ipykernel_4828/1728708311.py:2: DeprecationWarning: cafile, capath and cadefault are deprecated, use a custom context instead.\n",
      "  response = urlopen(url, cafile=certifi.where())\n"
     ]
    },
    {
     "name": "stdout",
     "output_type": "stream",
     "text": [
      "RVTY\n"
     ]
    },
    {
     "name": "stderr",
     "output_type": "stream",
     "text": [
      "C:\\Users\\CHIN\\AppData\\Local\\Temp/ipykernel_4828/1728708311.py:2: DeprecationWarning: cafile, capath and cadefault are deprecated, use a custom context instead.\n",
      "  response = urlopen(url, cafile=certifi.where())\n"
     ]
    },
    {
     "name": "stdout",
     "output_type": "stream",
     "text": [
      "RHI\n"
     ]
    },
    {
     "name": "stderr",
     "output_type": "stream",
     "text": [
      "C:\\Users\\CHIN\\AppData\\Local\\Temp/ipykernel_4828/1728708311.py:2: DeprecationWarning: cafile, capath and cadefault are deprecated, use a custom context instead.\n",
      "  response = urlopen(url, cafile=certifi.where())\n"
     ]
    },
    {
     "name": "stdout",
     "output_type": "stream",
     "text": [
      "ROK\n"
     ]
    },
    {
     "name": "stderr",
     "output_type": "stream",
     "text": [
      "C:\\Users\\CHIN\\AppData\\Local\\Temp/ipykernel_4828/1728708311.py:2: DeprecationWarning: cafile, capath and cadefault are deprecated, use a custom context instead.\n",
      "  response = urlopen(url, cafile=certifi.where())\n"
     ]
    },
    {
     "name": "stdout",
     "output_type": "stream",
     "text": [
      "ROL\n"
     ]
    },
    {
     "name": "stderr",
     "output_type": "stream",
     "text": [
      "C:\\Users\\CHIN\\AppData\\Local\\Temp/ipykernel_4828/1728708311.py:2: DeprecationWarning: cafile, capath and cadefault are deprecated, use a custom context instead.\n",
      "  response = urlopen(url, cafile=certifi.where())\n"
     ]
    },
    {
     "name": "stdout",
     "output_type": "stream",
     "text": [
      "ROP\n"
     ]
    },
    {
     "name": "stderr",
     "output_type": "stream",
     "text": [
      "C:\\Users\\CHIN\\AppData\\Local\\Temp/ipykernel_4828/1728708311.py:2: DeprecationWarning: cafile, capath and cadefault are deprecated, use a custom context instead.\n",
      "  response = urlopen(url, cafile=certifi.where())\n"
     ]
    },
    {
     "name": "stdout",
     "output_type": "stream",
     "text": [
      "ROST\n"
     ]
    },
    {
     "name": "stderr",
     "output_type": "stream",
     "text": [
      "C:\\Users\\CHIN\\AppData\\Local\\Temp/ipykernel_4828/1728708311.py:2: DeprecationWarning: cafile, capath and cadefault are deprecated, use a custom context instead.\n",
      "  response = urlopen(url, cafile=certifi.where())\n"
     ]
    },
    {
     "name": "stdout",
     "output_type": "stream",
     "text": [
      "RCL\n"
     ]
    },
    {
     "name": "stderr",
     "output_type": "stream",
     "text": [
      "C:\\Users\\CHIN\\AppData\\Local\\Temp/ipykernel_4828/1728708311.py:2: DeprecationWarning: cafile, capath and cadefault are deprecated, use a custom context instead.\n",
      "  response = urlopen(url, cafile=certifi.where())\n"
     ]
    },
    {
     "name": "stdout",
     "output_type": "stream",
     "text": [
      "SPGI\n"
     ]
    },
    {
     "name": "stderr",
     "output_type": "stream",
     "text": [
      "C:\\Users\\CHIN\\AppData\\Local\\Temp/ipykernel_4828/1728708311.py:2: DeprecationWarning: cafile, capath and cadefault are deprecated, use a custom context instead.\n",
      "  response = urlopen(url, cafile=certifi.where())\n"
     ]
    },
    {
     "name": "stdout",
     "output_type": "stream",
     "text": [
      "CRM\n"
     ]
    },
    {
     "name": "stderr",
     "output_type": "stream",
     "text": [
      "C:\\Users\\CHIN\\AppData\\Local\\Temp/ipykernel_4828/1728708311.py:2: DeprecationWarning: cafile, capath and cadefault are deprecated, use a custom context instead.\n",
      "  response = urlopen(url, cafile=certifi.where())\n"
     ]
    },
    {
     "name": "stdout",
     "output_type": "stream",
     "text": [
      "SBAC\n"
     ]
    },
    {
     "name": "stderr",
     "output_type": "stream",
     "text": [
      "C:\\Users\\CHIN\\AppData\\Local\\Temp/ipykernel_4828/1728708311.py:2: DeprecationWarning: cafile, capath and cadefault are deprecated, use a custom context instead.\n",
      "  response = urlopen(url, cafile=certifi.where())\n"
     ]
    },
    {
     "name": "stdout",
     "output_type": "stream",
     "text": [
      "SLB\n"
     ]
    },
    {
     "name": "stderr",
     "output_type": "stream",
     "text": [
      "C:\\Users\\CHIN\\AppData\\Local\\Temp/ipykernel_4828/1728708311.py:2: DeprecationWarning: cafile, capath and cadefault are deprecated, use a custom context instead.\n",
      "  response = urlopen(url, cafile=certifi.where())\n"
     ]
    },
    {
     "name": "stdout",
     "output_type": "stream",
     "text": [
      "STX\n"
     ]
    },
    {
     "name": "stderr",
     "output_type": "stream",
     "text": [
      "C:\\Users\\CHIN\\AppData\\Local\\Temp/ipykernel_4828/1728708311.py:2: DeprecationWarning: cafile, capath and cadefault are deprecated, use a custom context instead.\n",
      "  response = urlopen(url, cafile=certifi.where())\n"
     ]
    },
    {
     "name": "stdout",
     "output_type": "stream",
     "text": [
      "SEE\n"
     ]
    },
    {
     "name": "stderr",
     "output_type": "stream",
     "text": [
      "C:\\Users\\CHIN\\AppData\\Local\\Temp/ipykernel_4828/1728708311.py:2: DeprecationWarning: cafile, capath and cadefault are deprecated, use a custom context instead.\n",
      "  response = urlopen(url, cafile=certifi.where())\n"
     ]
    },
    {
     "name": "stdout",
     "output_type": "stream",
     "text": [
      "SRE\n"
     ]
    },
    {
     "name": "stderr",
     "output_type": "stream",
     "text": [
      "C:\\Users\\CHIN\\AppData\\Local\\Temp/ipykernel_4828/1728708311.py:2: DeprecationWarning: cafile, capath and cadefault are deprecated, use a custom context instead.\n",
      "  response = urlopen(url, cafile=certifi.where())\n"
     ]
    },
    {
     "name": "stdout",
     "output_type": "stream",
     "text": [
      "NOW\n"
     ]
    },
    {
     "name": "stderr",
     "output_type": "stream",
     "text": [
      "C:\\Users\\CHIN\\AppData\\Local\\Temp/ipykernel_4828/1728708311.py:2: DeprecationWarning: cafile, capath and cadefault are deprecated, use a custom context instead.\n",
      "  response = urlopen(url, cafile=certifi.where())\n"
     ]
    },
    {
     "name": "stdout",
     "output_type": "stream",
     "text": [
      "SHW\n"
     ]
    },
    {
     "name": "stderr",
     "output_type": "stream",
     "text": [
      "C:\\Users\\CHIN\\AppData\\Local\\Temp/ipykernel_4828/1728708311.py:2: DeprecationWarning: cafile, capath and cadefault are deprecated, use a custom context instead.\n",
      "  response = urlopen(url, cafile=certifi.where())\n"
     ]
    },
    {
     "name": "stdout",
     "output_type": "stream",
     "text": [
      "SPG\n"
     ]
    },
    {
     "name": "stderr",
     "output_type": "stream",
     "text": [
      "C:\\Users\\CHIN\\AppData\\Local\\Temp/ipykernel_4828/1728708311.py:2: DeprecationWarning: cafile, capath and cadefault are deprecated, use a custom context instead.\n",
      "  response = urlopen(url, cafile=certifi.where())\n"
     ]
    },
    {
     "name": "stdout",
     "output_type": "stream",
     "text": [
      "SWKS\n"
     ]
    },
    {
     "name": "stderr",
     "output_type": "stream",
     "text": [
      "C:\\Users\\CHIN\\AppData\\Local\\Temp/ipykernel_4828/1728708311.py:2: DeprecationWarning: cafile, capath and cadefault are deprecated, use a custom context instead.\n",
      "  response = urlopen(url, cafile=certifi.where())\n"
     ]
    },
    {
     "name": "stdout",
     "output_type": "stream",
     "text": [
      "SJM\n"
     ]
    },
    {
     "name": "stderr",
     "output_type": "stream",
     "text": [
      "C:\\Users\\CHIN\\AppData\\Local\\Temp/ipykernel_4828/1728708311.py:2: DeprecationWarning: cafile, capath and cadefault are deprecated, use a custom context instead.\n",
      "  response = urlopen(url, cafile=certifi.where())\n"
     ]
    },
    {
     "name": "stdout",
     "output_type": "stream",
     "text": [
      "SNA\n"
     ]
    },
    {
     "name": "stderr",
     "output_type": "stream",
     "text": [
      "C:\\Users\\CHIN\\AppData\\Local\\Temp/ipykernel_4828/1728708311.py:2: DeprecationWarning: cafile, capath and cadefault are deprecated, use a custom context instead.\n",
      "  response = urlopen(url, cafile=certifi.where())\n"
     ]
    },
    {
     "name": "stdout",
     "output_type": "stream",
     "text": [
      "SEDG\n"
     ]
    },
    {
     "name": "stderr",
     "output_type": "stream",
     "text": [
      "C:\\Users\\CHIN\\AppData\\Local\\Temp/ipykernel_4828/1728708311.py:2: DeprecationWarning: cafile, capath and cadefault are deprecated, use a custom context instead.\n",
      "  response = urlopen(url, cafile=certifi.where())\n"
     ]
    },
    {
     "name": "stdout",
     "output_type": "stream",
     "text": [
      "SO\n"
     ]
    },
    {
     "name": "stderr",
     "output_type": "stream",
     "text": [
      "C:\\Users\\CHIN\\AppData\\Local\\Temp/ipykernel_4828/1728708311.py:2: DeprecationWarning: cafile, capath and cadefault are deprecated, use a custom context instead.\n",
      "  response = urlopen(url, cafile=certifi.where())\n"
     ]
    },
    {
     "name": "stdout",
     "output_type": "stream",
     "text": [
      "LUV\n"
     ]
    },
    {
     "name": "stderr",
     "output_type": "stream",
     "text": [
      "C:\\Users\\CHIN\\AppData\\Local\\Temp/ipykernel_4828/1728708311.py:2: DeprecationWarning: cafile, capath and cadefault are deprecated, use a custom context instead.\n",
      "  response = urlopen(url, cafile=certifi.where())\n"
     ]
    },
    {
     "name": "stdout",
     "output_type": "stream",
     "text": [
      "SWK\n"
     ]
    },
    {
     "name": "stderr",
     "output_type": "stream",
     "text": [
      "C:\\Users\\CHIN\\AppData\\Local\\Temp/ipykernel_4828/1728708311.py:2: DeprecationWarning: cafile, capath and cadefault are deprecated, use a custom context instead.\n",
      "  response = urlopen(url, cafile=certifi.where())\n"
     ]
    },
    {
     "name": "stdout",
     "output_type": "stream",
     "text": [
      "SBUX\n"
     ]
    },
    {
     "name": "stderr",
     "output_type": "stream",
     "text": [
      "C:\\Users\\CHIN\\AppData\\Local\\Temp/ipykernel_4828/1728708311.py:2: DeprecationWarning: cafile, capath and cadefault are deprecated, use a custom context instead.\n",
      "  response = urlopen(url, cafile=certifi.where())\n"
     ]
    },
    {
     "name": "stdout",
     "output_type": "stream",
     "text": [
      "STT\n"
     ]
    },
    {
     "name": "stderr",
     "output_type": "stream",
     "text": [
      "C:\\Users\\CHIN\\AppData\\Local\\Temp/ipykernel_4828/1728708311.py:2: DeprecationWarning: cafile, capath and cadefault are deprecated, use a custom context instead.\n",
      "  response = urlopen(url, cafile=certifi.where())\n"
     ]
    },
    {
     "name": "stdout",
     "output_type": "stream",
     "text": [
      "STLD\n"
     ]
    },
    {
     "name": "stderr",
     "output_type": "stream",
     "text": [
      "C:\\Users\\CHIN\\AppData\\Local\\Temp/ipykernel_4828/1728708311.py:2: DeprecationWarning: cafile, capath and cadefault are deprecated, use a custom context instead.\n",
      "  response = urlopen(url, cafile=certifi.where())\n"
     ]
    },
    {
     "name": "stdout",
     "output_type": "stream",
     "text": [
      "STE\n"
     ]
    },
    {
     "name": "stderr",
     "output_type": "stream",
     "text": [
      "C:\\Users\\CHIN\\AppData\\Local\\Temp/ipykernel_4828/1728708311.py:2: DeprecationWarning: cafile, capath and cadefault are deprecated, use a custom context instead.\n",
      "  response = urlopen(url, cafile=certifi.where())\n"
     ]
    },
    {
     "name": "stdout",
     "output_type": "stream",
     "text": [
      "SYK\n"
     ]
    },
    {
     "name": "stderr",
     "output_type": "stream",
     "text": [
      "C:\\Users\\CHIN\\AppData\\Local\\Temp/ipykernel_4828/1728708311.py:2: DeprecationWarning: cafile, capath and cadefault are deprecated, use a custom context instead.\n",
      "  response = urlopen(url, cafile=certifi.where())\n"
     ]
    },
    {
     "name": "stdout",
     "output_type": "stream",
     "text": [
      "SYF\n"
     ]
    },
    {
     "name": "stderr",
     "output_type": "stream",
     "text": [
      "C:\\Users\\CHIN\\AppData\\Local\\Temp/ipykernel_4828/1728708311.py:2: DeprecationWarning: cafile, capath and cadefault are deprecated, use a custom context instead.\n",
      "  response = urlopen(url, cafile=certifi.where())\n"
     ]
    },
    {
     "name": "stdout",
     "output_type": "stream",
     "text": [
      "SNPS\n",
      "SYY\n"
     ]
    },
    {
     "name": "stderr",
     "output_type": "stream",
     "text": [
      "C:\\Users\\CHIN\\AppData\\Local\\Temp/ipykernel_4828/1728708311.py:2: DeprecationWarning: cafile, capath and cadefault are deprecated, use a custom context instead.\n",
      "  response = urlopen(url, cafile=certifi.where())\n"
     ]
    },
    {
     "name": "stdout",
     "output_type": "stream",
     "text": [
      "TMUS\n"
     ]
    },
    {
     "name": "stderr",
     "output_type": "stream",
     "text": [
      "C:\\Users\\CHIN\\AppData\\Local\\Temp/ipykernel_4828/1728708311.py:2: DeprecationWarning: cafile, capath and cadefault are deprecated, use a custom context instead.\n",
      "  response = urlopen(url, cafile=certifi.where())\n"
     ]
    },
    {
     "name": "stdout",
     "output_type": "stream",
     "text": [
      "TROW\n"
     ]
    },
    {
     "name": "stderr",
     "output_type": "stream",
     "text": [
      "C:\\Users\\CHIN\\AppData\\Local\\Temp/ipykernel_4828/1728708311.py:2: DeprecationWarning: cafile, capath and cadefault are deprecated, use a custom context instead.\n",
      "  response = urlopen(url, cafile=certifi.where())\n"
     ]
    },
    {
     "name": "stdout",
     "output_type": "stream",
     "text": [
      "TTWO\n"
     ]
    },
    {
     "name": "stderr",
     "output_type": "stream",
     "text": [
      "C:\\Users\\CHIN\\AppData\\Local\\Temp/ipykernel_4828/1728708311.py:2: DeprecationWarning: cafile, capath and cadefault are deprecated, use a custom context instead.\n",
      "  response = urlopen(url, cafile=certifi.where())\n"
     ]
    },
    {
     "name": "stdout",
     "output_type": "stream",
     "text": [
      "TPR\n"
     ]
    },
    {
     "name": "stderr",
     "output_type": "stream",
     "text": [
      "C:\\Users\\CHIN\\AppData\\Local\\Temp/ipykernel_4828/1728708311.py:2: DeprecationWarning: cafile, capath and cadefault are deprecated, use a custom context instead.\n",
      "  response = urlopen(url, cafile=certifi.where())\n"
     ]
    },
    {
     "name": "stdout",
     "output_type": "stream",
     "text": [
      "TRGP\n"
     ]
    },
    {
     "name": "stderr",
     "output_type": "stream",
     "text": [
      "C:\\Users\\CHIN\\AppData\\Local\\Temp/ipykernel_4828/1728708311.py:2: DeprecationWarning: cafile, capath and cadefault are deprecated, use a custom context instead.\n",
      "  response = urlopen(url, cafile=certifi.where())\n"
     ]
    },
    {
     "name": "stdout",
     "output_type": "stream",
     "text": [
      "TGT\n"
     ]
    },
    {
     "name": "stderr",
     "output_type": "stream",
     "text": [
      "C:\\Users\\CHIN\\AppData\\Local\\Temp/ipykernel_4828/1728708311.py:2: DeprecationWarning: cafile, capath and cadefault are deprecated, use a custom context instead.\n",
      "  response = urlopen(url, cafile=certifi.where())\n"
     ]
    },
    {
     "name": "stdout",
     "output_type": "stream",
     "text": [
      "TEL\n"
     ]
    },
    {
     "name": "stderr",
     "output_type": "stream",
     "text": [
      "C:\\Users\\CHIN\\AppData\\Local\\Temp/ipykernel_4828/1728708311.py:2: DeprecationWarning: cafile, capath and cadefault are deprecated, use a custom context instead.\n",
      "  response = urlopen(url, cafile=certifi.where())\n"
     ]
    },
    {
     "name": "stdout",
     "output_type": "stream",
     "text": [
      "TDY\n"
     ]
    },
    {
     "name": "stderr",
     "output_type": "stream",
     "text": [
      "C:\\Users\\CHIN\\AppData\\Local\\Temp/ipykernel_4828/1728708311.py:2: DeprecationWarning: cafile, capath and cadefault are deprecated, use a custom context instead.\n",
      "  response = urlopen(url, cafile=certifi.where())\n"
     ]
    },
    {
     "name": "stdout",
     "output_type": "stream",
     "text": [
      "TFX\n"
     ]
    },
    {
     "name": "stderr",
     "output_type": "stream",
     "text": [
      "C:\\Users\\CHIN\\AppData\\Local\\Temp/ipykernel_4828/1728708311.py:2: DeprecationWarning: cafile, capath and cadefault are deprecated, use a custom context instead.\n",
      "  response = urlopen(url, cafile=certifi.where())\n"
     ]
    },
    {
     "name": "stdout",
     "output_type": "stream",
     "text": [
      "TER\n"
     ]
    },
    {
     "name": "stderr",
     "output_type": "stream",
     "text": [
      "C:\\Users\\CHIN\\AppData\\Local\\Temp/ipykernel_4828/1728708311.py:2: DeprecationWarning: cafile, capath and cadefault are deprecated, use a custom context instead.\n",
      "  response = urlopen(url, cafile=certifi.where())\n"
     ]
    },
    {
     "name": "stdout",
     "output_type": "stream",
     "text": [
      "TSLA\n"
     ]
    },
    {
     "name": "stderr",
     "output_type": "stream",
     "text": [
      "C:\\Users\\CHIN\\AppData\\Local\\Temp/ipykernel_4828/1728708311.py:2: DeprecationWarning: cafile, capath and cadefault are deprecated, use a custom context instead.\n",
      "  response = urlopen(url, cafile=certifi.where())\n"
     ]
    },
    {
     "name": "stdout",
     "output_type": "stream",
     "text": [
      "TXN\n"
     ]
    },
    {
     "name": "stderr",
     "output_type": "stream",
     "text": [
      "C:\\Users\\CHIN\\AppData\\Local\\Temp/ipykernel_4828/1728708311.py:2: DeprecationWarning: cafile, capath and cadefault are deprecated, use a custom context instead.\n",
      "  response = urlopen(url, cafile=certifi.where())\n"
     ]
    },
    {
     "name": "stdout",
     "output_type": "stream",
     "text": [
      "TXT\n"
     ]
    },
    {
     "name": "stderr",
     "output_type": "stream",
     "text": [
      "C:\\Users\\CHIN\\AppData\\Local\\Temp/ipykernel_4828/1728708311.py:2: DeprecationWarning: cafile, capath and cadefault are deprecated, use a custom context instead.\n",
      "  response = urlopen(url, cafile=certifi.where())\n"
     ]
    },
    {
     "name": "stdout",
     "output_type": "stream",
     "text": [
      "TMO\n"
     ]
    },
    {
     "name": "stderr",
     "output_type": "stream",
     "text": [
      "C:\\Users\\CHIN\\AppData\\Local\\Temp/ipykernel_4828/1728708311.py:2: DeprecationWarning: cafile, capath and cadefault are deprecated, use a custom context instead.\n",
      "  response = urlopen(url, cafile=certifi.where())\n"
     ]
    },
    {
     "name": "stdout",
     "output_type": "stream",
     "text": [
      "TJX\n"
     ]
    },
    {
     "name": "stderr",
     "output_type": "stream",
     "text": [
      "C:\\Users\\CHIN\\AppData\\Local\\Temp/ipykernel_4828/1728708311.py:2: DeprecationWarning: cafile, capath and cadefault are deprecated, use a custom context instead.\n",
      "  response = urlopen(url, cafile=certifi.where())\n"
     ]
    },
    {
     "name": "stdout",
     "output_type": "stream",
     "text": [
      "TSCO\n"
     ]
    },
    {
     "name": "stderr",
     "output_type": "stream",
     "text": [
      "C:\\Users\\CHIN\\AppData\\Local\\Temp/ipykernel_4828/1728708311.py:2: DeprecationWarning: cafile, capath and cadefault are deprecated, use a custom context instead.\n",
      "  response = urlopen(url, cafile=certifi.where())\n"
     ]
    },
    {
     "name": "stdout",
     "output_type": "stream",
     "text": [
      "TT\n"
     ]
    },
    {
     "name": "stderr",
     "output_type": "stream",
     "text": [
      "C:\\Users\\CHIN\\AppData\\Local\\Temp/ipykernel_4828/1728708311.py:2: DeprecationWarning: cafile, capath and cadefault are deprecated, use a custom context instead.\n",
      "  response = urlopen(url, cafile=certifi.where())\n"
     ]
    },
    {
     "name": "stdout",
     "output_type": "stream",
     "text": [
      "TDG\n"
     ]
    },
    {
     "name": "stderr",
     "output_type": "stream",
     "text": [
      "C:\\Users\\CHIN\\AppData\\Local\\Temp/ipykernel_4828/1728708311.py:2: DeprecationWarning: cafile, capath and cadefault are deprecated, use a custom context instead.\n",
      "  response = urlopen(url, cafile=certifi.where())\n"
     ]
    },
    {
     "name": "stdout",
     "output_type": "stream",
     "text": [
      "TRV\n"
     ]
    },
    {
     "name": "stderr",
     "output_type": "stream",
     "text": [
      "C:\\Users\\CHIN\\AppData\\Local\\Temp/ipykernel_4828/1728708311.py:2: DeprecationWarning: cafile, capath and cadefault are deprecated, use a custom context instead.\n",
      "  response = urlopen(url, cafile=certifi.where())\n"
     ]
    },
    {
     "name": "stdout",
     "output_type": "stream",
     "text": [
      "TRMB\n"
     ]
    },
    {
     "name": "stderr",
     "output_type": "stream",
     "text": [
      "C:\\Users\\CHIN\\AppData\\Local\\Temp/ipykernel_4828/1728708311.py:2: DeprecationWarning: cafile, capath and cadefault are deprecated, use a custom context instead.\n",
      "  response = urlopen(url, cafile=certifi.where())\n"
     ]
    },
    {
     "name": "stdout",
     "output_type": "stream",
     "text": [
      "TFC\n"
     ]
    },
    {
     "name": "stderr",
     "output_type": "stream",
     "text": [
      "C:\\Users\\CHIN\\AppData\\Local\\Temp/ipykernel_4828/1728708311.py:2: DeprecationWarning: cafile, capath and cadefault are deprecated, use a custom context instead.\n",
      "  response = urlopen(url, cafile=certifi.where())\n"
     ]
    },
    {
     "name": "stdout",
     "output_type": "stream",
     "text": [
      "TYL\n"
     ]
    },
    {
     "name": "stderr",
     "output_type": "stream",
     "text": [
      "C:\\Users\\CHIN\\AppData\\Local\\Temp/ipykernel_4828/1728708311.py:2: DeprecationWarning: cafile, capath and cadefault are deprecated, use a custom context instead.\n",
      "  response = urlopen(url, cafile=certifi.where())\n"
     ]
    },
    {
     "name": "stdout",
     "output_type": "stream",
     "text": [
      "TSN\n"
     ]
    },
    {
     "name": "stderr",
     "output_type": "stream",
     "text": [
      "C:\\Users\\CHIN\\AppData\\Local\\Temp/ipykernel_4828/1728708311.py:2: DeprecationWarning: cafile, capath and cadefault are deprecated, use a custom context instead.\n",
      "  response = urlopen(url, cafile=certifi.where())\n"
     ]
    },
    {
     "name": "stdout",
     "output_type": "stream",
     "text": [
      "USB\n"
     ]
    },
    {
     "name": "stderr",
     "output_type": "stream",
     "text": [
      "C:\\Users\\CHIN\\AppData\\Local\\Temp/ipykernel_4828/1728708311.py:2: DeprecationWarning: cafile, capath and cadefault are deprecated, use a custom context instead.\n",
      "  response = urlopen(url, cafile=certifi.where())\n"
     ]
    },
    {
     "name": "stdout",
     "output_type": "stream",
     "text": [
      "UDR\n"
     ]
    },
    {
     "name": "stderr",
     "output_type": "stream",
     "text": [
      "C:\\Users\\CHIN\\AppData\\Local\\Temp/ipykernel_4828/1728708311.py:2: DeprecationWarning: cafile, capath and cadefault are deprecated, use a custom context instead.\n",
      "  response = urlopen(url, cafile=certifi.where())\n"
     ]
    },
    {
     "name": "stdout",
     "output_type": "stream",
     "text": [
      "ULTA\n"
     ]
    },
    {
     "name": "stderr",
     "output_type": "stream",
     "text": [
      "C:\\Users\\CHIN\\AppData\\Local\\Temp/ipykernel_4828/1728708311.py:2: DeprecationWarning: cafile, capath and cadefault are deprecated, use a custom context instead.\n",
      "  response = urlopen(url, cafile=certifi.where())\n"
     ]
    },
    {
     "name": "stdout",
     "output_type": "stream",
     "text": [
      "UNP\n"
     ]
    },
    {
     "name": "stderr",
     "output_type": "stream",
     "text": [
      "C:\\Users\\CHIN\\AppData\\Local\\Temp/ipykernel_4828/1728708311.py:2: DeprecationWarning: cafile, capath and cadefault are deprecated, use a custom context instead.\n",
      "  response = urlopen(url, cafile=certifi.where())\n"
     ]
    },
    {
     "name": "stdout",
     "output_type": "stream",
     "text": [
      "UAL\n"
     ]
    },
    {
     "name": "stderr",
     "output_type": "stream",
     "text": [
      "C:\\Users\\CHIN\\AppData\\Local\\Temp/ipykernel_4828/1728708311.py:2: DeprecationWarning: cafile, capath and cadefault are deprecated, use a custom context instead.\n",
      "  response = urlopen(url, cafile=certifi.where())\n"
     ]
    },
    {
     "name": "stdout",
     "output_type": "stream",
     "text": [
      "UPS\n"
     ]
    },
    {
     "name": "stderr",
     "output_type": "stream",
     "text": [
      "C:\\Users\\CHIN\\AppData\\Local\\Temp/ipykernel_4828/1728708311.py:2: DeprecationWarning: cafile, capath and cadefault are deprecated, use a custom context instead.\n",
      "  response = urlopen(url, cafile=certifi.where())\n"
     ]
    },
    {
     "name": "stdout",
     "output_type": "stream",
     "text": [
      "URI\n"
     ]
    },
    {
     "name": "stderr",
     "output_type": "stream",
     "text": [
      "C:\\Users\\CHIN\\AppData\\Local\\Temp/ipykernel_4828/1728708311.py:2: DeprecationWarning: cafile, capath and cadefault are deprecated, use a custom context instead.\n",
      "  response = urlopen(url, cafile=certifi.where())\n"
     ]
    },
    {
     "name": "stdout",
     "output_type": "stream",
     "text": [
      "UNH\n"
     ]
    },
    {
     "name": "stderr",
     "output_type": "stream",
     "text": [
      "C:\\Users\\CHIN\\AppData\\Local\\Temp/ipykernel_4828/1728708311.py:2: DeprecationWarning: cafile, capath and cadefault are deprecated, use a custom context instead.\n",
      "  response = urlopen(url, cafile=certifi.where())\n"
     ]
    },
    {
     "name": "stdout",
     "output_type": "stream",
     "text": [
      "UHS\n"
     ]
    },
    {
     "name": "stderr",
     "output_type": "stream",
     "text": [
      "C:\\Users\\CHIN\\AppData\\Local\\Temp/ipykernel_4828/1728708311.py:2: DeprecationWarning: cafile, capath and cadefault are deprecated, use a custom context instead.\n",
      "  response = urlopen(url, cafile=certifi.where())\n"
     ]
    },
    {
     "name": "stdout",
     "output_type": "stream",
     "text": [
      "VLO\n"
     ]
    },
    {
     "name": "stderr",
     "output_type": "stream",
     "text": [
      "C:\\Users\\CHIN\\AppData\\Local\\Temp/ipykernel_4828/1728708311.py:2: DeprecationWarning: cafile, capath and cadefault are deprecated, use a custom context instead.\n",
      "  response = urlopen(url, cafile=certifi.where())\n"
     ]
    },
    {
     "name": "stdout",
     "output_type": "stream",
     "text": [
      "VTR\n"
     ]
    },
    {
     "name": "stderr",
     "output_type": "stream",
     "text": [
      "C:\\Users\\CHIN\\AppData\\Local\\Temp/ipykernel_4828/1728708311.py:2: DeprecationWarning: cafile, capath and cadefault are deprecated, use a custom context instead.\n",
      "  response = urlopen(url, cafile=certifi.where())\n"
     ]
    },
    {
     "name": "stdout",
     "output_type": "stream",
     "text": [
      "VLTO\n"
     ]
    },
    {
     "name": "stderr",
     "output_type": "stream",
     "text": [
      "C:\\Users\\CHIN\\AppData\\Local\\Temp/ipykernel_4828/1728708311.py:2: DeprecationWarning: cafile, capath and cadefault are deprecated, use a custom context instead.\n",
      "  response = urlopen(url, cafile=certifi.where())\n"
     ]
    },
    {
     "name": "stdout",
     "output_type": "stream",
     "text": [
      "VRSN\n",
      "VRSK\n"
     ]
    },
    {
     "name": "stderr",
     "output_type": "stream",
     "text": [
      "C:\\Users\\CHIN\\AppData\\Local\\Temp/ipykernel_4828/1728708311.py:2: DeprecationWarning: cafile, capath and cadefault are deprecated, use a custom context instead.\n",
      "  response = urlopen(url, cafile=certifi.where())\n"
     ]
    },
    {
     "name": "stdout",
     "output_type": "stream",
     "text": [
      "VZ\n"
     ]
    },
    {
     "name": "stderr",
     "output_type": "stream",
     "text": [
      "C:\\Users\\CHIN\\AppData\\Local\\Temp/ipykernel_4828/1728708311.py:2: DeprecationWarning: cafile, capath and cadefault are deprecated, use a custom context instead.\n",
      "  response = urlopen(url, cafile=certifi.where())\n"
     ]
    },
    {
     "name": "stdout",
     "output_type": "stream",
     "text": [
      "VRTX\n"
     ]
    },
    {
     "name": "stderr",
     "output_type": "stream",
     "text": [
      "C:\\Users\\CHIN\\AppData\\Local\\Temp/ipykernel_4828/1728708311.py:2: DeprecationWarning: cafile, capath and cadefault are deprecated, use a custom context instead.\n",
      "  response = urlopen(url, cafile=certifi.where())\n"
     ]
    },
    {
     "name": "stdout",
     "output_type": "stream",
     "text": [
      "VFC\n"
     ]
    },
    {
     "name": "stderr",
     "output_type": "stream",
     "text": [
      "C:\\Users\\CHIN\\AppData\\Local\\Temp/ipykernel_4828/1728708311.py:2: DeprecationWarning: cafile, capath and cadefault are deprecated, use a custom context instead.\n",
      "  response = urlopen(url, cafile=certifi.where())\n"
     ]
    },
    {
     "name": "stdout",
     "output_type": "stream",
     "text": [
      "VTRS\n"
     ]
    },
    {
     "name": "stderr",
     "output_type": "stream",
     "text": [
      "C:\\Users\\CHIN\\AppData\\Local\\Temp/ipykernel_4828/1728708311.py:2: DeprecationWarning: cafile, capath and cadefault are deprecated, use a custom context instead.\n",
      "  response = urlopen(url, cafile=certifi.where())\n"
     ]
    },
    {
     "name": "stdout",
     "output_type": "stream",
     "text": [
      "VICI\n"
     ]
    },
    {
     "name": "stderr",
     "output_type": "stream",
     "text": [
      "C:\\Users\\CHIN\\AppData\\Local\\Temp/ipykernel_4828/1728708311.py:2: DeprecationWarning: cafile, capath and cadefault are deprecated, use a custom context instead.\n",
      "  response = urlopen(url, cafile=certifi.where())\n"
     ]
    },
    {
     "name": "stdout",
     "output_type": "stream",
     "text": [
      "V\n"
     ]
    },
    {
     "name": "stderr",
     "output_type": "stream",
     "text": [
      "C:\\Users\\CHIN\\AppData\\Local\\Temp/ipykernel_4828/1728708311.py:2: DeprecationWarning: cafile, capath and cadefault are deprecated, use a custom context instead.\n",
      "  response = urlopen(url, cafile=certifi.where())\n"
     ]
    },
    {
     "name": "stdout",
     "output_type": "stream",
     "text": [
      "VMC\n"
     ]
    },
    {
     "name": "stderr",
     "output_type": "stream",
     "text": [
      "C:\\Users\\CHIN\\AppData\\Local\\Temp/ipykernel_4828/1728708311.py:2: DeprecationWarning: cafile, capath and cadefault are deprecated, use a custom context instead.\n",
      "  response = urlopen(url, cafile=certifi.where())\n"
     ]
    },
    {
     "name": "stdout",
     "output_type": "stream",
     "text": [
      "WRB\n"
     ]
    },
    {
     "name": "stderr",
     "output_type": "stream",
     "text": [
      "C:\\Users\\CHIN\\AppData\\Local\\Temp/ipykernel_4828/1728708311.py:2: DeprecationWarning: cafile, capath and cadefault are deprecated, use a custom context instead.\n",
      "  response = urlopen(url, cafile=certifi.where())\n"
     ]
    },
    {
     "name": "stdout",
     "output_type": "stream",
     "text": [
      "WAB\n"
     ]
    },
    {
     "name": "stderr",
     "output_type": "stream",
     "text": [
      "C:\\Users\\CHIN\\AppData\\Local\\Temp/ipykernel_4828/1728708311.py:2: DeprecationWarning: cafile, capath and cadefault are deprecated, use a custom context instead.\n",
      "  response = urlopen(url, cafile=certifi.where())\n"
     ]
    },
    {
     "name": "stdout",
     "output_type": "stream",
     "text": [
      "WBA\n"
     ]
    },
    {
     "name": "stderr",
     "output_type": "stream",
     "text": [
      "C:\\Users\\CHIN\\AppData\\Local\\Temp/ipykernel_4828/1728708311.py:2: DeprecationWarning: cafile, capath and cadefault are deprecated, use a custom context instead.\n",
      "  response = urlopen(url, cafile=certifi.where())\n"
     ]
    },
    {
     "name": "stdout",
     "output_type": "stream",
     "text": [
      "WMT\n"
     ]
    },
    {
     "name": "stderr",
     "output_type": "stream",
     "text": [
      "C:\\Users\\CHIN\\AppData\\Local\\Temp/ipykernel_4828/1728708311.py:2: DeprecationWarning: cafile, capath and cadefault are deprecated, use a custom context instead.\n",
      "  response = urlopen(url, cafile=certifi.where())\n"
     ]
    },
    {
     "name": "stdout",
     "output_type": "stream",
     "text": [
      "DIS\n"
     ]
    },
    {
     "name": "stderr",
     "output_type": "stream",
     "text": [
      "C:\\Users\\CHIN\\AppData\\Local\\Temp/ipykernel_4828/1728708311.py:2: DeprecationWarning: cafile, capath and cadefault are deprecated, use a custom context instead.\n",
      "  response = urlopen(url, cafile=certifi.where())\n"
     ]
    },
    {
     "name": "stdout",
     "output_type": "stream",
     "text": [
      "WBD\n"
     ]
    },
    {
     "name": "stderr",
     "output_type": "stream",
     "text": [
      "C:\\Users\\CHIN\\AppData\\Local\\Temp/ipykernel_4828/1728708311.py:2: DeprecationWarning: cafile, capath and cadefault are deprecated, use a custom context instead.\n",
      "  response = urlopen(url, cafile=certifi.where())\n"
     ]
    },
    {
     "name": "stdout",
     "output_type": "stream",
     "text": [
      "WM\n"
     ]
    },
    {
     "name": "stderr",
     "output_type": "stream",
     "text": [
      "C:\\Users\\CHIN\\AppData\\Local\\Temp/ipykernel_4828/1728708311.py:2: DeprecationWarning: cafile, capath and cadefault are deprecated, use a custom context instead.\n",
      "  response = urlopen(url, cafile=certifi.where())\n"
     ]
    },
    {
     "name": "stdout",
     "output_type": "stream",
     "text": [
      "WAT\n"
     ]
    },
    {
     "name": "stderr",
     "output_type": "stream",
     "text": [
      "C:\\Users\\CHIN\\AppData\\Local\\Temp/ipykernel_4828/1728708311.py:2: DeprecationWarning: cafile, capath and cadefault are deprecated, use a custom context instead.\n",
      "  response = urlopen(url, cafile=certifi.where())\n"
     ]
    },
    {
     "name": "stdout",
     "output_type": "stream",
     "text": [
      "WEC\n"
     ]
    },
    {
     "name": "stderr",
     "output_type": "stream",
     "text": [
      "C:\\Users\\CHIN\\AppData\\Local\\Temp/ipykernel_4828/1728708311.py:2: DeprecationWarning: cafile, capath and cadefault are deprecated, use a custom context instead.\n",
      "  response = urlopen(url, cafile=certifi.where())\n"
     ]
    },
    {
     "name": "stdout",
     "output_type": "stream",
     "text": [
      "WFC\n"
     ]
    },
    {
     "name": "stderr",
     "output_type": "stream",
     "text": [
      "C:\\Users\\CHIN\\AppData\\Local\\Temp/ipykernel_4828/1728708311.py:2: DeprecationWarning: cafile, capath and cadefault are deprecated, use a custom context instead.\n",
      "  response = urlopen(url, cafile=certifi.where())\n"
     ]
    },
    {
     "name": "stdout",
     "output_type": "stream",
     "text": [
      "WELL\n"
     ]
    },
    {
     "name": "stderr",
     "output_type": "stream",
     "text": [
      "C:\\Users\\CHIN\\AppData\\Local\\Temp/ipykernel_4828/1728708311.py:2: DeprecationWarning: cafile, capath and cadefault are deprecated, use a custom context instead.\n",
      "  response = urlopen(url, cafile=certifi.where())\n"
     ]
    },
    {
     "name": "stdout",
     "output_type": "stream",
     "text": [
      "WST\n"
     ]
    },
    {
     "name": "stderr",
     "output_type": "stream",
     "text": [
      "C:\\Users\\CHIN\\AppData\\Local\\Temp/ipykernel_4828/1728708311.py:2: DeprecationWarning: cafile, capath and cadefault are deprecated, use a custom context instead.\n",
      "  response = urlopen(url, cafile=certifi.where())\n"
     ]
    },
    {
     "name": "stdout",
     "output_type": "stream",
     "text": [
      "WDC\n"
     ]
    },
    {
     "name": "stderr",
     "output_type": "stream",
     "text": [
      "C:\\Users\\CHIN\\AppData\\Local\\Temp/ipykernel_4828/1728708311.py:2: DeprecationWarning: cafile, capath and cadefault are deprecated, use a custom context instead.\n",
      "  response = urlopen(url, cafile=certifi.where())\n"
     ]
    },
    {
     "name": "stdout",
     "output_type": "stream",
     "text": [
      "WRK\n"
     ]
    },
    {
     "name": "stderr",
     "output_type": "stream",
     "text": [
      "C:\\Users\\CHIN\\AppData\\Local\\Temp/ipykernel_4828/1728708311.py:2: DeprecationWarning: cafile, capath and cadefault are deprecated, use a custom context instead.\n",
      "  response = urlopen(url, cafile=certifi.where())\n"
     ]
    },
    {
     "name": "stdout",
     "output_type": "stream",
     "text": [
      "WY\n"
     ]
    },
    {
     "name": "stderr",
     "output_type": "stream",
     "text": [
      "C:\\Users\\CHIN\\AppData\\Local\\Temp/ipykernel_4828/1728708311.py:2: DeprecationWarning: cafile, capath and cadefault are deprecated, use a custom context instead.\n",
      "  response = urlopen(url, cafile=certifi.where())\n"
     ]
    },
    {
     "name": "stdout",
     "output_type": "stream",
     "text": [
      "WHR\n"
     ]
    },
    {
     "name": "stderr",
     "output_type": "stream",
     "text": [
      "C:\\Users\\CHIN\\AppData\\Local\\Temp/ipykernel_4828/1728708311.py:2: DeprecationWarning: cafile, capath and cadefault are deprecated, use a custom context instead.\n",
      "  response = urlopen(url, cafile=certifi.where())\n"
     ]
    },
    {
     "name": "stdout",
     "output_type": "stream",
     "text": [
      "WMB\n"
     ]
    },
    {
     "name": "stderr",
     "output_type": "stream",
     "text": [
      "C:\\Users\\CHIN\\AppData\\Local\\Temp/ipykernel_4828/1728708311.py:2: DeprecationWarning: cafile, capath and cadefault are deprecated, use a custom context instead.\n",
      "  response = urlopen(url, cafile=certifi.where())\n"
     ]
    },
    {
     "name": "stdout",
     "output_type": "stream",
     "text": [
      "WTW\n"
     ]
    },
    {
     "name": "stderr",
     "output_type": "stream",
     "text": [
      "C:\\Users\\CHIN\\AppData\\Local\\Temp/ipykernel_4828/1728708311.py:2: DeprecationWarning: cafile, capath and cadefault are deprecated, use a custom context instead.\n",
      "  response = urlopen(url, cafile=certifi.where())\n"
     ]
    },
    {
     "name": "stdout",
     "output_type": "stream",
     "text": [
      "GWW\n"
     ]
    },
    {
     "name": "stderr",
     "output_type": "stream",
     "text": [
      "C:\\Users\\CHIN\\AppData\\Local\\Temp/ipykernel_4828/1728708311.py:2: DeprecationWarning: cafile, capath and cadefault are deprecated, use a custom context instead.\n",
      "  response = urlopen(url, cafile=certifi.where())\n"
     ]
    },
    {
     "name": "stdout",
     "output_type": "stream",
     "text": [
      "WYNN\n"
     ]
    },
    {
     "name": "stderr",
     "output_type": "stream",
     "text": [
      "C:\\Users\\CHIN\\AppData\\Local\\Temp/ipykernel_4828/1728708311.py:2: DeprecationWarning: cafile, capath and cadefault are deprecated, use a custom context instead.\n",
      "  response = urlopen(url, cafile=certifi.where())\n"
     ]
    },
    {
     "name": "stdout",
     "output_type": "stream",
     "text": [
      "XEL\n"
     ]
    },
    {
     "name": "stderr",
     "output_type": "stream",
     "text": [
      "C:\\Users\\CHIN\\AppData\\Local\\Temp/ipykernel_4828/1728708311.py:2: DeprecationWarning: cafile, capath and cadefault are deprecated, use a custom context instead.\n",
      "  response = urlopen(url, cafile=certifi.where())\n"
     ]
    },
    {
     "name": "stdout",
     "output_type": "stream",
     "text": [
      "XYL\n"
     ]
    },
    {
     "name": "stderr",
     "output_type": "stream",
     "text": [
      "C:\\Users\\CHIN\\AppData\\Local\\Temp/ipykernel_4828/1728708311.py:2: DeprecationWarning: cafile, capath and cadefault are deprecated, use a custom context instead.\n",
      "  response = urlopen(url, cafile=certifi.where())\n"
     ]
    },
    {
     "name": "stdout",
     "output_type": "stream",
     "text": [
      "YUM\n"
     ]
    },
    {
     "name": "stderr",
     "output_type": "stream",
     "text": [
      "C:\\Users\\CHIN\\AppData\\Local\\Temp/ipykernel_4828/1728708311.py:2: DeprecationWarning: cafile, capath and cadefault are deprecated, use a custom context instead.\n",
      "  response = urlopen(url, cafile=certifi.where())\n"
     ]
    },
    {
     "name": "stdout",
     "output_type": "stream",
     "text": [
      "ZBRA\n"
     ]
    },
    {
     "name": "stderr",
     "output_type": "stream",
     "text": [
      "C:\\Users\\CHIN\\AppData\\Local\\Temp/ipykernel_4828/1728708311.py:2: DeprecationWarning: cafile, capath and cadefault are deprecated, use a custom context instead.\n",
      "  response = urlopen(url, cafile=certifi.where())\n"
     ]
    },
    {
     "name": "stdout",
     "output_type": "stream",
     "text": [
      "ZBH\n"
     ]
    },
    {
     "name": "stderr",
     "output_type": "stream",
     "text": [
      "C:\\Users\\CHIN\\AppData\\Local\\Temp/ipykernel_4828/1728708311.py:2: DeprecationWarning: cafile, capath and cadefault are deprecated, use a custom context instead.\n",
      "  response = urlopen(url, cafile=certifi.where())\n"
     ]
    },
    {
     "name": "stdout",
     "output_type": "stream",
     "text": [
      "ZION\n"
     ]
    },
    {
     "name": "stderr",
     "output_type": "stream",
     "text": [
      "C:\\Users\\CHIN\\AppData\\Local\\Temp/ipykernel_4828/1728708311.py:2: DeprecationWarning: cafile, capath and cadefault are deprecated, use a custom context instead.\n",
      "  response = urlopen(url, cafile=certifi.where())\n"
     ]
    },
    {
     "name": "stdout",
     "output_type": "stream",
     "text": [
      "ZTS\n"
     ]
    },
    {
     "name": "stderr",
     "output_type": "stream",
     "text": [
      "C:\\Users\\CHIN\\AppData\\Local\\Temp/ipykernel_4828/1728708311.py:2: DeprecationWarning: cafile, capath and cadefault are deprecated, use a custom context instead.\n",
      "  response = urlopen(url, cafile=certifi.where())\n"
     ]
    }
   ],
   "source": [
    "from datetime import date\n",
    "table=pd.read_html('https://en.wikipedia.org/wiki/List_of_S%26P_500_companies')\n",
    "df = table[0]\n",
    "ticker_all = df['Symbol'].values\n",
    "all_eps= pd.DataFrame()\n",
    "Yearly_eps = pd.DataFrame()\n",
    "for ticker_Select in ticker_all:\n",
    "    print(ticker_Select)\n",
    "    ticker=ticker_Select\n",
    "    EPS_link = 'https://financialmodelingprep.com/api/v4/owner_earnings?symbol='+ticker+'&apikey='+api\n",
    "    # daily_stock_temp = api_reading(daily_stock_link )\n",
    "    eps = get_jsonparsed_data(EPS_link)\n",
    "    if eps.shape[0]>0:\n",
    "        eps = eps.sort_values(by='date')\n",
    "        eps['EPS_Sum_4Quarters'] = eps['ownersEarningsPerShare'].rolling(window=4).sum()\n",
    "        eps['QuarterlyEPSIncrease'] = eps['EPS_Sum_4Quarters'].pct_change() * 100\n",
    "        eps['QuarterlyEPSIncrease'] = (   eps['EPS_Sum_4Quarters'] -  eps['EPS_Sum_4Quarters'].shift(1))/abs( eps['EPS_Sum_4Quarters'].shift(1))*100\n",
    "        eps['ContinuousIncreaseQuarter'] = eps['QuarterlyEPSIncrease'] > 5\n",
    "        eps['ContinuousIncrease_lastQuarter'] = eps['ContinuousIncreaseQuarter'].shift(1)\n",
    "        eps['ContinuousIncrease_last2Quarter'] = eps['ContinuousIncreaseQuarter'].shift(2)\n",
    "        # Create a new column 'Year' containing the year extracted from the 'Date' column\n",
    "        eps['Year'] = pd.to_datetime(eps['date']).dt.year\n",
    "        YearEPS = eps.groupby(['Year'])['ownersEarningsPerShare'].sum().reset_index().rename(columns = {'ownersEarningsPerShare':'YearlyEPS'})\n",
    "        YearEPS['EPS_GrowthYearly'] =(  YearEPS['YearlyEPS'] - YearEPS['YearlyEPS'].shift(1))/abs(YearEPS['YearlyEPS'].shift(1))*100\n",
    "        # Add a new column 'ContinuousIncrease' to indicate if the EPS is continuously increasing\n",
    "        YearEPS['ContinuousIncreaseyearly'] = YearEPS['EPS_GrowthYearly'] > 5\n",
    "        YearEPS['ContinuousIncrease_lastyear'] = YearEPS['ContinuousIncreaseyearly'].shift(1)\n",
    "        YearEPS['ContinuousIncrease_last2year'] = YearEPS['ContinuousIncreaseyearly'].shift(2)\n",
    "        YearEPS['YearlyEPS_lastyear'] = YearEPS['YearlyEPS'].shift(1)\n",
    "        YearEPS['YearlyEPS_last2year'] = YearEPS['YearlyEPS'].shift(2)\n",
    "        # Create a DataFrame with all possible date and symbol combinations\n",
    "        date_range = pd.date_range(start=eps['date'].min(), end=date.today(), freq='D')\n",
    "        all_combinations = pd.MultiIndex.from_product([date_range], names=['date']).to_frame(index=False)\n",
    "        all_combinations['date'] = pd.to_datetime(all_combinations['date']).dt.strftime(\"%Y-%m-%d\")\n",
    "        eps= pd.merge(all_combinations, eps, on=[ 'date'], how='left')\n",
    "        # Fill missing values with the previous price target\n",
    "        eps['EPS_Sum_4Quarters'] = eps['EPS_Sum_4Quarters'].fillna(method='ffill')\n",
    "        #eps['YearlyEPS'] = eps['YearlyEPS'].fillna(method='ffill')\n",
    "        #eps['EPS_GrowthYearly'] = eps['EPS_GrowthYearly'].fillna(method='ffill')\n",
    "        eps['Year'] = eps['Year'].fillna(method='ffill')\n",
    "        eps['ownersEarningsPerShare'] = eps['ownersEarningsPerShare'].fillna(method='ffill')\n",
    "        eps['EPS_Sum_4Quarters'] = eps['EPS_Sum_4Quarters'].fillna(method='ffill')\n",
    "        eps['QuarterlyEPSIncrease'] = eps['QuarterlyEPSIncrease'].fillna(method='ffill')\n",
    "        eps['ContinuousIncreaseQuarter'] = eps['ContinuousIncreaseQuarter'].fillna(method='ffill')\n",
    "        eps['ContinuousIncrease_last2Quarter'] = eps['ContinuousIncrease_last2Quarter'].fillna(method='ffill')\n",
    "        eps['ContinuousIncrease_lastQuarter'] = eps['ContinuousIncrease_lastQuarter'].fillna(method='ffill')\n",
    "        eps =pd.merge(eps,YearEPS,on = 'Year',how='left')\n",
    "        eps['symbol'] = ticker\n",
    "        all_eps= pd.concat([eps,all_eps])\n",
    "        YearEPS['symbol'] = ticker\n",
    "        Yearly_eps = pd.concat([Yearly_eps,YearEPS])"
   ]
  },
  {
   "cell_type": "code",
   "execution_count": 14,
   "id": "f777106e",
   "metadata": {
    "scrolled": true
   },
   "outputs": [
    {
     "name": "stderr",
     "output_type": "stream",
     "text": [
      "C:\\Users\\CHIN\\AppData\\Local\\Temp/ipykernel_4828/2325089211.py:9: SettingWithCopyWarning: \n",
      "A value is trying to be set on a copy of a slice from a DataFrame.\n",
      "Try using .loc[row_indexer,col_indexer] = value instead\n",
      "\n",
      "See the caveats in the documentation: https://pandas.pydata.org/pandas-docs/stable/user_guide/indexing.html#returning-a-view-versus-a-copy\n",
      "  Not_selected['EPS_Rank'] = 999\n"
     ]
    }
   ],
   "source": [
    "selected_stock = Yearly_eps.copy()\n",
    "selected_stock = Yearly_eps[(Yearly_eps['ContinuousIncreaseyearly']==True ) & (Yearly_eps['ContinuousIncrease_lastyear']==True )& (Yearly_eps['ContinuousIncrease_last2year']==True )& (Yearly_eps['symbol']!='GOOG' )]\n",
    "selected_stock = selected_stock[(selected_stock['YearlyEPS_last2year']>0)& (selected_stock['YearlyEPS_lastyear']>0)]\n",
    "\n",
    "# calculate yearly EPS and buy only the one highest growth\n",
    "selected_stock = selected_stock[selected_stock['YearlyEPS']>0]\n",
    "selected_stock['EPS_Rank'] = selected_stock.groupby([ 'Year'])['EPS_GrowthYearly'].rank(ascending=False)\n",
    "Not_selected =Yearly_eps[(Yearly_eps['ContinuousIncreaseyearly']==False )|(Yearly_eps['ContinuousIncrease_lastyear']==False )|(Yearly_eps['ContinuousIncrease_last2year']==False )|(Yearly_eps['YearlyEPS']<0)|(Yearly_eps['YearlyEPS_last2year']<0)|(Yearly_eps['YearlyEPS_lastyear']<0)]\n",
    "Not_selected['EPS_Rank'] = 999 \n",
    "selected_stock =pd.concat([selected_stock,Not_selected])\n",
    "selected_stock['InvestedYear'] = selected_stock[ 'Year']+1\n",
    "selected_stock.loc[selected_stock['EPS_Rank']<=5,'Signal']=1\n",
    "selected_stock.loc[selected_stock['EPS_Rank']>5,'Signal']=0\n",
    "selected_stock.reset_index(inplace=True)\n",
    "selected_stock['LastYearEPS_Rank'] = selected_stock.sort_values(by = 'Year').groupby(['symbol'])['EPS_Rank'].shift(1)\n",
    "# define apr as cut off\n",
    "selected_stock['InvestedDateFrom'] = selected_stock['InvestedYear'].astype(str).str[:4]  +'-04-01'\n",
    "selected_stock['InvestedDateTo'] = (selected_stock['InvestedYear']+1).astype(str).str[:4]  +'-04-01'\n",
    "#all_raw = pd.merge(all_raw,YearlyEPS[['symbol', 'InvestedYear','Signal']],left_on = ['symbol','year'], right_on = ['symbol', 'InvestedYear'])"
   ]
  },
  {
   "cell_type": "code",
   "execution_count": 20,
   "id": "56fa53cb",
   "metadata": {},
   "outputs": [],
   "source": [
    "selected_stock.to_csv('test2.csv')"
   ]
  },
  {
   "cell_type": "code",
   "execution_count": 15,
   "id": "1a37ee00",
   "metadata": {
    "scrolled": true
   },
   "outputs": [
    {
     "name": "stdout",
     "output_type": "stream",
     "text": [
      "AMD\n"
     ]
    },
    {
     "name": "stderr",
     "output_type": "stream",
     "text": [
      "C:\\Users\\CHIN\\AppData\\Local\\Temp/ipykernel_4828/1728708311.py:2: DeprecationWarning: cafile, capath and cadefault are deprecated, use a custom context instead.\n",
      "  response = urlopen(url, cafile=certifi.where())\n"
     ]
    },
    {
     "name": "stdout",
     "output_type": "stream",
     "text": [
      "ALGN\n",
      "GOOGL\n",
      "AIZ\n",
      "AVGO\n",
      "CBOE\n",
      "DE\n",
      "DXCM\n",
      "DG\n",
      "D\n",
      "ENPH\n",
      "ETSY\n",
      "EVRG\n",
      "EXPD\n",
      "FDS\n",
      "IT\n",
      "IQV\n",
      "KHC\n",
      "LIN\n",
      "META\n",
      "MOS\n",
      "NVR\n",
      "PNW\n",
      "PHM\n",
      "SNPS\n",
      "TSLA\n",
      "TSCO\n",
      "ULTA\n",
      "V\n",
      "DIS\n"
     ]
    }
   ],
   "source": [
    "import pandas_ta as ta\n",
    "ticker_all =selected_stock[(selected_stock['Signal']==1)&(selected_stock['Year']>2017)].symbol.unique()\n",
    "all_daily_stock = pd.DataFrame()\n",
    "for ticker_Select in ticker_all:\n",
    "    print(ticker_Select)\n",
    "    #ticker = stock_extract\n",
    "    daily_stock_link = 'https://financialmodelingprep.com/api/v3/historical-price-full/'+ticker_Select+'?apikey='+api\n",
    "    daily_stock = get_jsonparsed_data(daily_stock_link )\n",
    "    daily_stock = pd.json_normalize(daily_stock['historical'])\n",
    "    daily_stock = daily_stock.sort_values(by=['date'])\n",
    "    daily_stock['Symbol'] = ticker_Select\n",
    "    daily_stock['ema20'] = ema(daily_stock,20,'adjClose')\n",
    "    daily_stock['sma20'] = sma(daily_stock,20,'adjClose')\n",
    "    daily_stock['sma60'] = sma(daily_stock,60,'adjClose')\n",
    "    daily_stock['sma120'] = sma(daily_stock,120,'adjClose')\n",
    "    all_daily_stock = pd.concat([all_daily_stock,daily_stock])\n",
    "    "
   ]
  },
  {
   "cell_type": "code",
   "execution_count": 29,
   "id": "0174854d",
   "metadata": {
    "scrolled": true
   },
   "outputs": [],
   "source": [
    "all_raw = pd.merge(all_daily_stock,all_eps, left_on =['Symbol','date'], right_on = ['symbol','date'],how='left')\n",
    "#all_raw['uptrend'] = all_raw['adjClose']>=all_raw['SMA20']\n",
    "all_raw['uptrend'] = all_raw['sma20']>=all_raw['SMA60']\n",
    "all_raw['year'] = pd.to_datetime(all_raw['date']).dt.year\n",
    "all_raw = pd.merge(all_raw,selected_stock[['symbol', 'InvestedYear','Signal','EPS_Rank','LastYearEPS_Rank','InvestedDateFrom','InvestedDateTo']],left_on = ['symbol','year'], right_on = ['symbol', 'InvestedYear'],how='left')\n",
    "all_raw.loc[(all_raw.date>=all_raw.InvestedDateFrom) &(all_raw.date<all_raw.InvestedDateTo) & (all_raw.EPS_Rank<=5),'Signal']=1\n",
    "all_raw.loc[(all_raw.date<all_raw.InvestedDateFrom) & (all_raw.EPS_Rank<=5),'Signal']=0\n",
    "all_raw.loc[(all_raw.date<all_raw.InvestedDateFrom) &  (all_raw.LastYearEPS_Rank<=5),'Signal']=1"
   ]
  },
  {
   "cell_type": "code",
   "execution_count": 30,
   "id": "2d9a37f1",
   "metadata": {
    "scrolled": true
   },
   "outputs": [],
   "source": [
    "all_signal = pd.DataFrame()\n",
    "for stock_pick in all_raw.Symbol.unique():\n",
    "    \n",
    "    temp_data = all_raw[all_raw['symbol']==stock_pick]\n",
    "    temp_data = temp_data.sort_values(by=['date'])\n",
    "    temp_data = Get_Signal(temp_data)\n",
    "    all_signal = pd.concat([all_signal,temp_data])"
   ]
  },
  {
   "cell_type": "markdown",
   "id": "e55d6916",
   "metadata": {},
   "source": [
    "# Open price backtest"
   ]
  },
  {
   "cell_type": "code",
   "execution_count": 31,
   "id": "2f8fedf8",
   "metadata": {},
   "outputs": [],
   "source": [
    "all_signal['Price'] = all_signal['open'] "
   ]
  },
  {
   "cell_type": "code",
   "execution_count": 32,
   "id": "07f24bbb",
   "metadata": {
    "scrolled": true
   },
   "outputs": [
    {
     "name": "stdout",
     "output_type": "stream",
     "text": [
      "2018-12-17 00:00:00\n",
      "1000.0\n",
      "2018-12-18 00:00:00\n",
      "1000.0000000000002\n",
      "2018-12-19 00:00:00\n",
      "1000.0000000000005\n",
      "2018-12-20 00:00:00\n",
      "1000.0000000000007\n",
      "2018-12-21 00:00:00\n",
      "1000.0000000000008\n",
      "2018-12-24 00:00:00\n",
      "1000.0000000000008\n",
      "2018-12-26 00:00:00\n",
      "1000.0000000000008\n",
      "2018-12-27 00:00:00\n",
      "1000.0000000000008\n",
      "2018-12-28 00:00:00\n",
      "1000.0000000000008\n",
      "2018-12-31 00:00:00\n",
      "1000.0000000000008\n",
      "2019-01-02 00:00:00\n",
      "1000.0000000000008\n",
      "2019-01-03 00:00:00\n",
      "1000.0000000000008\n",
      "2019-01-04 00:00:00\n",
      "1000.0000000000008\n",
      "2019-01-07 00:00:00\n",
      "1000.0000000000008\n",
      "2019-01-08 00:00:00\n",
      "1000.0000000000008\n",
      "2019-01-09 00:00:00\n",
      "1000.0000000000008\n",
      "2019-01-10 00:00:00\n",
      "1000.0000000000008\n",
      "2019-01-11 00:00:00\n",
      "1000.0000000000008\n",
      "2019-01-14 00:00:00\n",
      "1000.0000000000008\n",
      "2019-01-15 00:00:00\n",
      "1000.0000000000008\n",
      "2019-01-16 00:00:00\n",
      "1000.0000000000008\n",
      "2019-01-17 00:00:00\n",
      "1000.0000000000008\n",
      "2019-01-18 00:00:00\n",
      "1000.0000000000008\n",
      "2019-01-22 00:00:00\n",
      "1000.0000000000008\n",
      "2019-01-23 00:00:00\n",
      "1000.0000000000008\n",
      "2019-01-24 00:00:00\n",
      "1000.0000000000008\n",
      "2019-01-25 00:00:00\n",
      "1000.0000000000008\n",
      "2019-01-28 00:00:00\n",
      "1000.0000000000008\n",
      "2019-01-29 00:00:00\n",
      "1000.0000000000008\n",
      "2019-01-30 00:00:00\n",
      "1000.0000000000008\n",
      "2019-01-31 00:00:00\n",
      "1000.0000000000008\n",
      "2019-02-01 00:00:00\n",
      "1000.0000000000008\n",
      "2019-02-04 00:00:00\n",
      "1000.0000000000008\n",
      "2019-02-05 00:00:00\n",
      "1000.0000000000008\n",
      "2019-02-06 00:00:00\n",
      "1000.0000000000008\n",
      "2019-02-07 00:00:00\n",
      "1000.0000000000008\n",
      "2019-02-08 00:00:00\n",
      "1000.0000000000008\n",
      "2019-02-11 00:00:00\n",
      "1000.0000000000008\n",
      "2019-02-12 00:00:00\n",
      "1000.0000000000008\n",
      "2019-02-13 00:00:00\n",
      "1000.0000000000008\n",
      "2019-02-14 00:00:00\n",
      "1000.0000000000008\n",
      "2019-02-15 00:00:00\n",
      "1000.0000000000008\n",
      "2019-02-19 00:00:00\n",
      "1000.0000000000008\n",
      "2019-02-20 00:00:00\n",
      "1000.0000000000008\n",
      "2019-02-21 00:00:00\n",
      "1000.0000000000008\n",
      "2019-02-22 00:00:00\n",
      "1000.0000000000008\n",
      "2019-02-25 00:00:00\n",
      "1000.0000000000008\n",
      "2019-02-26 00:00:00\n",
      "1000.0000000000008\n",
      "2019-02-27 00:00:00\n",
      "1000.0000000000008\n",
      "2019-02-28 00:00:00\n",
      "1000.0000000000008\n",
      "2019-03-01 00:00:00\n",
      "1000.0000000000008\n",
      "2019-03-04 00:00:00\n",
      "1000.0000000000008\n",
      "2019-03-05 00:00:00\n",
      "1000.0000000000008\n",
      "2019-03-06 00:00:00\n",
      "1000.0000000000008\n",
      "2019-03-07 00:00:00\n",
      "1000.0000000000008\n",
      "2019-03-08 00:00:00\n",
      "1000.0000000000008\n",
      "2019-03-11 00:00:00\n",
      "1000.0000000000008\n",
      "2019-03-12 00:00:00\n",
      "1000.0000000000008\n",
      "2019-03-13 00:00:00\n",
      "1000.0000000000008\n",
      "2019-03-14 00:00:00\n",
      "1000.0000000000008\n",
      "2019-03-15 00:00:00\n",
      "1000.0000000000008\n",
      "2019-03-18 00:00:00\n",
      "1000.0000000000008\n",
      "2019-03-19 00:00:00\n",
      "1000.0000000000008\n",
      "2019-03-20 00:00:00\n",
      "1000.0000000000008\n",
      "2019-03-21 00:00:00\n",
      "1000.0000000000008\n",
      "2019-03-22 00:00:00\n",
      "1000.0000000000008\n",
      "2019-03-25 00:00:00\n",
      "1000.0000000000008\n",
      "2019-03-26 00:00:00\n",
      "1000.0000000000008\n",
      "2019-03-27 00:00:00\n",
      "1000.0000000000008\n",
      "2019-03-28 00:00:00\n",
      "1000.0000000000008\n",
      "2019-03-29 00:00:00\n",
      "1000.0000000000008\n",
      "2019-04-01 00:00:00\n",
      "1000.0000000000008\n",
      "2019-04-02 00:00:00\n",
      "1000.0000000000008\n",
      "2019-04-03 00:00:00\n",
      "998.6200000000008\n",
      "2019-04-04 00:00:00\n",
      "995.6300000000009\n",
      "2019-04-05 00:00:00\n",
      "1001.3100000000009\n",
      "2019-04-08 00:00:00\n",
      "1007.7300000000009\n",
      "2019-04-09 00:00:00\n",
      "1005.3400000000008\n",
      "2019-04-10 00:00:00\n",
      "1003.4200000000008\n",
      "2019-04-11 00:00:00\n",
      "1007.4300000000007\n",
      "2019-04-12 00:00:00\n",
      "1014.8500000000007\n",
      "2019-04-15 00:00:00\n",
      "1011.1300000000007\n",
      "2019-04-16 00:00:00\n",
      "1012.8400000000008\n",
      "2019-04-17 00:00:00\n",
      "1011.8900000000008\n",
      "2019-04-18 00:00:00\n",
      "1015.3600000000008\n",
      "2019-04-22 00:00:00\n",
      "1023.9300000000009\n",
      "2019-04-23 00:00:00\n",
      "1029.200000000001\n",
      "2019-04-24 00:00:00\n",
      "1040.9100000000012\n",
      "2019-04-25 00:00:00\n",
      "1022.850000000001\n",
      "2019-04-26 00:00:00\n",
      "1026.210000000001\n",
      "2019-04-29 00:00:00\n",
      "1020.2400000000009\n",
      "2019-04-30 00:00:00\n",
      "1012.1500000000009\n",
      "2019-05-01 00:00:00\n",
      "1012.650000000001\n",
      "2019-05-02 00:00:00\n",
      "1011.2600000000011\n",
      "2019-05-03 00:00:00\n",
      "1013.9700000000012\n",
      "2019-05-06 00:00:00\n",
      "1011.5600000000013\n",
      "2019-05-07 00:00:00\n",
      "1012.0400000000013\n",
      "2019-05-08 00:00:00\n",
      "1007.6400000000014\n",
      "2019-05-09 00:00:00\n",
      "1006.9200000000014\n",
      "2019-05-10 00:00:00\n",
      "1021.3200000000015\n",
      "2019-05-13 00:00:00\n",
      "1006.9200000000014\n",
      "2019-05-14 00:00:00\n",
      "1012.7600000000016\n",
      "2019-05-15 00:00:00\n",
      "1024.4400000000016\n",
      "2019-05-16 00:00:00\n",
      "1023.7600000000016\n",
      "2019-05-17 00:00:00\n",
      "1026.0600000000018\n",
      "2019-05-20 00:00:00\n",
      "1035.2600000000016\n",
      "2019-05-21 00:00:00\n",
      "1026.9600000000016\n",
      "2019-05-22 00:00:00\n",
      "1024.7100000000016\n",
      "2019-05-23 00:00:00\n",
      "1029.1100000000017\n",
      "2019-05-24 00:00:00\n",
      "1028.5600000000018\n",
      "2019-05-28 00:00:00\n",
      "1028.900000000002\n",
      "2019-05-29 00:00:00\n",
      "1002.0400000000018\n",
      "2019-05-30 00:00:00\n",
      "1006.4600000000019\n",
      "2019-05-31 00:00:00\n",
      "1006.4600000000019\n",
      "2019-06-03 00:00:00\n",
      "1011.5600000000019\n",
      "2019-06-04 00:00:00\n",
      "1018.5300000000019\n",
      "2019-06-05 00:00:00\n",
      "1019.720000000002\n",
      "2019-06-06 00:00:00\n",
      "1027.720000000002\n",
      "2019-06-07 00:00:00\n",
      "1033.080000000002\n",
      "2019-06-10 00:00:00\n",
      "1040.200000000002\n",
      "2019-06-11 00:00:00\n",
      "1038.060000000002\n",
      "2019-06-12 00:00:00\n",
      "1032.0800000000022\n",
      "2019-06-13 00:00:00\n",
      "1033.210000000002\n",
      "2019-06-14 00:00:00\n",
      "1035.930000000002\n",
      "2019-06-17 00:00:00\n",
      "1047.190000000002\n",
      "2019-06-18 00:00:00\n",
      "1046.250000000002\n",
      "2019-06-19 00:00:00\n",
      "1040.8700000000022\n",
      "2019-06-20 00:00:00\n",
      "1041.800000000002\n",
      "2019-06-21 00:00:00\n",
      "1046.9200000000021\n",
      "2019-06-24 00:00:00\n",
      "1037.0800000000022\n",
      "2019-06-25 00:00:00\n",
      "1036.1200000000022\n",
      "2019-06-26 00:00:00\n",
      "1032.7600000000023\n",
      "2019-06-27 00:00:00\n",
      "1014.3600000000022\n",
      "2019-06-28 00:00:00\n",
      "1014.3600000000026\n",
      "2019-07-01 00:00:00\n",
      "1014.3600000000029\n",
      "2019-07-02 00:00:00\n",
      "997.1400000000028\n",
      "2019-07-03 00:00:00\n",
      "999.4800000000027\n",
      "2019-07-05 00:00:00\n",
      "996.5900000000028\n",
      "2019-07-08 00:00:00\n",
      "993.9700000000028\n",
      "2019-07-09 00:00:00\n",
      "987.9700000000028\n",
      "2019-07-10 00:00:00\n",
      "989.7900000000028\n",
      "2019-07-11 00:00:00\n",
      "986.6600000000027\n",
      "2019-07-12 00:00:00\n",
      "990.4400000000027\n",
      "2019-07-15 00:00:00\n",
      "1003.6900000000026\n",
      "2019-07-16 00:00:00\n",
      "1000.3500000000026\n",
      "2019-07-17 00:00:00\n",
      "1011.5300000000027\n",
      "2019-07-18 00:00:00\n",
      "1006.3000000000028\n",
      "2019-07-19 00:00:00\n",
      "1008.9600000000028\n",
      "2019-07-22 00:00:00\n",
      "1008.1000000000028\n",
      "2019-07-23 00:00:00\n",
      "997.5200000000028\n",
      "2019-07-24 00:00:00\n",
      "991.9200000000028\n",
      "2019-07-25 00:00:00\n",
      "960.6300000000028\n",
      "2019-07-26 00:00:00\n",
      "951.8500000000029\n",
      "2019-07-29 00:00:00\n",
      "955.3400000000029\n",
      "2019-07-30 00:00:00\n",
      "945.4400000000028\n",
      "2019-07-31 00:00:00\n",
      "945.3600000000029\n",
      "2019-08-01 00:00:00\n",
      "933.5100000000027\n",
      "2019-08-02 00:00:00\n",
      "903.2600000000028\n",
      "2019-08-05 00:00:00\n",
      "903.2600000000027\n",
      "2019-08-06 00:00:00\n",
      "903.2600000000027\n",
      "2019-08-07 00:00:00\n",
      "903.2600000000027\n",
      "2019-08-08 00:00:00\n",
      "902.0000000000028\n",
      "2019-08-09 00:00:00\n",
      "916.0000000000028\n",
      "2019-08-12 00:00:00\n",
      "913.4600000000028\n",
      "2019-08-13 00:00:00\n",
      "918.0900000000026\n",
      "2019-08-14 00:00:00\n",
      "930.8300000000027\n",
      "2019-08-15 00:00:00\n",
      "919.6300000000026\n",
      "2019-08-16 00:00:00\n",
      "936.5700000000028\n",
      "2019-08-19 00:00:00\n",
      "934.7500000000026\n",
      "2019-08-20 00:00:00\n",
      "950.1500000000027\n",
      "2019-08-21 00:00:00\n",
      "940.4900000000027\n",
      "2019-08-22 00:00:00\n",
      "946.7900000000026\n",
      "2019-08-23 00:00:00\n",
      "947.2100000000027\n",
      "2019-08-26 00:00:00\n",
      "937.6900000000027\n",
      "2019-08-27 00:00:00\n",
      "952.6700000000026\n",
      "2019-08-28 00:00:00\n",
      "947.7700000000027\n",
      "2019-08-29 00:00:00\n",
      "937.8300000000025\n",
      "2019-08-30 00:00:00\n",
      "944.5500000000026\n",
      "2019-09-03 00:00:00\n",
      "942.1100000000026\n",
      "2019-09-04 00:00:00\n",
      "955.9000000000027\n",
      "2019-09-05 00:00:00\n",
      "961.5900000000028\n",
      "2019-09-06 00:00:00\n",
      "953.1400000000028\n",
      "2019-09-09 00:00:00\n",
      "947.1400000000028\n",
      "2019-09-10 00:00:00\n",
      "950.9200000000027\n",
      "2019-09-11 00:00:00\n",
      "949.5700000000028\n",
      "2019-09-12 00:00:00\n",
      "958.2100000000028\n",
      "2019-09-13 00:00:00\n",
      "954.7300000000027\n",
      "2019-09-16 00:00:00\n",
      "954.7800000000028\n",
      "2019-09-17 00:00:00\n",
      "951.8100000000028\n",
      "2019-09-18 00:00:00\n",
      "957.4800000000029\n",
      "2019-09-19 00:00:00\n",
      "954.5700000000028\n",
      "2019-09-20 00:00:00\n",
      "970.0700000000029\n",
      "2019-09-23 00:00:00\n",
      "966.0800000000029\n",
      "2019-09-24 00:00:00\n",
      "971.2700000000027\n",
      "2019-09-25 00:00:00\n",
      "978.8800000000028\n",
      "2019-09-26 00:00:00\n",
      "983.8300000000027\n",
      "2019-09-27 00:00:00\n",
      "983.7600000000027\n",
      "2019-09-30 00:00:00\n",
      "980.8000000000028\n",
      "2019-10-01 00:00:00\n",
      "984.7600000000027\n",
      "2019-10-02 00:00:00\n",
      "980.2700000000027\n",
      "2019-10-03 00:00:00\n",
      "964.2400000000027\n",
      "2019-10-04 00:00:00\n",
      "963.3600000000026\n",
      "2019-10-07 00:00:00\n",
      "982.3400000000025\n",
      "2019-10-08 00:00:00\n",
      "974.6100000000025\n",
      "2019-10-09 00:00:00\n",
      "978.1200000000025\n",
      "2019-10-10 00:00:00\n",
      "976.1300000000025\n",
      "2019-10-11 00:00:00\n",
      "985.2100000000025\n",
      "2019-10-14 00:00:00\n",
      "985.0400000000025\n",
      "2019-10-15 00:00:00\n",
      "999.0300000000024\n",
      "2019-10-16 00:00:00\n",
      "1002.1900000000023\n",
      "2019-10-17 00:00:00\n",
      "1017.3400000000024\n",
      "2019-10-18 00:00:00\n",
      "1013.2200000000024\n",
      "2019-10-21 00:00:00\n",
      "1013.8500000000024\n",
      "2019-10-22 00:00:00\n",
      "1010.7300000000024\n"
     ]
    },
    {
     "name": "stdout",
     "output_type": "stream",
     "text": [
      "2019-10-23 00:00:00\n",
      "1017.3200000000023\n",
      "2019-10-24 00:00:00\n",
      "1077.4800000000023\n",
      "2019-10-25 00:00:00\n",
      "1079.5600000000022\n",
      "2019-10-28 00:00:00\n",
      "1114.8200000000024\n",
      "2019-10-29 00:00:00\n",
      "1092.0600000000024\n",
      "2019-10-30 00:00:00\n",
      "1086.8100000000027\n",
      "2019-10-31 00:00:00\n",
      "1089.9400000000028\n",
      "2019-11-01 00:00:00\n",
      "1096.9800000000027\n",
      "2019-11-04 00:00:00\n",
      "1101.5900000000029\n",
      "2019-11-05 00:00:00\n",
      "1095.3900000000028\n",
      "2019-11-06 00:00:00\n",
      "1090.720000000003\n",
      "2019-11-07 00:00:00\n",
      "1106.940000000003\n",
      "2019-11-08 00:00:00\n",
      "1106.930000000003\n",
      "2019-11-11 00:00:00\n",
      "1116.480000000003\n",
      "2019-11-12 00:00:00\n",
      "1128.8400000000029\n",
      "2019-11-13 00:00:00\n",
      "1127.490000000003\n",
      "2019-11-14 00:00:00\n",
      "1108.260000000003\n",
      "2019-11-15 00:00:00\n",
      "1122.070000000003\n",
      "2019-11-18 00:00:00\n",
      "1118.520000000003\n",
      "2019-11-19 00:00:00\n",
      "1114.7600000000027\n",
      "2019-11-20 00:00:00\n",
      "1140.6100000000029\n",
      "2019-11-21 00:00:00\n",
      "1134.3400000000029\n",
      "2019-11-22 00:00:00\n",
      "1104.5400000000027\n",
      "2019-11-25 00:00:00\n",
      "1110.7500000000027\n",
      "2019-11-26 00:00:00\n",
      "1116.0300000000027\n",
      "2019-11-27 00:00:00\n",
      "1097.2300000000027\n",
      "2019-11-29 00:00:00\n",
      "1092.8600000000029\n",
      "2019-12-02 00:00:00\n",
      "1088.810000000003\n",
      "2019-12-03 00:00:00\n",
      "1067.480000000003\n",
      "2019-12-04 00:00:00\n",
      "1083.6800000000028\n",
      "2019-12-05 00:00:00\n",
      "1085.300000000003\n",
      "2019-12-06 00:00:00\n",
      "1112.300000000003\n",
      "2019-12-09 00:00:00\n",
      "1103.9300000000028\n",
      "2019-12-10 00:00:00\n",
      "1103.1200000000028\n",
      "2019-12-11 00:00:00\n",
      "1104.7400000000027\n",
      "2019-12-12 00:00:00\n",
      "1114.8000000000025\n",
      "2019-12-13 00:00:00\n",
      "1112.4000000000026\n",
      "2019-12-16 00:00:00\n",
      "1124.2200000000025\n",
      "2019-12-17 00:00:00\n",
      "1143.1500000000026\n",
      "2019-12-18 00:00:00\n",
      "1141.7900000000027\n",
      "2019-12-19 00:00:00\n",
      "1190.6300000000026\n",
      "2019-12-20 00:00:00\n",
      "1228.4700000000028\n",
      "2019-12-23 00:00:00\n",
      "1232.4100000000026\n",
      "2019-12-24 00:00:00\n",
      "1233.4400000000026\n",
      "2019-12-26 00:00:00\n",
      "1244.2800000000025\n",
      "2019-12-27 00:00:00\n",
      "1253.3900000000026\n",
      "2019-12-30 00:00:00\n",
      "1245.9000000000026\n",
      "2019-12-31 00:00:00\n",
      "1208.7300000000025\n",
      "2020-01-02 00:00:00\n",
      "1243.3900000000026\n",
      "2020-01-03 00:00:00\n",
      "1245.3500000000026\n",
      "2020-01-06 00:00:00\n",
      "1243.4400000000026\n",
      "2020-01-07 00:00:00\n",
      "1302.2400000000027\n",
      "2020-01-08 00:00:00\n",
      "1314.9300000000026\n",
      "2020-01-09 00:00:00\n",
      "1338.7400000000025\n",
      "2020-01-10 00:00:00\n",
      "1331.0200000000025\n",
      "2020-01-13 00:00:00\n",
      "1342.2600000000025\n",
      "2020-01-14 00:00:00\n",
      "1390.2600000000025\n",
      "2020-01-15 00:00:00\n",
      "1394.9000000000026\n",
      "2020-01-16 00:00:00\n",
      "1376.3000000000027\n",
      "2020-01-17 00:00:00\n",
      "1391.7400000000025\n",
      "2020-01-21 00:00:00\n",
      "1410.1000000000024\n",
      "2020-01-22 00:00:00\n",
      "1426.9200000000023\n",
      "2020-01-23 00:00:00\n",
      "1426.7300000000025\n",
      "2020-01-24 00:00:00\n",
      "1442.5100000000025\n",
      "2020-01-27 00:00:00\n",
      "1421.0400000000025\n",
      "2020-01-28 00:00:00\n",
      "1462.5700000000022\n",
      "2020-01-29 00:00:00\n",
      "1481.5800000000024\n",
      "2020-01-30 00:00:00\n",
      "1504.9000000000024\n",
      "2020-01-31 00:00:00\n",
      "1512.6400000000024\n",
      "2020-02-03 00:00:00\n",
      "1519.8500000000022\n",
      "2020-02-04 00:00:00\n",
      "1668.7500000000023\n",
      "2020-02-05 00:00:00\n",
      "1619.3000000000027\n",
      "2020-02-06 00:00:00\n",
      "1580.5000000000025\n",
      "2020-02-07 00:00:00\n",
      "1612.7800000000027\n",
      "2020-02-10 00:00:00\n",
      "1655.0000000000025\n",
      "2020-02-11 00:00:00\n",
      "1641.7100000000025\n",
      "2020-02-12 00:00:00\n",
      "1645.9400000000028\n",
      "2020-02-13 00:00:00\n",
      "1632.0200000000027\n",
      "2020-02-14 00:00:00\n",
      "1663.7800000000025\n",
      "2020-02-18 00:00:00\n",
      "1687.1400000000026\n",
      "2020-02-19 00:00:00\n",
      "1741.1700000000026\n",
      "2020-02-20 00:00:00\n",
      "1726.7200000000025\n",
      "2020-02-21 00:00:00\n",
      "1729.6500000000026\n",
      "2020-02-24 00:00:00\n",
      "1674.2100000000025\n",
      "2020-02-25 00:00:00\n",
      "1669.5500000000025\n",
      "2020-02-26 00:00:00\n",
      "1585.9700000000025\n",
      "2020-02-27 00:00:00\n",
      "1480.9700000000025\n",
      "2020-02-28 00:00:00\n",
      "1480.9700000000028\n",
      "2020-03-02 00:00:00\n",
      "1480.9700000000032\n",
      "2020-03-03 00:00:00\n",
      "1480.9700000000034\n",
      "2020-03-04 00:00:00\n",
      "1480.9700000000037\n",
      "2020-03-05 00:00:00\n",
      "1480.970000000004\n",
      "2020-03-06 00:00:00\n",
      "1422.970000000004\n",
      "2020-03-09 00:00:00\n",
      "1366.7700000000038\n",
      "2020-03-10 00:00:00\n",
      "1366.770000000004\n",
      "2020-03-11 00:00:00\n",
      "1366.7700000000043\n",
      "2020-03-12 00:00:00\n",
      "1366.7700000000048\n",
      "2020-03-13 00:00:00\n",
      "1366.770000000005\n",
      "2020-03-16 00:00:00\n",
      "1366.7700000000052\n",
      "2020-03-17 00:00:00\n",
      "1366.7700000000054\n",
      "2020-03-18 00:00:00\n",
      "1366.7700000000054\n",
      "2020-03-19 00:00:00\n",
      "1366.7700000000054\n",
      "2020-03-20 00:00:00\n",
      "1366.7700000000054\n",
      "2020-03-23 00:00:00\n",
      "1366.7700000000054\n",
      "2020-03-24 00:00:00\n",
      "1366.7700000000054\n",
      "2020-03-25 00:00:00\n",
      "1366.7700000000054\n",
      "2020-03-26 00:00:00\n",
      "1366.7700000000054\n",
      "2020-03-27 00:00:00\n",
      "1366.7700000000054\n",
      "2020-03-30 00:00:00\n",
      "1366.7700000000054\n",
      "2020-03-31 00:00:00\n",
      "1366.7700000000054\n",
      "2020-04-01 00:00:00\n",
      "1366.7700000000054\n",
      "2020-04-02 00:00:00\n",
      "1366.7700000000054\n",
      "2020-04-03 00:00:00\n",
      "1366.7700000000054\n",
      "2020-04-06 00:00:00\n",
      "1366.7700000000054\n",
      "2020-04-07 00:00:00\n",
      "1366.7700000000054\n",
      "2020-04-08 00:00:00\n",
      "1366.7700000000054\n",
      "2020-04-09 00:00:00\n",
      "1366.7700000000054\n",
      "2020-04-13 00:00:00\n",
      "1366.7700000000054\n",
      "2020-04-14 00:00:00\n",
      "1366.7700000000054\n",
      "2020-04-15 00:00:00\n",
      "1366.7700000000054\n",
      "2020-04-16 00:00:00\n",
      "1366.7700000000054\n",
      "2020-04-17 00:00:00\n",
      "1366.7700000000054\n",
      "2020-04-20 00:00:00\n",
      "1417.7700000000054\n",
      "2020-04-21 00:00:00\n",
      "1407.2300000000052\n",
      "2020-04-22 00:00:00\n",
      "1369.3200000000054\n",
      "2020-04-23 00:00:00\n",
      "1399.4100000000055\n",
      "2020-04-24 00:00:00\n",
      "1437.1500000000053\n",
      "2020-04-27 00:00:00\n",
      "1505.6600000000055\n",
      "2020-04-28 00:00:00\n",
      "1469.2800000000054\n",
      "2020-04-29 00:00:00\n",
      "1490.5300000000054\n",
      "2020-04-30 00:00:00\n",
      "1503.2800000000054\n",
      "2020-05-01 00:00:00\n",
      "1452.2800000000054\n",
      "2020-05-04 00:00:00\n",
      "1503.4500000000055\n",
      "2020-05-05 00:00:00\n",
      "1575.3600000000054\n",
      "2020-05-06 00:00:00\n",
      "1623.3000000000054\n",
      "2020-05-07 00:00:00\n",
      "1710.8500000000054\n",
      "2020-05-08 00:00:00\n",
      "1775.7900000000054\n",
      "2020-05-11 00:00:00\n",
      "1762.7000000000055\n",
      "2020-05-12 00:00:00\n",
      "1797.0600000000054\n",
      "2020-05-13 00:00:00\n",
      "1756.2700000000054\n",
      "2020-05-14 00:00:00\n",
      "1703.4300000000053\n",
      "2020-05-15 00:00:00\n",
      "1705.4900000000052\n",
      "2020-05-18 00:00:00\n",
      "1764.8100000000054\n",
      "2020-05-19 00:00:00\n",
      "1732.6000000000054\n",
      "2020-05-20 00:00:00\n",
      "1730.2900000000054\n",
      "2020-05-21 00:00:00\n",
      "1728.5400000000052\n",
      "2020-05-22 00:00:00\n",
      "1722.5500000000052\n",
      "2020-05-26 00:00:00\n",
      "1769.4900000000052\n",
      "2020-05-27 00:00:00\n",
      "1742.3700000000053\n",
      "2020-05-28 00:00:00\n",
      "1756.4600000000053\n",
      "2020-05-29 00:00:00\n",
      "1754.760000000005\n",
      "2020-06-01 00:00:00\n",
      "1769.230000000005\n",
      "2020-06-02 00:00:00\n",
      "1795.050000000005\n",
      "2020-06-03 00:00:00\n",
      "1834.350000000005\n",
      "2020-06-04 00:00:00\n",
      "1831.8200000000052\n",
      "2020-06-05 00:00:00\n",
      "1847.960000000005\n",
      "2020-06-08 00:00:00\n",
      "1874.4900000000052\n",
      "2020-06-09 00:00:00\n",
      "1877.0300000000052\n",
      "2020-06-10 00:00:00\n",
      "1879.0300000000052\n",
      "2020-06-11 00:00:00\n",
      "1814.190000000005\n",
      "2020-06-12 00:00:00\n",
      "1796.1300000000049\n",
      "2020-06-15 00:00:00\n",
      "1735.8400000000047\n",
      "2020-06-16 00:00:00\n",
      "1841.2000000000046\n",
      "2020-06-17 00:00:00\n",
      "1827.6100000000047\n",
      "2020-06-18 00:00:00\n",
      "1808.4700000000048\n",
      "2020-06-19 00:00:00\n",
      "1832.330000000005\n",
      "2020-06-22 00:00:00\n",
      "1811.5300000000047\n",
      "2020-06-23 00:00:00\n",
      "1816.5100000000048\n",
      "2020-06-24 00:00:00\n",
      "1789.9100000000049\n",
      "2020-06-25 00:00:00\n",
      "1755.6300000000047\n",
      "2020-06-26 00:00:00\n",
      "1775.8600000000047\n",
      "2020-06-29 00:00:00\n",
      "1723.6700000000048\n",
      "2020-06-30 00:00:00\n",
      "1723.6700000000042\n",
      "2020-07-01 00:00:00\n",
      "1759.1500000000042\n",
      "2020-07-02 00:00:00\n",
      "1771.090000000004\n",
      "2020-07-06 00:00:00\n",
      "1806.500000000004\n",
      "2020-07-07 00:00:00\n",
      "1816.4400000000041\n",
      "2020-07-08 00:00:00\n",
      "1810.8700000000042\n",
      "2020-07-09 00:00:00\n",
      "1826.3600000000042\n",
      "2020-07-10 00:00:00\n",
      "1817.7200000000043\n",
      "2020-07-13 00:00:00\n",
      "1830.4500000000041\n",
      "2020-07-14 00:00:00\n",
      "1758.1900000000041\n",
      "2020-07-15 00:00:00\n",
      "1906.6300000000042\n",
      "2020-07-16 00:00:00\n",
      "1935.8200000000043\n",
      "2020-07-17 00:00:00\n",
      "1941.500000000004\n",
      "2020-07-20 00:00:00\n",
      "1960.3800000000042\n",
      "2020-07-21 00:00:00\n",
      "1976.360000000004\n",
      "2020-07-22 00:00:00\n",
      "1973.540000000004\n",
      "2020-07-23 00:00:00\n",
      "1951.1800000000042\n",
      "2020-07-24 00:00:00\n",
      "1920.940000000004\n",
      "2020-07-27 00:00:00\n",
      "1935.320000000004\n",
      "2020-07-28 00:00:00\n",
      "1952.8800000000042\n",
      "2020-07-29 00:00:00\n",
      "1940.500000000004\n",
      "2020-07-30 00:00:00\n",
      "1925.0400000000043\n",
      "2020-07-31 00:00:00\n",
      "1936.8600000000047\n",
      "2020-08-03 00:00:00\n",
      "1961.4700000000048\n",
      "2020-08-04 00:00:00\n",
      "1945.870000000005\n",
      "2020-08-05 00:00:00\n",
      "2004.4800000000048\n",
      "2020-08-06 00:00:00\n",
      "2054.180000000005\n",
      "2020-08-07 00:00:00\n",
      "2015.9700000000048\n",
      "2020-08-10 00:00:00\n",
      "2033.5400000000045\n",
      "2020-08-11 00:00:00\n",
      "2031.4600000000046\n",
      "2020-08-12 00:00:00\n",
      "2032.3000000000043\n",
      "2020-08-13 00:00:00\n",
      "2009.9000000000042\n",
      "2020-08-14 00:00:00\n",
      "2012.760000000004\n",
      "2020-08-17 00:00:00\n",
      "2015.8800000000042\n",
      "2020-08-18 00:00:00\n",
      "2029.9200000000042\n",
      "2020-08-19 00:00:00\n",
      "2016.030000000004\n",
      "2020-08-20 00:00:00\n",
      "1985.9900000000043\n",
      "2020-08-21 00:00:00\n",
      "1974.3600000000042\n",
      "2020-08-24 00:00:00\n",
      "1954.2000000000044\n"
     ]
    },
    {
     "name": "stdout",
     "output_type": "stream",
     "text": [
      "2020-08-25 00:00:00\n",
      "2024.9200000000044\n",
      "2020-08-26 00:00:00\n",
      "2003.6800000000044\n",
      "2020-08-27 00:00:00\n",
      "2013.7200000000043\n",
      "2020-08-28 00:00:00\n",
      "2032.1300000000047\n",
      "2020-08-31 00:00:00\n",
      "2012.100000000005\n",
      "2020-09-01 00:00:00\n",
      "1992.870000000005\n",
      "2020-09-02 00:00:00\n",
      "2045.1600000000049\n",
      "2020-09-03 00:00:00\n",
      "2100.390000000005\n",
      "2020-09-04 00:00:00\n",
      "2052.660000000005\n",
      "2020-09-08 00:00:00\n",
      "1987.970000000005\n",
      "2020-09-09 00:00:00\n",
      "2048.4500000000053\n",
      "2020-09-10 00:00:00\n",
      "2132.3900000000053\n",
      "2020-09-11 00:00:00\n",
      "2133.380000000005\n",
      "2020-09-14 00:00:00\n",
      "2112.440000000005\n",
      "2020-09-15 00:00:00\n",
      "2136.1200000000053\n",
      "2020-09-16 00:00:00\n",
      "2162.8200000000056\n",
      "2020-09-17 00:00:00\n",
      "2128.3200000000056\n",
      "2020-09-18 00:00:00\n",
      "2119.580000000006\n",
      "2020-09-21 00:00:00\n",
      "2056.1700000000055\n",
      "2020-09-22 00:00:00\n",
      "2127.9900000000052\n",
      "2020-09-23 00:00:00\n",
      "2099.6700000000055\n",
      "2020-09-24 00:00:00\n",
      "2027.2800000000052\n",
      "2020-09-25 00:00:00\n",
      "2002.9700000000055\n",
      "2020-09-28 00:00:00\n",
      "2002.9700000000057\n",
      "2020-09-29 00:00:00\n",
      "1996.7900000000056\n",
      "2020-09-30 00:00:00\n",
      "2002.210000000006\n",
      "2020-10-01 00:00:00\n",
      "2036.6500000000055\n",
      "2020-10-02 00:00:00\n",
      "1987.5400000000054\n",
      "2020-10-05 00:00:00\n",
      "2032.5400000000054\n",
      "2020-10-06 00:00:00\n",
      "2048.0600000000054\n",
      "2020-10-07 00:00:00\n",
      "2042.0600000000054\n",
      "2020-10-08 00:00:00\n",
      "2049.8200000000056\n",
      "2020-10-09 00:00:00\n",
      "2079.1600000000058\n",
      "2020-10-12 00:00:00\n",
      "2076.0700000000056\n",
      "2020-10-13 00:00:00\n",
      "2076.940000000006\n",
      "2020-10-14 00:00:00\n",
      "2058.400000000006\n",
      "2020-10-15 00:00:00\n",
      "2029.7300000000064\n",
      "2020-10-16 00:00:00\n",
      "2068.3800000000065\n",
      "2020-10-19 00:00:00\n",
      "2073.4700000000066\n",
      "2020-10-20 00:00:00\n",
      "2051.3900000000067\n",
      "2020-10-21 00:00:00\n",
      "2060.3300000000067\n",
      "2020-10-22 00:00:00\n",
      "2318.690000000007\n",
      "2020-10-23 00:00:00\n",
      "2378.8000000000065\n",
      "2020-10-26 00:00:00\n",
      "2370.6639000000064\n",
      "2020-10-27 00:00:00\n",
      "2366.580000000006\n",
      "2020-10-28 00:00:00\n",
      "2346.8800000000056\n",
      "2020-10-29 00:00:00\n",
      "2304.7200000000057\n",
      "2020-10-30 00:00:00\n",
      "2281.7200000000057\n",
      "2020-11-02 00:00:00\n",
      "2292.9900000000057\n",
      "2020-11-03 00:00:00\n",
      "2394.1600000000053\n",
      "2020-11-04 00:00:00\n",
      "2366.980000000005\n",
      "2020-11-05 00:00:00\n",
      "2393.9100000000053\n",
      "2020-11-06 00:00:00\n",
      "2417.420000000005\n",
      "2020-11-09 00:00:00\n",
      "2492.140000000005\n",
      "2020-11-10 00:00:00\n",
      "2452.610000000005\n",
      "2020-11-11 00:00:00\n",
      "2449.930000000005\n",
      "2020-11-12 00:00:00\n",
      "2414.2800000000047\n",
      "2020-11-13 00:00:00\n",
      "2419.6700000000046\n",
      "2020-11-16 00:00:00\n",
      "2462.3300000000045\n",
      "2020-11-17 00:00:00\n",
      "2440.500000000004\n",
      "2020-11-18 00:00:00\n",
      "2444.810000000004\n",
      "2020-11-19 00:00:00\n",
      "2361.810000000004\n",
      "2020-11-20 00:00:00\n",
      "2359.770000000004\n",
      "2020-11-23 00:00:00\n",
      "2370.5300000000043\n",
      "2020-11-24 00:00:00\n",
      "2377.210000000004\n",
      "2020-11-25 00:00:00\n",
      "2365.310000000004\n",
      "2020-11-27 00:00:00\n",
      "2368.830000000004\n",
      "2020-11-30 00:00:00\n",
      "2371.310000000004\n",
      "2020-12-01 00:00:00\n",
      "2377.3000000000043\n",
      "2020-12-02 00:00:00\n",
      "2378.480000000004\n",
      "2020-12-03 00:00:00\n",
      "2382.1400000000044\n",
      "2020-12-04 00:00:00\n",
      "2405.020000000004\n",
      "2020-12-07 00:00:00\n",
      "2444.7800000000043\n",
      "2020-12-08 00:00:00\n",
      "2424.1800000000044\n",
      "2020-12-09 00:00:00\n",
      "2422.1400000000044\n",
      "2020-12-10 00:00:00\n",
      "2384.7400000000043\n",
      "2020-12-11 00:00:00\n",
      "2385.1800000000044\n",
      "2020-12-14 00:00:00\n",
      "2400.7800000000043\n",
      "2020-12-15 00:00:00\n",
      "2404.3800000000047\n",
      "2020-12-16 00:00:00\n",
      "2401.5000000000045\n",
      "2020-12-17 00:00:00\n",
      "2439.6200000000044\n",
      "2020-12-18 00:00:00\n",
      "2440.0100000000048\n",
      "2020-12-21 00:00:00\n",
      "2395.720000000005\n",
      "2020-12-22 00:00:00\n",
      "2435.520000000005\n",
      "2020-12-23 00:00:00\n",
      "2465.300000000005\n",
      "2020-12-24 00:00:00\n",
      "2435.020000000005\n",
      "2020-12-28 00:00:00\n",
      "2463.5300000000047\n",
      "2020-12-29 00:00:00\n",
      "2464.8300000000045\n",
      "2020-12-30 00:00:00\n",
      "2447.0500000000047\n",
      "2020-12-31 00:00:00\n",
      "2468.190000000004\n",
      "2021-01-04 00:00:00\n",
      "2514.1800000000044\n",
      "2021-01-05 00:00:00\n",
      "2440.990000000005\n",
      "2021-01-06 00:00:00\n",
      "2471.070000000005\n",
      "2021-01-07 00:00:00\n",
      "2519.0200000000054\n",
      "2021-01-08 00:00:00\n",
      "2561.2900000000054\n",
      "2021-01-11 00:00:00\n",
      "2517.9300000000057\n",
      "2021-01-12 00:00:00\n",
      "2510.480000000006\n",
      "2021-01-13 00:00:00\n",
      "2501.4000000000055\n",
      "2021-01-14 00:00:00\n",
      "2496.190000000006\n",
      "2021-01-15 00:00:00\n",
      "2475.610000000006\n",
      "2021-01-19 00:00:00\n",
      "2517.520000000006\n",
      "2021-01-20 00:00:00\n",
      "2514.1600000000058\n",
      "2021-01-21 00:00:00\n",
      "2498.1800000000057\n",
      "2021-01-22 00:00:00\n",
      "2459.230000000006\n",
      "2021-01-25 00:00:00\n",
      "2452.950000000006\n",
      "2021-01-26 00:00:00\n",
      "2479.7300000000064\n",
      "2021-01-27 00:00:00\n",
      "2362.9900000000066\n",
      "2021-01-28 00:00:00\n",
      "2362.990000000006\n",
      "2021-01-29 00:00:00\n",
      "2362.9900000000057\n",
      "2021-02-01 00:00:00\n",
      "2452.690000000006\n",
      "2021-02-02 00:00:00\n",
      "2523.4100000000058\n",
      "2021-02-03 00:00:00\n",
      "2557.4700000000057\n",
      "2021-02-04 00:00:00\n",
      "2667.232400000006\n",
      "2021-02-05 00:00:00\n",
      "2737.102400000006\n",
      "2021-02-08 00:00:00\n",
      "2759.4024000000063\n",
      "2021-02-09 00:00:00\n",
      "2716.832400000006\n",
      "2021-02-10 00:00:00\n",
      "2723.772400000006\n",
      "2021-02-11 00:00:00\n",
      "2671.4924000000055\n",
      "2021-02-12 00:00:00\n",
      "2636.9024000000054\n",
      "2021-02-16 00:00:00\n",
      "2733.3124000000053\n",
      "2021-02-17 00:00:00\n",
      "2699.932400000005\n",
      "2021-02-18 00:00:00\n",
      "2704.7524000000058\n",
      "2021-02-19 00:00:00\n",
      "2702.482400000006\n",
      "2021-02-22 00:00:00\n",
      "2707.392400000006\n",
      "2021-02-23 00:00:00\n",
      "2623.932400000006\n",
      "2021-02-24 00:00:00\n",
      "2606.112400000006\n",
      "2021-02-25 00:00:00\n",
      "2621.612400000006\n",
      "2021-02-26 00:00:00\n",
      "2566.362400000006\n",
      "2021-03-01 00:00:00\n",
      "2566.3624000000073\n",
      "2021-03-02 00:00:00\n",
      "2566.362400000008\n",
      "2021-03-03 00:00:00\n",
      "2566.3624000000086\n",
      "2021-03-04 00:00:00\n",
      "2566.3624000000095\n",
      "2021-03-05 00:00:00\n",
      "2566.36240000001\n",
      "2021-03-08 00:00:00\n",
      "2566.3624000000104\n",
      "2021-03-09 00:00:00\n",
      "2566.362400000011\n",
      "2021-03-10 00:00:00\n",
      "2566.362400000011\n",
      "2021-03-11 00:00:00\n",
      "2566.362400000011\n",
      "2021-03-12 00:00:00\n",
      "2566.362400000011\n",
      "2021-03-15 00:00:00\n",
      "2566.362400000011\n",
      "2021-03-16 00:00:00\n",
      "2566.362400000011\n",
      "2021-03-17 00:00:00\n",
      "2430.242400000011\n",
      "2021-03-18 00:00:00\n",
      "2412.362400000011\n",
      "2021-03-19 00:00:00\n",
      "2416.322400000011\n",
      "2021-03-22 00:00:00\n",
      "2421.0024000000108\n",
      "2021-03-23 00:00:00\n",
      "2436.032400000011\n",
      "2021-03-24 00:00:00\n",
      "2435.032400000011\n",
      "2021-03-25 00:00:00\n",
      "2456.1124000000113\n",
      "2021-03-26 00:00:00\n",
      "2490.5524000000114\n",
      "2021-03-29 00:00:00\n",
      "2504.2624000000114\n",
      "2021-03-30 00:00:00\n",
      "2513.662400000011\n",
      "2021-03-31 00:00:00\n",
      "2500.362400000011\n",
      "2021-04-01 00:00:00\n",
      "2496.872400000011\n",
      "2021-04-05 00:00:00\n",
      "2509.182400000011\n",
      "2021-04-06 00:00:00\n",
      "2518.412400000011\n",
      "2021-04-07 00:00:00\n",
      "2530.9324000000115\n",
      "2021-04-08 00:00:00\n",
      "2527.9424000000113\n",
      "2021-04-09 00:00:00\n",
      "2532.5724000000114\n",
      "2021-04-12 00:00:00\n",
      "2526.752400000011\n",
      "2021-04-13 00:00:00\n",
      "2542.102400000011\n",
      "2021-04-14 00:00:00\n",
      "2551.2724000000107\n",
      "2021-04-15 00:00:00\n",
      "2556.622400000011\n",
      "2021-04-16 00:00:00\n",
      "2585.932400000011\n",
      "2021-04-19 00:00:00\n",
      "2602.4524000000106\n",
      "2021-04-20 00:00:00\n",
      "2596.4224000000104\n",
      "2021-04-21 00:00:00\n",
      "2603.83240000001\n",
      "2021-04-22 00:00:00\n",
      "2620.54240000001\n",
      "2021-04-23 00:00:00\n",
      "2604.20240000001\n",
      "2021-04-26 00:00:00\n",
      "2609.77240000001\n",
      "2021-04-27 00:00:00\n",
      "2608.41240000001\n",
      "2021-04-28 00:00:00\n",
      "2604.82240000001\n",
      "2021-04-29 00:00:00\n",
      "2593.04240000001\n",
      "2021-04-30 00:00:00\n",
      "2599.81240000001\n",
      "2021-05-03 00:00:00\n",
      "2618.66240000001\n",
      "2021-05-04 00:00:00\n",
      "2626.3324000000102\n",
      "2021-05-05 00:00:00\n",
      "2646.3524000000098\n",
      "2021-05-06 00:00:00\n",
      "2666.2024000000097\n",
      "2021-05-07 00:00:00\n",
      "2659.42240000001\n",
      "2021-05-10 00:00:00\n",
      "2693.6324000000095\n",
      "2021-05-11 00:00:00\n",
      "2689.722400000009\n",
      "2021-05-12 00:00:00\n",
      "2642.5024000000094\n",
      "2021-05-13 00:00:00\n",
      "2627.4024000000095\n",
      "2021-05-14 00:00:00\n",
      "2687.8424000000095\n",
      "2021-05-17 00:00:00\n",
      "2692.6024000000098\n",
      "2021-05-18 00:00:00\n",
      "2678.5924000000095\n",
      "2021-05-19 00:00:00\n",
      "2636.6424000000097\n",
      "2021-05-20 00:00:00\n",
      "2640.9724000000097\n",
      "2021-05-21 00:00:00\n",
      "2661.4224000000095\n",
      "2021-05-24 00:00:00\n",
      "2687.9324000000097\n",
      "2021-05-25 00:00:00\n",
      "2680.7624000000096\n",
      "2021-05-26 00:00:00\n",
      "2656.6424000000097\n",
      "2021-05-27 00:00:00\n",
      "2652.32240000001\n",
      "2021-05-28 00:00:00\n",
      "2634.2624000000096\n",
      "2021-06-01 00:00:00\n",
      "2669.0524000000096\n",
      "2021-06-02 00:00:00\n",
      "2656.31240000001\n",
      "2021-06-03 00:00:00\n",
      "2686.61240000001\n",
      "2021-06-04 00:00:00\n",
      "2690.0524000000096\n",
      "2021-06-07 00:00:00\n",
      "2667.66240000001\n",
      "2021-06-08 00:00:00\n",
      "2669.7924000000094\n",
      "2021-06-09 00:00:00\n",
      "2649.40240000001\n",
      "2021-06-10 00:00:00\n",
      "2665.32240000001\n",
      "2021-06-11 00:00:00\n",
      "2648.30240000001\n",
      "2021-06-14 00:00:00\n",
      "2663.94240000001\n",
      "2021-06-15 00:00:00\n",
      "2669.77240000001\n",
      "2021-06-16 00:00:00\n",
      "2657.50240000001\n",
      "2021-06-17 00:00:00\n",
      "2666.4724000000097\n",
      "2021-06-18 00:00:00\n",
      "2680.27240000001\n",
      "2021-06-21 00:00:00\n",
      "2621.3924000000097\n",
      "2021-06-22 00:00:00\n",
      "2739.38240000001\n",
      "2021-06-23 00:00:00\n",
      "2751.80240000001\n",
      "2021-06-24 00:00:00\n",
      "2752.9524000000097\n",
      "2021-06-25 00:00:00\n",
      "2792.2824000000096\n",
      "2021-06-28 00:00:00\n",
      "2819.19240000001\n",
      "2021-06-29 00:00:00\n",
      "2744.67240000001\n",
      "2021-06-30 00:00:00\n",
      "2773.88240000001\n"
     ]
    },
    {
     "name": "stdout",
     "output_type": "stream",
     "text": [
      "2021-07-01 00:00:00\n",
      "2767.88240000001\n",
      "2021-07-02 00:00:00\n",
      "2787.0224000000103\n",
      "2021-07-06 00:00:00\n",
      "2750.33240000001\n",
      "2021-07-07 00:00:00\n",
      "2752.0524000000096\n",
      "2021-07-08 00:00:00\n",
      "2746.32240000001\n",
      "2021-07-09 00:00:00\n",
      "2739.96240000001\n",
      "2021-07-12 00:00:00\n",
      "2739.78240000001\n",
      "2021-07-13 00:00:00\n",
      "2723.3124000000103\n",
      "2021-07-14 00:00:00\n",
      "2699.9424000000104\n",
      "2021-07-15 00:00:00\n",
      "2654.072400000011\n",
      "2021-07-16 00:00:00\n",
      "2668.812400000011\n",
      "2021-07-19 00:00:00\n",
      "2658.3624000000113\n",
      "2021-07-20 00:00:00\n",
      "2688.2824000000114\n",
      "2021-07-21 00:00:00\n",
      "2704.452400000011\n",
      "2021-07-22 00:00:00\n",
      "2716.362400000011\n",
      "2021-07-23 00:00:00\n",
      "2734.1724000000104\n",
      "2021-07-26 00:00:00\n",
      "2787.5524000000105\n",
      "2021-07-27 00:00:00\n",
      "2776.4024000000104\n",
      "2021-07-28 00:00:00\n",
      "2739.94240000001\n",
      "2021-07-29 00:00:00\n",
      "2761.2624000000105\n",
      "2021-07-30 00:00:00\n",
      "2698.3924000000106\n",
      "2021-08-02 00:00:00\n",
      "2668.7624000000105\n",
      "2021-08-03 00:00:00\n",
      "2679.1924000000104\n",
      "2021-08-04 00:00:00\n",
      "2718.66240000001\n",
      "2021-08-05 00:00:00\n",
      "2734.4124000000097\n",
      "2021-08-06 00:00:00\n",
      "2750.3334000000095\n",
      "2021-08-09 00:00:00\n",
      "2739.262400000009\n",
      "2021-08-10 00:00:00\n",
      "2730.842400000009\n",
      "2021-08-11 00:00:00\n",
      "2758.302400000009\n",
      "2021-08-12 00:00:00\n",
      "2791.8524000000093\n",
      "2021-08-13 00:00:00\n",
      "2796.712400000009\n",
      "2021-08-16 00:00:00\n",
      "2784.242400000009\n",
      "2021-08-17 00:00:00\n",
      "2787.222400000009\n",
      "2021-08-18 00:00:00\n",
      "2751.4124000000093\n",
      "2021-08-19 00:00:00\n",
      "2717.322400000009\n",
      "2021-08-20 00:00:00\n",
      "2782.8324000000093\n",
      "2021-08-23 00:00:00\n",
      "2832.592400000009\n",
      "2021-08-24 00:00:00\n",
      "2787.532400000009\n",
      "2021-08-25 00:00:00\n",
      "2788.982400000009\n",
      "2021-08-26 00:00:00\n",
      "2790.062400000009\n",
      "2021-08-27 00:00:00\n",
      "2796.682400000009\n",
      "2021-08-30 00:00:00\n",
      "2799.9224000000086\n",
      "2021-08-31 00:00:00\n",
      "2842.3724000000084\n",
      "2021-09-01 00:00:00\n",
      "2837.7624000000083\n",
      "2021-09-02 00:00:00\n",
      "2860.902400000008\n",
      "2021-09-03 00:00:00\n",
      "2838.6424000000084\n",
      "2021-09-07 00:00:00\n",
      "2873.172400000008\n",
      "2021-09-08 00:00:00\n",
      "2837.182400000008\n",
      "2021-09-09 00:00:00\n",
      "2833.412400000008\n",
      "2021-09-10 00:00:00\n",
      "2882.0524000000078\n",
      "2021-09-13 00:00:00\n",
      "2877.362400000008\n",
      "2021-09-14 00:00:00\n",
      "2855.1924000000085\n",
      "2021-09-15 00:00:00\n",
      "2856.2824000000087\n",
      "2021-09-16 00:00:00\n",
      "2867.502400000009\n",
      "2021-09-17 00:00:00\n",
      "2931.762400000009\n",
      "2021-09-20 00:00:00\n",
      "2877.632400000009\n",
      "2021-09-21 00:00:00\n",
      "2902.752400000009\n",
      "2021-09-22 00:00:00\n",
      "2909.312400000009\n",
      "2021-09-23 00:00:00\n",
      "2934.0924000000086\n",
      "2021-09-24 00:00:00\n",
      "2929.6242000000093\n",
      "2021-09-27 00:00:00\n",
      "2925.2124000000094\n",
      "2021-09-28 00:00:00\n",
      "2912.1824000000092\n",
      "2021-09-29 00:00:00\n",
      "2874.8524000000093\n",
      "2021-09-30 00:00:00\n",
      "2852.6224000000093\n",
      "2021-10-01 00:00:00\n",
      "2815.3124000000093\n",
      "2021-10-04 00:00:00\n",
      "2815.312400000009\n",
      "2021-10-05 00:00:00\n",
      "2815.3124000000084\n",
      "2021-10-06 00:00:00\n",
      "2815.312400000008\n",
      "2021-10-07 00:00:00\n",
      "2815.312400000008\n",
      "2021-10-08 00:00:00\n",
      "2815.312400000008\n",
      "2021-10-11 00:00:00\n",
      "2788.532400000008\n",
      "2021-10-12 00:00:00\n",
      "2748.9224000000077\n",
      "2021-10-13 00:00:00\n",
      "2753.9624000000076\n",
      "2021-10-14 00:00:00\n",
      "2749.1324000000077\n",
      "2021-10-15 00:00:00\n",
      "2785.8824000000077\n",
      "2021-10-18 00:00:00\n",
      "2795.1224000000075\n",
      "2021-10-19 00:00:00\n",
      "2860.7824000000073\n",
      "2021-10-20 00:00:00\n",
      "2838.4524000000074\n",
      "2021-10-21 00:00:00\n",
      "2902.672400000007\n",
      "2021-10-22 00:00:00\n",
      "2887.6624000000074\n",
      "2021-10-25 00:00:00\n",
      "2930.8124000000075\n",
      "2021-10-26 00:00:00\n",
      "2977.672400000007\n",
      "2021-10-27 00:00:00\n",
      "2956.2624000000073\n",
      "2021-10-28 00:00:00\n",
      "2918.9324000000074\n",
      "2021-10-29 00:00:00\n",
      "2933.4224000000067\n",
      "2021-11-01 00:00:00\n",
      "3032.6624000000065\n",
      "2021-11-02 00:00:00\n",
      "2994.7524000000067\n",
      "2021-11-03 00:00:00\n",
      "3005.842400000007\n",
      "2021-11-04 00:00:00\n",
      "2986.5024000000067\n",
      "2021-11-05 00:00:00\n",
      "3068.3924000000065\n",
      "2021-11-08 00:00:00\n",
      "3096.552400000006\n",
      "2021-11-09 00:00:00\n",
      "3082.0224000000057\n",
      "2021-11-10 00:00:00\n",
      "3057.6124000000054\n",
      "2021-11-11 00:00:00\n",
      "3027.3724000000057\n",
      "2021-11-12 00:00:00\n",
      "3045.132400000006\n",
      "2021-11-15 00:00:00\n",
      "3103.322400000006\n",
      "2021-11-16 00:00:00\n",
      "3112.492400000006\n",
      "2021-11-17 00:00:00\n",
      "3146.1520000000064\n",
      "2021-11-18 00:00:00\n",
      "3096.8224000000064\n",
      "2021-11-19 00:00:00\n",
      "3121.5620000000063\n",
      "2021-11-22 00:00:00\n",
      "3140.526000000006\n",
      "2021-11-23 00:00:00\n",
      "3053.5260000000058\n",
      "2021-11-24 00:00:00\n",
      "3026.386000000006\n",
      "2021-11-26 00:00:00\n",
      "3086.696000000006\n",
      "2021-11-29 00:00:00\n",
      "3051.346000000006\n",
      "2021-11-30 00:00:00\n",
      "2993.6560000000063\n",
      "2021-12-01 00:00:00\n",
      "2970.5344000000064\n",
      "2021-12-02 00:00:00\n",
      "2864.1660000000065\n",
      "2021-12-03 00:00:00\n",
      "2923.8060000000064\n",
      "2021-12-06 00:00:00\n",
      "2921.526000000006\n",
      "2021-12-07 00:00:00\n",
      "2926.2060000000065\n",
      "2021-12-08 00:00:00\n",
      "2929.9060000000068\n",
      "2021-12-09 00:00:00\n",
      "2926.6860000000065\n",
      "2021-12-10 00:00:00\n",
      "2872.2860000000064\n",
      "2021-12-13 00:00:00\n",
      "2952.3260000000064\n",
      "2021-12-14 00:00:00\n",
      "2892.5660000000066\n",
      "2021-12-15 00:00:00\n",
      "2887.0360000000064\n",
      "2021-12-16 00:00:00\n",
      "2920.6260000000066\n",
      "2021-12-17 00:00:00\n",
      "2911.0360000000064\n",
      "2021-12-20 00:00:00\n",
      "2819.616000000007\n",
      "2021-12-21 00:00:00\n",
      "2819.6160000000054\n",
      "2021-12-22 00:00:00\n",
      "2819.6160000000045\n",
      "2021-12-23 00:00:00\n",
      "2819.616000000004\n",
      "2021-12-27 00:00:00\n",
      "2819.616000000003\n",
      "2021-12-28 00:00:00\n",
      "2819.6160000000027\n",
      "2021-12-29 00:00:00\n",
      "2844.5060000000026\n",
      "2021-12-30 00:00:00\n",
      "2876.0960000000023\n",
      "2021-12-31 00:00:00\n",
      "2873.4560000000024\n",
      "2022-01-03 00:00:00\n",
      "2870.756000000002\n",
      "2022-01-04 00:00:00\n",
      "2835.4560000000024\n",
      "2022-01-05 00:00:00\n",
      "2840.656000000002\n",
      "2022-01-06 00:00:00\n",
      "2752.456000000002\n",
      "2022-01-07 00:00:00\n",
      "2858.7760000000026\n",
      "2022-01-10 00:00:00\n",
      "2891.4160000000024\n",
      "2022-01-11 00:00:00\n",
      "2863.816000000002\n",
      "2022-01-12 00:00:00\n",
      "2826.536000000002\n",
      "2022-01-13 00:00:00\n",
      "2801.786000000002\n",
      "2022-01-14 00:00:00\n",
      "2829.536000000002\n",
      "2022-01-18 00:00:00\n",
      "2778.3460000000014\n",
      "2022-01-19 00:00:00\n",
      "2783.8060000000014\n",
      "2022-01-20 00:00:00\n",
      "2771.226000000001\n",
      "2022-01-21 00:00:00\n",
      "2759.3860000000013\n",
      "2022-01-24 00:00:00\n",
      "2740.8860000000013\n",
      "2022-01-25 00:00:00\n",
      "2679.4660000000017\n",
      "2022-01-26 00:00:00\n",
      "2679.4660000000017\n",
      "2022-01-27 00:00:00\n",
      "2679.4660000000017\n",
      "2022-01-28 00:00:00\n",
      "2679.4660000000017\n",
      "2022-01-31 00:00:00\n",
      "2679.4660000000017\n",
      "2022-02-01 00:00:00\n",
      "2679.4660000000017\n",
      "2022-02-02 00:00:00\n",
      "2679.4660000000017\n",
      "2022-02-03 00:00:00\n",
      "2679.4660000000017\n",
      "2022-02-04 00:00:00\n",
      "2679.4660000000017\n",
      "2022-02-07 00:00:00\n",
      "2679.4660000000017\n",
      "2022-02-08 00:00:00\n",
      "2679.4660000000017\n",
      "2022-02-09 00:00:00\n",
      "2679.4660000000017\n",
      "2022-02-10 00:00:00\n",
      "2679.4660000000017\n",
      "2022-02-11 00:00:00\n",
      "2679.4660000000017\n",
      "2022-02-14 00:00:00\n",
      "2679.4660000000017\n",
      "2022-02-15 00:00:00\n",
      "2679.4660000000017\n",
      "2022-02-16 00:00:00\n",
      "2679.4660000000017\n",
      "2022-02-17 00:00:00\n",
      "2679.4660000000017\n",
      "2022-02-18 00:00:00\n",
      "2776.5560000000014\n",
      "2022-02-22 00:00:00\n",
      "2812.326000000002\n",
      "2022-02-23 00:00:00\n",
      "2965.626000000002\n",
      "2022-02-24 00:00:00\n",
      "2891.1660000000015\n",
      "2022-02-25 00:00:00\n",
      "2872.9160000000015\n",
      "2022-02-28 00:00:00\n",
      "2851.016000000002\n",
      "2022-03-01 00:00:00\n",
      "2858.3160000000016\n",
      "2022-03-02 00:00:00\n",
      "2832.766000000002\n",
      "2022-03-03 00:00:00\n",
      "2883.136000000002\n",
      "2022-03-04 00:00:00\n",
      "2892.626000000002\n",
      "2022-03-07 00:00:00\n",
      "2895.5460000000016\n",
      "2022-03-08 00:00:00\n",
      "2925.4760000000015\n",
      "2022-03-09 00:00:00\n",
      "2867.8060000000014\n",
      "2022-03-10 00:00:00\n",
      "2751.0060000000017\n",
      "2022-03-11 00:00:00\n",
      "2767.0660000000016\n",
      "2022-03-14 00:00:00\n",
      "2767.0660000000025\n",
      "2022-03-15 00:00:00\n",
      "2767.066000000003\n",
      "2022-03-16 00:00:00\n",
      "2767.0660000000034\n",
      "2022-03-17 00:00:00\n",
      "2767.0660000000034\n",
      "2022-03-18 00:00:00\n",
      "2767.0660000000034\n",
      "2022-03-21 00:00:00\n",
      "2767.0660000000034\n",
      "2022-03-22 00:00:00\n",
      "2767.0660000000034\n",
      "2022-03-23 00:00:00\n",
      "2767.0660000000034\n",
      "2022-03-24 00:00:00\n",
      "2767.0660000000034\n",
      "2022-03-25 00:00:00\n",
      "2786.7560000000035\n",
      "2022-03-28 00:00:00\n",
      "2793.7760000000035\n",
      "2022-03-29 00:00:00\n",
      "2831.5560000000037\n",
      "2022-03-30 00:00:00\n",
      "2812.9260000000036\n",
      "2022-03-31 00:00:00\n",
      "2823.076000000003\n",
      "2022-04-01 00:00:00\n",
      "2812.5660000000034\n",
      "2022-04-04 00:00:00\n",
      "2802.7460000000037\n",
      "2022-04-05 00:00:00\n",
      "2804.616000000003\n",
      "2022-04-06 00:00:00\n",
      "2778.8160000000034\n",
      "2022-04-07 00:00:00\n",
      "2803.0660000000034\n",
      "2022-04-08 00:00:00\n",
      "2833.4560000000038\n",
      "2022-04-11 00:00:00\n",
      "2861.3660000000036\n",
      "2022-04-12 00:00:00\n",
      "2828.9860000000035\n",
      "2022-04-13 00:00:00\n",
      "2830.676000000003\n",
      "2022-04-14 00:00:00\n",
      "2887.346000000003\n",
      "2022-04-18 00:00:00\n",
      "2886.756000000003\n",
      "2022-04-19 00:00:00\n",
      "2881.6260000000034\n",
      "2022-04-20 00:00:00\n",
      "2943.4060000000036\n",
      "2022-04-21 00:00:00\n",
      "2974.5460000000035\n",
      "2022-04-22 00:00:00\n",
      "2923.376000000004\n",
      "2022-04-25 00:00:00\n",
      "2840.416000000004\n",
      "2022-04-26 00:00:00\n",
      "2827.4360000000042\n",
      "2022-04-27 00:00:00\n",
      "2791.106000000004\n",
      "2022-04-28 00:00:00\n",
      "2823.336000000004\n",
      "2022-04-29 00:00:00\n",
      "2833.8260000000037\n",
      "2022-05-02 00:00:00\n",
      "2782.6460000000034\n",
      "2022-05-03 00:00:00\n",
      "2766.4060000000036\n",
      "2022-05-04 00:00:00\n"
     ]
    },
    {
     "name": "stdout",
     "output_type": "stream",
     "text": [
      "2783.3060000000037\n",
      "2022-05-05 00:00:00\n",
      "2823.6060000000034\n",
      "2022-05-06 00:00:00\n",
      "2831.4060000000036\n",
      "2022-05-09 00:00:00\n",
      "2854.8060000000037\n",
      "2022-05-10 00:00:00\n",
      "2910.0560000000037\n",
      "2022-05-11 00:00:00\n",
      "2844.4060000000036\n",
      "2022-05-12 00:00:00\n",
      "2854.1560000000036\n",
      "2022-05-13 00:00:00\n",
      "2826.2060000000038\n",
      "2022-05-16 00:00:00\n",
      "2914.606000000004\n",
      "2022-05-17 00:00:00\n",
      "2889.9060000000036\n",
      "2022-05-18 00:00:00\n",
      "2821.6560000000036\n",
      "2022-05-19 00:00:00\n",
      "2821.656000000004\n",
      "2022-05-20 00:00:00\n",
      "2821.656000000005\n",
      "2022-05-23 00:00:00\n",
      "2821.6560000000054\n",
      "2022-05-24 00:00:00\n",
      "2821.656000000006\n",
      "2022-05-25 00:00:00\n",
      "2821.6560000000063\n",
      "2022-05-26 00:00:00\n",
      "2821.6560000000063\n",
      "2022-05-27 00:00:00\n",
      "2821.6560000000063\n",
      "2022-05-31 00:00:00\n",
      "2821.6560000000063\n",
      "2022-06-01 00:00:00\n",
      "2821.6560000000063\n",
      "2022-06-02 00:00:00\n",
      "2821.6560000000063\n",
      "2022-06-03 00:00:00\n",
      "2821.6560000000063\n",
      "2022-06-06 00:00:00\n",
      "2821.6560000000063\n",
      "2022-06-07 00:00:00\n",
      "2821.6560000000063\n",
      "2022-06-08 00:00:00\n",
      "2821.6560000000063\n",
      "2022-06-09 00:00:00\n",
      "2821.6560000000063\n",
      "2022-06-10 00:00:00\n",
      "2821.6560000000063\n",
      "2022-06-13 00:00:00\n",
      "2821.6560000000063\n",
      "2022-06-14 00:00:00\n",
      "2821.6560000000063\n",
      "2022-06-15 00:00:00\n",
      "2821.6560000000063\n",
      "2022-06-16 00:00:00\n",
      "2821.6560000000063\n",
      "2022-06-17 00:00:00\n",
      "2821.6560000000063\n",
      "2022-06-21 00:00:00\n",
      "2821.6560000000063\n",
      "2022-06-22 00:00:00\n",
      "2821.6560000000063\n",
      "2022-06-23 00:00:00\n",
      "2821.6560000000063\n",
      "2022-06-24 00:00:00\n",
      "2821.6560000000063\n",
      "2022-06-27 00:00:00\n",
      "2821.6560000000063\n",
      "2022-06-28 00:00:00\n",
      "2821.6560000000063\n",
      "2022-06-29 00:00:00\n",
      "2821.6560000000063\n",
      "2022-06-30 00:00:00\n",
      "2821.6560000000063\n",
      "2022-07-01 00:00:00\n",
      "2821.6560000000063\n",
      "2022-07-05 00:00:00\n",
      "2821.6560000000063\n",
      "2022-07-06 00:00:00\n",
      "2821.6560000000063\n",
      "2022-07-07 00:00:00\n",
      "2821.6560000000063\n",
      "2022-07-08 00:00:00\n",
      "2821.6560000000063\n",
      "2022-07-11 00:00:00\n",
      "2821.6560000000063\n",
      "2022-07-12 00:00:00\n",
      "2821.6560000000063\n",
      "2022-07-13 00:00:00\n",
      "2821.6560000000063\n",
      "2022-07-14 00:00:00\n",
      "2821.6560000000063\n",
      "2022-07-15 00:00:00\n",
      "2821.6560000000063\n",
      "2022-07-18 00:00:00\n",
      "2821.6560000000063\n",
      "2022-07-19 00:00:00\n",
      "2821.6560000000063\n",
      "2022-07-20 00:00:00\n",
      "2885.746000000006\n",
      "2022-07-21 00:00:00\n",
      "2860.006000000006\n",
      "2022-07-22 00:00:00\n",
      "2965.6960000000063\n",
      "2022-07-25 00:00:00\n",
      "2898.1260000000066\n",
      "2022-07-26 00:00:00\n",
      "2873.5760000000064\n",
      "2022-07-27 00:00:00\n",
      "2851.136000000006\n",
      "2022-07-28 00:00:00\n",
      "2936.2160000000063\n",
      "2022-07-29 00:00:00\n",
      "3049.7360000000062\n",
      "2022-08-01 00:00:00\n",
      "3085.016000000006\n",
      "2022-08-02 00:00:00\n",
      "3050.596000000006\n",
      "2022-08-03 00:00:00\n",
      "3081.7510000000057\n",
      "2022-08-04 00:00:00\n",
      "3075.4660000000054\n",
      "2022-08-05 00:00:00\n",
      "3063.5360000000055\n",
      "2022-08-08 00:00:00\n",
      "3113.8160000000057\n",
      "2022-08-09 00:00:00\n",
      "3085.366000000006\n",
      "2022-08-10 00:00:00\n",
      "3136.786000000006\n",
      "2022-08-11 00:00:00\n",
      "3180.2960000000057\n",
      "2022-08-12 00:00:00\n",
      "3167.5260000000058\n",
      "2022-08-15 00:00:00\n",
      "3199.511000000006\n",
      "2022-08-16 00:00:00\n",
      "3218.226000000006\n",
      "2022-08-17 00:00:00\n",
      "3186.096000000006\n",
      "2022-08-18 00:00:00\n",
      "3170.966000000006\n",
      "2022-08-19 00:00:00\n",
      "3165.1660000000056\n",
      "2022-08-22 00:00:00\n",
      "3079.9860000000053\n",
      "2022-08-23 00:00:00\n",
      "3048.866000000006\n",
      "2022-08-24 00:00:00\n",
      "3037.166000000006\n",
      "2022-08-25 00:00:00\n",
      "3042.666000000006\n",
      "2022-08-26 00:00:00\n",
      "3065.4660000000063\n",
      "2022-08-29 00:00:00\n",
      "2926.7660000000064\n",
      "2022-08-30 00:00:00\n",
      "2926.766000000006\n",
      "2022-08-31 00:00:00\n",
      "2926.7660000000055\n",
      "2022-09-01 00:00:00\n",
      "2926.7660000000046\n",
      "2022-09-02 00:00:00\n",
      "2926.766000000004\n",
      "2022-09-06 00:00:00\n",
      "2926.7660000000037\n",
      "2022-09-07 00:00:00\n",
      "2926.7660000000033\n",
      "2022-09-08 00:00:00\n",
      "2926.7660000000033\n",
      "2022-09-09 00:00:00\n",
      "2926.7660000000033\n",
      "2022-09-12 00:00:00\n",
      "2926.7660000000033\n",
      "2022-09-13 00:00:00\n",
      "2856.166000000004\n",
      "2022-09-14 00:00:00\n",
      "2798.916000000004\n",
      "2022-09-15 00:00:00\n",
      "2757.116000000004\n",
      "2022-09-16 00:00:00\n",
      "2763.0560000000037\n",
      "2022-09-19 00:00:00\n",
      "2727.7760000000035\n",
      "2022-09-20 00:00:00\n",
      "2765.3060000000037\n",
      "2022-09-21 00:00:00\n",
      "2696.636000000004\n",
      "2022-09-22 00:00:00\n",
      "2696.6360000000045\n",
      "2022-09-23 00:00:00\n",
      "2696.6360000000054\n",
      "2022-09-26 00:00:00\n",
      "2696.636000000006\n",
      "2022-09-27 00:00:00\n",
      "2696.6360000000063\n",
      "2022-09-28 00:00:00\n",
      "2696.636000000007\n",
      "2022-09-29 00:00:00\n",
      "2696.636000000007\n",
      "2022-09-30 00:00:00\n",
      "2696.636000000007\n",
      "2022-10-03 00:00:00\n",
      "2696.636000000007\n",
      "2022-10-04 00:00:00\n",
      "2696.636000000007\n",
      "2022-10-05 00:00:00\n",
      "2696.636000000007\n",
      "2022-10-06 00:00:00\n",
      "2764.856000000007\n",
      "2022-10-07 00:00:00\n",
      "2746.316000000007\n",
      "2022-10-10 00:00:00\n",
      "2717.876000000007\n",
      "2022-10-11 00:00:00\n",
      "2670.806000000007\n",
      "2022-10-12 00:00:00\n",
      "2686.196000000007\n",
      "2022-10-13 00:00:00\n",
      "2686.1960000000076\n",
      "2022-10-14 00:00:00\n",
      "2686.196000000008\n",
      "2022-10-17 00:00:00\n",
      "2686.196000000008\n",
      "2022-10-18 00:00:00\n",
      "2686.196000000008\n",
      "2022-10-19 00:00:00\n",
      "2686.196000000008\n",
      "2022-10-20 00:00:00\n",
      "2686.196000000008\n",
      "2022-10-21 00:00:00\n",
      "2686.196000000008\n",
      "2022-10-24 00:00:00\n",
      "2686.196000000008\n",
      "2022-10-25 00:00:00\n",
      "2686.196000000008\n",
      "2022-10-26 00:00:00\n",
      "2686.196000000008\n",
      "2022-10-27 00:00:00\n",
      "2686.196000000008\n",
      "2022-10-28 00:00:00\n",
      "2686.196000000008\n",
      "2022-10-31 00:00:00\n",
      "2686.196000000008\n",
      "2022-11-01 00:00:00\n",
      "2686.196000000008\n",
      "2022-11-02 00:00:00\n",
      "2686.196000000008\n",
      "2022-11-03 00:00:00\n",
      "2686.196000000008\n",
      "2022-11-04 00:00:00\n",
      "2686.196000000008\n",
      "2022-11-07 00:00:00\n",
      "2686.196000000008\n",
      "2022-11-08 00:00:00\n",
      "2689.316000000008\n",
      "2022-11-09 00:00:00\n",
      "2729.8760000000084\n",
      "2022-11-10 00:00:00\n",
      "2810.676000000008\n",
      "2022-11-11 00:00:00\n",
      "2874.116000000008\n",
      "2022-11-14 00:00:00\n",
      "2794.196000000008\n",
      "2022-11-15 00:00:00\n",
      "2843.9560000000083\n",
      "2022-11-16 00:00:00\n",
      "2817.936000000008\n",
      "2022-11-17 00:00:00\n",
      "2777.776000000008\n",
      "2022-11-18 00:00:00\n",
      "2765.536000000008\n",
      "2022-11-21 00:00:00\n",
      "2748.6360000000077\n",
      "2022-11-22 00:00:00\n",
      "2788.5560000000078\n",
      "2022-11-23 00:00:00\n",
      "2798.8760000000075\n",
      "2022-11-25 00:00:00\n",
      "2815.0960000000077\n",
      "2022-11-28 00:00:00\n",
      "2809.1360000000077\n",
      "2022-11-29 00:00:00\n",
      "2788.816000000008\n",
      "2022-11-30 00:00:00\n",
      "2780.4960000000083\n",
      "2022-12-01 00:00:00\n",
      "2917.3960000000084\n",
      "2022-12-02 00:00:00\n",
      "2856.836000000008\n",
      "2022-12-05 00:00:00\n",
      "2836.116000000008\n",
      "2022-12-06 00:00:00\n",
      "2810.596000000008\n",
      "2022-12-07 00:00:00\n",
      "2730.266000000008\n",
      "2022-12-08 00:00:00\n",
      "2722.4960000000083\n",
      "2022-12-09 00:00:00\n",
      "2721.236000000008\n",
      "2022-12-12 00:00:00\n",
      "2719.8360000000084\n",
      "2022-12-13 00:00:00\n",
      "2813.636000000008\n",
      "2022-12-14 00:00:00\n",
      "2768.346000000008\n",
      "2022-12-15 00:00:00\n",
      "2707.356000000009\n",
      "2022-12-16 00:00:00\n",
      "2670.906000000008\n",
      "2022-12-19 00:00:00\n",
      "2670.9060000000077\n",
      "2022-12-20 00:00:00\n",
      "2670.9060000000068\n",
      "2022-12-21 00:00:00\n",
      "2670.9060000000063\n",
      "2022-12-22 00:00:00\n",
      "2670.906000000006\n",
      "2022-12-23 00:00:00\n",
      "2670.9060000000054\n",
      "2022-12-27 00:00:00\n",
      "2670.9060000000054\n",
      "2022-12-28 00:00:00\n",
      "2670.9060000000054\n",
      "2022-12-29 00:00:00\n",
      "2670.9060000000054\n",
      "2022-12-30 00:00:00\n",
      "2670.9060000000054\n",
      "2023-01-03 00:00:00\n",
      "2773.4260000000054\n",
      "2023-01-04 00:00:00\n",
      "2873.746000000005\n",
      "2023-01-05 00:00:00\n",
      "2846.246000000005\n",
      "2023-01-06 00:00:00\n",
      "2901.0060000000058\n",
      "2023-01-09 00:00:00\n",
      "2922.7560000000058\n",
      "2023-01-10 00:00:00\n",
      "2837.176000000006\n",
      "2023-01-11 00:00:00\n",
      "2918.356000000006\n",
      "2023-01-12 00:00:00\n",
      "2969.096000000006\n",
      "2023-01-13 00:00:00\n",
      "2951.5060000000058\n",
      "2023-01-17 00:00:00\n",
      "2968.726000000006\n",
      "2023-01-18 00:00:00\n",
      "2967.866000000006\n",
      "2023-01-19 00:00:00\n",
      "2898.1460000000056\n",
      "2023-01-20 00:00:00\n",
      "2969.5460000000053\n",
      "2023-01-23 00:00:00\n",
      "3040.9460000000054\n",
      "2023-01-24 00:00:00\n",
      "3091.3460000000055\n",
      "2023-01-25 00:00:00\n",
      "3077.226000000005\n",
      "2023-01-26 00:00:00\n",
      "3143.046000000005\n",
      "2023-01-27 00:00:00\n",
      "3170.946000000005\n",
      "2023-01-30 00:00:00\n",
      "3182.826000000005\n",
      "2023-01-31 00:00:00\n",
      "3143.066000000005\n",
      "2023-02-01 00:00:00\n",
      "3242.766000000005\n",
      "2023-02-02 00:00:00\n",
      "3590.3560000000048\n",
      "2023-02-03 00:00:00\n",
      "3594.286000000005\n",
      "2023-02-06 00:00:00\n",
      "3574.5360000000046\n",
      "2023-02-07 00:00:00\n",
      "3562.046000000005\n",
      "2023-02-08 00:00:00\n",
      "3599.556000000005\n",
      "2023-02-09 00:00:00\n",
      "3574.696000000005\n",
      "2023-02-10 00:00:00\n",
      "3436.936000000005\n",
      "2023-02-13 00:00:00\n",
      "3413.596000000005\n",
      "2023-02-14 00:00:00\n",
      "3426.6560000000054\n",
      "2023-02-15 00:00:00\n",
      "3467.996000000005\n",
      "2023-02-16 00:00:00\n",
      "3392.5660000000053\n",
      "2023-02-17 00:00:00\n",
      "3302.1960000000054\n",
      "2023-02-21 00:00:00\n",
      "3323.766000000005\n",
      "2023-02-22 00:00:00\n",
      "3281.6060000000048\n",
      "2023-02-23 00:00:00\n",
      "3299.276000000005\n",
      "2023-02-24 00:00:00\n",
      "3235.4360000000047\n",
      "2023-02-27 00:00:00\n",
      "3296.9960000000046\n",
      "2023-02-28 00:00:00\n",
      "3296.9960000000037\n",
      "2023-03-01 00:00:00\n",
      "3296.996000000003\n",
      "2023-03-02 00:00:00\n",
      "3296.9960000000024\n",
      "2023-03-03 00:00:00\n",
      "3296.9960000000015\n",
      "2023-03-06 00:00:00\n",
      "3296.996000000001\n",
      "2023-03-07 00:00:00\n",
      "3285.7960000000007\n",
      "2023-03-08 00:00:00\n",
      "3257.236000000001\n",
      "2023-03-09 00:00:00\n",
      "3304.2160000000003\n",
      "2023-03-10 00:00:00\n",
      "3245.916\n",
      "2023-03-13 00:00:00\n",
      "3162.996\n"
     ]
    },
    {
     "name": "stdout",
     "output_type": "stream",
     "text": [
      "2023-03-14 00:00:00\n",
      "3283.276\n",
      "2023-03-15 00:00:00\n",
      "3385.1359999999995\n",
      "2023-03-16 00:00:00\n",
      "3483.666\n",
      "2023-03-17 00:00:00\n",
      "3633.9260000000004\n",
      "2023-03-20 00:00:00\n",
      "3608.7260000000006\n",
      "2023-03-21 00:00:00\n",
      "3663.806000000001\n",
      "2023-03-22 00:00:00\n",
      "3633.206000000001\n",
      "2023-03-23 00:00:00\n",
      "3715.126000000001\n",
      "2023-03-24 00:00:00\n",
      "3717.9560000000006\n",
      "2023-03-27 00:00:00\n",
      "3697.746000000001\n",
      "2023-03-28 00:00:00\n",
      "3630.8060000000005\n",
      "2023-03-29 00:00:00\n",
      "3641.106\n",
      "2023-03-30 00:00:00\n",
      "3648.2960000000003\n",
      "2023-03-31 00:00:00\n",
      "3652.3559999999998\n",
      "2023-04-03 00:00:00\n",
      "3677.6960000000004\n",
      "2023-04-04 00:00:00\n",
      "3725.902\n",
      "2023-04-05 00:00:00\n",
      "3722.126\n",
      "2023-04-06 00:00:00\n",
      "3702.7960000000003\n",
      "2023-04-10 00:00:00\n",
      "3726.4060000000004\n",
      "2023-04-11 00:00:00\n",
      "3733.5260000000003\n",
      "2023-04-12 00:00:00\n",
      "3726.9160000000006\n",
      "2023-04-13 00:00:00\n",
      "3714.986000000001\n",
      "2023-04-14 00:00:00\n",
      "3726.266000000001\n",
      "2023-04-17 00:00:00\n",
      "3716.2860000000005\n",
      "2023-04-18 00:00:00\n",
      "3735.696000000001\n",
      "2023-04-19 00:00:00\n",
      "3686.5460000000007\n",
      "2023-04-20 00:00:00\n",
      "3700.696000000001\n",
      "2023-04-21 00:00:00\n",
      "3694.8460000000014\n",
      "2023-04-24 00:00:00\n",
      "3708.2960000000016\n",
      "2023-04-25 00:00:00\n",
      "3699.246000000001\n",
      "2023-04-26 00:00:00\n",
      "3686.706000000001\n",
      "2023-04-27 00:00:00\n",
      "3657.8860000000013\n",
      "2023-04-28 00:00:00\n",
      "3657.8860000000013\n",
      "2023-05-01 00:00:00\n",
      "3696.4460000000013\n",
      "2023-05-02 00:00:00\n",
      "3691.8060000000014\n",
      "2023-05-03 00:00:00\n",
      "3695.2060000000015\n",
      "2023-05-04 00:00:00\n",
      "3723.706000000002\n",
      "2023-05-05 00:00:00\n",
      "3729.5560000000023\n",
      "2023-05-08 00:00:00\n",
      "3730.006000000002\n",
      "2023-05-09 00:00:00\n",
      "3703.456000000002\n",
      "2023-05-10 00:00:00\n",
      "3720.356000000002\n",
      "2023-05-11 00:00:00\n",
      "3698.706000000002\n",
      "2023-05-12 00:00:00\n",
      "3691.006000000002\n",
      "2023-05-15 00:00:00\n",
      "3691.8860000000022\n",
      "2023-05-16 00:00:00\n",
      "3654.536000000002\n",
      "2023-05-17 00:00:00\n",
      "3595.1360000000022\n",
      "2023-05-18 00:00:00\n",
      "3595.1360000000022\n",
      "2023-05-19 00:00:00\n",
      "3610.1360000000022\n",
      "2023-05-22 00:00:00\n",
      "3611.4860000000026\n",
      "2023-05-23 00:00:00\n",
      "3608.4860000000026\n",
      "2023-05-24 00:00:00\n",
      "3588.956000000003\n",
      "2023-05-25 00:00:00\n",
      "3544.936000000003\n",
      "2023-05-26 00:00:00\n",
      "3544.9360000000033\n",
      "2023-05-30 00:00:00\n",
      "3544.936000000004\n",
      "2023-05-31 00:00:00\n",
      "3484.336000000004\n",
      "2023-06-01 00:00:00\n",
      "3390.1360000000036\n",
      "2023-06-02 00:00:00\n",
      "3390.1360000000022\n",
      "2023-06-05 00:00:00\n",
      "3390.1360000000013\n",
      "2023-06-06 00:00:00\n",
      "3387.816000000001\n",
      "2023-06-07 00:00:00\n",
      "3456.256000000001\n",
      "2023-06-08 00:00:00\n",
      "3481.3960000000006\n",
      "2023-06-09 00:00:00\n",
      "3487.1760000000004\n",
      "2023-06-12 00:00:00\n",
      "3478.4760000000006\n",
      "2023-06-13 00:00:00\n",
      "3497.9760000000006\n",
      "2023-06-14 00:00:00\n",
      "3504.2760000000007\n",
      "2023-06-15 00:00:00\n",
      "3503.8560000000007\n",
      "2023-06-16 00:00:00\n",
      "3542.496000000001\n",
      "2023-06-20 00:00:00\n",
      "3515.626000000001\n",
      "2023-06-21 00:00:00\n",
      "3471.8160000000007\n",
      "2023-06-22 00:00:00\n",
      "3492.736000000001\n",
      "2023-06-23 00:00:00\n",
      "3473.4360000000006\n",
      "2023-06-26 00:00:00\n",
      "3436.6360000000004\n",
      "2023-06-27 00:00:00\n",
      "3455.3260000000005\n",
      "2023-06-28 00:00:00\n",
      "3469.996000000001\n",
      "2023-06-29 00:00:00\n",
      "3449.1760000000004\n",
      "2023-06-30 00:00:00\n",
      "3470.3160000000003\n",
      "2023-07-03 00:00:00\n",
      "3468.6360000000004\n",
      "2023-07-05 00:00:00\n",
      "3468.856\n",
      "2023-07-06 00:00:00\n",
      "3468.6960000000004\n",
      "2023-07-07 00:00:00\n",
      "3445.3560000000007\n",
      "2023-07-10 00:00:00\n",
      "3446.616000000001\n",
      "2023-07-11 00:00:00\n",
      "3438.636000000001\n",
      "2023-07-12 00:00:00\n",
      "3520.396000000001\n",
      "2023-07-13 00:00:00\n",
      "3500.516000000001\n",
      "2023-07-14 00:00:00\n",
      "3491.236000000001\n",
      "2023-07-17 00:00:00\n",
      "3486.9760000000006\n",
      "2023-07-18 00:00:00\n",
      "3492.986000000001\n",
      "2023-07-19 00:00:00\n",
      "3496.386000000001\n",
      "2023-07-20 00:00:00\n",
      "3513.446000000001\n",
      "2023-07-21 00:00:00\n",
      "3543.5060000000008\n",
      "2023-07-24 00:00:00\n",
      "3543.3760000000007\n",
      "2023-07-25 00:00:00\n",
      "3555.416000000001\n",
      "2023-07-26 00:00:00\n",
      "3528.4560000000015\n",
      "2023-07-27 00:00:00\n",
      "3567.9360000000015\n",
      "2023-07-28 00:00:00\n",
      "3568.3260000000014\n",
      "2023-07-31 00:00:00\n",
      "3544.3660000000013\n",
      "2023-08-01 00:00:00\n",
      "3549.6260000000016\n",
      "2023-08-02 00:00:00\n",
      "3501.866000000002\n",
      "2023-08-03 00:00:00\n",
      "3527.456000000002\n",
      "2023-08-04 00:00:00\n",
      "3554.3560000000016\n",
      "2023-08-07 00:00:00\n",
      "3555.9060000000018\n",
      "2023-08-08 00:00:00\n",
      "3519.7860000000014\n",
      "2023-08-09 00:00:00\n",
      "3570.956000000002\n",
      "2023-08-10 00:00:00\n",
      "3600.7760000000017\n",
      "2023-08-11 00:00:00\n",
      "3502.4960000000015\n",
      "2023-08-14 00:00:00\n",
      "3419.3360000000016\n",
      "2023-08-15 00:00:00\n",
      "3374.816000000001\n",
      "2023-08-16 00:00:00\n",
      "3297.536000000002\n",
      "2023-08-17 00:00:00\n",
      "3297.5360000000014\n",
      "2023-08-18 00:00:00\n",
      "3297.536000000001\n",
      "2023-08-21 00:00:00\n",
      "3297.536000000001\n",
      "2023-08-22 00:00:00\n",
      "3297.536000000001\n",
      "2023-08-23 00:00:00\n",
      "3297.536000000001\n",
      "2023-08-24 00:00:00\n",
      "3297.536000000001\n",
      "2023-08-25 00:00:00\n",
      "3297.536000000001\n",
      "2023-08-28 00:00:00\n",
      "3297.536000000001\n",
      "2023-08-29 00:00:00\n",
      "3297.536000000001\n",
      "2023-08-30 00:00:00\n",
      "3297.536000000001\n",
      "2023-08-31 00:00:00\n",
      "3297.536000000001\n",
      "2023-09-01 00:00:00\n",
      "3297.536000000001\n",
      "2023-09-05 00:00:00\n",
      "3297.536000000001\n",
      "2023-09-06 00:00:00\n",
      "3208.976000000001\n",
      "2023-09-07 00:00:00\n",
      "3108.1160000000004\n",
      "2023-09-08 00:00:00\n",
      "3108.116000000001\n",
      "2023-09-11 00:00:00\n",
      "3108.1160000000013\n",
      "2023-09-12 00:00:00\n",
      "3108.1160000000023\n",
      "2023-09-13 00:00:00\n",
      "3108.1160000000027\n",
      "2023-09-14 00:00:00\n",
      "3108.116000000003\n",
      "2023-09-15 00:00:00\n",
      "3108.1160000000036\n",
      "2023-09-18 00:00:00\n",
      "3095.3160000000034\n",
      "2023-09-19 00:00:00\n",
      "3078.5160000000037\n",
      "2023-09-20 00:00:00\n",
      "3078.5160000000037\n",
      "2023-09-21 00:00:00\n",
      "3078.5160000000037\n",
      "2023-09-22 00:00:00\n",
      "3078.5160000000037\n",
      "2023-09-25 00:00:00\n",
      "3078.5160000000037\n",
      "2023-09-26 00:00:00\n",
      "3078.5160000000037\n",
      "2023-09-27 00:00:00\n",
      "3078.5160000000037\n",
      "2023-09-28 00:00:00\n",
      "3078.5160000000037\n",
      "2023-09-29 00:00:00\n",
      "3078.5160000000037\n",
      "2023-10-02 00:00:00\n",
      "3078.5160000000037\n",
      "2023-10-03 00:00:00\n",
      "3078.5160000000037\n",
      "2023-10-04 00:00:00\n",
      "3078.5160000000037\n",
      "2023-10-05 00:00:00\n",
      "3078.5160000000037\n",
      "2023-10-06 00:00:00\n",
      "3078.5160000000037\n",
      "2023-10-09 00:00:00\n",
      "3078.5160000000037\n",
      "2023-10-10 00:00:00\n",
      "3078.5160000000037\n",
      "2023-10-11 00:00:00\n",
      "3078.5160000000037\n",
      "2023-10-12 00:00:00\n",
      "3078.5160000000037\n",
      "2023-10-13 00:00:00\n",
      "3078.5160000000037\n",
      "2023-10-16 00:00:00\n",
      "3078.5160000000037\n",
      "2023-10-17 00:00:00\n",
      "3078.5160000000037\n",
      "2023-10-18 00:00:00\n",
      "3078.5160000000037\n",
      "2023-10-19 00:00:00\n",
      "3078.5160000000037\n",
      "2023-10-20 00:00:00\n",
      "3078.5160000000037\n",
      "2023-10-23 00:00:00\n",
      "3078.5160000000037\n",
      "2023-10-24 00:00:00\n",
      "3078.5160000000037\n",
      "2023-10-25 00:00:00\n",
      "3078.5160000000037\n",
      "2023-10-26 00:00:00\n",
      "3078.5160000000037\n",
      "2023-10-27 00:00:00\n",
      "3078.5160000000037\n",
      "2023-10-30 00:00:00\n",
      "3078.5160000000037\n",
      "2023-10-31 00:00:00\n",
      "3078.5160000000037\n",
      "2023-11-01 00:00:00\n",
      "3181.133200000004\n",
      "2023-11-02 00:00:00\n",
      "3181.133200000004\n",
      "2023-11-03 00:00:00\n",
      "3181.133200000004\n",
      "2023-11-06 00:00:00\n",
      "3181.133200000004\n",
      "2023-11-07 00:00:00\n",
      "3181.133200000004\n",
      "2023-11-08 00:00:00\n",
      "3181.133200000004\n",
      "2023-11-09 00:00:00\n",
      "3181.133200000004\n",
      "2023-11-10 00:00:00\n",
      "3181.133200000004\n",
      "2023-11-13 00:00:00\n",
      "3181.133200000004\n",
      "2023-11-14 00:00:00\n",
      "3181.133200000004\n",
      "2023-11-15 00:00:00\n",
      "3181.133200000004\n",
      "2023-11-16 00:00:00\n",
      "3181.133200000004\n",
      "2023-11-17 00:00:00\n",
      "3181.133200000004\n",
      "2023-11-20 00:00:00\n",
      "3181.133200000004\n",
      "2023-11-21 00:00:00\n",
      "3181.133200000004\n",
      "2023-11-22 00:00:00\n",
      "3181.133200000004\n",
      "2023-11-24 00:00:00\n",
      "3181.133200000004\n",
      "2023-11-27 00:00:00\n",
      "3181.133200000004\n",
      "2023-11-28 00:00:00\n",
      "3181.133200000004\n",
      "2023-11-29 00:00:00\n",
      "3181.133200000004\n",
      "2023-11-30 00:00:00\n",
      "3166.053200000004\n",
      "2023-12-01 00:00:00\n",
      "3187.1132000000043\n",
      "2023-12-04 00:00:00\n",
      "3168.003200000004\n",
      "2023-12-05 00:00:00\n",
      "3194.263200000004\n",
      "2023-12-06 00:00:00\n",
      "3196.083200000004\n",
      "2023-12-07 00:00:00\n",
      "3192.053200000004\n",
      "2023-12-08 00:00:00\n",
      "3178.5332000000044\n",
      "2023-12-11 00:00:00\n",
      "3161.5332000000044\n",
      "2023-12-12 00:00:00\n",
      "3170.903200000005\n",
      "2023-12-13 00:00:00\n",
      "3145.1932000000047\n",
      "2023-12-14 00:00:00\n",
      "3207.293200000004\n",
      "2023-12-15 00:00:00\n",
      "3160.7832000000044\n"
     ]
    }
   ],
   "source": [
    "backtest_result = backtest_strategy(df_init = all_signal,capital=1000)\n",
    "backtest_result['Total_value'] = backtest_result['units']*backtest_result['Price']+backtest_result['cash']    "
   ]
  },
  {
   "cell_type": "code",
   "execution_count": 131,
   "id": "133cd681",
   "metadata": {},
   "outputs": [],
   "source": [
    "backtest_result.to_csv('backtest.csv')"
   ]
  },
  {
   "cell_type": "code",
   "execution_count": 33,
   "id": "9cde798a",
   "metadata": {},
   "outputs": [],
   "source": [
    "summary_backtest_result = backtest_result[backtest_result.index>='2019-01-01'].reset_index().groupby(['index'])['Total_value'].sum().reset_index()\n",
    "\n",
    "summary_backtest_result = summary_backtest_result.rename(columns = {'index':'date'})"
   ]
  },
  {
   "cell_type": "code",
   "execution_count": 34,
   "id": "3f1a3b23",
   "metadata": {},
   "outputs": [],
   "source": [
    "# get summarize of total portfolio value, return by date, benchmark_index\n",
    "summary_backtest_result['Return_without_trailing'] = summary_backtest_result['Total_value']/summary_backtest_result['Total_value'].iloc[0] *100\n",
    "summary_backtest_result['Return_trailing_12m'] = summary_backtest_result['Total_value']/summary_backtest_result['Total_value'].shift(252)*100\n",
    "summary_backtest_result.set_index('date',inplace=True)"
   ]
  },
  {
   "cell_type": "code",
   "execution_count": 25,
   "id": "d088d1c9",
   "metadata": {},
   "outputs": [
    {
     "name": "stderr",
     "output_type": "stream",
     "text": [
      "C:\\Users\\CHIN\\AppData\\Local\\Temp/ipykernel_4828/1728708311.py:2: DeprecationWarning: cafile, capath and cadefault are deprecated, use a custom context instead.\n",
      "  response = urlopen(url, cafile=certifi.where())\n"
     ]
    }
   ],
   "source": [
    "QQQ_LINK = 'https://financialmodelingprep.com/api/v3/historical-price-full/'+'QQQ'+'?apikey='+api\n",
    "QQQ_stock = get_jsonparsed_data(QQQ_LINK)\n",
    "QQQ_stock = pd.json_normalize(QQQ_stock['historical'])\n",
    "QQQ_stock = QQQ_stock[['date','adjClose']]\n",
    "QQQ_stock['date'] = pd.to_datetime(QQQ_stock['date'])"
   ]
  },
  {
   "cell_type": "code",
   "execution_count": 26,
   "id": "add6f92c",
   "metadata": {
    "scrolled": true
   },
   "outputs": [],
   "source": [
    "QQQ_stock.sort_values('date',inplace=True)\n",
    "QQQ_stock = QQQ_stock[QQQ_stock['date']>='2019-01-01']\n",
    "QQQ_stock['QQQ-Return_without_trailing'] = QQQ_stock['adjClose']/QQQ_stock['adjClose'].iloc[0] *100\n",
    "QQQ_stock['QQQ-Return_trailing_12m'] = QQQ_stock['adjClose']/QQQ_stock['adjClose'].shift(252)*100\n",
    "QQQ_stock.set_index('date',inplace=True)"
   ]
  },
  {
   "cell_type": "code",
   "execution_count": 35,
   "id": "f9e6fac7",
   "metadata": {},
   "outputs": [],
   "source": [
    "summary_backtest_result['QQQ-Return_without_trailing'] = QQQ_stock['QQQ-Return_without_trailing']\n",
    "summary_backtest_result['QQQ-Return_trailing_12m'] = QQQ_stock['QQQ-Return_trailing_12m']\n"
   ]
  },
  {
   "cell_type": "code",
   "execution_count": 36,
   "id": "de199954",
   "metadata": {},
   "outputs": [
    {
     "name": "stdout",
     "output_type": "stream",
     "text": [
      "Annualized_return of Owners Earning Per Share strategy(Open Price): 39.9770705596185\n",
      "MDD of Owners Earning Per Share strategy(Open Price): -21.502782611692016\n",
      "Annualized_return of QQQ without trailing: 33.64806198910213\n",
      "MDD of QQQ without trailing: -35.117107176889505\n"
     ]
    },
    {
     "data": {
      "image/png": "[encoded data removed]",
      "text/plain": [
       "<Figure size 1080x432 with 1 Axes>"
      ]
     },
     "metadata": {
      "needs_background": "light"
     },
     "output_type": "display_data"
    }
   ],
   "source": [
    "import matplotlib.pyplot as plt\n",
    "# plot the return and calculate the annualized return and MDD (maximum draw down) for both strategy\n",
    "plt.rcParams[\"figure.figsize\"] = (15,6)\n",
    "plt.plot(summary_backtest_result.Return_without_trailing, label='Return without trailing of SMA strategy')\n",
    "plt.plot(summary_backtest_result['QQQ-Return_without_trailing'], label='QQQ-Return_without_trailing')\n",
    "plt.legend()\n",
    "print('Annualized_return of Owners Earning Per Share strategy(Open Price):',annualized (summary_backtest_result,'Return_without_trailing'))\n",
    "print('MDD of Owners Earning Per Share strategy(Open Price):', MDD(summary_backtest_result,'Return_without_trailing'))\n",
    "\n",
    "print('Annualized_return of QQQ without trailing:',annualized (summary_backtest_result,'QQQ-Return_without_trailing'))\n",
    "print('MDD of QQQ without trailing:', MDD(summary_backtest_result,'QQQ-Return_without_trailing'))"
   ]
  },
  {
   "cell_type": "code",
   "execution_count": null,
   "id": "fcf9f870",
   "metadata": {},
   "outputs": [],
   "source": []
  }
 ],
 "metadata": {
  "kernelspec": {
   "display_name": "Python 3 (ipykernel)",
   "language": "python",
   "name": "python3"
  },
  "language_info": {
   "codemirror_mode": {
    "name": "ipython",
    "version": 3
   },
   "file_extension": ".py",
   "mimetype": "text/x-python",
   "name": "python",
   "nbconvert_exporter": "python",
   "pygments_lexer": "ipython3",
   "version": "3.9.7"
  }
 },
 "nbformat": 4,
 "nbformat_minor": 5
}
