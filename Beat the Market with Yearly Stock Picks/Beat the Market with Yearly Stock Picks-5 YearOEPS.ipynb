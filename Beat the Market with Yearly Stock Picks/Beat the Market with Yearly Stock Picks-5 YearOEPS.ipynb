{
 "cells": [
  {
   "cell_type": "markdown",
   "id": "f2948200",
   "metadata": {},
   "source": [
    "# Beat the Market with Yearly Stock Picks: A 48% Annual Return Strategy\n",
    "1. Find out 5 years continuous uptrend in OEPS\n",
    "2. Find out OEPS > 0 in 5 years \n",
    "3. Buy only when shorlisted stock are in uptrend, sell when break uptrend and price is below SMA20\n",
    "\n",
    "\n"
   ]
  },
  {
   "cell_type": "code",
   "execution_count": 1,
   "id": "cb2c22b8",
   "metadata": {},
   "outputs": [],
   "source": [
    "import requests\n",
    "import pandas as pd\n",
    "import certifi\n",
    "import json\n",
    "from urllib.request import urlopen\n",
    "from datetime import datetime\n",
    "import time\n",
    "import pandas_ta as ta\n",
    "import numpy as np"
   ]
  },
  {
   "cell_type": "code",
   "execution_count": 2,
   "id": "4121ae80",
   "metadata": {},
   "outputs": [],
   "source": [
    "# data = dataframe in pandas format to calculate sma\n",
    "# ema_value = is an array to calcuate the lenth of ema \n",
    "# variable = variable used to calculate ema, it can be a \"Close\", or \"Adj Close\" in string format\n",
    "def ema(data,ema_value,variable):\n",
    "    # auto assign a variable name based on length of ema \n",
    "    variable_name = 'EMA'+ str(ema_value)\n",
    "    # calculate ema \n",
    "    data[variable_name] = data[variable].ewm(span=ema_value, adjust=False).mean()\n",
    "     # return ema variable calculated \n",
    "    return data[variable_name]\n",
    "\n",
    "# data = dataframe in pandas format to calculate sma\n",
    "# sma_value = is an array to calcuate the lenth of sma \n",
    "# variable = variable used to calculate sma, it can be a \"Close\", or \"Adj Close\" in string format\n",
    "def sma(data,sma_value,variable):\n",
    "     # auto assign a variable name based on length of sma \n",
    "    variable_name = 'SMA'+ str(sma_value)\n",
    "    # calculate sma \n",
    "    data[variable_name] =ta.sma(data[variable], length=sma_value)\n",
    "    # return sma variable calculated \n",
    "    return data[variable_name]"
   ]
  },
  {
   "cell_type": "code",
   "execution_count": 3,
   "id": "36b4d17c",
   "metadata": {},
   "outputs": [],
   "source": [
    "\n",
    "def get_jsonparsed_data(url):\n",
    "    response = urlopen(url, cafile=certifi.where())\n",
    "    data = response.read().decode(\"utf-8\")\n",
    "    return pd.DataFrame(json.loads(data))"
   ]
  },
  {
   "cell_type": "code",
   "execution_count": 4,
   "id": "b7940783",
   "metadata": {},
   "outputs": [],
   "source": [
    "def Get_Signal(data):    \n",
    "    #table start\n",
    "    df_init =  data.copy()\n",
    "    \n",
    "    '''To make sure row arrange in an ascending order'''\n",
    "    df_init.sort_values(by = 'date',inplace=True)\n",
    "    \n",
    "    '''Process data by remove Null value in moving average varaible that your want to used for triggered''' \n",
    "    #df_init.dropna(subset=['SMA120'],inplace=True)\n",
    "    #df_init.dropna(subset=['SMA120'],inplace=True)\n",
    "    '''generate as 1 if Adj close is higher than variable you want to test, generate as -1 if Adj close is less than the\n",
    "    variable you want to test in a signal variable  \n",
    "    '''\n",
    "    # create a signal variable\n",
    "    #df_init['signal'] = np.nan \n",
    "    # trigger a buy only if it is a up trend \n",
    "    #df_init.loc[(df['adjClose']>=df[variable_lower])&(df[variable_lower]>=df[variable_upper]) ,'Signal'] = 1\n",
    "    \n",
    "    # just triggered sell as close is less than variable triggered\n",
    "    df_init.loc[(df_init['adjClose']<df_init['sma20']) ,'Signal'] = -1\n",
    "    df_init.loc[((df_init['uptrend']==False) ) ,'Signal'] = -1\n",
    "    \n",
    "    ''' move the signal of today to tmr, thus, we need to define a shift(1), as the signal buy is based on yesterday'''\n",
    "    df_init['Signal'] = df_init['Signal'].shift(1)\n",
    "    \n",
    "    '''after we have a buy and sell signal, lets create a hold signal which is equal to 2 after a buy signal and\n",
    "    a do nothing signal which is equal to 0 after a sell signal'''\n",
    "    \n",
    "    # In order to make a decision on a hold or do nothing signal based on yesterday signal we need to create a for loop \n",
    "    # a calendar date should be created to used for a a for loop \n",
    "    date_list = df_init.date.unique()\n",
    "    \n",
    "    # declare a first day, the first date is a null in signal as there is no yesterday data for first data\n",
    "    first_date = date_list[0]\n",
    "    \n",
    "    # declare a previous day \n",
    "    prev = first_date \n",
    "    \n",
    "    for i in date_list:\n",
    "        if i == first_date:\n",
    "            df_init.loc[df_init.date == i,'Signal'] = 0 \n",
    "        else:\n",
    "            \n",
    "    \n",
    "            #print(prev)\n",
    "            # if you have a sell signal yesterday, you should have a do nothing signal today\n",
    "            if (df_init.loc[(df_init.date == prev),'Signal'].values[0]==-1):\n",
    "                df_init.loc[df_init.date == i,'Signal']=0 \n",
    "            # if you have a buy signal yesterday, you should have a hold signal today\n",
    "            elif (df_init.loc[(df_init.date == prev)  ,'Signal'].values[0]==1):\n",
    "                df_init.loc[df_init.date == i,'Signal'] = 2\n",
    "\n",
    "            # if you have a hold signal yesterday and you do not have a sell signal today, you should have a hold signal today\n",
    "            elif ((df_init.loc[(df_init.date == prev) ,'Signal'].values[0]==2)&(df_init.loc[(df_init.date == i) ,'Signal'].values[0]!=-1) ):\n",
    "                df_init.loc[df_init.date == i,'Signal'] = 2\n",
    "\n",
    "            # if you have a do nothing signal yesterday and today is a sell signal, you should equal to have a do nothing signal\n",
    "            elif ((df_init.loc[(df_init.date == prev) ,'Signal'].values[0]==0)&(df_init.loc[(df_init.date == i) ,'Signal'].values[0]==-1) ):\n",
    "                df_init.loc[df_init.date == i,'Signal'] = 0\n",
    "                \n",
    "        # redeclare your previous date before to next day in for loop\n",
    "        prev = i\n",
    "    \n",
    "    return df_init"
   ]
  },
  {
   "cell_type": "code",
   "execution_count": 5,
   "id": "246db48b",
   "metadata": {},
   "outputs": [],
   "source": [
    "import datetime\n",
    "def backtest_strategy(df_init,capital):\n",
    "    df_init= all_signal[['date','Price','Signal','Symbol']].copy()\n",
    "    df_init.date =pd.to_datetime(df_init.date)\n",
    "    df_init = df_init.sort_values(by=['date'])\n",
    "    df_init.set_index('date',inplace=True)\n",
    "    calendar = df_init.index.unique()\n",
    "    #assign dummy row - day before the trade\n",
    "    start_date = pd.DataFrame(columns=df_init.columns,index=[df_init.index.min()- datetime.timedelta(days=1)])\n",
    "    df_init = df_init.append(start_date)\n",
    "\n",
    "    #initiat 2 variable: cash and units which represent each status of cash and units of apple holding for each day\n",
    "    df_init = df_init.assign(cash=np.nan,units = 0)\n",
    "\n",
    "    #assign capital for first dummy day assigned to be capital defined in function\n",
    "    df_init.loc[pd.Series(df_init.index.min()), 'cash'] = capital\n",
    "    # obtain list of calendar \n",
    "    calendar = pd.Series(df_init.index.sort_values().unique()).iloc[1:]\n",
    "\n",
    "    for date in calendar: \n",
    "        #get yesterday data\n",
    "        prev_date = df_init.index[df_init.index<date].unique().sort_values()[-1]\n",
    "        stock_holding=[]\n",
    "        for stock_check in df_init[(df_init.index==prev_date) & (df_init['units']>0)].Symbol.unique():\n",
    "            # calculate total stock value of yesterday \n",
    "            tem_stock_holding =df_init.loc[(df_init.index==prev_date) & (df_init.Symbol ==stock_check), 'units'].values[0]*df_init.loc[(df_init.index==date) & (df_init.Symbol ==stock_check),'Price'].values[0]\n",
    "            stock_holding.append(tem_stock_holding)\n",
    "\n",
    "        stock_holding = sum(stock_holding)\n",
    "        # total portfolio value by add cash and stock value of yesterday \n",
    "        port_value = stock_holding + df_init.loc[prev_date, 'cash'].sum()\n",
    "        stock_pick = df_init.loc[date].Symbol.unique()\n",
    "        print(date)\n",
    "        print(port_value)\n",
    "        stock_to_hold = len(df_init[((df_init['Signal']==1)|(df_init['Signal']==2))&(df_init.index==date)].Symbol.unique())\n",
    "        if stock_to_hold >0:\n",
    "            for stock_check in df_init[(df_init.index==date)].Symbol.unique():\n",
    "                if ((df_init.loc[(df_init.index==date) & (df_init.Symbol ==stock_check), 'Signal'].values[0] == 0)|(df_init.loc[(df_init.index==date) & (df_init.Symbol ==stock_check), 'Signal'].values[0] == -1)):          \n",
    "                    df_init.loc[(df_init.index==date) & (df_init.Symbol ==stock_check), 'units'] = 0\n",
    "                    df_init.loc[(df_init.index==date) & (df_init.Symbol ==stock_check), 'cash'] =0   \n",
    "\n",
    "                elif df_init.loc[(df_init.index==date) & (df_init.Symbol ==stock_check), 'Signal'].values[0] == 1:\n",
    "\n",
    "                    unit_buy = int((port_value/stock_to_hold)/df_init.loc[(df_init.index==date) & (df_init.Symbol ==stock_check), 'Price'].values[0])\n",
    "                    df_init.loc[(df_init.index==date)& (df_init.Symbol ==stock_check), 'units'] = unit_buy\n",
    "                    df_init.loc[(df_init.index==date)& (df_init.Symbol ==stock_check), 'cash'] = port_value/stock_to_hold - unit_buy*df_init.loc[(df_init.index==date)& (df_init.Symbol ==stock_check), 'Price'].values[0]   \n",
    "\n",
    "                elif df_init.loc[(df_init.index==date) & (df_init.Symbol ==stock_check), 'Signal'].values[0] == 2:        \n",
    "                    unit_buy = int((port_value/stock_to_hold)/df_init.loc[(df_init.index==date) & (df_init.Symbol ==stock_check), 'Price'].values[0])\n",
    "                    df_init.loc[(df_init.index==date)& (df_init.Symbol ==stock_check), 'units'] = unit_buy\n",
    "                    df_init.loc[(df_init.index==date)& (df_init.Symbol ==stock_check), 'cash'] = port_value/stock_to_hold - unit_buy*df_init.loc[(df_init.index==date)& (df_init.Symbol ==stock_check), 'Price'].values[0]   \n",
    "                   \n",
    "        else:\n",
    "            total_stock = len(df_init[(df_init.index==date)].Symbol.unique())\n",
    "            df_init.loc[(df_init.index==date), 'units'] = 0\n",
    "            df_init.loc[(df_init.index==date), 'cash'] = port_value/total_stock\n",
    "    df_init[df_init.index!=df_init.index.min()]\n",
    "    return (df_init)"
   ]
  },
  {
   "cell_type": "code",
   "execution_count": 6,
   "id": "40603531",
   "metadata": {},
   "outputs": [],
   "source": [
    "# annualized return \n",
    "# df =data with return \n",
    "# variable = variable name of return\n",
    "def annualized(df,variable):\n",
    "    days_held =df.shape[0]\n",
    "    Return = (df.iloc[-1][variable] - df.iloc[0][variable])/df.iloc[0][variable]\n",
    "    ar = ((1+Return) ** (365/days_held))-1\n",
    "    # get annualized in %\n",
    "    return ar*100\n",
    "# maximum drawdown \n",
    "# df =data with return \n",
    "# variable = variable name of return\n",
    "def MDD(df,variable):\n",
    "    window = 252\n",
    "    Roll_Max = df[variable].rolling(window, min_periods=1).max()\n",
    "    Drawdown = df[variable]/Roll_Max - 1.0\n",
    "    mdd = Drawdown.min()\n",
    "    # get drawdown in %\n",
    "    return mdd*100"
   ]
  },
  {
   "cell_type": "code",
   "execution_count": 65,
   "id": "d81b9165",
   "metadata": {},
   "outputs": [],
   "source": [
    "api = 'Key in Your API'"
   ]
  },
  {
   "cell_type": "code",
   "execution_count": 9,
   "id": "842aa44c",
   "metadata": {
    "scrolled": true
   },
   "outputs": [
    {
     "name": "stdout",
     "output_type": "stream",
     "text": [
      "MMM\n"
     ]
    },
    {
     "name": "stderr",
     "output_type": "stream",
     "text": [
      "C:\\Users\\CHIN\\AppData\\Local\\Temp/ipykernel_12472/1728708311.py:2: DeprecationWarning: cafile, capath and cadefault are deprecated, use a custom context instead.\n",
      "  response = urlopen(url, cafile=certifi.where())\n"
     ]
    },
    {
     "name": "stdout",
     "output_type": "stream",
     "text": [
      "AOS\n"
     ]
    },
    {
     "name": "stderr",
     "output_type": "stream",
     "text": [
      "C:\\Users\\CHIN\\AppData\\Local\\Temp/ipykernel_12472/1728708311.py:2: DeprecationWarning: cafile, capath and cadefault are deprecated, use a custom context instead.\n",
      "  response = urlopen(url, cafile=certifi.where())\n"
     ]
    },
    {
     "name": "stdout",
     "output_type": "stream",
     "text": [
      "ABT\n"
     ]
    },
    {
     "name": "stderr",
     "output_type": "stream",
     "text": [
      "C:\\Users\\CHIN\\AppData\\Local\\Temp/ipykernel_12472/1728708311.py:2: DeprecationWarning: cafile, capath and cadefault are deprecated, use a custom context instead.\n",
      "  response = urlopen(url, cafile=certifi.where())\n"
     ]
    },
    {
     "name": "stdout",
     "output_type": "stream",
     "text": [
      "ABBV\n"
     ]
    },
    {
     "name": "stderr",
     "output_type": "stream",
     "text": [
      "C:\\Users\\CHIN\\AppData\\Local\\Temp/ipykernel_12472/1728708311.py:2: DeprecationWarning: cafile, capath and cadefault are deprecated, use a custom context instead.\n",
      "  response = urlopen(url, cafile=certifi.where())\n"
     ]
    },
    {
     "name": "stdout",
     "output_type": "stream",
     "text": [
      "ACN\n"
     ]
    },
    {
     "name": "stderr",
     "output_type": "stream",
     "text": [
      "C:\\Users\\CHIN\\AppData\\Local\\Temp/ipykernel_12472/1728708311.py:2: DeprecationWarning: cafile, capath and cadefault are deprecated, use a custom context instead.\n",
      "  response = urlopen(url, cafile=certifi.where())\n"
     ]
    },
    {
     "name": "stdout",
     "output_type": "stream",
     "text": [
      "ADBE\n"
     ]
    },
    {
     "name": "stderr",
     "output_type": "stream",
     "text": [
      "C:\\Users\\CHIN\\AppData\\Local\\Temp/ipykernel_12472/1728708311.py:2: DeprecationWarning: cafile, capath and cadefault are deprecated, use a custom context instead.\n",
      "  response = urlopen(url, cafile=certifi.where())\n"
     ]
    },
    {
     "name": "stdout",
     "output_type": "stream",
     "text": [
      "AMD\n"
     ]
    },
    {
     "name": "stderr",
     "output_type": "stream",
     "text": [
      "C:\\Users\\CHIN\\AppData\\Local\\Temp/ipykernel_12472/1728708311.py:2: DeprecationWarning: cafile, capath and cadefault are deprecated, use a custom context instead.\n",
      "  response = urlopen(url, cafile=certifi.where())\n"
     ]
    },
    {
     "name": "stdout",
     "output_type": "stream",
     "text": [
      "AES\n"
     ]
    },
    {
     "name": "stderr",
     "output_type": "stream",
     "text": [
      "C:\\Users\\CHIN\\AppData\\Local\\Temp/ipykernel_12472/1728708311.py:2: DeprecationWarning: cafile, capath and cadefault are deprecated, use a custom context instead.\n",
      "  response = urlopen(url, cafile=certifi.where())\n"
     ]
    },
    {
     "name": "stdout",
     "output_type": "stream",
     "text": [
      "AFL\n"
     ]
    },
    {
     "name": "stderr",
     "output_type": "stream",
     "text": [
      "C:\\Users\\CHIN\\AppData\\Local\\Temp/ipykernel_12472/1728708311.py:2: DeprecationWarning: cafile, capath and cadefault are deprecated, use a custom context instead.\n",
      "  response = urlopen(url, cafile=certifi.where())\n"
     ]
    },
    {
     "name": "stdout",
     "output_type": "stream",
     "text": [
      "A\n"
     ]
    },
    {
     "name": "stderr",
     "output_type": "stream",
     "text": [
      "C:\\Users\\CHIN\\AppData\\Local\\Temp/ipykernel_12472/1728708311.py:2: DeprecationWarning: cafile, capath and cadefault are deprecated, use a custom context instead.\n",
      "  response = urlopen(url, cafile=certifi.where())\n"
     ]
    },
    {
     "name": "stdout",
     "output_type": "stream",
     "text": [
      "APD\n"
     ]
    },
    {
     "name": "stderr",
     "output_type": "stream",
     "text": [
      "C:\\Users\\CHIN\\AppData\\Local\\Temp/ipykernel_12472/1728708311.py:2: DeprecationWarning: cafile, capath and cadefault are deprecated, use a custom context instead.\n",
      "  response = urlopen(url, cafile=certifi.where())\n"
     ]
    },
    {
     "name": "stdout",
     "output_type": "stream",
     "text": [
      "ABNB\n"
     ]
    },
    {
     "name": "stderr",
     "output_type": "stream",
     "text": [
      "C:\\Users\\CHIN\\AppData\\Local\\Temp/ipykernel_12472/1728708311.py:2: DeprecationWarning: cafile, capath and cadefault are deprecated, use a custom context instead.\n",
      "  response = urlopen(url, cafile=certifi.where())\n"
     ]
    },
    {
     "name": "stdout",
     "output_type": "stream",
     "text": [
      "AKAM\n"
     ]
    },
    {
     "name": "stderr",
     "output_type": "stream",
     "text": [
      "C:\\Users\\CHIN\\AppData\\Local\\Temp/ipykernel_12472/1728708311.py:2: DeprecationWarning: cafile, capath and cadefault are deprecated, use a custom context instead.\n",
      "  response = urlopen(url, cafile=certifi.where())\n"
     ]
    },
    {
     "name": "stdout",
     "output_type": "stream",
     "text": [
      "ALK\n"
     ]
    },
    {
     "name": "stderr",
     "output_type": "stream",
     "text": [
      "C:\\Users\\CHIN\\AppData\\Local\\Temp/ipykernel_12472/1728708311.py:2: DeprecationWarning: cafile, capath and cadefault are deprecated, use a custom context instead.\n",
      "  response = urlopen(url, cafile=certifi.where())\n"
     ]
    },
    {
     "name": "stdout",
     "output_type": "stream",
     "text": [
      "ALB\n"
     ]
    },
    {
     "name": "stderr",
     "output_type": "stream",
     "text": [
      "C:\\Users\\CHIN\\AppData\\Local\\Temp/ipykernel_12472/1728708311.py:2: DeprecationWarning: cafile, capath and cadefault are deprecated, use a custom context instead.\n",
      "  response = urlopen(url, cafile=certifi.where())\n"
     ]
    },
    {
     "name": "stdout",
     "output_type": "stream",
     "text": [
      "ARE\n"
     ]
    },
    {
     "name": "stderr",
     "output_type": "stream",
     "text": [
      "C:\\Users\\CHIN\\AppData\\Local\\Temp/ipykernel_12472/1728708311.py:2: DeprecationWarning: cafile, capath and cadefault are deprecated, use a custom context instead.\n",
      "  response = urlopen(url, cafile=certifi.where())\n"
     ]
    },
    {
     "name": "stdout",
     "output_type": "stream",
     "text": [
      "ALGN\n"
     ]
    },
    {
     "name": "stderr",
     "output_type": "stream",
     "text": [
      "C:\\Users\\CHIN\\AppData\\Local\\Temp/ipykernel_12472/1728708311.py:2: DeprecationWarning: cafile, capath and cadefault are deprecated, use a custom context instead.\n",
      "  response = urlopen(url, cafile=certifi.where())\n"
     ]
    },
    {
     "name": "stdout",
     "output_type": "stream",
     "text": [
      "ALLE\n"
     ]
    },
    {
     "name": "stderr",
     "output_type": "stream",
     "text": [
      "C:\\Users\\CHIN\\AppData\\Local\\Temp/ipykernel_12472/1728708311.py:2: DeprecationWarning: cafile, capath and cadefault are deprecated, use a custom context instead.\n",
      "  response = urlopen(url, cafile=certifi.where())\n"
     ]
    },
    {
     "name": "stdout",
     "output_type": "stream",
     "text": [
      "LNT\n"
     ]
    },
    {
     "name": "stderr",
     "output_type": "stream",
     "text": [
      "C:\\Users\\CHIN\\AppData\\Local\\Temp/ipykernel_12472/1728708311.py:2: DeprecationWarning: cafile, capath and cadefault are deprecated, use a custom context instead.\n",
      "  response = urlopen(url, cafile=certifi.where())\n"
     ]
    },
    {
     "name": "stdout",
     "output_type": "stream",
     "text": [
      "ALL\n"
     ]
    },
    {
     "name": "stderr",
     "output_type": "stream",
     "text": [
      "C:\\Users\\CHIN\\AppData\\Local\\Temp/ipykernel_12472/1728708311.py:2: DeprecationWarning: cafile, capath and cadefault are deprecated, use a custom context instead.\n",
      "  response = urlopen(url, cafile=certifi.where())\n"
     ]
    },
    {
     "name": "stdout",
     "output_type": "stream",
     "text": [
      "GOOGL\n"
     ]
    },
    {
     "name": "stderr",
     "output_type": "stream",
     "text": [
      "C:\\Users\\CHIN\\AppData\\Local\\Temp/ipykernel_12472/1728708311.py:2: DeprecationWarning: cafile, capath and cadefault are deprecated, use a custom context instead.\n",
      "  response = urlopen(url, cafile=certifi.where())\n"
     ]
    },
    {
     "name": "stdout",
     "output_type": "stream",
     "text": [
      "GOOG\n"
     ]
    },
    {
     "name": "stderr",
     "output_type": "stream",
     "text": [
      "C:\\Users\\CHIN\\AppData\\Local\\Temp/ipykernel_12472/1728708311.py:2: DeprecationWarning: cafile, capath and cadefault are deprecated, use a custom context instead.\n",
      "  response = urlopen(url, cafile=certifi.where())\n"
     ]
    },
    {
     "name": "stdout",
     "output_type": "stream",
     "text": [
      "MO\n"
     ]
    },
    {
     "name": "stderr",
     "output_type": "stream",
     "text": [
      "C:\\Users\\CHIN\\AppData\\Local\\Temp/ipykernel_12472/1728708311.py:2: DeprecationWarning: cafile, capath and cadefault are deprecated, use a custom context instead.\n",
      "  response = urlopen(url, cafile=certifi.where())\n"
     ]
    },
    {
     "name": "stdout",
     "output_type": "stream",
     "text": [
      "AMZN\n"
     ]
    },
    {
     "name": "stderr",
     "output_type": "stream",
     "text": [
      "C:\\Users\\CHIN\\AppData\\Local\\Temp/ipykernel_12472/1728708311.py:2: DeprecationWarning: cafile, capath and cadefault are deprecated, use a custom context instead.\n",
      "  response = urlopen(url, cafile=certifi.where())\n"
     ]
    },
    {
     "name": "stdout",
     "output_type": "stream",
     "text": [
      "AMCR\n"
     ]
    },
    {
     "name": "stderr",
     "output_type": "stream",
     "text": [
      "C:\\Users\\CHIN\\AppData\\Local\\Temp/ipykernel_12472/1728708311.py:2: DeprecationWarning: cafile, capath and cadefault are deprecated, use a custom context instead.\n",
      "  response = urlopen(url, cafile=certifi.where())\n"
     ]
    },
    {
     "name": "stdout",
     "output_type": "stream",
     "text": [
      "AEE\n"
     ]
    },
    {
     "name": "stderr",
     "output_type": "stream",
     "text": [
      "C:\\Users\\CHIN\\AppData\\Local\\Temp/ipykernel_12472/1728708311.py:2: DeprecationWarning: cafile, capath and cadefault are deprecated, use a custom context instead.\n",
      "  response = urlopen(url, cafile=certifi.where())\n"
     ]
    },
    {
     "name": "stdout",
     "output_type": "stream",
     "text": [
      "AAL\n"
     ]
    },
    {
     "name": "stderr",
     "output_type": "stream",
     "text": [
      "C:\\Users\\CHIN\\AppData\\Local\\Temp/ipykernel_12472/1728708311.py:2: DeprecationWarning: cafile, capath and cadefault are deprecated, use a custom context instead.\n",
      "  response = urlopen(url, cafile=certifi.where())\n"
     ]
    },
    {
     "name": "stdout",
     "output_type": "stream",
     "text": [
      "AEP\n"
     ]
    },
    {
     "name": "stderr",
     "output_type": "stream",
     "text": [
      "C:\\Users\\CHIN\\AppData\\Local\\Temp/ipykernel_12472/1728708311.py:2: DeprecationWarning: cafile, capath and cadefault are deprecated, use a custom context instead.\n",
      "  response = urlopen(url, cafile=certifi.where())\n"
     ]
    },
    {
     "name": "stdout",
     "output_type": "stream",
     "text": [
      "AXP\n"
     ]
    },
    {
     "name": "stderr",
     "output_type": "stream",
     "text": [
      "C:\\Users\\CHIN\\AppData\\Local\\Temp/ipykernel_12472/1728708311.py:2: DeprecationWarning: cafile, capath and cadefault are deprecated, use a custom context instead.\n",
      "  response = urlopen(url, cafile=certifi.where())\n"
     ]
    },
    {
     "name": "stdout",
     "output_type": "stream",
     "text": [
      "AIG\n"
     ]
    },
    {
     "name": "stderr",
     "output_type": "stream",
     "text": [
      "C:\\Users\\CHIN\\AppData\\Local\\Temp/ipykernel_12472/1728708311.py:2: DeprecationWarning: cafile, capath and cadefault are deprecated, use a custom context instead.\n",
      "  response = urlopen(url, cafile=certifi.where())\n"
     ]
    },
    {
     "name": "stdout",
     "output_type": "stream",
     "text": [
      "AMT\n"
     ]
    },
    {
     "name": "stderr",
     "output_type": "stream",
     "text": [
      "C:\\Users\\CHIN\\AppData\\Local\\Temp/ipykernel_12472/1728708311.py:2: DeprecationWarning: cafile, capath and cadefault are deprecated, use a custom context instead.\n",
      "  response = urlopen(url, cafile=certifi.where())\n"
     ]
    },
    {
     "name": "stdout",
     "output_type": "stream",
     "text": [
      "AWK\n"
     ]
    },
    {
     "name": "stderr",
     "output_type": "stream",
     "text": [
      "C:\\Users\\CHIN\\AppData\\Local\\Temp/ipykernel_12472/1728708311.py:2: DeprecationWarning: cafile, capath and cadefault are deprecated, use a custom context instead.\n",
      "  response = urlopen(url, cafile=certifi.where())\n"
     ]
    },
    {
     "name": "stdout",
     "output_type": "stream",
     "text": [
      "AMP\n"
     ]
    },
    {
     "name": "stderr",
     "output_type": "stream",
     "text": [
      "C:\\Users\\CHIN\\AppData\\Local\\Temp/ipykernel_12472/1728708311.py:2: DeprecationWarning: cafile, capath and cadefault are deprecated, use a custom context instead.\n",
      "  response = urlopen(url, cafile=certifi.where())\n"
     ]
    },
    {
     "name": "stdout",
     "output_type": "stream",
     "text": [
      "AME\n",
      "AMGN\n"
     ]
    },
    {
     "name": "stderr",
     "output_type": "stream",
     "text": [
      "C:\\Users\\CHIN\\AppData\\Local\\Temp/ipykernel_12472/1728708311.py:2: DeprecationWarning: cafile, capath and cadefault are deprecated, use a custom context instead.\n",
      "  response = urlopen(url, cafile=certifi.where())\n"
     ]
    },
    {
     "name": "stdout",
     "output_type": "stream",
     "text": [
      "APH\n"
     ]
    },
    {
     "name": "stderr",
     "output_type": "stream",
     "text": [
      "C:\\Users\\CHIN\\AppData\\Local\\Temp/ipykernel_12472/1728708311.py:2: DeprecationWarning: cafile, capath and cadefault are deprecated, use a custom context instead.\n",
      "  response = urlopen(url, cafile=certifi.where())\n"
     ]
    },
    {
     "name": "stdout",
     "output_type": "stream",
     "text": [
      "ADI\n"
     ]
    },
    {
     "name": "stderr",
     "output_type": "stream",
     "text": [
      "C:\\Users\\CHIN\\AppData\\Local\\Temp/ipykernel_12472/1728708311.py:2: DeprecationWarning: cafile, capath and cadefault are deprecated, use a custom context instead.\n",
      "  response = urlopen(url, cafile=certifi.where())\n"
     ]
    },
    {
     "name": "stdout",
     "output_type": "stream",
     "text": [
      "ANSS\n"
     ]
    },
    {
     "name": "stderr",
     "output_type": "stream",
     "text": [
      "C:\\Users\\CHIN\\AppData\\Local\\Temp/ipykernel_12472/1728708311.py:2: DeprecationWarning: cafile, capath and cadefault are deprecated, use a custom context instead.\n",
      "  response = urlopen(url, cafile=certifi.where())\n"
     ]
    },
    {
     "name": "stdout",
     "output_type": "stream",
     "text": [
      "AON\n"
     ]
    },
    {
     "name": "stderr",
     "output_type": "stream",
     "text": [
      "C:\\Users\\CHIN\\AppData\\Local\\Temp/ipykernel_12472/1728708311.py:2: DeprecationWarning: cafile, capath and cadefault are deprecated, use a custom context instead.\n",
      "  response = urlopen(url, cafile=certifi.where())\n"
     ]
    },
    {
     "name": "stdout",
     "output_type": "stream",
     "text": [
      "APA\n"
     ]
    },
    {
     "name": "stderr",
     "output_type": "stream",
     "text": [
      "C:\\Users\\CHIN\\AppData\\Local\\Temp/ipykernel_12472/1728708311.py:2: DeprecationWarning: cafile, capath and cadefault are deprecated, use a custom context instead.\n",
      "  response = urlopen(url, cafile=certifi.where())\n"
     ]
    },
    {
     "name": "stdout",
     "output_type": "stream",
     "text": [
      "AAPL\n"
     ]
    },
    {
     "name": "stderr",
     "output_type": "stream",
     "text": [
      "C:\\Users\\CHIN\\AppData\\Local\\Temp/ipykernel_12472/1728708311.py:2: DeprecationWarning: cafile, capath and cadefault are deprecated, use a custom context instead.\n",
      "  response = urlopen(url, cafile=certifi.where())\n"
     ]
    },
    {
     "name": "stdout",
     "output_type": "stream",
     "text": [
      "AMAT\n"
     ]
    },
    {
     "name": "stderr",
     "output_type": "stream",
     "text": [
      "C:\\Users\\CHIN\\AppData\\Local\\Temp/ipykernel_12472/1728708311.py:2: DeprecationWarning: cafile, capath and cadefault are deprecated, use a custom context instead.\n",
      "  response = urlopen(url, cafile=certifi.where())\n"
     ]
    },
    {
     "name": "stdout",
     "output_type": "stream",
     "text": [
      "APTV\n"
     ]
    },
    {
     "name": "stderr",
     "output_type": "stream",
     "text": [
      "C:\\Users\\CHIN\\AppData\\Local\\Temp/ipykernel_12472/1728708311.py:2: DeprecationWarning: cafile, capath and cadefault are deprecated, use a custom context instead.\n",
      "  response = urlopen(url, cafile=certifi.where())\n"
     ]
    },
    {
     "name": "stdout",
     "output_type": "stream",
     "text": [
      "ACGL\n"
     ]
    },
    {
     "name": "stderr",
     "output_type": "stream",
     "text": [
      "C:\\Users\\CHIN\\AppData\\Local\\Temp/ipykernel_12472/1728708311.py:2: DeprecationWarning: cafile, capath and cadefault are deprecated, use a custom context instead.\n",
      "  response = urlopen(url, cafile=certifi.where())\n"
     ]
    },
    {
     "name": "stdout",
     "output_type": "stream",
     "text": [
      "ADM\n"
     ]
    },
    {
     "name": "stderr",
     "output_type": "stream",
     "text": [
      "C:\\Users\\CHIN\\AppData\\Local\\Temp/ipykernel_12472/1728708311.py:2: DeprecationWarning: cafile, capath and cadefault are deprecated, use a custom context instead.\n",
      "  response = urlopen(url, cafile=certifi.where())\n"
     ]
    },
    {
     "name": "stdout",
     "output_type": "stream",
     "text": [
      "ANET\n"
     ]
    },
    {
     "name": "stderr",
     "output_type": "stream",
     "text": [
      "C:\\Users\\CHIN\\AppData\\Local\\Temp/ipykernel_12472/1728708311.py:2: DeprecationWarning: cafile, capath and cadefault are deprecated, use a custom context instead.\n",
      "  response = urlopen(url, cafile=certifi.where())\n"
     ]
    },
    {
     "name": "stdout",
     "output_type": "stream",
     "text": [
      "AJG\n"
     ]
    },
    {
     "name": "stderr",
     "output_type": "stream",
     "text": [
      "C:\\Users\\CHIN\\AppData\\Local\\Temp/ipykernel_12472/1728708311.py:2: DeprecationWarning: cafile, capath and cadefault are deprecated, use a custom context instead.\n",
      "  response = urlopen(url, cafile=certifi.where())\n"
     ]
    },
    {
     "name": "stdout",
     "output_type": "stream",
     "text": [
      "AIZ\n"
     ]
    },
    {
     "name": "stderr",
     "output_type": "stream",
     "text": [
      "C:\\Users\\CHIN\\AppData\\Local\\Temp/ipykernel_12472/1728708311.py:2: DeprecationWarning: cafile, capath and cadefault are deprecated, use a custom context instead.\n",
      "  response = urlopen(url, cafile=certifi.where())\n"
     ]
    },
    {
     "name": "stdout",
     "output_type": "stream",
     "text": [
      "T\n"
     ]
    },
    {
     "name": "stderr",
     "output_type": "stream",
     "text": [
      "C:\\Users\\CHIN\\AppData\\Local\\Temp/ipykernel_12472/1728708311.py:2: DeprecationWarning: cafile, capath and cadefault are deprecated, use a custom context instead.\n",
      "  response = urlopen(url, cafile=certifi.where())\n"
     ]
    },
    {
     "name": "stdout",
     "output_type": "stream",
     "text": [
      "ATO\n"
     ]
    },
    {
     "name": "stderr",
     "output_type": "stream",
     "text": [
      "C:\\Users\\CHIN\\AppData\\Local\\Temp/ipykernel_12472/1728708311.py:2: DeprecationWarning: cafile, capath and cadefault are deprecated, use a custom context instead.\n",
      "  response = urlopen(url, cafile=certifi.where())\n"
     ]
    },
    {
     "name": "stdout",
     "output_type": "stream",
     "text": [
      "ADSK\n"
     ]
    },
    {
     "name": "stderr",
     "output_type": "stream",
     "text": [
      "C:\\Users\\CHIN\\AppData\\Local\\Temp/ipykernel_12472/1728708311.py:2: DeprecationWarning: cafile, capath and cadefault are deprecated, use a custom context instead.\n",
      "  response = urlopen(url, cafile=certifi.where())\n"
     ]
    },
    {
     "name": "stdout",
     "output_type": "stream",
     "text": [
      "ADP\n"
     ]
    },
    {
     "name": "stderr",
     "output_type": "stream",
     "text": [
      "C:\\Users\\CHIN\\AppData\\Local\\Temp/ipykernel_12472/1728708311.py:2: DeprecationWarning: cafile, capath and cadefault are deprecated, use a custom context instead.\n",
      "  response = urlopen(url, cafile=certifi.where())\n"
     ]
    },
    {
     "name": "stdout",
     "output_type": "stream",
     "text": [
      "AZO\n"
     ]
    },
    {
     "name": "stderr",
     "output_type": "stream",
     "text": [
      "C:\\Users\\CHIN\\AppData\\Local\\Temp/ipykernel_12472/1728708311.py:2: DeprecationWarning: cafile, capath and cadefault are deprecated, use a custom context instead.\n",
      "  response = urlopen(url, cafile=certifi.where())\n"
     ]
    },
    {
     "name": "stdout",
     "output_type": "stream",
     "text": [
      "AVB\n"
     ]
    },
    {
     "name": "stderr",
     "output_type": "stream",
     "text": [
      "C:\\Users\\CHIN\\AppData\\Local\\Temp/ipykernel_12472/1728708311.py:2: DeprecationWarning: cafile, capath and cadefault are deprecated, use a custom context instead.\n",
      "  response = urlopen(url, cafile=certifi.where())\n"
     ]
    },
    {
     "name": "stdout",
     "output_type": "stream",
     "text": [
      "AVY\n"
     ]
    },
    {
     "name": "stderr",
     "output_type": "stream",
     "text": [
      "C:\\Users\\CHIN\\AppData\\Local\\Temp/ipykernel_12472/1728708311.py:2: DeprecationWarning: cafile, capath and cadefault are deprecated, use a custom context instead.\n",
      "  response = urlopen(url, cafile=certifi.where())\n"
     ]
    },
    {
     "name": "stdout",
     "output_type": "stream",
     "text": [
      "AXON\n"
     ]
    },
    {
     "name": "stderr",
     "output_type": "stream",
     "text": [
      "C:\\Users\\CHIN\\AppData\\Local\\Temp/ipykernel_12472/1728708311.py:2: DeprecationWarning: cafile, capath and cadefault are deprecated, use a custom context instead.\n",
      "  response = urlopen(url, cafile=certifi.where())\n"
     ]
    },
    {
     "name": "stdout",
     "output_type": "stream",
     "text": [
      "BKR\n"
     ]
    },
    {
     "name": "stderr",
     "output_type": "stream",
     "text": [
      "C:\\Users\\CHIN\\AppData\\Local\\Temp/ipykernel_12472/1728708311.py:2: DeprecationWarning: cafile, capath and cadefault are deprecated, use a custom context instead.\n",
      "  response = urlopen(url, cafile=certifi.where())\n"
     ]
    },
    {
     "name": "stdout",
     "output_type": "stream",
     "text": [
      "BALL\n"
     ]
    },
    {
     "name": "stderr",
     "output_type": "stream",
     "text": [
      "C:\\Users\\CHIN\\AppData\\Local\\Temp/ipykernel_12472/1728708311.py:2: DeprecationWarning: cafile, capath and cadefault are deprecated, use a custom context instead.\n",
      "  response = urlopen(url, cafile=certifi.where())\n"
     ]
    },
    {
     "name": "stdout",
     "output_type": "stream",
     "text": [
      "BAC\n"
     ]
    },
    {
     "name": "stderr",
     "output_type": "stream",
     "text": [
      "C:\\Users\\CHIN\\AppData\\Local\\Temp/ipykernel_12472/1728708311.py:2: DeprecationWarning: cafile, capath and cadefault are deprecated, use a custom context instead.\n",
      "  response = urlopen(url, cafile=certifi.where())\n"
     ]
    },
    {
     "name": "stdout",
     "output_type": "stream",
     "text": [
      "BK\n"
     ]
    },
    {
     "name": "stderr",
     "output_type": "stream",
     "text": [
      "C:\\Users\\CHIN\\AppData\\Local\\Temp/ipykernel_12472/1728708311.py:2: DeprecationWarning: cafile, capath and cadefault are deprecated, use a custom context instead.\n",
      "  response = urlopen(url, cafile=certifi.where())\n"
     ]
    },
    {
     "name": "stdout",
     "output_type": "stream",
     "text": [
      "BBWI\n"
     ]
    },
    {
     "name": "stderr",
     "output_type": "stream",
     "text": [
      "C:\\Users\\CHIN\\AppData\\Local\\Temp/ipykernel_12472/1728708311.py:2: DeprecationWarning: cafile, capath and cadefault are deprecated, use a custom context instead.\n",
      "  response = urlopen(url, cafile=certifi.where())\n"
     ]
    },
    {
     "name": "stdout",
     "output_type": "stream",
     "text": [
      "BAX\n"
     ]
    },
    {
     "name": "stderr",
     "output_type": "stream",
     "text": [
      "C:\\Users\\CHIN\\AppData\\Local\\Temp/ipykernel_12472/1728708311.py:2: DeprecationWarning: cafile, capath and cadefault are deprecated, use a custom context instead.\n",
      "  response = urlopen(url, cafile=certifi.where())\n"
     ]
    },
    {
     "name": "stdout",
     "output_type": "stream",
     "text": [
      "BDX\n"
     ]
    },
    {
     "name": "stderr",
     "output_type": "stream",
     "text": [
      "C:\\Users\\CHIN\\AppData\\Local\\Temp/ipykernel_12472/1728708311.py:2: DeprecationWarning: cafile, capath and cadefault are deprecated, use a custom context instead.\n",
      "  response = urlopen(url, cafile=certifi.where())\n"
     ]
    },
    {
     "name": "stdout",
     "output_type": "stream",
     "text": [
      "BRK.B\n"
     ]
    },
    {
     "name": "stderr",
     "output_type": "stream",
     "text": [
      "C:\\Users\\CHIN\\AppData\\Local\\Temp/ipykernel_12472/1728708311.py:2: DeprecationWarning: cafile, capath and cadefault are deprecated, use a custom context instead.\n",
      "  response = urlopen(url, cafile=certifi.where())\n"
     ]
    },
    {
     "name": "stdout",
     "output_type": "stream",
     "text": [
      "BBY\n",
      "BIO\n"
     ]
    },
    {
     "name": "stderr",
     "output_type": "stream",
     "text": [
      "C:\\Users\\CHIN\\AppData\\Local\\Temp/ipykernel_12472/1728708311.py:2: DeprecationWarning: cafile, capath and cadefault are deprecated, use a custom context instead.\n",
      "  response = urlopen(url, cafile=certifi.where())\n"
     ]
    },
    {
     "name": "stdout",
     "output_type": "stream",
     "text": [
      "TECH\n"
     ]
    },
    {
     "name": "stderr",
     "output_type": "stream",
     "text": [
      "C:\\Users\\CHIN\\AppData\\Local\\Temp/ipykernel_12472/1728708311.py:2: DeprecationWarning: cafile, capath and cadefault are deprecated, use a custom context instead.\n",
      "  response = urlopen(url, cafile=certifi.where())\n"
     ]
    },
    {
     "name": "stdout",
     "output_type": "stream",
     "text": [
      "BIIB\n"
     ]
    },
    {
     "name": "stderr",
     "output_type": "stream",
     "text": [
      "C:\\Users\\CHIN\\AppData\\Local\\Temp/ipykernel_12472/1728708311.py:2: DeprecationWarning: cafile, capath and cadefault are deprecated, use a custom context instead.\n",
      "  response = urlopen(url, cafile=certifi.where())\n"
     ]
    },
    {
     "name": "stdout",
     "output_type": "stream",
     "text": [
      "BLK\n"
     ]
    },
    {
     "name": "stderr",
     "output_type": "stream",
     "text": [
      "C:\\Users\\CHIN\\AppData\\Local\\Temp/ipykernel_12472/1728708311.py:2: DeprecationWarning: cafile, capath and cadefault are deprecated, use a custom context instead.\n",
      "  response = urlopen(url, cafile=certifi.where())\n"
     ]
    },
    {
     "name": "stdout",
     "output_type": "stream",
     "text": [
      "BX\n"
     ]
    },
    {
     "name": "stderr",
     "output_type": "stream",
     "text": [
      "C:\\Users\\CHIN\\AppData\\Local\\Temp/ipykernel_12472/1728708311.py:2: DeprecationWarning: cafile, capath and cadefault are deprecated, use a custom context instead.\n",
      "  response = urlopen(url, cafile=certifi.where())\n"
     ]
    },
    {
     "name": "stdout",
     "output_type": "stream",
     "text": [
      "BA\n"
     ]
    },
    {
     "name": "stderr",
     "output_type": "stream",
     "text": [
      "C:\\Users\\CHIN\\AppData\\Local\\Temp/ipykernel_12472/1728708311.py:2: DeprecationWarning: cafile, capath and cadefault are deprecated, use a custom context instead.\n",
      "  response = urlopen(url, cafile=certifi.where())\n"
     ]
    },
    {
     "name": "stdout",
     "output_type": "stream",
     "text": [
      "BKNG\n"
     ]
    },
    {
     "name": "stderr",
     "output_type": "stream",
     "text": [
      "C:\\Users\\CHIN\\AppData\\Local\\Temp/ipykernel_12472/1728708311.py:2: DeprecationWarning: cafile, capath and cadefault are deprecated, use a custom context instead.\n",
      "  response = urlopen(url, cafile=certifi.where())\n"
     ]
    },
    {
     "name": "stdout",
     "output_type": "stream",
     "text": [
      "BWA\n"
     ]
    },
    {
     "name": "stderr",
     "output_type": "stream",
     "text": [
      "C:\\Users\\CHIN\\AppData\\Local\\Temp/ipykernel_12472/1728708311.py:2: DeprecationWarning: cafile, capath and cadefault are deprecated, use a custom context instead.\n",
      "  response = urlopen(url, cafile=certifi.where())\n"
     ]
    },
    {
     "name": "stdout",
     "output_type": "stream",
     "text": [
      "BXP\n"
     ]
    },
    {
     "name": "stderr",
     "output_type": "stream",
     "text": [
      "C:\\Users\\CHIN\\AppData\\Local\\Temp/ipykernel_12472/1728708311.py:2: DeprecationWarning: cafile, capath and cadefault are deprecated, use a custom context instead.\n",
      "  response = urlopen(url, cafile=certifi.where())\n"
     ]
    },
    {
     "name": "stdout",
     "output_type": "stream",
     "text": [
      "BSX\n"
     ]
    },
    {
     "name": "stderr",
     "output_type": "stream",
     "text": [
      "C:\\Users\\CHIN\\AppData\\Local\\Temp/ipykernel_12472/1728708311.py:2: DeprecationWarning: cafile, capath and cadefault are deprecated, use a custom context instead.\n",
      "  response = urlopen(url, cafile=certifi.where())\n"
     ]
    },
    {
     "name": "stdout",
     "output_type": "stream",
     "text": [
      "BMY\n"
     ]
    },
    {
     "name": "stderr",
     "output_type": "stream",
     "text": [
      "C:\\Users\\CHIN\\AppData\\Local\\Temp/ipykernel_12472/1728708311.py:2: DeprecationWarning: cafile, capath and cadefault are deprecated, use a custom context instead.\n",
      "  response = urlopen(url, cafile=certifi.where())\n"
     ]
    },
    {
     "name": "stdout",
     "output_type": "stream",
     "text": [
      "AVGO\n"
     ]
    },
    {
     "name": "stderr",
     "output_type": "stream",
     "text": [
      "C:\\Users\\CHIN\\AppData\\Local\\Temp/ipykernel_12472/1728708311.py:2: DeprecationWarning: cafile, capath and cadefault are deprecated, use a custom context instead.\n",
      "  response = urlopen(url, cafile=certifi.where())\n"
     ]
    },
    {
     "name": "stdout",
     "output_type": "stream",
     "text": [
      "BR\n"
     ]
    },
    {
     "name": "stderr",
     "output_type": "stream",
     "text": [
      "C:\\Users\\CHIN\\AppData\\Local\\Temp/ipykernel_12472/1728708311.py:2: DeprecationWarning: cafile, capath and cadefault are deprecated, use a custom context instead.\n",
      "  response = urlopen(url, cafile=certifi.where())\n"
     ]
    },
    {
     "name": "stdout",
     "output_type": "stream",
     "text": [
      "BRO\n"
     ]
    },
    {
     "name": "stderr",
     "output_type": "stream",
     "text": [
      "C:\\Users\\CHIN\\AppData\\Local\\Temp/ipykernel_12472/1728708311.py:2: DeprecationWarning: cafile, capath and cadefault are deprecated, use a custom context instead.\n",
      "  response = urlopen(url, cafile=certifi.where())\n"
     ]
    },
    {
     "name": "stdout",
     "output_type": "stream",
     "text": [
      "BF.B\n"
     ]
    },
    {
     "name": "stderr",
     "output_type": "stream",
     "text": [
      "C:\\Users\\CHIN\\AppData\\Local\\Temp/ipykernel_12472/1728708311.py:2: DeprecationWarning: cafile, capath and cadefault are deprecated, use a custom context instead.\n",
      "  response = urlopen(url, cafile=certifi.where())\n"
     ]
    },
    {
     "name": "stdout",
     "output_type": "stream",
     "text": [
      "BG\n",
      "CDNS\n"
     ]
    },
    {
     "name": "stderr",
     "output_type": "stream",
     "text": [
      "C:\\Users\\CHIN\\AppData\\Local\\Temp/ipykernel_12472/1728708311.py:2: DeprecationWarning: cafile, capath and cadefault are deprecated, use a custom context instead.\n",
      "  response = urlopen(url, cafile=certifi.where())\n"
     ]
    },
    {
     "name": "stdout",
     "output_type": "stream",
     "text": [
      "CZR\n"
     ]
    },
    {
     "name": "stderr",
     "output_type": "stream",
     "text": [
      "C:\\Users\\CHIN\\AppData\\Local\\Temp/ipykernel_12472/1728708311.py:2: DeprecationWarning: cafile, capath and cadefault are deprecated, use a custom context instead.\n",
      "  response = urlopen(url, cafile=certifi.where())\n"
     ]
    },
    {
     "name": "stdout",
     "output_type": "stream",
     "text": [
      "CPT\n"
     ]
    },
    {
     "name": "stderr",
     "output_type": "stream",
     "text": [
      "C:\\Users\\CHIN\\AppData\\Local\\Temp/ipykernel_12472/1728708311.py:2: DeprecationWarning: cafile, capath and cadefault are deprecated, use a custom context instead.\n",
      "  response = urlopen(url, cafile=certifi.where())\n"
     ]
    },
    {
     "name": "stdout",
     "output_type": "stream",
     "text": [
      "CPB\n"
     ]
    },
    {
     "name": "stderr",
     "output_type": "stream",
     "text": [
      "C:\\Users\\CHIN\\AppData\\Local\\Temp/ipykernel_12472/1728708311.py:2: DeprecationWarning: cafile, capath and cadefault are deprecated, use a custom context instead.\n",
      "  response = urlopen(url, cafile=certifi.where())\n"
     ]
    },
    {
     "name": "stdout",
     "output_type": "stream",
     "text": [
      "COF\n"
     ]
    },
    {
     "name": "stderr",
     "output_type": "stream",
     "text": [
      "C:\\Users\\CHIN\\AppData\\Local\\Temp/ipykernel_12472/1728708311.py:2: DeprecationWarning: cafile, capath and cadefault are deprecated, use a custom context instead.\n",
      "  response = urlopen(url, cafile=certifi.where())\n"
     ]
    },
    {
     "name": "stdout",
     "output_type": "stream",
     "text": [
      "CAH\n"
     ]
    },
    {
     "name": "stderr",
     "output_type": "stream",
     "text": [
      "C:\\Users\\CHIN\\AppData\\Local\\Temp/ipykernel_12472/1728708311.py:2: DeprecationWarning: cafile, capath and cadefault are deprecated, use a custom context instead.\n",
      "  response = urlopen(url, cafile=certifi.where())\n"
     ]
    },
    {
     "name": "stdout",
     "output_type": "stream",
     "text": [
      "KMX\n"
     ]
    },
    {
     "name": "stderr",
     "output_type": "stream",
     "text": [
      "C:\\Users\\CHIN\\AppData\\Local\\Temp/ipykernel_12472/1728708311.py:2: DeprecationWarning: cafile, capath and cadefault are deprecated, use a custom context instead.\n",
      "  response = urlopen(url, cafile=certifi.where())\n"
     ]
    },
    {
     "name": "stdout",
     "output_type": "stream",
     "text": [
      "CCL\n"
     ]
    },
    {
     "name": "stderr",
     "output_type": "stream",
     "text": [
      "C:\\Users\\CHIN\\AppData\\Local\\Temp/ipykernel_12472/1728708311.py:2: DeprecationWarning: cafile, capath and cadefault are deprecated, use a custom context instead.\n",
      "  response = urlopen(url, cafile=certifi.where())\n"
     ]
    },
    {
     "name": "stdout",
     "output_type": "stream",
     "text": [
      "CARR\n"
     ]
    },
    {
     "name": "stderr",
     "output_type": "stream",
     "text": [
      "C:\\Users\\CHIN\\AppData\\Local\\Temp/ipykernel_12472/1728708311.py:2: DeprecationWarning: cafile, capath and cadefault are deprecated, use a custom context instead.\n",
      "  response = urlopen(url, cafile=certifi.where())\n"
     ]
    },
    {
     "name": "stdout",
     "output_type": "stream",
     "text": [
      "CTLT\n"
     ]
    },
    {
     "name": "stderr",
     "output_type": "stream",
     "text": [
      "C:\\Users\\CHIN\\AppData\\Local\\Temp/ipykernel_12472/1728708311.py:2: DeprecationWarning: cafile, capath and cadefault are deprecated, use a custom context instead.\n",
      "  response = urlopen(url, cafile=certifi.where())\n"
     ]
    },
    {
     "name": "stdout",
     "output_type": "stream",
     "text": [
      "CAT\n"
     ]
    },
    {
     "name": "stderr",
     "output_type": "stream",
     "text": [
      "C:\\Users\\CHIN\\AppData\\Local\\Temp/ipykernel_12472/1728708311.py:2: DeprecationWarning: cafile, capath and cadefault are deprecated, use a custom context instead.\n",
      "  response = urlopen(url, cafile=certifi.where())\n"
     ]
    },
    {
     "name": "stdout",
     "output_type": "stream",
     "text": [
      "CBOE\n"
     ]
    },
    {
     "name": "stderr",
     "output_type": "stream",
     "text": [
      "C:\\Users\\CHIN\\AppData\\Local\\Temp/ipykernel_12472/1728708311.py:2: DeprecationWarning: cafile, capath and cadefault are deprecated, use a custom context instead.\n",
      "  response = urlopen(url, cafile=certifi.where())\n"
     ]
    },
    {
     "name": "stdout",
     "output_type": "stream",
     "text": [
      "CBRE\n"
     ]
    },
    {
     "name": "stderr",
     "output_type": "stream",
     "text": [
      "C:\\Users\\CHIN\\AppData\\Local\\Temp/ipykernel_12472/1728708311.py:2: DeprecationWarning: cafile, capath and cadefault are deprecated, use a custom context instead.\n",
      "  response = urlopen(url, cafile=certifi.where())\n"
     ]
    },
    {
     "name": "stdout",
     "output_type": "stream",
     "text": [
      "CDW\n"
     ]
    },
    {
     "name": "stderr",
     "output_type": "stream",
     "text": [
      "C:\\Users\\CHIN\\AppData\\Local\\Temp/ipykernel_12472/1728708311.py:2: DeprecationWarning: cafile, capath and cadefault are deprecated, use a custom context instead.\n",
      "  response = urlopen(url, cafile=certifi.where())\n"
     ]
    },
    {
     "name": "stdout",
     "output_type": "stream",
     "text": [
      "CE\n"
     ]
    },
    {
     "name": "stderr",
     "output_type": "stream",
     "text": [
      "C:\\Users\\CHIN\\AppData\\Local\\Temp/ipykernel_12472/1728708311.py:2: DeprecationWarning: cafile, capath and cadefault are deprecated, use a custom context instead.\n",
      "  response = urlopen(url, cafile=certifi.where())\n"
     ]
    },
    {
     "name": "stdout",
     "output_type": "stream",
     "text": [
      "COR\n"
     ]
    },
    {
     "name": "stderr",
     "output_type": "stream",
     "text": [
      "C:\\Users\\CHIN\\AppData\\Local\\Temp/ipykernel_12472/1728708311.py:2: DeprecationWarning: cafile, capath and cadefault are deprecated, use a custom context instead.\n",
      "  response = urlopen(url, cafile=certifi.where())\n"
     ]
    },
    {
     "name": "stdout",
     "output_type": "stream",
     "text": [
      "CNC\n"
     ]
    },
    {
     "name": "stderr",
     "output_type": "stream",
     "text": [
      "C:\\Users\\CHIN\\AppData\\Local\\Temp/ipykernel_12472/1728708311.py:2: DeprecationWarning: cafile, capath and cadefault are deprecated, use a custom context instead.\n",
      "  response = urlopen(url, cafile=certifi.where())\n"
     ]
    },
    {
     "name": "stdout",
     "output_type": "stream",
     "text": [
      "CNP\n"
     ]
    },
    {
     "name": "stderr",
     "output_type": "stream",
     "text": [
      "C:\\Users\\CHIN\\AppData\\Local\\Temp/ipykernel_12472/1728708311.py:2: DeprecationWarning: cafile, capath and cadefault are deprecated, use a custom context instead.\n",
      "  response = urlopen(url, cafile=certifi.where())\n"
     ]
    },
    {
     "name": "stdout",
     "output_type": "stream",
     "text": [
      "CDAY\n"
     ]
    },
    {
     "name": "stderr",
     "output_type": "stream",
     "text": [
      "C:\\Users\\CHIN\\AppData\\Local\\Temp/ipykernel_12472/1728708311.py:2: DeprecationWarning: cafile, capath and cadefault are deprecated, use a custom context instead.\n",
      "  response = urlopen(url, cafile=certifi.where())\n"
     ]
    },
    {
     "name": "stdout",
     "output_type": "stream",
     "text": [
      "CF\n"
     ]
    },
    {
     "name": "stderr",
     "output_type": "stream",
     "text": [
      "C:\\Users\\CHIN\\AppData\\Local\\Temp/ipykernel_12472/1728708311.py:2: DeprecationWarning: cafile, capath and cadefault are deprecated, use a custom context instead.\n",
      "  response = urlopen(url, cafile=certifi.where())\n"
     ]
    },
    {
     "name": "stdout",
     "output_type": "stream",
     "text": [
      "CHRW\n"
     ]
    },
    {
     "name": "stderr",
     "output_type": "stream",
     "text": [
      "C:\\Users\\CHIN\\AppData\\Local\\Temp/ipykernel_12472/1728708311.py:2: DeprecationWarning: cafile, capath and cadefault are deprecated, use a custom context instead.\n",
      "  response = urlopen(url, cafile=certifi.where())\n"
     ]
    },
    {
     "name": "stdout",
     "output_type": "stream",
     "text": [
      "CRL\n"
     ]
    },
    {
     "name": "stderr",
     "output_type": "stream",
     "text": [
      "C:\\Users\\CHIN\\AppData\\Local\\Temp/ipykernel_12472/1728708311.py:2: DeprecationWarning: cafile, capath and cadefault are deprecated, use a custom context instead.\n",
      "  response = urlopen(url, cafile=certifi.where())\n"
     ]
    },
    {
     "name": "stdout",
     "output_type": "stream",
     "text": [
      "SCHW\n"
     ]
    },
    {
     "name": "stderr",
     "output_type": "stream",
     "text": [
      "C:\\Users\\CHIN\\AppData\\Local\\Temp/ipykernel_12472/1728708311.py:2: DeprecationWarning: cafile, capath and cadefault are deprecated, use a custom context instead.\n",
      "  response = urlopen(url, cafile=certifi.where())\n"
     ]
    },
    {
     "name": "stdout",
     "output_type": "stream",
     "text": [
      "CHTR\n"
     ]
    },
    {
     "name": "stderr",
     "output_type": "stream",
     "text": [
      "C:\\Users\\CHIN\\AppData\\Local\\Temp/ipykernel_12472/1728708311.py:2: DeprecationWarning: cafile, capath and cadefault are deprecated, use a custom context instead.\n",
      "  response = urlopen(url, cafile=certifi.where())\n"
     ]
    },
    {
     "name": "stdout",
     "output_type": "stream",
     "text": [
      "CVX\n"
     ]
    },
    {
     "name": "stderr",
     "output_type": "stream",
     "text": [
      "C:\\Users\\CHIN\\AppData\\Local\\Temp/ipykernel_12472/1728708311.py:2: DeprecationWarning: cafile, capath and cadefault are deprecated, use a custom context instead.\n",
      "  response = urlopen(url, cafile=certifi.where())\n"
     ]
    },
    {
     "name": "stdout",
     "output_type": "stream",
     "text": [
      "CMG\n"
     ]
    },
    {
     "name": "stderr",
     "output_type": "stream",
     "text": [
      "C:\\Users\\CHIN\\AppData\\Local\\Temp/ipykernel_12472/1728708311.py:2: DeprecationWarning: cafile, capath and cadefault are deprecated, use a custom context instead.\n",
      "  response = urlopen(url, cafile=certifi.where())\n"
     ]
    },
    {
     "name": "stdout",
     "output_type": "stream",
     "text": [
      "CB\n"
     ]
    },
    {
     "name": "stderr",
     "output_type": "stream",
     "text": [
      "C:\\Users\\CHIN\\AppData\\Local\\Temp/ipykernel_12472/1728708311.py:2: DeprecationWarning: cafile, capath and cadefault are deprecated, use a custom context instead.\n",
      "  response = urlopen(url, cafile=certifi.where())\n"
     ]
    },
    {
     "name": "stdout",
     "output_type": "stream",
     "text": [
      "CHD\n"
     ]
    },
    {
     "name": "stderr",
     "output_type": "stream",
     "text": [
      "C:\\Users\\CHIN\\AppData\\Local\\Temp/ipykernel_12472/1728708311.py:2: DeprecationWarning: cafile, capath and cadefault are deprecated, use a custom context instead.\n",
      "  response = urlopen(url, cafile=certifi.where())\n"
     ]
    },
    {
     "name": "stdout",
     "output_type": "stream",
     "text": [
      "CI\n"
     ]
    },
    {
     "name": "stderr",
     "output_type": "stream",
     "text": [
      "C:\\Users\\CHIN\\AppData\\Local\\Temp/ipykernel_12472/1728708311.py:2: DeprecationWarning: cafile, capath and cadefault are deprecated, use a custom context instead.\n",
      "  response = urlopen(url, cafile=certifi.where())\n"
     ]
    },
    {
     "name": "stdout",
     "output_type": "stream",
     "text": [
      "CINF\n"
     ]
    },
    {
     "name": "stderr",
     "output_type": "stream",
     "text": [
      "C:\\Users\\CHIN\\AppData\\Local\\Temp/ipykernel_12472/1728708311.py:2: DeprecationWarning: cafile, capath and cadefault are deprecated, use a custom context instead.\n",
      "  response = urlopen(url, cafile=certifi.where())\n"
     ]
    },
    {
     "name": "stdout",
     "output_type": "stream",
     "text": [
      "CTAS\n"
     ]
    },
    {
     "name": "stderr",
     "output_type": "stream",
     "text": [
      "C:\\Users\\CHIN\\AppData\\Local\\Temp/ipykernel_12472/1728708311.py:2: DeprecationWarning: cafile, capath and cadefault are deprecated, use a custom context instead.\n",
      "  response = urlopen(url, cafile=certifi.where())\n"
     ]
    },
    {
     "name": "stdout",
     "output_type": "stream",
     "text": [
      "CSCO\n"
     ]
    },
    {
     "name": "stderr",
     "output_type": "stream",
     "text": [
      "C:\\Users\\CHIN\\AppData\\Local\\Temp/ipykernel_12472/1728708311.py:2: DeprecationWarning: cafile, capath and cadefault are deprecated, use a custom context instead.\n",
      "  response = urlopen(url, cafile=certifi.where())\n"
     ]
    },
    {
     "name": "stdout",
     "output_type": "stream",
     "text": [
      "C\n"
     ]
    },
    {
     "name": "stderr",
     "output_type": "stream",
     "text": [
      "C:\\Users\\CHIN\\AppData\\Local\\Temp/ipykernel_12472/1728708311.py:2: DeprecationWarning: cafile, capath and cadefault are deprecated, use a custom context instead.\n",
      "  response = urlopen(url, cafile=certifi.where())\n"
     ]
    },
    {
     "name": "stdout",
     "output_type": "stream",
     "text": [
      "CFG\n",
      "CLX\n"
     ]
    },
    {
     "name": "stderr",
     "output_type": "stream",
     "text": [
      "C:\\Users\\CHIN\\AppData\\Local\\Temp/ipykernel_12472/1728708311.py:2: DeprecationWarning: cafile, capath and cadefault are deprecated, use a custom context instead.\n",
      "  response = urlopen(url, cafile=certifi.where())\n"
     ]
    },
    {
     "name": "stdout",
     "output_type": "stream",
     "text": [
      "CME\n"
     ]
    },
    {
     "name": "stderr",
     "output_type": "stream",
     "text": [
      "C:\\Users\\CHIN\\AppData\\Local\\Temp/ipykernel_12472/1728708311.py:2: DeprecationWarning: cafile, capath and cadefault are deprecated, use a custom context instead.\n",
      "  response = urlopen(url, cafile=certifi.where())\n"
     ]
    },
    {
     "name": "stdout",
     "output_type": "stream",
     "text": [
      "CMS\n"
     ]
    },
    {
     "name": "stderr",
     "output_type": "stream",
     "text": [
      "C:\\Users\\CHIN\\AppData\\Local\\Temp/ipykernel_12472/1728708311.py:2: DeprecationWarning: cafile, capath and cadefault are deprecated, use a custom context instead.\n",
      "  response = urlopen(url, cafile=certifi.where())\n"
     ]
    },
    {
     "name": "stdout",
     "output_type": "stream",
     "text": [
      "KO\n"
     ]
    },
    {
     "name": "stderr",
     "output_type": "stream",
     "text": [
      "C:\\Users\\CHIN\\AppData\\Local\\Temp/ipykernel_12472/1728708311.py:2: DeprecationWarning: cafile, capath and cadefault are deprecated, use a custom context instead.\n",
      "  response = urlopen(url, cafile=certifi.where())\n"
     ]
    },
    {
     "name": "stdout",
     "output_type": "stream",
     "text": [
      "CTSH\n"
     ]
    },
    {
     "name": "stderr",
     "output_type": "stream",
     "text": [
      "C:\\Users\\CHIN\\AppData\\Local\\Temp/ipykernel_12472/1728708311.py:2: DeprecationWarning: cafile, capath and cadefault are deprecated, use a custom context instead.\n",
      "  response = urlopen(url, cafile=certifi.where())\n"
     ]
    },
    {
     "name": "stdout",
     "output_type": "stream",
     "text": [
      "CL\n"
     ]
    },
    {
     "name": "stderr",
     "output_type": "stream",
     "text": [
      "C:\\Users\\CHIN\\AppData\\Local\\Temp/ipykernel_12472/1728708311.py:2: DeprecationWarning: cafile, capath and cadefault are deprecated, use a custom context instead.\n",
      "  response = urlopen(url, cafile=certifi.where())\n"
     ]
    },
    {
     "name": "stdout",
     "output_type": "stream",
     "text": [
      "CMCSA\n"
     ]
    },
    {
     "name": "stderr",
     "output_type": "stream",
     "text": [
      "C:\\Users\\CHIN\\AppData\\Local\\Temp/ipykernel_12472/1728708311.py:2: DeprecationWarning: cafile, capath and cadefault are deprecated, use a custom context instead.\n",
      "  response = urlopen(url, cafile=certifi.where())\n"
     ]
    },
    {
     "name": "stdout",
     "output_type": "stream",
     "text": [
      "CMA\n"
     ]
    },
    {
     "name": "stderr",
     "output_type": "stream",
     "text": [
      "C:\\Users\\CHIN\\AppData\\Local\\Temp/ipykernel_12472/1728708311.py:2: DeprecationWarning: cafile, capath and cadefault are deprecated, use a custom context instead.\n",
      "  response = urlopen(url, cafile=certifi.where())\n"
     ]
    },
    {
     "name": "stdout",
     "output_type": "stream",
     "text": [
      "CAG\n"
     ]
    },
    {
     "name": "stderr",
     "output_type": "stream",
     "text": [
      "C:\\Users\\CHIN\\AppData\\Local\\Temp/ipykernel_12472/1728708311.py:2: DeprecationWarning: cafile, capath and cadefault are deprecated, use a custom context instead.\n",
      "  response = urlopen(url, cafile=certifi.where())\n"
     ]
    },
    {
     "name": "stdout",
     "output_type": "stream",
     "text": [
      "COP\n"
     ]
    },
    {
     "name": "stderr",
     "output_type": "stream",
     "text": [
      "C:\\Users\\CHIN\\AppData\\Local\\Temp/ipykernel_12472/1728708311.py:2: DeprecationWarning: cafile, capath and cadefault are deprecated, use a custom context instead.\n",
      "  response = urlopen(url, cafile=certifi.where())\n"
     ]
    },
    {
     "name": "stdout",
     "output_type": "stream",
     "text": [
      "ED\n"
     ]
    },
    {
     "name": "stderr",
     "output_type": "stream",
     "text": [
      "C:\\Users\\CHIN\\AppData\\Local\\Temp/ipykernel_12472/1728708311.py:2: DeprecationWarning: cafile, capath and cadefault are deprecated, use a custom context instead.\n",
      "  response = urlopen(url, cafile=certifi.where())\n"
     ]
    },
    {
     "name": "stdout",
     "output_type": "stream",
     "text": [
      "STZ\n"
     ]
    },
    {
     "name": "stderr",
     "output_type": "stream",
     "text": [
      "C:\\Users\\CHIN\\AppData\\Local\\Temp/ipykernel_12472/1728708311.py:2: DeprecationWarning: cafile, capath and cadefault are deprecated, use a custom context instead.\n",
      "  response = urlopen(url, cafile=certifi.where())\n"
     ]
    },
    {
     "name": "stdout",
     "output_type": "stream",
     "text": [
      "CEG\n"
     ]
    },
    {
     "name": "stderr",
     "output_type": "stream",
     "text": [
      "C:\\Users\\CHIN\\AppData\\Local\\Temp/ipykernel_12472/1728708311.py:2: DeprecationWarning: cafile, capath and cadefault are deprecated, use a custom context instead.\n",
      "  response = urlopen(url, cafile=certifi.where())\n"
     ]
    },
    {
     "name": "stdout",
     "output_type": "stream",
     "text": [
      "COO\n"
     ]
    },
    {
     "name": "stderr",
     "output_type": "stream",
     "text": [
      "C:\\Users\\CHIN\\AppData\\Local\\Temp/ipykernel_12472/1728708311.py:2: DeprecationWarning: cafile, capath and cadefault are deprecated, use a custom context instead.\n",
      "  response = urlopen(url, cafile=certifi.where())\n"
     ]
    },
    {
     "name": "stdout",
     "output_type": "stream",
     "text": [
      "CPRT\n"
     ]
    },
    {
     "name": "stderr",
     "output_type": "stream",
     "text": [
      "C:\\Users\\CHIN\\AppData\\Local\\Temp/ipykernel_12472/1728708311.py:2: DeprecationWarning: cafile, capath and cadefault are deprecated, use a custom context instead.\n",
      "  response = urlopen(url, cafile=certifi.where())\n"
     ]
    },
    {
     "name": "stdout",
     "output_type": "stream",
     "text": [
      "GLW\n"
     ]
    },
    {
     "name": "stderr",
     "output_type": "stream",
     "text": [
      "C:\\Users\\CHIN\\AppData\\Local\\Temp/ipykernel_12472/1728708311.py:2: DeprecationWarning: cafile, capath and cadefault are deprecated, use a custom context instead.\n",
      "  response = urlopen(url, cafile=certifi.where())\n"
     ]
    },
    {
     "name": "stdout",
     "output_type": "stream",
     "text": [
      "CTVA\n"
     ]
    },
    {
     "name": "stderr",
     "output_type": "stream",
     "text": [
      "C:\\Users\\CHIN\\AppData\\Local\\Temp/ipykernel_12472/1728708311.py:2: DeprecationWarning: cafile, capath and cadefault are deprecated, use a custom context instead.\n",
      "  response = urlopen(url, cafile=certifi.where())\n"
     ]
    },
    {
     "name": "stdout",
     "output_type": "stream",
     "text": [
      "CSGP\n"
     ]
    },
    {
     "name": "stderr",
     "output_type": "stream",
     "text": [
      "C:\\Users\\CHIN\\AppData\\Local\\Temp/ipykernel_12472/1728708311.py:2: DeprecationWarning: cafile, capath and cadefault are deprecated, use a custom context instead.\n",
      "  response = urlopen(url, cafile=certifi.where())\n"
     ]
    },
    {
     "name": "stdout",
     "output_type": "stream",
     "text": [
      "COST\n"
     ]
    },
    {
     "name": "stderr",
     "output_type": "stream",
     "text": [
      "C:\\Users\\CHIN\\AppData\\Local\\Temp/ipykernel_12472/1728708311.py:2: DeprecationWarning: cafile, capath and cadefault are deprecated, use a custom context instead.\n",
      "  response = urlopen(url, cafile=certifi.where())\n"
     ]
    },
    {
     "name": "stdout",
     "output_type": "stream",
     "text": [
      "CTRA\n"
     ]
    },
    {
     "name": "stderr",
     "output_type": "stream",
     "text": [
      "C:\\Users\\CHIN\\AppData\\Local\\Temp/ipykernel_12472/1728708311.py:2: DeprecationWarning: cafile, capath and cadefault are deprecated, use a custom context instead.\n",
      "  response = urlopen(url, cafile=certifi.where())\n"
     ]
    },
    {
     "name": "stdout",
     "output_type": "stream",
     "text": [
      "CCI\n"
     ]
    },
    {
     "name": "stderr",
     "output_type": "stream",
     "text": [
      "C:\\Users\\CHIN\\AppData\\Local\\Temp/ipykernel_12472/1728708311.py:2: DeprecationWarning: cafile, capath and cadefault are deprecated, use a custom context instead.\n",
      "  response = urlopen(url, cafile=certifi.where())\n"
     ]
    },
    {
     "name": "stdout",
     "output_type": "stream",
     "text": [
      "CSX\n"
     ]
    },
    {
     "name": "stderr",
     "output_type": "stream",
     "text": [
      "C:\\Users\\CHIN\\AppData\\Local\\Temp/ipykernel_12472/1728708311.py:2: DeprecationWarning: cafile, capath and cadefault are deprecated, use a custom context instead.\n",
      "  response = urlopen(url, cafile=certifi.where())\n"
     ]
    },
    {
     "name": "stdout",
     "output_type": "stream",
     "text": [
      "CMI\n"
     ]
    },
    {
     "name": "stderr",
     "output_type": "stream",
     "text": [
      "C:\\Users\\CHIN\\AppData\\Local\\Temp/ipykernel_12472/1728708311.py:2: DeprecationWarning: cafile, capath and cadefault are deprecated, use a custom context instead.\n",
      "  response = urlopen(url, cafile=certifi.where())\n"
     ]
    },
    {
     "name": "stdout",
     "output_type": "stream",
     "text": [
      "CVS\n"
     ]
    },
    {
     "name": "stderr",
     "output_type": "stream",
     "text": [
      "C:\\Users\\CHIN\\AppData\\Local\\Temp/ipykernel_12472/1728708311.py:2: DeprecationWarning: cafile, capath and cadefault are deprecated, use a custom context instead.\n",
      "  response = urlopen(url, cafile=certifi.where())\n"
     ]
    },
    {
     "name": "stdout",
     "output_type": "stream",
     "text": [
      "DHR\n"
     ]
    },
    {
     "name": "stderr",
     "output_type": "stream",
     "text": [
      "C:\\Users\\CHIN\\AppData\\Local\\Temp/ipykernel_12472/1728708311.py:2: DeprecationWarning: cafile, capath and cadefault are deprecated, use a custom context instead.\n",
      "  response = urlopen(url, cafile=certifi.where())\n"
     ]
    },
    {
     "name": "stdout",
     "output_type": "stream",
     "text": [
      "DRI\n"
     ]
    },
    {
     "name": "stderr",
     "output_type": "stream",
     "text": [
      "C:\\Users\\CHIN\\AppData\\Local\\Temp/ipykernel_12472/1728708311.py:2: DeprecationWarning: cafile, capath and cadefault are deprecated, use a custom context instead.\n",
      "  response = urlopen(url, cafile=certifi.where())\n"
     ]
    },
    {
     "name": "stdout",
     "output_type": "stream",
     "text": [
      "DVA\n"
     ]
    },
    {
     "name": "stderr",
     "output_type": "stream",
     "text": [
      "C:\\Users\\CHIN\\AppData\\Local\\Temp/ipykernel_12472/1728708311.py:2: DeprecationWarning: cafile, capath and cadefault are deprecated, use a custom context instead.\n",
      "  response = urlopen(url, cafile=certifi.where())\n"
     ]
    },
    {
     "name": "stdout",
     "output_type": "stream",
     "text": [
      "DE\n"
     ]
    },
    {
     "name": "stderr",
     "output_type": "stream",
     "text": [
      "C:\\Users\\CHIN\\AppData\\Local\\Temp/ipykernel_12472/1728708311.py:2: DeprecationWarning: cafile, capath and cadefault are deprecated, use a custom context instead.\n",
      "  response = urlopen(url, cafile=certifi.where())\n"
     ]
    },
    {
     "name": "stdout",
     "output_type": "stream",
     "text": [
      "DAL\n"
     ]
    },
    {
     "name": "stderr",
     "output_type": "stream",
     "text": [
      "C:\\Users\\CHIN\\AppData\\Local\\Temp/ipykernel_12472/1728708311.py:2: DeprecationWarning: cafile, capath and cadefault are deprecated, use a custom context instead.\n",
      "  response = urlopen(url, cafile=certifi.where())\n"
     ]
    },
    {
     "name": "stdout",
     "output_type": "stream",
     "text": [
      "XRAY\n"
     ]
    },
    {
     "name": "stderr",
     "output_type": "stream",
     "text": [
      "C:\\Users\\CHIN\\AppData\\Local\\Temp/ipykernel_12472/1728708311.py:2: DeprecationWarning: cafile, capath and cadefault are deprecated, use a custom context instead.\n",
      "  response = urlopen(url, cafile=certifi.where())\n"
     ]
    },
    {
     "name": "stdout",
     "output_type": "stream",
     "text": [
      "DVN\n"
     ]
    },
    {
     "name": "stderr",
     "output_type": "stream",
     "text": [
      "C:\\Users\\CHIN\\AppData\\Local\\Temp/ipykernel_12472/1728708311.py:2: DeprecationWarning: cafile, capath and cadefault are deprecated, use a custom context instead.\n",
      "  response = urlopen(url, cafile=certifi.where())\n"
     ]
    },
    {
     "name": "stdout",
     "output_type": "stream",
     "text": [
      "DXCM\n"
     ]
    },
    {
     "name": "stderr",
     "output_type": "stream",
     "text": [
      "C:\\Users\\CHIN\\AppData\\Local\\Temp/ipykernel_12472/1728708311.py:2: DeprecationWarning: cafile, capath and cadefault are deprecated, use a custom context instead.\n",
      "  response = urlopen(url, cafile=certifi.where())\n"
     ]
    },
    {
     "name": "stdout",
     "output_type": "stream",
     "text": [
      "FANG\n"
     ]
    },
    {
     "name": "stderr",
     "output_type": "stream",
     "text": [
      "C:\\Users\\CHIN\\AppData\\Local\\Temp/ipykernel_12472/1728708311.py:2: DeprecationWarning: cafile, capath and cadefault are deprecated, use a custom context instead.\n",
      "  response = urlopen(url, cafile=certifi.where())\n"
     ]
    },
    {
     "name": "stdout",
     "output_type": "stream",
     "text": [
      "DLR\n"
     ]
    },
    {
     "name": "stderr",
     "output_type": "stream",
     "text": [
      "C:\\Users\\CHIN\\AppData\\Local\\Temp/ipykernel_12472/1728708311.py:2: DeprecationWarning: cafile, capath and cadefault are deprecated, use a custom context instead.\n",
      "  response = urlopen(url, cafile=certifi.where())\n"
     ]
    },
    {
     "name": "stdout",
     "output_type": "stream",
     "text": [
      "DFS\n"
     ]
    },
    {
     "name": "stderr",
     "output_type": "stream",
     "text": [
      "C:\\Users\\CHIN\\AppData\\Local\\Temp/ipykernel_12472/1728708311.py:2: DeprecationWarning: cafile, capath and cadefault are deprecated, use a custom context instead.\n",
      "  response = urlopen(url, cafile=certifi.where())\n"
     ]
    },
    {
     "name": "stdout",
     "output_type": "stream",
     "text": [
      "DG\n"
     ]
    },
    {
     "name": "stderr",
     "output_type": "stream",
     "text": [
      "C:\\Users\\CHIN\\AppData\\Local\\Temp/ipykernel_12472/1728708311.py:2: DeprecationWarning: cafile, capath and cadefault are deprecated, use a custom context instead.\n",
      "  response = urlopen(url, cafile=certifi.where())\n"
     ]
    },
    {
     "name": "stdout",
     "output_type": "stream",
     "text": [
      "DLTR\n"
     ]
    },
    {
     "name": "stderr",
     "output_type": "stream",
     "text": [
      "C:\\Users\\CHIN\\AppData\\Local\\Temp/ipykernel_12472/1728708311.py:2: DeprecationWarning: cafile, capath and cadefault are deprecated, use a custom context instead.\n",
      "  response = urlopen(url, cafile=certifi.where())\n"
     ]
    },
    {
     "name": "stdout",
     "output_type": "stream",
     "text": [
      "D\n"
     ]
    },
    {
     "name": "stderr",
     "output_type": "stream",
     "text": [
      "C:\\Users\\CHIN\\AppData\\Local\\Temp/ipykernel_12472/1728708311.py:2: DeprecationWarning: cafile, capath and cadefault are deprecated, use a custom context instead.\n",
      "  response = urlopen(url, cafile=certifi.where())\n"
     ]
    },
    {
     "name": "stdout",
     "output_type": "stream",
     "text": [
      "DPZ\n"
     ]
    },
    {
     "name": "stderr",
     "output_type": "stream",
     "text": [
      "C:\\Users\\CHIN\\AppData\\Local\\Temp/ipykernel_12472/1728708311.py:2: DeprecationWarning: cafile, capath and cadefault are deprecated, use a custom context instead.\n",
      "  response = urlopen(url, cafile=certifi.where())\n"
     ]
    },
    {
     "name": "stdout",
     "output_type": "stream",
     "text": [
      "DOV\n"
     ]
    },
    {
     "name": "stderr",
     "output_type": "stream",
     "text": [
      "C:\\Users\\CHIN\\AppData\\Local\\Temp/ipykernel_12472/1728708311.py:2: DeprecationWarning: cafile, capath and cadefault are deprecated, use a custom context instead.\n",
      "  response = urlopen(url, cafile=certifi.where())\n"
     ]
    },
    {
     "name": "stdout",
     "output_type": "stream",
     "text": [
      "DOW\n"
     ]
    },
    {
     "name": "stderr",
     "output_type": "stream",
     "text": [
      "C:\\Users\\CHIN\\AppData\\Local\\Temp/ipykernel_12472/1728708311.py:2: DeprecationWarning: cafile, capath and cadefault are deprecated, use a custom context instead.\n",
      "  response = urlopen(url, cafile=certifi.where())\n"
     ]
    },
    {
     "name": "stdout",
     "output_type": "stream",
     "text": [
      "DHI\n"
     ]
    },
    {
     "name": "stderr",
     "output_type": "stream",
     "text": [
      "C:\\Users\\CHIN\\AppData\\Local\\Temp/ipykernel_12472/1728708311.py:2: DeprecationWarning: cafile, capath and cadefault are deprecated, use a custom context instead.\n",
      "  response = urlopen(url, cafile=certifi.where())\n"
     ]
    },
    {
     "name": "stdout",
     "output_type": "stream",
     "text": [
      "DTE\n"
     ]
    },
    {
     "name": "stderr",
     "output_type": "stream",
     "text": [
      "C:\\Users\\CHIN\\AppData\\Local\\Temp/ipykernel_12472/1728708311.py:2: DeprecationWarning: cafile, capath and cadefault are deprecated, use a custom context instead.\n",
      "  response = urlopen(url, cafile=certifi.where())\n"
     ]
    },
    {
     "name": "stdout",
     "output_type": "stream",
     "text": [
      "DUK\n"
     ]
    },
    {
     "name": "stderr",
     "output_type": "stream",
     "text": [
      "C:\\Users\\CHIN\\AppData\\Local\\Temp/ipykernel_12472/1728708311.py:2: DeprecationWarning: cafile, capath and cadefault are deprecated, use a custom context instead.\n",
      "  response = urlopen(url, cafile=certifi.where())\n"
     ]
    },
    {
     "name": "stdout",
     "output_type": "stream",
     "text": [
      "DD\n"
     ]
    },
    {
     "name": "stderr",
     "output_type": "stream",
     "text": [
      "C:\\Users\\CHIN\\AppData\\Local\\Temp/ipykernel_12472/1728708311.py:2: DeprecationWarning: cafile, capath and cadefault are deprecated, use a custom context instead.\n",
      "  response = urlopen(url, cafile=certifi.where())\n"
     ]
    },
    {
     "name": "stdout",
     "output_type": "stream",
     "text": [
      "EMN\n"
     ]
    },
    {
     "name": "stderr",
     "output_type": "stream",
     "text": [
      "C:\\Users\\CHIN\\AppData\\Local\\Temp/ipykernel_12472/1728708311.py:2: DeprecationWarning: cafile, capath and cadefault are deprecated, use a custom context instead.\n",
      "  response = urlopen(url, cafile=certifi.where())\n"
     ]
    },
    {
     "name": "stdout",
     "output_type": "stream",
     "text": [
      "ETN\n"
     ]
    },
    {
     "name": "stderr",
     "output_type": "stream",
     "text": [
      "C:\\Users\\CHIN\\AppData\\Local\\Temp/ipykernel_12472/1728708311.py:2: DeprecationWarning: cafile, capath and cadefault are deprecated, use a custom context instead.\n",
      "  response = urlopen(url, cafile=certifi.where())\n"
     ]
    },
    {
     "name": "stdout",
     "output_type": "stream",
     "text": [
      "EBAY\n"
     ]
    },
    {
     "name": "stderr",
     "output_type": "stream",
     "text": [
      "C:\\Users\\CHIN\\AppData\\Local\\Temp/ipykernel_12472/1728708311.py:2: DeprecationWarning: cafile, capath and cadefault are deprecated, use a custom context instead.\n",
      "  response = urlopen(url, cafile=certifi.where())\n"
     ]
    },
    {
     "name": "stdout",
     "output_type": "stream",
     "text": [
      "ECL\n"
     ]
    },
    {
     "name": "stderr",
     "output_type": "stream",
     "text": [
      "C:\\Users\\CHIN\\AppData\\Local\\Temp/ipykernel_12472/1728708311.py:2: DeprecationWarning: cafile, capath and cadefault are deprecated, use a custom context instead.\n",
      "  response = urlopen(url, cafile=certifi.where())\n"
     ]
    },
    {
     "name": "stdout",
     "output_type": "stream",
     "text": [
      "EIX\n"
     ]
    },
    {
     "name": "stderr",
     "output_type": "stream",
     "text": [
      "C:\\Users\\CHIN\\AppData\\Local\\Temp/ipykernel_12472/1728708311.py:2: DeprecationWarning: cafile, capath and cadefault are deprecated, use a custom context instead.\n",
      "  response = urlopen(url, cafile=certifi.where())\n"
     ]
    },
    {
     "name": "stdout",
     "output_type": "stream",
     "text": [
      "EW\n"
     ]
    },
    {
     "name": "stderr",
     "output_type": "stream",
     "text": [
      "C:\\Users\\CHIN\\AppData\\Local\\Temp/ipykernel_12472/1728708311.py:2: DeprecationWarning: cafile, capath and cadefault are deprecated, use a custom context instead.\n",
      "  response = urlopen(url, cafile=certifi.where())\n"
     ]
    },
    {
     "name": "stdout",
     "output_type": "stream",
     "text": [
      "EA\n"
     ]
    },
    {
     "name": "stderr",
     "output_type": "stream",
     "text": [
      "C:\\Users\\CHIN\\AppData\\Local\\Temp/ipykernel_12472/1728708311.py:2: DeprecationWarning: cafile, capath and cadefault are deprecated, use a custom context instead.\n",
      "  response = urlopen(url, cafile=certifi.where())\n"
     ]
    },
    {
     "name": "stdout",
     "output_type": "stream",
     "text": [
      "ELV\n"
     ]
    },
    {
     "name": "stderr",
     "output_type": "stream",
     "text": [
      "C:\\Users\\CHIN\\AppData\\Local\\Temp/ipykernel_12472/1728708311.py:2: DeprecationWarning: cafile, capath and cadefault are deprecated, use a custom context instead.\n",
      "  response = urlopen(url, cafile=certifi.where())\n"
     ]
    },
    {
     "name": "stdout",
     "output_type": "stream",
     "text": [
      "LLY\n"
     ]
    },
    {
     "name": "stderr",
     "output_type": "stream",
     "text": [
      "C:\\Users\\CHIN\\AppData\\Local\\Temp/ipykernel_12472/1728708311.py:2: DeprecationWarning: cafile, capath and cadefault are deprecated, use a custom context instead.\n",
      "  response = urlopen(url, cafile=certifi.where())\n"
     ]
    },
    {
     "name": "stdout",
     "output_type": "stream",
     "text": [
      "EMR\n"
     ]
    },
    {
     "name": "stderr",
     "output_type": "stream",
     "text": [
      "C:\\Users\\CHIN\\AppData\\Local\\Temp/ipykernel_12472/1728708311.py:2: DeprecationWarning: cafile, capath and cadefault are deprecated, use a custom context instead.\n",
      "  response = urlopen(url, cafile=certifi.where())\n"
     ]
    },
    {
     "name": "stdout",
     "output_type": "stream",
     "text": [
      "ENPH\n"
     ]
    },
    {
     "name": "stderr",
     "output_type": "stream",
     "text": [
      "C:\\Users\\CHIN\\AppData\\Local\\Temp/ipykernel_12472/1728708311.py:2: DeprecationWarning: cafile, capath and cadefault are deprecated, use a custom context instead.\n",
      "  response = urlopen(url, cafile=certifi.where())\n"
     ]
    },
    {
     "name": "stdout",
     "output_type": "stream",
     "text": [
      "ETR\n"
     ]
    },
    {
     "name": "stderr",
     "output_type": "stream",
     "text": [
      "C:\\Users\\CHIN\\AppData\\Local\\Temp/ipykernel_12472/1728708311.py:2: DeprecationWarning: cafile, capath and cadefault are deprecated, use a custom context instead.\n",
      "  response = urlopen(url, cafile=certifi.where())\n"
     ]
    },
    {
     "name": "stdout",
     "output_type": "stream",
     "text": [
      "EOG\n"
     ]
    },
    {
     "name": "stderr",
     "output_type": "stream",
     "text": [
      "C:\\Users\\CHIN\\AppData\\Local\\Temp/ipykernel_12472/1728708311.py:2: DeprecationWarning: cafile, capath and cadefault are deprecated, use a custom context instead.\n",
      "  response = urlopen(url, cafile=certifi.where())\n"
     ]
    },
    {
     "name": "stdout",
     "output_type": "stream",
     "text": [
      "EPAM\n"
     ]
    },
    {
     "name": "stderr",
     "output_type": "stream",
     "text": [
      "C:\\Users\\CHIN\\AppData\\Local\\Temp/ipykernel_12472/1728708311.py:2: DeprecationWarning: cafile, capath and cadefault are deprecated, use a custom context instead.\n",
      "  response = urlopen(url, cafile=certifi.where())\n"
     ]
    },
    {
     "name": "stdout",
     "output_type": "stream",
     "text": [
      "EQT\n"
     ]
    },
    {
     "name": "stderr",
     "output_type": "stream",
     "text": [
      "C:\\Users\\CHIN\\AppData\\Local\\Temp/ipykernel_12472/1728708311.py:2: DeprecationWarning: cafile, capath and cadefault are deprecated, use a custom context instead.\n",
      "  response = urlopen(url, cafile=certifi.where())\n"
     ]
    },
    {
     "name": "stdout",
     "output_type": "stream",
     "text": [
      "EFX\n"
     ]
    },
    {
     "name": "stderr",
     "output_type": "stream",
     "text": [
      "C:\\Users\\CHIN\\AppData\\Local\\Temp/ipykernel_12472/1728708311.py:2: DeprecationWarning: cafile, capath and cadefault are deprecated, use a custom context instead.\n",
      "  response = urlopen(url, cafile=certifi.where())\n"
     ]
    },
    {
     "name": "stdout",
     "output_type": "stream",
     "text": [
      "EQIX\n"
     ]
    },
    {
     "name": "stderr",
     "output_type": "stream",
     "text": [
      "C:\\Users\\CHIN\\AppData\\Local\\Temp/ipykernel_12472/1728708311.py:2: DeprecationWarning: cafile, capath and cadefault are deprecated, use a custom context instead.\n",
      "  response = urlopen(url, cafile=certifi.where())\n"
     ]
    },
    {
     "name": "stdout",
     "output_type": "stream",
     "text": [
      "EQR\n"
     ]
    },
    {
     "name": "stderr",
     "output_type": "stream",
     "text": [
      "C:\\Users\\CHIN\\AppData\\Local\\Temp/ipykernel_12472/1728708311.py:2: DeprecationWarning: cafile, capath and cadefault are deprecated, use a custom context instead.\n",
      "  response = urlopen(url, cafile=certifi.where())\n"
     ]
    },
    {
     "name": "stdout",
     "output_type": "stream",
     "text": [
      "ESS\n"
     ]
    },
    {
     "name": "stderr",
     "output_type": "stream",
     "text": [
      "C:\\Users\\CHIN\\AppData\\Local\\Temp/ipykernel_12472/1728708311.py:2: DeprecationWarning: cafile, capath and cadefault are deprecated, use a custom context instead.\n",
      "  response = urlopen(url, cafile=certifi.where())\n"
     ]
    },
    {
     "name": "stdout",
     "output_type": "stream",
     "text": [
      "EL\n"
     ]
    },
    {
     "name": "stderr",
     "output_type": "stream",
     "text": [
      "C:\\Users\\CHIN\\AppData\\Local\\Temp/ipykernel_12472/1728708311.py:2: DeprecationWarning: cafile, capath and cadefault are deprecated, use a custom context instead.\n",
      "  response = urlopen(url, cafile=certifi.where())\n"
     ]
    },
    {
     "name": "stdout",
     "output_type": "stream",
     "text": [
      "ETSY\n"
     ]
    },
    {
     "name": "stderr",
     "output_type": "stream",
     "text": [
      "C:\\Users\\CHIN\\AppData\\Local\\Temp/ipykernel_12472/1728708311.py:2: DeprecationWarning: cafile, capath and cadefault are deprecated, use a custom context instead.\n",
      "  response = urlopen(url, cafile=certifi.where())\n"
     ]
    },
    {
     "name": "stdout",
     "output_type": "stream",
     "text": [
      "EG\n"
     ]
    },
    {
     "name": "stderr",
     "output_type": "stream",
     "text": [
      "C:\\Users\\CHIN\\AppData\\Local\\Temp/ipykernel_12472/1728708311.py:2: DeprecationWarning: cafile, capath and cadefault are deprecated, use a custom context instead.\n",
      "  response = urlopen(url, cafile=certifi.where())\n"
     ]
    },
    {
     "name": "stdout",
     "output_type": "stream",
     "text": [
      "EVRG\n",
      "ES\n"
     ]
    },
    {
     "name": "stderr",
     "output_type": "stream",
     "text": [
      "C:\\Users\\CHIN\\AppData\\Local\\Temp/ipykernel_12472/1728708311.py:2: DeprecationWarning: cafile, capath and cadefault are deprecated, use a custom context instead.\n",
      "  response = urlopen(url, cafile=certifi.where())\n"
     ]
    },
    {
     "name": "stdout",
     "output_type": "stream",
     "text": [
      "EXC\n"
     ]
    },
    {
     "name": "stderr",
     "output_type": "stream",
     "text": [
      "C:\\Users\\CHIN\\AppData\\Local\\Temp/ipykernel_12472/1728708311.py:2: DeprecationWarning: cafile, capath and cadefault are deprecated, use a custom context instead.\n",
      "  response = urlopen(url, cafile=certifi.where())\n"
     ]
    },
    {
     "name": "stdout",
     "output_type": "stream",
     "text": [
      "EXPE\n"
     ]
    },
    {
     "name": "stderr",
     "output_type": "stream",
     "text": [
      "C:\\Users\\CHIN\\AppData\\Local\\Temp/ipykernel_12472/1728708311.py:2: DeprecationWarning: cafile, capath and cadefault are deprecated, use a custom context instead.\n",
      "  response = urlopen(url, cafile=certifi.where())\n"
     ]
    },
    {
     "name": "stdout",
     "output_type": "stream",
     "text": [
      "EXPD\n"
     ]
    },
    {
     "name": "stderr",
     "output_type": "stream",
     "text": [
      "C:\\Users\\CHIN\\AppData\\Local\\Temp/ipykernel_12472/1728708311.py:2: DeprecationWarning: cafile, capath and cadefault are deprecated, use a custom context instead.\n",
      "  response = urlopen(url, cafile=certifi.where())\n"
     ]
    },
    {
     "name": "stdout",
     "output_type": "stream",
     "text": [
      "EXR\n"
     ]
    },
    {
     "name": "stderr",
     "output_type": "stream",
     "text": [
      "C:\\Users\\CHIN\\AppData\\Local\\Temp/ipykernel_12472/1728708311.py:2: DeprecationWarning: cafile, capath and cadefault are deprecated, use a custom context instead.\n",
      "  response = urlopen(url, cafile=certifi.where())\n"
     ]
    },
    {
     "name": "stdout",
     "output_type": "stream",
     "text": [
      "XOM\n"
     ]
    },
    {
     "name": "stderr",
     "output_type": "stream",
     "text": [
      "C:\\Users\\CHIN\\AppData\\Local\\Temp/ipykernel_12472/1728708311.py:2: DeprecationWarning: cafile, capath and cadefault are deprecated, use a custom context instead.\n",
      "  response = urlopen(url, cafile=certifi.where())\n"
     ]
    },
    {
     "name": "stdout",
     "output_type": "stream",
     "text": [
      "FFIV\n"
     ]
    },
    {
     "name": "stderr",
     "output_type": "stream",
     "text": [
      "C:\\Users\\CHIN\\AppData\\Local\\Temp/ipykernel_12472/1728708311.py:2: DeprecationWarning: cafile, capath and cadefault are deprecated, use a custom context instead.\n",
      "  response = urlopen(url, cafile=certifi.where())\n"
     ]
    },
    {
     "name": "stdout",
     "output_type": "stream",
     "text": [
      "FDS\n"
     ]
    },
    {
     "name": "stderr",
     "output_type": "stream",
     "text": [
      "C:\\Users\\CHIN\\AppData\\Local\\Temp/ipykernel_12472/1728708311.py:2: DeprecationWarning: cafile, capath and cadefault are deprecated, use a custom context instead.\n",
      "  response = urlopen(url, cafile=certifi.where())\n"
     ]
    },
    {
     "name": "stdout",
     "output_type": "stream",
     "text": [
      "FICO\n"
     ]
    },
    {
     "name": "stderr",
     "output_type": "stream",
     "text": [
      "C:\\Users\\CHIN\\AppData\\Local\\Temp/ipykernel_12472/1728708311.py:2: DeprecationWarning: cafile, capath and cadefault are deprecated, use a custom context instead.\n",
      "  response = urlopen(url, cafile=certifi.where())\n"
     ]
    },
    {
     "name": "stdout",
     "output_type": "stream",
     "text": [
      "FAST\n"
     ]
    },
    {
     "name": "stderr",
     "output_type": "stream",
     "text": [
      "C:\\Users\\CHIN\\AppData\\Local\\Temp/ipykernel_12472/1728708311.py:2: DeprecationWarning: cafile, capath and cadefault are deprecated, use a custom context instead.\n",
      "  response = urlopen(url, cafile=certifi.where())\n"
     ]
    },
    {
     "name": "stdout",
     "output_type": "stream",
     "text": [
      "FRT\n"
     ]
    },
    {
     "name": "stderr",
     "output_type": "stream",
     "text": [
      "C:\\Users\\CHIN\\AppData\\Local\\Temp/ipykernel_12472/1728708311.py:2: DeprecationWarning: cafile, capath and cadefault are deprecated, use a custom context instead.\n",
      "  response = urlopen(url, cafile=certifi.where())\n"
     ]
    },
    {
     "name": "stdout",
     "output_type": "stream",
     "text": [
      "FDX\n"
     ]
    },
    {
     "name": "stderr",
     "output_type": "stream",
     "text": [
      "C:\\Users\\CHIN\\AppData\\Local\\Temp/ipykernel_12472/1728708311.py:2: DeprecationWarning: cafile, capath and cadefault are deprecated, use a custom context instead.\n",
      "  response = urlopen(url, cafile=certifi.where())\n"
     ]
    },
    {
     "name": "stdout",
     "output_type": "stream",
     "text": [
      "FIS\n"
     ]
    },
    {
     "name": "stderr",
     "output_type": "stream",
     "text": [
      "C:\\Users\\CHIN\\AppData\\Local\\Temp/ipykernel_12472/1728708311.py:2: DeprecationWarning: cafile, capath and cadefault are deprecated, use a custom context instead.\n",
      "  response = urlopen(url, cafile=certifi.where())\n"
     ]
    },
    {
     "name": "stdout",
     "output_type": "stream",
     "text": [
      "FITB\n"
     ]
    },
    {
     "name": "stderr",
     "output_type": "stream",
     "text": [
      "C:\\Users\\CHIN\\AppData\\Local\\Temp/ipykernel_12472/1728708311.py:2: DeprecationWarning: cafile, capath and cadefault are deprecated, use a custom context instead.\n",
      "  response = urlopen(url, cafile=certifi.where())\n"
     ]
    },
    {
     "name": "stdout",
     "output_type": "stream",
     "text": [
      "FSLR\n"
     ]
    },
    {
     "name": "stderr",
     "output_type": "stream",
     "text": [
      "C:\\Users\\CHIN\\AppData\\Local\\Temp/ipykernel_12472/1728708311.py:2: DeprecationWarning: cafile, capath and cadefault are deprecated, use a custom context instead.\n",
      "  response = urlopen(url, cafile=certifi.where())\n"
     ]
    },
    {
     "name": "stdout",
     "output_type": "stream",
     "text": [
      "FE\n"
     ]
    },
    {
     "name": "stderr",
     "output_type": "stream",
     "text": [
      "C:\\Users\\CHIN\\AppData\\Local\\Temp/ipykernel_12472/1728708311.py:2: DeprecationWarning: cafile, capath and cadefault are deprecated, use a custom context instead.\n",
      "  response = urlopen(url, cafile=certifi.where())\n"
     ]
    },
    {
     "name": "stdout",
     "output_type": "stream",
     "text": [
      "FI\n"
     ]
    },
    {
     "name": "stderr",
     "output_type": "stream",
     "text": [
      "C:\\Users\\CHIN\\AppData\\Local\\Temp/ipykernel_12472/1728708311.py:2: DeprecationWarning: cafile, capath and cadefault are deprecated, use a custom context instead.\n",
      "  response = urlopen(url, cafile=certifi.where())\n"
     ]
    },
    {
     "name": "stdout",
     "output_type": "stream",
     "text": [
      "FLT\n"
     ]
    },
    {
     "name": "stderr",
     "output_type": "stream",
     "text": [
      "C:\\Users\\CHIN\\AppData\\Local\\Temp/ipykernel_12472/1728708311.py:2: DeprecationWarning: cafile, capath and cadefault are deprecated, use a custom context instead.\n",
      "  response = urlopen(url, cafile=certifi.where())\n"
     ]
    },
    {
     "name": "stdout",
     "output_type": "stream",
     "text": [
      "FMC\n"
     ]
    },
    {
     "name": "stderr",
     "output_type": "stream",
     "text": [
      "C:\\Users\\CHIN\\AppData\\Local\\Temp/ipykernel_12472/1728708311.py:2: DeprecationWarning: cafile, capath and cadefault are deprecated, use a custom context instead.\n",
      "  response = urlopen(url, cafile=certifi.where())\n"
     ]
    },
    {
     "name": "stdout",
     "output_type": "stream",
     "text": [
      "F\n"
     ]
    },
    {
     "name": "stderr",
     "output_type": "stream",
     "text": [
      "C:\\Users\\CHIN\\AppData\\Local\\Temp/ipykernel_12472/1728708311.py:2: DeprecationWarning: cafile, capath and cadefault are deprecated, use a custom context instead.\n",
      "  response = urlopen(url, cafile=certifi.where())\n"
     ]
    },
    {
     "name": "stdout",
     "output_type": "stream",
     "text": [
      "FTNT\n"
     ]
    },
    {
     "name": "stderr",
     "output_type": "stream",
     "text": [
      "C:\\Users\\CHIN\\AppData\\Local\\Temp/ipykernel_12472/1728708311.py:2: DeprecationWarning: cafile, capath and cadefault are deprecated, use a custom context instead.\n",
      "  response = urlopen(url, cafile=certifi.where())\n"
     ]
    },
    {
     "name": "stdout",
     "output_type": "stream",
     "text": [
      "FTV\n"
     ]
    },
    {
     "name": "stderr",
     "output_type": "stream",
     "text": [
      "C:\\Users\\CHIN\\AppData\\Local\\Temp/ipykernel_12472/1728708311.py:2: DeprecationWarning: cafile, capath and cadefault are deprecated, use a custom context instead.\n",
      "  response = urlopen(url, cafile=certifi.where())\n"
     ]
    },
    {
     "name": "stdout",
     "output_type": "stream",
     "text": [
      "FOXA\n"
     ]
    },
    {
     "name": "stderr",
     "output_type": "stream",
     "text": [
      "C:\\Users\\CHIN\\AppData\\Local\\Temp/ipykernel_12472/1728708311.py:2: DeprecationWarning: cafile, capath and cadefault are deprecated, use a custom context instead.\n",
      "  response = urlopen(url, cafile=certifi.where())\n"
     ]
    },
    {
     "name": "stdout",
     "output_type": "stream",
     "text": [
      "FOX\n"
     ]
    },
    {
     "name": "stderr",
     "output_type": "stream",
     "text": [
      "C:\\Users\\CHIN\\AppData\\Local\\Temp/ipykernel_12472/1728708311.py:2: DeprecationWarning: cafile, capath and cadefault are deprecated, use a custom context instead.\n",
      "  response = urlopen(url, cafile=certifi.where())\n"
     ]
    },
    {
     "name": "stdout",
     "output_type": "stream",
     "text": [
      "BEN\n"
     ]
    },
    {
     "name": "stderr",
     "output_type": "stream",
     "text": [
      "C:\\Users\\CHIN\\AppData\\Local\\Temp/ipykernel_12472/1728708311.py:2: DeprecationWarning: cafile, capath and cadefault are deprecated, use a custom context instead.\n",
      "  response = urlopen(url, cafile=certifi.where())\n"
     ]
    },
    {
     "name": "stdout",
     "output_type": "stream",
     "text": [
      "FCX\n"
     ]
    },
    {
     "name": "stderr",
     "output_type": "stream",
     "text": [
      "C:\\Users\\CHIN\\AppData\\Local\\Temp/ipykernel_12472/1728708311.py:2: DeprecationWarning: cafile, capath and cadefault are deprecated, use a custom context instead.\n",
      "  response = urlopen(url, cafile=certifi.where())\n"
     ]
    },
    {
     "name": "stdout",
     "output_type": "stream",
     "text": [
      "GRMN\n"
     ]
    },
    {
     "name": "stderr",
     "output_type": "stream",
     "text": [
      "C:\\Users\\CHIN\\AppData\\Local\\Temp/ipykernel_12472/1728708311.py:2: DeprecationWarning: cafile, capath and cadefault are deprecated, use a custom context instead.\n",
      "  response = urlopen(url, cafile=certifi.where())\n"
     ]
    },
    {
     "name": "stdout",
     "output_type": "stream",
     "text": [
      "IT\n"
     ]
    },
    {
     "name": "stderr",
     "output_type": "stream",
     "text": [
      "C:\\Users\\CHIN\\AppData\\Local\\Temp/ipykernel_12472/1728708311.py:2: DeprecationWarning: cafile, capath and cadefault are deprecated, use a custom context instead.\n",
      "  response = urlopen(url, cafile=certifi.where())\n"
     ]
    },
    {
     "name": "stdout",
     "output_type": "stream",
     "text": [
      "GEHC\n"
     ]
    },
    {
     "name": "stderr",
     "output_type": "stream",
     "text": [
      "C:\\Users\\CHIN\\AppData\\Local\\Temp/ipykernel_12472/1728708311.py:2: DeprecationWarning: cafile, capath and cadefault are deprecated, use a custom context instead.\n",
      "  response = urlopen(url, cafile=certifi.where())\n"
     ]
    },
    {
     "name": "stdout",
     "output_type": "stream",
     "text": [
      "GEN\n"
     ]
    },
    {
     "name": "stderr",
     "output_type": "stream",
     "text": [
      "C:\\Users\\CHIN\\AppData\\Local\\Temp/ipykernel_12472/1728708311.py:2: DeprecationWarning: cafile, capath and cadefault are deprecated, use a custom context instead.\n",
      "  response = urlopen(url, cafile=certifi.where())\n"
     ]
    },
    {
     "name": "stdout",
     "output_type": "stream",
     "text": [
      "GNRC\n"
     ]
    },
    {
     "name": "stderr",
     "output_type": "stream",
     "text": [
      "C:\\Users\\CHIN\\AppData\\Local\\Temp/ipykernel_12472/1728708311.py:2: DeprecationWarning: cafile, capath and cadefault are deprecated, use a custom context instead.\n",
      "  response = urlopen(url, cafile=certifi.where())\n"
     ]
    },
    {
     "name": "stdout",
     "output_type": "stream",
     "text": [
      "GD\n"
     ]
    },
    {
     "name": "stderr",
     "output_type": "stream",
     "text": [
      "C:\\Users\\CHIN\\AppData\\Local\\Temp/ipykernel_12472/1728708311.py:2: DeprecationWarning: cafile, capath and cadefault are deprecated, use a custom context instead.\n",
      "  response = urlopen(url, cafile=certifi.where())\n"
     ]
    },
    {
     "name": "stdout",
     "output_type": "stream",
     "text": [
      "GE\n"
     ]
    },
    {
     "name": "stderr",
     "output_type": "stream",
     "text": [
      "C:\\Users\\CHIN\\AppData\\Local\\Temp/ipykernel_12472/1728708311.py:2: DeprecationWarning: cafile, capath and cadefault are deprecated, use a custom context instead.\n",
      "  response = urlopen(url, cafile=certifi.where())\n"
     ]
    },
    {
     "name": "stdout",
     "output_type": "stream",
     "text": [
      "GIS\n"
     ]
    },
    {
     "name": "stderr",
     "output_type": "stream",
     "text": [
      "C:\\Users\\CHIN\\AppData\\Local\\Temp/ipykernel_12472/1728708311.py:2: DeprecationWarning: cafile, capath and cadefault are deprecated, use a custom context instead.\n",
      "  response = urlopen(url, cafile=certifi.where())\n"
     ]
    },
    {
     "name": "stdout",
     "output_type": "stream",
     "text": [
      "GM\n"
     ]
    },
    {
     "name": "stderr",
     "output_type": "stream",
     "text": [
      "C:\\Users\\CHIN\\AppData\\Local\\Temp/ipykernel_12472/1728708311.py:2: DeprecationWarning: cafile, capath and cadefault are deprecated, use a custom context instead.\n",
      "  response = urlopen(url, cafile=certifi.where())\n"
     ]
    },
    {
     "name": "stdout",
     "output_type": "stream",
     "text": [
      "GPC\n"
     ]
    },
    {
     "name": "stderr",
     "output_type": "stream",
     "text": [
      "C:\\Users\\CHIN\\AppData\\Local\\Temp/ipykernel_12472/1728708311.py:2: DeprecationWarning: cafile, capath and cadefault are deprecated, use a custom context instead.\n",
      "  response = urlopen(url, cafile=certifi.where())\n"
     ]
    },
    {
     "name": "stdout",
     "output_type": "stream",
     "text": [
      "GILD\n"
     ]
    },
    {
     "name": "stderr",
     "output_type": "stream",
     "text": [
      "C:\\Users\\CHIN\\AppData\\Local\\Temp/ipykernel_12472/1728708311.py:2: DeprecationWarning: cafile, capath and cadefault are deprecated, use a custom context instead.\n",
      "  response = urlopen(url, cafile=certifi.where())\n"
     ]
    },
    {
     "name": "stdout",
     "output_type": "stream",
     "text": [
      "GPN\n"
     ]
    },
    {
     "name": "stderr",
     "output_type": "stream",
     "text": [
      "C:\\Users\\CHIN\\AppData\\Local\\Temp/ipykernel_12472/1728708311.py:2: DeprecationWarning: cafile, capath and cadefault are deprecated, use a custom context instead.\n",
      "  response = urlopen(url, cafile=certifi.where())\n"
     ]
    },
    {
     "name": "stdout",
     "output_type": "stream",
     "text": [
      "GL\n"
     ]
    },
    {
     "name": "stderr",
     "output_type": "stream",
     "text": [
      "C:\\Users\\CHIN\\AppData\\Local\\Temp/ipykernel_12472/1728708311.py:2: DeprecationWarning: cafile, capath and cadefault are deprecated, use a custom context instead.\n",
      "  response = urlopen(url, cafile=certifi.where())\n"
     ]
    },
    {
     "name": "stdout",
     "output_type": "stream",
     "text": [
      "GS\n"
     ]
    },
    {
     "name": "stderr",
     "output_type": "stream",
     "text": [
      "C:\\Users\\CHIN\\AppData\\Local\\Temp/ipykernel_12472/1728708311.py:2: DeprecationWarning: cafile, capath and cadefault are deprecated, use a custom context instead.\n",
      "  response = urlopen(url, cafile=certifi.where())\n"
     ]
    },
    {
     "name": "stdout",
     "output_type": "stream",
     "text": [
      "HAL\n"
     ]
    },
    {
     "name": "stderr",
     "output_type": "stream",
     "text": [
      "C:\\Users\\CHIN\\AppData\\Local\\Temp/ipykernel_12472/1728708311.py:2: DeprecationWarning: cafile, capath and cadefault are deprecated, use a custom context instead.\n",
      "  response = urlopen(url, cafile=certifi.where())\n"
     ]
    },
    {
     "name": "stdout",
     "output_type": "stream",
     "text": [
      "HIG\n"
     ]
    },
    {
     "name": "stderr",
     "output_type": "stream",
     "text": [
      "C:\\Users\\CHIN\\AppData\\Local\\Temp/ipykernel_12472/1728708311.py:2: DeprecationWarning: cafile, capath and cadefault are deprecated, use a custom context instead.\n",
      "  response = urlopen(url, cafile=certifi.where())\n"
     ]
    },
    {
     "name": "stdout",
     "output_type": "stream",
     "text": [
      "HAS\n"
     ]
    },
    {
     "name": "stderr",
     "output_type": "stream",
     "text": [
      "C:\\Users\\CHIN\\AppData\\Local\\Temp/ipykernel_12472/1728708311.py:2: DeprecationWarning: cafile, capath and cadefault are deprecated, use a custom context instead.\n",
      "  response = urlopen(url, cafile=certifi.where())\n"
     ]
    },
    {
     "name": "stdout",
     "output_type": "stream",
     "text": [
      "HCA\n"
     ]
    },
    {
     "name": "stderr",
     "output_type": "stream",
     "text": [
      "C:\\Users\\CHIN\\AppData\\Local\\Temp/ipykernel_12472/1728708311.py:2: DeprecationWarning: cafile, capath and cadefault are deprecated, use a custom context instead.\n",
      "  response = urlopen(url, cafile=certifi.where())\n"
     ]
    },
    {
     "name": "stdout",
     "output_type": "stream",
     "text": [
      "PEAK\n"
     ]
    },
    {
     "name": "stderr",
     "output_type": "stream",
     "text": [
      "C:\\Users\\CHIN\\AppData\\Local\\Temp/ipykernel_12472/1728708311.py:2: DeprecationWarning: cafile, capath and cadefault are deprecated, use a custom context instead.\n",
      "  response = urlopen(url, cafile=certifi.where())\n"
     ]
    },
    {
     "name": "stdout",
     "output_type": "stream",
     "text": [
      "HSIC\n"
     ]
    },
    {
     "name": "stderr",
     "output_type": "stream",
     "text": [
      "C:\\Users\\CHIN\\AppData\\Local\\Temp/ipykernel_12472/1728708311.py:2: DeprecationWarning: cafile, capath and cadefault are deprecated, use a custom context instead.\n",
      "  response = urlopen(url, cafile=certifi.where())\n"
     ]
    },
    {
     "name": "stdout",
     "output_type": "stream",
     "text": [
      "HSY\n"
     ]
    },
    {
     "name": "stderr",
     "output_type": "stream",
     "text": [
      "C:\\Users\\CHIN\\AppData\\Local\\Temp/ipykernel_12472/1728708311.py:2: DeprecationWarning: cafile, capath and cadefault are deprecated, use a custom context instead.\n",
      "  response = urlopen(url, cafile=certifi.where())\n"
     ]
    },
    {
     "name": "stdout",
     "output_type": "stream",
     "text": [
      "HES\n"
     ]
    },
    {
     "name": "stderr",
     "output_type": "stream",
     "text": [
      "C:\\Users\\CHIN\\AppData\\Local\\Temp/ipykernel_12472/1728708311.py:2: DeprecationWarning: cafile, capath and cadefault are deprecated, use a custom context instead.\n",
      "  response = urlopen(url, cafile=certifi.where())\n"
     ]
    },
    {
     "name": "stdout",
     "output_type": "stream",
     "text": [
      "HPE\n"
     ]
    },
    {
     "name": "stderr",
     "output_type": "stream",
     "text": [
      "C:\\Users\\CHIN\\AppData\\Local\\Temp/ipykernel_12472/1728708311.py:2: DeprecationWarning: cafile, capath and cadefault are deprecated, use a custom context instead.\n",
      "  response = urlopen(url, cafile=certifi.where())\n"
     ]
    },
    {
     "name": "stdout",
     "output_type": "stream",
     "text": [
      "HLT\n"
     ]
    },
    {
     "name": "stderr",
     "output_type": "stream",
     "text": [
      "C:\\Users\\CHIN\\AppData\\Local\\Temp/ipykernel_12472/1728708311.py:2: DeprecationWarning: cafile, capath and cadefault are deprecated, use a custom context instead.\n",
      "  response = urlopen(url, cafile=certifi.where())\n"
     ]
    },
    {
     "name": "stdout",
     "output_type": "stream",
     "text": [
      "HOLX\n"
     ]
    },
    {
     "name": "stderr",
     "output_type": "stream",
     "text": [
      "C:\\Users\\CHIN\\AppData\\Local\\Temp/ipykernel_12472/1728708311.py:2: DeprecationWarning: cafile, capath and cadefault are deprecated, use a custom context instead.\n",
      "  response = urlopen(url, cafile=certifi.where())\n"
     ]
    },
    {
     "name": "stdout",
     "output_type": "stream",
     "text": [
      "HD\n"
     ]
    },
    {
     "name": "stderr",
     "output_type": "stream",
     "text": [
      "C:\\Users\\CHIN\\AppData\\Local\\Temp/ipykernel_12472/1728708311.py:2: DeprecationWarning: cafile, capath and cadefault are deprecated, use a custom context instead.\n",
      "  response = urlopen(url, cafile=certifi.where())\n"
     ]
    },
    {
     "name": "stdout",
     "output_type": "stream",
     "text": [
      "HON\n"
     ]
    },
    {
     "name": "stderr",
     "output_type": "stream",
     "text": [
      "C:\\Users\\CHIN\\AppData\\Local\\Temp/ipykernel_12472/1728708311.py:2: DeprecationWarning: cafile, capath and cadefault are deprecated, use a custom context instead.\n",
      "  response = urlopen(url, cafile=certifi.where())\n"
     ]
    },
    {
     "name": "stdout",
     "output_type": "stream",
     "text": [
      "HRL\n"
     ]
    },
    {
     "name": "stderr",
     "output_type": "stream",
     "text": [
      "C:\\Users\\CHIN\\AppData\\Local\\Temp/ipykernel_12472/1728708311.py:2: DeprecationWarning: cafile, capath and cadefault are deprecated, use a custom context instead.\n",
      "  response = urlopen(url, cafile=certifi.where())\n"
     ]
    },
    {
     "name": "stdout",
     "output_type": "stream",
     "text": [
      "HST\n"
     ]
    },
    {
     "name": "stderr",
     "output_type": "stream",
     "text": [
      "C:\\Users\\CHIN\\AppData\\Local\\Temp/ipykernel_12472/1728708311.py:2: DeprecationWarning: cafile, capath and cadefault are deprecated, use a custom context instead.\n",
      "  response = urlopen(url, cafile=certifi.where())\n"
     ]
    },
    {
     "name": "stdout",
     "output_type": "stream",
     "text": [
      "HWM\n"
     ]
    },
    {
     "name": "stderr",
     "output_type": "stream",
     "text": [
      "C:\\Users\\CHIN\\AppData\\Local\\Temp/ipykernel_12472/1728708311.py:2: DeprecationWarning: cafile, capath and cadefault are deprecated, use a custom context instead.\n",
      "  response = urlopen(url, cafile=certifi.where())\n"
     ]
    },
    {
     "name": "stdout",
     "output_type": "stream",
     "text": [
      "HPQ\n"
     ]
    },
    {
     "name": "stderr",
     "output_type": "stream",
     "text": [
      "C:\\Users\\CHIN\\AppData\\Local\\Temp/ipykernel_12472/1728708311.py:2: DeprecationWarning: cafile, capath and cadefault are deprecated, use a custom context instead.\n",
      "  response = urlopen(url, cafile=certifi.where())\n"
     ]
    },
    {
     "name": "stdout",
     "output_type": "stream",
     "text": [
      "HUBB\n"
     ]
    },
    {
     "name": "stderr",
     "output_type": "stream",
     "text": [
      "C:\\Users\\CHIN\\AppData\\Local\\Temp/ipykernel_12472/1728708311.py:2: DeprecationWarning: cafile, capath and cadefault are deprecated, use a custom context instead.\n",
      "  response = urlopen(url, cafile=certifi.where())\n"
     ]
    },
    {
     "name": "stdout",
     "output_type": "stream",
     "text": [
      "HUM\n"
     ]
    },
    {
     "name": "stderr",
     "output_type": "stream",
     "text": [
      "C:\\Users\\CHIN\\AppData\\Local\\Temp/ipykernel_12472/1728708311.py:2: DeprecationWarning: cafile, capath and cadefault are deprecated, use a custom context instead.\n",
      "  response = urlopen(url, cafile=certifi.where())\n"
     ]
    },
    {
     "name": "stdout",
     "output_type": "stream",
     "text": [
      "HBAN\n"
     ]
    },
    {
     "name": "stderr",
     "output_type": "stream",
     "text": [
      "C:\\Users\\CHIN\\AppData\\Local\\Temp/ipykernel_12472/1728708311.py:2: DeprecationWarning: cafile, capath and cadefault are deprecated, use a custom context instead.\n",
      "  response = urlopen(url, cafile=certifi.where())\n"
     ]
    },
    {
     "name": "stdout",
     "output_type": "stream",
     "text": [
      "HII\n"
     ]
    },
    {
     "name": "stderr",
     "output_type": "stream",
     "text": [
      "C:\\Users\\CHIN\\AppData\\Local\\Temp/ipykernel_12472/1728708311.py:2: DeprecationWarning: cafile, capath and cadefault are deprecated, use a custom context instead.\n",
      "  response = urlopen(url, cafile=certifi.where())\n"
     ]
    },
    {
     "name": "stdout",
     "output_type": "stream",
     "text": [
      "IBM\n"
     ]
    },
    {
     "name": "stderr",
     "output_type": "stream",
     "text": [
      "C:\\Users\\CHIN\\AppData\\Local\\Temp/ipykernel_12472/1728708311.py:2: DeprecationWarning: cafile, capath and cadefault are deprecated, use a custom context instead.\n",
      "  response = urlopen(url, cafile=certifi.where())\n"
     ]
    },
    {
     "name": "stdout",
     "output_type": "stream",
     "text": [
      "IEX\n"
     ]
    },
    {
     "name": "stderr",
     "output_type": "stream",
     "text": [
      "C:\\Users\\CHIN\\AppData\\Local\\Temp/ipykernel_12472/1728708311.py:2: DeprecationWarning: cafile, capath and cadefault are deprecated, use a custom context instead.\n",
      "  response = urlopen(url, cafile=certifi.where())\n"
     ]
    },
    {
     "name": "stdout",
     "output_type": "stream",
     "text": [
      "IDXX\n"
     ]
    },
    {
     "name": "stderr",
     "output_type": "stream",
     "text": [
      "C:\\Users\\CHIN\\AppData\\Local\\Temp/ipykernel_12472/1728708311.py:2: DeprecationWarning: cafile, capath and cadefault are deprecated, use a custom context instead.\n",
      "  response = urlopen(url, cafile=certifi.where())\n"
     ]
    },
    {
     "name": "stdout",
     "output_type": "stream",
     "text": [
      "ITW\n"
     ]
    },
    {
     "name": "stderr",
     "output_type": "stream",
     "text": [
      "C:\\Users\\CHIN\\AppData\\Local\\Temp/ipykernel_12472/1728708311.py:2: DeprecationWarning: cafile, capath and cadefault are deprecated, use a custom context instead.\n",
      "  response = urlopen(url, cafile=certifi.where())\n"
     ]
    },
    {
     "name": "stdout",
     "output_type": "stream",
     "text": [
      "ILMN\n"
     ]
    },
    {
     "name": "stderr",
     "output_type": "stream",
     "text": [
      "C:\\Users\\CHIN\\AppData\\Local\\Temp/ipykernel_12472/1728708311.py:2: DeprecationWarning: cafile, capath and cadefault are deprecated, use a custom context instead.\n",
      "  response = urlopen(url, cafile=certifi.where())\n"
     ]
    },
    {
     "name": "stdout",
     "output_type": "stream",
     "text": [
      "INCY\n"
     ]
    },
    {
     "name": "stderr",
     "output_type": "stream",
     "text": [
      "C:\\Users\\CHIN\\AppData\\Local\\Temp/ipykernel_12472/1728708311.py:2: DeprecationWarning: cafile, capath and cadefault are deprecated, use a custom context instead.\n",
      "  response = urlopen(url, cafile=certifi.where())\n"
     ]
    },
    {
     "name": "stdout",
     "output_type": "stream",
     "text": [
      "IR\n"
     ]
    },
    {
     "name": "stderr",
     "output_type": "stream",
     "text": [
      "C:\\Users\\CHIN\\AppData\\Local\\Temp/ipykernel_12472/1728708311.py:2: DeprecationWarning: cafile, capath and cadefault are deprecated, use a custom context instead.\n",
      "  response = urlopen(url, cafile=certifi.where())\n"
     ]
    },
    {
     "name": "stdout",
     "output_type": "stream",
     "text": [
      "PODD\n"
     ]
    },
    {
     "name": "stderr",
     "output_type": "stream",
     "text": [
      "C:\\Users\\CHIN\\AppData\\Local\\Temp/ipykernel_12472/1728708311.py:2: DeprecationWarning: cafile, capath and cadefault are deprecated, use a custom context instead.\n",
      "  response = urlopen(url, cafile=certifi.where())\n"
     ]
    },
    {
     "name": "stdout",
     "output_type": "stream",
     "text": [
      "INTC\n"
     ]
    },
    {
     "name": "stderr",
     "output_type": "stream",
     "text": [
      "C:\\Users\\CHIN\\AppData\\Local\\Temp/ipykernel_12472/1728708311.py:2: DeprecationWarning: cafile, capath and cadefault are deprecated, use a custom context instead.\n",
      "  response = urlopen(url, cafile=certifi.where())\n"
     ]
    },
    {
     "name": "stdout",
     "output_type": "stream",
     "text": [
      "ICE\n"
     ]
    },
    {
     "name": "stderr",
     "output_type": "stream",
     "text": [
      "C:\\Users\\CHIN\\AppData\\Local\\Temp/ipykernel_12472/1728708311.py:2: DeprecationWarning: cafile, capath and cadefault are deprecated, use a custom context instead.\n",
      "  response = urlopen(url, cafile=certifi.where())\n"
     ]
    },
    {
     "name": "stdout",
     "output_type": "stream",
     "text": [
      "IFF\n"
     ]
    },
    {
     "name": "stderr",
     "output_type": "stream",
     "text": [
      "C:\\Users\\CHIN\\AppData\\Local\\Temp/ipykernel_12472/1728708311.py:2: DeprecationWarning: cafile, capath and cadefault are deprecated, use a custom context instead.\n",
      "  response = urlopen(url, cafile=certifi.where())\n"
     ]
    },
    {
     "name": "stdout",
     "output_type": "stream",
     "text": [
      "IP\n"
     ]
    },
    {
     "name": "stderr",
     "output_type": "stream",
     "text": [
      "C:\\Users\\CHIN\\AppData\\Local\\Temp/ipykernel_12472/1728708311.py:2: DeprecationWarning: cafile, capath and cadefault are deprecated, use a custom context instead.\n",
      "  response = urlopen(url, cafile=certifi.where())\n"
     ]
    },
    {
     "name": "stdout",
     "output_type": "stream",
     "text": [
      "IPG\n"
     ]
    },
    {
     "name": "stderr",
     "output_type": "stream",
     "text": [
      "C:\\Users\\CHIN\\AppData\\Local\\Temp/ipykernel_12472/1728708311.py:2: DeprecationWarning: cafile, capath and cadefault are deprecated, use a custom context instead.\n",
      "  response = urlopen(url, cafile=certifi.where())\n"
     ]
    },
    {
     "name": "stdout",
     "output_type": "stream",
     "text": [
      "INTU\n"
     ]
    },
    {
     "name": "stderr",
     "output_type": "stream",
     "text": [
      "C:\\Users\\CHIN\\AppData\\Local\\Temp/ipykernel_12472/1728708311.py:2: DeprecationWarning: cafile, capath and cadefault are deprecated, use a custom context instead.\n",
      "  response = urlopen(url, cafile=certifi.where())\n"
     ]
    },
    {
     "name": "stdout",
     "output_type": "stream",
     "text": [
      "ISRG\n"
     ]
    },
    {
     "name": "stderr",
     "output_type": "stream",
     "text": [
      "C:\\Users\\CHIN\\AppData\\Local\\Temp/ipykernel_12472/1728708311.py:2: DeprecationWarning: cafile, capath and cadefault are deprecated, use a custom context instead.\n",
      "  response = urlopen(url, cafile=certifi.where())\n"
     ]
    },
    {
     "name": "stdout",
     "output_type": "stream",
     "text": [
      "IVZ\n"
     ]
    },
    {
     "name": "stderr",
     "output_type": "stream",
     "text": [
      "C:\\Users\\CHIN\\AppData\\Local\\Temp/ipykernel_12472/1728708311.py:2: DeprecationWarning: cafile, capath and cadefault are deprecated, use a custom context instead.\n",
      "  response = urlopen(url, cafile=certifi.where())\n"
     ]
    },
    {
     "name": "stdout",
     "output_type": "stream",
     "text": [
      "INVH\n"
     ]
    },
    {
     "name": "stderr",
     "output_type": "stream",
     "text": [
      "C:\\Users\\CHIN\\AppData\\Local\\Temp/ipykernel_12472/1728708311.py:2: DeprecationWarning: cafile, capath and cadefault are deprecated, use a custom context instead.\n",
      "  response = urlopen(url, cafile=certifi.where())\n"
     ]
    },
    {
     "name": "stdout",
     "output_type": "stream",
     "text": [
      "IQV\n"
     ]
    },
    {
     "name": "stderr",
     "output_type": "stream",
     "text": [
      "C:\\Users\\CHIN\\AppData\\Local\\Temp/ipykernel_12472/1728708311.py:2: DeprecationWarning: cafile, capath and cadefault are deprecated, use a custom context instead.\n",
      "  response = urlopen(url, cafile=certifi.where())\n"
     ]
    },
    {
     "name": "stdout",
     "output_type": "stream",
     "text": [
      "IRM\n"
     ]
    },
    {
     "name": "stderr",
     "output_type": "stream",
     "text": [
      "C:\\Users\\CHIN\\AppData\\Local\\Temp/ipykernel_12472/1728708311.py:2: DeprecationWarning: cafile, capath and cadefault are deprecated, use a custom context instead.\n",
      "  response = urlopen(url, cafile=certifi.where())\n"
     ]
    },
    {
     "name": "stdout",
     "output_type": "stream",
     "text": [
      "JBHT\n"
     ]
    },
    {
     "name": "stderr",
     "output_type": "stream",
     "text": [
      "C:\\Users\\CHIN\\AppData\\Local\\Temp/ipykernel_12472/1728708311.py:2: DeprecationWarning: cafile, capath and cadefault are deprecated, use a custom context instead.\n",
      "  response = urlopen(url, cafile=certifi.where())\n"
     ]
    },
    {
     "name": "stdout",
     "output_type": "stream",
     "text": [
      "JKHY\n"
     ]
    },
    {
     "name": "stderr",
     "output_type": "stream",
     "text": [
      "C:\\Users\\CHIN\\AppData\\Local\\Temp/ipykernel_12472/1728708311.py:2: DeprecationWarning: cafile, capath and cadefault are deprecated, use a custom context instead.\n",
      "  response = urlopen(url, cafile=certifi.where())\n"
     ]
    },
    {
     "name": "stdout",
     "output_type": "stream",
     "text": [
      "J\n"
     ]
    },
    {
     "name": "stderr",
     "output_type": "stream",
     "text": [
      "C:\\Users\\CHIN\\AppData\\Local\\Temp/ipykernel_12472/1728708311.py:2: DeprecationWarning: cafile, capath and cadefault are deprecated, use a custom context instead.\n",
      "  response = urlopen(url, cafile=certifi.where())\n"
     ]
    },
    {
     "name": "stdout",
     "output_type": "stream",
     "text": [
      "JNJ\n"
     ]
    },
    {
     "name": "stderr",
     "output_type": "stream",
     "text": [
      "C:\\Users\\CHIN\\AppData\\Local\\Temp/ipykernel_12472/1728708311.py:2: DeprecationWarning: cafile, capath and cadefault are deprecated, use a custom context instead.\n",
      "  response = urlopen(url, cafile=certifi.where())\n"
     ]
    },
    {
     "name": "stdout",
     "output_type": "stream",
     "text": [
      "JCI\n"
     ]
    },
    {
     "name": "stderr",
     "output_type": "stream",
     "text": [
      "C:\\Users\\CHIN\\AppData\\Local\\Temp/ipykernel_12472/1728708311.py:2: DeprecationWarning: cafile, capath and cadefault are deprecated, use a custom context instead.\n",
      "  response = urlopen(url, cafile=certifi.where())\n"
     ]
    },
    {
     "name": "stdout",
     "output_type": "stream",
     "text": [
      "JPM\n"
     ]
    },
    {
     "name": "stderr",
     "output_type": "stream",
     "text": [
      "C:\\Users\\CHIN\\AppData\\Local\\Temp/ipykernel_12472/1728708311.py:2: DeprecationWarning: cafile, capath and cadefault are deprecated, use a custom context instead.\n",
      "  response = urlopen(url, cafile=certifi.where())\n"
     ]
    },
    {
     "name": "stdout",
     "output_type": "stream",
     "text": [
      "JNPR\n"
     ]
    },
    {
     "name": "stderr",
     "output_type": "stream",
     "text": [
      "C:\\Users\\CHIN\\AppData\\Local\\Temp/ipykernel_12472/1728708311.py:2: DeprecationWarning: cafile, capath and cadefault are deprecated, use a custom context instead.\n",
      "  response = urlopen(url, cafile=certifi.where())\n"
     ]
    },
    {
     "name": "stdout",
     "output_type": "stream",
     "text": [
      "K\n"
     ]
    },
    {
     "name": "stderr",
     "output_type": "stream",
     "text": [
      "C:\\Users\\CHIN\\AppData\\Local\\Temp/ipykernel_12472/1728708311.py:2: DeprecationWarning: cafile, capath and cadefault are deprecated, use a custom context instead.\n",
      "  response = urlopen(url, cafile=certifi.where())\n"
     ]
    },
    {
     "name": "stdout",
     "output_type": "stream",
     "text": [
      "KVUE\n"
     ]
    },
    {
     "name": "stderr",
     "output_type": "stream",
     "text": [
      "C:\\Users\\CHIN\\AppData\\Local\\Temp/ipykernel_12472/1728708311.py:2: DeprecationWarning: cafile, capath and cadefault are deprecated, use a custom context instead.\n",
      "  response = urlopen(url, cafile=certifi.where())\n"
     ]
    },
    {
     "name": "stdout",
     "output_type": "stream",
     "text": [
      "KDP\n",
      "KEY\n"
     ]
    },
    {
     "name": "stderr",
     "output_type": "stream",
     "text": [
      "C:\\Users\\CHIN\\AppData\\Local\\Temp/ipykernel_12472/1728708311.py:2: DeprecationWarning: cafile, capath and cadefault are deprecated, use a custom context instead.\n",
      "  response = urlopen(url, cafile=certifi.where())\n"
     ]
    },
    {
     "name": "stdout",
     "output_type": "stream",
     "text": [
      "KEYS\n"
     ]
    },
    {
     "name": "stderr",
     "output_type": "stream",
     "text": [
      "C:\\Users\\CHIN\\AppData\\Local\\Temp/ipykernel_12472/1728708311.py:2: DeprecationWarning: cafile, capath and cadefault are deprecated, use a custom context instead.\n",
      "  response = urlopen(url, cafile=certifi.where())\n"
     ]
    },
    {
     "name": "stdout",
     "output_type": "stream",
     "text": [
      "KMB\n"
     ]
    },
    {
     "name": "stderr",
     "output_type": "stream",
     "text": [
      "C:\\Users\\CHIN\\AppData\\Local\\Temp/ipykernel_12472/1728708311.py:2: DeprecationWarning: cafile, capath and cadefault are deprecated, use a custom context instead.\n",
      "  response = urlopen(url, cafile=certifi.where())\n"
     ]
    },
    {
     "name": "stdout",
     "output_type": "stream",
     "text": [
      "KIM\n"
     ]
    },
    {
     "name": "stderr",
     "output_type": "stream",
     "text": [
      "C:\\Users\\CHIN\\AppData\\Local\\Temp/ipykernel_12472/1728708311.py:2: DeprecationWarning: cafile, capath and cadefault are deprecated, use a custom context instead.\n",
      "  response = urlopen(url, cafile=certifi.where())\n"
     ]
    },
    {
     "name": "stdout",
     "output_type": "stream",
     "text": [
      "KMI\n"
     ]
    },
    {
     "name": "stderr",
     "output_type": "stream",
     "text": [
      "C:\\Users\\CHIN\\AppData\\Local\\Temp/ipykernel_12472/1728708311.py:2: DeprecationWarning: cafile, capath and cadefault are deprecated, use a custom context instead.\n",
      "  response = urlopen(url, cafile=certifi.where())\n"
     ]
    },
    {
     "name": "stdout",
     "output_type": "stream",
     "text": [
      "KLAC\n"
     ]
    },
    {
     "name": "stderr",
     "output_type": "stream",
     "text": [
      "C:\\Users\\CHIN\\AppData\\Local\\Temp/ipykernel_12472/1728708311.py:2: DeprecationWarning: cafile, capath and cadefault are deprecated, use a custom context instead.\n",
      "  response = urlopen(url, cafile=certifi.where())\n"
     ]
    },
    {
     "name": "stdout",
     "output_type": "stream",
     "text": [
      "KHC\n"
     ]
    },
    {
     "name": "stderr",
     "output_type": "stream",
     "text": [
      "C:\\Users\\CHIN\\AppData\\Local\\Temp/ipykernel_12472/1728708311.py:2: DeprecationWarning: cafile, capath and cadefault are deprecated, use a custom context instead.\n",
      "  response = urlopen(url, cafile=certifi.where())\n"
     ]
    },
    {
     "name": "stdout",
     "output_type": "stream",
     "text": [
      "KR\n"
     ]
    },
    {
     "name": "stderr",
     "output_type": "stream",
     "text": [
      "C:\\Users\\CHIN\\AppData\\Local\\Temp/ipykernel_12472/1728708311.py:2: DeprecationWarning: cafile, capath and cadefault are deprecated, use a custom context instead.\n",
      "  response = urlopen(url, cafile=certifi.where())\n"
     ]
    },
    {
     "name": "stdout",
     "output_type": "stream",
     "text": [
      "LHX\n"
     ]
    },
    {
     "name": "stderr",
     "output_type": "stream",
     "text": [
      "C:\\Users\\CHIN\\AppData\\Local\\Temp/ipykernel_12472/1728708311.py:2: DeprecationWarning: cafile, capath and cadefault are deprecated, use a custom context instead.\n",
      "  response = urlopen(url, cafile=certifi.where())\n"
     ]
    },
    {
     "name": "stdout",
     "output_type": "stream",
     "text": [
      "LH\n"
     ]
    },
    {
     "name": "stderr",
     "output_type": "stream",
     "text": [
      "C:\\Users\\CHIN\\AppData\\Local\\Temp/ipykernel_12472/1728708311.py:2: DeprecationWarning: cafile, capath and cadefault are deprecated, use a custom context instead.\n",
      "  response = urlopen(url, cafile=certifi.where())\n"
     ]
    },
    {
     "name": "stdout",
     "output_type": "stream",
     "text": [
      "LRCX\n"
     ]
    },
    {
     "name": "stderr",
     "output_type": "stream",
     "text": [
      "C:\\Users\\CHIN\\AppData\\Local\\Temp/ipykernel_12472/1728708311.py:2: DeprecationWarning: cafile, capath and cadefault are deprecated, use a custom context instead.\n",
      "  response = urlopen(url, cafile=certifi.where())\n"
     ]
    },
    {
     "name": "stdout",
     "output_type": "stream",
     "text": [
      "LW\n"
     ]
    },
    {
     "name": "stderr",
     "output_type": "stream",
     "text": [
      "C:\\Users\\CHIN\\AppData\\Local\\Temp/ipykernel_12472/1728708311.py:2: DeprecationWarning: cafile, capath and cadefault are deprecated, use a custom context instead.\n",
      "  response = urlopen(url, cafile=certifi.where())\n"
     ]
    },
    {
     "name": "stdout",
     "output_type": "stream",
     "text": [
      "LVS\n"
     ]
    },
    {
     "name": "stderr",
     "output_type": "stream",
     "text": [
      "C:\\Users\\CHIN\\AppData\\Local\\Temp/ipykernel_12472/1728708311.py:2: DeprecationWarning: cafile, capath and cadefault are deprecated, use a custom context instead.\n",
      "  response = urlopen(url, cafile=certifi.where())\n"
     ]
    },
    {
     "name": "stdout",
     "output_type": "stream",
     "text": [
      "LDOS\n"
     ]
    },
    {
     "name": "stderr",
     "output_type": "stream",
     "text": [
      "C:\\Users\\CHIN\\AppData\\Local\\Temp/ipykernel_12472/1728708311.py:2: DeprecationWarning: cafile, capath and cadefault are deprecated, use a custom context instead.\n",
      "  response = urlopen(url, cafile=certifi.where())\n"
     ]
    },
    {
     "name": "stdout",
     "output_type": "stream",
     "text": [
      "LEN\n"
     ]
    },
    {
     "name": "stderr",
     "output_type": "stream",
     "text": [
      "C:\\Users\\CHIN\\AppData\\Local\\Temp/ipykernel_12472/1728708311.py:2: DeprecationWarning: cafile, capath and cadefault are deprecated, use a custom context instead.\n",
      "  response = urlopen(url, cafile=certifi.where())\n"
     ]
    },
    {
     "name": "stdout",
     "output_type": "stream",
     "text": [
      "LIN\n"
     ]
    },
    {
     "name": "stderr",
     "output_type": "stream",
     "text": [
      "C:\\Users\\CHIN\\AppData\\Local\\Temp/ipykernel_12472/1728708311.py:2: DeprecationWarning: cafile, capath and cadefault are deprecated, use a custom context instead.\n",
      "  response = urlopen(url, cafile=certifi.where())\n"
     ]
    },
    {
     "name": "stdout",
     "output_type": "stream",
     "text": [
      "LYV\n"
     ]
    },
    {
     "name": "stderr",
     "output_type": "stream",
     "text": [
      "C:\\Users\\CHIN\\AppData\\Local\\Temp/ipykernel_12472/1728708311.py:2: DeprecationWarning: cafile, capath and cadefault are deprecated, use a custom context instead.\n",
      "  response = urlopen(url, cafile=certifi.where())\n"
     ]
    },
    {
     "name": "stdout",
     "output_type": "stream",
     "text": [
      "LKQ\n"
     ]
    },
    {
     "name": "stderr",
     "output_type": "stream",
     "text": [
      "C:\\Users\\CHIN\\AppData\\Local\\Temp/ipykernel_12472/1728708311.py:2: DeprecationWarning: cafile, capath and cadefault are deprecated, use a custom context instead.\n",
      "  response = urlopen(url, cafile=certifi.where())\n"
     ]
    },
    {
     "name": "stdout",
     "output_type": "stream",
     "text": [
      "LMT\n"
     ]
    },
    {
     "name": "stderr",
     "output_type": "stream",
     "text": [
      "C:\\Users\\CHIN\\AppData\\Local\\Temp/ipykernel_12472/1728708311.py:2: DeprecationWarning: cafile, capath and cadefault are deprecated, use a custom context instead.\n",
      "  response = urlopen(url, cafile=certifi.where())\n"
     ]
    },
    {
     "name": "stdout",
     "output_type": "stream",
     "text": [
      "L\n"
     ]
    },
    {
     "name": "stderr",
     "output_type": "stream",
     "text": [
      "C:\\Users\\CHIN\\AppData\\Local\\Temp/ipykernel_12472/1728708311.py:2: DeprecationWarning: cafile, capath and cadefault are deprecated, use a custom context instead.\n",
      "  response = urlopen(url, cafile=certifi.where())\n"
     ]
    },
    {
     "name": "stdout",
     "output_type": "stream",
     "text": [
      "LOW\n"
     ]
    },
    {
     "name": "stderr",
     "output_type": "stream",
     "text": [
      "C:\\Users\\CHIN\\AppData\\Local\\Temp/ipykernel_12472/1728708311.py:2: DeprecationWarning: cafile, capath and cadefault are deprecated, use a custom context instead.\n",
      "  response = urlopen(url, cafile=certifi.where())\n"
     ]
    },
    {
     "name": "stdout",
     "output_type": "stream",
     "text": [
      "LULU\n"
     ]
    },
    {
     "name": "stderr",
     "output_type": "stream",
     "text": [
      "C:\\Users\\CHIN\\AppData\\Local\\Temp/ipykernel_12472/1728708311.py:2: DeprecationWarning: cafile, capath and cadefault are deprecated, use a custom context instead.\n",
      "  response = urlopen(url, cafile=certifi.where())\n"
     ]
    },
    {
     "name": "stdout",
     "output_type": "stream",
     "text": [
      "LYB\n"
     ]
    },
    {
     "name": "stderr",
     "output_type": "stream",
     "text": [
      "C:\\Users\\CHIN\\AppData\\Local\\Temp/ipykernel_12472/1728708311.py:2: DeprecationWarning: cafile, capath and cadefault are deprecated, use a custom context instead.\n",
      "  response = urlopen(url, cafile=certifi.where())\n"
     ]
    },
    {
     "name": "stdout",
     "output_type": "stream",
     "text": [
      "MTB\n"
     ]
    },
    {
     "name": "stderr",
     "output_type": "stream",
     "text": [
      "C:\\Users\\CHIN\\AppData\\Local\\Temp/ipykernel_12472/1728708311.py:2: DeprecationWarning: cafile, capath and cadefault are deprecated, use a custom context instead.\n",
      "  response = urlopen(url, cafile=certifi.where())\n"
     ]
    },
    {
     "name": "stdout",
     "output_type": "stream",
     "text": [
      "MRO\n"
     ]
    },
    {
     "name": "stderr",
     "output_type": "stream",
     "text": [
      "C:\\Users\\CHIN\\AppData\\Local\\Temp/ipykernel_12472/1728708311.py:2: DeprecationWarning: cafile, capath and cadefault are deprecated, use a custom context instead.\n",
      "  response = urlopen(url, cafile=certifi.where())\n"
     ]
    },
    {
     "name": "stdout",
     "output_type": "stream",
     "text": [
      "MPC\n"
     ]
    },
    {
     "name": "stderr",
     "output_type": "stream",
     "text": [
      "C:\\Users\\CHIN\\AppData\\Local\\Temp/ipykernel_12472/1728708311.py:2: DeprecationWarning: cafile, capath and cadefault are deprecated, use a custom context instead.\n",
      "  response = urlopen(url, cafile=certifi.where())\n"
     ]
    },
    {
     "name": "stdout",
     "output_type": "stream",
     "text": [
      "MKTX\n"
     ]
    },
    {
     "name": "stderr",
     "output_type": "stream",
     "text": [
      "C:\\Users\\CHIN\\AppData\\Local\\Temp/ipykernel_12472/1728708311.py:2: DeprecationWarning: cafile, capath and cadefault are deprecated, use a custom context instead.\n",
      "  response = urlopen(url, cafile=certifi.where())\n"
     ]
    },
    {
     "name": "stdout",
     "output_type": "stream",
     "text": [
      "MAR\n"
     ]
    },
    {
     "name": "stderr",
     "output_type": "stream",
     "text": [
      "C:\\Users\\CHIN\\AppData\\Local\\Temp/ipykernel_12472/1728708311.py:2: DeprecationWarning: cafile, capath and cadefault are deprecated, use a custom context instead.\n",
      "  response = urlopen(url, cafile=certifi.where())\n"
     ]
    },
    {
     "name": "stdout",
     "output_type": "stream",
     "text": [
      "MMC\n"
     ]
    },
    {
     "name": "stderr",
     "output_type": "stream",
     "text": [
      "C:\\Users\\CHIN\\AppData\\Local\\Temp/ipykernel_12472/1728708311.py:2: DeprecationWarning: cafile, capath and cadefault are deprecated, use a custom context instead.\n",
      "  response = urlopen(url, cafile=certifi.where())\n"
     ]
    },
    {
     "name": "stdout",
     "output_type": "stream",
     "text": [
      "MLM\n"
     ]
    },
    {
     "name": "stderr",
     "output_type": "stream",
     "text": [
      "C:\\Users\\CHIN\\AppData\\Local\\Temp/ipykernel_12472/1728708311.py:2: DeprecationWarning: cafile, capath and cadefault are deprecated, use a custom context instead.\n",
      "  response = urlopen(url, cafile=certifi.where())\n"
     ]
    },
    {
     "name": "stdout",
     "output_type": "stream",
     "text": [
      "MAS\n"
     ]
    },
    {
     "name": "stderr",
     "output_type": "stream",
     "text": [
      "C:\\Users\\CHIN\\AppData\\Local\\Temp/ipykernel_12472/1728708311.py:2: DeprecationWarning: cafile, capath and cadefault are deprecated, use a custom context instead.\n",
      "  response = urlopen(url, cafile=certifi.where())\n"
     ]
    },
    {
     "name": "stdout",
     "output_type": "stream",
     "text": [
      "MA\n"
     ]
    },
    {
     "name": "stderr",
     "output_type": "stream",
     "text": [
      "C:\\Users\\CHIN\\AppData\\Local\\Temp/ipykernel_12472/1728708311.py:2: DeprecationWarning: cafile, capath and cadefault are deprecated, use a custom context instead.\n",
      "  response = urlopen(url, cafile=certifi.where())\n"
     ]
    },
    {
     "name": "stdout",
     "output_type": "stream",
     "text": [
      "MTCH\n"
     ]
    },
    {
     "name": "stderr",
     "output_type": "stream",
     "text": [
      "C:\\Users\\CHIN\\AppData\\Local\\Temp/ipykernel_12472/1728708311.py:2: DeprecationWarning: cafile, capath and cadefault are deprecated, use a custom context instead.\n",
      "  response = urlopen(url, cafile=certifi.where())\n"
     ]
    },
    {
     "name": "stdout",
     "output_type": "stream",
     "text": [
      "MKC\n"
     ]
    },
    {
     "name": "stderr",
     "output_type": "stream",
     "text": [
      "C:\\Users\\CHIN\\AppData\\Local\\Temp/ipykernel_12472/1728708311.py:2: DeprecationWarning: cafile, capath and cadefault are deprecated, use a custom context instead.\n",
      "  response = urlopen(url, cafile=certifi.where())\n"
     ]
    },
    {
     "name": "stdout",
     "output_type": "stream",
     "text": [
      "MCD\n"
     ]
    },
    {
     "name": "stderr",
     "output_type": "stream",
     "text": [
      "C:\\Users\\CHIN\\AppData\\Local\\Temp/ipykernel_12472/1728708311.py:2: DeprecationWarning: cafile, capath and cadefault are deprecated, use a custom context instead.\n",
      "  response = urlopen(url, cafile=certifi.where())\n"
     ]
    },
    {
     "name": "stdout",
     "output_type": "stream",
     "text": [
      "MCK\n"
     ]
    },
    {
     "name": "stderr",
     "output_type": "stream",
     "text": [
      "C:\\Users\\CHIN\\AppData\\Local\\Temp/ipykernel_12472/1728708311.py:2: DeprecationWarning: cafile, capath and cadefault are deprecated, use a custom context instead.\n",
      "  response = urlopen(url, cafile=certifi.where())\n"
     ]
    },
    {
     "name": "stdout",
     "output_type": "stream",
     "text": [
      "MDT\n"
     ]
    },
    {
     "name": "stderr",
     "output_type": "stream",
     "text": [
      "C:\\Users\\CHIN\\AppData\\Local\\Temp/ipykernel_12472/1728708311.py:2: DeprecationWarning: cafile, capath and cadefault are deprecated, use a custom context instead.\n",
      "  response = urlopen(url, cafile=certifi.where())\n"
     ]
    },
    {
     "name": "stdout",
     "output_type": "stream",
     "text": [
      "MRK\n"
     ]
    },
    {
     "name": "stderr",
     "output_type": "stream",
     "text": [
      "C:\\Users\\CHIN\\AppData\\Local\\Temp/ipykernel_12472/1728708311.py:2: DeprecationWarning: cafile, capath and cadefault are deprecated, use a custom context instead.\n",
      "  response = urlopen(url, cafile=certifi.where())\n"
     ]
    },
    {
     "name": "stdout",
     "output_type": "stream",
     "text": [
      "META\n"
     ]
    },
    {
     "name": "stderr",
     "output_type": "stream",
     "text": [
      "C:\\Users\\CHIN\\AppData\\Local\\Temp/ipykernel_12472/1728708311.py:2: DeprecationWarning: cafile, capath and cadefault are deprecated, use a custom context instead.\n",
      "  response = urlopen(url, cafile=certifi.where())\n"
     ]
    },
    {
     "name": "stdout",
     "output_type": "stream",
     "text": [
      "MET\n"
     ]
    },
    {
     "name": "stderr",
     "output_type": "stream",
     "text": [
      "C:\\Users\\CHIN\\AppData\\Local\\Temp/ipykernel_12472/1728708311.py:2: DeprecationWarning: cafile, capath and cadefault are deprecated, use a custom context instead.\n",
      "  response = urlopen(url, cafile=certifi.where())\n"
     ]
    },
    {
     "name": "stdout",
     "output_type": "stream",
     "text": [
      "MTD\n"
     ]
    },
    {
     "name": "stderr",
     "output_type": "stream",
     "text": [
      "C:\\Users\\CHIN\\AppData\\Local\\Temp/ipykernel_12472/1728708311.py:2: DeprecationWarning: cafile, capath and cadefault are deprecated, use a custom context instead.\n",
      "  response = urlopen(url, cafile=certifi.where())\n"
     ]
    },
    {
     "name": "stdout",
     "output_type": "stream",
     "text": [
      "MGM\n"
     ]
    },
    {
     "name": "stderr",
     "output_type": "stream",
     "text": [
      "C:\\Users\\CHIN\\AppData\\Local\\Temp/ipykernel_12472/1728708311.py:2: DeprecationWarning: cafile, capath and cadefault are deprecated, use a custom context instead.\n",
      "  response = urlopen(url, cafile=certifi.where())\n"
     ]
    },
    {
     "name": "stdout",
     "output_type": "stream",
     "text": [
      "MCHP\n"
     ]
    },
    {
     "name": "stderr",
     "output_type": "stream",
     "text": [
      "C:\\Users\\CHIN\\AppData\\Local\\Temp/ipykernel_12472/1728708311.py:2: DeprecationWarning: cafile, capath and cadefault are deprecated, use a custom context instead.\n",
      "  response = urlopen(url, cafile=certifi.where())\n"
     ]
    },
    {
     "name": "stdout",
     "output_type": "stream",
     "text": [
      "MU\n"
     ]
    },
    {
     "name": "stderr",
     "output_type": "stream",
     "text": [
      "C:\\Users\\CHIN\\AppData\\Local\\Temp/ipykernel_12472/1728708311.py:2: DeprecationWarning: cafile, capath and cadefault are deprecated, use a custom context instead.\n",
      "  response = urlopen(url, cafile=certifi.where())\n"
     ]
    },
    {
     "name": "stdout",
     "output_type": "stream",
     "text": [
      "MSFT\n"
     ]
    },
    {
     "name": "stderr",
     "output_type": "stream",
     "text": [
      "C:\\Users\\CHIN\\AppData\\Local\\Temp/ipykernel_12472/1728708311.py:2: DeprecationWarning: cafile, capath and cadefault are deprecated, use a custom context instead.\n",
      "  response = urlopen(url, cafile=certifi.where())\n"
     ]
    },
    {
     "name": "stdout",
     "output_type": "stream",
     "text": [
      "MAA\n"
     ]
    },
    {
     "name": "stderr",
     "output_type": "stream",
     "text": [
      "C:\\Users\\CHIN\\AppData\\Local\\Temp/ipykernel_12472/1728708311.py:2: DeprecationWarning: cafile, capath and cadefault are deprecated, use a custom context instead.\n",
      "  response = urlopen(url, cafile=certifi.where())\n"
     ]
    },
    {
     "name": "stdout",
     "output_type": "stream",
     "text": [
      "MRNA\n"
     ]
    },
    {
     "name": "stderr",
     "output_type": "stream",
     "text": [
      "C:\\Users\\CHIN\\AppData\\Local\\Temp/ipykernel_12472/1728708311.py:2: DeprecationWarning: cafile, capath and cadefault are deprecated, use a custom context instead.\n",
      "  response = urlopen(url, cafile=certifi.where())\n"
     ]
    },
    {
     "name": "stdout",
     "output_type": "stream",
     "text": [
      "MHK\n"
     ]
    },
    {
     "name": "stderr",
     "output_type": "stream",
     "text": [
      "C:\\Users\\CHIN\\AppData\\Local\\Temp/ipykernel_12472/1728708311.py:2: DeprecationWarning: cafile, capath and cadefault are deprecated, use a custom context instead.\n",
      "  response = urlopen(url, cafile=certifi.where())\n"
     ]
    },
    {
     "name": "stdout",
     "output_type": "stream",
     "text": [
      "MOH\n"
     ]
    },
    {
     "name": "stderr",
     "output_type": "stream",
     "text": [
      "C:\\Users\\CHIN\\AppData\\Local\\Temp/ipykernel_12472/1728708311.py:2: DeprecationWarning: cafile, capath and cadefault are deprecated, use a custom context instead.\n",
      "  response = urlopen(url, cafile=certifi.where())\n"
     ]
    },
    {
     "name": "stdout",
     "output_type": "stream",
     "text": [
      "TAP\n"
     ]
    },
    {
     "name": "stderr",
     "output_type": "stream",
     "text": [
      "C:\\Users\\CHIN\\AppData\\Local\\Temp/ipykernel_12472/1728708311.py:2: DeprecationWarning: cafile, capath and cadefault are deprecated, use a custom context instead.\n",
      "  response = urlopen(url, cafile=certifi.where())\n"
     ]
    },
    {
     "name": "stdout",
     "output_type": "stream",
     "text": [
      "MDLZ\n"
     ]
    },
    {
     "name": "stderr",
     "output_type": "stream",
     "text": [
      "C:\\Users\\CHIN\\AppData\\Local\\Temp/ipykernel_12472/1728708311.py:2: DeprecationWarning: cafile, capath and cadefault are deprecated, use a custom context instead.\n",
      "  response = urlopen(url, cafile=certifi.where())\n"
     ]
    },
    {
     "name": "stdout",
     "output_type": "stream",
     "text": [
      "MPWR\n"
     ]
    },
    {
     "name": "stderr",
     "output_type": "stream",
     "text": [
      "C:\\Users\\CHIN\\AppData\\Local\\Temp/ipykernel_12472/1728708311.py:2: DeprecationWarning: cafile, capath and cadefault are deprecated, use a custom context instead.\n",
      "  response = urlopen(url, cafile=certifi.where())\n"
     ]
    },
    {
     "name": "stdout",
     "output_type": "stream",
     "text": [
      "MNST\n"
     ]
    },
    {
     "name": "stderr",
     "output_type": "stream",
     "text": [
      "C:\\Users\\CHIN\\AppData\\Local\\Temp/ipykernel_12472/1728708311.py:2: DeprecationWarning: cafile, capath and cadefault are deprecated, use a custom context instead.\n",
      "  response = urlopen(url, cafile=certifi.where())\n"
     ]
    },
    {
     "name": "stdout",
     "output_type": "stream",
     "text": [
      "MCO\n"
     ]
    },
    {
     "name": "stderr",
     "output_type": "stream",
     "text": [
      "C:\\Users\\CHIN\\AppData\\Local\\Temp/ipykernel_12472/1728708311.py:2: DeprecationWarning: cafile, capath and cadefault are deprecated, use a custom context instead.\n",
      "  response = urlopen(url, cafile=certifi.where())\n"
     ]
    },
    {
     "name": "stdout",
     "output_type": "stream",
     "text": [
      "MS\n"
     ]
    },
    {
     "name": "stderr",
     "output_type": "stream",
     "text": [
      "C:\\Users\\CHIN\\AppData\\Local\\Temp/ipykernel_12472/1728708311.py:2: DeprecationWarning: cafile, capath and cadefault are deprecated, use a custom context instead.\n",
      "  response = urlopen(url, cafile=certifi.where())\n"
     ]
    },
    {
     "name": "stdout",
     "output_type": "stream",
     "text": [
      "MOS\n"
     ]
    },
    {
     "name": "stderr",
     "output_type": "stream",
     "text": [
      "C:\\Users\\CHIN\\AppData\\Local\\Temp/ipykernel_12472/1728708311.py:2: DeprecationWarning: cafile, capath and cadefault are deprecated, use a custom context instead.\n",
      "  response = urlopen(url, cafile=certifi.where())\n"
     ]
    },
    {
     "name": "stdout",
     "output_type": "stream",
     "text": [
      "MSI\n"
     ]
    },
    {
     "name": "stderr",
     "output_type": "stream",
     "text": [
      "C:\\Users\\CHIN\\AppData\\Local\\Temp/ipykernel_12472/1728708311.py:2: DeprecationWarning: cafile, capath and cadefault are deprecated, use a custom context instead.\n",
      "  response = urlopen(url, cafile=certifi.where())\n"
     ]
    },
    {
     "name": "stdout",
     "output_type": "stream",
     "text": [
      "MSCI\n"
     ]
    },
    {
     "name": "stderr",
     "output_type": "stream",
     "text": [
      "C:\\Users\\CHIN\\AppData\\Local\\Temp/ipykernel_12472/1728708311.py:2: DeprecationWarning: cafile, capath and cadefault are deprecated, use a custom context instead.\n",
      "  response = urlopen(url, cafile=certifi.where())\n"
     ]
    },
    {
     "name": "stdout",
     "output_type": "stream",
     "text": [
      "NDAQ\n"
     ]
    },
    {
     "name": "stderr",
     "output_type": "stream",
     "text": [
      "C:\\Users\\CHIN\\AppData\\Local\\Temp/ipykernel_12472/1728708311.py:2: DeprecationWarning: cafile, capath and cadefault are deprecated, use a custom context instead.\n",
      "  response = urlopen(url, cafile=certifi.where())\n"
     ]
    },
    {
     "name": "stdout",
     "output_type": "stream",
     "text": [
      "NTAP\n"
     ]
    },
    {
     "name": "stderr",
     "output_type": "stream",
     "text": [
      "C:\\Users\\CHIN\\AppData\\Local\\Temp/ipykernel_12472/1728708311.py:2: DeprecationWarning: cafile, capath and cadefault are deprecated, use a custom context instead.\n",
      "  response = urlopen(url, cafile=certifi.where())\n"
     ]
    },
    {
     "name": "stdout",
     "output_type": "stream",
     "text": [
      "NFLX\n"
     ]
    },
    {
     "name": "stderr",
     "output_type": "stream",
     "text": [
      "C:\\Users\\CHIN\\AppData\\Local\\Temp/ipykernel_12472/1728708311.py:2: DeprecationWarning: cafile, capath and cadefault are deprecated, use a custom context instead.\n",
      "  response = urlopen(url, cafile=certifi.where())\n"
     ]
    },
    {
     "name": "stdout",
     "output_type": "stream",
     "text": [
      "NEM\n"
     ]
    },
    {
     "name": "stderr",
     "output_type": "stream",
     "text": [
      "C:\\Users\\CHIN\\AppData\\Local\\Temp/ipykernel_12472/1728708311.py:2: DeprecationWarning: cafile, capath and cadefault are deprecated, use a custom context instead.\n",
      "  response = urlopen(url, cafile=certifi.where())\n"
     ]
    },
    {
     "name": "stdout",
     "output_type": "stream",
     "text": [
      "NWSA\n"
     ]
    },
    {
     "name": "stderr",
     "output_type": "stream",
     "text": [
      "C:\\Users\\CHIN\\AppData\\Local\\Temp/ipykernel_12472/1728708311.py:2: DeprecationWarning: cafile, capath and cadefault are deprecated, use a custom context instead.\n",
      "  response = urlopen(url, cafile=certifi.where())\n"
     ]
    },
    {
     "name": "stdout",
     "output_type": "stream",
     "text": [
      "NWS\n"
     ]
    },
    {
     "name": "stderr",
     "output_type": "stream",
     "text": [
      "C:\\Users\\CHIN\\AppData\\Local\\Temp/ipykernel_12472/1728708311.py:2: DeprecationWarning: cafile, capath and cadefault are deprecated, use a custom context instead.\n",
      "  response = urlopen(url, cafile=certifi.where())\n"
     ]
    },
    {
     "name": "stdout",
     "output_type": "stream",
     "text": [
      "NEE\n"
     ]
    },
    {
     "name": "stderr",
     "output_type": "stream",
     "text": [
      "C:\\Users\\CHIN\\AppData\\Local\\Temp/ipykernel_12472/1728708311.py:2: DeprecationWarning: cafile, capath and cadefault are deprecated, use a custom context instead.\n",
      "  response = urlopen(url, cafile=certifi.where())\n"
     ]
    },
    {
     "name": "stdout",
     "output_type": "stream",
     "text": [
      "NKE\n"
     ]
    },
    {
     "name": "stderr",
     "output_type": "stream",
     "text": [
      "C:\\Users\\CHIN\\AppData\\Local\\Temp/ipykernel_12472/1728708311.py:2: DeprecationWarning: cafile, capath and cadefault are deprecated, use a custom context instead.\n",
      "  response = urlopen(url, cafile=certifi.where())\n"
     ]
    },
    {
     "name": "stdout",
     "output_type": "stream",
     "text": [
      "NI\n"
     ]
    },
    {
     "name": "stderr",
     "output_type": "stream",
     "text": [
      "C:\\Users\\CHIN\\AppData\\Local\\Temp/ipykernel_12472/1728708311.py:2: DeprecationWarning: cafile, capath and cadefault are deprecated, use a custom context instead.\n",
      "  response = urlopen(url, cafile=certifi.where())\n"
     ]
    },
    {
     "name": "stdout",
     "output_type": "stream",
     "text": [
      "NDSN\n"
     ]
    },
    {
     "name": "stderr",
     "output_type": "stream",
     "text": [
      "C:\\Users\\CHIN\\AppData\\Local\\Temp/ipykernel_12472/1728708311.py:2: DeprecationWarning: cafile, capath and cadefault are deprecated, use a custom context instead.\n",
      "  response = urlopen(url, cafile=certifi.where())\n"
     ]
    },
    {
     "name": "stdout",
     "output_type": "stream",
     "text": [
      "NSC\n"
     ]
    },
    {
     "name": "stderr",
     "output_type": "stream",
     "text": [
      "C:\\Users\\CHIN\\AppData\\Local\\Temp/ipykernel_12472/1728708311.py:2: DeprecationWarning: cafile, capath and cadefault are deprecated, use a custom context instead.\n",
      "  response = urlopen(url, cafile=certifi.where())\n"
     ]
    },
    {
     "name": "stdout",
     "output_type": "stream",
     "text": [
      "NTRS\n"
     ]
    },
    {
     "name": "stderr",
     "output_type": "stream",
     "text": [
      "C:\\Users\\CHIN\\AppData\\Local\\Temp/ipykernel_12472/1728708311.py:2: DeprecationWarning: cafile, capath and cadefault are deprecated, use a custom context instead.\n",
      "  response = urlopen(url, cafile=certifi.where())\n"
     ]
    },
    {
     "name": "stdout",
     "output_type": "stream",
     "text": [
      "NOC\n"
     ]
    },
    {
     "name": "stderr",
     "output_type": "stream",
     "text": [
      "C:\\Users\\CHIN\\AppData\\Local\\Temp/ipykernel_12472/1728708311.py:2: DeprecationWarning: cafile, capath and cadefault are deprecated, use a custom context instead.\n",
      "  response = urlopen(url, cafile=certifi.where())\n"
     ]
    },
    {
     "name": "stdout",
     "output_type": "stream",
     "text": [
      "NCLH\n"
     ]
    },
    {
     "name": "stderr",
     "output_type": "stream",
     "text": [
      "C:\\Users\\CHIN\\AppData\\Local\\Temp/ipykernel_12472/1728708311.py:2: DeprecationWarning: cafile, capath and cadefault are deprecated, use a custom context instead.\n",
      "  response = urlopen(url, cafile=certifi.where())\n"
     ]
    },
    {
     "name": "stdout",
     "output_type": "stream",
     "text": [
      "NRG\n"
     ]
    },
    {
     "name": "stderr",
     "output_type": "stream",
     "text": [
      "C:\\Users\\CHIN\\AppData\\Local\\Temp/ipykernel_12472/1728708311.py:2: DeprecationWarning: cafile, capath and cadefault are deprecated, use a custom context instead.\n",
      "  response = urlopen(url, cafile=certifi.where())\n"
     ]
    },
    {
     "name": "stdout",
     "output_type": "stream",
     "text": [
      "NUE\n"
     ]
    },
    {
     "name": "stderr",
     "output_type": "stream",
     "text": [
      "C:\\Users\\CHIN\\AppData\\Local\\Temp/ipykernel_12472/1728708311.py:2: DeprecationWarning: cafile, capath and cadefault are deprecated, use a custom context instead.\n",
      "  response = urlopen(url, cafile=certifi.where())\n"
     ]
    },
    {
     "name": "stdout",
     "output_type": "stream",
     "text": [
      "NVDA\n"
     ]
    },
    {
     "name": "stderr",
     "output_type": "stream",
     "text": [
      "C:\\Users\\CHIN\\AppData\\Local\\Temp/ipykernel_12472/1728708311.py:2: DeprecationWarning: cafile, capath and cadefault are deprecated, use a custom context instead.\n",
      "  response = urlopen(url, cafile=certifi.where())\n"
     ]
    },
    {
     "name": "stdout",
     "output_type": "stream",
     "text": [
      "NVR\n"
     ]
    },
    {
     "name": "stderr",
     "output_type": "stream",
     "text": [
      "C:\\Users\\CHIN\\AppData\\Local\\Temp/ipykernel_12472/1728708311.py:2: DeprecationWarning: cafile, capath and cadefault are deprecated, use a custom context instead.\n",
      "  response = urlopen(url, cafile=certifi.where())\n"
     ]
    },
    {
     "name": "stdout",
     "output_type": "stream",
     "text": [
      "NXPI\n"
     ]
    },
    {
     "name": "stderr",
     "output_type": "stream",
     "text": [
      "C:\\Users\\CHIN\\AppData\\Local\\Temp/ipykernel_12472/1728708311.py:2: DeprecationWarning: cafile, capath and cadefault are deprecated, use a custom context instead.\n",
      "  response = urlopen(url, cafile=certifi.where())\n"
     ]
    },
    {
     "name": "stdout",
     "output_type": "stream",
     "text": [
      "ORLY\n"
     ]
    },
    {
     "name": "stderr",
     "output_type": "stream",
     "text": [
      "C:\\Users\\CHIN\\AppData\\Local\\Temp/ipykernel_12472/1728708311.py:2: DeprecationWarning: cafile, capath and cadefault are deprecated, use a custom context instead.\n",
      "  response = urlopen(url, cafile=certifi.where())\n"
     ]
    },
    {
     "name": "stdout",
     "output_type": "stream",
     "text": [
      "OXY\n"
     ]
    },
    {
     "name": "stderr",
     "output_type": "stream",
     "text": [
      "C:\\Users\\CHIN\\AppData\\Local\\Temp/ipykernel_12472/1728708311.py:2: DeprecationWarning: cafile, capath and cadefault are deprecated, use a custom context instead.\n",
      "  response = urlopen(url, cafile=certifi.where())\n"
     ]
    },
    {
     "name": "stdout",
     "output_type": "stream",
     "text": [
      "ODFL\n"
     ]
    },
    {
     "name": "stderr",
     "output_type": "stream",
     "text": [
      "C:\\Users\\CHIN\\AppData\\Local\\Temp/ipykernel_12472/1728708311.py:2: DeprecationWarning: cafile, capath and cadefault are deprecated, use a custom context instead.\n",
      "  response = urlopen(url, cafile=certifi.where())\n"
     ]
    },
    {
     "name": "stdout",
     "output_type": "stream",
     "text": [
      "OMC\n"
     ]
    },
    {
     "name": "stderr",
     "output_type": "stream",
     "text": [
      "C:\\Users\\CHIN\\AppData\\Local\\Temp/ipykernel_12472/1728708311.py:2: DeprecationWarning: cafile, capath and cadefault are deprecated, use a custom context instead.\n",
      "  response = urlopen(url, cafile=certifi.where())\n"
     ]
    },
    {
     "name": "stdout",
     "output_type": "stream",
     "text": [
      "ON\n"
     ]
    },
    {
     "name": "stderr",
     "output_type": "stream",
     "text": [
      "C:\\Users\\CHIN\\AppData\\Local\\Temp/ipykernel_12472/1728708311.py:2: DeprecationWarning: cafile, capath and cadefault are deprecated, use a custom context instead.\n",
      "  response = urlopen(url, cafile=certifi.where())\n"
     ]
    },
    {
     "name": "stdout",
     "output_type": "stream",
     "text": [
      "OKE\n"
     ]
    },
    {
     "name": "stderr",
     "output_type": "stream",
     "text": [
      "C:\\Users\\CHIN\\AppData\\Local\\Temp/ipykernel_12472/1728708311.py:2: DeprecationWarning: cafile, capath and cadefault are deprecated, use a custom context instead.\n",
      "  response = urlopen(url, cafile=certifi.where())\n"
     ]
    },
    {
     "name": "stdout",
     "output_type": "stream",
     "text": [
      "ORCL\n"
     ]
    },
    {
     "name": "stderr",
     "output_type": "stream",
     "text": [
      "C:\\Users\\CHIN\\AppData\\Local\\Temp/ipykernel_12472/1728708311.py:2: DeprecationWarning: cafile, capath and cadefault are deprecated, use a custom context instead.\n",
      "  response = urlopen(url, cafile=certifi.where())\n"
     ]
    },
    {
     "name": "stdout",
     "output_type": "stream",
     "text": [
      "OTIS\n"
     ]
    },
    {
     "name": "stderr",
     "output_type": "stream",
     "text": [
      "C:\\Users\\CHIN\\AppData\\Local\\Temp/ipykernel_12472/1728708311.py:2: DeprecationWarning: cafile, capath and cadefault are deprecated, use a custom context instead.\n",
      "  response = urlopen(url, cafile=certifi.where())\n"
     ]
    },
    {
     "name": "stdout",
     "output_type": "stream",
     "text": [
      "PCAR\n"
     ]
    },
    {
     "name": "stderr",
     "output_type": "stream",
     "text": [
      "C:\\Users\\CHIN\\AppData\\Local\\Temp/ipykernel_12472/1728708311.py:2: DeprecationWarning: cafile, capath and cadefault are deprecated, use a custom context instead.\n",
      "  response = urlopen(url, cafile=certifi.where())\n"
     ]
    },
    {
     "name": "stdout",
     "output_type": "stream",
     "text": [
      "PKG\n"
     ]
    },
    {
     "name": "stderr",
     "output_type": "stream",
     "text": [
      "C:\\Users\\CHIN\\AppData\\Local\\Temp/ipykernel_12472/1728708311.py:2: DeprecationWarning: cafile, capath and cadefault are deprecated, use a custom context instead.\n",
      "  response = urlopen(url, cafile=certifi.where())\n"
     ]
    },
    {
     "name": "stdout",
     "output_type": "stream",
     "text": [
      "PANW\n"
     ]
    },
    {
     "name": "stderr",
     "output_type": "stream",
     "text": [
      "C:\\Users\\CHIN\\AppData\\Local\\Temp/ipykernel_12472/1728708311.py:2: DeprecationWarning: cafile, capath and cadefault are deprecated, use a custom context instead.\n",
      "  response = urlopen(url, cafile=certifi.where())\n"
     ]
    },
    {
     "name": "stdout",
     "output_type": "stream",
     "text": [
      "PARA\n"
     ]
    },
    {
     "name": "stderr",
     "output_type": "stream",
     "text": [
      "C:\\Users\\CHIN\\AppData\\Local\\Temp/ipykernel_12472/1728708311.py:2: DeprecationWarning: cafile, capath and cadefault are deprecated, use a custom context instead.\n",
      "  response = urlopen(url, cafile=certifi.where())\n"
     ]
    },
    {
     "name": "stdout",
     "output_type": "stream",
     "text": [
      "PH\n"
     ]
    },
    {
     "name": "stderr",
     "output_type": "stream",
     "text": [
      "C:\\Users\\CHIN\\AppData\\Local\\Temp/ipykernel_12472/1728708311.py:2: DeprecationWarning: cafile, capath and cadefault are deprecated, use a custom context instead.\n",
      "  response = urlopen(url, cafile=certifi.where())\n"
     ]
    },
    {
     "name": "stdout",
     "output_type": "stream",
     "text": [
      "PAYX\n"
     ]
    },
    {
     "name": "stderr",
     "output_type": "stream",
     "text": [
      "C:\\Users\\CHIN\\AppData\\Local\\Temp/ipykernel_12472/1728708311.py:2: DeprecationWarning: cafile, capath and cadefault are deprecated, use a custom context instead.\n",
      "  response = urlopen(url, cafile=certifi.where())\n"
     ]
    },
    {
     "name": "stdout",
     "output_type": "stream",
     "text": [
      "PAYC\n"
     ]
    },
    {
     "name": "stderr",
     "output_type": "stream",
     "text": [
      "C:\\Users\\CHIN\\AppData\\Local\\Temp/ipykernel_12472/1728708311.py:2: DeprecationWarning: cafile, capath and cadefault are deprecated, use a custom context instead.\n",
      "  response = urlopen(url, cafile=certifi.where())\n"
     ]
    },
    {
     "name": "stdout",
     "output_type": "stream",
     "text": [
      "PYPL\n"
     ]
    },
    {
     "name": "stderr",
     "output_type": "stream",
     "text": [
      "C:\\Users\\CHIN\\AppData\\Local\\Temp/ipykernel_12472/1728708311.py:2: DeprecationWarning: cafile, capath and cadefault are deprecated, use a custom context instead.\n",
      "  response = urlopen(url, cafile=certifi.where())\n"
     ]
    },
    {
     "name": "stdout",
     "output_type": "stream",
     "text": [
      "PNR\n"
     ]
    },
    {
     "name": "stderr",
     "output_type": "stream",
     "text": [
      "C:\\Users\\CHIN\\AppData\\Local\\Temp/ipykernel_12472/1728708311.py:2: DeprecationWarning: cafile, capath and cadefault are deprecated, use a custom context instead.\n",
      "  response = urlopen(url, cafile=certifi.where())\n"
     ]
    },
    {
     "name": "stdout",
     "output_type": "stream",
     "text": [
      "PEP\n"
     ]
    },
    {
     "name": "stderr",
     "output_type": "stream",
     "text": [
      "C:\\Users\\CHIN\\AppData\\Local\\Temp/ipykernel_12472/1728708311.py:2: DeprecationWarning: cafile, capath and cadefault are deprecated, use a custom context instead.\n",
      "  response = urlopen(url, cafile=certifi.where())\n"
     ]
    },
    {
     "name": "stdout",
     "output_type": "stream",
     "text": [
      "PFE\n"
     ]
    },
    {
     "name": "stderr",
     "output_type": "stream",
     "text": [
      "C:\\Users\\CHIN\\AppData\\Local\\Temp/ipykernel_12472/1728708311.py:2: DeprecationWarning: cafile, capath and cadefault are deprecated, use a custom context instead.\n",
      "  response = urlopen(url, cafile=certifi.where())\n"
     ]
    },
    {
     "name": "stdout",
     "output_type": "stream",
     "text": [
      "PCG\n"
     ]
    },
    {
     "name": "stderr",
     "output_type": "stream",
     "text": [
      "C:\\Users\\CHIN\\AppData\\Local\\Temp/ipykernel_12472/1728708311.py:2: DeprecationWarning: cafile, capath and cadefault are deprecated, use a custom context instead.\n",
      "  response = urlopen(url, cafile=certifi.where())\n"
     ]
    },
    {
     "name": "stdout",
     "output_type": "stream",
     "text": [
      "PM\n"
     ]
    },
    {
     "name": "stderr",
     "output_type": "stream",
     "text": [
      "C:\\Users\\CHIN\\AppData\\Local\\Temp/ipykernel_12472/1728708311.py:2: DeprecationWarning: cafile, capath and cadefault are deprecated, use a custom context instead.\n",
      "  response = urlopen(url, cafile=certifi.where())\n"
     ]
    },
    {
     "name": "stdout",
     "output_type": "stream",
     "text": [
      "PSX\n"
     ]
    },
    {
     "name": "stderr",
     "output_type": "stream",
     "text": [
      "C:\\Users\\CHIN\\AppData\\Local\\Temp/ipykernel_12472/1728708311.py:2: DeprecationWarning: cafile, capath and cadefault are deprecated, use a custom context instead.\n",
      "  response = urlopen(url, cafile=certifi.where())\n"
     ]
    },
    {
     "name": "stdout",
     "output_type": "stream",
     "text": [
      "PNW\n"
     ]
    },
    {
     "name": "stderr",
     "output_type": "stream",
     "text": [
      "C:\\Users\\CHIN\\AppData\\Local\\Temp/ipykernel_12472/1728708311.py:2: DeprecationWarning: cafile, capath and cadefault are deprecated, use a custom context instead.\n",
      "  response = urlopen(url, cafile=certifi.where())\n"
     ]
    },
    {
     "name": "stdout",
     "output_type": "stream",
     "text": [
      "PXD\n"
     ]
    },
    {
     "name": "stderr",
     "output_type": "stream",
     "text": [
      "C:\\Users\\CHIN\\AppData\\Local\\Temp/ipykernel_12472/1728708311.py:2: DeprecationWarning: cafile, capath and cadefault are deprecated, use a custom context instead.\n",
      "  response = urlopen(url, cafile=certifi.where())\n"
     ]
    },
    {
     "name": "stdout",
     "output_type": "stream",
     "text": [
      "PNC\n"
     ]
    },
    {
     "name": "stderr",
     "output_type": "stream",
     "text": [
      "C:\\Users\\CHIN\\AppData\\Local\\Temp/ipykernel_12472/1728708311.py:2: DeprecationWarning: cafile, capath and cadefault are deprecated, use a custom context instead.\n",
      "  response = urlopen(url, cafile=certifi.where())\n"
     ]
    },
    {
     "name": "stdout",
     "output_type": "stream",
     "text": [
      "POOL\n"
     ]
    },
    {
     "name": "stderr",
     "output_type": "stream",
     "text": [
      "C:\\Users\\CHIN\\AppData\\Local\\Temp/ipykernel_12472/1728708311.py:2: DeprecationWarning: cafile, capath and cadefault are deprecated, use a custom context instead.\n",
      "  response = urlopen(url, cafile=certifi.where())\n"
     ]
    },
    {
     "name": "stdout",
     "output_type": "stream",
     "text": [
      "PPG\n"
     ]
    },
    {
     "name": "stderr",
     "output_type": "stream",
     "text": [
      "C:\\Users\\CHIN\\AppData\\Local\\Temp/ipykernel_12472/1728708311.py:2: DeprecationWarning: cafile, capath and cadefault are deprecated, use a custom context instead.\n",
      "  response = urlopen(url, cafile=certifi.where())\n"
     ]
    },
    {
     "name": "stdout",
     "output_type": "stream",
     "text": [
      "PPL\n"
     ]
    },
    {
     "name": "stderr",
     "output_type": "stream",
     "text": [
      "C:\\Users\\CHIN\\AppData\\Local\\Temp/ipykernel_12472/1728708311.py:2: DeprecationWarning: cafile, capath and cadefault are deprecated, use a custom context instead.\n",
      "  response = urlopen(url, cafile=certifi.where())\n"
     ]
    },
    {
     "name": "stdout",
     "output_type": "stream",
     "text": [
      "PFG\n"
     ]
    },
    {
     "name": "stderr",
     "output_type": "stream",
     "text": [
      "C:\\Users\\CHIN\\AppData\\Local\\Temp/ipykernel_12472/1728708311.py:2: DeprecationWarning: cafile, capath and cadefault are deprecated, use a custom context instead.\n",
      "  response = urlopen(url, cafile=certifi.where())\n"
     ]
    },
    {
     "name": "stdout",
     "output_type": "stream",
     "text": [
      "PG\n"
     ]
    },
    {
     "name": "stderr",
     "output_type": "stream",
     "text": [
      "C:\\Users\\CHIN\\AppData\\Local\\Temp/ipykernel_12472/1728708311.py:2: DeprecationWarning: cafile, capath and cadefault are deprecated, use a custom context instead.\n",
      "  response = urlopen(url, cafile=certifi.where())\n"
     ]
    },
    {
     "name": "stdout",
     "output_type": "stream",
     "text": [
      "PGR\n"
     ]
    },
    {
     "name": "stderr",
     "output_type": "stream",
     "text": [
      "C:\\Users\\CHIN\\AppData\\Local\\Temp/ipykernel_12472/1728708311.py:2: DeprecationWarning: cafile, capath and cadefault are deprecated, use a custom context instead.\n",
      "  response = urlopen(url, cafile=certifi.where())\n"
     ]
    },
    {
     "name": "stdout",
     "output_type": "stream",
     "text": [
      "PLD\n"
     ]
    },
    {
     "name": "stderr",
     "output_type": "stream",
     "text": [
      "C:\\Users\\CHIN\\AppData\\Local\\Temp/ipykernel_12472/1728708311.py:2: DeprecationWarning: cafile, capath and cadefault are deprecated, use a custom context instead.\n",
      "  response = urlopen(url, cafile=certifi.where())\n"
     ]
    },
    {
     "name": "stdout",
     "output_type": "stream",
     "text": [
      "PRU\n"
     ]
    },
    {
     "name": "stderr",
     "output_type": "stream",
     "text": [
      "C:\\Users\\CHIN\\AppData\\Local\\Temp/ipykernel_12472/1728708311.py:2: DeprecationWarning: cafile, capath and cadefault are deprecated, use a custom context instead.\n",
      "  response = urlopen(url, cafile=certifi.where())\n"
     ]
    },
    {
     "name": "stdout",
     "output_type": "stream",
     "text": [
      "PEG\n",
      "PTC\n"
     ]
    },
    {
     "name": "stderr",
     "output_type": "stream",
     "text": [
      "C:\\Users\\CHIN\\AppData\\Local\\Temp/ipykernel_12472/1728708311.py:2: DeprecationWarning: cafile, capath and cadefault are deprecated, use a custom context instead.\n",
      "  response = urlopen(url, cafile=certifi.where())\n"
     ]
    },
    {
     "name": "stdout",
     "output_type": "stream",
     "text": [
      "PSA\n"
     ]
    },
    {
     "name": "stderr",
     "output_type": "stream",
     "text": [
      "C:\\Users\\CHIN\\AppData\\Local\\Temp/ipykernel_12472/1728708311.py:2: DeprecationWarning: cafile, capath and cadefault are deprecated, use a custom context instead.\n",
      "  response = urlopen(url, cafile=certifi.where())\n"
     ]
    },
    {
     "name": "stdout",
     "output_type": "stream",
     "text": [
      "PHM\n"
     ]
    },
    {
     "name": "stderr",
     "output_type": "stream",
     "text": [
      "C:\\Users\\CHIN\\AppData\\Local\\Temp/ipykernel_12472/1728708311.py:2: DeprecationWarning: cafile, capath and cadefault are deprecated, use a custom context instead.\n",
      "  response = urlopen(url, cafile=certifi.where())\n"
     ]
    },
    {
     "name": "stdout",
     "output_type": "stream",
     "text": [
      "QRVO\n"
     ]
    },
    {
     "name": "stderr",
     "output_type": "stream",
     "text": [
      "C:\\Users\\CHIN\\AppData\\Local\\Temp/ipykernel_12472/1728708311.py:2: DeprecationWarning: cafile, capath and cadefault are deprecated, use a custom context instead.\n",
      "  response = urlopen(url, cafile=certifi.where())\n"
     ]
    },
    {
     "name": "stdout",
     "output_type": "stream",
     "text": [
      "PWR\n"
     ]
    },
    {
     "name": "stderr",
     "output_type": "stream",
     "text": [
      "C:\\Users\\CHIN\\AppData\\Local\\Temp/ipykernel_12472/1728708311.py:2: DeprecationWarning: cafile, capath and cadefault are deprecated, use a custom context instead.\n",
      "  response = urlopen(url, cafile=certifi.where())\n"
     ]
    },
    {
     "name": "stdout",
     "output_type": "stream",
     "text": [
      "QCOM\n"
     ]
    },
    {
     "name": "stderr",
     "output_type": "stream",
     "text": [
      "C:\\Users\\CHIN\\AppData\\Local\\Temp/ipykernel_12472/1728708311.py:2: DeprecationWarning: cafile, capath and cadefault are deprecated, use a custom context instead.\n",
      "  response = urlopen(url, cafile=certifi.where())\n"
     ]
    },
    {
     "name": "stdout",
     "output_type": "stream",
     "text": [
      "DGX\n"
     ]
    },
    {
     "name": "stderr",
     "output_type": "stream",
     "text": [
      "C:\\Users\\CHIN\\AppData\\Local\\Temp/ipykernel_12472/1728708311.py:2: DeprecationWarning: cafile, capath and cadefault are deprecated, use a custom context instead.\n",
      "  response = urlopen(url, cafile=certifi.where())\n"
     ]
    },
    {
     "name": "stdout",
     "output_type": "stream",
     "text": [
      "RL\n"
     ]
    },
    {
     "name": "stderr",
     "output_type": "stream",
     "text": [
      "C:\\Users\\CHIN\\AppData\\Local\\Temp/ipykernel_12472/1728708311.py:2: DeprecationWarning: cafile, capath and cadefault are deprecated, use a custom context instead.\n",
      "  response = urlopen(url, cafile=certifi.where())\n"
     ]
    },
    {
     "name": "stdout",
     "output_type": "stream",
     "text": [
      "RJF\n"
     ]
    },
    {
     "name": "stderr",
     "output_type": "stream",
     "text": [
      "C:\\Users\\CHIN\\AppData\\Local\\Temp/ipykernel_12472/1728708311.py:2: DeprecationWarning: cafile, capath and cadefault are deprecated, use a custom context instead.\n",
      "  response = urlopen(url, cafile=certifi.where())\n"
     ]
    },
    {
     "name": "stdout",
     "output_type": "stream",
     "text": [
      "RTX\n"
     ]
    },
    {
     "name": "stderr",
     "output_type": "stream",
     "text": [
      "C:\\Users\\CHIN\\AppData\\Local\\Temp/ipykernel_12472/1728708311.py:2: DeprecationWarning: cafile, capath and cadefault are deprecated, use a custom context instead.\n",
      "  response = urlopen(url, cafile=certifi.where())\n"
     ]
    },
    {
     "name": "stdout",
     "output_type": "stream",
     "text": [
      "O\n"
     ]
    },
    {
     "name": "stderr",
     "output_type": "stream",
     "text": [
      "C:\\Users\\CHIN\\AppData\\Local\\Temp/ipykernel_12472/1728708311.py:2: DeprecationWarning: cafile, capath and cadefault are deprecated, use a custom context instead.\n",
      "  response = urlopen(url, cafile=certifi.where())\n"
     ]
    },
    {
     "name": "stdout",
     "output_type": "stream",
     "text": [
      "REG\n"
     ]
    },
    {
     "name": "stderr",
     "output_type": "stream",
     "text": [
      "C:\\Users\\CHIN\\AppData\\Local\\Temp/ipykernel_12472/1728708311.py:2: DeprecationWarning: cafile, capath and cadefault are deprecated, use a custom context instead.\n",
      "  response = urlopen(url, cafile=certifi.where())\n"
     ]
    },
    {
     "name": "stdout",
     "output_type": "stream",
     "text": [
      "REGN\n"
     ]
    },
    {
     "name": "stderr",
     "output_type": "stream",
     "text": [
      "C:\\Users\\CHIN\\AppData\\Local\\Temp/ipykernel_12472/1728708311.py:2: DeprecationWarning: cafile, capath and cadefault are deprecated, use a custom context instead.\n",
      "  response = urlopen(url, cafile=certifi.where())\n"
     ]
    },
    {
     "name": "stdout",
     "output_type": "stream",
     "text": [
      "RF\n"
     ]
    },
    {
     "name": "stderr",
     "output_type": "stream",
     "text": [
      "C:\\Users\\CHIN\\AppData\\Local\\Temp/ipykernel_12472/1728708311.py:2: DeprecationWarning: cafile, capath and cadefault are deprecated, use a custom context instead.\n",
      "  response = urlopen(url, cafile=certifi.where())\n"
     ]
    },
    {
     "name": "stdout",
     "output_type": "stream",
     "text": [
      "RSG\n"
     ]
    },
    {
     "name": "stderr",
     "output_type": "stream",
     "text": [
      "C:\\Users\\CHIN\\AppData\\Local\\Temp/ipykernel_12472/1728708311.py:2: DeprecationWarning: cafile, capath and cadefault are deprecated, use a custom context instead.\n",
      "  response = urlopen(url, cafile=certifi.where())\n"
     ]
    },
    {
     "name": "stdout",
     "output_type": "stream",
     "text": [
      "RMD\n"
     ]
    },
    {
     "name": "stderr",
     "output_type": "stream",
     "text": [
      "C:\\Users\\CHIN\\AppData\\Local\\Temp/ipykernel_12472/1728708311.py:2: DeprecationWarning: cafile, capath and cadefault are deprecated, use a custom context instead.\n",
      "  response = urlopen(url, cafile=certifi.where())\n"
     ]
    },
    {
     "name": "stdout",
     "output_type": "stream",
     "text": [
      "RVTY\n"
     ]
    },
    {
     "name": "stderr",
     "output_type": "stream",
     "text": [
      "C:\\Users\\CHIN\\AppData\\Local\\Temp/ipykernel_12472/1728708311.py:2: DeprecationWarning: cafile, capath and cadefault are deprecated, use a custom context instead.\n",
      "  response = urlopen(url, cafile=certifi.where())\n"
     ]
    },
    {
     "name": "stdout",
     "output_type": "stream",
     "text": [
      "RHI\n"
     ]
    },
    {
     "name": "stderr",
     "output_type": "stream",
     "text": [
      "C:\\Users\\CHIN\\AppData\\Local\\Temp/ipykernel_12472/1728708311.py:2: DeprecationWarning: cafile, capath and cadefault are deprecated, use a custom context instead.\n",
      "  response = urlopen(url, cafile=certifi.where())\n"
     ]
    },
    {
     "name": "stdout",
     "output_type": "stream",
     "text": [
      "ROK\n"
     ]
    },
    {
     "name": "stderr",
     "output_type": "stream",
     "text": [
      "C:\\Users\\CHIN\\AppData\\Local\\Temp/ipykernel_12472/1728708311.py:2: DeprecationWarning: cafile, capath and cadefault are deprecated, use a custom context instead.\n",
      "  response = urlopen(url, cafile=certifi.where())\n"
     ]
    },
    {
     "name": "stdout",
     "output_type": "stream",
     "text": [
      "ROL\n"
     ]
    },
    {
     "name": "stderr",
     "output_type": "stream",
     "text": [
      "C:\\Users\\CHIN\\AppData\\Local\\Temp/ipykernel_12472/1728708311.py:2: DeprecationWarning: cafile, capath and cadefault are deprecated, use a custom context instead.\n",
      "  response = urlopen(url, cafile=certifi.where())\n"
     ]
    },
    {
     "name": "stdout",
     "output_type": "stream",
     "text": [
      "ROP\n"
     ]
    },
    {
     "name": "stderr",
     "output_type": "stream",
     "text": [
      "C:\\Users\\CHIN\\AppData\\Local\\Temp/ipykernel_12472/1728708311.py:2: DeprecationWarning: cafile, capath and cadefault are deprecated, use a custom context instead.\n",
      "  response = urlopen(url, cafile=certifi.where())\n"
     ]
    },
    {
     "name": "stdout",
     "output_type": "stream",
     "text": [
      "ROST\n"
     ]
    },
    {
     "name": "stderr",
     "output_type": "stream",
     "text": [
      "C:\\Users\\CHIN\\AppData\\Local\\Temp/ipykernel_12472/1728708311.py:2: DeprecationWarning: cafile, capath and cadefault are deprecated, use a custom context instead.\n",
      "  response = urlopen(url, cafile=certifi.where())\n"
     ]
    },
    {
     "name": "stdout",
     "output_type": "stream",
     "text": [
      "RCL\n"
     ]
    },
    {
     "name": "stderr",
     "output_type": "stream",
     "text": [
      "C:\\Users\\CHIN\\AppData\\Local\\Temp/ipykernel_12472/1728708311.py:2: DeprecationWarning: cafile, capath and cadefault are deprecated, use a custom context instead.\n",
      "  response = urlopen(url, cafile=certifi.where())\n"
     ]
    },
    {
     "name": "stdout",
     "output_type": "stream",
     "text": [
      "SPGI\n"
     ]
    },
    {
     "name": "stderr",
     "output_type": "stream",
     "text": [
      "C:\\Users\\CHIN\\AppData\\Local\\Temp/ipykernel_12472/1728708311.py:2: DeprecationWarning: cafile, capath and cadefault are deprecated, use a custom context instead.\n",
      "  response = urlopen(url, cafile=certifi.where())\n"
     ]
    },
    {
     "name": "stdout",
     "output_type": "stream",
     "text": [
      "CRM\n"
     ]
    },
    {
     "name": "stderr",
     "output_type": "stream",
     "text": [
      "C:\\Users\\CHIN\\AppData\\Local\\Temp/ipykernel_12472/1728708311.py:2: DeprecationWarning: cafile, capath and cadefault are deprecated, use a custom context instead.\n",
      "  response = urlopen(url, cafile=certifi.where())\n"
     ]
    },
    {
     "name": "stdout",
     "output_type": "stream",
     "text": [
      "SBAC\n"
     ]
    },
    {
     "name": "stderr",
     "output_type": "stream",
     "text": [
      "C:\\Users\\CHIN\\AppData\\Local\\Temp/ipykernel_12472/1728708311.py:2: DeprecationWarning: cafile, capath and cadefault are deprecated, use a custom context instead.\n",
      "  response = urlopen(url, cafile=certifi.where())\n"
     ]
    },
    {
     "name": "stdout",
     "output_type": "stream",
     "text": [
      "SLB\n"
     ]
    },
    {
     "name": "stderr",
     "output_type": "stream",
     "text": [
      "C:\\Users\\CHIN\\AppData\\Local\\Temp/ipykernel_12472/1728708311.py:2: DeprecationWarning: cafile, capath and cadefault are deprecated, use a custom context instead.\n",
      "  response = urlopen(url, cafile=certifi.where())\n"
     ]
    },
    {
     "name": "stdout",
     "output_type": "stream",
     "text": [
      "STX\n"
     ]
    },
    {
     "name": "stderr",
     "output_type": "stream",
     "text": [
      "C:\\Users\\CHIN\\AppData\\Local\\Temp/ipykernel_12472/1728708311.py:2: DeprecationWarning: cafile, capath and cadefault are deprecated, use a custom context instead.\n",
      "  response = urlopen(url, cafile=certifi.where())\n"
     ]
    },
    {
     "name": "stdout",
     "output_type": "stream",
     "text": [
      "SEE\n"
     ]
    },
    {
     "name": "stderr",
     "output_type": "stream",
     "text": [
      "C:\\Users\\CHIN\\AppData\\Local\\Temp/ipykernel_12472/1728708311.py:2: DeprecationWarning: cafile, capath and cadefault are deprecated, use a custom context instead.\n",
      "  response = urlopen(url, cafile=certifi.where())\n"
     ]
    },
    {
     "name": "stdout",
     "output_type": "stream",
     "text": [
      "SRE\n"
     ]
    },
    {
     "name": "stderr",
     "output_type": "stream",
     "text": [
      "C:\\Users\\CHIN\\AppData\\Local\\Temp/ipykernel_12472/1728708311.py:2: DeprecationWarning: cafile, capath and cadefault are deprecated, use a custom context instead.\n",
      "  response = urlopen(url, cafile=certifi.where())\n"
     ]
    },
    {
     "name": "stdout",
     "output_type": "stream",
     "text": [
      "NOW\n"
     ]
    },
    {
     "name": "stderr",
     "output_type": "stream",
     "text": [
      "C:\\Users\\CHIN\\AppData\\Local\\Temp/ipykernel_12472/1728708311.py:2: DeprecationWarning: cafile, capath and cadefault are deprecated, use a custom context instead.\n",
      "  response = urlopen(url, cafile=certifi.where())\n"
     ]
    },
    {
     "name": "stdout",
     "output_type": "stream",
     "text": [
      "SHW\n"
     ]
    },
    {
     "name": "stderr",
     "output_type": "stream",
     "text": [
      "C:\\Users\\CHIN\\AppData\\Local\\Temp/ipykernel_12472/1728708311.py:2: DeprecationWarning: cafile, capath and cadefault are deprecated, use a custom context instead.\n",
      "  response = urlopen(url, cafile=certifi.where())\n"
     ]
    },
    {
     "name": "stdout",
     "output_type": "stream",
     "text": [
      "SPG\n"
     ]
    },
    {
     "name": "stderr",
     "output_type": "stream",
     "text": [
      "C:\\Users\\CHIN\\AppData\\Local\\Temp/ipykernel_12472/1728708311.py:2: DeprecationWarning: cafile, capath and cadefault are deprecated, use a custom context instead.\n",
      "  response = urlopen(url, cafile=certifi.where())\n"
     ]
    },
    {
     "name": "stdout",
     "output_type": "stream",
     "text": [
      "SWKS\n"
     ]
    },
    {
     "name": "stderr",
     "output_type": "stream",
     "text": [
      "C:\\Users\\CHIN\\AppData\\Local\\Temp/ipykernel_12472/1728708311.py:2: DeprecationWarning: cafile, capath and cadefault are deprecated, use a custom context instead.\n",
      "  response = urlopen(url, cafile=certifi.where())\n"
     ]
    },
    {
     "name": "stdout",
     "output_type": "stream",
     "text": [
      "SJM\n"
     ]
    },
    {
     "name": "stderr",
     "output_type": "stream",
     "text": [
      "C:\\Users\\CHIN\\AppData\\Local\\Temp/ipykernel_12472/1728708311.py:2: DeprecationWarning: cafile, capath and cadefault are deprecated, use a custom context instead.\n",
      "  response = urlopen(url, cafile=certifi.where())\n"
     ]
    },
    {
     "name": "stdout",
     "output_type": "stream",
     "text": [
      "SNA\n"
     ]
    },
    {
     "name": "stderr",
     "output_type": "stream",
     "text": [
      "C:\\Users\\CHIN\\AppData\\Local\\Temp/ipykernel_12472/1728708311.py:2: DeprecationWarning: cafile, capath and cadefault are deprecated, use a custom context instead.\n",
      "  response = urlopen(url, cafile=certifi.where())\n"
     ]
    },
    {
     "name": "stdout",
     "output_type": "stream",
     "text": [
      "SEDG\n"
     ]
    },
    {
     "name": "stderr",
     "output_type": "stream",
     "text": [
      "C:\\Users\\CHIN\\AppData\\Local\\Temp/ipykernel_12472/1728708311.py:2: DeprecationWarning: cafile, capath and cadefault are deprecated, use a custom context instead.\n",
      "  response = urlopen(url, cafile=certifi.where())\n"
     ]
    },
    {
     "name": "stdout",
     "output_type": "stream",
     "text": [
      "SO\n"
     ]
    },
    {
     "name": "stderr",
     "output_type": "stream",
     "text": [
      "C:\\Users\\CHIN\\AppData\\Local\\Temp/ipykernel_12472/1728708311.py:2: DeprecationWarning: cafile, capath and cadefault are deprecated, use a custom context instead.\n",
      "  response = urlopen(url, cafile=certifi.where())\n"
     ]
    },
    {
     "name": "stdout",
     "output_type": "stream",
     "text": [
      "LUV\n"
     ]
    },
    {
     "name": "stderr",
     "output_type": "stream",
     "text": [
      "C:\\Users\\CHIN\\AppData\\Local\\Temp/ipykernel_12472/1728708311.py:2: DeprecationWarning: cafile, capath and cadefault are deprecated, use a custom context instead.\n",
      "  response = urlopen(url, cafile=certifi.where())\n"
     ]
    },
    {
     "name": "stdout",
     "output_type": "stream",
     "text": [
      "SWK\n"
     ]
    },
    {
     "name": "stderr",
     "output_type": "stream",
     "text": [
      "C:\\Users\\CHIN\\AppData\\Local\\Temp/ipykernel_12472/1728708311.py:2: DeprecationWarning: cafile, capath and cadefault are deprecated, use a custom context instead.\n",
      "  response = urlopen(url, cafile=certifi.where())\n"
     ]
    },
    {
     "name": "stdout",
     "output_type": "stream",
     "text": [
      "SBUX\n"
     ]
    },
    {
     "name": "stderr",
     "output_type": "stream",
     "text": [
      "C:\\Users\\CHIN\\AppData\\Local\\Temp/ipykernel_12472/1728708311.py:2: DeprecationWarning: cafile, capath and cadefault are deprecated, use a custom context instead.\n",
      "  response = urlopen(url, cafile=certifi.where())\n"
     ]
    },
    {
     "name": "stdout",
     "output_type": "stream",
     "text": [
      "STT\n"
     ]
    },
    {
     "name": "stderr",
     "output_type": "stream",
     "text": [
      "C:\\Users\\CHIN\\AppData\\Local\\Temp/ipykernel_12472/1728708311.py:2: DeprecationWarning: cafile, capath and cadefault are deprecated, use a custom context instead.\n",
      "  response = urlopen(url, cafile=certifi.where())\n"
     ]
    },
    {
     "name": "stdout",
     "output_type": "stream",
     "text": [
      "STLD\n"
     ]
    },
    {
     "name": "stderr",
     "output_type": "stream",
     "text": [
      "C:\\Users\\CHIN\\AppData\\Local\\Temp/ipykernel_12472/1728708311.py:2: DeprecationWarning: cafile, capath and cadefault are deprecated, use a custom context instead.\n",
      "  response = urlopen(url, cafile=certifi.where())\n"
     ]
    },
    {
     "name": "stdout",
     "output_type": "stream",
     "text": [
      "STE\n"
     ]
    },
    {
     "name": "stderr",
     "output_type": "stream",
     "text": [
      "C:\\Users\\CHIN\\AppData\\Local\\Temp/ipykernel_12472/1728708311.py:2: DeprecationWarning: cafile, capath and cadefault are deprecated, use a custom context instead.\n",
      "  response = urlopen(url, cafile=certifi.where())\n"
     ]
    },
    {
     "name": "stdout",
     "output_type": "stream",
     "text": [
      "SYK\n"
     ]
    },
    {
     "name": "stderr",
     "output_type": "stream",
     "text": [
      "C:\\Users\\CHIN\\AppData\\Local\\Temp/ipykernel_12472/1728708311.py:2: DeprecationWarning: cafile, capath and cadefault are deprecated, use a custom context instead.\n",
      "  response = urlopen(url, cafile=certifi.where())\n"
     ]
    },
    {
     "name": "stdout",
     "output_type": "stream",
     "text": [
      "SYF\n"
     ]
    },
    {
     "name": "stderr",
     "output_type": "stream",
     "text": [
      "C:\\Users\\CHIN\\AppData\\Local\\Temp/ipykernel_12472/1728708311.py:2: DeprecationWarning: cafile, capath and cadefault are deprecated, use a custom context instead.\n",
      "  response = urlopen(url, cafile=certifi.where())\n"
     ]
    },
    {
     "name": "stdout",
     "output_type": "stream",
     "text": [
      "SNPS\n",
      "SYY\n"
     ]
    },
    {
     "name": "stderr",
     "output_type": "stream",
     "text": [
      "C:\\Users\\CHIN\\AppData\\Local\\Temp/ipykernel_12472/1728708311.py:2: DeprecationWarning: cafile, capath and cadefault are deprecated, use a custom context instead.\n",
      "  response = urlopen(url, cafile=certifi.where())\n"
     ]
    },
    {
     "name": "stdout",
     "output_type": "stream",
     "text": [
      "TMUS\n"
     ]
    },
    {
     "name": "stderr",
     "output_type": "stream",
     "text": [
      "C:\\Users\\CHIN\\AppData\\Local\\Temp/ipykernel_12472/1728708311.py:2: DeprecationWarning: cafile, capath and cadefault are deprecated, use a custom context instead.\n",
      "  response = urlopen(url, cafile=certifi.where())\n"
     ]
    },
    {
     "name": "stdout",
     "output_type": "stream",
     "text": [
      "TROW\n"
     ]
    },
    {
     "name": "stderr",
     "output_type": "stream",
     "text": [
      "C:\\Users\\CHIN\\AppData\\Local\\Temp/ipykernel_12472/1728708311.py:2: DeprecationWarning: cafile, capath and cadefault are deprecated, use a custom context instead.\n",
      "  response = urlopen(url, cafile=certifi.where())\n"
     ]
    },
    {
     "name": "stdout",
     "output_type": "stream",
     "text": [
      "TTWO\n"
     ]
    },
    {
     "name": "stderr",
     "output_type": "stream",
     "text": [
      "C:\\Users\\CHIN\\AppData\\Local\\Temp/ipykernel_12472/1728708311.py:2: DeprecationWarning: cafile, capath and cadefault are deprecated, use a custom context instead.\n",
      "  response = urlopen(url, cafile=certifi.where())\n"
     ]
    },
    {
     "name": "stdout",
     "output_type": "stream",
     "text": [
      "TPR\n"
     ]
    },
    {
     "name": "stderr",
     "output_type": "stream",
     "text": [
      "C:\\Users\\CHIN\\AppData\\Local\\Temp/ipykernel_12472/1728708311.py:2: DeprecationWarning: cafile, capath and cadefault are deprecated, use a custom context instead.\n",
      "  response = urlopen(url, cafile=certifi.where())\n"
     ]
    },
    {
     "name": "stdout",
     "output_type": "stream",
     "text": [
      "TRGP\n"
     ]
    },
    {
     "name": "stderr",
     "output_type": "stream",
     "text": [
      "C:\\Users\\CHIN\\AppData\\Local\\Temp/ipykernel_12472/1728708311.py:2: DeprecationWarning: cafile, capath and cadefault are deprecated, use a custom context instead.\n",
      "  response = urlopen(url, cafile=certifi.where())\n"
     ]
    },
    {
     "name": "stdout",
     "output_type": "stream",
     "text": [
      "TGT\n"
     ]
    },
    {
     "name": "stderr",
     "output_type": "stream",
     "text": [
      "C:\\Users\\CHIN\\AppData\\Local\\Temp/ipykernel_12472/1728708311.py:2: DeprecationWarning: cafile, capath and cadefault are deprecated, use a custom context instead.\n",
      "  response = urlopen(url, cafile=certifi.where())\n"
     ]
    },
    {
     "name": "stdout",
     "output_type": "stream",
     "text": [
      "TEL\n"
     ]
    },
    {
     "name": "stderr",
     "output_type": "stream",
     "text": [
      "C:\\Users\\CHIN\\AppData\\Local\\Temp/ipykernel_12472/1728708311.py:2: DeprecationWarning: cafile, capath and cadefault are deprecated, use a custom context instead.\n",
      "  response = urlopen(url, cafile=certifi.where())\n"
     ]
    },
    {
     "name": "stdout",
     "output_type": "stream",
     "text": [
      "TDY\n"
     ]
    },
    {
     "name": "stderr",
     "output_type": "stream",
     "text": [
      "C:\\Users\\CHIN\\AppData\\Local\\Temp/ipykernel_12472/1728708311.py:2: DeprecationWarning: cafile, capath and cadefault are deprecated, use a custom context instead.\n",
      "  response = urlopen(url, cafile=certifi.where())\n"
     ]
    },
    {
     "name": "stdout",
     "output_type": "stream",
     "text": [
      "TFX\n"
     ]
    },
    {
     "name": "stderr",
     "output_type": "stream",
     "text": [
      "C:\\Users\\CHIN\\AppData\\Local\\Temp/ipykernel_12472/1728708311.py:2: DeprecationWarning: cafile, capath and cadefault are deprecated, use a custom context instead.\n",
      "  response = urlopen(url, cafile=certifi.where())\n"
     ]
    },
    {
     "name": "stdout",
     "output_type": "stream",
     "text": [
      "TER\n"
     ]
    },
    {
     "name": "stderr",
     "output_type": "stream",
     "text": [
      "C:\\Users\\CHIN\\AppData\\Local\\Temp/ipykernel_12472/1728708311.py:2: DeprecationWarning: cafile, capath and cadefault are deprecated, use a custom context instead.\n",
      "  response = urlopen(url, cafile=certifi.where())\n"
     ]
    },
    {
     "name": "stdout",
     "output_type": "stream",
     "text": [
      "TSLA\n"
     ]
    },
    {
     "name": "stderr",
     "output_type": "stream",
     "text": [
      "C:\\Users\\CHIN\\AppData\\Local\\Temp/ipykernel_12472/1728708311.py:2: DeprecationWarning: cafile, capath and cadefault are deprecated, use a custom context instead.\n",
      "  response = urlopen(url, cafile=certifi.where())\n"
     ]
    },
    {
     "name": "stdout",
     "output_type": "stream",
     "text": [
      "TXN\n"
     ]
    },
    {
     "name": "stderr",
     "output_type": "stream",
     "text": [
      "C:\\Users\\CHIN\\AppData\\Local\\Temp/ipykernel_12472/1728708311.py:2: DeprecationWarning: cafile, capath and cadefault are deprecated, use a custom context instead.\n",
      "  response = urlopen(url, cafile=certifi.where())\n"
     ]
    },
    {
     "name": "stdout",
     "output_type": "stream",
     "text": [
      "TXT\n"
     ]
    },
    {
     "name": "stderr",
     "output_type": "stream",
     "text": [
      "C:\\Users\\CHIN\\AppData\\Local\\Temp/ipykernel_12472/1728708311.py:2: DeprecationWarning: cafile, capath and cadefault are deprecated, use a custom context instead.\n",
      "  response = urlopen(url, cafile=certifi.where())\n"
     ]
    },
    {
     "name": "stdout",
     "output_type": "stream",
     "text": [
      "TMO\n"
     ]
    },
    {
     "name": "stderr",
     "output_type": "stream",
     "text": [
      "C:\\Users\\CHIN\\AppData\\Local\\Temp/ipykernel_12472/1728708311.py:2: DeprecationWarning: cafile, capath and cadefault are deprecated, use a custom context instead.\n",
      "  response = urlopen(url, cafile=certifi.where())\n"
     ]
    },
    {
     "name": "stdout",
     "output_type": "stream",
     "text": [
      "TJX\n"
     ]
    },
    {
     "name": "stderr",
     "output_type": "stream",
     "text": [
      "C:\\Users\\CHIN\\AppData\\Local\\Temp/ipykernel_12472/1728708311.py:2: DeprecationWarning: cafile, capath and cadefault are deprecated, use a custom context instead.\n",
      "  response = urlopen(url, cafile=certifi.where())\n"
     ]
    },
    {
     "name": "stdout",
     "output_type": "stream",
     "text": [
      "TSCO\n"
     ]
    },
    {
     "name": "stderr",
     "output_type": "stream",
     "text": [
      "C:\\Users\\CHIN\\AppData\\Local\\Temp/ipykernel_12472/1728708311.py:2: DeprecationWarning: cafile, capath and cadefault are deprecated, use a custom context instead.\n",
      "  response = urlopen(url, cafile=certifi.where())\n"
     ]
    },
    {
     "name": "stdout",
     "output_type": "stream",
     "text": [
      "TT\n"
     ]
    },
    {
     "name": "stderr",
     "output_type": "stream",
     "text": [
      "C:\\Users\\CHIN\\AppData\\Local\\Temp/ipykernel_12472/1728708311.py:2: DeprecationWarning: cafile, capath and cadefault are deprecated, use a custom context instead.\n",
      "  response = urlopen(url, cafile=certifi.where())\n"
     ]
    },
    {
     "name": "stdout",
     "output_type": "stream",
     "text": [
      "TDG\n"
     ]
    },
    {
     "name": "stderr",
     "output_type": "stream",
     "text": [
      "C:\\Users\\CHIN\\AppData\\Local\\Temp/ipykernel_12472/1728708311.py:2: DeprecationWarning: cafile, capath and cadefault are deprecated, use a custom context instead.\n",
      "  response = urlopen(url, cafile=certifi.where())\n"
     ]
    },
    {
     "name": "stdout",
     "output_type": "stream",
     "text": [
      "TRV\n"
     ]
    },
    {
     "name": "stderr",
     "output_type": "stream",
     "text": [
      "C:\\Users\\CHIN\\AppData\\Local\\Temp/ipykernel_12472/1728708311.py:2: DeprecationWarning: cafile, capath and cadefault are deprecated, use a custom context instead.\n",
      "  response = urlopen(url, cafile=certifi.where())\n"
     ]
    },
    {
     "name": "stdout",
     "output_type": "stream",
     "text": [
      "TRMB\n"
     ]
    },
    {
     "name": "stderr",
     "output_type": "stream",
     "text": [
      "C:\\Users\\CHIN\\AppData\\Local\\Temp/ipykernel_12472/1728708311.py:2: DeprecationWarning: cafile, capath and cadefault are deprecated, use a custom context instead.\n",
      "  response = urlopen(url, cafile=certifi.where())\n"
     ]
    },
    {
     "name": "stdout",
     "output_type": "stream",
     "text": [
      "TFC\n"
     ]
    },
    {
     "name": "stderr",
     "output_type": "stream",
     "text": [
      "C:\\Users\\CHIN\\AppData\\Local\\Temp/ipykernel_12472/1728708311.py:2: DeprecationWarning: cafile, capath and cadefault are deprecated, use a custom context instead.\n",
      "  response = urlopen(url, cafile=certifi.where())\n"
     ]
    },
    {
     "name": "stdout",
     "output_type": "stream",
     "text": [
      "TYL\n"
     ]
    },
    {
     "name": "stderr",
     "output_type": "stream",
     "text": [
      "C:\\Users\\CHIN\\AppData\\Local\\Temp/ipykernel_12472/1728708311.py:2: DeprecationWarning: cafile, capath and cadefault are deprecated, use a custom context instead.\n",
      "  response = urlopen(url, cafile=certifi.where())\n"
     ]
    },
    {
     "name": "stdout",
     "output_type": "stream",
     "text": [
      "TSN\n"
     ]
    },
    {
     "name": "stderr",
     "output_type": "stream",
     "text": [
      "C:\\Users\\CHIN\\AppData\\Local\\Temp/ipykernel_12472/1728708311.py:2: DeprecationWarning: cafile, capath and cadefault are deprecated, use a custom context instead.\n",
      "  response = urlopen(url, cafile=certifi.where())\n"
     ]
    },
    {
     "name": "stdout",
     "output_type": "stream",
     "text": [
      "USB\n"
     ]
    },
    {
     "name": "stderr",
     "output_type": "stream",
     "text": [
      "C:\\Users\\CHIN\\AppData\\Local\\Temp/ipykernel_12472/1728708311.py:2: DeprecationWarning: cafile, capath and cadefault are deprecated, use a custom context instead.\n",
      "  response = urlopen(url, cafile=certifi.where())\n"
     ]
    },
    {
     "name": "stdout",
     "output_type": "stream",
     "text": [
      "UDR\n"
     ]
    },
    {
     "name": "stderr",
     "output_type": "stream",
     "text": [
      "C:\\Users\\CHIN\\AppData\\Local\\Temp/ipykernel_12472/1728708311.py:2: DeprecationWarning: cafile, capath and cadefault are deprecated, use a custom context instead.\n",
      "  response = urlopen(url, cafile=certifi.where())\n"
     ]
    },
    {
     "name": "stdout",
     "output_type": "stream",
     "text": [
      "ULTA\n"
     ]
    },
    {
     "name": "stderr",
     "output_type": "stream",
     "text": [
      "C:\\Users\\CHIN\\AppData\\Local\\Temp/ipykernel_12472/1728708311.py:2: DeprecationWarning: cafile, capath and cadefault are deprecated, use a custom context instead.\n",
      "  response = urlopen(url, cafile=certifi.where())\n"
     ]
    },
    {
     "name": "stdout",
     "output_type": "stream",
     "text": [
      "UNP\n"
     ]
    },
    {
     "name": "stderr",
     "output_type": "stream",
     "text": [
      "C:\\Users\\CHIN\\AppData\\Local\\Temp/ipykernel_12472/1728708311.py:2: DeprecationWarning: cafile, capath and cadefault are deprecated, use a custom context instead.\n",
      "  response = urlopen(url, cafile=certifi.where())\n"
     ]
    },
    {
     "name": "stdout",
     "output_type": "stream",
     "text": [
      "UAL\n"
     ]
    },
    {
     "name": "stderr",
     "output_type": "stream",
     "text": [
      "C:\\Users\\CHIN\\AppData\\Local\\Temp/ipykernel_12472/1728708311.py:2: DeprecationWarning: cafile, capath and cadefault are deprecated, use a custom context instead.\n",
      "  response = urlopen(url, cafile=certifi.where())\n"
     ]
    },
    {
     "name": "stdout",
     "output_type": "stream",
     "text": [
      "UPS\n"
     ]
    },
    {
     "name": "stderr",
     "output_type": "stream",
     "text": [
      "C:\\Users\\CHIN\\AppData\\Local\\Temp/ipykernel_12472/1728708311.py:2: DeprecationWarning: cafile, capath and cadefault are deprecated, use a custom context instead.\n",
      "  response = urlopen(url, cafile=certifi.where())\n"
     ]
    },
    {
     "name": "stdout",
     "output_type": "stream",
     "text": [
      "URI\n"
     ]
    },
    {
     "name": "stderr",
     "output_type": "stream",
     "text": [
      "C:\\Users\\CHIN\\AppData\\Local\\Temp/ipykernel_12472/1728708311.py:2: DeprecationWarning: cafile, capath and cadefault are deprecated, use a custom context instead.\n",
      "  response = urlopen(url, cafile=certifi.where())\n"
     ]
    },
    {
     "name": "stdout",
     "output_type": "stream",
     "text": [
      "UNH\n"
     ]
    },
    {
     "name": "stderr",
     "output_type": "stream",
     "text": [
      "C:\\Users\\CHIN\\AppData\\Local\\Temp/ipykernel_12472/1728708311.py:2: DeprecationWarning: cafile, capath and cadefault are deprecated, use a custom context instead.\n",
      "  response = urlopen(url, cafile=certifi.where())\n"
     ]
    },
    {
     "name": "stdout",
     "output_type": "stream",
     "text": [
      "UHS\n"
     ]
    },
    {
     "name": "stderr",
     "output_type": "stream",
     "text": [
      "C:\\Users\\CHIN\\AppData\\Local\\Temp/ipykernel_12472/1728708311.py:2: DeprecationWarning: cafile, capath and cadefault are deprecated, use a custom context instead.\n",
      "  response = urlopen(url, cafile=certifi.where())\n"
     ]
    },
    {
     "name": "stdout",
     "output_type": "stream",
     "text": [
      "VLO\n"
     ]
    },
    {
     "name": "stderr",
     "output_type": "stream",
     "text": [
      "C:\\Users\\CHIN\\AppData\\Local\\Temp/ipykernel_12472/1728708311.py:2: DeprecationWarning: cafile, capath and cadefault are deprecated, use a custom context instead.\n",
      "  response = urlopen(url, cafile=certifi.where())\n"
     ]
    },
    {
     "name": "stdout",
     "output_type": "stream",
     "text": [
      "VTR\n"
     ]
    },
    {
     "name": "stderr",
     "output_type": "stream",
     "text": [
      "C:\\Users\\CHIN\\AppData\\Local\\Temp/ipykernel_12472/1728708311.py:2: DeprecationWarning: cafile, capath and cadefault are deprecated, use a custom context instead.\n",
      "  response = urlopen(url, cafile=certifi.where())\n"
     ]
    },
    {
     "name": "stdout",
     "output_type": "stream",
     "text": [
      "VLTO\n"
     ]
    },
    {
     "name": "stderr",
     "output_type": "stream",
     "text": [
      "C:\\Users\\CHIN\\AppData\\Local\\Temp/ipykernel_12472/1728708311.py:2: DeprecationWarning: cafile, capath and cadefault are deprecated, use a custom context instead.\n",
      "  response = urlopen(url, cafile=certifi.where())\n"
     ]
    },
    {
     "name": "stdout",
     "output_type": "stream",
     "text": [
      "VRSN\n",
      "VRSK\n"
     ]
    },
    {
     "name": "stderr",
     "output_type": "stream",
     "text": [
      "C:\\Users\\CHIN\\AppData\\Local\\Temp/ipykernel_12472/1728708311.py:2: DeprecationWarning: cafile, capath and cadefault are deprecated, use a custom context instead.\n",
      "  response = urlopen(url, cafile=certifi.where())\n"
     ]
    },
    {
     "name": "stdout",
     "output_type": "stream",
     "text": [
      "VZ\n"
     ]
    },
    {
     "name": "stderr",
     "output_type": "stream",
     "text": [
      "C:\\Users\\CHIN\\AppData\\Local\\Temp/ipykernel_12472/1728708311.py:2: DeprecationWarning: cafile, capath and cadefault are deprecated, use a custom context instead.\n",
      "  response = urlopen(url, cafile=certifi.where())\n"
     ]
    },
    {
     "name": "stdout",
     "output_type": "stream",
     "text": [
      "VRTX\n"
     ]
    },
    {
     "name": "stderr",
     "output_type": "stream",
     "text": [
      "C:\\Users\\CHIN\\AppData\\Local\\Temp/ipykernel_12472/1728708311.py:2: DeprecationWarning: cafile, capath and cadefault are deprecated, use a custom context instead.\n",
      "  response = urlopen(url, cafile=certifi.where())\n"
     ]
    },
    {
     "name": "stdout",
     "output_type": "stream",
     "text": [
      "VFC\n"
     ]
    },
    {
     "name": "stderr",
     "output_type": "stream",
     "text": [
      "C:\\Users\\CHIN\\AppData\\Local\\Temp/ipykernel_12472/1728708311.py:2: DeprecationWarning: cafile, capath and cadefault are deprecated, use a custom context instead.\n",
      "  response = urlopen(url, cafile=certifi.where())\n"
     ]
    },
    {
     "name": "stdout",
     "output_type": "stream",
     "text": [
      "VTRS\n"
     ]
    },
    {
     "name": "stderr",
     "output_type": "stream",
     "text": [
      "C:\\Users\\CHIN\\AppData\\Local\\Temp/ipykernel_12472/1728708311.py:2: DeprecationWarning: cafile, capath and cadefault are deprecated, use a custom context instead.\n",
      "  response = urlopen(url, cafile=certifi.where())\n"
     ]
    },
    {
     "name": "stdout",
     "output_type": "stream",
     "text": [
      "VICI\n"
     ]
    },
    {
     "name": "stderr",
     "output_type": "stream",
     "text": [
      "C:\\Users\\CHIN\\AppData\\Local\\Temp/ipykernel_12472/1728708311.py:2: DeprecationWarning: cafile, capath and cadefault are deprecated, use a custom context instead.\n",
      "  response = urlopen(url, cafile=certifi.where())\n"
     ]
    },
    {
     "name": "stdout",
     "output_type": "stream",
     "text": [
      "V\n"
     ]
    },
    {
     "name": "stderr",
     "output_type": "stream",
     "text": [
      "C:\\Users\\CHIN\\AppData\\Local\\Temp/ipykernel_12472/1728708311.py:2: DeprecationWarning: cafile, capath and cadefault are deprecated, use a custom context instead.\n",
      "  response = urlopen(url, cafile=certifi.where())\n"
     ]
    },
    {
     "name": "stdout",
     "output_type": "stream",
     "text": [
      "VMC\n"
     ]
    },
    {
     "name": "stderr",
     "output_type": "stream",
     "text": [
      "C:\\Users\\CHIN\\AppData\\Local\\Temp/ipykernel_12472/1728708311.py:2: DeprecationWarning: cafile, capath and cadefault are deprecated, use a custom context instead.\n",
      "  response = urlopen(url, cafile=certifi.where())\n"
     ]
    },
    {
     "name": "stdout",
     "output_type": "stream",
     "text": [
      "WRB\n"
     ]
    },
    {
     "name": "stderr",
     "output_type": "stream",
     "text": [
      "C:\\Users\\CHIN\\AppData\\Local\\Temp/ipykernel_12472/1728708311.py:2: DeprecationWarning: cafile, capath and cadefault are deprecated, use a custom context instead.\n",
      "  response = urlopen(url, cafile=certifi.where())\n"
     ]
    },
    {
     "name": "stdout",
     "output_type": "stream",
     "text": [
      "WAB\n"
     ]
    },
    {
     "name": "stderr",
     "output_type": "stream",
     "text": [
      "C:\\Users\\CHIN\\AppData\\Local\\Temp/ipykernel_12472/1728708311.py:2: DeprecationWarning: cafile, capath and cadefault are deprecated, use a custom context instead.\n",
      "  response = urlopen(url, cafile=certifi.where())\n"
     ]
    },
    {
     "name": "stdout",
     "output_type": "stream",
     "text": [
      "WBA\n"
     ]
    },
    {
     "name": "stderr",
     "output_type": "stream",
     "text": [
      "C:\\Users\\CHIN\\AppData\\Local\\Temp/ipykernel_12472/1728708311.py:2: DeprecationWarning: cafile, capath and cadefault are deprecated, use a custom context instead.\n",
      "  response = urlopen(url, cafile=certifi.where())\n"
     ]
    },
    {
     "name": "stdout",
     "output_type": "stream",
     "text": [
      "WMT\n"
     ]
    },
    {
     "name": "stderr",
     "output_type": "stream",
     "text": [
      "C:\\Users\\CHIN\\AppData\\Local\\Temp/ipykernel_12472/1728708311.py:2: DeprecationWarning: cafile, capath and cadefault are deprecated, use a custom context instead.\n",
      "  response = urlopen(url, cafile=certifi.where())\n"
     ]
    },
    {
     "name": "stdout",
     "output_type": "stream",
     "text": [
      "DIS\n"
     ]
    },
    {
     "name": "stderr",
     "output_type": "stream",
     "text": [
      "C:\\Users\\CHIN\\AppData\\Local\\Temp/ipykernel_12472/1728708311.py:2: DeprecationWarning: cafile, capath and cadefault are deprecated, use a custom context instead.\n",
      "  response = urlopen(url, cafile=certifi.where())\n"
     ]
    },
    {
     "name": "stdout",
     "output_type": "stream",
     "text": [
      "WBD\n"
     ]
    },
    {
     "name": "stderr",
     "output_type": "stream",
     "text": [
      "C:\\Users\\CHIN\\AppData\\Local\\Temp/ipykernel_12472/1728708311.py:2: DeprecationWarning: cafile, capath and cadefault are deprecated, use a custom context instead.\n",
      "  response = urlopen(url, cafile=certifi.where())\n"
     ]
    },
    {
     "name": "stdout",
     "output_type": "stream",
     "text": [
      "WM\n"
     ]
    },
    {
     "name": "stderr",
     "output_type": "stream",
     "text": [
      "C:\\Users\\CHIN\\AppData\\Local\\Temp/ipykernel_12472/1728708311.py:2: DeprecationWarning: cafile, capath and cadefault are deprecated, use a custom context instead.\n",
      "  response = urlopen(url, cafile=certifi.where())\n"
     ]
    },
    {
     "name": "stdout",
     "output_type": "stream",
     "text": [
      "WAT\n"
     ]
    },
    {
     "name": "stderr",
     "output_type": "stream",
     "text": [
      "C:\\Users\\CHIN\\AppData\\Local\\Temp/ipykernel_12472/1728708311.py:2: DeprecationWarning: cafile, capath and cadefault are deprecated, use a custom context instead.\n",
      "  response = urlopen(url, cafile=certifi.where())\n"
     ]
    },
    {
     "name": "stdout",
     "output_type": "stream",
     "text": [
      "WEC\n"
     ]
    },
    {
     "name": "stderr",
     "output_type": "stream",
     "text": [
      "C:\\Users\\CHIN\\AppData\\Local\\Temp/ipykernel_12472/1728708311.py:2: DeprecationWarning: cafile, capath and cadefault are deprecated, use a custom context instead.\n",
      "  response = urlopen(url, cafile=certifi.where())\n"
     ]
    },
    {
     "name": "stdout",
     "output_type": "stream",
     "text": [
      "WFC\n"
     ]
    },
    {
     "name": "stderr",
     "output_type": "stream",
     "text": [
      "C:\\Users\\CHIN\\AppData\\Local\\Temp/ipykernel_12472/1728708311.py:2: DeprecationWarning: cafile, capath and cadefault are deprecated, use a custom context instead.\n",
      "  response = urlopen(url, cafile=certifi.where())\n"
     ]
    },
    {
     "name": "stdout",
     "output_type": "stream",
     "text": [
      "WELL\n"
     ]
    },
    {
     "name": "stderr",
     "output_type": "stream",
     "text": [
      "C:\\Users\\CHIN\\AppData\\Local\\Temp/ipykernel_12472/1728708311.py:2: DeprecationWarning: cafile, capath and cadefault are deprecated, use a custom context instead.\n",
      "  response = urlopen(url, cafile=certifi.where())\n"
     ]
    },
    {
     "name": "stdout",
     "output_type": "stream",
     "text": [
      "WST\n"
     ]
    },
    {
     "name": "stderr",
     "output_type": "stream",
     "text": [
      "C:\\Users\\CHIN\\AppData\\Local\\Temp/ipykernel_12472/1728708311.py:2: DeprecationWarning: cafile, capath and cadefault are deprecated, use a custom context instead.\n",
      "  response = urlopen(url, cafile=certifi.where())\n"
     ]
    },
    {
     "name": "stdout",
     "output_type": "stream",
     "text": [
      "WDC\n"
     ]
    },
    {
     "name": "stderr",
     "output_type": "stream",
     "text": [
      "C:\\Users\\CHIN\\AppData\\Local\\Temp/ipykernel_12472/1728708311.py:2: DeprecationWarning: cafile, capath and cadefault are deprecated, use a custom context instead.\n",
      "  response = urlopen(url, cafile=certifi.where())\n"
     ]
    },
    {
     "name": "stdout",
     "output_type": "stream",
     "text": [
      "WRK\n"
     ]
    },
    {
     "name": "stderr",
     "output_type": "stream",
     "text": [
      "C:\\Users\\CHIN\\AppData\\Local\\Temp/ipykernel_12472/1728708311.py:2: DeprecationWarning: cafile, capath and cadefault are deprecated, use a custom context instead.\n",
      "  response = urlopen(url, cafile=certifi.where())\n"
     ]
    },
    {
     "name": "stdout",
     "output_type": "stream",
     "text": [
      "WY\n"
     ]
    },
    {
     "name": "stderr",
     "output_type": "stream",
     "text": [
      "C:\\Users\\CHIN\\AppData\\Local\\Temp/ipykernel_12472/1728708311.py:2: DeprecationWarning: cafile, capath and cadefault are deprecated, use a custom context instead.\n",
      "  response = urlopen(url, cafile=certifi.where())\n"
     ]
    },
    {
     "name": "stdout",
     "output_type": "stream",
     "text": [
      "WHR\n"
     ]
    },
    {
     "name": "stderr",
     "output_type": "stream",
     "text": [
      "C:\\Users\\CHIN\\AppData\\Local\\Temp/ipykernel_12472/1728708311.py:2: DeprecationWarning: cafile, capath and cadefault are deprecated, use a custom context instead.\n",
      "  response = urlopen(url, cafile=certifi.where())\n"
     ]
    },
    {
     "name": "stdout",
     "output_type": "stream",
     "text": [
      "WMB\n"
     ]
    },
    {
     "name": "stderr",
     "output_type": "stream",
     "text": [
      "C:\\Users\\CHIN\\AppData\\Local\\Temp/ipykernel_12472/1728708311.py:2: DeprecationWarning: cafile, capath and cadefault are deprecated, use a custom context instead.\n",
      "  response = urlopen(url, cafile=certifi.where())\n"
     ]
    },
    {
     "name": "stdout",
     "output_type": "stream",
     "text": [
      "WTW\n"
     ]
    },
    {
     "name": "stderr",
     "output_type": "stream",
     "text": [
      "C:\\Users\\CHIN\\AppData\\Local\\Temp/ipykernel_12472/1728708311.py:2: DeprecationWarning: cafile, capath and cadefault are deprecated, use a custom context instead.\n",
      "  response = urlopen(url, cafile=certifi.where())\n"
     ]
    },
    {
     "name": "stdout",
     "output_type": "stream",
     "text": [
      "GWW\n"
     ]
    },
    {
     "name": "stderr",
     "output_type": "stream",
     "text": [
      "C:\\Users\\CHIN\\AppData\\Local\\Temp/ipykernel_12472/1728708311.py:2: DeprecationWarning: cafile, capath and cadefault are deprecated, use a custom context instead.\n",
      "  response = urlopen(url, cafile=certifi.where())\n"
     ]
    },
    {
     "name": "stdout",
     "output_type": "stream",
     "text": [
      "WYNN\n"
     ]
    },
    {
     "name": "stderr",
     "output_type": "stream",
     "text": [
      "C:\\Users\\CHIN\\AppData\\Local\\Temp/ipykernel_12472/1728708311.py:2: DeprecationWarning: cafile, capath and cadefault are deprecated, use a custom context instead.\n",
      "  response = urlopen(url, cafile=certifi.where())\n"
     ]
    },
    {
     "name": "stdout",
     "output_type": "stream",
     "text": [
      "XEL\n"
     ]
    },
    {
     "name": "stderr",
     "output_type": "stream",
     "text": [
      "C:\\Users\\CHIN\\AppData\\Local\\Temp/ipykernel_12472/1728708311.py:2: DeprecationWarning: cafile, capath and cadefault are deprecated, use a custom context instead.\n",
      "  response = urlopen(url, cafile=certifi.where())\n"
     ]
    },
    {
     "name": "stdout",
     "output_type": "stream",
     "text": [
      "XYL\n"
     ]
    },
    {
     "name": "stderr",
     "output_type": "stream",
     "text": [
      "C:\\Users\\CHIN\\AppData\\Local\\Temp/ipykernel_12472/1728708311.py:2: DeprecationWarning: cafile, capath and cadefault are deprecated, use a custom context instead.\n",
      "  response = urlopen(url, cafile=certifi.where())\n"
     ]
    },
    {
     "name": "stdout",
     "output_type": "stream",
     "text": [
      "YUM\n"
     ]
    },
    {
     "name": "stderr",
     "output_type": "stream",
     "text": [
      "C:\\Users\\CHIN\\AppData\\Local\\Temp/ipykernel_12472/1728708311.py:2: DeprecationWarning: cafile, capath and cadefault are deprecated, use a custom context instead.\n",
      "  response = urlopen(url, cafile=certifi.where())\n"
     ]
    },
    {
     "name": "stdout",
     "output_type": "stream",
     "text": [
      "ZBRA\n"
     ]
    },
    {
     "name": "stderr",
     "output_type": "stream",
     "text": [
      "C:\\Users\\CHIN\\AppData\\Local\\Temp/ipykernel_12472/1728708311.py:2: DeprecationWarning: cafile, capath and cadefault are deprecated, use a custom context instead.\n",
      "  response = urlopen(url, cafile=certifi.where())\n"
     ]
    },
    {
     "name": "stdout",
     "output_type": "stream",
     "text": [
      "ZBH\n"
     ]
    },
    {
     "name": "stderr",
     "output_type": "stream",
     "text": [
      "C:\\Users\\CHIN\\AppData\\Local\\Temp/ipykernel_12472/1728708311.py:2: DeprecationWarning: cafile, capath and cadefault are deprecated, use a custom context instead.\n",
      "  response = urlopen(url, cafile=certifi.where())\n"
     ]
    },
    {
     "name": "stdout",
     "output_type": "stream",
     "text": [
      "ZION\n"
     ]
    },
    {
     "name": "stderr",
     "output_type": "stream",
     "text": [
      "C:\\Users\\CHIN\\AppData\\Local\\Temp/ipykernel_12472/1728708311.py:2: DeprecationWarning: cafile, capath and cadefault are deprecated, use a custom context instead.\n",
      "  response = urlopen(url, cafile=certifi.where())\n"
     ]
    },
    {
     "name": "stdout",
     "output_type": "stream",
     "text": [
      "ZTS\n"
     ]
    },
    {
     "name": "stderr",
     "output_type": "stream",
     "text": [
      "C:\\Users\\CHIN\\AppData\\Local\\Temp/ipykernel_12472/1728708311.py:2: DeprecationWarning: cafile, capath and cadefault are deprecated, use a custom context instead.\n",
      "  response = urlopen(url, cafile=certifi.where())\n"
     ]
    }
   ],
   "source": [
    "from datetime import date\n",
    "table=pd.read_html('https://en.wikipedia.org/wiki/List_of_S%26P_500_companies')\n",
    "df = table[0]\n",
    "ticker_all = df['Symbol'].values\n",
    "all_eps= pd.DataFrame()\n",
    "Yearly_eps = pd.DataFrame()\n",
    "for ticker_Select in ticker_all:\n",
    "    print(ticker_Select)\n",
    "    ticker=ticker_Select\n",
    "    EPS_link = 'https://financialmodelingprep.com/api/v4/owner_earnings?symbol='+ticker+'&apikey='+api\n",
    "    # daily_stock_temp = api_reading(daily_stock_link )\n",
    "    eps = get_jsonparsed_data(EPS_link)\n",
    "    if eps.shape[0]>0:\n",
    "        eps = eps.sort_values(by='date')\n",
    "        eps['EPS_Sum_4Quarters'] = eps['ownersEarningsPerShare'].rolling(window=4).sum()\n",
    "        eps['QuarterlyEPSIncrease'] = eps['EPS_Sum_4Quarters'].pct_change() * 100\n",
    "        eps['QuarterlyEPSIncrease'] = (   eps['EPS_Sum_4Quarters'] -  eps['EPS_Sum_4Quarters'].shift(1))/abs( eps['EPS_Sum_4Quarters'].shift(1))*100\n",
    "        eps['ContinuousIncreaseQuarter'] = eps['QuarterlyEPSIncrease'] > 5\n",
    "        eps['ContinuousIncrease_lastQuarter'] = eps['ContinuousIncreaseQuarter'].shift(1)\n",
    "        eps['ContinuousIncrease_last2Quarter'] = eps['ContinuousIncreaseQuarter'].shift(2)\n",
    "        # Create a new column 'Year' containing the year extracted from the 'Date' column\n",
    "        eps['Year'] = pd.to_datetime(eps['date']).dt.year\n",
    "        YearEPS = eps.groupby(['Year'])['ownersEarningsPerShare'].sum().reset_index().rename(columns = {'ownersEarningsPerShare':'YearlyEPS'})\n",
    "        YearEPS['EPS_GrowthYearly'] =(  YearEPS['YearlyEPS'] - YearEPS['YearlyEPS'].shift(1))/abs(YearEPS['YearlyEPS'].shift(1))*100\n",
    "        # Add a new column 'ContinuousIncrease' to indicate if the EPS is continuously increasing\n",
    "        YearEPS['ContinuousIncreaseyearly'] = YearEPS['EPS_GrowthYearly'] > 5\n",
    "        YearEPS['ContinuousIncrease_lastyear'] = YearEPS['ContinuousIncreaseyearly'].shift(1)\n",
    "        YearEPS['ContinuousIncrease_last2year'] = YearEPS['ContinuousIncreaseyearly'].shift(2)\n",
    "        YearEPS['ContinuousIncrease_last3year'] = YearEPS['ContinuousIncreaseyearly'].shift(3)\n",
    "        YearEPS['ContinuousIncrease_last4year'] = YearEPS['ContinuousIncreaseyearly'].shift(4)\n",
    "        YearEPS['ContinuousIncrease_last5year'] = YearEPS['ContinuousIncreaseyearly'].shift(5)\n",
    "        YearEPS['YearlyEPS_lastyear'] = YearEPS['YearlyEPS'].shift(1)\n",
    "        YearEPS['YearlyEPS_last2year'] = YearEPS['YearlyEPS'].shift(2)\n",
    "        YearEPS['YearlyEPS_last3year'] = YearEPS['YearlyEPS'].shift(3)\n",
    "        YearEPS['YearlyEPS_last4year'] = YearEPS['YearlyEPS'].shift(4)\n",
    "        YearEPS['YearlyEPS_last5year'] = YearEPS['YearlyEPS'].shift(5)\n",
    "        # Create a DataFrame with all possible date and symbol combinations\n",
    "        date_range = pd.date_range(start=eps['date'].min(), end=date.today(), freq='D')\n",
    "        all_combinations = pd.MultiIndex.from_product([date_range], names=['date']).to_frame(index=False)\n",
    "        all_combinations['date'] = pd.to_datetime(all_combinations['date']).dt.strftime(\"%Y-%m-%d\")\n",
    "        eps= pd.merge(all_combinations, eps, on=[ 'date'], how='left')\n",
    "        # Fill missing values with the previous price target\n",
    "        eps['EPS_Sum_4Quarters'] = eps['EPS_Sum_4Quarters'].fillna(method='ffill')\n",
    "        #eps['YearlyEPS'] = eps['YearlyEPS'].fillna(method='ffill')\n",
    "        #eps['EPS_GrowthYearly'] = eps['EPS_GrowthYearly'].fillna(method='ffill')\n",
    "        eps['Year'] = eps['Year'].fillna(method='ffill')\n",
    "        eps['ownersEarningsPerShare'] = eps['ownersEarningsPerShare'].fillna(method='ffill')\n",
    "        eps['EPS_Sum_4Quarters'] = eps['EPS_Sum_4Quarters'].fillna(method='ffill')\n",
    "        eps['QuarterlyEPSIncrease'] = eps['QuarterlyEPSIncrease'].fillna(method='ffill')\n",
    "        eps['ContinuousIncreaseQuarter'] = eps['ContinuousIncreaseQuarter'].fillna(method='ffill')\n",
    "        eps['ContinuousIncrease_last2Quarter'] = eps['ContinuousIncrease_last2Quarter'].fillna(method='ffill')\n",
    "        eps['ContinuousIncrease_lastQuarter'] = eps['ContinuousIncrease_lastQuarter'].fillna(method='ffill')\n",
    "        eps =pd.merge(eps,YearEPS,on = 'Year',how='left')\n",
    "        eps['symbol'] = ticker\n",
    "        all_eps= pd.concat([eps,all_eps])\n",
    "        YearEPS['symbol'] = ticker\n",
    "        Yearly_eps = pd.concat([Yearly_eps,YearEPS])"
   ]
  },
  {
   "cell_type": "code",
   "execution_count": 41,
   "id": "f777106e",
   "metadata": {
    "scrolled": true
   },
   "outputs": [
    {
     "name": "stderr",
     "output_type": "stream",
     "text": [
      "C:\\Users\\CHIN\\AppData\\Local\\Temp/ipykernel_12472/696520969.py:28: SettingWithCopyWarning: \n",
      "A value is trying to be set on a copy of a slice from a DataFrame.\n",
      "Try using .loc[row_indexer,col_indexer] = value instead\n",
      "\n",
      "See the caveats in the documentation: https://pandas.pydata.org/pandas-docs/stable/user_guide/indexing.html#returning-a-view-versus-a-copy\n",
      "  Not_selected['EPS_Rank'] = 999\n"
     ]
    }
   ],
   "source": [
    "selected_stock = Yearly_eps.copy()\n",
    "selected_stock = Yearly_eps[(Yearly_eps['ContinuousIncreaseyearly']==True ) & \n",
    "                            (Yearly_eps['ContinuousIncrease_lastyear']==True )& \n",
    "                            (Yearly_eps['ContinuousIncrease_last2year']==True )& \n",
    "                            (Yearly_eps['ContinuousIncrease_last3year']==True )& \n",
    "                            (Yearly_eps['ContinuousIncrease_last4year']==True )&\n",
    "                            (Yearly_eps['symbol']!='GOOG' ) & \n",
    "                               (Yearly_eps['YearlyEPS_lastyear']>0) &\n",
    "                           (Yearly_eps['YearlyEPS_last2year']>0) &\n",
    "                            (Yearly_eps['YearlyEPS_last3year']>0) &\n",
    "                           (Yearly_eps['YearlyEPS_last4year']>0)]\n",
    "\n",
    "selected_stock = selected_stock[(selected_stock['YearlyEPS_last2year']>0)& (selected_stock['YearlyEPS_lastyear']>0)]\n",
    "\n",
    "# calculate yearly EPS and buy only the one highest growth\n",
    "selected_stock = selected_stock[selected_stock['YearlyEPS']>0]\n",
    "selected_stock['EPS_Rank'] = selected_stock.groupby([ 'Year'])['EPS_GrowthYearly'].rank(ascending=False)\n",
    "Not_selected =Yearly_eps[(Yearly_eps['ContinuousIncreaseyearly']==False )  | \n",
    "                            (Yearly_eps['ContinuousIncrease_lastyear']==False ) | \n",
    "                            (Yearly_eps['ContinuousIncrease_last2year']==False ) | \n",
    "                            (Yearly_eps['ContinuousIncrease_last3year']==False ) | \n",
    "                            (Yearly_eps['ContinuousIncrease_last4year']==False ) | \n",
    "                           (Yearly_eps['YearlyEPS']<0) |\n",
    "                               (Yearly_eps['YearlyEPS_lastyear']<0) |\n",
    "                           (Yearly_eps['YearlyEPS_last2year']<0) |\n",
    "                            (Yearly_eps['YearlyEPS_last3year']<0) |\n",
    "                           (Yearly_eps['YearlyEPS_last4year']<0) ]\n",
    "Not_selected['EPS_Rank'] = 999 \n",
    "selected_stock =pd.concat([selected_stock,Not_selected])\n",
    "selected_stock['InvestedYear'] = selected_stock[ 'Year']+1\n",
    "selected_stock.loc[selected_stock['EPS_Rank']<=5,'Signal']=1\n",
    "selected_stock.loc[selected_stock['EPS_Rank']>5,'Signal']=0\n",
    "selected_stock.reset_index(inplace=True)\n",
    "selected_stock['LastYearEPS_Rank'] = selected_stock.sort_values(by = 'Year').groupby(['symbol'])['EPS_Rank'].shift(1)\n",
    "# define apr as cut off\n",
    "selected_stock['InvestedDateFrom'] = selected_stock['InvestedYear'].astype(str).str[:4]  +'-04-01'\n",
    "selected_stock['InvestedDateTo'] = (selected_stock['InvestedYear']+1).astype(str).str[:4]  +'-04-01'\n",
    "#all_raw = pd.merge(all_raw,YearlyEPS[['symbol', 'InvestedYear','Signal']],left_on = ['symbol','year'], right_on = ['symbol', 'InvestedYear'])"
   ]
  },
  {
   "cell_type": "code",
   "execution_count": 54,
   "id": "2c4ceac3",
   "metadata": {},
   "outputs": [],
   "source": [
    "selected_stock.to_csv('test4.csv')"
   ]
  },
  {
   "cell_type": "code",
   "execution_count": 42,
   "id": "1a37ee00",
   "metadata": {
    "scrolled": false
   },
   "outputs": [
    {
     "name": "stdout",
     "output_type": "stream",
     "text": [
      "ADBE\n"
     ]
    },
    {
     "name": "stderr",
     "output_type": "stream",
     "text": [
      "C:\\Users\\CHIN\\AppData\\Local\\Temp/ipykernel_12472/1728708311.py:2: DeprecationWarning: cafile, capath and cadefault are deprecated, use a custom context instead.\n",
      "  response = urlopen(url, cafile=certifi.where())\n"
     ]
    },
    {
     "name": "stdout",
     "output_type": "stream",
     "text": [
      "AMZN\n",
      "BMY\n",
      "AVGO\n",
      "BRO\n",
      "CDNS\n",
      "CSCO\n",
      "DFS\n",
      "ENPH\n",
      "EXPD\n",
      "FDS\n",
      "FICO\n",
      "FTNT\n",
      "HD\n",
      "INTU\n",
      "LRCX\n",
      "MA\n",
      "MTD\n",
      "NVR\n",
      "PAYC\n",
      "SNPS\n",
      "VRTX\n",
      "WST\n"
     ]
    }
   ],
   "source": [
    "import pandas_ta as ta\n",
    "ticker_all =selected_stock[(selected_stock['Signal']==1)&(selected_stock['Year']>2017)].symbol.unique()\n",
    "all_daily_stock = pd.DataFrame()\n",
    "for ticker_Select in ticker_all:\n",
    "    print(ticker_Select)\n",
    "    #ticker = stock_extract\n",
    "    daily_stock_link = 'https://financialmodelingprep.com/api/v3/historical-price-full/'+ticker_Select+'?apikey='+api\n",
    "    daily_stock = get_jsonparsed_data(daily_stock_link )\n",
    "    daily_stock = pd.json_normalize(daily_stock['historical'])\n",
    "    daily_stock = daily_stock.sort_values(by=['date'])\n",
    "    daily_stock['Symbol'] = ticker_Select\n",
    "    daily_stock['ema20'] = ema(daily_stock,20,'adjClose')\n",
    "    daily_stock['sma20'] = sma(daily_stock,20,'adjClose')\n",
    "    daily_stock['sma60'] = sma(daily_stock,60,'adjClose')\n",
    "    daily_stock['sma120'] = sma(daily_stock,120,'adjClose')\n",
    "    all_daily_stock = pd.concat([all_daily_stock,daily_stock])\n",
    "    "
   ]
  },
  {
   "cell_type": "code",
   "execution_count": 43,
   "id": "0174854d",
   "metadata": {
    "scrolled": true
   },
   "outputs": [],
   "source": [
    "all_raw = pd.merge(all_daily_stock,all_eps, left_on =['Symbol','date'], right_on = ['symbol','date'],how='left')\n",
    "#all_raw['uptrend'] = all_raw['adjClose']>=all_raw['SMA20']\n",
    "all_raw['uptrend'] = all_raw['sma20']>=all_raw['SMA60']\n",
    "all_raw['year'] = pd.to_datetime(all_raw['date']).dt.year\n",
    "all_raw = pd.merge(all_raw,selected_stock[['symbol', 'InvestedYear','Signal','EPS_Rank','LastYearEPS_Rank','InvestedDateFrom','InvestedDateTo']],left_on = ['symbol','year'], right_on = ['symbol', 'InvestedYear'],how='left')\n",
    "all_raw.loc[(all_raw.date>=all_raw.InvestedDateFrom) &(all_raw.date<all_raw.InvestedDateTo) & (all_raw.EPS_Rank<=5),'Signal']=1\n",
    "all_raw.loc[(all_raw.date<all_raw.InvestedDateFrom) & (all_raw.EPS_Rank<=5),'Signal']=0\n",
    "all_raw.loc[(all_raw.date<all_raw.InvestedDateFrom) &  (all_raw.LastYearEPS_Rank<=5),'Signal']=1"
   ]
  },
  {
   "cell_type": "code",
   "execution_count": 44,
   "id": "2d9a37f1",
   "metadata": {
    "scrolled": true
   },
   "outputs": [],
   "source": [
    "all_signal = pd.DataFrame()\n",
    "for stock_pick in all_raw.Symbol.unique():\n",
    "    \n",
    "    temp_data = all_raw[all_raw['symbol']==stock_pick]\n",
    "    temp_data = temp_data.sort_values(by=['date'])\n",
    "    temp_data = Get_Signal(temp_data)\n",
    "    all_signal = pd.concat([all_signal,temp_data])"
   ]
  },
  {
   "cell_type": "markdown",
   "id": "e55d6916",
   "metadata": {},
   "source": [
    "# Open price backtest"
   ]
  },
  {
   "cell_type": "code",
   "execution_count": 45,
   "id": "2f8fedf8",
   "metadata": {},
   "outputs": [],
   "source": [
    "all_signal['Price'] = all_signal['open'] "
   ]
  },
  {
   "cell_type": "code",
   "execution_count": 46,
   "id": "d92f5f51",
   "metadata": {},
   "outputs": [],
   "source": [
    "all_signal.to_csv('signal5.csv')"
   ]
  },
  {
   "cell_type": "code",
   "execution_count": 47,
   "id": "07f24bbb",
   "metadata": {
    "scrolled": true
   },
   "outputs": [
    {
     "name": "stdout",
     "output_type": "stream",
     "text": [
      "2018-12-17 00:00:00\n",
      "1000.0\n",
      "2018-12-18 00:00:00\n",
      "1000.0000000000002\n",
      "2018-12-19 00:00:00\n",
      "1000.0000000000003\n",
      "2018-12-20 00:00:00\n",
      "1000.0000000000005\n",
      "2018-12-21 00:00:00\n",
      "1000.0000000000006\n",
      "2018-12-24 00:00:00\n",
      "1000.0000000000006\n",
      "2018-12-26 00:00:00\n",
      "1000.0000000000006\n",
      "2018-12-27 00:00:00\n",
      "1000.0000000000006\n",
      "2018-12-28 00:00:00\n",
      "1000.0000000000006\n",
      "2018-12-31 00:00:00\n",
      "1000.0000000000006\n",
      "2019-01-02 00:00:00\n",
      "1000.0000000000006\n",
      "2019-01-03 00:00:00\n",
      "1000.0000000000006\n",
      "2019-01-04 00:00:00\n",
      "1000.0000000000006\n",
      "2019-01-07 00:00:00\n",
      "1000.0000000000006\n",
      "2019-01-08 00:00:00\n",
      "1000.0000000000006\n",
      "2019-01-09 00:00:00\n",
      "1000.0000000000006\n",
      "2019-01-10 00:00:00\n",
      "1000.0000000000006\n",
      "2019-01-11 00:00:00\n",
      "1000.0000000000006\n",
      "2019-01-14 00:00:00\n",
      "1000.0000000000006\n",
      "2019-01-15 00:00:00\n",
      "1000.0000000000006\n",
      "2019-01-16 00:00:00\n",
      "1000.0000000000006\n",
      "2019-01-17 00:00:00\n",
      "1000.0000000000006\n",
      "2019-01-18 00:00:00\n",
      "1000.0000000000006\n",
      "2019-01-22 00:00:00\n",
      "1000.0000000000006\n",
      "2019-01-23 00:00:00\n",
      "1000.0000000000006\n",
      "2019-01-24 00:00:00\n",
      "1000.0000000000006\n",
      "2019-01-25 00:00:00\n",
      "1000.0000000000006\n",
      "2019-01-28 00:00:00\n",
      "1000.0000000000006\n",
      "2019-01-29 00:00:00\n",
      "1000.0000000000006\n",
      "2019-01-30 00:00:00\n",
      "1000.0000000000006\n",
      "2019-01-31 00:00:00\n",
      "1000.0000000000006\n",
      "2019-02-01 00:00:00\n",
      "1000.0000000000006\n",
      "2019-02-04 00:00:00\n",
      "1000.0000000000006\n",
      "2019-02-05 00:00:00\n",
      "1000.0000000000006\n",
      "2019-02-06 00:00:00\n",
      "1000.0000000000006\n",
      "2019-02-07 00:00:00\n",
      "1000.0000000000006\n",
      "2019-02-08 00:00:00\n",
      "1000.0000000000006\n",
      "2019-02-11 00:00:00\n",
      "1000.0000000000006\n",
      "2019-02-12 00:00:00\n",
      "1000.0000000000006\n",
      "2019-02-13 00:00:00\n",
      "1000.0000000000006\n",
      "2019-02-14 00:00:00\n",
      "1000.0000000000006\n",
      "2019-02-15 00:00:00\n",
      "1000.0000000000006\n",
      "2019-02-19 00:00:00\n",
      "1000.0000000000006\n",
      "2019-02-20 00:00:00\n",
      "1000.0000000000006\n",
      "2019-02-21 00:00:00\n",
      "1000.0000000000006\n",
      "2019-02-22 00:00:00\n",
      "1000.0000000000006\n",
      "2019-02-25 00:00:00\n",
      "1000.0000000000006\n",
      "2019-02-26 00:00:00\n",
      "1000.0000000000006\n",
      "2019-02-27 00:00:00\n",
      "1000.0000000000006\n",
      "2019-02-28 00:00:00\n",
      "1000.0000000000006\n",
      "2019-03-01 00:00:00\n",
      "1000.0000000000006\n",
      "2019-03-04 00:00:00\n",
      "1000.0000000000006\n",
      "2019-03-05 00:00:00\n",
      "1000.0000000000006\n",
      "2019-03-06 00:00:00\n",
      "1000.0000000000006\n",
      "2019-03-07 00:00:00\n",
      "1000.0000000000006\n",
      "2019-03-08 00:00:00\n",
      "1000.0000000000006\n",
      "2019-03-11 00:00:00\n",
      "1000.0000000000006\n",
      "2019-03-12 00:00:00\n",
      "1000.0000000000006\n",
      "2019-03-13 00:00:00\n",
      "1000.0000000000006\n",
      "2019-03-14 00:00:00\n",
      "1000.0000000000006\n",
      "2019-03-15 00:00:00\n",
      "1000.0000000000006\n",
      "2019-03-18 00:00:00\n",
      "1008.1300000000007\n",
      "2019-03-19 00:00:00\n",
      "1012.7500000000007\n",
      "2019-03-20 00:00:00\n",
      "1016.4700000000006\n",
      "2019-03-21 00:00:00\n",
      "1008.3600000000006\n",
      "2019-03-22 00:00:00\n",
      "1018.7600000000007\n",
      "2019-03-25 00:00:00\n",
      "1009.5300000000007\n",
      "2019-03-26 00:00:00\n",
      "1014.1000000000007\n",
      "2019-03-27 00:00:00\n",
      "1017.7800000000007\n",
      "2019-03-28 00:00:00\n",
      "1014.9500000000006\n",
      "2019-03-29 00:00:00\n",
      "1023.6000000000006\n",
      "2019-04-01 00:00:00\n",
      "1031.3000000000006\n",
      "2019-04-02 00:00:00\n",
      "1033.7600000000007\n",
      "2019-04-03 00:00:00\n",
      "1034.5500000000006\n",
      "2019-04-04 00:00:00\n",
      "1034.2400000000005\n",
      "2019-04-05 00:00:00\n",
      "1034.6600000000005\n",
      "2019-04-08 00:00:00\n",
      "1035.4700000000005\n",
      "2019-04-09 00:00:00\n",
      "1034.9100000000008\n",
      "2019-04-10 00:00:00\n",
      "1032.4500000000007\n",
      "2019-04-11 00:00:00\n",
      "1034.7200000000007\n",
      "2019-04-12 00:00:00\n",
      "1034.7100000000007\n",
      "2019-04-15 00:00:00\n",
      "1034.3900000000008\n",
      "2019-04-16 00:00:00\n",
      "1034.8600000000008\n",
      "2019-04-17 00:00:00\n",
      "1035.9400000000007\n",
      "2019-04-18 00:00:00\n",
      "1035.7300000000007\n",
      "2019-04-22 00:00:00\n",
      "1035.0600000000009\n",
      "2019-04-23 00:00:00\n",
      "1036.8500000000008\n",
      "2019-04-24 00:00:00\n",
      "1038.5400000000009\n",
      "2019-04-25 00:00:00\n",
      "1038.1400000000008\n",
      "2019-04-26 00:00:00\n",
      "1038.7400000000007\n",
      "2019-04-29 00:00:00\n",
      "1039.7400000000007\n",
      "2019-04-30 00:00:00\n",
      "1038.7900000000006\n",
      "2019-05-01 00:00:00\n",
      "1038.9400000000007\n",
      "2019-05-02 00:00:00\n",
      "1037.9600000000007\n",
      "2019-05-03 00:00:00\n",
      "1045.3300000000008\n",
      "2019-05-06 00:00:00\n",
      "1037.170000000001\n",
      "2019-05-07 00:00:00\n",
      "1041.870000000001\n",
      "2019-05-08 00:00:00\n",
      "1032.930000000001\n",
      "2019-05-09 00:00:00\n",
      "1029.880000000001\n",
      "2019-05-10 00:00:00\n",
      "1034.6700000000012\n",
      "2019-05-13 00:00:00\n",
      "1016.6200000000013\n",
      "2019-05-14 00:00:00\n",
      "1008.3650000000011\n",
      "2019-05-15 00:00:00\n",
      "1009.5350000000012\n",
      "2019-05-16 00:00:00\n",
      "1009.5350000000012\n",
      "2019-05-17 00:00:00\n",
      "1029.2150000000013\n",
      "2019-05-20 00:00:00\n",
      "1015.7050000000013\n",
      "2019-05-21 00:00:00\n",
      "1022.4550000000013\n",
      "2019-05-22 00:00:00\n",
      "1034.4950000000013\n",
      "2019-05-23 00:00:00\n",
      "1024.0150000000012\n",
      "2019-05-24 00:00:00\n",
      "1013.7850000000012\n",
      "2019-05-28 00:00:00\n",
      "1018.0150000000012\n",
      "2019-05-29 00:00:00\n",
      "1013.6150000000013\n",
      "2019-05-30 00:00:00\n",
      "1014.0550000000013\n",
      "2019-05-31 00:00:00\n",
      "1014.055000000001\n",
      "2019-06-03 00:00:00\n",
      "1014.0550000000007\n",
      "2019-06-04 00:00:00\n",
      "965.1750000000008\n",
      "2019-06-05 00:00:00\n",
      "1015.0550000000007\n",
      "2019-06-06 00:00:00\n",
      "1035.9350000000009\n",
      "2019-06-07 00:00:00\n",
      "1050.2150000000008\n",
      "2019-06-10 00:00:00\n",
      "1069.4650000000008\n",
      "2019-06-11 00:00:00\n",
      "1062.315000000001\n",
      "2019-06-12 00:00:00\n",
      "1037.9950000000008\n",
      "2019-06-13 00:00:00\n",
      "1040.7150000000008\n",
      "2019-06-14 00:00:00\n",
      "1046.9950000000008\n",
      "2019-06-17 00:00:00\n",
      "1038.835000000001\n",
      "2019-06-18 00:00:00\n",
      "1064.5150000000008\n",
      "2019-06-19 00:00:00\n",
      "1068.1950000000008\n",
      "2019-06-20 00:00:00\n",
      "1089.2250000000008\n",
      "2019-06-21 00:00:00\n",
      "1097.355000000001\n",
      "2019-06-24 00:00:00\n",
      "1092.655000000001\n",
      "2019-06-25 00:00:00\n",
      "1087.565000000001\n",
      "2019-06-26 00:00:00\n",
      "1067.855000000001\n",
      "2019-06-27 00:00:00\n",
      "1063.4350000000009\n",
      "2019-06-28 00:00:00\n",
      "1076.8150000000007\n",
      "2019-07-01 00:00:00\n",
      "1091.9650000000008\n",
      "2019-07-02 00:00:00\n",
      "1086.365000000001\n",
      "2019-07-03 00:00:00\n",
      "1103.055000000001\n",
      "2019-07-05 00:00:00\n",
      "1103.545000000001\n",
      "2019-07-08 00:00:00\n",
      "1106.315000000001\n",
      "2019-07-09 00:00:00\n",
      "1107.365000000001\n",
      "2019-07-10 00:00:00\n",
      "1121.9850000000008\n",
      "2019-07-11 00:00:00\n",
      "1131.9750000000008\n",
      "2019-07-12 00:00:00\n",
      "1129.3250000000007\n",
      "2019-07-15 00:00:00\n",
      "1132.9150000000006\n",
      "2019-07-16 00:00:00\n",
      "1129.1050000000007\n",
      "2019-07-17 00:00:00\n",
      "1124.3450000000007\n",
      "2019-07-18 00:00:00\n",
      "1121.545000000001\n",
      "2019-07-19 00:00:00\n",
      "1125.085000000001\n",
      "2019-07-22 00:00:00\n",
      "1113.2250000000008\n",
      "2019-07-23 00:00:00\n",
      "1124.9650000000008\n",
      "2019-07-24 00:00:00\n",
      "1118.5450000000008\n",
      "2019-07-25 00:00:00\n",
      "1125.4050000000007\n",
      "2019-07-26 00:00:00\n",
      "1117.2750000000005\n",
      "2019-07-29 00:00:00\n",
      "1114.9350000000004\n",
      "2019-07-30 00:00:00\n",
      "1104.2450000000003\n",
      "2019-07-31 00:00:00\n",
      "1105.7950000000003\n",
      "2019-08-01 00:00:00\n",
      "1089.2750000000003\n",
      "2019-08-02 00:00:00\n",
      "1072.8850000000002\n",
      "2019-08-05 00:00:00\n",
      "1046.105\n",
      "2019-08-06 00:00:00\n",
      "1043.455\n",
      "2019-08-07 00:00:00\n",
      "1043.455\n",
      "2019-08-08 00:00:00\n",
      "1043.455\n",
      "2019-08-09 00:00:00\n",
      "1043.455\n",
      "2019-08-12 00:00:00\n",
      "1041.6549999999997\n",
      "2019-08-13 00:00:00\n",
      "1041.8949999999998\n",
      "2019-08-14 00:00:00\n",
      "1040.6949999999997\n",
      "2019-08-15 00:00:00\n",
      "1032.0149999999996\n",
      "2019-08-16 00:00:00\n",
      "1028.0149999999999\n",
      "2019-08-19 00:00:00\n",
      "1028.0149999999999\n",
      "2019-08-20 00:00:00\n",
      "1019.6549999999999\n",
      "2019-08-21 00:00:00\n",
      "1035.6349999999998\n",
      "2019-08-22 00:00:00\n",
      "1037.9349999999997\n",
      "2019-08-23 00:00:00\n",
      "1030.5049999999997\n",
      "2019-08-26 00:00:00\n",
      "1022.6149999999996\n",
      "2019-08-27 00:00:00\n",
      "1036.1749999999995\n",
      "2019-08-28 00:00:00\n",
      "1024.8949999999995\n",
      "2019-08-29 00:00:00\n",
      "1046.3349999999996\n",
      "2019-08-30 00:00:00\n",
      "1050.1549999999995\n",
      "2019-09-03 00:00:00\n",
      "1034.7549999999994\n",
      "2019-09-04 00:00:00\n",
      "1040.3549999999996\n",
      "2019-09-05 00:00:00\n",
      "1071.0949999999996\n",
      "2019-09-06 00:00:00\n",
      "1076.5149999999996\n",
      "2019-09-09 00:00:00\n",
      "1076.0749999999996\n",
      "2019-09-10 00:00:00\n",
      "1025.6549999999995\n",
      "2019-09-11 00:00:00\n",
      "1035.7749999999996\n",
      "2019-09-12 00:00:00\n",
      "1047.0549999999996\n",
      "2019-09-13 00:00:00\n",
      "1053.5749999999996\n",
      "2019-09-16 00:00:00\n",
      "1038.2149999999997\n",
      "2019-09-17 00:00:00\n",
      "1042.2349999999997\n",
      "2019-09-18 00:00:00\n",
      "1044.3449999999998\n",
      "2019-09-19 00:00:00\n",
      "1051.935\n",
      "2019-09-20 00:00:00\n",
      "1047.925\n",
      "2019-09-23 00:00:00\n",
      "1039.455\n",
      "2019-09-24 00:00:00\n",
      "1051.5549999999998\n",
      "2019-09-25 00:00:00\n",
      "1023.5649999999998\n",
      "2019-09-26 00:00:00\n",
      "1059.0049999999997\n",
      "2019-09-27 00:00:00\n",
      "1046.8449999999998\n",
      "2019-09-30 00:00:00\n",
      "1010.5249999999997\n",
      "2019-10-01 00:00:00\n",
      "1010.5249999999994\n",
      "2019-10-02 00:00:00\n",
      "1010.5249999999992\n",
      "2019-10-03 00:00:00\n",
      "1010.524999999999\n",
      "2019-10-04 00:00:00\n",
      "1010.5249999999988\n",
      "2019-10-07 00:00:00\n",
      "1010.5249999999987\n",
      "2019-10-08 00:00:00\n",
      "1010.5249999999987\n",
      "2019-10-09 00:00:00\n",
      "1010.5249999999987\n",
      "2019-10-10 00:00:00\n",
      "1010.5249999999987\n",
      "2019-10-11 00:00:00\n",
      "1010.5249999999987\n",
      "2019-10-14 00:00:00\n",
      "996.9649999999987\n",
      "2019-10-15 00:00:00\n",
      "1002.3249999999987\n",
      "2019-10-16 00:00:00\n",
      "1003.2849999999987\n",
      "2019-10-17 00:00:00\n",
      "1006.8449999999987\n",
      "2019-10-18 00:00:00\n",
      "994.0849999999987\n",
      "2019-10-21 00:00:00\n",
      "999.2049999999987\n",
      "2019-10-22 00:00:00\n",
      "999.2049999999983\n",
      "2019-10-23 00:00:00\n",
      "999.2049999999981\n",
      "2019-10-24 00:00:00\n",
      "1078.724999999998\n"
     ]
    },
    {
     "name": "stdout",
     "output_type": "stream",
     "text": [
      "2019-10-25 00:00:00\n",
      "1104.1949999999981\n",
      "2019-10-28 00:00:00\n",
      "1127.1749999999981\n",
      "2019-10-29 00:00:00\n",
      "1144.1549999999982\n",
      "2019-10-30 00:00:00\n",
      "1133.764999999998\n",
      "2019-10-31 00:00:00\n",
      "1134.3149999999982\n",
      "2019-11-01 00:00:00\n",
      "1131.5649999999982\n",
      "2019-11-04 00:00:00\n",
      "1150.454999999998\n",
      "2019-11-05 00:00:00\n",
      "1155.034999999998\n",
      "2019-11-06 00:00:00\n",
      "1155.9149999999981\n",
      "2019-11-07 00:00:00\n",
      "1163.014999999998\n",
      "2019-11-08 00:00:00\n",
      "1143.4049999999982\n",
      "2019-11-11 00:00:00\n",
      "1141.454999999998\n",
      "2019-11-12 00:00:00\n",
      "1156.1349999999982\n",
      "2019-11-13 00:00:00\n",
      "1141.1549999999982\n",
      "2019-11-14 00:00:00\n",
      "1145.284999999998\n",
      "2019-11-15 00:00:00\n",
      "1163.4849999999979\n",
      "2019-11-18 00:00:00\n",
      "1168.2749999999978\n",
      "2019-11-19 00:00:00\n",
      "1176.1149999999977\n",
      "2019-11-20 00:00:00\n",
      "1167.4149999999977\n",
      "2019-11-21 00:00:00\n",
      "1151.9949999999978\n",
      "2019-11-22 00:00:00\n",
      "1157.5049999999976\n",
      "2019-11-25 00:00:00\n",
      "1160.9649999999976\n",
      "2019-11-26 00:00:00\n",
      "1171.8749999999977\n",
      "2019-11-27 00:00:00\n",
      "1181.6549999999977\n",
      "2019-11-29 00:00:00\n",
      "1184.1349999999977\n",
      "2019-12-02 00:00:00\n",
      "1180.0549999999978\n",
      "2019-12-03 00:00:00\n",
      "1155.5649999999978\n",
      "2019-12-04 00:00:00\n",
      "1178.2249999999976\n",
      "2019-12-05 00:00:00\n",
      "1174.0349999999976\n",
      "2019-12-06 00:00:00\n",
      "1173.2449999999976\n",
      "2019-12-09 00:00:00\n",
      "1174.7549999999976\n",
      "2019-12-10 00:00:00\n",
      "1173.0749999999975\n",
      "2019-12-11 00:00:00\n",
      "1167.5149999999974\n",
      "2019-12-12 00:00:00\n",
      "1168.2449999999974\n",
      "2019-12-13 00:00:00\n",
      "1170.9849999999974\n",
      "2019-12-16 00:00:00\n",
      "1178.3149999999973\n",
      "2019-12-17 00:00:00\n",
      "1190.2049999999974\n",
      "2019-12-18 00:00:00\n",
      "1196.6649999999975\n",
      "2019-12-19 00:00:00\n",
      "1194.7049999999974\n",
      "2019-12-20 00:00:00\n",
      "1204.7349999999974\n",
      "2019-12-23 00:00:00\n",
      "1203.6149999999975\n",
      "2019-12-24 00:00:00\n",
      "1201.7649999999976\n",
      "2019-12-26 00:00:00\n",
      "1202.1249999999977\n",
      "2019-12-27 00:00:00\n",
      "1215.3749999999977\n",
      "2019-12-30 00:00:00\n",
      "1214.4749999999976\n",
      "2019-12-31 00:00:00\n",
      "1211.2749999999976\n",
      "2020-01-02 00:00:00\n",
      "1225.9049999999975\n",
      "2020-01-03 00:00:00\n",
      "1219.2249999999974\n",
      "2020-01-06 00:00:00\n",
      "1218.7849999999976\n",
      "2020-01-07 00:00:00\n",
      "1223.2249999999976\n",
      "2020-01-08 00:00:00\n",
      "1230.1449999999977\n",
      "2020-01-09 00:00:00\n",
      "1241.0149999999976\n",
      "2020-01-10 00:00:00\n",
      "1238.8449999999978\n",
      "2020-01-13 00:00:00\n",
      "1234.5149999999976\n",
      "2020-01-14 00:00:00\n",
      "1245.9649999999976\n",
      "2020-01-15 00:00:00\n",
      "1236.1649999999977\n",
      "2020-01-16 00:00:00\n",
      "1242.4149999999977\n",
      "2020-01-17 00:00:00\n",
      "1253.1249999999977\n",
      "2020-01-21 00:00:00\n",
      "1251.5649999999978\n",
      "2020-01-22 00:00:00\n",
      "1265.9649999999979\n",
      "2020-01-23 00:00:00\n",
      "1280.4649999999979\n",
      "2020-01-24 00:00:00\n",
      "1281.0849999999978\n",
      "2020-01-27 00:00:00\n",
      "1273.9449999999977\n",
      "2020-01-28 00:00:00\n",
      "1278.3349999999978\n",
      "2020-01-29 00:00:00\n",
      "1300.9514999999978\n",
      "2020-01-30 00:00:00\n",
      "1294.668499999998\n",
      "2020-01-31 00:00:00\n",
      "1306.114999999998\n",
      "2020-02-03 00:00:00\n",
      "1293.354999999998\n",
      "2020-02-04 00:00:00\n",
      "1319.874999999998\n",
      "2020-02-05 00:00:00\n",
      "1354.144999999998\n",
      "2020-02-06 00:00:00\n",
      "1344.4149999999981\n",
      "2020-02-07 00:00:00\n",
      "1328.3749999999982\n",
      "2020-02-10 00:00:00\n",
      "1329.7649999999983\n",
      "2020-02-11 00:00:00\n",
      "1359.4049999999982\n",
      "2020-02-12 00:00:00\n",
      "1364.6249999999982\n",
      "2020-02-13 00:00:00\n",
      "1369.954999999998\n",
      "2020-02-14 00:00:00\n",
      "1381.3449999999982\n",
      "2020-02-18 00:00:00\n",
      "1348.6649999999981\n",
      "2020-02-19 00:00:00\n",
      "1352.9449999999981\n",
      "2020-02-20 00:00:00\n",
      "1358.6749999999981\n",
      "2020-02-21 00:00:00\n",
      "1332.3449999999982\n",
      "2020-02-24 00:00:00\n",
      "1254.8949999999982\n",
      "2020-02-25 00:00:00\n",
      "1267.464999999998\n",
      "2020-02-26 00:00:00\n",
      "1267.4649999999983\n",
      "2020-02-27 00:00:00\n",
      "1267.4649999999983\n",
      "2020-02-28 00:00:00\n",
      "1267.4649999999983\n",
      "2020-03-02 00:00:00\n",
      "1267.4649999999983\n",
      "2020-03-03 00:00:00\n",
      "1267.4649999999983\n",
      "2020-03-04 00:00:00\n",
      "1267.4649999999983\n",
      "2020-03-05 00:00:00\n",
      "1267.4649999999983\n",
      "2020-03-06 00:00:00\n",
      "1267.4649999999983\n",
      "2020-03-09 00:00:00\n",
      "1267.4649999999983\n",
      "2020-03-10 00:00:00\n",
      "1267.4649999999983\n",
      "2020-03-11 00:00:00\n",
      "1267.4649999999983\n",
      "2020-03-12 00:00:00\n",
      "1267.4649999999983\n",
      "2020-03-13 00:00:00\n",
      "1267.4649999999983\n",
      "2020-03-16 00:00:00\n",
      "1267.4649999999983\n",
      "2020-03-17 00:00:00\n",
      "1267.4649999999983\n",
      "2020-03-18 00:00:00\n",
      "1267.4649999999983\n",
      "2020-03-19 00:00:00\n",
      "1267.4649999999983\n",
      "2020-03-20 00:00:00\n",
      "1267.4649999999983\n",
      "2020-03-23 00:00:00\n",
      "1267.4649999999983\n",
      "2020-03-24 00:00:00\n",
      "1267.4649999999983\n",
      "2020-03-25 00:00:00\n",
      "1267.4649999999983\n",
      "2020-03-26 00:00:00\n",
      "1267.4649999999983\n",
      "2020-03-27 00:00:00\n",
      "1267.4649999999983\n",
      "2020-03-30 00:00:00\n",
      "1267.4649999999983\n",
      "2020-03-31 00:00:00\n",
      "1267.4649999999983\n",
      "2020-04-01 00:00:00\n",
      "1267.4649999999983\n",
      "2020-04-02 00:00:00\n",
      "1267.4649999999983\n",
      "2020-04-03 00:00:00\n",
      "1267.4649999999983\n",
      "2020-04-06 00:00:00\n",
      "1267.4649999999983\n",
      "2020-04-07 00:00:00\n",
      "1267.4649999999983\n",
      "2020-04-08 00:00:00\n",
      "1267.4649999999983\n",
      "2020-04-09 00:00:00\n",
      "1267.4649999999983\n",
      "2020-04-13 00:00:00\n",
      "1267.4649999999983\n",
      "2020-04-14 00:00:00\n",
      "1267.4649999999983\n",
      "2020-04-15 00:00:00\n",
      "1267.4649999999983\n",
      "2020-04-16 00:00:00\n",
      "1267.4649999999983\n",
      "2020-04-17 00:00:00\n",
      "1267.4649999999983\n",
      "2020-04-20 00:00:00\n",
      "1267.4649999999983\n",
      "2020-04-21 00:00:00\n",
      "1267.4649999999983\n",
      "2020-04-22 00:00:00\n",
      "1267.4649999999983\n",
      "2020-04-23 00:00:00\n",
      "1267.4649999999983\n",
      "2020-04-24 00:00:00\n",
      "1267.4649999999983\n",
      "2020-04-27 00:00:00\n",
      "1267.4649999999983\n",
      "2020-04-28 00:00:00\n",
      "1267.4649999999983\n",
      "2020-04-29 00:00:00\n",
      "1261.6649999999981\n",
      "2020-04-30 00:00:00\n",
      "1273.2649999999985\n",
      "2020-05-01 00:00:00\n",
      "1239.3349999999982\n",
      "2020-05-04 00:00:00\n",
      "1220.4349999999986\n",
      "2020-05-05 00:00:00\n",
      "1220.4349999999986\n",
      "2020-05-06 00:00:00\n",
      "1220.4349999999986\n",
      "2020-05-07 00:00:00\n",
      "1341.9849999999985\n",
      "2020-05-08 00:00:00\n",
      "1488.2849999999985\n",
      "2020-05-11 00:00:00\n",
      "1501.4849999999985\n",
      "2020-05-12 00:00:00\n",
      "1556.0349999999985\n",
      "2020-05-13 00:00:00\n",
      "1523.8149999999985\n",
      "2020-05-14 00:00:00\n",
      "1498.0149999999985\n",
      "2020-05-15 00:00:00\n",
      "1515.0749999999985\n",
      "2020-05-18 00:00:00\n",
      "1584.3949999999984\n",
      "2020-05-19 00:00:00\n",
      "1578.5349999999985\n",
      "2020-05-20 00:00:00\n",
      "1605.0149999999985\n",
      "2020-05-21 00:00:00\n",
      "1612.0149999999985\n",
      "2020-05-22 00:00:00\n",
      "1596.4549999999986\n",
      "2020-05-26 00:00:00\n",
      "1631.4449999999983\n",
      "2020-05-27 00:00:00\n",
      "1602.6249999999982\n",
      "2020-05-28 00:00:00\n",
      "1611.1649999999984\n",
      "2020-05-29 00:00:00\n",
      "1610.5249999999983\n",
      "2020-06-01 00:00:00\n",
      "1622.6849999999984\n",
      "2020-06-02 00:00:00\n",
      "1653.7349999999983\n",
      "2020-06-03 00:00:00\n",
      "1681.9849999999983\n",
      "2020-06-04 00:00:00\n",
      "1677.9149999999984\n",
      "2020-06-05 00:00:00\n",
      "1724.0149999999985\n",
      "2020-06-08 00:00:00\n",
      "1740.7949999999983\n",
      "2020-06-09 00:00:00\n",
      "1696.3549999999982\n",
      "2020-06-10 00:00:00\n",
      "1713.8849999999982\n",
      "2020-06-11 00:00:00\n",
      "1642.7649999999983\n",
      "2020-06-12 00:00:00\n",
      "1627.3049999999982\n",
      "2020-06-15 00:00:00\n",
      "1568.6249999999982\n",
      "2020-06-16 00:00:00\n",
      "1707.6249999999982\n",
      "2020-06-17 00:00:00\n",
      "1685.3849999999982\n",
      "2020-06-18 00:00:00\n",
      "1658.804999999998\n",
      "2020-06-19 00:00:00\n",
      "1681.134999999998\n",
      "2020-06-22 00:00:00\n",
      "1654.754999999998\n",
      "2020-06-23 00:00:00\n",
      "1677.744999999998\n",
      "2020-06-24 00:00:00\n",
      "1627.6849999999977\n",
      "2020-06-25 00:00:00\n",
      "1586.1849999999977\n",
      "2020-06-26 00:00:00\n",
      "1599.7849999999976\n",
      "2020-06-29 00:00:00\n",
      "1599.784999999998\n",
      "2020-06-30 00:00:00\n",
      "1593.3249999999978\n",
      "2020-07-01 00:00:00\n",
      "1606.5849999999978\n",
      "2020-07-02 00:00:00\n",
      "1624.4849999999979\n",
      "2020-07-06 00:00:00\n",
      "1618.2349999999979\n",
      "2020-07-07 00:00:00\n",
      "1591.494999999998\n",
      "2020-07-08 00:00:00\n",
      "1591.744999999998\n",
      "2020-07-09 00:00:00\n",
      "1662.114999999998\n",
      "2020-07-10 00:00:00\n",
      "1667.0749999999978\n",
      "2020-07-13 00:00:00\n",
      "1643.5649999999978\n",
      "2020-07-14 00:00:00\n",
      "1546.7449999999978\n",
      "2020-07-15 00:00:00\n",
      "1581.0849999999978\n",
      "2020-07-16 00:00:00\n",
      "1567.424999999998\n",
      "2020-07-17 00:00:00\n",
      "1570.7249999999976\n",
      "2020-07-20 00:00:00\n",
      "1558.8449999999978\n",
      "2020-07-21 00:00:00\n",
      "1573.3349999999978\n",
      "2020-07-22 00:00:00\n",
      "1564.7349999999976\n",
      "2020-07-23 00:00:00\n",
      "1574.0549999999976\n",
      "2020-07-24 00:00:00\n",
      "1581.0049999999976\n",
      "2020-07-27 00:00:00\n",
      "1565.2149999999974\n",
      "2020-07-28 00:00:00\n",
      "1574.9549999999974\n",
      "2020-07-29 00:00:00\n",
      "1558.7249999999974\n",
      "2020-07-30 00:00:00\n",
      "1560.2549999999974\n",
      "2020-07-31 00:00:00\n",
      "1591.1849999999972\n",
      "2020-08-03 00:00:00\n",
      "1587.7049999999972\n",
      "2020-08-04 00:00:00\n",
      "1584.4849999999974\n",
      "2020-08-05 00:00:00\n",
      "1593.9549999999974\n",
      "2020-08-06 00:00:00\n",
      "1600.7349999999974\n",
      "2020-08-07 00:00:00\n",
      "1598.7049999999972\n",
      "2020-08-10 00:00:00\n",
      "1612.5349999999971\n",
      "2020-08-11 00:00:00\n",
      "1644.7549999999972\n",
      "2020-08-12 00:00:00\n",
      "1652.2749999999971\n",
      "2020-08-13 00:00:00\n",
      "1598.104999999997\n",
      "2020-08-14 00:00:00\n",
      "1581.734999999997\n",
      "2020-08-17 00:00:00\n",
      "1592.904999999997\n",
      "2020-08-18 00:00:00\n",
      "1577.884999999997\n",
      "2020-08-19 00:00:00\n",
      "1548.0249999999971\n",
      "2020-08-20 00:00:00\n",
      "1548.624999999997\n",
      "2020-08-21 00:00:00\n",
      "1579.864999999997\n",
      "2020-08-24 00:00:00\n",
      "1585.304999999997\n",
      "2020-08-25 00:00:00\n",
      "1606.704999999997\n",
      "2020-08-26 00:00:00\n",
      "1619.864999999997\n",
      "2020-08-27 00:00:00\n",
      "1634.7849999999971\n"
     ]
    },
    {
     "name": "stdout",
     "output_type": "stream",
     "text": [
      "2020-08-28 00:00:00\n",
      "1657.7849999999971\n",
      "2020-08-31 00:00:00\n",
      "1678.934999999997\n",
      "2020-09-01 00:00:00\n",
      "1633.6449999999968\n",
      "2020-09-02 00:00:00\n",
      "1640.6549999999966\n",
      "2020-09-03 00:00:00\n",
      "1650.7449999999967\n",
      "2020-09-04 00:00:00\n",
      "1628.8949999999963\n",
      "2020-09-08 00:00:00\n",
      "1598.8749999999964\n",
      "2020-09-09 00:00:00\n",
      "1586.8349999999962\n",
      "2020-09-10 00:00:00\n",
      "1580.9549999999963\n",
      "2020-09-11 00:00:00\n",
      "1546.5149999999965\n",
      "2020-09-14 00:00:00\n",
      "1582.9149999999963\n",
      "2020-09-15 00:00:00\n",
      "1653.7549999999962\n",
      "2020-09-16 00:00:00\n",
      "1629.1149999999961\n",
      "2020-09-17 00:00:00\n",
      "1632.6649999999963\n",
      "2020-09-18 00:00:00\n",
      "1666.2249999999963\n",
      "2020-09-21 00:00:00\n",
      "1609.7749999999965\n",
      "2020-09-22 00:00:00\n",
      "1578.3149999999964\n",
      "2020-09-23 00:00:00\n",
      "1578.3149999999969\n",
      "2020-09-24 00:00:00\n",
      "1578.314999999997\n",
      "2020-09-25 00:00:00\n",
      "1578.3149999999973\n",
      "2020-09-28 00:00:00\n",
      "1578.3149999999976\n",
      "2020-09-29 00:00:00\n",
      "1578.3149999999976\n",
      "2020-09-30 00:00:00\n",
      "1576.0749999999975\n",
      "2020-10-01 00:00:00\n",
      "1599.7949999999978\n",
      "2020-10-02 00:00:00\n",
      "1590.9449999999977\n",
      "2020-10-05 00:00:00\n",
      "1656.7849999999978\n",
      "2020-10-06 00:00:00\n",
      "1681.0749999999975\n",
      "2020-10-07 00:00:00\n",
      "1659.4549999999977\n",
      "2020-10-08 00:00:00\n",
      "1688.3449999999975\n",
      "2020-10-09 00:00:00\n",
      "1696.8249999999975\n",
      "2020-10-12 00:00:00\n",
      "1701.2849999999976\n",
      "2020-10-13 00:00:00\n",
      "1684.7749999999978\n",
      "2020-10-14 00:00:00\n",
      "1683.5749999999975\n",
      "2020-10-15 00:00:00\n",
      "1655.1849999999974\n",
      "2020-10-16 00:00:00\n",
      "1680.1849999999974\n",
      "2020-10-19 00:00:00\n",
      "1683.5749999999975\n",
      "2020-10-20 00:00:00\n",
      "1663.6849999999977\n",
      "2020-10-21 00:00:00\n",
      "1628.1849999999974\n",
      "2020-10-22 00:00:00\n",
      "1690.4349999999974\n",
      "2020-10-23 00:00:00\n",
      "1690.434999999997\n",
      "2020-10-26 00:00:00\n",
      "1690.4349999999965\n",
      "2020-10-27 00:00:00\n",
      "1666.9349999999968\n",
      "2020-10-28 00:00:00\n",
      "1602.1849999999968\n",
      "2020-10-29 00:00:00\n",
      "1573.4349999999968\n",
      "2020-10-30 00:00:00\n",
      "1573.4349999999972\n",
      "2020-11-02 00:00:00\n",
      "1573.4349999999977\n",
      "2020-11-03 00:00:00\n",
      "1638.5249999999976\n",
      "2020-11-04 00:00:00\n",
      "1609.5449999999978\n",
      "2020-11-05 00:00:00\n",
      "1637.8349999999975\n",
      "2020-11-06 00:00:00\n",
      "1644.0449999999978\n",
      "2020-11-09 00:00:00\n",
      "1783.6549999999977\n",
      "2020-11-10 00:00:00\n",
      "1817.9249999999977\n",
      "2020-11-11 00:00:00\n",
      "1809.8749999999977\n",
      "2020-11-12 00:00:00\n",
      "1737.6549999999977\n",
      "2020-11-13 00:00:00\n",
      "1757.2049999999977\n",
      "2020-11-16 00:00:00\n",
      "1875.6549999999977\n",
      "2020-11-17 00:00:00\n",
      "1818.6149999999975\n",
      "2020-11-18 00:00:00\n",
      "1835.2749999999978\n",
      "2020-11-19 00:00:00\n",
      "1804.8049999999976\n",
      "2020-11-20 00:00:00\n",
      "1825.8849999999975\n",
      "2020-11-23 00:00:00\n",
      "1831.2649999999976\n",
      "2020-11-24 00:00:00\n",
      "1880.0849999999975\n",
      "2020-11-25 00:00:00\n",
      "1876.2849999999976\n",
      "2020-11-27 00:00:00\n",
      "1859.0849999999975\n",
      "2020-11-30 00:00:00\n",
      "1842.1749999999975\n",
      "2020-12-01 00:00:00\n",
      "1857.2149999999974\n",
      "2020-12-02 00:00:00\n",
      "1866.7649999999976\n",
      "2020-12-03 00:00:00\n",
      "1893.2249999999979\n",
      "2020-12-04 00:00:00\n",
      "1893.5849999999978\n",
      "2020-12-07 00:00:00\n",
      "1905.6749999999977\n",
      "2020-12-08 00:00:00\n",
      "1894.9449999999977\n",
      "2020-12-09 00:00:00\n",
      "1907.8749999999977\n",
      "2020-12-10 00:00:00\n",
      "1898.3649999999977\n",
      "2020-12-11 00:00:00\n",
      "1895.8049999999978\n",
      "2020-12-14 00:00:00\n",
      "1913.2949999999978\n",
      "2020-12-15 00:00:00\n",
      "1921.9649999999979\n",
      "2020-12-16 00:00:00\n",
      "1933.424999999998\n",
      "2020-12-17 00:00:00\n",
      "1950.3549999999977\n",
      "2020-12-18 00:00:00\n",
      "1962.404999999998\n",
      "2020-12-21 00:00:00\n",
      "1970.404999999998\n",
      "2020-12-22 00:00:00\n",
      "1980.104999999998\n",
      "2020-12-23 00:00:00\n",
      "2005.674999999998\n",
      "2020-12-24 00:00:00\n",
      "2001.7549999999978\n",
      "2020-12-28 00:00:00\n",
      "2010.4749999999976\n",
      "2020-12-29 00:00:00\n",
      "2018.1049999999975\n",
      "2020-12-30 00:00:00\n",
      "2011.9849999999979\n",
      "2020-12-31 00:00:00\n",
      "2019.164999999998\n",
      "2021-01-04 00:00:00\n",
      "2046.1149999999975\n",
      "2021-01-05 00:00:00\n",
      "1982.6749999999975\n",
      "2021-01-06 00:00:00\n",
      "1987.3549999999975\n",
      "2021-01-07 00:00:00\n",
      "2024.5849999999975\n",
      "2021-01-08 00:00:00\n",
      "2037.4949999999976\n",
      "2021-01-11 00:00:00\n",
      "2034.6149999999975\n",
      "2021-01-12 00:00:00\n",
      "2044.6849999999977\n",
      "2021-01-13 00:00:00\n",
      "2055.654999999998\n",
      "2021-01-14 00:00:00\n",
      "2044.854999999998\n",
      "2021-01-15 00:00:00\n",
      "2016.304999999998\n",
      "2021-01-19 00:00:00\n",
      "2034.404999999998\n",
      "2021-01-20 00:00:00\n",
      "2052.904999999998\n",
      "2021-01-21 00:00:00\n",
      "2022.344999999998\n",
      "2021-01-22 00:00:00\n",
      "1987.814999999998\n",
      "2021-01-25 00:00:00\n",
      "1985.754999999998\n",
      "2021-01-26 00:00:00\n",
      "1980.214999999998\n",
      "2021-01-27 00:00:00\n",
      "1961.034999999998\n",
      "2021-01-28 00:00:00\n",
      "1937.684999999998\n",
      "2021-01-29 00:00:00\n",
      "1926.6849999999981\n",
      "2021-02-01 00:00:00\n",
      "1929.6249999999982\n",
      "2021-02-02 00:00:00\n",
      "1929.6249999999986\n",
      "2021-02-03 00:00:00\n",
      "1989.1449999999986\n",
      "2021-02-04 00:00:00\n",
      "1974.0649999999985\n",
      "2021-02-05 00:00:00\n",
      "2048.4849999999983\n",
      "2021-02-08 00:00:00\n",
      "2067.9949999999985\n",
      "2021-02-09 00:00:00\n",
      "2082.9749999999985\n",
      "2021-02-10 00:00:00\n",
      "2048.744999999998\n",
      "2021-02-11 00:00:00\n",
      "2075.414999999998\n",
      "2021-02-12 00:00:00\n",
      "2069.9549999999986\n",
      "2021-02-16 00:00:00\n",
      "2087.2449999999985\n",
      "2021-02-17 00:00:00\n",
      "2075.904999999999\n",
      "2021-02-18 00:00:00\n",
      "2053.0149999999985\n",
      "2021-02-19 00:00:00\n",
      "2088.4149999999986\n",
      "2021-02-22 00:00:00\n",
      "2106.2549999999987\n",
      "2021-02-23 00:00:00\n",
      "2111.084999999999\n",
      "2021-02-24 00:00:00\n",
      "2129.744999999999\n",
      "2021-02-25 00:00:00\n",
      "2162.2749999999987\n",
      "2021-02-26 00:00:00\n",
      "2117.334999999999\n",
      "2021-03-01 00:00:00\n",
      "2148.1349999999993\n",
      "2021-03-02 00:00:00\n",
      "2168.0549999999994\n",
      "2021-03-03 00:00:00\n",
      "2160.0049999999997\n",
      "2021-03-04 00:00:00\n",
      "2129.1349999999998\n",
      "2021-03-05 00:00:00\n",
      "2126.125\n",
      "2021-03-08 00:00:00\n",
      "2151.285\n",
      "2021-03-09 00:00:00\n",
      "2167.885\n",
      "2021-03-10 00:00:00\n",
      "2181.7550000000006\n",
      "2021-03-11 00:00:00\n",
      "2210.2950000000005\n",
      "2021-03-12 00:00:00\n",
      "2231.7850000000008\n",
      "2021-03-15 00:00:00\n",
      "2239.245000000001\n",
      "2021-03-16 00:00:00\n",
      "2245.3850000000007\n",
      "2021-03-17 00:00:00\n",
      "2228.745000000001\n",
      "2021-03-18 00:00:00\n",
      "2191.5750000000007\n",
      "2021-03-19 00:00:00\n",
      "2140.1350000000007\n",
      "2021-03-22 00:00:00\n",
      "2127.245000000001\n",
      "2021-03-23 00:00:00\n",
      "2173.685000000001\n",
      "2021-03-24 00:00:00\n",
      "2158.505000000001\n",
      "2021-03-25 00:00:00\n",
      "2129.945000000001\n",
      "2021-03-26 00:00:00\n",
      "2130.785000000001\n",
      "2021-03-29 00:00:00\n",
      "2206.3850000000007\n",
      "2021-03-30 00:00:00\n",
      "2201.1950000000006\n",
      "2021-03-31 00:00:00\n",
      "2205.2150000000006\n",
      "2021-04-01 00:00:00\n",
      "2223.635\n",
      "2021-04-05 00:00:00\n",
      "2218.215\n",
      "2021-04-06 00:00:00\n",
      "2243.005\n",
      "2021-04-07 00:00:00\n",
      "2244.835\n",
      "2021-04-08 00:00:00\n",
      "2248.785\n",
      "2021-04-09 00:00:00\n",
      "2251.2349999999997\n",
      "2021-04-12 00:00:00\n",
      "2261.575\n",
      "2021-04-13 00:00:00\n",
      "2268.9649999999997\n",
      "2021-04-14 00:00:00\n",
      "2275.9449999999997\n",
      "2021-04-15 00:00:00\n",
      "2287.9149999999995\n",
      "2021-04-16 00:00:00\n",
      "2321.9949999999994\n",
      "2021-04-19 00:00:00\n",
      "2323.095\n",
      "2021-04-20 00:00:00\n",
      "2328.265\n",
      "2021-04-21 00:00:00\n",
      "2318.705\n",
      "2021-04-22 00:00:00\n",
      "2323.015\n",
      "2021-04-23 00:00:00\n",
      "2314.605\n",
      "2021-04-26 00:00:00\n",
      "2324.035\n",
      "2021-04-27 00:00:00\n",
      "2323.6349999999998\n",
      "2021-04-28 00:00:00\n",
      "2324.225\n",
      "2021-04-29 00:00:00\n",
      "2318.1349999999998\n",
      "2021-04-30 00:00:00\n",
      "2300.3149999999996\n",
      "2021-05-03 00:00:00\n",
      "2301.1549999999997\n",
      "2021-05-04 00:00:00\n",
      "2286.0149999999994\n",
      "2021-05-05 00:00:00\n",
      "2284.3449999999993\n",
      "2021-05-06 00:00:00\n",
      "2279.4249999999993\n",
      "2021-05-07 00:00:00\n",
      "2288.6849999999995\n",
      "2021-05-10 00:00:00\n",
      "2303.3849999999998\n",
      "2021-05-11 00:00:00\n",
      "2283.045\n",
      "2021-05-12 00:00:00\n",
      "2252.085\n",
      "2021-05-13 00:00:00\n",
      "2217.195\n",
      "2021-05-14 00:00:00\n",
      "2242.155\n",
      "2021-05-17 00:00:00\n",
      "2242.3950000000004\n",
      "2021-05-18 00:00:00\n",
      "2239.4150000000004\n",
      "2021-05-19 00:00:00\n",
      "2219.215\n",
      "2021-05-20 00:00:00\n",
      "2219.215\n",
      "2021-05-21 00:00:00\n",
      "2282.575\n",
      "2021-05-24 00:00:00\n",
      "2279.7149999999997\n",
      "2021-05-25 00:00:00\n",
      "2278.015\n",
      "2021-05-26 00:00:00\n",
      "2289.365\n",
      "2021-05-27 00:00:00\n",
      "2270.6749999999993\n",
      "2021-05-28 00:00:00\n",
      "2268.2249999999995\n",
      "2021-06-01 00:00:00\n",
      "2286.625\n",
      "2021-06-02 00:00:00\n",
      "2241.3449999999993\n",
      "2021-06-03 00:00:00\n",
      "2193.284999999999\n",
      "2021-06-04 00:00:00\n",
      "2193.284999999999\n",
      "2021-06-07 00:00:00\n",
      "2193.284999999999\n",
      "2021-06-08 00:00:00\n",
      "2193.284999999999\n",
      "2021-06-09 00:00:00\n",
      "2193.284999999999\n",
      "2021-06-10 00:00:00\n",
      "2193.284999999999\n",
      "2021-06-11 00:00:00\n",
      "2229.1049999999987\n",
      "2021-06-14 00:00:00\n",
      "2229.3149999999987\n",
      "2021-06-15 00:00:00\n",
      "2233.214999999999\n",
      "2021-06-16 00:00:00\n",
      "2231.034999999999\n",
      "2021-06-17 00:00:00\n",
      "2218.434999999999\n",
      "2021-06-18 00:00:00\n",
      "2227.104999999999\n",
      "2021-06-21 00:00:00\n",
      "2236.894999999999\n",
      "2021-06-22 00:00:00\n",
      "2240.754999999999\n",
      "2021-06-23 00:00:00\n",
      "2248.454999999999\n",
      "2021-06-24 00:00:00\n",
      "2251.9649999999992\n",
      "2021-06-25 00:00:00\n",
      "2233.994999999999\n",
      "2021-06-28 00:00:00\n",
      "2223.9449999999993\n",
      "2021-06-29 00:00:00\n",
      "2230.104999999999\n",
      "2021-06-30 00:00:00\n",
      "2223.6749999999993\n",
      "2021-07-01 00:00:00\n",
      "2222.124999999999\n",
      "2021-07-02 00:00:00\n",
      "2236.9049999999993\n",
      "2021-07-06 00:00:00\n",
      "2256.804999999999\n",
      "2021-07-07 00:00:00\n",
      "2305.5949999999984\n",
      "2021-07-08 00:00:00\n",
      "2287.4349999999986\n",
      "2021-07-09 00:00:00\n",
      "2313.2249999999985\n",
      "2021-07-12 00:00:00\n",
      "2324.684999999998\n",
      "2021-07-13 00:00:00\n",
      "2317.8649999999984\n"
     ]
    },
    {
     "name": "stdout",
     "output_type": "stream",
     "text": [
      "2021-07-14 00:00:00\n",
      "2318.6549999999984\n",
      "2021-07-15 00:00:00\n",
      "2311.3149999999982\n",
      "2021-07-16 00:00:00\n",
      "2302.3049999999976\n",
      "2021-07-19 00:00:00\n",
      "2271.0849999999973\n",
      "2021-07-20 00:00:00\n",
      "2274.9849999999974\n",
      "2021-07-21 00:00:00\n",
      "2302.4649999999974\n",
      "2021-07-22 00:00:00\n",
      "2294.4549999999977\n",
      "2021-07-23 00:00:00\n",
      "2318.7649999999976\n",
      "2021-07-26 00:00:00\n",
      "2328.564999999998\n",
      "2021-07-27 00:00:00\n",
      "2324.744999999998\n",
      "2021-07-28 00:00:00\n",
      "2312.674999999998\n",
      "2021-07-29 00:00:00\n",
      "2330.454999999998\n",
      "2021-07-30 00:00:00\n",
      "2303.264999999998\n",
      "2021-08-02 00:00:00\n",
      "2315.734999999998\n",
      "2021-08-03 00:00:00\n",
      "2315.634999999998\n",
      "2021-08-04 00:00:00\n",
      "2334.594999999998\n",
      "2021-08-05 00:00:00\n",
      "2340.8549999999977\n",
      "2021-08-06 00:00:00\n",
      "2337.494999999998\n",
      "2021-08-09 00:00:00\n",
      "2330.5649999999982\n",
      "2021-08-10 00:00:00\n",
      "2323.304999999998\n",
      "2021-08-11 00:00:00\n",
      "2329.414999999998\n",
      "2021-08-12 00:00:00\n",
      "2330.084999999998\n",
      "2021-08-13 00:00:00\n",
      "2338.114999999998\n",
      "2021-08-16 00:00:00\n",
      "2337.6449999999977\n",
      "2021-08-17 00:00:00\n",
      "2317.794999999998\n",
      "2021-08-18 00:00:00\n",
      "2319.5749999999975\n",
      "2021-08-19 00:00:00\n",
      "2297.0749999999975\n",
      "2021-08-20 00:00:00\n",
      "2324.8249999999975\n",
      "2021-08-23 00:00:00\n",
      "2347.3749999999977\n",
      "2021-08-24 00:00:00\n",
      "2336.8049999999976\n",
      "2021-08-25 00:00:00\n",
      "2318.7749999999974\n",
      "2021-08-26 00:00:00\n",
      "2304.454999999997\n",
      "2021-08-27 00:00:00\n",
      "2317.6049999999973\n",
      "2021-08-30 00:00:00\n",
      "2317.904999999997\n",
      "2021-08-31 00:00:00\n",
      "2347.2049999999967\n",
      "2021-09-01 00:00:00\n",
      "2330.404999999997\n",
      "2021-09-02 00:00:00\n",
      "2358.1549999999975\n",
      "2021-09-03 00:00:00\n",
      "2371.254999999997\n",
      "2021-09-07 00:00:00\n",
      "2381.374999999997\n",
      "2021-09-08 00:00:00\n",
      "2357.144999999997\n",
      "2021-09-09 00:00:00\n",
      "2387.984999999997\n",
      "2021-09-10 00:00:00\n",
      "2379.774999999997\n",
      "2021-09-13 00:00:00\n",
      "2375.604999999997\n",
      "2021-09-14 00:00:00\n",
      "2346.2849999999967\n",
      "2021-09-15 00:00:00\n",
      "2330.2649999999967\n",
      "2021-09-16 00:00:00\n",
      "2338.4249999999965\n",
      "2021-09-17 00:00:00\n",
      "2340.034999999996\n",
      "2021-09-20 00:00:00\n",
      "2312.4949999999963\n",
      "2021-09-21 00:00:00\n",
      "2319.694999999996\n",
      "2021-09-22 00:00:00\n",
      "2336.614999999996\n",
      "2021-09-23 00:00:00\n",
      "2348.5549999999957\n",
      "2021-09-24 00:00:00\n",
      "2342.1949999999956\n",
      "2021-09-27 00:00:00\n",
      "2340.564999999996\n",
      "2021-09-28 00:00:00\n",
      "2321.324999999996\n",
      "2021-09-29 00:00:00\n",
      "2273.264999999996\n",
      "2021-09-30 00:00:00\n",
      "2302.5449999999955\n",
      "2021-10-01 00:00:00\n",
      "2242.0049999999956\n",
      "2021-10-04 00:00:00\n",
      "2242.004999999996\n",
      "2021-10-05 00:00:00\n",
      "2242.0049999999965\n",
      "2021-10-06 00:00:00\n",
      "2242.0049999999965\n",
      "2021-10-07 00:00:00\n",
      "2242.0049999999965\n",
      "2021-10-08 00:00:00\n",
      "2242.0049999999965\n",
      "2021-10-11 00:00:00\n",
      "2257.604999999997\n",
      "2021-10-12 00:00:00\n",
      "2278.8449999999966\n",
      "2021-10-13 00:00:00\n",
      "2267.9249999999965\n",
      "2021-10-14 00:00:00\n",
      "2287.1849999999963\n",
      "2021-10-15 00:00:00\n",
      "2323.2449999999967\n",
      "2021-10-18 00:00:00\n",
      "2338.0049999999965\n",
      "2021-10-19 00:00:00\n",
      "2385.6449999999963\n",
      "2021-10-20 00:00:00\n",
      "2390.4449999999965\n",
      "2021-10-21 00:00:00\n",
      "2393.2049999999963\n",
      "2021-10-22 00:00:00\n",
      "2434.0049999999965\n",
      "2021-10-25 00:00:00\n",
      "2447.2049999999963\n",
      "2021-10-26 00:00:00\n",
      "2484.3449999999966\n",
      "2021-10-27 00:00:00\n",
      "2463.2249999999967\n",
      "2021-10-28 00:00:00\n",
      "2482.0049999999965\n",
      "2021-10-29 00:00:00\n",
      "2465.9849999999965\n",
      "2021-11-01 00:00:00\n",
      "2482.0049999999965\n",
      "2021-11-02 00:00:00\n",
      "2441.2049999999963\n",
      "2021-11-03 00:00:00\n",
      "2443.784999999996\n",
      "2021-11-04 00:00:00\n",
      "2468.6849999999963\n",
      "2021-11-05 00:00:00\n",
      "2486.8649999999966\n",
      "2021-11-08 00:00:00\n",
      "2492.2649999999962\n",
      "2021-11-09 00:00:00\n",
      "2487.814999999996\n",
      "2021-11-10 00:00:00\n",
      "2500.564999999996\n",
      "2021-11-11 00:00:00\n",
      "2491.034999999996\n",
      "2021-11-12 00:00:00\n",
      "2475.5949999999966\n",
      "2021-11-15 00:00:00\n",
      "2509.6049999999964\n",
      "2021-11-16 00:00:00\n",
      "2533.1349999999957\n",
      "2021-11-17 00:00:00\n",
      "2574.654999999996\n",
      "2021-11-18 00:00:00\n",
      "2590.724999999996\n",
      "2021-11-19 00:00:00\n",
      "2670.7849999999953\n",
      "2021-11-22 00:00:00\n",
      "2664.624999999996\n",
      "2021-11-23 00:00:00\n",
      "2620.2449999999963\n",
      "2021-11-24 00:00:00\n",
      "2606.3749999999964\n",
      "2021-11-26 00:00:00\n",
      "2621.734999999997\n",
      "2021-11-29 00:00:00\n",
      "2610.6149999999966\n",
      "2021-11-30 00:00:00\n",
      "2590.754999999997\n",
      "2021-12-01 00:00:00\n",
      "2581.694999999997\n",
      "2021-12-02 00:00:00\n",
      "2562.084999999997\n",
      "2021-12-03 00:00:00\n",
      "2601.094999999997\n",
      "2021-12-06 00:00:00\n",
      "2593.744999999997\n",
      "2021-12-07 00:00:00\n",
      "2604.8849999999966\n",
      "2021-12-08 00:00:00\n",
      "2603.444999999997\n",
      "2021-12-09 00:00:00\n",
      "2600.8049999999967\n",
      "2021-12-10 00:00:00\n",
      "2591.2249999999967\n",
      "2021-12-13 00:00:00\n",
      "2612.784999999996\n",
      "2021-12-14 00:00:00\n",
      "2575.674999999996\n",
      "2021-12-15 00:00:00\n",
      "2571.8049999999967\n",
      "2021-12-16 00:00:00\n",
      "2607.8049999999967\n",
      "2021-12-17 00:00:00\n",
      "2608.3849999999966\n",
      "2021-12-20 00:00:00\n",
      "2641.1849999999963\n",
      "2021-12-21 00:00:00\n",
      "2626.5649999999964\n",
      "2021-12-22 00:00:00\n",
      "2652.5049999999965\n",
      "2021-12-23 00:00:00\n",
      "2692.3249999999966\n",
      "2021-12-27 00:00:00\n",
      "2724.1649999999963\n",
      "2021-12-28 00:00:00\n",
      "2719.6849999999963\n",
      "2021-12-29 00:00:00\n",
      "2714.9649999999965\n",
      "2021-12-30 00:00:00\n",
      "2730.824999999997\n",
      "2021-12-31 00:00:00\n",
      "2724.8749999999973\n",
      "2022-01-03 00:00:00\n",
      "2714.6549999999975\n",
      "2022-01-04 00:00:00\n",
      "2684.1249999999973\n",
      "2022-01-05 00:00:00\n",
      "2713.8849999999975\n",
      "2022-01-06 00:00:00\n",
      "2691.404999999997\n",
      "2022-01-07 00:00:00\n",
      "2673.624999999997\n",
      "2022-01-10 00:00:00\n",
      "2668.5649999999964\n",
      "2022-01-11 00:00:00\n",
      "2715.1249999999964\n",
      "2022-01-12 00:00:00\n",
      "2723.4649999999965\n",
      "2022-01-13 00:00:00\n",
      "2720.104999999997\n",
      "2022-01-14 00:00:00\n",
      "2722.954999999997\n",
      "2022-01-18 00:00:00\n",
      "2753.5049999999974\n",
      "2022-01-19 00:00:00\n",
      "2757.134999999997\n",
      "2022-01-20 00:00:00\n",
      "2760.3449999999966\n",
      "2022-01-21 00:00:00\n",
      "2738.2649999999967\n",
      "2022-01-24 00:00:00\n",
      "2687.516999999997\n",
      "2022-01-25 00:00:00\n",
      "2672.566999999997\n",
      "2022-01-26 00:00:00\n",
      "2678.3969999999968\n",
      "2022-01-27 00:00:00\n",
      "2704.466999999997\n",
      "2022-01-28 00:00:00\n",
      "2685.7119999999964\n",
      "2022-01-31 00:00:00\n",
      "2772.536999999996\n",
      "2022-02-01 00:00:00\n",
      "2789.166999999996\n",
      "2022-02-02 00:00:00\n",
      "2791.756999999996\n",
      "2022-02-03 00:00:00\n",
      "2823.581999999996\n",
      "2022-02-04 00:00:00\n",
      "2744.506999999996\n",
      "2022-02-07 00:00:00\n",
      "2767.0569999999957\n",
      "2022-02-08 00:00:00\n",
      "2756.4969999999958\n",
      "2022-02-09 00:00:00\n",
      "2747.0969999999957\n",
      "2022-02-10 00:00:00\n",
      "2749.0469999999955\n",
      "2022-02-11 00:00:00\n",
      "2730.8469999999957\n",
      "2022-02-14 00:00:00\n",
      "2749.2969999999955\n",
      "2022-02-15 00:00:00\n",
      "2743.5569999999957\n",
      "2022-02-16 00:00:00\n",
      "2786.196999999995\n",
      "2022-02-17 00:00:00\n",
      "2775.1269999999954\n",
      "2022-02-18 00:00:00\n",
      "2770.2069999999953\n",
      "2022-02-22 00:00:00\n",
      "2782.0969999999957\n",
      "2022-02-23 00:00:00\n",
      "2791.5269999999955\n",
      "2022-02-24 00:00:00\n",
      "2733.716999999995\n",
      "2022-02-25 00:00:00\n",
      "2782.9169999999954\n",
      "2022-02-28 00:00:00\n",
      "2782.9169999999954\n",
      "2022-03-01 00:00:00\n",
      "2800.5469999999955\n",
      "2022-03-02 00:00:00\n",
      "2826.7869999999957\n",
      "2022-03-03 00:00:00\n",
      "2830.4769999999953\n",
      "2022-03-04 00:00:00\n",
      "2806.2869999999957\n",
      "2022-03-07 00:00:00\n",
      "2849.6469999999954\n",
      "2022-03-08 00:00:00\n",
      "2797.8269999999957\n",
      "2022-03-09 00:00:00\n",
      "2851.346999999995\n",
      "2022-03-10 00:00:00\n",
      "2792.4969999999953\n",
      "2022-03-11 00:00:00\n",
      "2874.3369999999954\n",
      "2022-03-14 00:00:00\n",
      "2877.5769999999957\n",
      "2022-03-15 00:00:00\n",
      "2917.6369999999956\n",
      "2022-03-16 00:00:00\n",
      "2934.986999999996\n",
      "2022-03-17 00:00:00\n",
      "2939.386999999996\n",
      "2022-03-18 00:00:00\n",
      "2963.7369999999964\n",
      "2022-03-21 00:00:00\n",
      "2976.1369999999965\n",
      "2022-03-22 00:00:00\n",
      "2976.226999999996\n",
      "2022-03-23 00:00:00\n",
      "2982.6269999999963\n",
      "2022-03-24 00:00:00\n",
      "2985.956999999996\n",
      "2022-03-25 00:00:00\n",
      "3017.006999999996\n",
      "2022-03-28 00:00:00\n",
      "3040.156999999996\n",
      "2022-03-29 00:00:00\n",
      "3046.756999999996\n",
      "2022-03-30 00:00:00\n",
      "3071.456999999996\n",
      "2022-03-31 00:00:00\n",
      "3084.806999999996\n",
      "2022-04-01 00:00:00\n",
      "3069.156999999996\n",
      "2022-04-04 00:00:00\n",
      "3092.2769999999955\n",
      "2022-04-05 00:00:00\n",
      "3093.1569999999956\n",
      "2022-04-06 00:00:00\n",
      "3070.2669999999957\n",
      "2022-04-07 00:00:00\n",
      "3092.4769999999953\n",
      "2022-04-08 00:00:00\n",
      "3125.6869999999954\n",
      "2022-04-11 00:00:00\n",
      "3133.816999999996\n",
      "2022-04-12 00:00:00\n",
      "3106.166999999996\n",
      "2022-04-13 00:00:00\n",
      "3103.2369999999955\n",
      "2022-04-14 00:00:00\n",
      "3132.276999999996\n",
      "2022-04-18 00:00:00\n",
      "3108.596999999996\n",
      "2022-04-19 00:00:00\n",
      "3079.796999999996\n",
      "2022-04-20 00:00:00\n",
      "3073.131999999996\n",
      "2022-04-21 00:00:00\n",
      "3102.846999999996\n",
      "2022-04-22 00:00:00\n",
      "3068.3469999999957\n",
      "2022-04-25 00:00:00\n",
      "2993.216999999996\n",
      "2022-04-26 00:00:00\n",
      "3002.5769999999966\n",
      "2022-04-27 00:00:00\n",
      "2995.556999999996\n",
      "2022-04-28 00:00:00\n",
      "2995.5569999999952\n",
      "2022-04-29 00:00:00\n",
      "2995.5569999999943\n",
      "2022-05-02 00:00:00\n",
      "2995.556999999994\n",
      "2022-05-03 00:00:00\n",
      "2995.5569999999934\n",
      "2022-05-04 00:00:00\n",
      "2995.556999999993\n",
      "2022-05-05 00:00:00\n",
      "2995.556999999993\n",
      "2022-05-06 00:00:00\n",
      "2995.556999999993\n",
      "2022-05-09 00:00:00\n",
      "2995.556999999993\n",
      "2022-05-10 00:00:00\n",
      "2995.556999999993\n",
      "2022-05-11 00:00:00\n",
      "2995.556999999993\n",
      "2022-05-12 00:00:00\n",
      "2995.556999999993\n",
      "2022-05-13 00:00:00\n",
      "3087.0869999999927\n",
      "2022-05-16 00:00:00\n",
      "3090.326999999993\n",
      "2022-05-17 00:00:00\n",
      "3094.6469999999927\n"
     ]
    },
    {
     "name": "stdout",
     "output_type": "stream",
     "text": [
      "2022-05-18 00:00:00\n",
      "3144.056999999993\n",
      "2022-05-19 00:00:00\n",
      "2902.946999999993\n",
      "2022-05-20 00:00:00\n",
      "2902.946999999994\n",
      "2022-05-23 00:00:00\n",
      "2902.946999999995\n",
      "2022-05-24 00:00:00\n",
      "2902.946999999996\n",
      "2022-05-25 00:00:00\n",
      "2902.9469999999965\n",
      "2022-05-26 00:00:00\n",
      "2902.946999999997\n",
      "2022-05-27 00:00:00\n",
      "2902.946999999997\n",
      "2022-05-31 00:00:00\n",
      "2928.166999999997\n",
      "2022-06-01 00:00:00\n",
      "2912.826999999997\n",
      "2022-06-02 00:00:00\n",
      "2884.746999999997\n",
      "2022-06-03 00:00:00\n",
      "2884.746999999997\n",
      "2022-06-06 00:00:00\n",
      "2884.746999999997\n",
      "2022-06-07 00:00:00\n",
      "2828.5869999999973\n",
      "2022-06-08 00:00:00\n",
      "2819.746999999997\n",
      "2022-06-09 00:00:00\n",
      "2684.0269999999973\n",
      "2022-06-10 00:00:00\n",
      "2684.0269999999964\n",
      "2022-06-13 00:00:00\n",
      "2684.0269999999955\n",
      "2022-06-14 00:00:00\n",
      "2684.0269999999946\n",
      "2022-06-15 00:00:00\n",
      "2684.026999999994\n",
      "2022-06-16 00:00:00\n",
      "2684.0269999999937\n",
      "2022-06-17 00:00:00\n",
      "2684.0269999999937\n",
      "2022-06-21 00:00:00\n",
      "2684.0269999999937\n",
      "2022-06-22 00:00:00\n",
      "2684.0269999999937\n",
      "2022-06-23 00:00:00\n",
      "2684.0269999999937\n",
      "2022-06-24 00:00:00\n",
      "2684.0269999999937\n",
      "2022-06-27 00:00:00\n",
      "2684.0269999999937\n",
      "2022-06-28 00:00:00\n",
      "2684.0269999999937\n",
      "2022-06-29 00:00:00\n",
      "2684.0269999999937\n",
      "2022-06-30 00:00:00\n",
      "2684.0269999999937\n",
      "2022-07-01 00:00:00\n",
      "2684.0269999999937\n",
      "2022-07-05 00:00:00\n",
      "2684.0269999999937\n",
      "2022-07-06 00:00:00\n",
      "2684.0269999999937\n",
      "2022-07-07 00:00:00\n",
      "2684.0269999999937\n",
      "2022-07-08 00:00:00\n",
      "2684.0269999999937\n",
      "2022-07-11 00:00:00\n",
      "2684.0269999999937\n",
      "2022-07-12 00:00:00\n",
      "2684.0269999999937\n",
      "2022-07-13 00:00:00\n",
      "2684.0269999999937\n",
      "2022-07-14 00:00:00\n",
      "2684.0269999999937\n",
      "2022-07-15 00:00:00\n",
      "2684.0269999999937\n",
      "2022-07-18 00:00:00\n",
      "2684.0269999999937\n",
      "2022-07-19 00:00:00\n",
      "2684.0269999999937\n",
      "2022-07-20 00:00:00\n",
      "2684.0269999999937\n",
      "2022-07-21 00:00:00\n",
      "2682.706999999994\n",
      "2022-07-22 00:00:00\n",
      "2759.706999999994\n",
      "2022-07-25 00:00:00\n",
      "2743.0069999999937\n",
      "2022-07-26 00:00:00\n",
      "2732.406999999994\n",
      "2022-07-27 00:00:00\n",
      "2741.666999999994\n",
      "2022-07-28 00:00:00\n",
      "2765.6469999999936\n",
      "2022-07-29 00:00:00\n",
      "2829.4869999999937\n",
      "2022-08-01 00:00:00\n",
      "2825.866999999994\n",
      "2022-08-02 00:00:00\n",
      "2803.866999999994\n",
      "2022-08-03 00:00:00\n",
      "2816.2669999999935\n",
      "2022-08-04 00:00:00\n",
      "2830.7669999999935\n",
      "2022-08-05 00:00:00\n",
      "2813.8869999999933\n",
      "2022-08-08 00:00:00\n",
      "2846.4669999999933\n",
      "2022-08-09 00:00:00\n",
      "2834.2469999999935\n",
      "2022-08-10 00:00:00\n",
      "2840.6869999999935\n",
      "2022-08-11 00:00:00\n",
      "2862.9469999999933\n",
      "2022-08-12 00:00:00\n",
      "2864.086999999993\n",
      "2022-08-15 00:00:00\n",
      "2862.336999999993\n",
      "2022-08-16 00:00:00\n",
      "2870.2269999999935\n",
      "2022-08-17 00:00:00\n",
      "2856.4269999999933\n",
      "2022-08-18 00:00:00\n",
      "2854.566999999993\n",
      "2022-08-19 00:00:00\n",
      "2853.3869999999933\n",
      "2022-08-22 00:00:00\n",
      "2836.086999999993\n",
      "2022-08-23 00:00:00\n",
      "2831.246999999993\n",
      "2022-08-24 00:00:00\n",
      "2810.246999999993\n",
      "2022-08-25 00:00:00\n",
      "2835.9869999999933\n",
      "2022-08-26 00:00:00\n",
      "2860.9469999999933\n",
      "2022-08-29 00:00:00\n",
      "2805.9669999999933\n",
      "2022-08-30 00:00:00\n",
      "2812.2669999999935\n",
      "2022-08-31 00:00:00\n",
      "2812.2669999999935\n",
      "2022-09-01 00:00:00\n",
      "2812.2669999999935\n",
      "2022-09-02 00:00:00\n",
      "2812.2669999999935\n",
      "2022-09-06 00:00:00\n",
      "2812.2669999999935\n",
      "2022-09-07 00:00:00\n",
      "2812.2669999999935\n",
      "2022-09-08 00:00:00\n",
      "2812.2669999999935\n",
      "2022-09-09 00:00:00\n",
      "2812.2669999999935\n",
      "2022-09-12 00:00:00\n",
      "2812.2669999999935\n",
      "2022-09-13 00:00:00\n",
      "2791.656999999994\n",
      "2022-09-14 00:00:00\n",
      "2780.5569999999934\n",
      "2022-09-15 00:00:00\n",
      "2780.5569999999934\n",
      "2022-09-16 00:00:00\n",
      "2780.5569999999934\n",
      "2022-09-19 00:00:00\n",
      "2780.5569999999934\n",
      "2022-09-20 00:00:00\n",
      "2780.5569999999934\n",
      "2022-09-21 00:00:00\n",
      "2780.5569999999934\n",
      "2022-09-22 00:00:00\n",
      "2780.5569999999934\n",
      "2022-09-23 00:00:00\n",
      "2780.5569999999934\n",
      "2022-09-26 00:00:00\n",
      "2780.5569999999934\n",
      "2022-09-27 00:00:00\n",
      "2780.5569999999934\n",
      "2022-09-28 00:00:00\n",
      "2780.5569999999934\n",
      "2022-09-29 00:00:00\n",
      "2780.5569999999934\n",
      "2022-09-30 00:00:00\n",
      "2780.5569999999934\n",
      "2022-10-03 00:00:00\n",
      "2780.5569999999934\n",
      "2022-10-04 00:00:00\n",
      "2780.5569999999934\n",
      "2022-10-05 00:00:00\n",
      "2780.5569999999934\n",
      "2022-10-06 00:00:00\n",
      "2780.5569999999934\n",
      "2022-10-07 00:00:00\n",
      "2780.5569999999934\n",
      "2022-10-10 00:00:00\n",
      "2780.5569999999934\n",
      "2022-10-11 00:00:00\n",
      "2780.5569999999934\n",
      "2022-10-12 00:00:00\n",
      "2780.5569999999934\n",
      "2022-10-13 00:00:00\n",
      "2780.5569999999934\n",
      "2022-10-14 00:00:00\n",
      "2780.5569999999934\n",
      "2022-10-17 00:00:00\n",
      "2780.5569999999934\n",
      "2022-10-18 00:00:00\n",
      "2780.5569999999934\n",
      "2022-10-19 00:00:00\n",
      "2780.5569999999934\n",
      "2022-10-20 00:00:00\n",
      "2780.5569999999934\n",
      "2022-10-21 00:00:00\n",
      "2780.5569999999934\n",
      "2022-10-24 00:00:00\n",
      "2780.5569999999934\n",
      "2022-10-25 00:00:00\n",
      "2780.5569999999934\n",
      "2022-10-26 00:00:00\n",
      "2780.5569999999934\n",
      "2022-10-27 00:00:00\n",
      "2780.5569999999934\n",
      "2022-10-28 00:00:00\n",
      "2780.5569999999934\n",
      "2022-10-31 00:00:00\n",
      "2780.5569999999934\n",
      "2022-11-01 00:00:00\n",
      "2780.5569999999934\n",
      "2022-11-02 00:00:00\n",
      "2780.5569999999934\n",
      "2022-11-03 00:00:00\n",
      "2780.5569999999934\n",
      "2022-11-04 00:00:00\n",
      "2780.5569999999934\n",
      "2022-11-07 00:00:00\n",
      "2780.5569999999934\n",
      "2022-11-08 00:00:00\n",
      "2780.5569999999934\n",
      "2022-11-09 00:00:00\n",
      "2780.5569999999934\n",
      "2022-11-10 00:00:00\n",
      "2902.8169999999936\n",
      "2022-11-11 00:00:00\n",
      "3009.7769999999937\n",
      "2022-11-14 00:00:00\n",
      "3036.9369999999935\n",
      "2022-11-15 00:00:00\n",
      "3042.066999999993\n",
      "2022-11-16 00:00:00\n",
      "3066.456999999993\n",
      "2022-11-17 00:00:00\n",
      "3026.776999999993\n",
      "2022-11-18 00:00:00\n",
      "3055.2169999999933\n",
      "2022-11-21 00:00:00\n",
      "3048.646999999993\n",
      "2022-11-22 00:00:00\n",
      "3041.806999999993\n",
      "2022-11-23 00:00:00\n",
      "3072.1369999999933\n",
      "2022-11-25 00:00:00\n",
      "3062.776999999993\n",
      "2022-11-28 00:00:00\n",
      "3054.376999999993\n",
      "2022-11-29 00:00:00\n",
      "3053.9269999999933\n",
      "2022-11-30 00:00:00\n",
      "3061.666999999993\n",
      "2022-12-01 00:00:00\n",
      "3089.566999999993\n",
      "2022-12-02 00:00:00\n",
      "3071.406999999993\n",
      "2022-12-05 00:00:00\n",
      "3081.6469999999927\n",
      "2022-12-06 00:00:00\n",
      "3054.6069999999927\n",
      "2022-12-07 00:00:00\n",
      "3033.6369999999924\n",
      "2022-12-08 00:00:00\n",
      "3053.5669999999927\n",
      "2022-12-09 00:00:00\n",
      "3059.7669999999925\n",
      "2022-12-12 00:00:00\n",
      "3052.3469999999925\n",
      "2022-12-13 00:00:00\n",
      "3123.3069999999925\n",
      "2022-12-14 00:00:00\n",
      "3085.306999999992\n",
      "2022-12-15 00:00:00\n",
      "3083.8669999999925\n",
      "2022-12-16 00:00:00\n",
      "3053.8969999999927\n",
      "2022-12-19 00:00:00\n",
      "3053.8969999999927\n",
      "2022-12-20 00:00:00\n",
      "3053.8969999999927\n",
      "2022-12-21 00:00:00\n",
      "3053.8969999999927\n",
      "2022-12-22 00:00:00\n",
      "3053.8969999999927\n",
      "2022-12-23 00:00:00\n",
      "3053.8969999999927\n",
      "2022-12-27 00:00:00\n",
      "3053.8969999999927\n",
      "2022-12-28 00:00:00\n",
      "3053.8969999999927\n",
      "2022-12-29 00:00:00\n",
      "3053.8969999999927\n",
      "2022-12-30 00:00:00\n",
      "3053.8969999999927\n",
      "2023-01-03 00:00:00\n",
      "3074.426999999993\n",
      "2023-01-04 00:00:00\n",
      "3105.516999999993\n",
      "2023-01-05 00:00:00\n",
      "3084.516999999993\n",
      "2023-01-06 00:00:00\n",
      "3143.056999999993\n",
      "2023-01-09 00:00:00\n",
      "3045.2769999999928\n",
      "2023-01-10 00:00:00\n",
      "3072.156999999993\n",
      "2023-01-11 00:00:00\n",
      "3094.2569999999932\n",
      "2023-01-12 00:00:00\n",
      "3105.436999999993\n",
      "2023-01-13 00:00:00\n",
      "3091.446999999993\n",
      "2023-01-17 00:00:00\n",
      "3087.426999999993\n",
      "2023-01-18 00:00:00\n",
      "3105.406999999993\n",
      "2023-01-19 00:00:00\n",
      "3085.6469999999927\n",
      "2023-01-20 00:00:00\n",
      "3089.8869999999924\n",
      "2023-01-23 00:00:00\n",
      "3112.2969999999923\n",
      "2023-01-24 00:00:00\n",
      "3118.9269999999924\n",
      "2023-01-25 00:00:00\n",
      "3072.8069999999925\n",
      "2023-01-26 00:00:00\n",
      "3106.5269999999928\n",
      "2023-01-27 00:00:00\n",
      "3124.2269999999926\n",
      "2023-01-30 00:00:00\n",
      "3109.046999999993\n",
      "2023-01-31 00:00:00\n",
      "3102.986999999993\n",
      "2023-02-01 00:00:00\n",
      "3125.236999999993\n",
      "2023-02-02 00:00:00\n",
      "3165.286999999993\n",
      "2023-02-03 00:00:00\n",
      "3168.136999999993\n",
      "2023-02-06 00:00:00\n",
      "3148.576999999993\n",
      "2023-02-07 00:00:00\n",
      "3138.3169999999927\n",
      "2023-02-08 00:00:00\n",
      "3151.0669999999927\n",
      "2023-02-09 00:00:00\n",
      "3144.2969999999923\n",
      "2023-02-10 00:00:00\n",
      "3102.3069999999925\n",
      "2023-02-13 00:00:00\n",
      "3154.6269999999927\n",
      "2023-02-14 00:00:00\n",
      "3172.6569999999924\n",
      "2023-02-15 00:00:00\n",
      "3172.3369999999923\n",
      "2023-02-16 00:00:00\n",
      "3244.626999999992\n",
      "2023-02-17 00:00:00\n",
      "3256.6969999999924\n",
      "2023-02-21 00:00:00\n",
      "3153.3069999999925\n",
      "2023-02-22 00:00:00\n",
      "3122.1069999999922\n",
      "2023-02-23 00:00:00\n",
      "3118.5069999999923\n",
      "2023-02-24 00:00:00\n",
      "3197.606999999992\n",
      "2023-02-27 00:00:00\n",
      "3189.206999999992\n",
      "2023-02-28 00:00:00\n",
      "3179.1069999999922\n",
      "2023-03-01 00:00:00\n",
      "3196.156999999992\n",
      "2023-03-02 00:00:00\n",
      "3194.756999999992\n",
      "2023-03-03 00:00:00\n",
      "3295.056999999992\n",
      "2023-03-06 00:00:00\n",
      "3333.656999999992\n",
      "2023-03-07 00:00:00\n",
      "3315.626999999992\n",
      "2023-03-08 00:00:00\n",
      "3311.0969999999925\n",
      "2023-03-09 00:00:00\n",
      "3311.246999999992\n",
      "2023-03-10 00:00:00\n",
      "3282.716999999992\n",
      "2023-03-13 00:00:00\n",
      "3241.5869999999923\n",
      "2023-03-14 00:00:00\n",
      "3297.986999999992\n",
      "2023-03-15 00:00:00\n",
      "3292.1369999999915\n",
      "2023-03-16 00:00:00\n",
      "3294.4369999999917\n",
      "2023-03-17 00:00:00\n",
      "3352.236999999992\n",
      "2023-03-20 00:00:00\n",
      "3328.9569999999917\n",
      "2023-03-21 00:00:00\n",
      "3345.656999999992\n",
      "2023-03-22 00:00:00\n",
      "3351.656999999992\n"
     ]
    },
    {
     "name": "stdout",
     "output_type": "stream",
     "text": [
      "2023-03-23 00:00:00\n",
      "3333.206999999992\n",
      "2023-03-24 00:00:00\n",
      "3333.006999999992\n",
      "2023-03-27 00:00:00\n",
      "3360.0069999999923\n",
      "2023-03-28 00:00:00\n",
      "3353.126999999992\n",
      "2023-03-29 00:00:00\n",
      "3393.9769999999926\n",
      "2023-03-30 00:00:00\n",
      "3389.2969999999923\n",
      "2023-03-31 00:00:00\n",
      "3398.576999999992\n",
      "2023-04-03 00:00:00\n",
      "3394.576999999992\n",
      "2023-04-04 00:00:00\n",
      "3416.1769999999924\n",
      "2023-04-05 00:00:00\n",
      "3396.8369999999927\n",
      "2023-04-06 00:00:00\n",
      "3362.4169999999926\n",
      "2023-04-10 00:00:00\n",
      "3366.196999999993\n",
      "2023-04-11 00:00:00\n",
      "3432.596999999993\n",
      "2023-04-12 00:00:00\n",
      "3461.8969999999927\n",
      "2023-04-13 00:00:00\n",
      "3457.036999999993\n",
      "2023-04-14 00:00:00\n",
      "3479.076999999993\n",
      "2023-04-17 00:00:00\n",
      "3480.8569999999927\n",
      "2023-04-18 00:00:00\n",
      "3482.376999999993\n",
      "2023-04-19 00:00:00\n",
      "3454.976999999993\n",
      "2023-04-20 00:00:00\n",
      "3446.936999999993\n",
      "2023-04-21 00:00:00\n",
      "3460.636999999993\n",
      "2023-04-24 00:00:00\n",
      "3464.7769999999928\n",
      "2023-04-25 00:00:00\n",
      "3395.9769999999926\n",
      "2023-04-26 00:00:00\n",
      "3374.946999999993\n",
      "2023-04-27 00:00:00\n",
      "3370.706999999993\n",
      "2023-04-28 00:00:00\n",
      "3377.866999999993\n",
      "2023-05-01 00:00:00\n",
      "3414.0169999999925\n",
      "2023-05-02 00:00:00\n",
      "3409.956999999993\n",
      "2023-05-03 00:00:00\n",
      "3416.3969999999927\n",
      "2023-05-04 00:00:00\n",
      "3459.656999999993\n",
      "2023-05-05 00:00:00\n",
      "3465.116999999993\n",
      "2023-05-08 00:00:00\n",
      "3465.536999999993\n",
      "2023-05-09 00:00:00\n",
      "3439.076999999993\n",
      "2023-05-10 00:00:00\n",
      "3449.456999999993\n",
      "2023-05-11 00:00:00\n",
      "3432.3069999999934\n",
      "2023-05-12 00:00:00\n",
      "3427.9369999999935\n",
      "2023-05-15 00:00:00\n",
      "3427.9369999999935\n",
      "2023-05-16 00:00:00\n",
      "3468.4369999999926\n",
      "2023-05-17 00:00:00\n",
      "3463.9369999999935\n",
      "2023-05-18 00:00:00\n",
      "3470.9369999999935\n",
      "2023-05-19 00:00:00\n",
      "3478.0569999999934\n",
      "2023-05-22 00:00:00\n",
      "3486.6069999999936\n",
      "2023-05-23 00:00:00\n",
      "3461.9669999999933\n",
      "2023-05-24 00:00:00\n",
      "3409.396999999993\n",
      "2023-05-25 00:00:00\n",
      "3350.876999999993\n",
      "2023-05-26 00:00:00\n",
      "3374.376999999993\n",
      "2023-05-30 00:00:00\n",
      "3433.166999999993\n",
      "2023-05-31 00:00:00\n",
      "3416.146999999993\n",
      "2023-06-01 00:00:00\n",
      "3365.5669999999936\n",
      "2023-06-02 00:00:00\n",
      "3414.626999999993\n",
      "2023-06-05 00:00:00\n",
      "3371.416999999993\n",
      "2023-06-06 00:00:00\n",
      "3443.1769999999933\n",
      "2023-06-07 00:00:00\n",
      "3417.376999999993\n",
      "2023-06-08 00:00:00\n",
      "3380.866999999993\n",
      "2023-06-09 00:00:00\n",
      "3412.0969999999925\n",
      "2023-06-12 00:00:00\n",
      "3412.1569999999924\n",
      "2023-06-13 00:00:00\n",
      "3460.976999999992\n",
      "2023-06-14 00:00:00\n",
      "3450.116999999992\n",
      "2023-06-15 00:00:00\n",
      "3457.4669999999924\n",
      "2023-06-16 00:00:00\n",
      "3532.406999999992\n",
      "2023-06-20 00:00:00\n",
      "3478.6869999999917\n",
      "2023-06-21 00:00:00\n",
      "3438.9569999999917\n",
      "2023-06-22 00:00:00\n",
      "3418.7469999999917\n",
      "2023-06-23 00:00:00\n",
      "3406.0569999999916\n",
      "2023-06-26 00:00:00\n",
      "3419.3969999999917\n",
      "2023-06-27 00:00:00\n",
      "3418.246999999992\n",
      "2023-06-28 00:00:00\n",
      "3463.186999999992\n",
      "2023-06-29 00:00:00\n",
      "3485.416999999992\n",
      "2023-06-30 00:00:00\n",
      "3514.1569999999924\n",
      "2023-07-03 00:00:00\n",
      "3509.326999999992\n",
      "2023-07-05 00:00:00\n",
      "3496.7169999999924\n",
      "2023-07-06 00:00:00\n",
      "3468.5269999999923\n",
      "2023-07-07 00:00:00\n",
      "3465.1369999999924\n",
      "2023-07-10 00:00:00\n",
      "3473.8769999999927\n",
      "2023-07-11 00:00:00\n",
      "3649.5969999999925\n",
      "2023-07-12 00:00:00\n",
      "3692.246999999992\n",
      "2023-07-13 00:00:00\n",
      "3668.806999999992\n",
      "2023-07-14 00:00:00\n",
      "3683.886999999992\n",
      "2023-07-17 00:00:00\n",
      "3683.686999999992\n",
      "2023-07-18 00:00:00\n",
      "3720.826999999992\n",
      "2023-07-19 00:00:00\n",
      "3729.006999999992\n",
      "2023-07-20 00:00:00\n",
      "3719.366999999992\n",
      "2023-07-21 00:00:00\n",
      "3704.6969999999924\n",
      "2023-07-24 00:00:00\n",
      "3709.196999999992\n",
      "2023-07-25 00:00:00\n",
      "3676.326999999992\n",
      "2023-07-26 00:00:00\n",
      "3649.006999999992\n",
      "2023-07-27 00:00:00\n",
      "3692.1769999999924\n",
      "2023-07-28 00:00:00\n",
      "3676.366999999993\n",
      "2023-07-31 00:00:00\n",
      "3677.486999999993\n",
      "2023-08-01 00:00:00\n",
      "3662.786999999993\n",
      "2023-08-02 00:00:00\n",
      "3641.9369999999926\n",
      "2023-08-03 00:00:00\n",
      "3591.4769999999926\n",
      "2023-08-04 00:00:00\n",
      "3607.156999999993\n",
      "2023-08-07 00:00:00\n",
      "3585.3169999999927\n",
      "2023-08-08 00:00:00\n",
      "3585.316999999993\n",
      "2023-08-09 00:00:00\n",
      "3585.316999999993\n",
      "2023-08-10 00:00:00\n",
      "3585.316999999993\n",
      "2023-08-11 00:00:00\n",
      "3585.3169999999936\n",
      "2023-08-14 00:00:00\n",
      "3585.316999999994\n",
      "2023-08-15 00:00:00\n",
      "3585.316999999994\n",
      "2023-08-16 00:00:00\n",
      "3585.316999999994\n",
      "2023-08-17 00:00:00\n",
      "3585.316999999994\n",
      "2023-08-18 00:00:00\n",
      "3585.316999999994\n",
      "2023-08-21 00:00:00\n",
      "3585.316999999994\n",
      "2023-08-22 00:00:00\n",
      "3585.316999999994\n",
      "2023-08-23 00:00:00\n",
      "3585.316999999994\n",
      "2023-08-24 00:00:00\n",
      "3585.316999999994\n",
      "2023-08-25 00:00:00\n",
      "3585.316999999994\n",
      "2023-08-28 00:00:00\n",
      "3585.316999999994\n",
      "2023-08-29 00:00:00\n",
      "3585.316999999994\n",
      "2023-08-30 00:00:00\n",
      "3585.316999999994\n",
      "2023-08-31 00:00:00\n",
      "3585.316999999994\n",
      "2023-09-01 00:00:00\n",
      "3585.316999999994\n",
      "2023-09-05 00:00:00\n",
      "3585.316999999994\n",
      "2023-09-06 00:00:00\n",
      "3585.316999999994\n",
      "2023-09-07 00:00:00\n",
      "3585.316999999994\n",
      "2023-09-08 00:00:00\n",
      "3585.316999999994\n",
      "2023-09-11 00:00:00\n",
      "3585.316999999994\n",
      "2023-09-12 00:00:00\n",
      "3585.316999999994\n",
      "2023-09-13 00:00:00\n",
      "3509.1569999999942\n",
      "2023-09-14 00:00:00\n",
      "3602.3969999999945\n",
      "2023-09-15 00:00:00\n",
      "3595.676999999994\n",
      "2023-09-18 00:00:00\n",
      "3462.256999999994\n",
      "2023-09-19 00:00:00\n",
      "3462.2569999999937\n",
      "2023-09-20 00:00:00\n",
      "3462.2569999999932\n",
      "2023-09-21 00:00:00\n",
      "3462.2569999999932\n",
      "2023-09-22 00:00:00\n",
      "3462.2569999999932\n",
      "2023-09-25 00:00:00\n",
      "3462.2569999999932\n",
      "2023-09-26 00:00:00\n",
      "3462.2569999999932\n",
      "2023-09-27 00:00:00\n",
      "3462.2569999999932\n",
      "2023-09-28 00:00:00\n",
      "3462.2569999999932\n",
      "2023-09-29 00:00:00\n",
      "3462.2569999999932\n",
      "2023-10-02 00:00:00\n",
      "3462.2569999999932\n",
      "2023-10-03 00:00:00\n",
      "3462.2569999999932\n",
      "2023-10-04 00:00:00\n",
      "3462.2569999999932\n",
      "2023-10-05 00:00:00\n",
      "3462.2569999999932\n",
      "2023-10-06 00:00:00\n",
      "3462.2569999999932\n",
      "2023-10-09 00:00:00\n",
      "3462.2569999999932\n",
      "2023-10-10 00:00:00\n",
      "3561.9369999999935\n",
      "2023-10-11 00:00:00\n",
      "3590.6369999999933\n",
      "2023-10-12 00:00:00\n",
      "3647.1969999999933\n",
      "2023-10-13 00:00:00\n",
      "3627.876999999993\n",
      "2023-10-16 00:00:00\n",
      "3613.316999999993\n",
      "2023-10-17 00:00:00\n",
      "3566.2769999999937\n",
      "2023-10-18 00:00:00\n",
      "3569.6369999999933\n",
      "2023-10-19 00:00:00\n",
      "3566.5569999999934\n",
      "2023-10-20 00:00:00\n",
      "3517.976999999993\n",
      "2023-10-23 00:00:00\n",
      "3433.2769999999937\n",
      "2023-10-24 00:00:00\n",
      "3433.276999999995\n",
      "2023-10-25 00:00:00\n",
      "3433.276999999996\n",
      "2023-10-26 00:00:00\n",
      "3433.276999999997\n",
      "2023-10-27 00:00:00\n",
      "3433.2769999999973\n",
      "2023-10-30 00:00:00\n",
      "3433.2769999999978\n",
      "2023-10-31 00:00:00\n",
      "3433.2769999999978\n",
      "2023-11-01 00:00:00\n",
      "3582.5499130434755\n",
      "2023-11-02 00:00:00\n",
      "3582.549913043475\n",
      "2023-11-03 00:00:00\n",
      "3555.389913043475\n",
      "2023-11-06 00:00:00\n",
      "3613.7699130434753\n",
      "2023-11-07 00:00:00\n",
      "3628.9599130434754\n",
      "2023-11-08 00:00:00\n",
      "3682.2299130434753\n",
      "2023-11-09 00:00:00\n",
      "3709.529913043475\n",
      "2023-11-10 00:00:00\n",
      "3738.0899130434755\n",
      "2023-11-13 00:00:00\n",
      "3760.629913043476\n",
      "2023-11-14 00:00:00\n",
      "3871.0899130434755\n",
      "2023-11-15 00:00:00\n",
      "3939.549913043475\n",
      "2023-11-16 00:00:00\n",
      "3833.2899130434757\n",
      "2023-11-17 00:00:00\n",
      "3861.849913043475\n",
      "2023-11-20 00:00:00\n",
      "3886.349913043475\n",
      "2023-11-21 00:00:00\n",
      "3900.2099130434754\n",
      "2023-11-22 00:00:00\n",
      "3918.9699130434756\n",
      "2023-11-24 00:00:00\n",
      "3879.7699130434753\n",
      "2023-11-27 00:00:00\n",
      "3902.4499130434756\n",
      "2023-11-28 00:00:00\n",
      "3900.0699130434755\n",
      "2023-11-29 00:00:00\n",
      "3919.8799130434754\n",
      "2023-11-30 00:00:00\n",
      "3925.3599130434754\n",
      "2023-12-01 00:00:00\n",
      "3922.319913043476\n",
      "2023-12-04 00:00:00\n",
      "3886.4599130434754\n",
      "2023-12-05 00:00:00\n",
      "3879.2999130434755\n",
      "2023-12-06 00:00:00\n",
      "3881.5399130434753\n",
      "2023-12-07 00:00:00\n",
      "3876.5799130434752\n",
      "2023-12-08 00:00:00\n",
      "3859.9399130434754\n",
      "2023-12-11 00:00:00\n",
      "3860.739913043475\n",
      "2023-12-12 00:00:00\n",
      "3871.939913043475\n",
      "2023-12-13 00:00:00\n",
      "3905.0999130434748\n",
      "2023-12-14 00:00:00\n",
      "3935.5799130434752\n",
      "2023-12-15 00:00:00\n",
      "3901.0599130434753\n"
     ]
    }
   ],
   "source": [
    "backtest_result = backtest_strategy(df_init = all_signal,capital=1000)\n",
    "backtest_result['Total_value'] = backtest_result['units']*backtest_result['Price']+backtest_result['cash']    "
   ]
  },
  {
   "cell_type": "code",
   "execution_count": 131,
   "id": "133cd681",
   "metadata": {},
   "outputs": [],
   "source": [
    "backtest_result.to_csv('backtest.csv')"
   ]
  },
  {
   "cell_type": "code",
   "execution_count": 48,
   "id": "9cde798a",
   "metadata": {},
   "outputs": [],
   "source": [
    "summary_backtest_result = backtest_result[backtest_result.index>='2019-01-01'].reset_index().groupby(['index'])['Total_value'].sum().reset_index()\n",
    "\n",
    "summary_backtest_result = summary_backtest_result.rename(columns = {'index':'date'})"
   ]
  },
  {
   "cell_type": "code",
   "execution_count": 49,
   "id": "3f1a3b23",
   "metadata": {},
   "outputs": [],
   "source": [
    "# get summarize of total portfolio value, return by date, benchmark_index\n",
    "summary_backtest_result['Return_without_trailing'] = summary_backtest_result['Total_value']/summary_backtest_result['Total_value'].iloc[0] *100\n",
    "summary_backtest_result['Return_trailing_12m'] = summary_backtest_result['Total_value']/summary_backtest_result['Total_value'].shift(252)*100\n",
    "summary_backtest_result.set_index('date',inplace=True)"
   ]
  },
  {
   "cell_type": "code",
   "execution_count": 50,
   "id": "d088d1c9",
   "metadata": {},
   "outputs": [
    {
     "name": "stderr",
     "output_type": "stream",
     "text": [
      "C:\\Users\\CHIN\\AppData\\Local\\Temp/ipykernel_12472/1728708311.py:2: DeprecationWarning: cafile, capath and cadefault are deprecated, use a custom context instead.\n",
      "  response = urlopen(url, cafile=certifi.where())\n"
     ]
    }
   ],
   "source": [
    "QQQ_LINK = 'https://financialmodelingprep.com/api/v3/historical-price-full/'+'QQQ'+'?apikey='+api\n",
    "QQQ_stock = get_jsonparsed_data(QQQ_LINK)\n",
    "QQQ_stock = pd.json_normalize(QQQ_stock['historical'])\n",
    "QQQ_stock = QQQ_stock[['date','adjClose']]\n",
    "QQQ_stock['date'] = pd.to_datetime(QQQ_stock['date'])"
   ]
  },
  {
   "cell_type": "code",
   "execution_count": 51,
   "id": "add6f92c",
   "metadata": {
    "scrolled": true
   },
   "outputs": [],
   "source": [
    "QQQ_stock.sort_values('date',inplace=True)\n",
    "QQQ_stock = QQQ_stock[QQQ_stock['date']>='2019-01-01']\n",
    "QQQ_stock['QQQ-Return_without_trailing'] = QQQ_stock['adjClose']/QQQ_stock['adjClose'].iloc[0] *100\n",
    "QQQ_stock['QQQ-Return_trailing_12m'] = QQQ_stock['adjClose']/QQQ_stock['adjClose'].shift(252)*100\n",
    "QQQ_stock.set_index('date',inplace=True)"
   ]
  },
  {
   "cell_type": "code",
   "execution_count": 52,
   "id": "f9e6fac7",
   "metadata": {},
   "outputs": [],
   "source": [
    "summary_backtest_result['QQQ-Return_without_trailing'] = QQQ_stock['QQQ-Return_without_trailing']\n",
    "summary_backtest_result['QQQ-Return_trailing_12m'] = QQQ_stock['QQQ-Return_trailing_12m']\n"
   ]
  },
  {
   "cell_type": "code",
   "execution_count": 53,
   "id": "de199954",
   "metadata": {},
   "outputs": [
    {
     "name": "stdout",
     "output_type": "stream",
     "text": [
      "Annualized_return of Owners Earning Per Share strategy(Open Price): 48.855037324965764\n",
      "MDD of Owners Earning Per Share strategy(Open Price): -14.673716157181627\n",
      "Annualized_return of QQQ without trailing: 33.64806198910213\n",
      "MDD of QQQ without trailing: -35.117107176889505\n"
     ]
    },
    {
     "data": {
      "image/png": "[encoded data removed]",
      "text/plain": [
       "<Figure size 1080x432 with 1 Axes>"
      ]
     },
     "metadata": {
      "needs_background": "light"
     },
     "output_type": "display_data"
    }
   ],
   "source": [
    "import matplotlib.pyplot as plt\n",
    "# plot the return and calculate the annualized return and MDD (maximum draw down) for both strategy\n",
    "plt.rcParams[\"figure.figsize\"] = (15,6)\n",
    "plt.plot(summary_backtest_result.Return_without_trailing, label='Return without trailing of SMA strategy')\n",
    "plt.plot(summary_backtest_result['QQQ-Return_without_trailing'], label='QQQ-Return_without_trailing')\n",
    "plt.legend()\n",
    "print('Annualized_return of Owners Earning Per Share strategy(Open Price):',annualized (summary_backtest_result,'Return_without_trailing'))\n",
    "print('MDD of Owners Earning Per Share strategy(Open Price):', MDD(summary_backtest_result,'Return_without_trailing'))\n",
    "\n",
    "print('Annualized_return of QQQ without trailing:',annualized (summary_backtest_result,'QQQ-Return_without_trailing'))\n",
    "print('MDD of QQQ without trailing:', MDD(summary_backtest_result,'QQQ-Return_without_trailing'))"
   ]
  }
 ],
 "metadata": {
  "kernelspec": {
   "display_name": "Python 3 (ipykernel)",
   "language": "python",
   "name": "python3"
  },
  "language_info": {
   "codemirror_mode": {
    "name": "ipython",
    "version": 3
   },
   "file_extension": ".py",
   "mimetype": "text/x-python",
   "name": "python",
   "nbconvert_exporter": "python",
   "pygments_lexer": "ipython3",
   "version": "3.9.7"
  }
 },
 "nbformat": 4,
 "nbformat_minor": 5
}
