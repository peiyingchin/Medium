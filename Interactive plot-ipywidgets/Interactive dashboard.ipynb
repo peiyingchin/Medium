{
 "cells": [
  {
   "cell_type": "code",
   "execution_count": 38,
   "id": "e6517aba",
   "metadata": {},
   "outputs": [],
   "source": [
    "import pandas as pd\n",
    "import ipywidgets \n",
    "import seaborn as sns\n",
    "import matplotlib.pyplot as plt\n",
    "import warnings\n",
    "warnings.filterwarnings(\"ignore\")"
   ]
  },
  {
   "cell_type": "code",
   "execution_count": 39,
   "id": "04416e5c",
   "metadata": {},
   "outputs": [],
   "source": [
    "df = pd.read_csv('CardioGoodFitness.csv')"
   ]
  },
  {
   "cell_type": "code",
   "execution_count": 50,
   "id": "537c49bd",
   "metadata": {},
   "outputs": [
    {
     "data": {
      "text/html": [
       "<div>\n",
       "<style scoped>\n",
       "    .dataframe tbody tr th:only-of-type {\n",
       "        vertical-align: middle;\n",
       "    }\n",
       "\n",
       "    .dataframe tbody tr th {\n",
       "        vertical-align: top;\n",
       "    }\n",
       "\n",
       "    .dataframe thead th {\n",
       "        text-align: right;\n",
       "    }\n",
       "</style>\n",
       "<table border=\"1\" class=\"dataframe\">\n",
       "  <thead>\n",
       "    <tr style=\"text-align: right;\">\n",
       "      <th></th>\n",
       "      <th>Product</th>\n",
       "      <th>Age</th>\n",
       "      <th>Gender</th>\n",
       "      <th>Education</th>\n",
       "      <th>MaritalStatus</th>\n",
       "      <th>Usage</th>\n",
       "      <th>Fitness</th>\n",
       "      <th>Income</th>\n",
       "      <th>Miles</th>\n",
       "    </tr>\n",
       "  </thead>\n",
       "  <tbody>\n",
       "    <tr>\n",
       "      <th>0</th>\n",
       "      <td>TM195</td>\n",
       "      <td>18</td>\n",
       "      <td>Male</td>\n",
       "      <td>14</td>\n",
       "      <td>Single</td>\n",
       "      <td>3</td>\n",
       "      <td>4</td>\n",
       "      <td>29562</td>\n",
       "      <td>112</td>\n",
       "    </tr>\n",
       "    <tr>\n",
       "      <th>1</th>\n",
       "      <td>TM195</td>\n",
       "      <td>19</td>\n",
       "      <td>Male</td>\n",
       "      <td>15</td>\n",
       "      <td>Single</td>\n",
       "      <td>2</td>\n",
       "      <td>3</td>\n",
       "      <td>31836</td>\n",
       "      <td>75</td>\n",
       "    </tr>\n",
       "    <tr>\n",
       "      <th>2</th>\n",
       "      <td>TM195</td>\n",
       "      <td>19</td>\n",
       "      <td>Female</td>\n",
       "      <td>14</td>\n",
       "      <td>Partnered</td>\n",
       "      <td>4</td>\n",
       "      <td>3</td>\n",
       "      <td>30699</td>\n",
       "      <td>66</td>\n",
       "    </tr>\n",
       "    <tr>\n",
       "      <th>3</th>\n",
       "      <td>TM195</td>\n",
       "      <td>19</td>\n",
       "      <td>Male</td>\n",
       "      <td>12</td>\n",
       "      <td>Single</td>\n",
       "      <td>3</td>\n",
       "      <td>3</td>\n",
       "      <td>32973</td>\n",
       "      <td>85</td>\n",
       "    </tr>\n",
       "    <tr>\n",
       "      <th>4</th>\n",
       "      <td>TM195</td>\n",
       "      <td>20</td>\n",
       "      <td>Male</td>\n",
       "      <td>13</td>\n",
       "      <td>Partnered</td>\n",
       "      <td>4</td>\n",
       "      <td>2</td>\n",
       "      <td>35247</td>\n",
       "      <td>47</td>\n",
       "    </tr>\n",
       "  </tbody>\n",
       "</table>\n",
       "</div>"
      ],
      "text/plain": [
       "  Product  Age  Gender  Education MaritalStatus  Usage  Fitness  Income  Miles\n",
       "0   TM195   18    Male         14        Single      3        4   29562    112\n",
       "1   TM195   19    Male         15        Single      2        3   31836     75\n",
       "2   TM195   19  Female         14     Partnered      4        3   30699     66\n",
       "3   TM195   19    Male         12        Single      3        3   32973     85\n",
       "4   TM195   20    Male         13     Partnered      4        2   35247     47"
      ]
     },
     "execution_count": 50,
     "metadata": {},
     "output_type": "execute_result"
    }
   ],
   "source": [
    "df.head()"
   ]
  },
  {
   "cell_type": "code",
   "execution_count": 43,
   "id": "52bab76f",
   "metadata": {},
   "outputs": [
    {
     "data": {
      "application/vnd.jupyter.widget-view+json": {
       "model_id": "10e2698cc44f4a198328fd1763b4afaf",
       "version_major": 2,
       "version_minor": 0
      },
      "text/plain": [
       "HBox(children=(Dropdown(description='Columns:', options=('Product', 'Age', 'Gender', 'Education', 'MaritalStat…"
      ]
     },
     "metadata": {},
     "output_type": "display_data"
    },
    {
     "data": {
      "application/vnd.jupyter.widget-view+json": {
       "model_id": "2dc5543069a6423cb7939b40e869115a",
       "version_major": 2,
       "version_minor": 0
      },
      "text/plain": [
       "Output()"
      ]
     },
     "metadata": {},
     "output_type": "display_data"
    }
   ],
   "source": [
    "%matplotlib widget\n",
    "# Drop down for boxplot variable to be select\n",
    "drop_down_name = ipywidgets.Dropdown(options=list(df.drop(['Miles','Income'],axis=1).columns),\n",
    "                                value=list(df.drop(['Miles','Income'],axis=1).columns)[0],\n",
    "                                description='Columns:',\n",
    "                                disabled=False)\n",
    "#selected_vals = column used to plot\n",
    "def boxplot(selected_vals):\n",
    "    plt.close('all')\n",
    "    fig = plt.figure(figsize=(9,5))\n",
    "    plt.style.use('seaborn')\n",
    "    sns.boxplot(df[selected_vals],df['Miles'])\n",
    "    plt.title('Boxplot of miles for' + selected_vals)\n",
    "    plt.show()\n",
    "\n",
    "#layout for filtering \n",
    "ui2 = ipywidgets.HBox([drop_down_name])\n",
    "# link your function to your input \n",
    "out2 = ipywidgets.interactive_output(boxplot,\n",
    "                                     {'selected_vals' : drop_down_name})\n",
    "# display your box plot\n",
    "display(ui2,out2)"
   ]
  },
  {
   "cell_type": "code",
   "execution_count": 62,
   "id": "3045e0a6",
   "metadata": {},
   "outputs": [
    {
     "data": {
      "application/vnd.jupyter.widget-view+json": {
       "model_id": "c082e2a77c7c43a8ba424329a78ac482",
       "version_major": 2,
       "version_minor": 0
      },
      "text/plain": [
       "HBox(children=(Dropdown(description='X variable:', options=('Product', 'Age', 'Gender', 'Education', 'MaritalS…"
      ]
     },
     "metadata": {},
     "output_type": "display_data"
    },
    {
     "data": {
      "application/vnd.jupyter.widget-view+json": {
       "model_id": "f04f6fa342dc43bd8f9b38d448dc7c46",
       "version_major": 2,
       "version_minor": 0
      },
      "text/plain": [
       "Output()"
      ]
     },
     "metadata": {},
     "output_type": "display_data"
    }
   ],
   "source": [
    "# dropbox select x axis\n",
    "drop_down_x = ipywidgets.Dropdown(options=list(df.columns),\n",
    "                                value=list(df.columns)[0],\n",
    "                                description='X variable:',\n",
    "                                disabled=False)\n",
    "# dropbox select y axis\n",
    "drop_down_y = ipywidgets.Dropdown(options=list(['Miles','Income']),\n",
    "                                value=list(['Miles','Income'])[0],\n",
    "                                description='Y variable:',\n",
    "                                disabled=False)\n",
    "# dropbox select category\n",
    "drop_down_category= ipywidgets.Dropdown(options=list(df.drop(['Miles','Income'],axis=1).columns),\n",
    "                                value=list(df.drop(['Miles','Income'],axis=1).columns)[0],\n",
    "                                description='Category:',\n",
    "                              disabled=False)\n",
    "# scatter plot function\n",
    "def scatter(x,y,category):\n",
    "    plt.close('all')\n",
    "    fig = plt.figure(figsize=(9,5))\n",
    "    plt.style.use('seaborn')\n",
    "    sns.scatterplot(data=df,x=x,y=y,hue=category)\n",
    "    plt.title('Scatterplot of ' +x+' versus '+ y)\n",
    "    #plt.xlabel('Date')\n",
    "    plt.show()\n",
    "    \n",
    "# display the layout of filtering\n",
    "ui3 = ipywidgets.HBox([drop_down_x,drop_down_y,drop_down_category])\n",
    "# related the plot link to filtering \n",
    "out3 = ipywidgets.interactive_output(scatter,\n",
    "                                     {'x' : drop_down_x,\n",
    "                                     'y': drop_down_y,\n",
    "                                     'category':drop_down_category})\n",
    "#display the input and output\n",
    "display(ui3,out3)"
   ]
  },
  {
   "cell_type": "code",
   "execution_count": 61,
   "id": "2601638e",
   "metadata": {},
   "outputs": [
    {
     "data": {
      "application/vnd.jupyter.widget-view+json": {
       "model_id": "ef82fe6ac3c14adeb26d1ba99b1767d3",
       "version_major": 2,
       "version_minor": 0
      },
      "text/plain": [
       "VBox(children=(Dropdown(description='Columns:', index=2, options=('Product', 'Age', 'Gender', 'Education', 'Ma…"
      ]
     },
     "metadata": {},
     "output_type": "display_data"
    }
   ],
   "source": [
    "# example of verticle box\n",
    "e1 = ipywidgets.VBox([drop_down_name,drop_down_x,drop_down_y,drop_down_category])\n",
    "# display your verticle box\n",
    "display(e1)"
   ]
  },
  {
   "cell_type": "code",
   "execution_count": 60,
   "id": "690db464",
   "metadata": {},
   "outputs": [
    {
     "data": {
      "application/vnd.jupyter.widget-view+json": {
       "model_id": "0a5d84b69dde4dfeab966083bdd17091",
       "version_major": 2,
       "version_minor": 0
      },
      "text/plain": [
       "HBox(children=(Dropdown(description='Columns:', index=2, options=('Product', 'Age', 'Gender', 'Education', 'Ma…"
      ]
     },
     "metadata": {},
     "output_type": "display_data"
    }
   ],
   "source": [
    "# example of horizontal box\n",
    "e2 = ipywidgets.HBox([drop_down_name,drop_down_x,drop_down_y,drop_down_category])\n",
    "# display your horizontal box\n",
    "display(e2)"
   ]
  },
  {
   "cell_type": "code",
   "execution_count": null,
   "id": "7c531646",
   "metadata": {},
   "outputs": [],
   "source": []
  }
 ],
 "metadata": {
  "kernelspec": {
   "display_name": "Python 3 (ipykernel)",
   "language": "python",
   "name": "python3"
  },
  "language_info": {
   "codemirror_mode": {
    "name": "ipython",
    "version": 3
   },
   "file_extension": ".py",
   "mimetype": "text/x-python",
   "name": "python",
   "nbconvert_exporter": "python",
   "pygments_lexer": "ipython3",
   "version": "3.9.7"
  }
 },
 "nbformat": 4,
 "nbformat_minor": 5
}
