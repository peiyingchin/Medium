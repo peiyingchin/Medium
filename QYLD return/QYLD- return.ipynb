{
 "cells": [
  {
   "cell_type": "code",
   "execution_count": 3,
   "id": "2a0074b9",
   "metadata": {},
   "outputs": [],
   "source": [
    "import requests\n",
    "import pandas as pd\n",
    "import certifi\n",
    "import json\n",
    "from urllib.request import urlopen\n",
    "from datetime import datetime\n",
    "import time\n",
    "import pandas_ta as ta\n",
    "import numpy as np"
   ]
  },
  {
   "cell_type": "code",
   "execution_count": 4,
   "id": "0c53d00c",
   "metadata": {},
   "outputs": [],
   "source": [
    "\n",
    "def get_jsonparsed_data(url):\n",
    "    response = urlopen(url, cafile=certifi.where())\n",
    "    data = response.read().decode(\"utf-8\")\n",
    "    return pd.DataFrame(json.loads(data))"
   ]
  },
  {
   "cell_type": "code",
   "execution_count": 5,
   "id": "58160291",
   "metadata": {},
   "outputs": [],
   "source": [
    "def Get_Signal(data):    \n",
    "    #table start\n",
    "    df_init =  data.copy()\n",
    "    \n",
    "    '''To make sure row arrange in an ascending order'''\n",
    "    df_init.sort_values(by = 'date',inplace=True)\n",
    "    \n",
    "    '''Process data by remove Null value in moving average varaible that your want to used for triggered''' \n",
    "    #df_init.dropna(subset=['SMA120'],inplace=True)\n",
    "    #df_init.dropna(subset=['SMA120'],inplace=True)\n",
    "    '''generate as 1 if Adj close is higher than variable you want to test, generate as -1 if Adj close is less than the\n",
    "    variable you want to test in a signal variable  \n",
    "    '''\n",
    "    # create a signal variable\n",
    "    #df_init['signal'] = np.nan \n",
    "    # trigger a buy only if it is a up trend \n",
    "    #df_init.loc[(df['adjClose']>=df[variable_lower])&(df[variable_lower]>=df[variable_upper]) ,'Signal'] = 1\n",
    "    \n",
    "    # just triggered sell as close is less than variable triggered\n",
    "    df_init.loc[(df_init['HoldRecordDate']=='Yes') ,'Signal'] = 1\n",
    "    df_init.loc[df_init['date'] == df_init['date'].min(),'Signal'] == 1\n",
    "    #df_init.loc[((df_init['uptrend']==False) ) ,'Signal'] = -1\n",
    "    \n",
    "    ''' move the signal of today to tmr, thus, we need to define a shift(1), as the signal buy is based on yesterday'''\n",
    "    df_init['Signal'] = df_init['Signal'].shift(1)\n",
    "    \n",
    "    '''after we have a buy and sell signal, lets create a hold signal which is equal to 2 after a buy signal and\n",
    "    a do nothing signal which is equal to 0 after a sell signal'''\n",
    "    \n",
    "    # In order to make a decision on a hold or do nothing signal based on yesterday signal we need to create a for loop \n",
    "    # a calendar date should be created to used for a a for loop \n",
    "    date_list = df_init.date.unique()\n",
    "    \n",
    "    # declare a first day, the first date is a null in signal as there is no yesterday data for first data\n",
    "    first_date = date_list[0]\n",
    "    \n",
    "    # declare a previous day \n",
    "    prev = first_date \n",
    "    \n",
    "    for i in date_list:\n",
    "        if i == first_date:\n",
    "            df_init.loc[df_init.date == i,'Signal'] = 1 \n",
    "        else:\n",
    "            \n",
    "    \n",
    "            #print(prev)\n",
    "            # if you have a sell signal yesterday, you should have a do nothing signal today\n",
    "            if (df_init.loc[(df_init.date == prev),'Signal'].values[0]==-1):\n",
    "                df_init.loc[df_init.date == i,'Signal']=0 \n",
    "            # if you have a buy signal yesterday, you should have a hold signal today\n",
    "            elif (df_init.loc[(df_init.date == prev)  ,'Signal'].values[0]==1):\n",
    "                df_init.loc[df_init.date == i,'Signal'] = 2\n",
    "\n",
    "            # if you have a hold signal yesterday and you do not have a sell signal today, you should have a hold signal today\n",
    "            elif ((df_init.loc[(df_init.date == prev) ,'Signal'].values[0]==2)&(df_init.loc[(df_init.date == i) ,'Signal'].values[0]!=-1) ):\n",
    "                df_init.loc[df_init.date == i,'Signal'] = 2\n",
    "\n",
    "            # if you have a do nothing signal yesterday and today is a sell signal, you should equal to have a do nothing signal\n",
    "            elif ((df_init.loc[(df_init.date == prev) ,'Signal'].values[0]==0)&(df_init.loc[(df_init.date == i) ,'Signal'].values[0]==-1) ):\n",
    "                df_init.loc[df_init.date == i,'Signal'] = 0\n",
    "                \n",
    "        # redeclare your previous date before to next day in for loop\n",
    "        prev = i\n",
    "    \n",
    "    return df_init"
   ]
  },
  {
   "cell_type": "code",
   "execution_count": 68,
   "id": "ccf6e958",
   "metadata": {},
   "outputs": [],
   "source": [
    "from statistics import mean\n",
    "import datetime \n",
    "import math\n",
    "# data = dataframe with signal\n",
    "# capital = ur starting capital\n",
    "def backtest_strategy(data,capital):   \n",
    "    \n",
    "    #table start\n",
    "    df_init =  data.copy()\n",
    "    df_init.set_index('date',inplace=True) \n",
    "    df_init.index = pd.to_datetime(df_init.index)\n",
    "    #assign dummy row - day before the trade\n",
    "    \n",
    "    #assign dummy row - day before the trade\n",
    "    start_date = pd.DataFrame(columns=data.columns,index=[df_init.index.min()- datetime.timedelta(days=1)])\n",
    "    df_init = df_init.append(start_date)\n",
    "    \n",
    "    #initiat 2 variable: cash and units which represent each status of cash and units of apple holding for each day\n",
    "    df_init = df_init.assign(cash=np.nan,units = 0)\n",
    "    \n",
    "    #assign capital for first dummy day assigned to be capital defined in function\n",
    "    df_init.loc[pd.Series(df_init.index.min()), 'cash'] = capital\n",
    "    \n",
    "    # obtain list of calendar \n",
    "    calendar = pd.Series(df_init.index.sort_values().unique()).iloc[1:]\n",
    "    \n",
    "    ''' assign a variable which is trade, earn trade and lost trade to calculate total number of trade, total earn trade \n",
    "    and total lost trade'''\n",
    "    trade = 0\n",
    "    earn_trade = 0\n",
    "    loss_trade = 0\n",
    "    \n",
    "    ''' create an array to keep all earn value and lost value for each trade'''\n",
    "    earn_value =[]\n",
    "    lost_value =[]\n",
    "\n",
    "    for date in calendar:\n",
    "        \n",
    "        #get yesterday data\n",
    "        prev_date = df_init.index[df_init.index<date].unique().sort_values()[-1]\n",
    "        \n",
    "        # calculate total stock value of yesterday \n",
    "        stock_holding = df_init.loc[(df_init.index==prev_date), 'units'].values[0]*df_init.loc[(df_init.index==date),'Price'].values[0]\n",
    "        \n",
    "        # total portfolio value by add cash and stock value of yesterday \n",
    "        port_value = stock_holding + df_init.loc[prev_date, 'cash'].sum()\n",
    "\n",
    "        # if signal is do nothing, mean our cash = portfolio value and units=0\n",
    "        if df_init.loc[(df_init.index==date), 'Signal'].values[0] == 0:          \n",
    "            df_init.loc[(df_init.index==date), 'units'] = 0\n",
    "            df_init.loc[(df_init.index==date), 'cash'] =port_value        \n",
    "        #if we have a buy signal \n",
    "        #start to calculate the trade\n",
    "        #we start to calculate start_cap which represent the starting capital for each trade\n",
    "        #unit_buy is total unit buy based on port_value available\n",
    "        elif (df_init.loc[(df_init.index==date), 'Signal'].values[0] == 1) | ((df_init.loc[(df_init.index==date), 'Signal'].values[0] == 2)&(df_init.loc[(df_init.index==date), 'Price'].values[0]<18)):\n",
    "            trade+=1\n",
    "            start_cap = port_value \n",
    "            unit_buy = math.floor(port_value/df_init.loc[(df_init.index==date), 'Price'].values[0])\n",
    "            df_init.loc[(df_init.index==date), 'units'] = unit_buy\n",
    "            df_init.loc[(df_init.index==date), 'dividendPay'] = unit_buy*df_init.loc[(df_init.index==date), 'dividend'].values[0]   \n",
    "            df_init.loc[(df_init.index==date), 'cash'] = port_value - unit_buy*df_init.loc[(df_init.index==date), 'Price'].values[0] + df_init.loc[(df_init.index==date), 'dividendPay']        \n",
    "        elif ((df_init.loc[(df_init.index==date), 'Signal'].values[0] == 2)&(df_init.loc[(df_init.index==date), 'Price'].values[0]>=18)):\n",
    "            trade+=1\n",
    "            start_cap = port_value \n",
    "            unit_buy = math.floor(port_value/df_init.loc[(df_init.index==date), 'Price'].values[0])\n",
    "            df_init.loc[(df_init.index==date), 'units'] =   df_init.loc[(df_init.index==prev_date), 'units'].values[0]\n",
    "            df_init.loc[(df_init.index==date), 'dividendPay'] = unit_buy*df_init.loc[(df_init.index==date), 'dividend'].values[0]   \n",
    "            df_init.loc[(df_init.index==date), 'cash'] = df_init.loc[(df_init.index==date), 'dividendPay']+ df_init.loc[(df_init.index==prev_date), 'cash'].values[0]   \n",
    "        #if we have a hold signal or do nothing signal,\n",
    "        #mean today units hold and cash are same as yesterday units hold and yesterday cash\n",
    "#         elif ((df_init.loc[(df_init.index==date), 'Signal'].values[0] == 2) | (df_init.loc[(df_init.index==date), 'Signal'].values[0] == 0)): \n",
    "#             df_init.loc[(df_init.index==date), 'units'] = df_init.loc[(df_init.index==prev_date), 'units'].values[0]\n",
    "#             df_init.loc[(df_init.index==date), 'dividendPay'] = unit_buy*df_init.loc[(df_init.index==date), 'dividend'].values[0]\n",
    "#             df_init.loc[(df_init.index==date), 'cash'] =df_init.loc[(df_init.index==prev_date), 'cash'].values[0] + unit_buy*df_init.loc[(df_init.index==date), 'dividend'].values[0]\n",
    "        \n",
    "        #if we have a sell signal,\n",
    "        #1. we sell all the units at the today open price and thus units =0 and cash = port_value\n",
    "        #2. we calculate the total earn/lost of this trade by using port_value - start cap of the trade and store as v variable\n",
    "        #3. if v> 0, we store as earn_value array\n",
    "        #4. if v<0, we store as lost trade\n",
    "        elif (df_init.loc[(df_init.index==date), 'Signal'].values[0] == -1):\n",
    "            df_init.loc[(df_init.index==date), 'units'] = 0\n",
    "            df_init.loc[(df_init.index==date), 'cash'] =port_value \n",
    "            if (start_cap is None):\n",
    "                0\n",
    "            else:\n",
    "                v = port_value  - start_cap \n",
    "                if v> 0: \n",
    "                    earn_value.append(v)\n",
    "                    earn_trade +=1\n",
    "                elif v<0: \n",
    "                    lost_value.append(v)\n",
    "                    loss_trade+=1\n",
    "\n",
    "    # calculate current value of the strategy, the formula = unit holding * Price + cash available\n",
    "    df_init['Total_value_todate'] = df_init['units']*df_init['Price'] + df_init['cash'] \n",
    "    \n",
    "    # append 0 to earn value array to prevent later calculation fail if there is no any earn trade\n",
    "    earn_value.append(0)\n",
    "    #remove dummy rows\n",
    "    df_init.drop(df_init[df_init.index == df_init.index.min()].index,axis=0,inplace=True)\n",
    "  \n",
    "    # get summarize of total portfolio value, return by date, benchmark_index\n",
    "    total_port_value = pd.DataFrame(df_init.groupby([df_init.index])['Total_value_todate'].sum())\n",
    "    total_port_value['Return_without_trailing'] = total_port_value['Total_value_todate']/total_port_value['Total_value_todate'].iloc[0] *100\n",
    "    total_port_value['Return_trailing_12m'] = total_port_value['Total_value_todate']/total_port_value['Total_value_todate'].shift(12)*100\n",
    "\n",
    "    return total_port_value, df_init"
   ]
  },
  {
   "cell_type": "code",
   "execution_count": 7,
   "id": "88997d4e",
   "metadata": {},
   "outputs": [],
   "source": [
    "api = 'oX1sBTfvsAn0ALsUptoRGJCxFlY2iXCA'"
   ]
  },
  {
   "cell_type": "code",
   "execution_count": 8,
   "id": "36b1fc0d",
   "metadata": {},
   "outputs": [
    {
     "name": "stderr",
     "output_type": "stream",
     "text": [
      "C:\\Users\\CHIN\\AppData\\Local\\Temp/ipykernel_21560/1728708311.py:2: DeprecationWarning: cafile, capath and cadefault are deprecated, use a custom context instead.\n",
      "  response = urlopen(url, cafile=certifi.where())\n"
     ]
    }
   ],
   "source": [
    "ticker_Select = 'QYLD'\n",
    "daily_stock_link = 'https://financialmodelingprep.com/api/v3/historical-price-full/'+ticker_Select+'?from=2015-01-01&=&apikey='+api\n",
    "daily_stock = get_jsonparsed_data(daily_stock_link )\n",
    "daily_stock = pd.json_normalize(daily_stock['historical'])\n",
    "daily_stock = daily_stock.sort_values(by=['date'])\n",
    "daily_stock['Symbol'] = ticker_Select\n"
   ]
  },
  {
   "cell_type": "code",
   "execution_count": 9,
   "id": "b9cb42d8",
   "metadata": {
    "scrolled": true
   },
   "outputs": [
    {
     "name": "stderr",
     "output_type": "stream",
     "text": [
      "C:\\Users\\CHIN\\AppData\\Local\\Temp/ipykernel_21560/1728708311.py:2: DeprecationWarning: cafile, capath and cadefault are deprecated, use a custom context instead.\n",
      "  response = urlopen(url, cafile=certifi.where())\n"
     ]
    }
   ],
   "source": [
    "dividend_link = 'https://financialmodelingprep.com/api/v3/historical-price-full/stock_dividend/'+ticker_Select+'?apikey='+api\n",
    "dividend_stock = get_jsonparsed_data(dividend_link )\n",
    "dividend_stock = pd.json_normalize(dividend_stock['historical'])\n",
    "dividend_stock = dividend_stock.sort_values(by=['date'])\n",
    "dividend_stock['symbol'] = ticker_Select"
   ]
  },
  {
   "cell_type": "code",
   "execution_count": 10,
   "id": "3d82b163",
   "metadata": {},
   "outputs": [],
   "source": [
    "daily_stock['HoldRecordDate'] = 'Yes'"
   ]
  },
  {
   "cell_type": "code",
   "execution_count": 11,
   "id": "e6124e92",
   "metadata": {},
   "outputs": [],
   "source": [
    "dividend_stock = pd.merge(dividend_stock,daily_stock[['date','HoldRecordDate']], left_on = ['recordDate'], right_on = ['date'], how='left')"
   ]
  },
  {
   "cell_type": "code",
   "execution_count": 12,
   "id": "2a0aa46d",
   "metadata": {},
   "outputs": [],
   "source": [
    "daily_stock = pd.merge(daily_stock.drop(['HoldRecordDate'],axis=1),dividend_stock[['paymentDate','dividend','HoldRecordDate']], right_on= ['paymentDate'], left_on = ['date'],how='left')"
   ]
  },
  {
   "cell_type": "code",
   "execution_count": 13,
   "id": "da782c0a",
   "metadata": {},
   "outputs": [],
   "source": [
    "daily_stock = Get_Signal(data=daily_stock)"
   ]
  },
  {
   "cell_type": "code",
   "execution_count": 18,
   "id": "75ddd033",
   "metadata": {},
   "outputs": [],
   "source": [
    "daily_stock['Price'] = daily_stock['close']"
   ]
  },
  {
   "cell_type": "code",
   "execution_count": 15,
   "id": "aad4ed06",
   "metadata": {},
   "outputs": [],
   "source": [
    "daily_stock['dividend'].fillna(0,inplace=True)"
   ]
  },
  {
   "cell_type": "code",
   "execution_count": 29,
   "id": "75b4277b",
   "metadata": {
    "scrolled": true
   },
   "outputs": [],
   "source": [
    "total , daily_stock_holding = backtest_strategy(daily_stock,capital=1000)"
   ]
  },
  {
   "cell_type": "code",
   "execution_count": 33,
   "id": "d3900896",
   "metadata": {},
   "outputs": [],
   "source": [
    "daily_stock_holding.reset_index().to_csv('dailyStockHolding.csv',index=False)"
   ]
  },
  {
   "cell_type": "code",
   "execution_count": null,
   "id": "63cee37b",
   "metadata": {},
   "outputs": [],
   "source": []
  },
  {
   "cell_type": "code",
   "execution_count": 69,
   "id": "c1b13b07",
   "metadata": {},
   "outputs": [],
   "source": [
    "# annualized return \n",
    "# df =data with return \n",
    "# variable = variable name of return\n",
    "def annualized(df,variable):\n",
    "    days_held =df.shape[0]\n",
    "    Return = (df.iloc[-1][variable] - df.iloc[0][variable])/df.iloc[0][variable]\n",
    "    ar = ((1+Return) ** (365/days_held))-1\n",
    "    # get annualized in %\n",
    "    return ar*100\n",
    "# maximum drawdown \n",
    "# df =data with return \n",
    "# variable = variable name of return\n",
    "def MDD(df,variable):\n",
    "    window = 252\n",
    "    Roll_Max = df[variable].rolling(window, min_periods=1).max()\n",
    "    Drawdown = df[variable]/Roll_Max - 1.0\n",
    "    mdd = Drawdown.min()\n",
    "    # get drawdown in %\n",
    "    return mdd*100"
   ]
  },
  {
   "cell_type": "code",
   "execution_count": 71,
   "id": "82cdf83f",
   "metadata": {},
   "outputs": [],
   "source": [
    "import matplotlib.pyplot as plt\n",
    "# Get signal\n",
    "# back test your strategy using Open price as price action to buy sell on particular day\n",
    "daily_stock['Price']=daily_stock['open']\n",
    "df_backtest = daily_stock.copy()\n",
    "result, hold_detail = backtest_strategy(df_backtest,1000)\n",
    "# calculate the return without trailing of hold without sell \n",
    "hold_detail['hold_without_sell_return (%)'] = daily_stock['close']/daily_stock['close'].iloc[0]*100\n",
    "result['hold_without_sell_return (%)'] = daily_stock.set_index('date')['hold_without_sell_return (%)']\n",
    "result = result.reset_index().rename(columns = {'index':'date'})"
   ]
  },
  {
   "cell_type": "code",
   "execution_count": 72,
   "id": "93f1be8c",
   "metadata": {},
   "outputs": [
    {
     "name": "stdout",
     "output_type": "stream",
     "text": [
      "Annualized_return of best strategy: 13.62859028206833\n",
      "MDD of best strategy: -21.791051780846406\n"
     ]
    },
    {
     "data": {
      "image/png": "[encoded data removed]",
      "text/plain": [
       "<Figure size 1080x432 with 1 Axes>"
      ]
     },
     "metadata": {
      "needs_background": "light"
     },
     "output_type": "display_data"
    }
   ],
   "source": [
    "# plot the return and calculate the annualized return and MDD (maximum draw down) for both strategy\n",
    "plt.rcParams[\"figure.figsize\"] = (15,6)\n",
    "plt.plot(result.set_index('date').Return_without_trailing, label='Return_without_trailing')\n",
    "# plt.plot(result['hold_without_sell_return (%)'], label='Return without trailing of hold without sell')\n",
    "plt.legend()\n",
    "print('Annualized_return of best strategy:',annualized (result,'Return_without_trailing'))\n",
    "print('MDD of best strategy:', MDD(result,'Return_without_trailing'))\n",
    "\n",
    "# print('Annualized_return of hold without sell:',annualized (result,'hold_without_sell_return (%)'))\n",
    "# print('MDD of hold without sell:', MDD(result,'hold_without_sell_return (%)'))\n",
    "# # calculate the return without trailing of hold without sell \n",
    "# # plot the return and calculate the annualized return and MDD (maximum draw down) for both strategy\n",
    "# plt.rcParams[\"figure.figsize\"] = (15,6)\n",
    "# plt.plot(total.Return_without_trailing, label='Return without trailing')\n",
    "# plt.legend()\n",
    "# print('Annualized_return of best strategy:',annualized (result,'Return_without_trailing'))\n",
    "# print('MDD of best strategy:', MDD(result,'Return_without_trailing'))\n",
    "\n",
    "# print('Annualized_return of hold without sell:',annualized (result,'hold_without_sell_return (%)'))\n",
    "# print('MDD of hold without sell:', MDD(result,'hold_without_sell_return (%)'))"
   ]
  },
  {
   "cell_type": "code",
   "execution_count": 73,
   "id": "17cfaa94",
   "metadata": {},
   "outputs": [],
   "source": [
    "hold_detail.to_csv('hold_detail.csv')"
   ]
  },
  {
   "cell_type": "code",
   "execution_count": null,
   "id": "20cd3ca7",
   "metadata": {},
   "outputs": [],
   "source": []
  }
 ],
 "metadata": {
  "kernelspec": {
   "display_name": "Python 3 (ipykernel)",
   "language": "python",
   "name": "python3"
  },
  "language_info": {
   "codemirror_mode": {
    "name": "ipython",
    "version": 3
   },
   "file_extension": ".py",
   "mimetype": "text/x-python",
   "name": "python",
   "nbconvert_exporter": "python",
   "pygments_lexer": "ipython3",
   "version": "3.9.7"
  }
 },
 "nbformat": 4,
 "nbformat_minor": 5
}
