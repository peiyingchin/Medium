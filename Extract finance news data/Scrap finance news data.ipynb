{
 "cells": [
  {
   "cell_type": "code",
   "execution_count": 1,
   "id": "9be7949d",
   "metadata": {},
   "outputs": [],
   "source": [
    "import datetime \n",
    "import pandas as pd\n",
    "import numpy as np\n",
    "from bs4 import BeautifulSoup\n",
    "import requests\n",
    "from datetime import date\n",
    "from selenium import webdriver\n",
    "from webdriver_manager.chrome import ChromeDriverManager\n",
    "import time\n",
    "import requests"
   ]
  },
  {
   "cell_type": "code",
   "execution_count": 2,
   "id": "f36af30d",
   "metadata": {},
   "outputs": [
    {
     "name": "stderr",
     "output_type": "stream",
     "text": [
      "C:\\Users\\CHIN\\AppData\\Local\\Temp/ipykernel_14424/3168819238.py:2: DeprecationWarning: executable_path has been deprecated, please pass in a Service object\n",
      "  driver = webdriver.Chrome(ChromeDriverManager().install())\n"
     ]
    }
   ],
   "source": [
    "#create a driver\n",
    "driver = webdriver.Chrome(ChromeDriverManager().install())\n",
    "\n",
    "# link to extract\n",
    "driver.get(\"https://finance.yahoo.com/\")\n",
    "\n",
    "# set a scroll limit\n",
    "scroll_limit = 160\n",
    "\n",
    "# set count, to count how many times we scroll\n",
    "count = 0\n",
    "\n",
    "#assign a dummy to new height\n",
    "new_height=0\n",
    "\n",
    "# break if we scroll less than scroll limit defined\n",
    "while True and count < scroll_limit:\n",
    "\n",
    "    # give 15 second to make sure all page load\n",
    "    time.sleep(15)\n",
    "    \n",
    "    # to get the height of our document\n",
    "    height = driver.execute_script(\"return document.documentElement.scrollHeight\")\n",
    "    \n",
    "    # if new height = height obtain, we should break the while loop\n",
    "    if new_height == height:\n",
    "        break\n",
    "        \n",
    "    # now new height is the height now\n",
    "    new_height = height\n",
    "    # execute script to scrol until end of height\n",
    "    driver.execute_script(\"window.scrollTo(0, \" + str(height) + \");\")\n",
    "    \n",
    "    # count our scroll limit\n",
    "    count+=1\n",
    "time.sleep(10)\n",
    "    \n",
    "page = driver.page_source\n",
    "driver.close()"
   ]
  },
  {
   "cell_type": "code",
   "execution_count": 4,
   "id": "07eb6550",
   "metadata": {},
   "outputs": [],
   "source": [
    "# parse our page to html parser using beautiful soup\n",
    "soup = BeautifulSoup(page,\"html.parser\")\n",
    "# obtain the header table\n",
    "tabl = soup.find_all(\"li\" , {\"class\" : \"js-stream-content Pos(r)\"})"
   ]
  },
  {
   "cell_type": "code",
   "execution_count": 35,
   "id": "bd784be4",
   "metadata": {},
   "outputs": [],
   "source": [
    "header = []\n",
    "category =[]\n",
    "link =[]\n",
    "val=0\n",
    "for i in tabl:\n",
    "    val+=1\n",
    "    header_value = i.findAll('div')[0].findAll('div')[0].findAll('h3')[0].text\n",
    "    link_value = i.findAll('a',href=True)[0]['href']\n",
    "    if len(i.findAll('div')[0].findAll('div')[0])>=3:\n",
    "        category_value =i.findAll('div')[0].findAll('div')[0].findAll('div')[3].text\n",
    "    else:\n",
    "        category_value ='NA'\n",
    "    header.append(header_value)\n",
    "    category.append(category_value)\n",
    "    link.append(link_value)"
   ]
  },
  {
   "cell_type": "code",
   "execution_count": 41,
   "id": "cf9ece3e",
   "metadata": {},
   "outputs": [],
   "source": [
    "#process the data\n",
    "df= pd.DataFrame({'header': header,'category': category,'link':link})\n",
    "# remove advertisement\n",
    "remove_ads = df[df['category']!='NA'].copy()"
   ]
  },
  {
   "cell_type": "code",
   "execution_count": 42,
   "id": "abfe3ad6",
   "metadata": {},
   "outputs": [],
   "source": [
    "#fix link infront the link we extract\n",
    "fix_link = 'https://finance.yahoo.com'\n",
    "\n",
    "# row by row to extract the link and get our article content\n",
    "for i in range(remove_ads.shape[0]):\n",
    "    header = remove_ads.header[i:i+1].values[0]\n",
    "    url = fix_link+remove_ads.link[i:i+1].values[0]\n",
    "    # get page content\n",
    "    page = requests.get(url, allow_redirects=True)\n",
    "    if (page.status_code == 200):\n",
    "        page_content = page.content\n",
    "        soup = BeautifulSoup(page_content,\"html.parser\")\n",
    "        remove_ads.loc[remove_ads['header']==header,'article_content'] = soup.findAll('div',{'class':'caas-body'})[0].text"
   ]
  },
  {
   "cell_type": "code",
   "execution_count": 46,
   "id": "059414a8",
   "metadata": {},
   "outputs": [
    {
     "data": {
      "text/html": [
       "<div>\n",
       "<style scoped>\n",
       "    .dataframe tbody tr th:only-of-type {\n",
       "        vertical-align: middle;\n",
       "    }\n",
       "\n",
       "    .dataframe tbody tr th {\n",
       "        vertical-align: top;\n",
       "    }\n",
       "\n",
       "    .dataframe thead th {\n",
       "        text-align: right;\n",
       "    }\n",
       "</style>\n",
       "<table border=\"1\" class=\"dataframe\">\n",
       "  <thead>\n",
       "    <tr style=\"text-align: right;\">\n",
       "      <th></th>\n",
       "      <th>header</th>\n",
       "      <th>category</th>\n",
       "      <th>link</th>\n",
       "      <th>article_content</th>\n",
       "    </tr>\n",
       "  </thead>\n",
       "  <tbody>\n",
       "    <tr>\n",
       "      <th>0</th>\n",
       "      <td>This company has wiped out more investor wealt...</td>\n",
       "      <td>Business</td>\n",
       "      <td>/m/2748db21-e293-3769-8d57-c2983cf614e4/this-c...</td>\n",
       "      <td>NaN</td>\n",
       "    </tr>\n",
       "    <tr>\n",
       "      <th>2</th>\n",
       "      <td>McDonald's unveils first automated location, s...</td>\n",
       "      <td>Business</td>\n",
       "      <td>/news/mcdonalds-unveils-first-automated-locati...</td>\n",
       "      <td>McDonald’s opened its first automated restaura...</td>\n",
       "    </tr>\n",
       "    <tr>\n",
       "      <th>3</th>\n",
       "      <td>Elon Musk Warns Against Margin Debt on Risk of...</td>\n",
       "      <td>Business</td>\n",
       "      <td>/news/elon-musk-warns-against-margin-215641054...</td>\n",
       "      <td>(Bloomberg) -- Billionaire Elon Musk is warnin...</td>\n",
       "    </tr>\n",
       "    <tr>\n",
       "      <th>4</th>\n",
       "      <td>Bill Gates Hit By Housing Market Swoon? Billio...</td>\n",
       "      <td>Business</td>\n",
       "      <td>/news/bill-gates-hit-housing-market-192520787....</td>\n",
       "      <td>More evidence for the housing market downturn ...</td>\n",
       "    </tr>\n",
       "    <tr>\n",
       "      <th>5</th>\n",
       "      <td>'Not the time to get greedy': Home flippers ge...</td>\n",
       "      <td>Business</td>\n",
       "      <td>/news/not-time-greedy-home-flippers-110000999....</td>\n",
       "      <td>'Not the time to get greedy': Home flippers ge...</td>\n",
       "    </tr>\n",
       "  </tbody>\n",
       "</table>\n",
       "</div>"
      ],
      "text/plain": [
       "                                              header  category  \\\n",
       "0  This company has wiped out more investor wealt...  Business   \n",
       "2  McDonald's unveils first automated location, s...  Business   \n",
       "3  Elon Musk Warns Against Margin Debt on Risk of...  Business   \n",
       "4  Bill Gates Hit By Housing Market Swoon? Billio...  Business   \n",
       "5  'Not the time to get greedy': Home flippers ge...  Business   \n",
       "\n",
       "                                                link  \\\n",
       "0  /m/2748db21-e293-3769-8d57-c2983cf614e4/this-c...   \n",
       "2  /news/mcdonalds-unveils-first-automated-locati...   \n",
       "3  /news/elon-musk-warns-against-margin-215641054...   \n",
       "4  /news/bill-gates-hit-housing-market-192520787....   \n",
       "5  /news/not-time-greedy-home-flippers-110000999....   \n",
       "\n",
       "                                     article_content  \n",
       "0                                                NaN  \n",
       "2  McDonald’s opened its first automated restaura...  \n",
       "3  (Bloomberg) -- Billionaire Elon Musk is warnin...  \n",
       "4  More evidence for the housing market downturn ...  \n",
       "5  'Not the time to get greedy': Home flippers ge...  "
      ]
     },
     "execution_count": 46,
     "metadata": {},
     "output_type": "execute_result"
    }
   ],
   "source": [
    "remove_ads.head()"
   ]
  },
  {
   "cell_type": "code",
   "execution_count": 72,
   "id": "40ebab2a",
   "metadata": {},
   "outputs": [],
   "source": [
    "remove_ads.to_csv(r'C:\\Users\\CHIN\\Downloads\\medium_dev\\Extract US index news\\Output\\news'+str(date.today())+'.csv',index=False)"
   ]
  },
  {
   "cell_type": "code",
   "execution_count": null,
   "id": "4dbd42ee",
   "metadata": {},
   "outputs": [],
   "source": []
  }
 ],
 "metadata": {
  "kernelspec": {
   "display_name": "Python 3 (ipykernel)",
   "language": "python",
   "name": "python3"
  },
  "language_info": {
   "codemirror_mode": {
    "name": "ipython",
    "version": 3
   },
   "file_extension": ".py",
   "mimetype": "text/x-python",
   "name": "python",
   "nbconvert_exporter": "python",
   "pygments_lexer": "ipython3",
   "version": "3.9.7"
  }
 },
 "nbformat": 4,
 "nbformat_minor": 5
}
