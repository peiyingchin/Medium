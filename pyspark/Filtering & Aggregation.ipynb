{
 "cells": [
  {
   "cell_type": "code",
   "execution_count": 1,
   "id": "5a87c3f3",
   "metadata": {},
   "outputs": [],
   "source": [
    "from pyspark.sql import SparkSession\n"
   ]
  },
  {
   "cell_type": "code",
   "execution_count": 2,
   "id": "b78cec97",
   "metadata": {},
   "outputs": [],
   "source": [
    "#create a spark session\n",
    "spark= SparkSession.builder.appName('Filter_data').getOrCreate()"
   ]
  },
  {
   "cell_type": "code",
   "execution_count": 3,
   "id": "eb1a683d",
   "metadata": {},
   "outputs": [
    {
     "name": "stdout",
     "output_type": "stream",
     "text": [
      "+---------------+-----+--------------+-------+-------------------+---------------------+------+\n",
      "|         row_id|cfips|        county|  state| first_day_of_month|microbusiness_density|active|\n",
      "+---------------+-----+--------------+-------+-------------------+---------------------+------+\n",
      "|1001_2019-08-01| 1001|Autauga County|Alabama|2019-08-01 00:00:00|            3.0076818|  1249|\n",
      "|1001_2019-09-01| 1001|Autauga County|Alabama|2019-09-01 00:00:00|            2.8848701|  1198|\n",
      "|1001_2019-10-01| 1001|Autauga County|Alabama|2019-10-01 00:00:00|            3.0558431|  1269|\n",
      "|1001_2019-11-01| 1001|Autauga County|Alabama|2019-11-01 00:00:00|            2.9932332|  1243|\n",
      "|1001_2019-12-01| 1001|Autauga County|Alabama|2019-12-01 00:00:00|            2.9932332|  1243|\n",
      "|1001_2020-01-01| 1001|Autauga County|Alabama|2020-01-01 00:00:00|              2.96909|  1242|\n",
      "|1001_2020-02-01| 1001|Autauga County|Alabama|2020-02-01 00:00:00|            2.9093256|  1217|\n",
      "|1001_2020-03-01| 1001|Autauga County|Alabama|2020-03-01 00:00:00|            2.9332314|  1227|\n",
      "|1001_2020-04-01| 1001|Autauga County|Alabama|2020-04-01 00:00:00|            3.0001674|  1255|\n",
      "|1001_2020-05-01| 1001|Autauga County|Alabama|2020-05-01 00:00:00|            3.0049484|  1257|\n",
      "|1001_2020-06-01| 1001|Autauga County|Alabama|2020-06-01 00:00:00|            3.0192919|  1263|\n",
      "|1001_2020-07-01| 1001|Autauga County|Alabama|2020-07-01 00:00:00|            3.0838373|  1290|\n",
      "|1001_2020-08-01| 1001|Autauga County|Alabama|2020-08-01 00:00:00|             3.174679|  1328|\n",
      "|1001_2020-09-01| 1001|Autauga County|Alabama|2020-09-01 00:00:00|            3.2057564|  1341|\n",
      "|1001_2020-10-01| 1001|Autauga County|Alabama|2020-10-01 00:00:00|            3.1938035|  1336|\n",
      "|1001_2020-11-01| 1001|Autauga County|Alabama|2020-11-01 00:00:00|            3.0384164|  1271|\n",
      "|1001_2020-12-01| 1001|Autauga County|Alabama|2020-12-01 00:00:00|             3.002558|  1256|\n",
      "|1001_2021-01-01| 1001|Autauga County|Alabama|2021-01-01 00:00:00|            2.9472437|  1243|\n",
      "|1001_2021-02-01| 1001|Autauga County|Alabama|2021-02-01 00:00:00|            3.1061056|  1310|\n",
      "|1001_2021-03-01| 1001|Autauga County|Alabama|2021-03-01 00:00:00|            3.1440427|  1326|\n",
      "+---------------+-----+--------------+-------+-------------------+---------------------+------+\n",
      "only showing top 20 rows\n",
      "\n"
     ]
    }
   ],
   "source": [
    "df = spark.read.csv('train.csv', header= True, inferSchema=True)\n",
    "df.show()"
   ]
  },
  {
   "cell_type": "code",
   "execution_count": 4,
   "id": "1731179a",
   "metadata": {},
   "outputs": [
    {
     "name": "stdout",
     "output_type": "stream",
     "text": [
      "+---------------+-----+--------------+-------+-------------------+---------------------+------+\n",
      "|         row_id|cfips|        county|  state| first_day_of_month|microbusiness_density|active|\n",
      "+---------------+-----+--------------+-------+-------------------+---------------------+------+\n",
      "|1005_2019-08-01| 1005|Barbour County|Alabama|2019-08-01 00:00:00|            1.0731378|   222|\n",
      "|1005_2019-09-01| 1005|Barbour County|Alabama|2019-09-01 00:00:00|           0.99579448|   206|\n",
      "|1005_2019-10-01| 1005|Barbour County|Alabama|2019-10-01 00:00:00|            1.1601489|   240|\n",
      "|1005_2019-11-01| 1005|Barbour County|Alabama|2019-11-01 00:00:00|            1.0006285|   207|\n",
      "|1005_2019-12-01| 1005|Barbour County|Alabama|2019-12-01 00:00:00|            1.0006285|   207|\n",
      "|1005_2020-01-01| 1005|Barbour County|Alabama|2020-01-01 00:00:00|             1.027229|   209|\n",
      "|1005_2020-02-01| 1005|Barbour County|Alabama|2020-02-01 00:00:00|             1.022314|   208|\n",
      "|1005_2020-03-01| 1005|Barbour County|Alabama|2020-03-01 00:00:00|             1.032144|   210|\n",
      "|1005_2020-04-01| 1005|Barbour County|Alabama|2020-04-01 00:00:00|            1.0862086|   221|\n",
      "|1005_2020-05-01| 1005|Barbour County|Alabama|2020-05-01 00:00:00|            1.0812936|   220|\n",
      "|1005_2020-06-01| 1005|Barbour County|Alabama|2020-06-01 00:00:00|           0.99773914|   203|\n",
      "|1005_2020-07-01| 1005|Barbour County|Alabama|2020-07-01 00:00:00|            0.9879092|   201|\n",
      "|1005_2020-08-01| 1005|Barbour County|Alabama|2020-08-01 00:00:00|            0.9829942|   200|\n",
      "|1005_2020-09-01| 1005|Barbour County|Alabama|2020-09-01 00:00:00|             1.022314|   208|\n",
      "|1005_2020-10-01| 1005|Barbour County|Alabama|2020-10-01 00:00:00|            1.0370588|   211|\n",
      "|1005_2020-11-01| 1005|Barbour County|Alabama|2020-11-01 00:00:00|             1.032144|   210|\n",
      "|1005_2020-12-01| 1005|Barbour County|Alabama|2020-12-01 00:00:00|             1.032144|   210|\n",
      "|1005_2021-01-01| 1005|Barbour County|Alabama|2021-01-01 00:00:00|            1.1119976|   223|\n",
      "|1005_2021-02-01| 1005|Barbour County|Alabama|2021-02-01 00:00:00|            1.0721053|   215|\n",
      "|1005_2021-03-01| 1005|Barbour County|Alabama|2021-03-01 00:00:00|            1.0571457|   212|\n",
      "+---------------+-----+--------------+-------+-------------------+---------------------+------+\n",
      "only showing top 20 rows\n",
      "\n"
     ]
    }
   ],
   "source": [
    "# choose the microbusiness_density less than 2\n",
    "df.filter(\"microbusiness_density<2\").show()"
   ]
  },
  {
   "cell_type": "code",
   "execution_count": 5,
   "id": "ed459a14",
   "metadata": {},
   "outputs": [
    {
     "name": "stdout",
     "output_type": "stream",
     "text": [
      "+-------+------+\n",
      "|  state|active|\n",
      "+-------+------+\n",
      "|Alabama|   222|\n",
      "|Alabama|   206|\n",
      "|Alabama|   240|\n",
      "|Alabama|   207|\n",
      "|Alabama|   207|\n",
      "|Alabama|   209|\n",
      "|Alabama|   208|\n",
      "|Alabama|   210|\n",
      "|Alabama|   221|\n",
      "|Alabama|   220|\n",
      "|Alabama|   203|\n",
      "|Alabama|   201|\n",
      "|Alabama|   200|\n",
      "|Alabama|   208|\n",
      "|Alabama|   211|\n",
      "|Alabama|   210|\n",
      "|Alabama|   210|\n",
      "|Alabama|   223|\n",
      "|Alabama|   215|\n",
      "|Alabama|   212|\n",
      "+-------+------+\n",
      "only showing top 20 rows\n",
      "\n"
     ]
    }
   ],
   "source": [
    "# select specific column after filter\n",
    "df.filter(\"microbusiness_density<2\").select(['state','active']).show()"
   ]
  },
  {
   "cell_type": "code",
   "execution_count": 7,
   "id": "2c840c1f",
   "metadata": {},
   "outputs": [
    {
     "name": "stdout",
     "output_type": "stream",
     "text": [
      "+---------------+-----+--------------+-------+-------------------+---------------------+------+\n",
      "|         row_id|cfips|        county|  state| first_day_of_month|microbusiness_density|active|\n",
      "+---------------+-----+--------------+-------+-------------------+---------------------+------+\n",
      "|1005_2019-08-01| 1005|Barbour County|Alabama|2019-08-01 00:00:00|            1.0731378|   222|\n",
      "|1005_2019-09-01| 1005|Barbour County|Alabama|2019-09-01 00:00:00|           0.99579448|   206|\n",
      "|1005_2019-10-01| 1005|Barbour County|Alabama|2019-10-01 00:00:00|            1.1601489|   240|\n",
      "|1005_2019-11-01| 1005|Barbour County|Alabama|2019-11-01 00:00:00|            1.0006285|   207|\n",
      "|1005_2019-12-01| 1005|Barbour County|Alabama|2019-12-01 00:00:00|            1.0006285|   207|\n",
      "|1005_2020-01-01| 1005|Barbour County|Alabama|2020-01-01 00:00:00|             1.027229|   209|\n",
      "|1005_2020-02-01| 1005|Barbour County|Alabama|2020-02-01 00:00:00|             1.022314|   208|\n",
      "|1005_2020-03-01| 1005|Barbour County|Alabama|2020-03-01 00:00:00|             1.032144|   210|\n",
      "|1005_2020-04-01| 1005|Barbour County|Alabama|2020-04-01 00:00:00|            1.0862086|   221|\n",
      "|1005_2020-05-01| 1005|Barbour County|Alabama|2020-05-01 00:00:00|            1.0812936|   220|\n",
      "|1005_2020-06-01| 1005|Barbour County|Alabama|2020-06-01 00:00:00|           0.99773914|   203|\n",
      "|1005_2020-07-01| 1005|Barbour County|Alabama|2020-07-01 00:00:00|            0.9879092|   201|\n",
      "|1005_2020-08-01| 1005|Barbour County|Alabama|2020-08-01 00:00:00|            0.9829942|   200|\n",
      "|1005_2020-09-01| 1005|Barbour County|Alabama|2020-09-01 00:00:00|             1.022314|   208|\n",
      "|1005_2020-10-01| 1005|Barbour County|Alabama|2020-10-01 00:00:00|            1.0370588|   211|\n",
      "|1005_2020-11-01| 1005|Barbour County|Alabama|2020-11-01 00:00:00|             1.032144|   210|\n",
      "|1005_2020-12-01| 1005|Barbour County|Alabama|2020-12-01 00:00:00|             1.032144|   210|\n",
      "|1005_2021-01-01| 1005|Barbour County|Alabama|2021-01-01 00:00:00|            1.1119976|   223|\n",
      "|1005_2021-02-01| 1005|Barbour County|Alabama|2021-02-01 00:00:00|            1.0721053|   215|\n",
      "|1005_2021-03-01| 1005|Barbour County|Alabama|2021-03-01 00:00:00|            1.0571457|   212|\n",
      "+---------------+-----+--------------+-------+-------------------+---------------------+------+\n",
      "only showing top 20 rows\n",
      "\n"
     ]
    }
   ],
   "source": [
    "# choose the microbusiness_density less than 2\n",
    "df.filter(df['microbusiness_density']<2).show()"
   ]
  },
  {
   "cell_type": "code",
   "execution_count": 8,
   "id": "217049c9",
   "metadata": {},
   "outputs": [
    {
     "name": "stdout",
     "output_type": "stream",
     "text": [
      "+---------------+-----+--------------+-------+-------------------+---------------------+------+\n",
      "|         row_id|cfips|        county|  state| first_day_of_month|microbusiness_density|active|\n",
      "+---------------+-----+--------------+-------+-------------------+---------------------+------+\n",
      "|1005_2019-08-01| 1005|Barbour County|Alabama|2019-08-01 00:00:00|            1.0731378|   222|\n",
      "|1005_2019-10-01| 1005|Barbour County|Alabama|2019-10-01 00:00:00|            1.1601489|   240|\n",
      "|1005_2019-11-01| 1005|Barbour County|Alabama|2019-11-01 00:00:00|            1.0006285|   207|\n",
      "|1005_2019-12-01| 1005|Barbour County|Alabama|2019-12-01 00:00:00|            1.0006285|   207|\n",
      "|1005_2020-01-01| 1005|Barbour County|Alabama|2020-01-01 00:00:00|             1.027229|   209|\n",
      "|1005_2020-02-01| 1005|Barbour County|Alabama|2020-02-01 00:00:00|             1.022314|   208|\n",
      "|1005_2020-03-01| 1005|Barbour County|Alabama|2020-03-01 00:00:00|             1.032144|   210|\n",
      "|1005_2020-04-01| 1005|Barbour County|Alabama|2020-04-01 00:00:00|            1.0862086|   221|\n",
      "|1005_2020-05-01| 1005|Barbour County|Alabama|2020-05-01 00:00:00|            1.0812936|   220|\n",
      "|1005_2020-09-01| 1005|Barbour County|Alabama|2020-09-01 00:00:00|             1.022314|   208|\n",
      "|1005_2020-10-01| 1005|Barbour County|Alabama|2020-10-01 00:00:00|            1.0370588|   211|\n",
      "|1005_2020-11-01| 1005|Barbour County|Alabama|2020-11-01 00:00:00|             1.032144|   210|\n",
      "|1005_2020-12-01| 1005|Barbour County|Alabama|2020-12-01 00:00:00|             1.032144|   210|\n",
      "|1005_2021-01-01| 1005|Barbour County|Alabama|2021-01-01 00:00:00|            1.1119976|   223|\n",
      "|1005_2021-02-01| 1005|Barbour County|Alabama|2021-02-01 00:00:00|            1.0721053|   215|\n",
      "|1005_2021-03-01| 1005|Barbour County|Alabama|2021-03-01 00:00:00|            1.0571457|   212|\n",
      "|1005_2021-04-01| 1005|Barbour County|Alabama|2021-04-01 00:00:00|            1.1020246|   221|\n",
      "|1005_2021-05-01| 1005|Barbour County|Alabama|2021-05-01 00:00:00|             1.097038|   220|\n",
      "|1005_2021-06-01| 1005|Barbour County|Alabama|2021-06-01 00:00:00|            1.1070111|   222|\n",
      "|1005_2021-07-01| 1005|Barbour County|Alabama|2021-07-01 00:00:00|            1.1469034|   230|\n",
      "+---------------+-----+--------------+-------+-------------------+---------------------+------+\n",
      "only showing top 20 rows\n",
      "\n"
     ]
    }
   ],
   "source": [
    "#filter with and\n",
    "df.filter((df['microbusiness_density']<2)& (df['microbusiness_density']>1)).show()"
   ]
  },
  {
   "cell_type": "code",
   "execution_count": 9,
   "id": "cc94608a",
   "metadata": {},
   "outputs": [
    {
     "name": "stdout",
     "output_type": "stream",
     "text": [
      "+---------------+-----+--------------+-------+-------------------+---------------------+------+\n",
      "|         row_id|cfips|        county|  state| first_day_of_month|microbusiness_density|active|\n",
      "+---------------+-----+--------------+-------+-------------------+---------------------+------+\n",
      "|1001_2019-08-01| 1001|Autauga County|Alabama|2019-08-01 00:00:00|            3.0076818|  1249|\n",
      "|1001_2019-09-01| 1001|Autauga County|Alabama|2019-09-01 00:00:00|            2.8848701|  1198|\n",
      "|1001_2019-10-01| 1001|Autauga County|Alabama|2019-10-01 00:00:00|            3.0558431|  1269|\n",
      "|1001_2019-11-01| 1001|Autauga County|Alabama|2019-11-01 00:00:00|            2.9932332|  1243|\n",
      "|1001_2019-12-01| 1001|Autauga County|Alabama|2019-12-01 00:00:00|            2.9932332|  1243|\n",
      "|1001_2020-01-01| 1001|Autauga County|Alabama|2020-01-01 00:00:00|              2.96909|  1242|\n",
      "|1001_2020-02-01| 1001|Autauga County|Alabama|2020-02-01 00:00:00|            2.9093256|  1217|\n",
      "|1001_2020-03-01| 1001|Autauga County|Alabama|2020-03-01 00:00:00|            2.9332314|  1227|\n",
      "|1001_2020-04-01| 1001|Autauga County|Alabama|2020-04-01 00:00:00|            3.0001674|  1255|\n",
      "|1001_2020-05-01| 1001|Autauga County|Alabama|2020-05-01 00:00:00|            3.0049484|  1257|\n",
      "|1001_2020-06-01| 1001|Autauga County|Alabama|2020-06-01 00:00:00|            3.0192919|  1263|\n",
      "|1001_2020-07-01| 1001|Autauga County|Alabama|2020-07-01 00:00:00|            3.0838373|  1290|\n",
      "|1001_2020-08-01| 1001|Autauga County|Alabama|2020-08-01 00:00:00|             3.174679|  1328|\n",
      "|1001_2020-09-01| 1001|Autauga County|Alabama|2020-09-01 00:00:00|            3.2057564|  1341|\n",
      "|1001_2020-10-01| 1001|Autauga County|Alabama|2020-10-01 00:00:00|            3.1938035|  1336|\n",
      "|1001_2020-11-01| 1001|Autauga County|Alabama|2020-11-01 00:00:00|            3.0384164|  1271|\n",
      "|1001_2020-12-01| 1001|Autauga County|Alabama|2020-12-01 00:00:00|             3.002558|  1256|\n",
      "|1001_2021-01-01| 1001|Autauga County|Alabama|2021-01-01 00:00:00|            2.9472437|  1243|\n",
      "|1001_2021-02-01| 1001|Autauga County|Alabama|2021-02-01 00:00:00|            3.1061056|  1310|\n",
      "|1001_2021-03-01| 1001|Autauga County|Alabama|2021-03-01 00:00:00|            3.1440427|  1326|\n",
      "+---------------+-----+--------------+-------+-------------------+---------------------+------+\n",
      "only showing top 20 rows\n",
      "\n"
     ]
    }
   ],
   "source": [
    "#filter with OR\n",
    "df.filter((df['microbusiness_density']<2)| (df['active']>100)).show()"
   ]
  },
  {
   "cell_type": "code",
   "execution_count": 10,
   "id": "582fbd7d",
   "metadata": {},
   "outputs": [
    {
     "name": "stdout",
     "output_type": "stream",
     "text": [
      "+---------------+-----+--------------+-------+-------------------+---------------------+------+\n",
      "|         row_id|cfips|        county|  state| first_day_of_month|microbusiness_density|active|\n",
      "+---------------+-----+--------------+-------+-------------------+---------------------+------+\n",
      "|1001_2019-08-01| 1001|Autauga County|Alabama|2019-08-01 00:00:00|            3.0076818|  1249|\n",
      "|1001_2019-09-01| 1001|Autauga County|Alabama|2019-09-01 00:00:00|            2.8848701|  1198|\n",
      "|1001_2019-10-01| 1001|Autauga County|Alabama|2019-10-01 00:00:00|            3.0558431|  1269|\n",
      "|1001_2019-11-01| 1001|Autauga County|Alabama|2019-11-01 00:00:00|            2.9932332|  1243|\n",
      "|1001_2019-12-01| 1001|Autauga County|Alabama|2019-12-01 00:00:00|            2.9932332|  1243|\n",
      "|1001_2020-01-01| 1001|Autauga County|Alabama|2020-01-01 00:00:00|              2.96909|  1242|\n",
      "|1001_2020-02-01| 1001|Autauga County|Alabama|2020-02-01 00:00:00|            2.9093256|  1217|\n",
      "|1001_2020-03-01| 1001|Autauga County|Alabama|2020-03-01 00:00:00|            2.9332314|  1227|\n",
      "|1001_2020-04-01| 1001|Autauga County|Alabama|2020-04-01 00:00:00|            3.0001674|  1255|\n",
      "|1001_2020-05-01| 1001|Autauga County|Alabama|2020-05-01 00:00:00|            3.0049484|  1257|\n",
      "|1001_2020-06-01| 1001|Autauga County|Alabama|2020-06-01 00:00:00|            3.0192919|  1263|\n",
      "|1001_2020-07-01| 1001|Autauga County|Alabama|2020-07-01 00:00:00|            3.0838373|  1290|\n",
      "|1001_2020-08-01| 1001|Autauga County|Alabama|2020-08-01 00:00:00|             3.174679|  1328|\n",
      "|1001_2020-09-01| 1001|Autauga County|Alabama|2020-09-01 00:00:00|            3.2057564|  1341|\n",
      "|1001_2020-10-01| 1001|Autauga County|Alabama|2020-10-01 00:00:00|            3.1938035|  1336|\n",
      "|1001_2020-11-01| 1001|Autauga County|Alabama|2020-11-01 00:00:00|            3.0384164|  1271|\n",
      "|1001_2020-12-01| 1001|Autauga County|Alabama|2020-12-01 00:00:00|             3.002558|  1256|\n",
      "|1001_2021-01-01| 1001|Autauga County|Alabama|2021-01-01 00:00:00|            2.9472437|  1243|\n",
      "|1001_2021-02-01| 1001|Autauga County|Alabama|2021-02-01 00:00:00|            3.1061056|  1310|\n",
      "|1001_2021-03-01| 1001|Autauga County|Alabama|2021-03-01 00:00:00|            3.1440427|  1326|\n",
      "+---------------+-----+--------------+-------+-------------------+---------------------+------+\n",
      "only showing top 20 rows\n",
      "\n"
     ]
    }
   ],
   "source": [
    "# filter the microbusiness+density that is not less than 2\n",
    "df.filter(~(df['microbusiness_density']<2)).show()"
   ]
  },
  {
   "cell_type": "code",
   "execution_count": 14,
   "id": "f2a8a26c",
   "metadata": {},
   "outputs": [
    {
     "name": "stdout",
     "output_type": "stream",
     "text": [
      "+--------------------+------------------+--------------------------+------------------+\n",
      "|               state|        avg(cfips)|avg(microbusiness_density)|       avg(active)|\n",
      "+--------------------+------------------+--------------------------+------------------+\n",
      "|              Hawaii|           15005.0|         9.122058478051285|15992.764102564102|\n",
      "|           Minnesota|           27087.0|        3.4671598379605033|3166.7188328912466|\n",
      "|            Arkansas|            5075.0|        1.9989254604273534|1068.9353846153847|\n",
      "|         Connecticut|            9008.0|         7.107430659615382|30994.798076923078|\n",
      "|            Illinois|           17102.0|         3.270005284389146| 7333.907239819005|\n",
      "|District of Columbia|           11001.0|        13.508988897435893| 76588.69230769231|\n",
      "|            Delaware|           10003.0|        18.184606643589746| 47753.51282051282|\n",
      "|              Alaska| 2145.222222222222|         4.426646068518514|1065.1101614434947|\n",
      "|            Missouri| 29117.71304347826|        2.7203143462251993| 2297.540022296544|\n",
      "|             Georgia|13161.490566037735|        3.2914747468676038| 4163.261248185777|\n",
      "|            Michigan|           26083.0|        3.5986449169910384|6206.0259499536605|\n",
      "|              Kansas|           20105.0|        2.4630906599438376|1148.1760683760683|\n",
      "|            Maryland|24044.958333333332|         7.069416237820523| 18334.26923076923|\n",
      "|             Alabama|            1067.0|         2.223274170225795| 2240.986988136242|\n",
      "|             Arizona| 4013.866666666667|         4.932728832991453|  38980.4905982906|\n",
      "|                Iowa|           19099.0|        3.1209353856021727| 1069.802382802383|\n",
      "|       Massachusetts|           25014.0|         8.891999218681327| 31843.48717948718|\n",
      "|            Kentucky|           21120.0|        2.0771598257542747| 1120.567094017094|\n",
      "|           Louisiana|           22064.0|         2.245847658794075|2353.4082532051284|\n",
      "|         Mississippi|           28082.0|        1.6962961070662907| 750.6432145090681|\n",
      "+--------------------+------------------+--------------------------+------------------+\n",
      "only showing top 20 rows\n",
      "\n"
     ]
    }
   ],
   "source": [
    "#####Groupby state provide a mean\n",
    "df.groupBy('state').mean().show()"
   ]
  },
  {
   "cell_type": "code",
   "execution_count": 18,
   "id": "e61fc62a",
   "metadata": {},
   "outputs": [
    {
     "name": "stdout",
     "output_type": "stream",
     "text": [
      "+-----------------+-----------+----------+--------------------------+------------------+\n",
      "|           county|      state|avg(cfips)|avg(microbusiness_density)|       avg(active)|\n",
      "+-----------------+-----------+----------+--------------------------+------------------+\n",
      "|     Lamar County|    Alabama|    1075.0|        0.8542493764102564|  92.6923076923077|\n",
      "|Crittenden County|   Arkansas|    5035.0|        1.6927223871794872| 599.6923076923077|\n",
      "|  Ouachita County|   Arkansas|    5103.0|        1.2110203179487182|223.97435897435898|\n",
      "| Highlands County|    Florida|   12055.0|         3.499623443589743| 2986.923076923077|\n",
      "|   Catoosa County|    Georgia|   13047.0|        2.7568027564102557|1412.2307692307693|\n",
      "|      Gila County|    Arizona|    4007.0|         4.225077728205129|1806.4871794871794|\n",
      "|Rockcastle County|   Kentucky|   21203.0|        0.7843419256410259| 102.7948717948718|\n",
      "|     Scott County|   Kentucky|   21209.0|         3.518385535897436| 1425.179487179487|\n",
      "|Tishomingo County|Mississippi|   28141.0|        1.1549823964102566|175.56410256410257|\n",
      "|    Walton County|    Florida|   12131.0|        21.533258846153842|11651.641025641025|\n",
      "|    Newton County|    Georgia|   13217.0|         4.897522976923075| 3879.897435897436|\n",
      "|   Kendall County|   Illinois|   17093.0|          5.67168238974359|  5062.51282051282|\n",
      "|    Menard County|   Illinois|   17129.0|         2.305028176923077| 221.2051282051282|\n",
      "|    Ripley County|    Indiana|   18137.0|        15.769745666666669| 3414.128205128205|\n",
      "|     Scott County|     Kansas|   20171.0|        2.2961228871794863| 82.94871794871794|\n",
      "|Livingston Parish|  Louisiana|   22063.0|        3.2419994410256407|3334.4358974358975|\n",
      "|   Lowndes County|    Alabama|    1085.0|        1.2450889256410254| 97.46153846153847|\n",
      "|Montgomery County|   Arkansas|    5097.0|         2.099744789743589|153.35897435897436|\n",
      "|      Inyo County| California|    6027.0|         5.171930138461539| 743.3589743589744|\n",
      "| Archuleta County|   Colorado|    8007.0|        13.240608512820513| 1438.076923076923|\n",
      "+-----------------+-----------+----------+--------------------------+------------------+\n",
      "only showing top 20 rows\n",
      "\n"
     ]
    }
   ],
   "source": [
    "#####Groupby country and state provide a mean\n",
    "df.groupBy(['county','state']).mean().show()"
   ]
  },
  {
   "cell_type": "code",
   "execution_count": 21,
   "id": "6b4f041e",
   "metadata": {},
   "outputs": [
    {
     "name": "stdout",
     "output_type": "stream",
     "text": [
      "+-----------------+-----------+----------+--------------------------+-----------+\n",
      "|           county|      state|min(cfips)|min(microbusiness_density)|min(active)|\n",
      "+-----------------+-----------+----------+--------------------------+-----------+\n",
      "|     Lamar County|    Alabama|      1075|                0.73610598|         80|\n",
      "|Crittenden County|   Arkansas|      5035|                 1.5083513|        531|\n",
      "|  Ouachita County|   Arkansas|      5103|                 1.0457031|        197|\n",
      "| Highlands County|    Florida|     12055|                 2.8296299|       2375|\n",
      "|   Catoosa County|    Georgia|     13047|                 2.6733174|       1365|\n",
      "|      Gila County|    Arizona|      4007|                 4.0140066|       1708|\n",
      "|Rockcastle County|   Kentucky|     21203|                0.71761203|         94|\n",
      "|     Scott County|   Kentucky|     21209|                 3.3334968|       1360|\n",
      "|Tishomingo County|Mississippi|     28141|                0.91990274|        140|\n",
      "|    Walton County|    Florida|     12131|                 14.805797|       7479|\n",
      "|    Newton County|    Georgia|     13217|                 4.4499936|       3475|\n",
      "|   Kendall County|   Illinois|     17093|                 5.4993477|       4950|\n",
      "|    Menard County|   Illinois|     17129|                 2.1384823|        206|\n",
      "|    Ripley County|    Indiana|     18137|                 14.852399|       3220|\n",
      "|     Scott County|     Kansas|     20171|                      1.92|         72|\n",
      "|Livingston Parish|  Louisiana|     22063|                 3.0763953|       3139|\n",
      "|   Lowndes County|    Alabama|      1085|                 1.0118897|         80|\n",
      "|Montgomery County|   Arkansas|      5097|                 1.9715225|        144|\n",
      "|      Inyo County| California|      6027|                 4.7605791|        684|\n",
      "| Archuleta County|   Colorado|      8007|                 12.551293|       1388|\n",
      "+-----------------+-----------+----------+--------------------------+-----------+\n",
      "only showing top 20 rows\n",
      "\n"
     ]
    }
   ],
   "source": [
    "#####Groupby country and state provide a minimum value\n",
    "df.groupBy(['county','state']).min().show()"
   ]
  },
  {
   "cell_type": "code",
   "execution_count": 20,
   "id": "129a483c",
   "metadata": {},
   "outputs": [
    {
     "name": "stdout",
     "output_type": "stream",
     "text": [
      "+--------------------------+\n",
      "|max(microbusiness_density)|\n",
      "+--------------------------+\n",
      "|                 284.34003|\n",
      "+--------------------------+\n",
      "\n"
     ]
    }
   ],
   "source": [
    "# aggregate without group by\n",
    "df.agg({'microbusiness_density':'max',''}).show()"
   ]
  },
  {
   "cell_type": "code",
   "execution_count": null,
   "id": "e4d5d425",
   "metadata": {},
   "outputs": [],
   "source": []
  }
 ],
 "metadata": {
  "kernelspec": {
   "display_name": "Python 3 (ipykernel)",
   "language": "python",
   "name": "python3"
  },
  "language_info": {
   "codemirror_mode": {
    "name": "ipython",
    "version": 3
   },
   "file_extension": ".py",
   "mimetype": "text/x-python",
   "name": "python",
   "nbconvert_exporter": "python",
   "pygments_lexer": "ipython3",
   "version": "3.9.7"
  }
 },
 "nbformat": 4,
 "nbformat_minor": 5
}
