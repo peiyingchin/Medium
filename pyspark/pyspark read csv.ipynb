{
 "cells": [
  {
   "cell_type": "code",
   "execution_count": 1,
   "id": "05801f82",
   "metadata": {},
   "outputs": [],
   "source": [
    "import pyspark\n",
    "import pandas as pd\n",
    "from pyspark.sql import functions as F"
   ]
  },
  {
   "cell_type": "code",
   "execution_count": 2,
   "id": "a539d630",
   "metadata": {},
   "outputs": [],
   "source": [
    "# start a spark session\n",
    "from pyspark.sql import SparkSession\n",
    "spark = SparkSession.builder.appName('Demo').getOrCreate()"
   ]
  },
  {
   "cell_type": "code",
   "execution_count": 3,
   "id": "f4b99beb",
   "metadata": {},
   "outputs": [
    {
     "data": {
      "text/html": [
       "\n",
       "            <div>\n",
       "                <p><b>SparkSession - in-memory</b></p>\n",
       "                \n",
       "        <div>\n",
       "            <p><b>SparkContext</b></p>\n",
       "\n",
       "            <p><a href=\"http://DESKTOP-KMGMT4B.mshome.net:4041\">Spark UI</a></p>\n",
       "\n",
       "            <dl>\n",
       "              <dt>Version</dt>\n",
       "                <dd><code>v3.3.1</code></dd>\n",
       "              <dt>Master</dt>\n",
       "                <dd><code>local[*]</code></dd>\n",
       "              <dt>AppName</dt>\n",
       "                <dd><code>Demo</code></dd>\n",
       "            </dl>\n",
       "        </div>\n",
       "        \n",
       "            </div>\n",
       "        "
      ],
      "text/plain": [
       "<pyspark.sql.session.SparkSession at 0x1ce52ae9af0>"
      ]
     },
     "execution_count": 3,
     "metadata": {},
     "output_type": "execute_result"
    }
   ],
   "source": [
    "spark"
   ]
  },
  {
   "cell_type": "code",
   "execution_count": 4,
   "id": "d931cad6",
   "metadata": {},
   "outputs": [],
   "source": [
    "# to read csv using spark\n",
    "df_pyspark = spark.read.csv('train.csv')"
   ]
  },
  {
   "cell_type": "code",
   "execution_count": 5,
   "id": "f4510b62",
   "metadata": {},
   "outputs": [
    {
     "name": "stdout",
     "output_type": "stream",
     "text": [
      "+---------------+-----+--------------+-------+------------------+--------------------+------+\n",
      "|            _c0|  _c1|           _c2|    _c3|               _c4|                 _c5|   _c6|\n",
      "+---------------+-----+--------------+-------+------------------+--------------------+------+\n",
      "|         row_id|cfips|        county|  state|first_day_of_month|microbusiness_den...|active|\n",
      "|1001_2019-08-01| 1001|Autauga County|Alabama|        2019-08-01|           3.0076818|  1249|\n",
      "|1001_2019-09-01| 1001|Autauga County|Alabama|        2019-09-01|           2.8848701|  1198|\n",
      "|1001_2019-10-01| 1001|Autauga County|Alabama|        2019-10-01|           3.0558431|  1269|\n",
      "|1001_2019-11-01| 1001|Autauga County|Alabama|        2019-11-01|           2.9932332|  1243|\n",
      "|1001_2019-12-01| 1001|Autauga County|Alabama|        2019-12-01|           2.9932332|  1243|\n",
      "|1001_2020-01-01| 1001|Autauga County|Alabama|        2020-01-01|             2.96909|  1242|\n",
      "|1001_2020-02-01| 1001|Autauga County|Alabama|        2020-02-01|           2.9093256|  1217|\n",
      "|1001_2020-03-01| 1001|Autauga County|Alabama|        2020-03-01|           2.9332314|  1227|\n",
      "|1001_2020-04-01| 1001|Autauga County|Alabama|        2020-04-01|           3.0001674|  1255|\n",
      "|1001_2020-05-01| 1001|Autauga County|Alabama|        2020-05-01|           3.0049484|  1257|\n",
      "|1001_2020-06-01| 1001|Autauga County|Alabama|        2020-06-01|           3.0192919|  1263|\n",
      "|1001_2020-07-01| 1001|Autauga County|Alabama|        2020-07-01|           3.0838373|  1290|\n",
      "|1001_2020-08-01| 1001|Autauga County|Alabama|        2020-08-01|            3.174679|  1328|\n",
      "|1001_2020-09-01| 1001|Autauga County|Alabama|        2020-09-01|           3.2057564|  1341|\n",
      "|1001_2020-10-01| 1001|Autauga County|Alabama|        2020-10-01|           3.1938035|  1336|\n",
      "|1001_2020-11-01| 1001|Autauga County|Alabama|        2020-11-01|           3.0384164|  1271|\n",
      "|1001_2020-12-01| 1001|Autauga County|Alabama|        2020-12-01|            3.002558|  1256|\n",
      "|1001_2021-01-01| 1001|Autauga County|Alabama|        2021-01-01|           2.9472437|  1243|\n",
      "|1001_2021-02-01| 1001|Autauga County|Alabama|        2021-02-01|           3.1061056|  1310|\n",
      "+---------------+-----+--------------+-------+------------------+--------------------+------+\n",
      "only showing top 20 rows\n",
      "\n"
     ]
    }
   ],
   "source": [
    "# to show data\n",
    "df_pyspark.show()"
   ]
  },
  {
   "cell_type": "code",
   "execution_count": 6,
   "id": "0f92a8f6",
   "metadata": {},
   "outputs": [],
   "source": [
    "# to show header\n",
    "df_pyspark = spark.read.option('header','true').csv('train.csv')"
   ]
  },
  {
   "cell_type": "code",
   "execution_count": 7,
   "id": "10f35d03",
   "metadata": {},
   "outputs": [
    {
     "name": "stdout",
     "output_type": "stream",
     "text": [
      "+---------------+-----+--------------+-------+------------------+---------------------+------+\n",
      "|         row_id|cfips|        county|  state|first_day_of_month|microbusiness_density|active|\n",
      "+---------------+-----+--------------+-------+------------------+---------------------+------+\n",
      "|1001_2019-08-01| 1001|Autauga County|Alabama|        2019-08-01|            3.0076818|  1249|\n",
      "|1001_2019-09-01| 1001|Autauga County|Alabama|        2019-09-01|            2.8848701|  1198|\n",
      "|1001_2019-10-01| 1001|Autauga County|Alabama|        2019-10-01|            3.0558431|  1269|\n",
      "|1001_2019-11-01| 1001|Autauga County|Alabama|        2019-11-01|            2.9932332|  1243|\n",
      "|1001_2019-12-01| 1001|Autauga County|Alabama|        2019-12-01|            2.9932332|  1243|\n",
      "|1001_2020-01-01| 1001|Autauga County|Alabama|        2020-01-01|              2.96909|  1242|\n",
      "|1001_2020-02-01| 1001|Autauga County|Alabama|        2020-02-01|            2.9093256|  1217|\n",
      "|1001_2020-03-01| 1001|Autauga County|Alabama|        2020-03-01|            2.9332314|  1227|\n",
      "|1001_2020-04-01| 1001|Autauga County|Alabama|        2020-04-01|            3.0001674|  1255|\n",
      "|1001_2020-05-01| 1001|Autauga County|Alabama|        2020-05-01|            3.0049484|  1257|\n",
      "|1001_2020-06-01| 1001|Autauga County|Alabama|        2020-06-01|            3.0192919|  1263|\n",
      "|1001_2020-07-01| 1001|Autauga County|Alabama|        2020-07-01|            3.0838373|  1290|\n",
      "|1001_2020-08-01| 1001|Autauga County|Alabama|        2020-08-01|             3.174679|  1328|\n",
      "|1001_2020-09-01| 1001|Autauga County|Alabama|        2020-09-01|            3.2057564|  1341|\n",
      "|1001_2020-10-01| 1001|Autauga County|Alabama|        2020-10-01|            3.1938035|  1336|\n",
      "|1001_2020-11-01| 1001|Autauga County|Alabama|        2020-11-01|            3.0384164|  1271|\n",
      "|1001_2020-12-01| 1001|Autauga County|Alabama|        2020-12-01|             3.002558|  1256|\n",
      "|1001_2021-01-01| 1001|Autauga County|Alabama|        2021-01-01|            2.9472437|  1243|\n",
      "|1001_2021-02-01| 1001|Autauga County|Alabama|        2021-02-01|            3.1061056|  1310|\n",
      "|1001_2021-03-01| 1001|Autauga County|Alabama|        2021-03-01|            3.1440427|  1326|\n",
      "+---------------+-----+--------------+-------+------------------+---------------------+------+\n",
      "only showing top 20 rows\n",
      "\n"
     ]
    }
   ],
   "source": [
    "# to show data\n",
    "df_pyspark.show()"
   ]
  },
  {
   "cell_type": "code",
   "execution_count": 8,
   "id": "8b364f09",
   "metadata": {},
   "outputs": [
    {
     "name": "stdout",
     "output_type": "stream",
     "text": [
      "root\n",
      " |-- row_id: string (nullable = true)\n",
      " |-- cfips: string (nullable = true)\n",
      " |-- county: string (nullable = true)\n",
      " |-- state: string (nullable = true)\n",
      " |-- first_day_of_month: string (nullable = true)\n",
      " |-- microbusiness_density: string (nullable = true)\n",
      " |-- active: string (nullable = true)\n",
      "\n"
     ]
    }
   ],
   "source": [
    "# same like df.info\n",
    "df_pyspark.printSchema()"
   ]
  },
  {
   "cell_type": "code",
   "execution_count": 45,
   "id": "c0c99cd1",
   "metadata": {},
   "outputs": [],
   "source": [
    "# to read csv with setting inferSchemar=True with correct schema columns provided\n",
    "df_pyspark = spark.read.csv('train.csv',header=True,inferSchema=True)"
   ]
  },
  {
   "cell_type": "code",
   "execution_count": 46,
   "id": "339a4f77",
   "metadata": {},
   "outputs": [
    {
     "name": "stdout",
     "output_type": "stream",
     "text": [
      "root\n",
      " |-- row_id: string (nullable = true)\n",
      " |-- cfips: integer (nullable = true)\n",
      " |-- county: string (nullable = true)\n",
      " |-- state: string (nullable = true)\n",
      " |-- first_day_of_month: timestamp (nullable = true)\n",
      " |-- microbusiness_density: double (nullable = true)\n",
      " |-- active: integer (nullable = true)\n",
      "\n"
     ]
    }
   ],
   "source": [
    "# same like df.info\n",
    "df_pyspark.printSchema()"
   ]
  },
  {
   "cell_type": "code",
   "execution_count": 47,
   "id": "7ae26351",
   "metadata": {},
   "outputs": [
    {
     "data": {
      "text/plain": [
       "DataFrame[state: string, first_day_of_month: timestamp]"
      ]
     },
     "execution_count": 47,
     "metadata": {},
     "output_type": "execute_result"
    }
   ],
   "source": [
    "# select only 2 columns\n",
    "df_pyspark.select(['state','first_day_of_month'])"
   ]
  },
  {
   "cell_type": "code",
   "execution_count": 48,
   "id": "542a9c1f",
   "metadata": {},
   "outputs": [
    {
     "data": {
      "text/plain": [
       "pyspark.sql.dataframe.DataFrame"
      ]
     },
     "execution_count": 48,
     "metadata": {},
     "output_type": "execute_result"
    }
   ],
   "source": [
    "# type of columns name\n",
    "type(df_pyspark.select(['state','first_day_of_month']))"
   ]
  },
  {
   "cell_type": "code",
   "execution_count": 49,
   "id": "c3005b7f",
   "metadata": {},
   "outputs": [
    {
     "name": "stdout",
     "output_type": "stream",
     "text": [
      "+-------+-------------------+\n",
      "|  state| first_day_of_month|\n",
      "+-------+-------------------+\n",
      "|Alabama|2019-08-01 00:00:00|\n",
      "|Alabama|2019-09-01 00:00:00|\n",
      "|Alabama|2019-10-01 00:00:00|\n",
      "|Alabama|2019-11-01 00:00:00|\n",
      "|Alabama|2019-12-01 00:00:00|\n",
      "|Alabama|2020-01-01 00:00:00|\n",
      "|Alabama|2020-02-01 00:00:00|\n",
      "|Alabama|2020-03-01 00:00:00|\n",
      "|Alabama|2020-04-01 00:00:00|\n",
      "|Alabama|2020-05-01 00:00:00|\n",
      "|Alabama|2020-06-01 00:00:00|\n",
      "|Alabama|2020-07-01 00:00:00|\n",
      "|Alabama|2020-08-01 00:00:00|\n",
      "|Alabama|2020-09-01 00:00:00|\n",
      "|Alabama|2020-10-01 00:00:00|\n",
      "|Alabama|2020-11-01 00:00:00|\n",
      "|Alabama|2020-12-01 00:00:00|\n",
      "|Alabama|2021-01-01 00:00:00|\n",
      "|Alabama|2021-02-01 00:00:00|\n",
      "|Alabama|2021-03-01 00:00:00|\n",
      "+-------+-------------------+\n",
      "only showing top 20 rows\n",
      "\n"
     ]
    }
   ],
   "source": [
    "# show only columns selected\n",
    "df_pyspark.select(['state','first_day_of_month']).show()"
   ]
  },
  {
   "cell_type": "code",
   "execution_count": 50,
   "id": "4e648d5c",
   "metadata": {},
   "outputs": [
    {
     "name": "stdout",
     "output_type": "stream",
     "text": [
      "+-------+----------------+------------------+----------------+-------+---------------------+-----------------+\n",
      "|summary|          row_id|             cfips|          county|  state|microbusiness_density|           active|\n",
      "+-------+----------------+------------------+----------------+-------+---------------------+-----------------+\n",
      "|  count|          122265|            122265|          122265| 122265|               122265|           122265|\n",
      "|   mean|            null| 30376.03763955343|            null|   null|   3.8176705691469994|6442.858217805586|\n",
      "| stddev|            null|15143.508721389686|            null|   null|    4.991086802428138|33040.01249296402|\n",
      "|    min|10001_2019-08-01|              1001|Abbeville County|Alabama|                  0.0|                0|\n",
      "|    max| 9015_2022-10-01|             56045|  Ziebach County|Wyoming|            284.34003|          1167744|\n",
      "+-------+----------------+------------------+----------------+-------+---------------------+-----------------+\n",
      "\n"
     ]
    }
   ],
   "source": [
    "# show statistic of the data\n",
    "df_pyspark.describe().show()"
   ]
  },
  {
   "cell_type": "code",
   "execution_count": 54,
   "id": "217d3953",
   "metadata": {},
   "outputs": [],
   "source": [
    "# add a new column with name next month, by adding 1 month into first_day_of_month\n",
    "months_to_add = 1 \n",
    "df_pyspark = df_pyspark.withColumn(\"next_month\", F.add_months(\"first_day_of_month\", months_to_add))"
   ]
  },
  {
   "cell_type": "code",
   "execution_count": 55,
   "id": "67ab7f28",
   "metadata": {},
   "outputs": [
    {
     "name": "stdout",
     "output_type": "stream",
     "text": [
      "+---------------+-----+--------------+-------+-------------------+---------------------+------+----------+\n",
      "|         row_id|cfips|        county|  state| first_day_of_month|microbusiness_density|active|next_month|\n",
      "+---------------+-----+--------------+-------+-------------------+---------------------+------+----------+\n",
      "|1001_2019-08-01| 1001|Autauga County|Alabama|2019-08-01 00:00:00|            3.0076818|  1249|2019-09-01|\n",
      "|1001_2019-09-01| 1001|Autauga County|Alabama|2019-09-01 00:00:00|            2.8848701|  1198|2019-10-01|\n",
      "|1001_2019-10-01| 1001|Autauga County|Alabama|2019-10-01 00:00:00|            3.0558431|  1269|2019-11-01|\n",
      "|1001_2019-11-01| 1001|Autauga County|Alabama|2019-11-01 00:00:00|            2.9932332|  1243|2019-12-01|\n",
      "|1001_2019-12-01| 1001|Autauga County|Alabama|2019-12-01 00:00:00|            2.9932332|  1243|2020-01-01|\n",
      "|1001_2020-01-01| 1001|Autauga County|Alabama|2020-01-01 00:00:00|              2.96909|  1242|2020-02-01|\n",
      "|1001_2020-02-01| 1001|Autauga County|Alabama|2020-02-01 00:00:00|            2.9093256|  1217|2020-03-01|\n",
      "|1001_2020-03-01| 1001|Autauga County|Alabama|2020-03-01 00:00:00|            2.9332314|  1227|2020-04-01|\n",
      "|1001_2020-04-01| 1001|Autauga County|Alabama|2020-04-01 00:00:00|            3.0001674|  1255|2020-05-01|\n",
      "|1001_2020-05-01| 1001|Autauga County|Alabama|2020-05-01 00:00:00|            3.0049484|  1257|2020-06-01|\n",
      "|1001_2020-06-01| 1001|Autauga County|Alabama|2020-06-01 00:00:00|            3.0192919|  1263|2020-07-01|\n",
      "|1001_2020-07-01| 1001|Autauga County|Alabama|2020-07-01 00:00:00|            3.0838373|  1290|2020-08-01|\n",
      "|1001_2020-08-01| 1001|Autauga County|Alabama|2020-08-01 00:00:00|             3.174679|  1328|2020-09-01|\n",
      "|1001_2020-09-01| 1001|Autauga County|Alabama|2020-09-01 00:00:00|            3.2057564|  1341|2020-10-01|\n",
      "|1001_2020-10-01| 1001|Autauga County|Alabama|2020-10-01 00:00:00|            3.1938035|  1336|2020-11-01|\n",
      "|1001_2020-11-01| 1001|Autauga County|Alabama|2020-11-01 00:00:00|            3.0384164|  1271|2020-12-01|\n",
      "|1001_2020-12-01| 1001|Autauga County|Alabama|2020-12-01 00:00:00|             3.002558|  1256|2021-01-01|\n",
      "|1001_2021-01-01| 1001|Autauga County|Alabama|2021-01-01 00:00:00|            2.9472437|  1243|2021-02-01|\n",
      "|1001_2021-02-01| 1001|Autauga County|Alabama|2021-02-01 00:00:00|            3.1061056|  1310|2021-03-01|\n",
      "|1001_2021-03-01| 1001|Autauga County|Alabama|2021-03-01 00:00:00|            3.1440427|  1326|2021-04-01|\n",
      "+---------------+-----+--------------+-------+-------------------+---------------------+------+----------+\n",
      "only showing top 20 rows\n",
      "\n"
     ]
    }
   ],
   "source": [
    "df_pyspark.show()"
   ]
  },
  {
   "cell_type": "code",
   "execution_count": 58,
   "id": "b797c09a",
   "metadata": {},
   "outputs": [
    {
     "name": "stdout",
     "output_type": "stream",
     "text": [
      "+---------------+-----+--------------+-------+-------------------+---------------------+------+\n",
      "|         row_id|cfips|        county|  state| first_day_of_month|microbusiness_density|active|\n",
      "+---------------+-----+--------------+-------+-------------------+---------------------+------+\n",
      "|1001_2019-08-01| 1001|Autauga County|Alabama|2019-08-01 00:00:00|            3.0076818|  1249|\n",
      "|1001_2019-09-01| 1001|Autauga County|Alabama|2019-09-01 00:00:00|            2.8848701|  1198|\n",
      "|1001_2019-10-01| 1001|Autauga County|Alabama|2019-10-01 00:00:00|            3.0558431|  1269|\n",
      "|1001_2019-11-01| 1001|Autauga County|Alabama|2019-11-01 00:00:00|            2.9932332|  1243|\n",
      "|1001_2019-12-01| 1001|Autauga County|Alabama|2019-12-01 00:00:00|            2.9932332|  1243|\n",
      "|1001_2020-01-01| 1001|Autauga County|Alabama|2020-01-01 00:00:00|              2.96909|  1242|\n",
      "|1001_2020-02-01| 1001|Autauga County|Alabama|2020-02-01 00:00:00|            2.9093256|  1217|\n",
      "|1001_2020-03-01| 1001|Autauga County|Alabama|2020-03-01 00:00:00|            2.9332314|  1227|\n",
      "|1001_2020-04-01| 1001|Autauga County|Alabama|2020-04-01 00:00:00|            3.0001674|  1255|\n",
      "|1001_2020-05-01| 1001|Autauga County|Alabama|2020-05-01 00:00:00|            3.0049484|  1257|\n",
      "|1001_2020-06-01| 1001|Autauga County|Alabama|2020-06-01 00:00:00|            3.0192919|  1263|\n",
      "|1001_2020-07-01| 1001|Autauga County|Alabama|2020-07-01 00:00:00|            3.0838373|  1290|\n",
      "|1001_2020-08-01| 1001|Autauga County|Alabama|2020-08-01 00:00:00|             3.174679|  1328|\n",
      "|1001_2020-09-01| 1001|Autauga County|Alabama|2020-09-01 00:00:00|            3.2057564|  1341|\n",
      "|1001_2020-10-01| 1001|Autauga County|Alabama|2020-10-01 00:00:00|            3.1938035|  1336|\n",
      "|1001_2020-11-01| 1001|Autauga County|Alabama|2020-11-01 00:00:00|            3.0384164|  1271|\n",
      "|1001_2020-12-01| 1001|Autauga County|Alabama|2020-12-01 00:00:00|             3.002558|  1256|\n",
      "|1001_2021-01-01| 1001|Autauga County|Alabama|2021-01-01 00:00:00|            2.9472437|  1243|\n",
      "|1001_2021-02-01| 1001|Autauga County|Alabama|2021-02-01 00:00:00|            3.1061056|  1310|\n",
      "|1001_2021-03-01| 1001|Autauga County|Alabama|2021-03-01 00:00:00|            3.1440427|  1326|\n",
      "+---------------+-----+--------------+-------+-------------------+---------------------+------+\n",
      "only showing top 20 rows\n",
      "\n"
     ]
    }
   ],
   "source": [
    "# drop the columns\n",
    "df_pyspark.drop('next_month').show()"
   ]
  },
  {
   "cell_type": "code",
   "execution_count": 60,
   "id": "fd9840ae",
   "metadata": {},
   "outputs": [
    {
     "name": "stdout",
     "output_type": "stream",
     "text": [
      "+---------------+-----+--------------+-------+-------------------+---------------------+------+----------+\n",
      "|             id|cfips|        county|  state| first_day_of_month|microbusiness_density|active|next_month|\n",
      "+---------------+-----+--------------+-------+-------------------+---------------------+------+----------+\n",
      "|1001_2019-08-01| 1001|Autauga County|Alabama|2019-08-01 00:00:00|            3.0076818|  1249|2019-09-01|\n",
      "|1001_2019-09-01| 1001|Autauga County|Alabama|2019-09-01 00:00:00|            2.8848701|  1198|2019-10-01|\n",
      "|1001_2019-10-01| 1001|Autauga County|Alabama|2019-10-01 00:00:00|            3.0558431|  1269|2019-11-01|\n",
      "|1001_2019-11-01| 1001|Autauga County|Alabama|2019-11-01 00:00:00|            2.9932332|  1243|2019-12-01|\n",
      "|1001_2019-12-01| 1001|Autauga County|Alabama|2019-12-01 00:00:00|            2.9932332|  1243|2020-01-01|\n",
      "|1001_2020-01-01| 1001|Autauga County|Alabama|2020-01-01 00:00:00|              2.96909|  1242|2020-02-01|\n",
      "|1001_2020-02-01| 1001|Autauga County|Alabama|2020-02-01 00:00:00|            2.9093256|  1217|2020-03-01|\n",
      "|1001_2020-03-01| 1001|Autauga County|Alabama|2020-03-01 00:00:00|            2.9332314|  1227|2020-04-01|\n",
      "|1001_2020-04-01| 1001|Autauga County|Alabama|2020-04-01 00:00:00|            3.0001674|  1255|2020-05-01|\n",
      "|1001_2020-05-01| 1001|Autauga County|Alabama|2020-05-01 00:00:00|            3.0049484|  1257|2020-06-01|\n",
      "|1001_2020-06-01| 1001|Autauga County|Alabama|2020-06-01 00:00:00|            3.0192919|  1263|2020-07-01|\n",
      "|1001_2020-07-01| 1001|Autauga County|Alabama|2020-07-01 00:00:00|            3.0838373|  1290|2020-08-01|\n",
      "|1001_2020-08-01| 1001|Autauga County|Alabama|2020-08-01 00:00:00|             3.174679|  1328|2020-09-01|\n",
      "|1001_2020-09-01| 1001|Autauga County|Alabama|2020-09-01 00:00:00|            3.2057564|  1341|2020-10-01|\n",
      "|1001_2020-10-01| 1001|Autauga County|Alabama|2020-10-01 00:00:00|            3.1938035|  1336|2020-11-01|\n",
      "|1001_2020-11-01| 1001|Autauga County|Alabama|2020-11-01 00:00:00|            3.0384164|  1271|2020-12-01|\n",
      "|1001_2020-12-01| 1001|Autauga County|Alabama|2020-12-01 00:00:00|             3.002558|  1256|2021-01-01|\n",
      "|1001_2021-01-01| 1001|Autauga County|Alabama|2021-01-01 00:00:00|            2.9472437|  1243|2021-02-01|\n",
      "|1001_2021-02-01| 1001|Autauga County|Alabama|2021-02-01 00:00:00|            3.1061056|  1310|2021-03-01|\n",
      "|1001_2021-03-01| 1001|Autauga County|Alabama|2021-03-01 00:00:00|            3.1440427|  1326|2021-04-01|\n",
      "+---------------+-----+--------------+-------+-------------------+---------------------+------+----------+\n",
      "only showing top 20 rows\n",
      "\n"
     ]
    }
   ],
   "source": [
    "# rename the columns\n",
    "df_pyspark.withColumnRenamed('row_id','id').show()"
   ]
  },
  {
   "cell_type": "code",
   "execution_count": null,
   "id": "9983d88b",
   "metadata": {},
   "outputs": [],
   "source": []
  }
 ],
 "metadata": {
  "kernelspec": {
   "display_name": "Python 3 (ipykernel)",
   "language": "python",
   "name": "python3"
  },
  "language_info": {
   "codemirror_mode": {
    "name": "ipython",
    "version": 3
   },
   "file_extension": ".py",
   "mimetype": "text/x-python",
   "name": "python",
   "nbconvert_exporter": "python",
   "pygments_lexer": "ipython3",
   "version": "3.9.7"
  }
 },
 "nbformat": 4,
 "nbformat_minor": 5
}
