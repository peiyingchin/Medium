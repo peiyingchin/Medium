{
 "cells": [
  {
   "cell_type": "code",
   "execution_count": 1,
   "id": "c28be0c4",
   "metadata": {},
   "outputs": [],
   "source": [
    "import pyspark\n",
    "import pandas as pd\n",
    "from pyspark.sql import SparkSession"
   ]
  },
  {
   "cell_type": "code",
   "execution_count": 2,
   "id": "f075ef56",
   "metadata": {},
   "outputs": [],
   "source": [
    "# start a spark session\n",
    "spark = SparkSession.builder.appName('Demo_missing_value').getOrCreate()"
   ]
  },
  {
   "cell_type": "code",
   "execution_count": 3,
   "id": "41754bc2",
   "metadata": {},
   "outputs": [
    {
     "data": {
      "text/html": [
       "\n",
       "            <div>\n",
       "                <p><b>SparkSession - in-memory</b></p>\n",
       "                \n",
       "        <div>\n",
       "            <p><b>SparkContext</b></p>\n",
       "\n",
       "            <p><a href=\"http://DESKTOP-KMGMT4B.mshome.net:4040\">Spark UI</a></p>\n",
       "\n",
       "            <dl>\n",
       "              <dt>Version</dt>\n",
       "                <dd><code>v3.3.1</code></dd>\n",
       "              <dt>Master</dt>\n",
       "                <dd><code>local[*]</code></dd>\n",
       "              <dt>AppName</dt>\n",
       "                <dd><code>Demo_missing_value</code></dd>\n",
       "            </dl>\n",
       "        </div>\n",
       "        \n",
       "            </div>\n",
       "        "
      ],
      "text/plain": [
       "<pyspark.sql.session.SparkSession at 0x1880c938b20>"
      ]
     },
     "execution_count": 3,
     "metadata": {},
     "output_type": "execute_result"
    }
   ],
   "source": [
    "spark"
   ]
  },
  {
   "cell_type": "code",
   "execution_count": 5,
   "id": "1dd210da",
   "metadata": {},
   "outputs": [],
   "source": [
    "# read the data\n",
    "df = spark.read.csv('train.csv',header=True,inferSchema=True)"
   ]
  },
  {
   "cell_type": "code",
   "execution_count": 7,
   "id": "70f579b5",
   "metadata": {},
   "outputs": [
    {
     "name": "stdout",
     "output_type": "stream",
     "text": [
      "+-----+--------------+-------+-------------------+---------------------+------+\n",
      "|cfips|        county|  state| first_day_of_month|microbusiness_density|active|\n",
      "+-----+--------------+-------+-------------------+---------------------+------+\n",
      "| 1001|Autauga County|Alabama|2019-08-01 00:00:00|            3.0076818|  1249|\n",
      "| 1001|Autauga County|Alabama|2019-09-01 00:00:00|            2.8848701|  1198|\n",
      "| 1001|Autauga County|Alabama|2019-10-01 00:00:00|            3.0558431|  1269|\n",
      "| 1001|Autauga County|Alabama|2019-11-01 00:00:00|            2.9932332|  1243|\n",
      "| 1001|Autauga County|Alabama|2019-12-01 00:00:00|            2.9932332|  1243|\n",
      "| 1001|Autauga County|Alabama|2020-01-01 00:00:00|              2.96909|  1242|\n",
      "| 1001|Autauga County|Alabama|2020-02-01 00:00:00|            2.9093256|  1217|\n",
      "| 1001|Autauga County|Alabama|2020-03-01 00:00:00|            2.9332314|  1227|\n",
      "| 1001|Autauga County|Alabama|2020-04-01 00:00:00|            3.0001674|  1255|\n",
      "| 1001|Autauga County|Alabama|2020-05-01 00:00:00|            3.0049484|  1257|\n",
      "| 1001|Autauga County|Alabama|2020-06-01 00:00:00|            3.0192919|  1263|\n",
      "| 1001|Autauga County|Alabama|2020-07-01 00:00:00|            3.0838373|  1290|\n",
      "| 1001|Autauga County|Alabama|2020-08-01 00:00:00|             3.174679|  1328|\n",
      "| 1001|Autauga County|Alabama|2020-09-01 00:00:00|            3.2057564|  1341|\n",
      "| 1001|Autauga County|Alabama|2020-10-01 00:00:00|            3.1938035|  1336|\n",
      "| 1001|Autauga County|Alabama|2020-11-01 00:00:00|            3.0384164|  1271|\n",
      "| 1001|Autauga County|Alabama|2020-12-01 00:00:00|             3.002558|  1256|\n",
      "| 1001|Autauga County|Alabama|2021-01-01 00:00:00|            2.9472437|  1243|\n",
      "| 1001|Autauga County|Alabama|2021-02-01 00:00:00|            3.1061056|  1310|\n",
      "| 1001|Autauga County|Alabama|2021-03-01 00:00:00|            3.1440427|  1326|\n",
      "+-----+--------------+-------+-------------------+---------------------+------+\n",
      "only showing top 20 rows\n",
      "\n"
     ]
    }
   ],
   "source": [
    "#drop columns\n",
    "df.drop('row_id').show()"
   ]
  },
  {
   "cell_type": "code",
   "execution_count": 8,
   "id": "86405b46",
   "metadata": {},
   "outputs": [
    {
     "name": "stdout",
     "output_type": "stream",
     "text": [
      "+---------------+-----+--------------+-------+-------------------+---------------------+------+\n",
      "|         row_id|cfips|        county|  state| first_day_of_month|microbusiness_density|active|\n",
      "+---------------+-----+--------------+-------+-------------------+---------------------+------+\n",
      "|1001_2019-08-01| 1001|Autauga County|Alabama|2019-08-01 00:00:00|            3.0076818|  1249|\n",
      "|1001_2019-09-01| 1001|Autauga County|Alabama|2019-09-01 00:00:00|            2.8848701|  1198|\n",
      "|1001_2019-10-01| 1001|Autauga County|Alabama|2019-10-01 00:00:00|            3.0558431|  1269|\n",
      "|1001_2019-11-01| 1001|Autauga County|Alabama|2019-11-01 00:00:00|            2.9932332|  1243|\n",
      "|1001_2019-12-01| 1001|Autauga County|Alabama|2019-12-01 00:00:00|            2.9932332|  1243|\n",
      "|1001_2020-01-01| 1001|Autauga County|Alabama|2020-01-01 00:00:00|              2.96909|  1242|\n",
      "|1001_2020-02-01| 1001|Autauga County|Alabama|2020-02-01 00:00:00|            2.9093256|  1217|\n",
      "|1001_2020-03-01| 1001|Autauga County|Alabama|2020-03-01 00:00:00|            2.9332314|  1227|\n",
      "|1001_2020-04-01| 1001|Autauga County|Alabama|2020-04-01 00:00:00|            3.0001674|  1255|\n",
      "|1001_2020-05-01| 1001|Autauga County|Alabama|2020-05-01 00:00:00|            3.0049484|  1257|\n",
      "|1001_2020-06-01| 1001|Autauga County|Alabama|2020-06-01 00:00:00|            3.0192919|  1263|\n",
      "|1001_2020-07-01| 1001|Autauga County|Alabama|2020-07-01 00:00:00|            3.0838373|  1290|\n",
      "|1001_2020-08-01| 1001|Autauga County|Alabama|2020-08-01 00:00:00|             3.174679|  1328|\n",
      "|1001_2020-09-01| 1001|Autauga County|Alabama|2020-09-01 00:00:00|            3.2057564|  1341|\n",
      "|1001_2020-10-01| 1001|Autauga County|Alabama|2020-10-01 00:00:00|            3.1938035|  1336|\n",
      "|1001_2020-11-01| 1001|Autauga County|Alabama|2020-11-01 00:00:00|            3.0384164|  1271|\n",
      "|1001_2020-12-01| 1001|Autauga County|Alabama|2020-12-01 00:00:00|             3.002558|  1256|\n",
      "|1001_2021-01-01| 1001|Autauga County|Alabama|2021-01-01 00:00:00|            2.9472437|  1243|\n",
      "|1001_2021-02-01| 1001|Autauga County|Alabama|2021-02-01 00:00:00|            3.1061056|  1310|\n",
      "|1001_2021-03-01| 1001|Autauga County|Alabama|2021-03-01 00:00:00|            3.1440427|  1326|\n",
      "+---------------+-----+--------------+-------+-------------------+---------------------+------+\n",
      "only showing top 20 rows\n",
      "\n"
     ]
    }
   ],
   "source": [
    "# drop row when there is null values exist more than 2\n",
    "df.na.drop(how=\"any\",thresh=2).show()"
   ]
  },
  {
   "cell_type": "code",
   "execution_count": null,
   "id": "3b2b1873",
   "metadata": {},
   "outputs": [],
   "source": [
    "# drop row when there is null values in columns selected\n",
    "df.na.drop(how=\"any\",subset = ['county']).show()"
   ]
  },
  {
   "cell_type": "code",
   "execution_count": 9,
   "id": "06d30d46",
   "metadata": {},
   "outputs": [
    {
     "name": "stdout",
     "output_type": "stream",
     "text": [
      "+---------------+-----+--------------+-------+-------------------+---------------------+------+\n",
      "|         row_id|cfips|        county|  state| first_day_of_month|microbusiness_density|active|\n",
      "+---------------+-----+--------------+-------+-------------------+---------------------+------+\n",
      "|1001_2019-08-01| 1001|Autauga County|Alabama|2019-08-01 00:00:00|            3.0076818|  1249|\n",
      "|1001_2019-09-01| 1001|Autauga County|Alabama|2019-09-01 00:00:00|            2.8848701|  1198|\n",
      "|1001_2019-10-01| 1001|Autauga County|Alabama|2019-10-01 00:00:00|            3.0558431|  1269|\n",
      "|1001_2019-11-01| 1001|Autauga County|Alabama|2019-11-01 00:00:00|            2.9932332|  1243|\n",
      "|1001_2019-12-01| 1001|Autauga County|Alabama|2019-12-01 00:00:00|            2.9932332|  1243|\n",
      "|1001_2020-01-01| 1001|Autauga County|Alabama|2020-01-01 00:00:00|              2.96909|  1242|\n",
      "|1001_2020-02-01| 1001|Autauga County|Alabama|2020-02-01 00:00:00|            2.9093256|  1217|\n",
      "|1001_2020-03-01| 1001|Autauga County|Alabama|2020-03-01 00:00:00|            2.9332314|  1227|\n",
      "|1001_2020-04-01| 1001|Autauga County|Alabama|2020-04-01 00:00:00|            3.0001674|  1255|\n",
      "|1001_2020-05-01| 1001|Autauga County|Alabama|2020-05-01 00:00:00|            3.0049484|  1257|\n",
      "|1001_2020-06-01| 1001|Autauga County|Alabama|2020-06-01 00:00:00|            3.0192919|  1263|\n",
      "|1001_2020-07-01| 1001|Autauga County|Alabama|2020-07-01 00:00:00|            3.0838373|  1290|\n",
      "|1001_2020-08-01| 1001|Autauga County|Alabama|2020-08-01 00:00:00|             3.174679|  1328|\n",
      "|1001_2020-09-01| 1001|Autauga County|Alabama|2020-09-01 00:00:00|            3.2057564|  1341|\n",
      "|1001_2020-10-01| 1001|Autauga County|Alabama|2020-10-01 00:00:00|            3.1938035|  1336|\n",
      "|1001_2020-11-01| 1001|Autauga County|Alabama|2020-11-01 00:00:00|            3.0384164|  1271|\n",
      "|1001_2020-12-01| 1001|Autauga County|Alabama|2020-12-01 00:00:00|             3.002558|  1256|\n",
      "|1001_2021-01-01| 1001|Autauga County|Alabama|2021-01-01 00:00:00|            2.9472437|  1243|\n",
      "|1001_2021-02-01| 1001|Autauga County|Alabama|2021-02-01 00:00:00|            3.1061056|  1310|\n",
      "|1001_2021-03-01| 1001|Autauga County|Alabama|2021-03-01 00:00:00|            3.1440427|  1326|\n",
      "+---------------+-----+--------------+-------+-------------------+---------------------+------+\n",
      "only showing top 20 rows\n",
      "\n"
     ]
    }
   ],
   "source": [
    "# fill the missing value with 'missing values'  defined\n",
    "df.na.fill('Missing Values').show()"
   ]
  },
  {
   "cell_type": "code",
   "execution_count": 12,
   "id": "e9b9ddc1",
   "metadata": {},
   "outputs": [],
   "source": [
    "#input missing value with mean\n",
    "from pyspark.ml.feature import Imputer\n",
    "\n",
    "imputer = Imputer (inputCols = ['cfips','active','microbusiness_density'], \n",
    "                  outputCols = [\"{}_imputed\".format(c) for c in ['cfips','active','microbusiness_density']]).setStrategy(\"mean\")"
   ]
  },
  {
   "cell_type": "code",
   "execution_count": 13,
   "id": "caa5ce8b",
   "metadata": {},
   "outputs": [
    {
     "name": "stdout",
     "output_type": "stream",
     "text": [
      "+---------------+-----+--------------+-------+-------------------+---------------------+------+-------------+--------------+-----------------------------+\n",
      "|         row_id|cfips|        county|  state| first_day_of_month|microbusiness_density|active|cfips_imputed|active_imputed|microbusiness_density_imputed|\n",
      "+---------------+-----+--------------+-------+-------------------+---------------------+------+-------------+--------------+-----------------------------+\n",
      "|1001_2019-08-01| 1001|Autauga County|Alabama|2019-08-01 00:00:00|            3.0076818|  1249|         1001|          1249|                    3.0076818|\n",
      "|1001_2019-09-01| 1001|Autauga County|Alabama|2019-09-01 00:00:00|            2.8848701|  1198|         1001|          1198|                    2.8848701|\n",
      "|1001_2019-10-01| 1001|Autauga County|Alabama|2019-10-01 00:00:00|            3.0558431|  1269|         1001|          1269|                    3.0558431|\n",
      "|1001_2019-11-01| 1001|Autauga County|Alabama|2019-11-01 00:00:00|            2.9932332|  1243|         1001|          1243|                    2.9932332|\n",
      "|1001_2019-12-01| 1001|Autauga County|Alabama|2019-12-01 00:00:00|            2.9932332|  1243|         1001|          1243|                    2.9932332|\n",
      "|1001_2020-01-01| 1001|Autauga County|Alabama|2020-01-01 00:00:00|              2.96909|  1242|         1001|          1242|                      2.96909|\n",
      "|1001_2020-02-01| 1001|Autauga County|Alabama|2020-02-01 00:00:00|            2.9093256|  1217|         1001|          1217|                    2.9093256|\n",
      "|1001_2020-03-01| 1001|Autauga County|Alabama|2020-03-01 00:00:00|            2.9332314|  1227|         1001|          1227|                    2.9332314|\n",
      "|1001_2020-04-01| 1001|Autauga County|Alabama|2020-04-01 00:00:00|            3.0001674|  1255|         1001|          1255|                    3.0001674|\n",
      "|1001_2020-05-01| 1001|Autauga County|Alabama|2020-05-01 00:00:00|            3.0049484|  1257|         1001|          1257|                    3.0049484|\n",
      "|1001_2020-06-01| 1001|Autauga County|Alabama|2020-06-01 00:00:00|            3.0192919|  1263|         1001|          1263|                    3.0192919|\n",
      "|1001_2020-07-01| 1001|Autauga County|Alabama|2020-07-01 00:00:00|            3.0838373|  1290|         1001|          1290|                    3.0838373|\n",
      "|1001_2020-08-01| 1001|Autauga County|Alabama|2020-08-01 00:00:00|             3.174679|  1328|         1001|          1328|                     3.174679|\n",
      "|1001_2020-09-01| 1001|Autauga County|Alabama|2020-09-01 00:00:00|            3.2057564|  1341|         1001|          1341|                    3.2057564|\n",
      "|1001_2020-10-01| 1001|Autauga County|Alabama|2020-10-01 00:00:00|            3.1938035|  1336|         1001|          1336|                    3.1938035|\n",
      "|1001_2020-11-01| 1001|Autauga County|Alabama|2020-11-01 00:00:00|            3.0384164|  1271|         1001|          1271|                    3.0384164|\n",
      "|1001_2020-12-01| 1001|Autauga County|Alabama|2020-12-01 00:00:00|             3.002558|  1256|         1001|          1256|                     3.002558|\n",
      "|1001_2021-01-01| 1001|Autauga County|Alabama|2021-01-01 00:00:00|            2.9472437|  1243|         1001|          1243|                    2.9472437|\n",
      "|1001_2021-02-01| 1001|Autauga County|Alabama|2021-02-01 00:00:00|            3.1061056|  1310|         1001|          1310|                    3.1061056|\n",
      "|1001_2021-03-01| 1001|Autauga County|Alabama|2021-03-01 00:00:00|            3.1440427|  1326|         1001|          1326|                    3.1440427|\n",
      "+---------------+-----+--------------+-------+-------------------+---------------------+------+-------------+--------------+-----------------------------+\n",
      "only showing top 20 rows\n",
      "\n"
     ]
    }
   ],
   "source": [
    "#input missing value with mean\n",
    "imputer.fit(df).transform(df).show()"
   ]
  },
  {
   "cell_type": "code",
   "execution_count": null,
   "id": "5c1f9069",
   "metadata": {},
   "outputs": [],
   "source": []
  }
 ],
 "metadata": {
  "kernelspec": {
   "display_name": "Python 3 (ipykernel)",
   "language": "python",
   "name": "python3"
  },
  "language_info": {
   "codemirror_mode": {
    "name": "ipython",
    "version": 3
   },
   "file_extension": ".py",
   "mimetype": "text/x-python",
   "name": "python",
   "nbconvert_exporter": "python",
   "pygments_lexer": "ipython3",
   "version": "3.9.7"
  }
 },
 "nbformat": 4,
 "nbformat_minor": 5
}
