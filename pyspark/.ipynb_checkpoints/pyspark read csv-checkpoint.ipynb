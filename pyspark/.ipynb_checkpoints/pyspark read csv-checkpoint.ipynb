{
 "cells": [
  {
   "cell_type": "code",
   "execution_count": 1,
   "id": "05801f82",
   "metadata": {},
   "outputs": [],
   "source": [
    "import pyspark\n",
    "import pandas as pd"
   ]
  },
  {
   "cell_type": "code",
   "execution_count": 2,
   "id": "a539d630",
   "metadata": {},
   "outputs": [],
   "source": [
    "# start a spark session\n",
    "from pyspark.sql import SparkSession\n",
    "spark = SparkSession.builder.appName('Demo').getOrCreate()"
   ]
  },
  {
   "cell_type": "code",
   "execution_count": 3,
   "id": "f4b99beb",
   "metadata": {},
   "outputs": [
    {
     "data": {
      "text/html": [
       "\n",
       "            <div>\n",
       "                <p><b>SparkSession - in-memory</b></p>\n",
       "                \n",
       "        <div>\n",
       "            <p><b>SparkContext</b></p>\n",
       "\n",
       "            <p><a href=\"http://DESKTOP-KMGMT4B.mshome.net:4041\">Spark UI</a></p>\n",
       "\n",
       "            <dl>\n",
       "              <dt>Version</dt>\n",
       "                <dd><code>v3.3.1</code></dd>\n",
       "              <dt>Master</dt>\n",
       "                <dd><code>local[*]</code></dd>\n",
       "              <dt>AppName</dt>\n",
       "                <dd><code>Demo</code></dd>\n",
       "            </dl>\n",
       "        </div>\n",
       "        \n",
       "            </div>\n",
       "        "
      ],
      "text/plain": [
       "<pyspark.sql.session.SparkSession at 0x1ce52ae9af0>"
      ]
     },
     "execution_count": 3,
     "metadata": {},
     "output_type": "execute_result"
    }
   ],
   "source": [
    "spark"
   ]
  },
  {
   "cell_type": "code",
   "execution_count": 4,
   "id": "d931cad6",
   "metadata": {},
   "outputs": [],
   "source": [
    "# to read csv using spark\n",
    "df_pyspark = spark.read.csv('train.csv')"
   ]
  },
  {
   "cell_type": "code",
   "execution_count": 5,
   "id": "f4510b62",
   "metadata": {},
   "outputs": [
    {
     "name": "stdout",
     "output_type": "stream",
     "text": [
      "+---------------+-----+--------------+-------+------------------+--------------------+------+\n",
      "|            _c0|  _c1|           _c2|    _c3|               _c4|                 _c5|   _c6|\n",
      "+---------------+-----+--------------+-------+------------------+--------------------+------+\n",
      "|         row_id|cfips|        county|  state|first_day_of_month|microbusiness_den...|active|\n",
      "|1001_2019-08-01| 1001|Autauga County|Alabama|        2019-08-01|           3.0076818|  1249|\n",
      "|1001_2019-09-01| 1001|Autauga County|Alabama|        2019-09-01|           2.8848701|  1198|\n",
      "|1001_2019-10-01| 1001|Autauga County|Alabama|        2019-10-01|           3.0558431|  1269|\n",
      "|1001_2019-11-01| 1001|Autauga County|Alabama|        2019-11-01|           2.9932332|  1243|\n",
      "|1001_2019-12-01| 1001|Autauga County|Alabama|        2019-12-01|           2.9932332|  1243|\n",
      "|1001_2020-01-01| 1001|Autauga County|Alabama|        2020-01-01|             2.96909|  1242|\n",
      "|1001_2020-02-01| 1001|Autauga County|Alabama|        2020-02-01|           2.9093256|  1217|\n",
      "|1001_2020-03-01| 1001|Autauga County|Alabama|        2020-03-01|           2.9332314|  1227|\n",
      "|1001_2020-04-01| 1001|Autauga County|Alabama|        2020-04-01|           3.0001674|  1255|\n",
      "|1001_2020-05-01| 1001|Autauga County|Alabama|        2020-05-01|           3.0049484|  1257|\n",
      "|1001_2020-06-01| 1001|Autauga County|Alabama|        2020-06-01|           3.0192919|  1263|\n",
      "|1001_2020-07-01| 1001|Autauga County|Alabama|        2020-07-01|           3.0838373|  1290|\n",
      "|1001_2020-08-01| 1001|Autauga County|Alabama|        2020-08-01|            3.174679|  1328|\n",
      "|1001_2020-09-01| 1001|Autauga County|Alabama|        2020-09-01|           3.2057564|  1341|\n",
      "|1001_2020-10-01| 1001|Autauga County|Alabama|        2020-10-01|           3.1938035|  1336|\n",
      "|1001_2020-11-01| 1001|Autauga County|Alabama|        2020-11-01|           3.0384164|  1271|\n",
      "|1001_2020-12-01| 1001|Autauga County|Alabama|        2020-12-01|            3.002558|  1256|\n",
      "|1001_2021-01-01| 1001|Autauga County|Alabama|        2021-01-01|           2.9472437|  1243|\n",
      "|1001_2021-02-01| 1001|Autauga County|Alabama|        2021-02-01|           3.1061056|  1310|\n",
      "+---------------+-----+--------------+-------+------------------+--------------------+------+\n",
      "only showing top 20 rows\n",
      "\n"
     ]
    }
   ],
   "source": [
    "# to show data\n",
    "df_pyspark.show()"
   ]
  },
  {
   "cell_type": "code",
   "execution_count": 6,
   "id": "0f92a8f6",
   "metadata": {},
   "outputs": [],
   "source": [
    "# to show header\n",
    "df_pyspark = spark.read.option('header','true').csv('train.csv')"
   ]
  },
  {
   "cell_type": "code",
   "execution_count": 7,
   "id": "10f35d03",
   "metadata": {},
   "outputs": [
    {
     "name": "stdout",
     "output_type": "stream",
     "text": [
      "+---------------+-----+--------------+-------+------------------+---------------------+------+\n",
      "|         row_id|cfips|        county|  state|first_day_of_month|microbusiness_density|active|\n",
      "+---------------+-----+--------------+-------+------------------+---------------------+------+\n",
      "|1001_2019-08-01| 1001|Autauga County|Alabama|        2019-08-01|            3.0076818|  1249|\n",
      "|1001_2019-09-01| 1001|Autauga County|Alabama|        2019-09-01|            2.8848701|  1198|\n",
      "|1001_2019-10-01| 1001|Autauga County|Alabama|        2019-10-01|            3.0558431|  1269|\n",
      "|1001_2019-11-01| 1001|Autauga County|Alabama|        2019-11-01|            2.9932332|  1243|\n",
      "|1001_2019-12-01| 1001|Autauga County|Alabama|        2019-12-01|            2.9932332|  1243|\n",
      "|1001_2020-01-01| 1001|Autauga County|Alabama|        2020-01-01|              2.96909|  1242|\n",
      "|1001_2020-02-01| 1001|Autauga County|Alabama|        2020-02-01|            2.9093256|  1217|\n",
      "|1001_2020-03-01| 1001|Autauga County|Alabama|        2020-03-01|            2.9332314|  1227|\n",
      "|1001_2020-04-01| 1001|Autauga County|Alabama|        2020-04-01|            3.0001674|  1255|\n",
      "|1001_2020-05-01| 1001|Autauga County|Alabama|        2020-05-01|            3.0049484|  1257|\n",
      "|1001_2020-06-01| 1001|Autauga County|Alabama|        2020-06-01|            3.0192919|  1263|\n",
      "|1001_2020-07-01| 1001|Autauga County|Alabama|        2020-07-01|            3.0838373|  1290|\n",
      "|1001_2020-08-01| 1001|Autauga County|Alabama|        2020-08-01|             3.174679|  1328|\n",
      "|1001_2020-09-01| 1001|Autauga County|Alabama|        2020-09-01|            3.2057564|  1341|\n",
      "|1001_2020-10-01| 1001|Autauga County|Alabama|        2020-10-01|            3.1938035|  1336|\n",
      "|1001_2020-11-01| 1001|Autauga County|Alabama|        2020-11-01|            3.0384164|  1271|\n",
      "|1001_2020-12-01| 1001|Autauga County|Alabama|        2020-12-01|             3.002558|  1256|\n",
      "|1001_2021-01-01| 1001|Autauga County|Alabama|        2021-01-01|            2.9472437|  1243|\n",
      "|1001_2021-02-01| 1001|Autauga County|Alabama|        2021-02-01|            3.1061056|  1310|\n",
      "|1001_2021-03-01| 1001|Autauga County|Alabama|        2021-03-01|            3.1440427|  1326|\n",
      "+---------------+-----+--------------+-------+------------------+---------------------+------+\n",
      "only showing top 20 rows\n",
      "\n"
     ]
    }
   ],
   "source": [
    "# to show data\n",
    "df_pyspark.show()"
   ]
  },
  {
   "cell_type": "code",
   "execution_count": 8,
   "id": "8b364f09",
   "metadata": {},
   "outputs": [
    {
     "name": "stdout",
     "output_type": "stream",
     "text": [
      "root\n",
      " |-- row_id: string (nullable = true)\n",
      " |-- cfips: string (nullable = true)\n",
      " |-- county: string (nullable = true)\n",
      " |-- state: string (nullable = true)\n",
      " |-- first_day_of_month: string (nullable = true)\n",
      " |-- microbusiness_density: string (nullable = true)\n",
      " |-- active: string (nullable = true)\n",
      "\n"
     ]
    }
   ],
   "source": [
    "# same like df.info\n",
    "df_pyspark.printSchema()"
   ]
  },
  {
   "cell_type": "code",
   "execution_count": 9,
   "id": "c0c99cd1",
   "metadata": {},
   "outputs": [],
   "source": [
    "# to read csv with setting inferSchemar=True with correct schema columns provided\n",
    "df_pyspark = spark.read.csv('train.csv',header=True,inferSchema=True)"
   ]
  },
  {
   "cell_type": "code",
   "execution_count": 10,
   "id": "4773d348",
   "metadata": {},
   "outputs": [
    {
     "name": "stdout",
     "output_type": "stream",
     "text": [
      "root\n",
      " |-- row_id: string (nullable = true)\n",
      " |-- cfips: integer (nullable = true)\n",
      " |-- county: string (nullable = true)\n",
      " |-- state: string (nullable = true)\n",
      " |-- first_day_of_month: timestamp (nullable = true)\n",
      " |-- microbusiness_density: double (nullable = true)\n",
      " |-- active: integer (nullable = true)\n",
      "\n"
     ]
    }
   ],
   "source": [
    "# same like df.info\n",
    "df_pyspark.printSchema()"
   ]
  },
  {
   "cell_type": "code",
   "execution_count": null,
   "id": "e12e46f2",
   "metadata": {},
   "outputs": [],
   "source": []
  }
 ],
 "metadata": {
  "kernelspec": {
   "display_name": "Python 3 (ipykernel)",
   "language": "python",
   "name": "python3"
  },
  "language_info": {
   "codemirror_mode": {
    "name": "ipython",
    "version": 3
   },
   "file_extension": ".py",
   "mimetype": "text/x-python",
   "name": "python",
   "nbconvert_exporter": "python",
   "pygments_lexer": "ipython3",
   "version": "3.9.7"
  }
 },
 "nbformat": 4,
 "nbformat_minor": 5
}
