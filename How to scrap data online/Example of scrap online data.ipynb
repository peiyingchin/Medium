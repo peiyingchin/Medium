{
 "cells": [
  {
   "cell_type": "code",
   "execution_count": 102,
   "id": "c884f026",
   "metadata": {},
   "outputs": [],
   "source": [
    "\n",
    "import requests\n",
    "from bs4 import BeautifulSoup\n",
    "import pandas as pd"
   ]
  },
  {
   "cell_type": "code",
   "execution_count": 4,
   "id": "52ca6173",
   "metadata": {},
   "outputs": [],
   "source": [
    "#Define your header \n",
    "headers = {\"User-Agent\" : \"Mozilla/5.0\"}\n",
    "# extract EPS from this table\n",
    "url = \"https://www.macrotrends.net/stocks/charts/KO/cocacola/eps-earnings-per-share-diluted\"\n",
    "# send a GET request\n",
    "page = requests.get(url)\n",
    "# obtain a page content\n",
    "page_content = page.content\n",
    "# convert to HTML\n",
    "soup = BeautifulSoup(page_content,\"html.parser\")\n",
    "tabl = soup.find_all(\"table\" , {\"class\" : \"historical_data_table table\"}) "
   ]
  },
  {
   "cell_type": "code",
   "execution_count": 36,
   "id": "7d79d038",
   "metadata": {},
   "outputs": [
    {
     "name": "stdout",
     "output_type": "stream",
     "text": [
      "14\n"
     ]
    }
   ],
   "source": [
    "# only first array in tabl is what we want, and extract tr tag\n",
    "tr= tabl[0].findAll('tr')\n",
    "print(len(tr))"
   ]
  },
  {
   "cell_type": "code",
   "execution_count": 80,
   "id": "d155ce20",
   "metadata": {},
   "outputs": [],
   "source": [
    "# blank eps to store data\n",
    "eps =[]\n",
    "# use for loop to find out text value for each tr\n",
    "for i in tr[1:]:\n",
    "    eps.append(i.getText())"
   ]
  },
  {
   "cell_type": "code",
   "execution_count": 81,
   "id": "820ff0c3",
   "metadata": {},
   "outputs": [
    {
     "data": {
      "text/plain": [
       "['\\n2021\\n$2.25\\n',\n",
       " '\\n2020\\n$1.79\\n',\n",
       " '\\n2019\\n$2.07\\n',\n",
       " '\\n2018\\n$1.50\\n',\n",
       " '\\n2017\\n$0.29\\n',\n",
       " '\\n2016\\n$1.49\\n',\n",
       " '\\n2015\\n$1.67\\n',\n",
       " '\\n2014\\n$1.60\\n',\n",
       " '\\n2013\\n$1.90\\n',\n",
       " '\\n2012\\n$1.97\\n',\n",
       " '\\n2011\\n$1.85\\n',\n",
       " '\\n2010\\n$2.53\\n',\n",
       " '\\n2009\\n$1.47\\n']"
      ]
     },
     "execution_count": 81,
     "metadata": {},
     "output_type": "execute_result"
    }
   ],
   "source": [
    "eps"
   ]
  },
  {
   "cell_type": "code",
   "execution_count": 79,
   "id": "3a8aa80e",
   "metadata": {},
   "outputs": [
    {
     "name": "stdout",
     "output_type": "stream",
     "text": [
      "['2021$2.25', '2020$1.79', '2019$2.07', '2018$1.50', '2017$0.29', '2016$1.49', '2015$1.67', '2014$1.60', '2013$1.90', '2012$1.97', '2011$1.85', '2010$2.53', '2009$1.47']\n"
     ]
    }
   ],
   "source": [
    "# store new eps value\n",
    "rep = []\n",
    "# for loop to remove \\n and append new value\n",
    "for x in eps:\n",
    "    rep.append(x.replace(\"\\n\", \"\"))\n",
    "print(list(rep))"
   ]
  },
  {
   "cell_type": "code",
   "execution_count": 103,
   "id": "b6b24cda",
   "metadata": {},
   "outputs": [],
   "source": [
    "# store eps value and year\n",
    "eps_value = []\n",
    "year = []\n",
    "# for loop to loop the value and split by substring\n",
    "for i in rep:\n",
    "    year.append(int(i[0:4]))\n",
    "    eps_value.append(float(i[5:]))"
   ]
  },
  {
   "cell_type": "code",
   "execution_count": 104,
   "id": "20f9284c",
   "metadata": {},
   "outputs": [],
   "source": [
    "EPS = pd.DataFrame(data= {'Quarterly': year, 'eps_value': eps_value})"
   ]
  },
  {
   "cell_type": "code",
   "execution_count": 105,
   "id": "b23cce26",
   "metadata": {},
   "outputs": [
    {
     "data": {
      "text/html": [
       "<div>\n",
       "<style scoped>\n",
       "    .dataframe tbody tr th:only-of-type {\n",
       "        vertical-align: middle;\n",
       "    }\n",
       "\n",
       "    .dataframe tbody tr th {\n",
       "        vertical-align: top;\n",
       "    }\n",
       "\n",
       "    .dataframe thead th {\n",
       "        text-align: right;\n",
       "    }\n",
       "</style>\n",
       "<table border=\"1\" class=\"dataframe\">\n",
       "  <thead>\n",
       "    <tr style=\"text-align: right;\">\n",
       "      <th></th>\n",
       "      <th>Quarterly</th>\n",
       "      <th>eps_value</th>\n",
       "    </tr>\n",
       "  </thead>\n",
       "  <tbody>\n",
       "    <tr>\n",
       "      <th>0</th>\n",
       "      <td>2021</td>\n",
       "      <td>2.25</td>\n",
       "    </tr>\n",
       "    <tr>\n",
       "      <th>1</th>\n",
       "      <td>2020</td>\n",
       "      <td>1.79</td>\n",
       "    </tr>\n",
       "    <tr>\n",
       "      <th>2</th>\n",
       "      <td>2019</td>\n",
       "      <td>2.07</td>\n",
       "    </tr>\n",
       "    <tr>\n",
       "      <th>3</th>\n",
       "      <td>2018</td>\n",
       "      <td>1.50</td>\n",
       "    </tr>\n",
       "    <tr>\n",
       "      <th>4</th>\n",
       "      <td>2017</td>\n",
       "      <td>0.29</td>\n",
       "    </tr>\n",
       "    <tr>\n",
       "      <th>5</th>\n",
       "      <td>2016</td>\n",
       "      <td>1.49</td>\n",
       "    </tr>\n",
       "    <tr>\n",
       "      <th>6</th>\n",
       "      <td>2015</td>\n",
       "      <td>1.67</td>\n",
       "    </tr>\n",
       "    <tr>\n",
       "      <th>7</th>\n",
       "      <td>2014</td>\n",
       "      <td>1.60</td>\n",
       "    </tr>\n",
       "    <tr>\n",
       "      <th>8</th>\n",
       "      <td>2013</td>\n",
       "      <td>1.90</td>\n",
       "    </tr>\n",
       "    <tr>\n",
       "      <th>9</th>\n",
       "      <td>2012</td>\n",
       "      <td>1.97</td>\n",
       "    </tr>\n",
       "    <tr>\n",
       "      <th>10</th>\n",
       "      <td>2011</td>\n",
       "      <td>1.85</td>\n",
       "    </tr>\n",
       "    <tr>\n",
       "      <th>11</th>\n",
       "      <td>2010</td>\n",
       "      <td>2.53</td>\n",
       "    </tr>\n",
       "    <tr>\n",
       "      <th>12</th>\n",
       "      <td>2009</td>\n",
       "      <td>1.47</td>\n",
       "    </tr>\n",
       "  </tbody>\n",
       "</table>\n",
       "</div>"
      ],
      "text/plain": [
       "    Quarterly  eps_value\n",
       "0        2021       2.25\n",
       "1        2020       1.79\n",
       "2        2019       2.07\n",
       "3        2018       1.50\n",
       "4        2017       0.29\n",
       "5        2016       1.49\n",
       "6        2015       1.67\n",
       "7        2014       1.60\n",
       "8        2013       1.90\n",
       "9        2012       1.97\n",
       "10       2011       1.85\n",
       "11       2010       2.53\n",
       "12       2009       1.47"
      ]
     },
     "execution_count": 105,
     "metadata": {},
     "output_type": "execute_result"
    }
   ],
   "source": [
    "EPS"
   ]
  },
  {
   "cell_type": "code",
   "execution_count": null,
   "id": "3e636635",
   "metadata": {},
   "outputs": [],
   "source": []
  }
 ],
 "metadata": {
  "kernelspec": {
   "display_name": "Python 3 (ipykernel)",
   "language": "python",
   "name": "python3"
  },
  "language_info": {
   "codemirror_mode": {
    "name": "ipython",
    "version": 3
   },
   "file_extension": ".py",
   "mimetype": "text/x-python",
   "name": "python",
   "nbconvert_exporter": "python",
   "pygments_lexer": "ipython3",
   "version": "3.9.7"
  }
 },
 "nbformat": 4,
 "nbformat_minor": 5
}
