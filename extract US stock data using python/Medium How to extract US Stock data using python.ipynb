{
 "cells": [
  {
   "cell_type": "code",
   "execution_count": 29,
   "id": "a44e932f",
   "metadata": {},
   "outputs": [],
   "source": [
    "import pandas_datareader as pdr\n",
    "import datetime \n",
    "import pandas as pd"
   ]
  },
  {
   "cell_type": "code",
   "execution_count": 30,
   "id": "aaf5ea7f",
   "metadata": {},
   "outputs": [],
   "source": [
    "today = datetime.datetime.now()\n",
    "df = pdr.get_data_yahoo('AAPL', start=datetime.datetime(today.year-1,today.month-1, 1),\n",
    "                            end=datetime.datetime(today.year, today.month, today.day)).reset_index()"
   ]
  },
  {
   "cell_type": "code",
   "execution_count": 34,
   "id": "ea40f7fd",
   "metadata": {},
   "outputs": [
    {
     "name": "stdout",
     "output_type": "stream",
     "text": [
      "        Date        High         Low        Open       Close        Volume  \\\n",
      "0 2021-10-01  153.169998  138.270004  141.899994  149.800003  1.565079e+09   \n",
      "1 2021-11-01  165.699997  147.479996  148.990005  165.300003  1.691029e+09   \n",
      "2 2021-12-01  182.130005  157.800003  167.479996  177.570007  2.444767e+09   \n",
      "3 2022-01-01  182.940002  154.699997  177.830002  174.779999  2.108446e+09   \n",
      "4 2022-02-01  176.649994  152.000000  174.009995  165.119995  1.627516e+09   \n",
      "\n",
      "    Adj Close  \n",
      "0  148.718567  \n",
      "1  164.106674  \n",
      "2  176.545364  \n",
      "3  173.771469  \n",
      "4  164.167191  \n"
     ]
    }
   ],
   "source": [
    "# Get data in month\n",
    "df =  pdr.get_data_yahoo('AAPL', start=datetime.datetime(today.year-1,today.month-1, 1),\n",
    "                            end=datetime.datetime(today.year, today.month, today.day),\n",
    "                   interval = 'm').reset_index()\n",
    "print(df.head())"
   ]
  },
  {
   "cell_type": "code",
   "execution_count": 35,
   "id": "dec28aaa",
   "metadata": {},
   "outputs": [
    {
     "name": "stdout",
     "output_type": "stream",
     "text": [
      "        Date        High         Low        Open       Close       Volume  \\\n",
      "0 2021-09-27  144.380005  139.110001  143.660004  142.649994  183696300.0   \n",
      "1 2021-10-04  144.220001  138.270004  141.759995  142.899994  382910100.0   \n",
      "2 2021-10-11  144.899994  139.199997  142.270004  144.839996  354098200.0   \n",
      "3 2021-10-18  150.179993  143.160004  143.449997  148.690002  340691300.0   \n",
      "4 2021-10-25  153.169998  146.410004  148.679993  149.800003  392740000.0   \n",
      "\n",
      "    Adj Close  \n",
      "0  141.620163  \n",
      "1  141.868347  \n",
      "2  143.794373  \n",
      "3  147.616562  \n",
      "4  148.718552  \n"
     ]
    }
   ],
   "source": [
    "# Get data in week\n",
    "df = pdr.get_data_yahoo('AAPL', start=datetime.datetime(today.year-1,today.month-1, 1),\n",
    "                            end=datetime.datetime(today.year, today.month, today.day),\n",
    "                   interval = 'w').reset_index()\n",
    "print(df.head())"
   ]
  },
  {
   "cell_type": "code",
   "execution_count": 17,
   "id": "ffbd7a80",
   "metadata": {},
   "outputs": [
    {
     "name": "stdout",
     "output_type": "stream",
     "text": [
      "['MMM' 'AOS' 'ABT' 'ABBV' 'ABMD' 'ACN' 'ATVI' 'ADM' 'ADBE' 'ADP' 'AAP'\n",
      " 'AES' 'AFL' 'A' 'APD' 'AKAM' 'ALK' 'ALB' 'ARE' 'ALGN' 'ALLE' 'LNT' 'ALL'\n",
      " 'GOOGL' 'GOOG' 'MO' 'AMZN' 'AMCR' 'AMD' 'AEE' 'AAL' 'AEP' 'AXP' 'AIG'\n",
      " 'AMT' 'AWK' 'AMP' 'ABC' 'AME' 'AMGN' 'APH' 'ADI' 'ANSS' 'AON' 'APA'\n",
      " 'AAPL' 'AMAT' 'APTV' 'ACGL' 'ANET' 'AJG' 'AIZ' 'T' 'ATO' 'ADSK' 'AZO'\n",
      " 'AVB' 'AVY' 'BKR' 'BALL' 'BAC' 'BBWI' 'BAX' 'BDX' 'WRB' 'BRK.B' 'BBY'\n",
      " 'BIO' 'TECH' 'BIIB' 'BLK' 'BK' 'BA' 'BKNG' 'BWA' 'BXP' 'BSX' 'BMY' 'AVGO'\n",
      " 'BR' 'BRO' 'BF.B' 'CHRW' 'CDNS' 'CZR' 'CPT' 'CPB' 'COF' 'CAH' 'KMX' 'CCL'\n",
      " 'CARR' 'CTLT' 'CAT' 'CBOE' 'CBRE' 'CDW' 'CE' 'CNC' 'CNP' 'CDAY' 'CF'\n",
      " 'CRL' 'SCHW' 'CHTR' 'CVX' 'CMG' 'CB' 'CHD' 'CI' 'CINF' 'CTAS' 'CSCO' 'C'\n",
      " 'CFG' 'CLX' 'CME' 'CMS' 'KO' 'CTSH' 'CL' 'CMCSA' 'CMA' 'CAG' 'COP' 'ED'\n",
      " 'STZ' 'CEG' 'COO' 'CPRT' 'GLW' 'CTVA' 'CSGP' 'COST' 'CTRA' 'CCI' 'CSX'\n",
      " 'CMI' 'CVS' 'DHI' 'DHR' 'DRI' 'DVA' 'DE' 'DAL' 'XRAY' 'DVN' 'DXCM' 'FANG'\n",
      " 'DLR' 'DFS' 'DISH' 'DIS' 'DG' 'DLTR' 'D' 'DPZ' 'DOV' 'DOW' 'DTE' 'DUK'\n",
      " 'DD' 'DXC' 'EMN' 'ETN' 'EBAY' 'ECL' 'EIX' 'EW' 'EA' 'ELV' 'LLY' 'EMR'\n",
      " 'ENPH' 'ETR' 'EOG' 'EPAM' 'EQT' 'EFX' 'EQIX' 'EQR' 'ESS' 'EL' 'ETSY' 'RE'\n",
      " 'EVRG' 'ES' 'EXC' 'EXPE' 'EXPD' 'EXR' 'XOM' 'FFIV' 'FDS' 'FAST' 'FRT'\n",
      " 'FDX' 'FITB' 'FRC' 'FE' 'FIS' 'FISV' 'FLT' 'FMC' 'F' 'FTNT' 'FTV' 'FBHS'\n",
      " 'FOXA' 'FOX' 'BEN' 'FCX' 'GRMN' 'IT' 'GEN' 'GNRC' 'GD' 'GE' 'GIS' 'GM'\n",
      " 'GPC' 'GILD' 'GL' 'GPN' 'GS' 'HAL' 'HIG' 'HAS' 'HCA' 'PEAK' 'HSIC' 'HSY'\n",
      " 'HES' 'HPE' 'HLT' 'HOLX' 'HD' 'HON' 'HRL' 'HST' 'HWM' 'HPQ' 'HUM' 'HBAN'\n",
      " 'HII' 'IBM' 'IEX' 'IDXX' 'ITW' 'ILMN' 'INCY' 'IR' 'INTC' 'ICE' 'IP' 'IPG'\n",
      " 'IFF' 'INTU' 'ISRG' 'IVZ' 'INVH' 'IQV' 'IRM' 'JBHT' 'JKHY' 'J' 'JNJ'\n",
      " 'JCI' 'JPM' 'JNPR' 'K' 'KDP' 'KEY' 'KEYS' 'KMB' 'KIM' 'KMI' 'KLAC' 'KHC'\n",
      " 'KR' 'LHX' 'LH' 'LRCX' 'LW' 'LVS' 'LDOS' 'LEN' 'LNC' 'LIN' 'LYV' 'LKQ'\n",
      " 'LMT' 'L' 'LOW' 'LUMN' 'LYB' 'MTB' 'MRO' 'MPC' 'MKTX' 'MAR' 'MMC' 'MLM'\n",
      " 'MAS' 'MA' 'MTCH' 'MKC' 'MCD' 'MCK' 'MDT' 'MRK' 'META' 'MET' 'MTD' 'MGM'\n",
      " 'MCHP' 'MU' 'MSFT' 'MAA' 'MRNA' 'MHK' 'MOH' 'TAP' 'MDLZ' 'MPWR' 'MNST'\n",
      " 'MCO' 'MS' 'MOS' 'MSI' 'MSCI' 'NDAQ' 'NTAP' 'NFLX' 'NWL' 'NEM' 'NWSA'\n",
      " 'NWS' 'NEE' 'NKE' 'NI' 'NDSN' 'NSC' 'NTRS' 'NOC' 'NCLH' 'NRG' 'NUE'\n",
      " 'NVDA' 'NVR' 'NXPI' 'ORLY' 'OXY' 'ODFL' 'OMC' 'ON' 'OKE' 'ORCL' 'OGN'\n",
      " 'OTIS' 'PCAR' 'PKG' 'PARA' 'PH' 'PAYX' 'PAYC' 'PYPL' 'PNR' 'PEP' 'PKI'\n",
      " 'PFE' 'PCG' 'PM' 'PSX' 'PNW' 'PXD' 'PNC' 'POOL' 'PPG' 'PPL' 'PFG' 'PG'\n",
      " 'PGR' 'PLD' 'PRU' 'PEG' 'PTC' 'PSA' 'PHM' 'QRVO' 'PWR' 'QCOM' 'DGX' 'RL'\n",
      " 'RJF' 'RTX' 'O' 'REG' 'REGN' 'RF' 'RSG' 'RMD' 'RHI' 'ROK' 'ROL' 'ROP'\n",
      " 'ROST' 'RCL' 'SPGI' 'CRM' 'SBAC' 'SLB' 'STX' 'SEE' 'SRE' 'NOW' 'SHW'\n",
      " 'SBNY' 'SPG' 'SWKS' 'SJM' 'SNA' 'SEDG' 'SO' 'LUV' 'SWK' 'SBUX' 'STT'\n",
      " 'STE' 'SYK' 'SIVB' 'SYF' 'SNPS' 'SYY' 'TMUS' 'TROW' 'TTWO' 'TPR' 'TRGP'\n",
      " 'TGT' 'TEL' 'TDY' 'TFX' 'TER' 'TSLA' 'TXN' 'TXT' 'TMO' 'TJX' 'TSCO' 'TT'\n",
      " 'TDG' 'TRV' 'TRMB' 'TFC' 'TYL' 'TSN' 'USB' 'UDR' 'ULTA' 'UNP' 'UAL' 'UPS'\n",
      " 'URI' 'UNH' 'UHS' 'VLO' 'VTR' 'VRSN' 'VRSK' 'VZ' 'VRTX' 'VFC' 'VTRS'\n",
      " 'VICI' 'V' 'VNO' 'VMC' 'WAB' 'WBA' 'WMT' 'WBD' 'WM' 'WAT' 'WEC' 'WFC'\n",
      " 'WELL' 'WST' 'WDC' 'WRK' 'WY' 'WHR' 'WMB' 'WTW' 'GWW' 'WYNN' 'XEL' 'XYL'\n",
      " 'YUM' 'ZBRA' 'ZBH' 'ZION' 'ZTS']\n"
     ]
    }
   ],
   "source": [
    "# get list of S&P companies name\n",
    "table=pd.read_html('https://en.wikipedia.org/wiki/List_of_S%26P_500_companies')\n",
    "df = table[0]\n",
    "ticker = df['Symbol'].values\n",
    "print(ticker)"
   ]
  },
  {
   "cell_type": "code",
   "execution_count": null,
   "id": "0020d287",
   "metadata": {},
   "outputs": [],
   "source": [
    "today = datetime.datetime.now()\n",
    "for i in ticker:\n",
    "    # master table\n",
    "    df_list = pd.DataFrame()\n",
    "    try:\n",
    "        # temperory table to stock every stock data \n",
    "        df = pdr.get_data_yahoo(i, start=datetime.datetime(today.year-3,today.month-1, 1),\n",
    "                                    end=datetime.datetime(today.year, today.month, 4)).reset_index()\n",
    "        # a column to label ur ticker\n",
    "        df['ticker'] = i\n",
    "        # concat temp table to master table with selected columns \n",
    "        df_list=pd.concat([df[['Date','Close','ticker']],df_list])\n",
    "    # prevent the loop to break with error if some stock data is not able to find due to unlisted\n",
    "    except:\n",
    "        break"
   ]
  },
  {
   "cell_type": "code",
   "execution_count": null,
   "id": "82a355b9",
   "metadata": {},
   "outputs": [],
   "source": [
    "print(df_list.head)"
   ]
  },
  {
   "cell_type": "code",
   "execution_count": null,
   "id": "713e3d0d",
   "metadata": {},
   "outputs": [],
   "source": []
  }
 ],
 "metadata": {
  "kernelspec": {
   "display_name": "Python 3 (ipykernel)",
   "language": "python",
   "name": "python3"
  },
  "language_info": {
   "codemirror_mode": {
    "name": "ipython",
    "version": 3
   },
   "file_extension": ".py",
   "mimetype": "text/x-python",
   "name": "python",
   "nbconvert_exporter": "python",
   "pygments_lexer": "ipython3",
   "version": "3.9.7"
  }
 },
 "nbformat": 4,
 "nbformat_minor": 5
}
