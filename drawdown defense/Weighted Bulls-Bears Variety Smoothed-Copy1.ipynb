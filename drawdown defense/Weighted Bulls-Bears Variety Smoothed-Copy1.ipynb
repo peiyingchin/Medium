{
 "cells": [
  {
   "cell_type": "code",
   "execution_count": 1,
   "id": "00f4b5e0",
   "metadata": {},
   "outputs": [],
   "source": [
    "import requests\n",
    "import pandas as pd\n",
    "import certifi\n",
    "import json\n",
    "from urllib.request import urlopen\n",
    "from datetime import datetime\n",
    "import time\n",
    "import pandas_ta as ta\n",
    "import numpy as np\n",
    "\n",
    "\n",
    "# data = dataframe in pandas format to calculate sma\n",
    "# sma_value = is an array to calcuate the lenth of sma \n",
    "# variable = variable used to calculate sma, it can be a \"Close\", or \"Adj Close\" in string format\n",
    "def sma(data,sma_value,variable):\n",
    "     # auto assign a variable name based on length of sma \n",
    "    variable_name = 'SMA'+ str(sma_value)\n",
    "    # calculate sma \n",
    "    data[variable_name] =ta.sma(data[variable], length=sma_value)\n",
    "    # return sma variable calculated \n",
    "    return data[variable_name]\n",
    "\n",
    "\n",
    "def get_jsonparsed_data(url):\n",
    "    response = urlopen(url, cafile=certifi.where())\n",
    "    data = response.read().decode(\"utf-8\")\n",
    "    return pd.DataFrame(json.loads(data))\n",
    "\n",
    "\n",
    "def highest_value(data, window):\n",
    "    return data.rolling(window=window).max()\n",
    "def lowest_value(data, window):\n",
    "    return data.rolling(window=window).min()\n",
    "def highest_bars(data, window):\n",
    "    return data.rolling(window=window).apply(lambda x: x.argmax())\n",
    "def lowest_bars(data, window):\n",
    "    return data.rolling(window=window).apply(lambda x: x.argmin())\n",
    "# Define the weight function\n",
    "def weight(fng, dist):\n",
    "    return fng + fng / dist\n",
    "\n",
    "def Get_Signal(data):    \n",
    "    #table start\n",
    "    df_init =  data.copy()\n",
    "    \n",
    "    '''To make sure row arrange in an ascending order'''\n",
    "    df_init.sort_values(by = 'date',inplace=True)\n",
    "    \n",
    "    #df_init.loc[df_init['SMA20']<df_init['SMA60'],'Signal']=-1\n",
    "    #df_init.loc[df_init['bufferSMA20']<df_init['buffer5'],'Signal']=-1\n",
    "\n",
    "    ''' move the signal of today to tmr, thus, we need to define a shift(1), as the signal buy is based on yesterday'''\n",
    "    df_init['Signal'] = df_init['Signal'].shift(1)\n",
    "    \n",
    "    '''after we have a buy and sell signal, lets create a hold signal which is equal to 2 after a buy signal and\n",
    "    a do nothing signal which is equal to 0 after a sell signal'''\n",
    "    \n",
    "    # In order to make a decision on a hold or do nothing signal based on yesterday signal we need to create a for loop \n",
    "    # a calendar date should be created to used for a a for loop \n",
    "    date_list = df_init.date.unique()\n",
    "    \n",
    "    # declare a first day, the first date is a null in signal as there is no yesterday data for first data\n",
    "    first_date = date_list[0]\n",
    "    \n",
    "    # declare a previous day \n",
    "    prev = first_date \n",
    "    \n",
    "    for i in date_list:\n",
    "        if i == first_date:\n",
    "            df_init.loc[df_init.date == i,'Signal'] = 0 \n",
    "        else:\n",
    "            \n",
    "    \n",
    "            #print(prev)\n",
    "            # if you have a sell signal yesterday, you should have a do nothing signal today\n",
    "            if (df_init.loc[(df_init.date == prev),'Signal'].values[0]==-1):\n",
    "                df_init.loc[df_init.date == i,'Signal']=0 \n",
    "            # if you have a buy signal yesterday, you should have a hold signal today\n",
    "            elif (df_init.loc[(df_init.date == prev)  ,'Signal'].values[0]==1):\n",
    "                df_init.loc[df_init.date == i,'Signal'] = 2\n",
    "\n",
    "            # if you have a hold signal yesterday and you do not have a sell signal today, you should have a hold signal today\n",
    "            elif ((df_init.loc[(df_init.date == prev) ,'Signal'].values[0]==2)&(df_init.loc[(df_init.date == i) ,'Signal'].values[0]!=-1) ):\n",
    "                df_init.loc[df_init.date == i,'Signal'] = 2\n",
    "\n",
    "            # if you have a do nothing signal yesterday and today is a sell signal, you should equal to have a do nothing signal\n",
    "            elif ((df_init.loc[(df_init.date == prev) ,'Signal'].values[0]==0)&(df_init.loc[(df_init.date == i) ,'Signal'].values[0]==-1) ):\n",
    "                df_init.loc[df_init.date == i,'Signal'] = 0\n",
    "                \n",
    "        # redeclare your previous date before to next day in for loop\n",
    "        prev = i\n",
    "    \n",
    "    return df_init"
   ]
  },
  {
   "cell_type": "code",
   "execution_count": 2,
   "id": "4f798fe3",
   "metadata": {},
   "outputs": [],
   "source": [
    "import datetime\n",
    "def backtest_strategy(data,capital):   \n",
    "    \n",
    "    #table start\n",
    "    df_init =  data.copy()\n",
    "    df_init.date =pd.to_datetime(df_init.date)\n",
    "    df_init.set_index('date',inplace=True) \n",
    "    \n",
    "    #assign dummy row - day before the trade\n",
    "    start_date = pd.DataFrame(columns=data.columns,index=[df_init.index.min()- datetime.timedelta(days=1)])\n",
    "    df_init = df_init.append(start_date)\n",
    "    \n",
    "    #initiat 2 variable: cash and units which represent each status of cash and units of apple holding for each day\n",
    "    df_init = df_init.assign(cash=np.nan,units = 0)\n",
    "    \n",
    "    #assign capital for first dummy day assigned to be capital defined in function\n",
    "    df_init.loc[pd.Series(df_init.index.min()), 'cash'] = capital\n",
    "    df_init.Signal.fillna(0,inplace=True)\n",
    "    # obtain list of calendar \n",
    "    calendar = pd.Series(df_init.index.sort_values().unique()).iloc[1:]\n",
    "    \n",
    "    \n",
    "    ''' assign a variable which is trade, earn trade and lost trade to calculate total number of trade, total earn trade \n",
    "    and total lost trade'''\n",
    "    trade = 0\n",
    "    earn_trade = 0\n",
    "    loss_trade = 0\n",
    "    start_cap =0\n",
    "    ''' create an array to keep all earn value and lost value for each trade'''\n",
    "    earn_value =[]\n",
    "    lost_value =[]\n",
    "\n",
    "    for date in calendar:\n",
    "        \n",
    "        #get yesterday data\n",
    "        prev_date = df_init.index[df_init.index<date].unique().sort_values()[-1]\n",
    "        \n",
    "        # calculate total stock value of yesterday \n",
    "        stock_holding = df_init.loc[(df_init.index==prev_date), 'units'].values[0]*df_init.loc[(df_init.index==date),'Price'].values[0]\n",
    "        \n",
    "        # total portfolio value by add cash and stock value of yesterday \n",
    "        port_value = stock_holding + df_init.loc[prev_date, 'cash'].sum()\n",
    "\n",
    "        # if Signal is do nothing, mean our cash = portfolio value and units=0\n",
    "        if df_init.loc[(df_init.index==date), 'Signal'].values[0] == 0:          \n",
    "            df_init.loc[(df_init.index==date), 'units'] = 0\n",
    "            df_init.loc[(df_init.index==date), 'cash'] =port_value        \n",
    "        #if we have a buy Signal \n",
    "        #start to calculate the trade\n",
    "        #we start to calculate start_cap which represent the starting capital for each trade\n",
    "        #unit_buy is total unit buy based on port_value available\n",
    "        elif df_init.loc[(df_init.index==date), 'Signal'].values[0] == 1:\n",
    "            trade+=1\n",
    "            start_cap = port_value \n",
    "            unit_buy = port_value/df_init.loc[(df_init.index==date), 'Price'].values[0]\n",
    "            df_init.loc[(df_init.index==date), 'units'] = unit_buy\n",
    "            df_init.loc[(df_init.index==date), 'cash'] = port_value - unit_buy*df_init.loc[(df_init.index==date), 'Price'].values[0]        \n",
    "        \n",
    "        #if we have a hold Signal or do nothing Signal,\n",
    "        #mean today units hold and cash are same as yesterday units hold and yesterday cash\n",
    "        elif ((df_init.loc[(df_init.index==date), 'Signal'].values[0] == 2) | (df_init.loc[(df_init.index==date), 'Signal'].values[0] == 0)): \n",
    "            df_init.loc[(df_init.index==date), 'units'] = df_init.loc[(df_init.index==prev_date), 'units'].values[0]\n",
    "            df_init.loc[(df_init.index==date), 'cash'] =df_init.loc[(df_init.index==prev_date), 'cash'].values[0]\n",
    "        \n",
    "        #if we have a sell Signal,\n",
    "        #1. we sell all the units at the today open price and thus units =0 and cash = port_value\n",
    "        #2. we calculate the total earn/lost of this trade by using port_value - start cap of the trade and store as v variable\n",
    "        #3. if v> 0, we store as earn_value array\n",
    "        #4. if v<0, we store as lost trade\n",
    "        elif (df_init.loc[(df_init.index==date), 'Signal'].values[0] == -1):\n",
    "            df_init.loc[(df_init.index==date), 'units'] = 0\n",
    "            df_init.loc[(df_init.index==date), 'cash'] =port_value \n",
    "            if (start_cap is None):\n",
    "                0\n",
    "            else:\n",
    "                v = port_value  - start_cap \n",
    "                if v> 0: \n",
    "                    earn_value.append(v)\n",
    "                    earn_trade +=1\n",
    "                elif v<0: \n",
    "                    lost_value.append(v)\n",
    "                    loss_trade+=1\n",
    "\n",
    "    # calculate current value of the strategy, the formula = unit holding * Price + cash available\n",
    "    df_init['Total_value_todate'] = df_init['units']*df_init['Price'] + df_init['cash'] \n",
    "    \n",
    "    # append 0 to earn value array to prevent later calculation fail if there is no any earn trade\n",
    "    earn_value.append(0)\n",
    "    #remove dummy rows\n",
    "    df_init.drop(df_init[df_init.index == df_init.index.min()].index,axis=0,inplace=True)\n",
    "  \n",
    "    # get summarize of total portfolio value, return by date, benchmark_index\n",
    "    total_port_value = pd.DataFrame(df_init.groupby([df_init.index])['Total_value_todate','close'].sum())\n",
    "    total_port_value['Return_without_trailing'] = total_port_value['Total_value_todate']/total_port_value['Total_value_todate'].iloc[0] *100\n",
    "    total_port_value['Return_trailing_12m'] = total_port_value['Total_value_todate']/total_port_value['Total_value_todate'].shift(252)*100\n",
    "    total_port_value['Return_without_trailingBuyAndHold'] = total_port_value['close']/total_port_value['close'].iloc[0] *100\n",
    "    total_port_value['Return_trailing_12mBuyAndHold'] = total_port_value['close']/total_port_value['close'].shift(252)*100\n",
    "\n",
    "    # to print out statistic to know how your strategy perform and the win change of this strategy\n",
    "#     print('total_trade:',trade)\n",
    "#     print('earn_trade:',earn_trade)\n",
    "#     print('lost_trade:',loss_trade)\n",
    "#     print('win_chance:',earn_trade/trade)\n",
    "#     print('Max earning:',max(earn_value))\n",
    "#     print('Max lost:',min(lost_value))\n",
    "#     print('Average lost:',np.mean(lost_value))\n",
    "#     print('Average Win:',np.mean(earn_value))\n",
    "    return total_port_value, df_init"
   ]
  },
  {
   "cell_type": "code",
   "execution_count": 3,
   "id": "35a3eb00",
   "metadata": {
    "scrolled": true
   },
   "outputs": [],
   "source": [
    "\n",
    "def get_weightbulbear(data,calc_period):\n",
    "\n",
    "\n",
    "    data['SMA60'] = sma(data,60,'adjClose')\n",
    "    data['SMA20'] = sma(data,20,'adjClose')\n",
    "    data['close_highest'] = highest_value(data['adjClose'], window =calc_period)\n",
    "    data['close_lowest'] = lowest_value(data['adjClose'], window =calc_period)\n",
    "    data['close_highestBar'] = highest_bars(data['adjClose'], window =calc_period)\n",
    "    data['close_highestBar']  =data['close_highestBar'] +1 -calc_period\n",
    "    data['close_lowestBar'] = lowest_bars(data['adjClose'], window =calc_period)\n",
    "    data['close_lowestBar'] = data['close_lowestBar'] +1 -calc_period\n",
    "    # Calculate bear\n",
    "    data['bear'] = -weight(data['close_highest'] -data['adjClose'],data['close_highestBar']  + 1)\n",
    "    data['bull'] = +weight(data['adjClose'] - data['close_lowest'],data['close_lowestBar']   +1)\n",
    "    data.loc[data['close_highestBar']  + 1==0 , 'bear'] = 0\n",
    "    data.loc[data['close_lowestBar']  + 1==0 , 'bull'] = 0\n",
    "\n",
    "    temp = data['bull']  * 2 + data['bear'] * 2\n",
    "    data['buffer5'] = temp if temp is not None else np.nan\n",
    "    data['bufferSMA20'] = sma(data,20,'buffer5')\n",
    "    data['bufferSMA10'] = sma(data,10,'buffer5')\n",
    "    #signal_condition\n",
    "    #df_init['buffer5']<df_init['bufferSMA10']\n",
    "    signal_condition = ((data['buffer5']>data['bufferSMA10']) & (data['adjClose']>data['SMA20']) )\n",
    "    #signal_condition = (data['buffer5']>0 )\n",
    "    data.loc[signal_condition ,'Signal']=1\n",
    "    #Sellsignal_condition = (data['buffer5']<0 )\n",
    "    Sellsignal_condition = (data['buffer5']<data['bufferSMA20'] )\n",
    "    data.loc[Sellsignal_condition  ,'Signal']=-1\n",
    "    data = Get_Signal(data)\n",
    "    \n",
    "    return data"
   ]
  },
  {
   "cell_type": "code",
   "execution_count": 4,
   "id": "d9075bba",
   "metadata": {},
   "outputs": [],
   "source": [
    "# annualized return \n",
    "# df =data with return \n",
    "# variable = variable name of return\n",
    "def annualized(df,variable):\n",
    "    days_held =df.shape[0]\n",
    "    Return = (df.iloc[-1][variable] - df.iloc[0][variable])/df.iloc[0][variable]\n",
    "    ar = ((1+Return) ** (365/days_held))-1\n",
    "    # get annualized in %\n",
    "    return ar*100\n",
    "# maximum drawdown \n",
    "# df =data with return \n",
    "# variable = variable name of return\n",
    "def MDD(df,variable):\n",
    "    window = 252\n",
    "    Roll_Max = df[variable].rolling(window, min_periods=1).max()\n",
    "    Drawdown = df[variable]/Roll_Max - 1.0\n",
    "    mdd = Drawdown.min()\n",
    "    # get drawdown in %\n",
    "    return mdd*100"
   ]
  },
  {
   "cell_type": "code",
   "execution_count": 6,
   "id": "715d7c34",
   "metadata": {},
   "outputs": [],
   "source": [
    "api =  'key in your API'"
   ]
  },
  {
   "cell_type": "code",
   "execution_count": 7,
   "id": "6c09a279",
   "metadata": {},
   "outputs": [
    {
     "name": "stderr",
     "output_type": "stream",
     "text": [
      "C:\\Users\\CHIN\\AppData\\Local\\Temp/ipykernel_416/2026335479.py:25: DeprecationWarning: cafile, capath and cadefault are deprecated, use a custom context instead.\n",
      "  response = urlopen(url, cafile=certifi.where())\n"
     ]
    }
   ],
   "source": [
    "table=pd.read_html('https://en.wikipedia.org/wiki/List_of_S%26P_500_companies')\n",
    "df = table[0]\n",
    "ticker_all = df['Symbol'].values\n",
    "companyInfo = pd.DataFrame()\n",
    "for temp_ticker in ticker_all:\n",
    "    companyInfoAPI = 'https://financialmodelingprep.com/api/v3/profile/'+temp_ticker+'?apikey='+api\n",
    "    temp_info = get_jsonparsed_data(companyInfoAPI)\n",
    "    companyInfo = pd.concat([temp_info,companyInfo])"
   ]
  },
  {
   "cell_type": "code",
   "execution_count": 8,
   "id": "e5f1311d",
   "metadata": {},
   "outputs": [],
   "source": [
    "\n",
    "from datetime import date\n",
    "table=pd.read_html('https://en.wikipedia.org/wiki/List_of_S%26P_500_companies')\n",
    "df = table[0]\n",
    "ticker_all = df['Symbol'].values"
   ]
  },
  {
   "cell_type": "code",
   "execution_count": 9,
   "id": "079e2e75",
   "metadata": {
    "scrolled": true
   },
   "outputs": [
    {
     "name": "stderr",
     "output_type": "stream",
     "text": [
      "C:\\Users\\CHIN\\AppData\\Local\\Temp/ipykernel_416/2026335479.py:25: DeprecationWarning: cafile, capath and cadefault are deprecated, use a custom context instead.\n",
      "  response = urlopen(url, cafile=certifi.where())\n"
     ]
    },
    {
     "name": "stdout",
     "output_type": "stream",
     "text": [
      "calculate period: 50\n",
      "MMM\n"
     ]
    },
    {
     "name": "stderr",
     "output_type": "stream",
     "text": [
      "C:\\Users\\CHIN\\AppData\\Local\\Temp/ipykernel_416/1045654372.py:93: FutureWarning: Indexing with multiple keys (implicitly converted to a tuple of keys) will be deprecated, use a list instead.\n",
      "  total_port_value = pd.DataFrame(df_init.groupby([df_init.index])['Total_value_todate','close'].sum())\n",
      "C:\\Users\\CHIN\\AppData\\Local\\Temp/ipykernel_416/2026335479.py:25: DeprecationWarning: cafile, capath and cadefault are deprecated, use a custom context instead.\n",
      "  response = urlopen(url, cafile=certifi.where())\n"
     ]
    },
    {
     "name": "stdout",
     "output_type": "stream",
     "text": [
      "calculate period: 50\n",
      "AOS\n"
     ]
    },
    {
     "name": "stderr",
     "output_type": "stream",
     "text": [
      "C:\\Users\\CHIN\\AppData\\Local\\Temp/ipykernel_416/1045654372.py:93: FutureWarning: Indexing with multiple keys (implicitly converted to a tuple of keys) will be deprecated, use a list instead.\n",
      "  total_port_value = pd.DataFrame(df_init.groupby([df_init.index])['Total_value_todate','close'].sum())\n",
      "C:\\Users\\CHIN\\AppData\\Local\\Temp/ipykernel_416/2026335479.py:25: DeprecationWarning: cafile, capath and cadefault are deprecated, use a custom context instead.\n",
      "  response = urlopen(url, cafile=certifi.where())\n"
     ]
    },
    {
     "name": "stdout",
     "output_type": "stream",
     "text": [
      "calculate period: 50\n",
      "ABT\n"
     ]
    },
    {
     "name": "stderr",
     "output_type": "stream",
     "text": [
      "C:\\Users\\CHIN\\AppData\\Local\\Temp/ipykernel_416/1045654372.py:93: FutureWarning: Indexing with multiple keys (implicitly converted to a tuple of keys) will be deprecated, use a list instead.\n",
      "  total_port_value = pd.DataFrame(df_init.groupby([df_init.index])['Total_value_todate','close'].sum())\n",
      "C:\\Users\\CHIN\\AppData\\Local\\Temp/ipykernel_416/2026335479.py:25: DeprecationWarning: cafile, capath and cadefault are deprecated, use a custom context instead.\n",
      "  response = urlopen(url, cafile=certifi.where())\n"
     ]
    },
    {
     "name": "stdout",
     "output_type": "stream",
     "text": [
      "calculate period: 50\n",
      "ABBV\n"
     ]
    },
    {
     "name": "stderr",
     "output_type": "stream",
     "text": [
      "C:\\Users\\CHIN\\AppData\\Local\\Temp/ipykernel_416/1045654372.py:93: FutureWarning: Indexing with multiple keys (implicitly converted to a tuple of keys) will be deprecated, use a list instead.\n",
      "  total_port_value = pd.DataFrame(df_init.groupby([df_init.index])['Total_value_todate','close'].sum())\n",
      "C:\\Users\\CHIN\\AppData\\Local\\Temp/ipykernel_416/2026335479.py:25: DeprecationWarning: cafile, capath and cadefault are deprecated, use a custom context instead.\n",
      "  response = urlopen(url, cafile=certifi.where())\n"
     ]
    },
    {
     "name": "stdout",
     "output_type": "stream",
     "text": [
      "calculate period: 50\n",
      "ACN\n"
     ]
    },
    {
     "name": "stderr",
     "output_type": "stream",
     "text": [
      "C:\\Users\\CHIN\\AppData\\Local\\Temp/ipykernel_416/1045654372.py:93: FutureWarning: Indexing with multiple keys (implicitly converted to a tuple of keys) will be deprecated, use a list instead.\n",
      "  total_port_value = pd.DataFrame(df_init.groupby([df_init.index])['Total_value_todate','close'].sum())\n",
      "C:\\Users\\CHIN\\AppData\\Local\\Temp/ipykernel_416/2026335479.py:25: DeprecationWarning: cafile, capath and cadefault are deprecated, use a custom context instead.\n",
      "  response = urlopen(url, cafile=certifi.where())\n"
     ]
    },
    {
     "name": "stdout",
     "output_type": "stream",
     "text": [
      "calculate period: 50\n",
      "ADBE\n"
     ]
    },
    {
     "name": "stderr",
     "output_type": "stream",
     "text": [
      "C:\\Users\\CHIN\\AppData\\Local\\Temp/ipykernel_416/1045654372.py:93: FutureWarning: Indexing with multiple keys (implicitly converted to a tuple of keys) will be deprecated, use a list instead.\n",
      "  total_port_value = pd.DataFrame(df_init.groupby([df_init.index])['Total_value_todate','close'].sum())\n",
      "C:\\Users\\CHIN\\AppData\\Local\\Temp/ipykernel_416/2026335479.py:25: DeprecationWarning: cafile, capath and cadefault are deprecated, use a custom context instead.\n",
      "  response = urlopen(url, cafile=certifi.where())\n"
     ]
    },
    {
     "name": "stdout",
     "output_type": "stream",
     "text": [
      "calculate period: 50\n",
      "AMD\n"
     ]
    },
    {
     "name": "stderr",
     "output_type": "stream",
     "text": [
      "C:\\Users\\CHIN\\AppData\\Local\\Temp/ipykernel_416/1045654372.py:93: FutureWarning: Indexing with multiple keys (implicitly converted to a tuple of keys) will be deprecated, use a list instead.\n",
      "  total_port_value = pd.DataFrame(df_init.groupby([df_init.index])['Total_value_todate','close'].sum())\n",
      "C:\\Users\\CHIN\\AppData\\Local\\Temp/ipykernel_416/2026335479.py:25: DeprecationWarning: cafile, capath and cadefault are deprecated, use a custom context instead.\n",
      "  response = urlopen(url, cafile=certifi.where())\n"
     ]
    },
    {
     "name": "stdout",
     "output_type": "stream",
     "text": [
      "calculate period: 50\n",
      "AES\n"
     ]
    },
    {
     "name": "stderr",
     "output_type": "stream",
     "text": [
      "C:\\Users\\CHIN\\AppData\\Local\\Temp/ipykernel_416/1045654372.py:93: FutureWarning: Indexing with multiple keys (implicitly converted to a tuple of keys) will be deprecated, use a list instead.\n",
      "  total_port_value = pd.DataFrame(df_init.groupby([df_init.index])['Total_value_todate','close'].sum())\n",
      "C:\\Users\\CHIN\\AppData\\Local\\Temp/ipykernel_416/2026335479.py:25: DeprecationWarning: cafile, capath and cadefault are deprecated, use a custom context instead.\n",
      "  response = urlopen(url, cafile=certifi.where())\n"
     ]
    },
    {
     "name": "stdout",
     "output_type": "stream",
     "text": [
      "calculate period: 50\n",
      "AFL\n"
     ]
    },
    {
     "name": "stderr",
     "output_type": "stream",
     "text": [
      "C:\\Users\\CHIN\\AppData\\Local\\Temp/ipykernel_416/1045654372.py:93: FutureWarning: Indexing with multiple keys (implicitly converted to a tuple of keys) will be deprecated, use a list instead.\n",
      "  total_port_value = pd.DataFrame(df_init.groupby([df_init.index])['Total_value_todate','close'].sum())\n",
      "C:\\Users\\CHIN\\AppData\\Local\\Temp/ipykernel_416/2026335479.py:25: DeprecationWarning: cafile, capath and cadefault are deprecated, use a custom context instead.\n",
      "  response = urlopen(url, cafile=certifi.where())\n"
     ]
    },
    {
     "name": "stdout",
     "output_type": "stream",
     "text": [
      "calculate period: 50\n",
      "A\n"
     ]
    },
    {
     "name": "stderr",
     "output_type": "stream",
     "text": [
      "C:\\Users\\CHIN\\AppData\\Local\\Temp/ipykernel_416/1045654372.py:93: FutureWarning: Indexing with multiple keys (implicitly converted to a tuple of keys) will be deprecated, use a list instead.\n",
      "  total_port_value = pd.DataFrame(df_init.groupby([df_init.index])['Total_value_todate','close'].sum())\n",
      "C:\\Users\\CHIN\\AppData\\Local\\Temp/ipykernel_416/2026335479.py:25: DeprecationWarning: cafile, capath and cadefault are deprecated, use a custom context instead.\n",
      "  response = urlopen(url, cafile=certifi.where())\n"
     ]
    },
    {
     "name": "stdout",
     "output_type": "stream",
     "text": [
      "calculate period: 50\n",
      "APD\n"
     ]
    },
    {
     "name": "stderr",
     "output_type": "stream",
     "text": [
      "C:\\Users\\CHIN\\AppData\\Local\\Temp/ipykernel_416/1045654372.py:93: FutureWarning: Indexing with multiple keys (implicitly converted to a tuple of keys) will be deprecated, use a list instead.\n",
      "  total_port_value = pd.DataFrame(df_init.groupby([df_init.index])['Total_value_todate','close'].sum())\n",
      "C:\\Users\\CHIN\\AppData\\Local\\Temp/ipykernel_416/2026335479.py:25: DeprecationWarning: cafile, capath and cadefault are deprecated, use a custom context instead.\n",
      "  response = urlopen(url, cafile=certifi.where())\n"
     ]
    },
    {
     "name": "stdout",
     "output_type": "stream",
     "text": [
      "calculate period: 50\n",
      "ABNB\n"
     ]
    },
    {
     "name": "stderr",
     "output_type": "stream",
     "text": [
      "C:\\Users\\CHIN\\AppData\\Local\\Temp/ipykernel_416/1045654372.py:93: FutureWarning: Indexing with multiple keys (implicitly converted to a tuple of keys) will be deprecated, use a list instead.\n",
      "  total_port_value = pd.DataFrame(df_init.groupby([df_init.index])['Total_value_todate','close'].sum())\n",
      "C:\\Users\\CHIN\\AppData\\Local\\Temp/ipykernel_416/2026335479.py:25: DeprecationWarning: cafile, capath and cadefault are deprecated, use a custom context instead.\n",
      "  response = urlopen(url, cafile=certifi.where())\n"
     ]
    },
    {
     "name": "stdout",
     "output_type": "stream",
     "text": [
      "calculate period: 50\n",
      "AKAM\n"
     ]
    },
    {
     "name": "stderr",
     "output_type": "stream",
     "text": [
      "C:\\Users\\CHIN\\AppData\\Local\\Temp/ipykernel_416/1045654372.py:93: FutureWarning: Indexing with multiple keys (implicitly converted to a tuple of keys) will be deprecated, use a list instead.\n",
      "  total_port_value = pd.DataFrame(df_init.groupby([df_init.index])['Total_value_todate','close'].sum())\n",
      "C:\\Users\\CHIN\\AppData\\Local\\Temp/ipykernel_416/2026335479.py:25: DeprecationWarning: cafile, capath and cadefault are deprecated, use a custom context instead.\n",
      "  response = urlopen(url, cafile=certifi.where())\n"
     ]
    },
    {
     "name": "stdout",
     "output_type": "stream",
     "text": [
      "calculate period: 50\n",
      "ALB\n"
     ]
    },
    {
     "name": "stderr",
     "output_type": "stream",
     "text": [
      "C:\\Users\\CHIN\\AppData\\Local\\Temp/ipykernel_416/1045654372.py:93: FutureWarning: Indexing with multiple keys (implicitly converted to a tuple of keys) will be deprecated, use a list instead.\n",
      "  total_port_value = pd.DataFrame(df_init.groupby([df_init.index])['Total_value_todate','close'].sum())\n",
      "C:\\Users\\CHIN\\AppData\\Local\\Temp/ipykernel_416/2026335479.py:25: DeprecationWarning: cafile, capath and cadefault are deprecated, use a custom context instead.\n",
      "  response = urlopen(url, cafile=certifi.where())\n"
     ]
    },
    {
     "name": "stdout",
     "output_type": "stream",
     "text": [
      "calculate period: 50\n",
      "ARE\n"
     ]
    },
    {
     "name": "stderr",
     "output_type": "stream",
     "text": [
      "C:\\Users\\CHIN\\AppData\\Local\\Temp/ipykernel_416/1045654372.py:93: FutureWarning: Indexing with multiple keys (implicitly converted to a tuple of keys) will be deprecated, use a list instead.\n",
      "  total_port_value = pd.DataFrame(df_init.groupby([df_init.index])['Total_value_todate','close'].sum())\n",
      "C:\\Users\\CHIN\\AppData\\Local\\Temp/ipykernel_416/2026335479.py:25: DeprecationWarning: cafile, capath and cadefault are deprecated, use a custom context instead.\n",
      "  response = urlopen(url, cafile=certifi.where())\n"
     ]
    },
    {
     "name": "stdout",
     "output_type": "stream",
     "text": [
      "calculate period: 50\n",
      "ALGN\n"
     ]
    },
    {
     "name": "stderr",
     "output_type": "stream",
     "text": [
      "C:\\Users\\CHIN\\AppData\\Local\\Temp/ipykernel_416/1045654372.py:93: FutureWarning: Indexing with multiple keys (implicitly converted to a tuple of keys) will be deprecated, use a list instead.\n",
      "  total_port_value = pd.DataFrame(df_init.groupby([df_init.index])['Total_value_todate','close'].sum())\n",
      "C:\\Users\\CHIN\\AppData\\Local\\Temp/ipykernel_416/2026335479.py:25: DeprecationWarning: cafile, capath and cadefault are deprecated, use a custom context instead.\n",
      "  response = urlopen(url, cafile=certifi.where())\n"
     ]
    },
    {
     "name": "stdout",
     "output_type": "stream",
     "text": [
      "calculate period: 50\n",
      "ALLE\n"
     ]
    },
    {
     "name": "stderr",
     "output_type": "stream",
     "text": [
      "C:\\Users\\CHIN\\AppData\\Local\\Temp/ipykernel_416/1045654372.py:93: FutureWarning: Indexing with multiple keys (implicitly converted to a tuple of keys) will be deprecated, use a list instead.\n",
      "  total_port_value = pd.DataFrame(df_init.groupby([df_init.index])['Total_value_todate','close'].sum())\n",
      "C:\\Users\\CHIN\\AppData\\Local\\Temp/ipykernel_416/2026335479.py:25: DeprecationWarning: cafile, capath and cadefault are deprecated, use a custom context instead.\n",
      "  response = urlopen(url, cafile=certifi.where())\n"
     ]
    },
    {
     "name": "stdout",
     "output_type": "stream",
     "text": [
      "calculate period: 50\n",
      "LNT\n"
     ]
    },
    {
     "name": "stderr",
     "output_type": "stream",
     "text": [
      "C:\\Users\\CHIN\\AppData\\Local\\Temp/ipykernel_416/1045654372.py:93: FutureWarning: Indexing with multiple keys (implicitly converted to a tuple of keys) will be deprecated, use a list instead.\n",
      "  total_port_value = pd.DataFrame(df_init.groupby([df_init.index])['Total_value_todate','close'].sum())\n",
      "C:\\Users\\CHIN\\AppData\\Local\\Temp/ipykernel_416/2026335479.py:25: DeprecationWarning: cafile, capath and cadefault are deprecated, use a custom context instead.\n",
      "  response = urlopen(url, cafile=certifi.where())\n"
     ]
    },
    {
     "name": "stdout",
     "output_type": "stream",
     "text": [
      "calculate period: 50\n",
      "ALL\n"
     ]
    },
    {
     "name": "stderr",
     "output_type": "stream",
     "text": [
      "C:\\Users\\CHIN\\AppData\\Local\\Temp/ipykernel_416/1045654372.py:93: FutureWarning: Indexing with multiple keys (implicitly converted to a tuple of keys) will be deprecated, use a list instead.\n",
      "  total_port_value = pd.DataFrame(df_init.groupby([df_init.index])['Total_value_todate','close'].sum())\n",
      "C:\\Users\\CHIN\\AppData\\Local\\Temp/ipykernel_416/2026335479.py:25: DeprecationWarning: cafile, capath and cadefault are deprecated, use a custom context instead.\n",
      "  response = urlopen(url, cafile=certifi.where())\n"
     ]
    },
    {
     "name": "stdout",
     "output_type": "stream",
     "text": [
      "calculate period: 50\n",
      "GOOGL\n"
     ]
    },
    {
     "name": "stderr",
     "output_type": "stream",
     "text": [
      "C:\\Users\\CHIN\\AppData\\Local\\Temp/ipykernel_416/1045654372.py:93: FutureWarning: Indexing with multiple keys (implicitly converted to a tuple of keys) will be deprecated, use a list instead.\n",
      "  total_port_value = pd.DataFrame(df_init.groupby([df_init.index])['Total_value_todate','close'].sum())\n",
      "C:\\Users\\CHIN\\AppData\\Local\\Temp/ipykernel_416/2026335479.py:25: DeprecationWarning: cafile, capath and cadefault are deprecated, use a custom context instead.\n",
      "  response = urlopen(url, cafile=certifi.where())\n"
     ]
    },
    {
     "name": "stdout",
     "output_type": "stream",
     "text": [
      "calculate period: 50\n",
      "GOOG\n"
     ]
    },
    {
     "name": "stderr",
     "output_type": "stream",
     "text": [
      "C:\\Users\\CHIN\\AppData\\Local\\Temp/ipykernel_416/1045654372.py:93: FutureWarning: Indexing with multiple keys (implicitly converted to a tuple of keys) will be deprecated, use a list instead.\n",
      "  total_port_value = pd.DataFrame(df_init.groupby([df_init.index])['Total_value_todate','close'].sum())\n",
      "C:\\Users\\CHIN\\AppData\\Local\\Temp/ipykernel_416/2026335479.py:25: DeprecationWarning: cafile, capath and cadefault are deprecated, use a custom context instead.\n",
      "  response = urlopen(url, cafile=certifi.where())\n"
     ]
    },
    {
     "name": "stdout",
     "output_type": "stream",
     "text": [
      "calculate period: 50\n",
      "MO\n"
     ]
    },
    {
     "name": "stderr",
     "output_type": "stream",
     "text": [
      "C:\\Users\\CHIN\\AppData\\Local\\Temp/ipykernel_416/1045654372.py:93: FutureWarning: Indexing with multiple keys (implicitly converted to a tuple of keys) will be deprecated, use a list instead.\n",
      "  total_port_value = pd.DataFrame(df_init.groupby([df_init.index])['Total_value_todate','close'].sum())\n",
      "C:\\Users\\CHIN\\AppData\\Local\\Temp/ipykernel_416/2026335479.py:25: DeprecationWarning: cafile, capath and cadefault are deprecated, use a custom context instead.\n",
      "  response = urlopen(url, cafile=certifi.where())\n"
     ]
    },
    {
     "name": "stdout",
     "output_type": "stream",
     "text": [
      "calculate period: 50\n",
      "AMZN\n"
     ]
    },
    {
     "name": "stderr",
     "output_type": "stream",
     "text": [
      "C:\\Users\\CHIN\\AppData\\Local\\Temp/ipykernel_416/1045654372.py:93: FutureWarning: Indexing with multiple keys (implicitly converted to a tuple of keys) will be deprecated, use a list instead.\n",
      "  total_port_value = pd.DataFrame(df_init.groupby([df_init.index])['Total_value_todate','close'].sum())\n",
      "C:\\Users\\CHIN\\AppData\\Local\\Temp/ipykernel_416/2026335479.py:25: DeprecationWarning: cafile, capath and cadefault are deprecated, use a custom context instead.\n",
      "  response = urlopen(url, cafile=certifi.where())\n"
     ]
    },
    {
     "name": "stdout",
     "output_type": "stream",
     "text": [
      "calculate period: 50\n",
      "AMCR\n"
     ]
    },
    {
     "name": "stderr",
     "output_type": "stream",
     "text": [
      "C:\\Users\\CHIN\\AppData\\Local\\Temp/ipykernel_416/1045654372.py:93: FutureWarning: Indexing with multiple keys (implicitly converted to a tuple of keys) will be deprecated, use a list instead.\n",
      "  total_port_value = pd.DataFrame(df_init.groupby([df_init.index])['Total_value_todate','close'].sum())\n",
      "C:\\Users\\CHIN\\AppData\\Local\\Temp/ipykernel_416/2026335479.py:25: DeprecationWarning: cafile, capath and cadefault are deprecated, use a custom context instead.\n",
      "  response = urlopen(url, cafile=certifi.where())\n"
     ]
    },
    {
     "name": "stdout",
     "output_type": "stream",
     "text": [
      "calculate period: 50\n",
      "AEE\n"
     ]
    },
    {
     "name": "stderr",
     "output_type": "stream",
     "text": [
      "C:\\Users\\CHIN\\AppData\\Local\\Temp/ipykernel_416/1045654372.py:93: FutureWarning: Indexing with multiple keys (implicitly converted to a tuple of keys) will be deprecated, use a list instead.\n",
      "  total_port_value = pd.DataFrame(df_init.groupby([df_init.index])['Total_value_todate','close'].sum())\n",
      "C:\\Users\\CHIN\\AppData\\Local\\Temp/ipykernel_416/2026335479.py:25: DeprecationWarning: cafile, capath and cadefault are deprecated, use a custom context instead.\n",
      "  response = urlopen(url, cafile=certifi.where())\n"
     ]
    },
    {
     "name": "stdout",
     "output_type": "stream",
     "text": [
      "calculate period: 50\n",
      "AAL\n"
     ]
    },
    {
     "name": "stderr",
     "output_type": "stream",
     "text": [
      "C:\\Users\\CHIN\\AppData\\Local\\Temp/ipykernel_416/1045654372.py:93: FutureWarning: Indexing with multiple keys (implicitly converted to a tuple of keys) will be deprecated, use a list instead.\n",
      "  total_port_value = pd.DataFrame(df_init.groupby([df_init.index])['Total_value_todate','close'].sum())\n",
      "C:\\Users\\CHIN\\AppData\\Local\\Temp/ipykernel_416/2026335479.py:25: DeprecationWarning: cafile, capath and cadefault are deprecated, use a custom context instead.\n",
      "  response = urlopen(url, cafile=certifi.where())\n"
     ]
    },
    {
     "name": "stdout",
     "output_type": "stream",
     "text": [
      "calculate period: 50\n",
      "AEP\n"
     ]
    },
    {
     "name": "stderr",
     "output_type": "stream",
     "text": [
      "C:\\Users\\CHIN\\AppData\\Local\\Temp/ipykernel_416/1045654372.py:93: FutureWarning: Indexing with multiple keys (implicitly converted to a tuple of keys) will be deprecated, use a list instead.\n",
      "  total_port_value = pd.DataFrame(df_init.groupby([df_init.index])['Total_value_todate','close'].sum())\n",
      "C:\\Users\\CHIN\\AppData\\Local\\Temp/ipykernel_416/2026335479.py:25: DeprecationWarning: cafile, capath and cadefault are deprecated, use a custom context instead.\n",
      "  response = urlopen(url, cafile=certifi.where())\n"
     ]
    },
    {
     "name": "stdout",
     "output_type": "stream",
     "text": [
      "calculate period: 50\n",
      "AXP\n"
     ]
    },
    {
     "name": "stderr",
     "output_type": "stream",
     "text": [
      "C:\\Users\\CHIN\\AppData\\Local\\Temp/ipykernel_416/1045654372.py:93: FutureWarning: Indexing with multiple keys (implicitly converted to a tuple of keys) will be deprecated, use a list instead.\n",
      "  total_port_value = pd.DataFrame(df_init.groupby([df_init.index])['Total_value_todate','close'].sum())\n",
      "C:\\Users\\CHIN\\AppData\\Local\\Temp/ipykernel_416/2026335479.py:25: DeprecationWarning: cafile, capath and cadefault are deprecated, use a custom context instead.\n",
      "  response = urlopen(url, cafile=certifi.where())\n"
     ]
    },
    {
     "name": "stdout",
     "output_type": "stream",
     "text": [
      "calculate period: 50\n",
      "AIG\n"
     ]
    },
    {
     "name": "stderr",
     "output_type": "stream",
     "text": [
      "C:\\Users\\CHIN\\AppData\\Local\\Temp/ipykernel_416/1045654372.py:93: FutureWarning: Indexing with multiple keys (implicitly converted to a tuple of keys) will be deprecated, use a list instead.\n",
      "  total_port_value = pd.DataFrame(df_init.groupby([df_init.index])['Total_value_todate','close'].sum())\n",
      "C:\\Users\\CHIN\\AppData\\Local\\Temp/ipykernel_416/2026335479.py:25: DeprecationWarning: cafile, capath and cadefault are deprecated, use a custom context instead.\n",
      "  response = urlopen(url, cafile=certifi.where())\n"
     ]
    },
    {
     "name": "stdout",
     "output_type": "stream",
     "text": [
      "calculate period: 50\n",
      "AMT\n"
     ]
    },
    {
     "name": "stderr",
     "output_type": "stream",
     "text": [
      "C:\\Users\\CHIN\\AppData\\Local\\Temp/ipykernel_416/1045654372.py:93: FutureWarning: Indexing with multiple keys (implicitly converted to a tuple of keys) will be deprecated, use a list instead.\n",
      "  total_port_value = pd.DataFrame(df_init.groupby([df_init.index])['Total_value_todate','close'].sum())\n",
      "C:\\Users\\CHIN\\AppData\\Local\\Temp/ipykernel_416/2026335479.py:25: DeprecationWarning: cafile, capath and cadefault are deprecated, use a custom context instead.\n",
      "  response = urlopen(url, cafile=certifi.where())\n"
     ]
    },
    {
     "name": "stdout",
     "output_type": "stream",
     "text": [
      "calculate period: 50\n",
      "AWK\n"
     ]
    },
    {
     "name": "stderr",
     "output_type": "stream",
     "text": [
      "C:\\Users\\CHIN\\AppData\\Local\\Temp/ipykernel_416/1045654372.py:93: FutureWarning: Indexing with multiple keys (implicitly converted to a tuple of keys) will be deprecated, use a list instead.\n",
      "  total_port_value = pd.DataFrame(df_init.groupby([df_init.index])['Total_value_todate','close'].sum())\n",
      "C:\\Users\\CHIN\\AppData\\Local\\Temp/ipykernel_416/2026335479.py:25: DeprecationWarning: cafile, capath and cadefault are deprecated, use a custom context instead.\n",
      "  response = urlopen(url, cafile=certifi.where())\n"
     ]
    },
    {
     "name": "stdout",
     "output_type": "stream",
     "text": [
      "calculate period: 50\n",
      "AMP\n"
     ]
    },
    {
     "name": "stderr",
     "output_type": "stream",
     "text": [
      "C:\\Users\\CHIN\\AppData\\Local\\Temp/ipykernel_416/1045654372.py:93: FutureWarning: Indexing with multiple keys (implicitly converted to a tuple of keys) will be deprecated, use a list instead.\n",
      "  total_port_value = pd.DataFrame(df_init.groupby([df_init.index])['Total_value_todate','close'].sum())\n",
      "C:\\Users\\CHIN\\AppData\\Local\\Temp/ipykernel_416/2026335479.py:25: DeprecationWarning: cafile, capath and cadefault are deprecated, use a custom context instead.\n",
      "  response = urlopen(url, cafile=certifi.where())\n"
     ]
    },
    {
     "name": "stdout",
     "output_type": "stream",
     "text": [
      "calculate period: 50\n",
      "AME\n"
     ]
    },
    {
     "name": "stderr",
     "output_type": "stream",
     "text": [
      "C:\\Users\\CHIN\\AppData\\Local\\Temp/ipykernel_416/1045654372.py:93: FutureWarning: Indexing with multiple keys (implicitly converted to a tuple of keys) will be deprecated, use a list instead.\n",
      "  total_port_value = pd.DataFrame(df_init.groupby([df_init.index])['Total_value_todate','close'].sum())\n",
      "C:\\Users\\CHIN\\AppData\\Local\\Temp/ipykernel_416/2026335479.py:25: DeprecationWarning: cafile, capath and cadefault are deprecated, use a custom context instead.\n",
      "  response = urlopen(url, cafile=certifi.where())\n"
     ]
    },
    {
     "name": "stdout",
     "output_type": "stream",
     "text": [
      "calculate period: 50\n",
      "AMGN\n"
     ]
    },
    {
     "name": "stderr",
     "output_type": "stream",
     "text": [
      "C:\\Users\\CHIN\\AppData\\Local\\Temp/ipykernel_416/1045654372.py:93: FutureWarning: Indexing with multiple keys (implicitly converted to a tuple of keys) will be deprecated, use a list instead.\n",
      "  total_port_value = pd.DataFrame(df_init.groupby([df_init.index])['Total_value_todate','close'].sum())\n",
      "C:\\Users\\CHIN\\AppData\\Local\\Temp/ipykernel_416/2026335479.py:25: DeprecationWarning: cafile, capath and cadefault are deprecated, use a custom context instead.\n",
      "  response = urlopen(url, cafile=certifi.where())\n"
     ]
    },
    {
     "name": "stdout",
     "output_type": "stream",
     "text": [
      "calculate period: 50\n",
      "APH\n"
     ]
    },
    {
     "name": "stderr",
     "output_type": "stream",
     "text": [
      "C:\\Users\\CHIN\\AppData\\Local\\Temp/ipykernel_416/1045654372.py:93: FutureWarning: Indexing with multiple keys (implicitly converted to a tuple of keys) will be deprecated, use a list instead.\n",
      "  total_port_value = pd.DataFrame(df_init.groupby([df_init.index])['Total_value_todate','close'].sum())\n",
      "C:\\Users\\CHIN\\AppData\\Local\\Temp/ipykernel_416/2026335479.py:25: DeprecationWarning: cafile, capath and cadefault are deprecated, use a custom context instead.\n",
      "  response = urlopen(url, cafile=certifi.where())\n"
     ]
    },
    {
     "name": "stdout",
     "output_type": "stream",
     "text": [
      "calculate period: 50\n",
      "ADI\n"
     ]
    },
    {
     "name": "stderr",
     "output_type": "stream",
     "text": [
      "C:\\Users\\CHIN\\AppData\\Local\\Temp/ipykernel_416/1045654372.py:93: FutureWarning: Indexing with multiple keys (implicitly converted to a tuple of keys) will be deprecated, use a list instead.\n",
      "  total_port_value = pd.DataFrame(df_init.groupby([df_init.index])['Total_value_todate','close'].sum())\n",
      "C:\\Users\\CHIN\\AppData\\Local\\Temp/ipykernel_416/2026335479.py:25: DeprecationWarning: cafile, capath and cadefault are deprecated, use a custom context instead.\n",
      "  response = urlopen(url, cafile=certifi.where())\n"
     ]
    },
    {
     "name": "stdout",
     "output_type": "stream",
     "text": [
      "calculate period: 50\n",
      "ANSS\n"
     ]
    },
    {
     "name": "stderr",
     "output_type": "stream",
     "text": [
      "C:\\Users\\CHIN\\AppData\\Local\\Temp/ipykernel_416/1045654372.py:93: FutureWarning: Indexing with multiple keys (implicitly converted to a tuple of keys) will be deprecated, use a list instead.\n",
      "  total_port_value = pd.DataFrame(df_init.groupby([df_init.index])['Total_value_todate','close'].sum())\n",
      "C:\\Users\\CHIN\\AppData\\Local\\Temp/ipykernel_416/2026335479.py:25: DeprecationWarning: cafile, capath and cadefault are deprecated, use a custom context instead.\n",
      "  response = urlopen(url, cafile=certifi.where())\n"
     ]
    },
    {
     "name": "stdout",
     "output_type": "stream",
     "text": [
      "calculate period: 50\n",
      "AON\n"
     ]
    },
    {
     "name": "stderr",
     "output_type": "stream",
     "text": [
      "C:\\Users\\CHIN\\AppData\\Local\\Temp/ipykernel_416/1045654372.py:93: FutureWarning: Indexing with multiple keys (implicitly converted to a tuple of keys) will be deprecated, use a list instead.\n",
      "  total_port_value = pd.DataFrame(df_init.groupby([df_init.index])['Total_value_todate','close'].sum())\n",
      "C:\\Users\\CHIN\\AppData\\Local\\Temp/ipykernel_416/2026335479.py:25: DeprecationWarning: cafile, capath and cadefault are deprecated, use a custom context instead.\n",
      "  response = urlopen(url, cafile=certifi.where())\n"
     ]
    },
    {
     "name": "stdout",
     "output_type": "stream",
     "text": [
      "calculate period: 50\n",
      "APA\n"
     ]
    },
    {
     "name": "stderr",
     "output_type": "stream",
     "text": [
      "C:\\Users\\CHIN\\AppData\\Local\\Temp/ipykernel_416/1045654372.py:93: FutureWarning: Indexing with multiple keys (implicitly converted to a tuple of keys) will be deprecated, use a list instead.\n",
      "  total_port_value = pd.DataFrame(df_init.groupby([df_init.index])['Total_value_todate','close'].sum())\n",
      "C:\\Users\\CHIN\\AppData\\Local\\Temp/ipykernel_416/2026335479.py:25: DeprecationWarning: cafile, capath and cadefault are deprecated, use a custom context instead.\n",
      "  response = urlopen(url, cafile=certifi.where())\n"
     ]
    },
    {
     "name": "stdout",
     "output_type": "stream",
     "text": [
      "calculate period: 50\n",
      "AAPL\n"
     ]
    },
    {
     "name": "stderr",
     "output_type": "stream",
     "text": [
      "C:\\Users\\CHIN\\AppData\\Local\\Temp/ipykernel_416/1045654372.py:93: FutureWarning: Indexing with multiple keys (implicitly converted to a tuple of keys) will be deprecated, use a list instead.\n",
      "  total_port_value = pd.DataFrame(df_init.groupby([df_init.index])['Total_value_todate','close'].sum())\n",
      "C:\\Users\\CHIN\\AppData\\Local\\Temp/ipykernel_416/2026335479.py:25: DeprecationWarning: cafile, capath and cadefault are deprecated, use a custom context instead.\n",
      "  response = urlopen(url, cafile=certifi.where())\n"
     ]
    },
    {
     "name": "stdout",
     "output_type": "stream",
     "text": [
      "calculate period: 50\n",
      "AMAT\n"
     ]
    },
    {
     "name": "stderr",
     "output_type": "stream",
     "text": [
      "C:\\Users\\CHIN\\AppData\\Local\\Temp/ipykernel_416/1045654372.py:93: FutureWarning: Indexing with multiple keys (implicitly converted to a tuple of keys) will be deprecated, use a list instead.\n",
      "  total_port_value = pd.DataFrame(df_init.groupby([df_init.index])['Total_value_todate','close'].sum())\n",
      "C:\\Users\\CHIN\\AppData\\Local\\Temp/ipykernel_416/2026335479.py:25: DeprecationWarning: cafile, capath and cadefault are deprecated, use a custom context instead.\n",
      "  response = urlopen(url, cafile=certifi.where())\n"
     ]
    },
    {
     "name": "stdout",
     "output_type": "stream",
     "text": [
      "calculate period: 50\n",
      "APTV\n"
     ]
    },
    {
     "name": "stderr",
     "output_type": "stream",
     "text": [
      "C:\\Users\\CHIN\\AppData\\Local\\Temp/ipykernel_416/1045654372.py:93: FutureWarning: Indexing with multiple keys (implicitly converted to a tuple of keys) will be deprecated, use a list instead.\n",
      "  total_port_value = pd.DataFrame(df_init.groupby([df_init.index])['Total_value_todate','close'].sum())\n",
      "C:\\Users\\CHIN\\AppData\\Local\\Temp/ipykernel_416/2026335479.py:25: DeprecationWarning: cafile, capath and cadefault are deprecated, use a custom context instead.\n",
      "  response = urlopen(url, cafile=certifi.where())\n"
     ]
    },
    {
     "name": "stdout",
     "output_type": "stream",
     "text": [
      "calculate period: 50\n",
      "ACGL\n"
     ]
    },
    {
     "name": "stderr",
     "output_type": "stream",
     "text": [
      "C:\\Users\\CHIN\\AppData\\Local\\Temp/ipykernel_416/1045654372.py:93: FutureWarning: Indexing with multiple keys (implicitly converted to a tuple of keys) will be deprecated, use a list instead.\n",
      "  total_port_value = pd.DataFrame(df_init.groupby([df_init.index])['Total_value_todate','close'].sum())\n",
      "C:\\Users\\CHIN\\AppData\\Local\\Temp/ipykernel_416/2026335479.py:25: DeprecationWarning: cafile, capath and cadefault are deprecated, use a custom context instead.\n",
      "  response = urlopen(url, cafile=certifi.where())\n"
     ]
    },
    {
     "name": "stdout",
     "output_type": "stream",
     "text": [
      "calculate period: 50\n",
      "ADM\n"
     ]
    },
    {
     "name": "stderr",
     "output_type": "stream",
     "text": [
      "C:\\Users\\CHIN\\AppData\\Local\\Temp/ipykernel_416/1045654372.py:93: FutureWarning: Indexing with multiple keys (implicitly converted to a tuple of keys) will be deprecated, use a list instead.\n",
      "  total_port_value = pd.DataFrame(df_init.groupby([df_init.index])['Total_value_todate','close'].sum())\n",
      "C:\\Users\\CHIN\\AppData\\Local\\Temp/ipykernel_416/2026335479.py:25: DeprecationWarning: cafile, capath and cadefault are deprecated, use a custom context instead.\n",
      "  response = urlopen(url, cafile=certifi.where())\n"
     ]
    },
    {
     "name": "stdout",
     "output_type": "stream",
     "text": [
      "calculate period: 50\n",
      "ANET\n"
     ]
    },
    {
     "name": "stderr",
     "output_type": "stream",
     "text": [
      "C:\\Users\\CHIN\\AppData\\Local\\Temp/ipykernel_416/1045654372.py:93: FutureWarning: Indexing with multiple keys (implicitly converted to a tuple of keys) will be deprecated, use a list instead.\n",
      "  total_port_value = pd.DataFrame(df_init.groupby([df_init.index])['Total_value_todate','close'].sum())\n",
      "C:\\Users\\CHIN\\AppData\\Local\\Temp/ipykernel_416/2026335479.py:25: DeprecationWarning: cafile, capath and cadefault are deprecated, use a custom context instead.\n",
      "  response = urlopen(url, cafile=certifi.where())\n"
     ]
    },
    {
     "name": "stdout",
     "output_type": "stream",
     "text": [
      "calculate period: 50\n",
      "AJG\n"
     ]
    },
    {
     "name": "stderr",
     "output_type": "stream",
     "text": [
      "C:\\Users\\CHIN\\AppData\\Local\\Temp/ipykernel_416/1045654372.py:93: FutureWarning: Indexing with multiple keys (implicitly converted to a tuple of keys) will be deprecated, use a list instead.\n",
      "  total_port_value = pd.DataFrame(df_init.groupby([df_init.index])['Total_value_todate','close'].sum())\n",
      "C:\\Users\\CHIN\\AppData\\Local\\Temp/ipykernel_416/2026335479.py:25: DeprecationWarning: cafile, capath and cadefault are deprecated, use a custom context instead.\n",
      "  response = urlopen(url, cafile=certifi.where())\n"
     ]
    },
    {
     "name": "stdout",
     "output_type": "stream",
     "text": [
      "calculate period: 50\n",
      "AIZ\n"
     ]
    },
    {
     "name": "stderr",
     "output_type": "stream",
     "text": [
      "C:\\Users\\CHIN\\AppData\\Local\\Temp/ipykernel_416/1045654372.py:93: FutureWarning: Indexing with multiple keys (implicitly converted to a tuple of keys) will be deprecated, use a list instead.\n",
      "  total_port_value = pd.DataFrame(df_init.groupby([df_init.index])['Total_value_todate','close'].sum())\n",
      "C:\\Users\\CHIN\\AppData\\Local\\Temp/ipykernel_416/2026335479.py:25: DeprecationWarning: cafile, capath and cadefault are deprecated, use a custom context instead.\n",
      "  response = urlopen(url, cafile=certifi.where())\n"
     ]
    },
    {
     "name": "stdout",
     "output_type": "stream",
     "text": [
      "calculate period: 50\n",
      "T\n"
     ]
    },
    {
     "name": "stderr",
     "output_type": "stream",
     "text": [
      "C:\\Users\\CHIN\\AppData\\Local\\Temp/ipykernel_416/1045654372.py:93: FutureWarning: Indexing with multiple keys (implicitly converted to a tuple of keys) will be deprecated, use a list instead.\n",
      "  total_port_value = pd.DataFrame(df_init.groupby([df_init.index])['Total_value_todate','close'].sum())\n",
      "C:\\Users\\CHIN\\AppData\\Local\\Temp/ipykernel_416/2026335479.py:25: DeprecationWarning: cafile, capath and cadefault are deprecated, use a custom context instead.\n",
      "  response = urlopen(url, cafile=certifi.where())\n"
     ]
    },
    {
     "name": "stdout",
     "output_type": "stream",
     "text": [
      "calculate period: 50\n",
      "ATO\n"
     ]
    },
    {
     "name": "stderr",
     "output_type": "stream",
     "text": [
      "C:\\Users\\CHIN\\AppData\\Local\\Temp/ipykernel_416/1045654372.py:93: FutureWarning: Indexing with multiple keys (implicitly converted to a tuple of keys) will be deprecated, use a list instead.\n",
      "  total_port_value = pd.DataFrame(df_init.groupby([df_init.index])['Total_value_todate','close'].sum())\n",
      "C:\\Users\\CHIN\\AppData\\Local\\Temp/ipykernel_416/2026335479.py:25: DeprecationWarning: cafile, capath and cadefault are deprecated, use a custom context instead.\n",
      "  response = urlopen(url, cafile=certifi.where())\n"
     ]
    },
    {
     "name": "stdout",
     "output_type": "stream",
     "text": [
      "calculate period: 50\n",
      "ADSK\n"
     ]
    },
    {
     "name": "stderr",
     "output_type": "stream",
     "text": [
      "C:\\Users\\CHIN\\AppData\\Local\\Temp/ipykernel_416/1045654372.py:93: FutureWarning: Indexing with multiple keys (implicitly converted to a tuple of keys) will be deprecated, use a list instead.\n",
      "  total_port_value = pd.DataFrame(df_init.groupby([df_init.index])['Total_value_todate','close'].sum())\n",
      "C:\\Users\\CHIN\\AppData\\Local\\Temp/ipykernel_416/2026335479.py:25: DeprecationWarning: cafile, capath and cadefault are deprecated, use a custom context instead.\n",
      "  response = urlopen(url, cafile=certifi.where())\n"
     ]
    },
    {
     "name": "stdout",
     "output_type": "stream",
     "text": [
      "calculate period: 50\n",
      "ADP\n"
     ]
    },
    {
     "name": "stderr",
     "output_type": "stream",
     "text": [
      "C:\\Users\\CHIN\\AppData\\Local\\Temp/ipykernel_416/1045654372.py:93: FutureWarning: Indexing with multiple keys (implicitly converted to a tuple of keys) will be deprecated, use a list instead.\n",
      "  total_port_value = pd.DataFrame(df_init.groupby([df_init.index])['Total_value_todate','close'].sum())\n",
      "C:\\Users\\CHIN\\AppData\\Local\\Temp/ipykernel_416/2026335479.py:25: DeprecationWarning: cafile, capath and cadefault are deprecated, use a custom context instead.\n",
      "  response = urlopen(url, cafile=certifi.where())\n"
     ]
    },
    {
     "name": "stdout",
     "output_type": "stream",
     "text": [
      "calculate period: 50\n",
      "AZO\n"
     ]
    },
    {
     "name": "stderr",
     "output_type": "stream",
     "text": [
      "C:\\Users\\CHIN\\AppData\\Local\\Temp/ipykernel_416/1045654372.py:93: FutureWarning: Indexing with multiple keys (implicitly converted to a tuple of keys) will be deprecated, use a list instead.\n",
      "  total_port_value = pd.DataFrame(df_init.groupby([df_init.index])['Total_value_todate','close'].sum())\n",
      "C:\\Users\\CHIN\\AppData\\Local\\Temp/ipykernel_416/2026335479.py:25: DeprecationWarning: cafile, capath and cadefault are deprecated, use a custom context instead.\n",
      "  response = urlopen(url, cafile=certifi.where())\n"
     ]
    },
    {
     "name": "stdout",
     "output_type": "stream",
     "text": [
      "calculate period: 50\n",
      "AVB\n"
     ]
    },
    {
     "name": "stderr",
     "output_type": "stream",
     "text": [
      "C:\\Users\\CHIN\\AppData\\Local\\Temp/ipykernel_416/1045654372.py:93: FutureWarning: Indexing with multiple keys (implicitly converted to a tuple of keys) will be deprecated, use a list instead.\n",
      "  total_port_value = pd.DataFrame(df_init.groupby([df_init.index])['Total_value_todate','close'].sum())\n",
      "C:\\Users\\CHIN\\AppData\\Local\\Temp/ipykernel_416/2026335479.py:25: DeprecationWarning: cafile, capath and cadefault are deprecated, use a custom context instead.\n",
      "  response = urlopen(url, cafile=certifi.where())\n"
     ]
    },
    {
     "name": "stdout",
     "output_type": "stream",
     "text": [
      "calculate period: 50\n",
      "AVY\n"
     ]
    },
    {
     "name": "stderr",
     "output_type": "stream",
     "text": [
      "C:\\Users\\CHIN\\AppData\\Local\\Temp/ipykernel_416/1045654372.py:93: FutureWarning: Indexing with multiple keys (implicitly converted to a tuple of keys) will be deprecated, use a list instead.\n",
      "  total_port_value = pd.DataFrame(df_init.groupby([df_init.index])['Total_value_todate','close'].sum())\n",
      "C:\\Users\\CHIN\\AppData\\Local\\Temp/ipykernel_416/2026335479.py:25: DeprecationWarning: cafile, capath and cadefault are deprecated, use a custom context instead.\n",
      "  response = urlopen(url, cafile=certifi.where())\n"
     ]
    },
    {
     "name": "stdout",
     "output_type": "stream",
     "text": [
      "calculate period: 50\n",
      "AXON\n"
     ]
    },
    {
     "name": "stderr",
     "output_type": "stream",
     "text": [
      "C:\\Users\\CHIN\\AppData\\Local\\Temp/ipykernel_416/1045654372.py:93: FutureWarning: Indexing with multiple keys (implicitly converted to a tuple of keys) will be deprecated, use a list instead.\n",
      "  total_port_value = pd.DataFrame(df_init.groupby([df_init.index])['Total_value_todate','close'].sum())\n",
      "C:\\Users\\CHIN\\AppData\\Local\\Temp/ipykernel_416/2026335479.py:25: DeprecationWarning: cafile, capath and cadefault are deprecated, use a custom context instead.\n",
      "  response = urlopen(url, cafile=certifi.where())\n"
     ]
    },
    {
     "name": "stdout",
     "output_type": "stream",
     "text": [
      "calculate period: 50\n",
      "BKR\n"
     ]
    },
    {
     "name": "stderr",
     "output_type": "stream",
     "text": [
      "C:\\Users\\CHIN\\AppData\\Local\\Temp/ipykernel_416/1045654372.py:93: FutureWarning: Indexing with multiple keys (implicitly converted to a tuple of keys) will be deprecated, use a list instead.\n",
      "  total_port_value = pd.DataFrame(df_init.groupby([df_init.index])['Total_value_todate','close'].sum())\n",
      "C:\\Users\\CHIN\\AppData\\Local\\Temp/ipykernel_416/2026335479.py:25: DeprecationWarning: cafile, capath and cadefault are deprecated, use a custom context instead.\n",
      "  response = urlopen(url, cafile=certifi.where())\n"
     ]
    },
    {
     "name": "stdout",
     "output_type": "stream",
     "text": [
      "calculate period: 50\n",
      "BALL\n"
     ]
    },
    {
     "name": "stderr",
     "output_type": "stream",
     "text": [
      "C:\\Users\\CHIN\\AppData\\Local\\Temp/ipykernel_416/1045654372.py:93: FutureWarning: Indexing with multiple keys (implicitly converted to a tuple of keys) will be deprecated, use a list instead.\n",
      "  total_port_value = pd.DataFrame(df_init.groupby([df_init.index])['Total_value_todate','close'].sum())\n",
      "C:\\Users\\CHIN\\AppData\\Local\\Temp/ipykernel_416/2026335479.py:25: DeprecationWarning: cafile, capath and cadefault are deprecated, use a custom context instead.\n",
      "  response = urlopen(url, cafile=certifi.where())\n"
     ]
    },
    {
     "name": "stdout",
     "output_type": "stream",
     "text": [
      "calculate period: 50\n",
      "BAC\n"
     ]
    },
    {
     "name": "stderr",
     "output_type": "stream",
     "text": [
      "C:\\Users\\CHIN\\AppData\\Local\\Temp/ipykernel_416/1045654372.py:93: FutureWarning: Indexing with multiple keys (implicitly converted to a tuple of keys) will be deprecated, use a list instead.\n",
      "  total_port_value = pd.DataFrame(df_init.groupby([df_init.index])['Total_value_todate','close'].sum())\n",
      "C:\\Users\\CHIN\\AppData\\Local\\Temp/ipykernel_416/2026335479.py:25: DeprecationWarning: cafile, capath and cadefault are deprecated, use a custom context instead.\n",
      "  response = urlopen(url, cafile=certifi.where())\n"
     ]
    },
    {
     "name": "stdout",
     "output_type": "stream",
     "text": [
      "calculate period: 50\n",
      "BK\n"
     ]
    },
    {
     "name": "stderr",
     "output_type": "stream",
     "text": [
      "C:\\Users\\CHIN\\AppData\\Local\\Temp/ipykernel_416/1045654372.py:93: FutureWarning: Indexing with multiple keys (implicitly converted to a tuple of keys) will be deprecated, use a list instead.\n",
      "  total_port_value = pd.DataFrame(df_init.groupby([df_init.index])['Total_value_todate','close'].sum())\n",
      "C:\\Users\\CHIN\\AppData\\Local\\Temp/ipykernel_416/2026335479.py:25: DeprecationWarning: cafile, capath and cadefault are deprecated, use a custom context instead.\n",
      "  response = urlopen(url, cafile=certifi.where())\n"
     ]
    },
    {
     "name": "stdout",
     "output_type": "stream",
     "text": [
      "calculate period: 50\n",
      "BBWI\n"
     ]
    },
    {
     "name": "stderr",
     "output_type": "stream",
     "text": [
      "C:\\Users\\CHIN\\AppData\\Local\\Temp/ipykernel_416/1045654372.py:93: FutureWarning: Indexing with multiple keys (implicitly converted to a tuple of keys) will be deprecated, use a list instead.\n",
      "  total_port_value = pd.DataFrame(df_init.groupby([df_init.index])['Total_value_todate','close'].sum())\n",
      "C:\\Users\\CHIN\\AppData\\Local\\Temp/ipykernel_416/2026335479.py:25: DeprecationWarning: cafile, capath and cadefault are deprecated, use a custom context instead.\n",
      "  response = urlopen(url, cafile=certifi.where())\n"
     ]
    },
    {
     "name": "stdout",
     "output_type": "stream",
     "text": [
      "calculate period: 50\n",
      "BAX\n"
     ]
    },
    {
     "name": "stderr",
     "output_type": "stream",
     "text": [
      "C:\\Users\\CHIN\\AppData\\Local\\Temp/ipykernel_416/1045654372.py:93: FutureWarning: Indexing with multiple keys (implicitly converted to a tuple of keys) will be deprecated, use a list instead.\n",
      "  total_port_value = pd.DataFrame(df_init.groupby([df_init.index])['Total_value_todate','close'].sum())\n",
      "C:\\Users\\CHIN\\AppData\\Local\\Temp/ipykernel_416/2026335479.py:25: DeprecationWarning: cafile, capath and cadefault are deprecated, use a custom context instead.\n",
      "  response = urlopen(url, cafile=certifi.where())\n"
     ]
    },
    {
     "name": "stdout",
     "output_type": "stream",
     "text": [
      "calculate period: 50\n",
      "BDX\n"
     ]
    },
    {
     "name": "stderr",
     "output_type": "stream",
     "text": [
      "C:\\Users\\CHIN\\AppData\\Local\\Temp/ipykernel_416/1045654372.py:93: FutureWarning: Indexing with multiple keys (implicitly converted to a tuple of keys) will be deprecated, use a list instead.\n",
      "  total_port_value = pd.DataFrame(df_init.groupby([df_init.index])['Total_value_todate','close'].sum())\n",
      "C:\\Users\\CHIN\\AppData\\Local\\Temp/ipykernel_416/2026335479.py:25: DeprecationWarning: cafile, capath and cadefault are deprecated, use a custom context instead.\n",
      "  response = urlopen(url, cafile=certifi.where())\n"
     ]
    },
    {
     "name": "stdout",
     "output_type": "stream",
     "text": [
      "calculate period: 50\n",
      "BRK.B\n"
     ]
    },
    {
     "name": "stderr",
     "output_type": "stream",
     "text": [
      "C:\\Users\\CHIN\\AppData\\Local\\Temp/ipykernel_416/1045654372.py:93: FutureWarning: Indexing with multiple keys (implicitly converted to a tuple of keys) will be deprecated, use a list instead.\n",
      "  total_port_value = pd.DataFrame(df_init.groupby([df_init.index])['Total_value_todate','close'].sum())\n",
      "C:\\Users\\CHIN\\AppData\\Local\\Temp/ipykernel_416/2026335479.py:25: DeprecationWarning: cafile, capath and cadefault are deprecated, use a custom context instead.\n",
      "  response = urlopen(url, cafile=certifi.where())\n"
     ]
    },
    {
     "name": "stdout",
     "output_type": "stream",
     "text": [
      "calculate period: 50\n",
      "BBY\n"
     ]
    },
    {
     "name": "stderr",
     "output_type": "stream",
     "text": [
      "C:\\Users\\CHIN\\AppData\\Local\\Temp/ipykernel_416/1045654372.py:93: FutureWarning: Indexing with multiple keys (implicitly converted to a tuple of keys) will be deprecated, use a list instead.\n",
      "  total_port_value = pd.DataFrame(df_init.groupby([df_init.index])['Total_value_todate','close'].sum())\n",
      "C:\\Users\\CHIN\\AppData\\Local\\Temp/ipykernel_416/2026335479.py:25: DeprecationWarning: cafile, capath and cadefault are deprecated, use a custom context instead.\n",
      "  response = urlopen(url, cafile=certifi.where())\n"
     ]
    },
    {
     "name": "stdout",
     "output_type": "stream",
     "text": [
      "calculate period: 50\n",
      "BIO\n"
     ]
    },
    {
     "name": "stderr",
     "output_type": "stream",
     "text": [
      "C:\\Users\\CHIN\\AppData\\Local\\Temp/ipykernel_416/1045654372.py:93: FutureWarning: Indexing with multiple keys (implicitly converted to a tuple of keys) will be deprecated, use a list instead.\n",
      "  total_port_value = pd.DataFrame(df_init.groupby([df_init.index])['Total_value_todate','close'].sum())\n",
      "C:\\Users\\CHIN\\AppData\\Local\\Temp/ipykernel_416/2026335479.py:25: DeprecationWarning: cafile, capath and cadefault are deprecated, use a custom context instead.\n",
      "  response = urlopen(url, cafile=certifi.where())\n"
     ]
    },
    {
     "name": "stdout",
     "output_type": "stream",
     "text": [
      "calculate period: 50\n",
      "TECH\n"
     ]
    },
    {
     "name": "stderr",
     "output_type": "stream",
     "text": [
      "C:\\Users\\CHIN\\AppData\\Local\\Temp/ipykernel_416/1045654372.py:93: FutureWarning: Indexing with multiple keys (implicitly converted to a tuple of keys) will be deprecated, use a list instead.\n",
      "  total_port_value = pd.DataFrame(df_init.groupby([df_init.index])['Total_value_todate','close'].sum())\n",
      "C:\\Users\\CHIN\\AppData\\Local\\Temp/ipykernel_416/2026335479.py:25: DeprecationWarning: cafile, capath and cadefault are deprecated, use a custom context instead.\n",
      "  response = urlopen(url, cafile=certifi.where())\n"
     ]
    },
    {
     "name": "stdout",
     "output_type": "stream",
     "text": [
      "calculate period: 50\n",
      "BIIB\n"
     ]
    },
    {
     "name": "stderr",
     "output_type": "stream",
     "text": [
      "C:\\Users\\CHIN\\AppData\\Local\\Temp/ipykernel_416/1045654372.py:93: FutureWarning: Indexing with multiple keys (implicitly converted to a tuple of keys) will be deprecated, use a list instead.\n",
      "  total_port_value = pd.DataFrame(df_init.groupby([df_init.index])['Total_value_todate','close'].sum())\n",
      "C:\\Users\\CHIN\\AppData\\Local\\Temp/ipykernel_416/2026335479.py:25: DeprecationWarning: cafile, capath and cadefault are deprecated, use a custom context instead.\n",
      "  response = urlopen(url, cafile=certifi.where())\n"
     ]
    },
    {
     "name": "stdout",
     "output_type": "stream",
     "text": [
      "calculate period: 50\n",
      "BLK\n"
     ]
    },
    {
     "name": "stderr",
     "output_type": "stream",
     "text": [
      "C:\\Users\\CHIN\\AppData\\Local\\Temp/ipykernel_416/1045654372.py:93: FutureWarning: Indexing with multiple keys (implicitly converted to a tuple of keys) will be deprecated, use a list instead.\n",
      "  total_port_value = pd.DataFrame(df_init.groupby([df_init.index])['Total_value_todate','close'].sum())\n",
      "C:\\Users\\CHIN\\AppData\\Local\\Temp/ipykernel_416/2026335479.py:25: DeprecationWarning: cafile, capath and cadefault are deprecated, use a custom context instead.\n",
      "  response = urlopen(url, cafile=certifi.where())\n"
     ]
    },
    {
     "name": "stdout",
     "output_type": "stream",
     "text": [
      "calculate period: 50\n",
      "BX\n"
     ]
    },
    {
     "name": "stderr",
     "output_type": "stream",
     "text": [
      "C:\\Users\\CHIN\\AppData\\Local\\Temp/ipykernel_416/1045654372.py:93: FutureWarning: Indexing with multiple keys (implicitly converted to a tuple of keys) will be deprecated, use a list instead.\n",
      "  total_port_value = pd.DataFrame(df_init.groupby([df_init.index])['Total_value_todate','close'].sum())\n",
      "C:\\Users\\CHIN\\AppData\\Local\\Temp/ipykernel_416/2026335479.py:25: DeprecationWarning: cafile, capath and cadefault are deprecated, use a custom context instead.\n",
      "  response = urlopen(url, cafile=certifi.where())\n"
     ]
    },
    {
     "name": "stdout",
     "output_type": "stream",
     "text": [
      "calculate period: 50\n",
      "BA\n"
     ]
    },
    {
     "name": "stderr",
     "output_type": "stream",
     "text": [
      "C:\\Users\\CHIN\\AppData\\Local\\Temp/ipykernel_416/1045654372.py:93: FutureWarning: Indexing with multiple keys (implicitly converted to a tuple of keys) will be deprecated, use a list instead.\n",
      "  total_port_value = pd.DataFrame(df_init.groupby([df_init.index])['Total_value_todate','close'].sum())\n",
      "C:\\Users\\CHIN\\AppData\\Local\\Temp/ipykernel_416/2026335479.py:25: DeprecationWarning: cafile, capath and cadefault are deprecated, use a custom context instead.\n",
      "  response = urlopen(url, cafile=certifi.where())\n"
     ]
    },
    {
     "name": "stdout",
     "output_type": "stream",
     "text": [
      "calculate period: 50\n",
      "BKNG\n"
     ]
    },
    {
     "name": "stderr",
     "output_type": "stream",
     "text": [
      "C:\\Users\\CHIN\\AppData\\Local\\Temp/ipykernel_416/1045654372.py:93: FutureWarning: Indexing with multiple keys (implicitly converted to a tuple of keys) will be deprecated, use a list instead.\n",
      "  total_port_value = pd.DataFrame(df_init.groupby([df_init.index])['Total_value_todate','close'].sum())\n",
      "C:\\Users\\CHIN\\AppData\\Local\\Temp/ipykernel_416/2026335479.py:25: DeprecationWarning: cafile, capath and cadefault are deprecated, use a custom context instead.\n",
      "  response = urlopen(url, cafile=certifi.where())\n"
     ]
    },
    {
     "name": "stdout",
     "output_type": "stream",
     "text": [
      "calculate period: 50\n",
      "BWA\n"
     ]
    },
    {
     "name": "stderr",
     "output_type": "stream",
     "text": [
      "C:\\Users\\CHIN\\AppData\\Local\\Temp/ipykernel_416/1045654372.py:93: FutureWarning: Indexing with multiple keys (implicitly converted to a tuple of keys) will be deprecated, use a list instead.\n",
      "  total_port_value = pd.DataFrame(df_init.groupby([df_init.index])['Total_value_todate','close'].sum())\n",
      "C:\\Users\\CHIN\\AppData\\Local\\Temp/ipykernel_416/2026335479.py:25: DeprecationWarning: cafile, capath and cadefault are deprecated, use a custom context instead.\n",
      "  response = urlopen(url, cafile=certifi.where())\n"
     ]
    },
    {
     "name": "stdout",
     "output_type": "stream",
     "text": [
      "calculate period: 50\n",
      "BXP\n"
     ]
    },
    {
     "name": "stderr",
     "output_type": "stream",
     "text": [
      "C:\\Users\\CHIN\\AppData\\Local\\Temp/ipykernel_416/1045654372.py:93: FutureWarning: Indexing with multiple keys (implicitly converted to a tuple of keys) will be deprecated, use a list instead.\n",
      "  total_port_value = pd.DataFrame(df_init.groupby([df_init.index])['Total_value_todate','close'].sum())\n",
      "C:\\Users\\CHIN\\AppData\\Local\\Temp/ipykernel_416/2026335479.py:25: DeprecationWarning: cafile, capath and cadefault are deprecated, use a custom context instead.\n",
      "  response = urlopen(url, cafile=certifi.where())\n"
     ]
    },
    {
     "name": "stdout",
     "output_type": "stream",
     "text": [
      "calculate period: 50\n",
      "BSX\n"
     ]
    },
    {
     "name": "stderr",
     "output_type": "stream",
     "text": [
      "C:\\Users\\CHIN\\AppData\\Local\\Temp/ipykernel_416/1045654372.py:93: FutureWarning: Indexing with multiple keys (implicitly converted to a tuple of keys) will be deprecated, use a list instead.\n",
      "  total_port_value = pd.DataFrame(df_init.groupby([df_init.index])['Total_value_todate','close'].sum())\n",
      "C:\\Users\\CHIN\\AppData\\Local\\Temp/ipykernel_416/2026335479.py:25: DeprecationWarning: cafile, capath and cadefault are deprecated, use a custom context instead.\n",
      "  response = urlopen(url, cafile=certifi.where())\n"
     ]
    },
    {
     "name": "stdout",
     "output_type": "stream",
     "text": [
      "calculate period: 50\n",
      "BMY\n"
     ]
    },
    {
     "name": "stderr",
     "output_type": "stream",
     "text": [
      "C:\\Users\\CHIN\\AppData\\Local\\Temp/ipykernel_416/1045654372.py:93: FutureWarning: Indexing with multiple keys (implicitly converted to a tuple of keys) will be deprecated, use a list instead.\n",
      "  total_port_value = pd.DataFrame(df_init.groupby([df_init.index])['Total_value_todate','close'].sum())\n",
      "C:\\Users\\CHIN\\AppData\\Local\\Temp/ipykernel_416/2026335479.py:25: DeprecationWarning: cafile, capath and cadefault are deprecated, use a custom context instead.\n",
      "  response = urlopen(url, cafile=certifi.where())\n"
     ]
    },
    {
     "name": "stdout",
     "output_type": "stream",
     "text": [
      "calculate period: 50\n",
      "AVGO\n"
     ]
    },
    {
     "name": "stderr",
     "output_type": "stream",
     "text": [
      "C:\\Users\\CHIN\\AppData\\Local\\Temp/ipykernel_416/1045654372.py:93: FutureWarning: Indexing with multiple keys (implicitly converted to a tuple of keys) will be deprecated, use a list instead.\n",
      "  total_port_value = pd.DataFrame(df_init.groupby([df_init.index])['Total_value_todate','close'].sum())\n",
      "C:\\Users\\CHIN\\AppData\\Local\\Temp/ipykernel_416/2026335479.py:25: DeprecationWarning: cafile, capath and cadefault are deprecated, use a custom context instead.\n",
      "  response = urlopen(url, cafile=certifi.where())\n"
     ]
    },
    {
     "name": "stdout",
     "output_type": "stream",
     "text": [
      "calculate period: 50\n",
      "BR\n"
     ]
    },
    {
     "name": "stderr",
     "output_type": "stream",
     "text": [
      "C:\\Users\\CHIN\\AppData\\Local\\Temp/ipykernel_416/1045654372.py:93: FutureWarning: Indexing with multiple keys (implicitly converted to a tuple of keys) will be deprecated, use a list instead.\n",
      "  total_port_value = pd.DataFrame(df_init.groupby([df_init.index])['Total_value_todate','close'].sum())\n",
      "C:\\Users\\CHIN\\AppData\\Local\\Temp/ipykernel_416/2026335479.py:25: DeprecationWarning: cafile, capath and cadefault are deprecated, use a custom context instead.\n",
      "  response = urlopen(url, cafile=certifi.where())\n"
     ]
    },
    {
     "name": "stdout",
     "output_type": "stream",
     "text": [
      "calculate period: 50\n",
      "BRO\n"
     ]
    },
    {
     "name": "stderr",
     "output_type": "stream",
     "text": [
      "C:\\Users\\CHIN\\AppData\\Local\\Temp/ipykernel_416/1045654372.py:93: FutureWarning: Indexing with multiple keys (implicitly converted to a tuple of keys) will be deprecated, use a list instead.\n",
      "  total_port_value = pd.DataFrame(df_init.groupby([df_init.index])['Total_value_todate','close'].sum())\n",
      "C:\\Users\\CHIN\\AppData\\Local\\Temp/ipykernel_416/2026335479.py:25: DeprecationWarning: cafile, capath and cadefault are deprecated, use a custom context instead.\n",
      "  response = urlopen(url, cafile=certifi.where())\n"
     ]
    },
    {
     "name": "stdout",
     "output_type": "stream",
     "text": [
      "calculate period: 50\n",
      "BF.B\n"
     ]
    },
    {
     "name": "stderr",
     "output_type": "stream",
     "text": [
      "C:\\Users\\CHIN\\AppData\\Local\\Temp/ipykernel_416/1045654372.py:93: FutureWarning: Indexing with multiple keys (implicitly converted to a tuple of keys) will be deprecated, use a list instead.\n",
      "  total_port_value = pd.DataFrame(df_init.groupby([df_init.index])['Total_value_todate','close'].sum())\n",
      "C:\\Users\\CHIN\\AppData\\Local\\Temp/ipykernel_416/2026335479.py:25: DeprecationWarning: cafile, capath and cadefault are deprecated, use a custom context instead.\n",
      "  response = urlopen(url, cafile=certifi.where())\n"
     ]
    },
    {
     "name": "stdout",
     "output_type": "stream",
     "text": [
      "calculate period: 50\n",
      "BLDR\n"
     ]
    },
    {
     "name": "stderr",
     "output_type": "stream",
     "text": [
      "C:\\Users\\CHIN\\AppData\\Local\\Temp/ipykernel_416/1045654372.py:93: FutureWarning: Indexing with multiple keys (implicitly converted to a tuple of keys) will be deprecated, use a list instead.\n",
      "  total_port_value = pd.DataFrame(df_init.groupby([df_init.index])['Total_value_todate','close'].sum())\n",
      "C:\\Users\\CHIN\\AppData\\Local\\Temp/ipykernel_416/2026335479.py:25: DeprecationWarning: cafile, capath and cadefault are deprecated, use a custom context instead.\n",
      "  response = urlopen(url, cafile=certifi.where())\n"
     ]
    },
    {
     "name": "stdout",
     "output_type": "stream",
     "text": [
      "calculate period: 50\n",
      "BG\n"
     ]
    },
    {
     "name": "stderr",
     "output_type": "stream",
     "text": [
      "C:\\Users\\CHIN\\AppData\\Local\\Temp/ipykernel_416/1045654372.py:93: FutureWarning: Indexing with multiple keys (implicitly converted to a tuple of keys) will be deprecated, use a list instead.\n",
      "  total_port_value = pd.DataFrame(df_init.groupby([df_init.index])['Total_value_todate','close'].sum())\n",
      "C:\\Users\\CHIN\\AppData\\Local\\Temp/ipykernel_416/2026335479.py:25: DeprecationWarning: cafile, capath and cadefault are deprecated, use a custom context instead.\n",
      "  response = urlopen(url, cafile=certifi.where())\n"
     ]
    },
    {
     "name": "stdout",
     "output_type": "stream",
     "text": [
      "calculate period: 50\n",
      "CDNS\n"
     ]
    },
    {
     "name": "stderr",
     "output_type": "stream",
     "text": [
      "C:\\Users\\CHIN\\AppData\\Local\\Temp/ipykernel_416/1045654372.py:93: FutureWarning: Indexing with multiple keys (implicitly converted to a tuple of keys) will be deprecated, use a list instead.\n",
      "  total_port_value = pd.DataFrame(df_init.groupby([df_init.index])['Total_value_todate','close'].sum())\n",
      "C:\\Users\\CHIN\\AppData\\Local\\Temp/ipykernel_416/2026335479.py:25: DeprecationWarning: cafile, capath and cadefault are deprecated, use a custom context instead.\n",
      "  response = urlopen(url, cafile=certifi.where())\n"
     ]
    },
    {
     "name": "stdout",
     "output_type": "stream",
     "text": [
      "calculate period: 50\n",
      "CZR\n"
     ]
    },
    {
     "name": "stderr",
     "output_type": "stream",
     "text": [
      "C:\\Users\\CHIN\\AppData\\Local\\Temp/ipykernel_416/1045654372.py:93: FutureWarning: Indexing with multiple keys (implicitly converted to a tuple of keys) will be deprecated, use a list instead.\n",
      "  total_port_value = pd.DataFrame(df_init.groupby([df_init.index])['Total_value_todate','close'].sum())\n",
      "C:\\Users\\CHIN\\AppData\\Local\\Temp/ipykernel_416/2026335479.py:25: DeprecationWarning: cafile, capath and cadefault are deprecated, use a custom context instead.\n",
      "  response = urlopen(url, cafile=certifi.where())\n"
     ]
    },
    {
     "name": "stdout",
     "output_type": "stream",
     "text": [
      "calculate period: 50\n",
      "CPT\n"
     ]
    },
    {
     "name": "stderr",
     "output_type": "stream",
     "text": [
      "C:\\Users\\CHIN\\AppData\\Local\\Temp/ipykernel_416/1045654372.py:93: FutureWarning: Indexing with multiple keys (implicitly converted to a tuple of keys) will be deprecated, use a list instead.\n",
      "  total_port_value = pd.DataFrame(df_init.groupby([df_init.index])['Total_value_todate','close'].sum())\n",
      "C:\\Users\\CHIN\\AppData\\Local\\Temp/ipykernel_416/2026335479.py:25: DeprecationWarning: cafile, capath and cadefault are deprecated, use a custom context instead.\n",
      "  response = urlopen(url, cafile=certifi.where())\n"
     ]
    },
    {
     "name": "stdout",
     "output_type": "stream",
     "text": [
      "calculate period: 50\n",
      "CPB\n"
     ]
    },
    {
     "name": "stderr",
     "output_type": "stream",
     "text": [
      "C:\\Users\\CHIN\\AppData\\Local\\Temp/ipykernel_416/1045654372.py:93: FutureWarning: Indexing with multiple keys (implicitly converted to a tuple of keys) will be deprecated, use a list instead.\n",
      "  total_port_value = pd.DataFrame(df_init.groupby([df_init.index])['Total_value_todate','close'].sum())\n",
      "C:\\Users\\CHIN\\AppData\\Local\\Temp/ipykernel_416/2026335479.py:25: DeprecationWarning: cafile, capath and cadefault are deprecated, use a custom context instead.\n",
      "  response = urlopen(url, cafile=certifi.where())\n"
     ]
    },
    {
     "name": "stdout",
     "output_type": "stream",
     "text": [
      "calculate period: 50\n",
      "COF\n"
     ]
    },
    {
     "name": "stderr",
     "output_type": "stream",
     "text": [
      "C:\\Users\\CHIN\\AppData\\Local\\Temp/ipykernel_416/1045654372.py:93: FutureWarning: Indexing with multiple keys (implicitly converted to a tuple of keys) will be deprecated, use a list instead.\n",
      "  total_port_value = pd.DataFrame(df_init.groupby([df_init.index])['Total_value_todate','close'].sum())\n",
      "C:\\Users\\CHIN\\AppData\\Local\\Temp/ipykernel_416/2026335479.py:25: DeprecationWarning: cafile, capath and cadefault are deprecated, use a custom context instead.\n",
      "  response = urlopen(url, cafile=certifi.where())\n"
     ]
    },
    {
     "name": "stdout",
     "output_type": "stream",
     "text": [
      "calculate period: 50\n",
      "CAH\n"
     ]
    },
    {
     "name": "stderr",
     "output_type": "stream",
     "text": [
      "C:\\Users\\CHIN\\AppData\\Local\\Temp/ipykernel_416/1045654372.py:93: FutureWarning: Indexing with multiple keys (implicitly converted to a tuple of keys) will be deprecated, use a list instead.\n",
      "  total_port_value = pd.DataFrame(df_init.groupby([df_init.index])['Total_value_todate','close'].sum())\n",
      "C:\\Users\\CHIN\\AppData\\Local\\Temp/ipykernel_416/2026335479.py:25: DeprecationWarning: cafile, capath and cadefault are deprecated, use a custom context instead.\n",
      "  response = urlopen(url, cafile=certifi.where())\n"
     ]
    },
    {
     "name": "stdout",
     "output_type": "stream",
     "text": [
      "calculate period: 50\n",
      "KMX\n"
     ]
    },
    {
     "name": "stderr",
     "output_type": "stream",
     "text": [
      "C:\\Users\\CHIN\\AppData\\Local\\Temp/ipykernel_416/1045654372.py:93: FutureWarning: Indexing with multiple keys (implicitly converted to a tuple of keys) will be deprecated, use a list instead.\n",
      "  total_port_value = pd.DataFrame(df_init.groupby([df_init.index])['Total_value_todate','close'].sum())\n",
      "C:\\Users\\CHIN\\AppData\\Local\\Temp/ipykernel_416/2026335479.py:25: DeprecationWarning: cafile, capath and cadefault are deprecated, use a custom context instead.\n",
      "  response = urlopen(url, cafile=certifi.where())\n"
     ]
    },
    {
     "name": "stdout",
     "output_type": "stream",
     "text": [
      "calculate period: 50\n",
      "CCL\n"
     ]
    },
    {
     "name": "stderr",
     "output_type": "stream",
     "text": [
      "C:\\Users\\CHIN\\AppData\\Local\\Temp/ipykernel_416/1045654372.py:93: FutureWarning: Indexing with multiple keys (implicitly converted to a tuple of keys) will be deprecated, use a list instead.\n",
      "  total_port_value = pd.DataFrame(df_init.groupby([df_init.index])['Total_value_todate','close'].sum())\n",
      "C:\\Users\\CHIN\\AppData\\Local\\Temp/ipykernel_416/2026335479.py:25: DeprecationWarning: cafile, capath and cadefault are deprecated, use a custom context instead.\n",
      "  response = urlopen(url, cafile=certifi.where())\n"
     ]
    },
    {
     "name": "stdout",
     "output_type": "stream",
     "text": [
      "calculate period: 50\n",
      "CARR\n"
     ]
    },
    {
     "name": "stderr",
     "output_type": "stream",
     "text": [
      "C:\\Users\\CHIN\\AppData\\Local\\Temp/ipykernel_416/1045654372.py:93: FutureWarning: Indexing with multiple keys (implicitly converted to a tuple of keys) will be deprecated, use a list instead.\n",
      "  total_port_value = pd.DataFrame(df_init.groupby([df_init.index])['Total_value_todate','close'].sum())\n",
      "C:\\Users\\CHIN\\AppData\\Local\\Temp/ipykernel_416/2026335479.py:25: DeprecationWarning: cafile, capath and cadefault are deprecated, use a custom context instead.\n",
      "  response = urlopen(url, cafile=certifi.where())\n"
     ]
    },
    {
     "name": "stdout",
     "output_type": "stream",
     "text": [
      "calculate period: 50\n",
      "CTLT\n"
     ]
    },
    {
     "name": "stderr",
     "output_type": "stream",
     "text": [
      "C:\\Users\\CHIN\\AppData\\Local\\Temp/ipykernel_416/1045654372.py:93: FutureWarning: Indexing with multiple keys (implicitly converted to a tuple of keys) will be deprecated, use a list instead.\n",
      "  total_port_value = pd.DataFrame(df_init.groupby([df_init.index])['Total_value_todate','close'].sum())\n",
      "C:\\Users\\CHIN\\AppData\\Local\\Temp/ipykernel_416/2026335479.py:25: DeprecationWarning: cafile, capath and cadefault are deprecated, use a custom context instead.\n",
      "  response = urlopen(url, cafile=certifi.where())\n"
     ]
    },
    {
     "name": "stdout",
     "output_type": "stream",
     "text": [
      "calculate period: 50\n",
      "CAT\n"
     ]
    },
    {
     "name": "stderr",
     "output_type": "stream",
     "text": [
      "C:\\Users\\CHIN\\AppData\\Local\\Temp/ipykernel_416/1045654372.py:93: FutureWarning: Indexing with multiple keys (implicitly converted to a tuple of keys) will be deprecated, use a list instead.\n",
      "  total_port_value = pd.DataFrame(df_init.groupby([df_init.index])['Total_value_todate','close'].sum())\n",
      "C:\\Users\\CHIN\\AppData\\Local\\Temp/ipykernel_416/2026335479.py:25: DeprecationWarning: cafile, capath and cadefault are deprecated, use a custom context instead.\n",
      "  response = urlopen(url, cafile=certifi.where())\n"
     ]
    },
    {
     "name": "stdout",
     "output_type": "stream",
     "text": [
      "calculate period: 50\n",
      "CBOE\n"
     ]
    },
    {
     "name": "stderr",
     "output_type": "stream",
     "text": [
      "C:\\Users\\CHIN\\AppData\\Local\\Temp/ipykernel_416/1045654372.py:93: FutureWarning: Indexing with multiple keys (implicitly converted to a tuple of keys) will be deprecated, use a list instead.\n",
      "  total_port_value = pd.DataFrame(df_init.groupby([df_init.index])['Total_value_todate','close'].sum())\n",
      "C:\\Users\\CHIN\\AppData\\Local\\Temp/ipykernel_416/2026335479.py:25: DeprecationWarning: cafile, capath and cadefault are deprecated, use a custom context instead.\n",
      "  response = urlopen(url, cafile=certifi.where())\n"
     ]
    },
    {
     "name": "stdout",
     "output_type": "stream",
     "text": [
      "calculate period: 50\n",
      "CBRE\n"
     ]
    },
    {
     "name": "stderr",
     "output_type": "stream",
     "text": [
      "C:\\Users\\CHIN\\AppData\\Local\\Temp/ipykernel_416/1045654372.py:93: FutureWarning: Indexing with multiple keys (implicitly converted to a tuple of keys) will be deprecated, use a list instead.\n",
      "  total_port_value = pd.DataFrame(df_init.groupby([df_init.index])['Total_value_todate','close'].sum())\n",
      "C:\\Users\\CHIN\\AppData\\Local\\Temp/ipykernel_416/2026335479.py:25: DeprecationWarning: cafile, capath and cadefault are deprecated, use a custom context instead.\n",
      "  response = urlopen(url, cafile=certifi.where())\n"
     ]
    },
    {
     "name": "stdout",
     "output_type": "stream",
     "text": [
      "calculate period: 50\n",
      "CDW\n"
     ]
    },
    {
     "name": "stderr",
     "output_type": "stream",
     "text": [
      "C:\\Users\\CHIN\\AppData\\Local\\Temp/ipykernel_416/1045654372.py:93: FutureWarning: Indexing with multiple keys (implicitly converted to a tuple of keys) will be deprecated, use a list instead.\n",
      "  total_port_value = pd.DataFrame(df_init.groupby([df_init.index])['Total_value_todate','close'].sum())\n",
      "C:\\Users\\CHIN\\AppData\\Local\\Temp/ipykernel_416/2026335479.py:25: DeprecationWarning: cafile, capath and cadefault are deprecated, use a custom context instead.\n",
      "  response = urlopen(url, cafile=certifi.where())\n"
     ]
    },
    {
     "name": "stdout",
     "output_type": "stream",
     "text": [
      "calculate period: 50\n",
      "CE\n"
     ]
    },
    {
     "name": "stderr",
     "output_type": "stream",
     "text": [
      "C:\\Users\\CHIN\\AppData\\Local\\Temp/ipykernel_416/1045654372.py:93: FutureWarning: Indexing with multiple keys (implicitly converted to a tuple of keys) will be deprecated, use a list instead.\n",
      "  total_port_value = pd.DataFrame(df_init.groupby([df_init.index])['Total_value_todate','close'].sum())\n",
      "C:\\Users\\CHIN\\AppData\\Local\\Temp/ipykernel_416/2026335479.py:25: DeprecationWarning: cafile, capath and cadefault are deprecated, use a custom context instead.\n",
      "  response = urlopen(url, cafile=certifi.where())\n"
     ]
    },
    {
     "name": "stdout",
     "output_type": "stream",
     "text": [
      "calculate period: 50\n",
      "COR\n"
     ]
    },
    {
     "name": "stderr",
     "output_type": "stream",
     "text": [
      "C:\\Users\\CHIN\\AppData\\Local\\Temp/ipykernel_416/1045654372.py:93: FutureWarning: Indexing with multiple keys (implicitly converted to a tuple of keys) will be deprecated, use a list instead.\n",
      "  total_port_value = pd.DataFrame(df_init.groupby([df_init.index])['Total_value_todate','close'].sum())\n",
      "C:\\Users\\CHIN\\AppData\\Local\\Temp/ipykernel_416/2026335479.py:25: DeprecationWarning: cafile, capath and cadefault are deprecated, use a custom context instead.\n",
      "  response = urlopen(url, cafile=certifi.where())\n"
     ]
    },
    {
     "name": "stdout",
     "output_type": "stream",
     "text": [
      "calculate period: 50\n",
      "CNC\n"
     ]
    },
    {
     "name": "stderr",
     "output_type": "stream",
     "text": [
      "C:\\Users\\CHIN\\AppData\\Local\\Temp/ipykernel_416/1045654372.py:93: FutureWarning: Indexing with multiple keys (implicitly converted to a tuple of keys) will be deprecated, use a list instead.\n",
      "  total_port_value = pd.DataFrame(df_init.groupby([df_init.index])['Total_value_todate','close'].sum())\n",
      "C:\\Users\\CHIN\\AppData\\Local\\Temp/ipykernel_416/2026335479.py:25: DeprecationWarning: cafile, capath and cadefault are deprecated, use a custom context instead.\n",
      "  response = urlopen(url, cafile=certifi.where())\n"
     ]
    },
    {
     "name": "stdout",
     "output_type": "stream",
     "text": [
      "calculate period: 50\n",
      "CNP\n"
     ]
    },
    {
     "name": "stderr",
     "output_type": "stream",
     "text": [
      "C:\\Users\\CHIN\\AppData\\Local\\Temp/ipykernel_416/1045654372.py:93: FutureWarning: Indexing with multiple keys (implicitly converted to a tuple of keys) will be deprecated, use a list instead.\n",
      "  total_port_value = pd.DataFrame(df_init.groupby([df_init.index])['Total_value_todate','close'].sum())\n",
      "C:\\Users\\CHIN\\AppData\\Local\\Temp/ipykernel_416/2026335479.py:25: DeprecationWarning: cafile, capath and cadefault are deprecated, use a custom context instead.\n",
      "  response = urlopen(url, cafile=certifi.where())\n"
     ]
    },
    {
     "name": "stdout",
     "output_type": "stream",
     "text": [
      "calculate period: 50\n",
      "CDAY\n"
     ]
    },
    {
     "name": "stderr",
     "output_type": "stream",
     "text": [
      "C:\\Users\\CHIN\\AppData\\Local\\Temp/ipykernel_416/1045654372.py:93: FutureWarning: Indexing with multiple keys (implicitly converted to a tuple of keys) will be deprecated, use a list instead.\n",
      "  total_port_value = pd.DataFrame(df_init.groupby([df_init.index])['Total_value_todate','close'].sum())\n",
      "C:\\Users\\CHIN\\AppData\\Local\\Temp/ipykernel_416/2026335479.py:25: DeprecationWarning: cafile, capath and cadefault are deprecated, use a custom context instead.\n",
      "  response = urlopen(url, cafile=certifi.where())\n"
     ]
    },
    {
     "name": "stdout",
     "output_type": "stream",
     "text": [
      "calculate period: 50\n",
      "CF\n"
     ]
    },
    {
     "name": "stderr",
     "output_type": "stream",
     "text": [
      "C:\\Users\\CHIN\\AppData\\Local\\Temp/ipykernel_416/1045654372.py:93: FutureWarning: Indexing with multiple keys (implicitly converted to a tuple of keys) will be deprecated, use a list instead.\n",
      "  total_port_value = pd.DataFrame(df_init.groupby([df_init.index])['Total_value_todate','close'].sum())\n",
      "C:\\Users\\CHIN\\AppData\\Local\\Temp/ipykernel_416/2026335479.py:25: DeprecationWarning: cafile, capath and cadefault are deprecated, use a custom context instead.\n",
      "  response = urlopen(url, cafile=certifi.where())\n"
     ]
    },
    {
     "name": "stdout",
     "output_type": "stream",
     "text": [
      "calculate period: 50\n",
      "CHRW\n"
     ]
    },
    {
     "name": "stderr",
     "output_type": "stream",
     "text": [
      "C:\\Users\\CHIN\\AppData\\Local\\Temp/ipykernel_416/1045654372.py:93: FutureWarning: Indexing with multiple keys (implicitly converted to a tuple of keys) will be deprecated, use a list instead.\n",
      "  total_port_value = pd.DataFrame(df_init.groupby([df_init.index])['Total_value_todate','close'].sum())\n",
      "C:\\Users\\CHIN\\AppData\\Local\\Temp/ipykernel_416/2026335479.py:25: DeprecationWarning: cafile, capath and cadefault are deprecated, use a custom context instead.\n",
      "  response = urlopen(url, cafile=certifi.where())\n"
     ]
    },
    {
     "name": "stdout",
     "output_type": "stream",
     "text": [
      "calculate period: 50\n",
      "CRL\n"
     ]
    },
    {
     "name": "stderr",
     "output_type": "stream",
     "text": [
      "C:\\Users\\CHIN\\AppData\\Local\\Temp/ipykernel_416/1045654372.py:93: FutureWarning: Indexing with multiple keys (implicitly converted to a tuple of keys) will be deprecated, use a list instead.\n",
      "  total_port_value = pd.DataFrame(df_init.groupby([df_init.index])['Total_value_todate','close'].sum())\n",
      "C:\\Users\\CHIN\\AppData\\Local\\Temp/ipykernel_416/2026335479.py:25: DeprecationWarning: cafile, capath and cadefault are deprecated, use a custom context instead.\n",
      "  response = urlopen(url, cafile=certifi.where())\n"
     ]
    },
    {
     "name": "stdout",
     "output_type": "stream",
     "text": [
      "calculate period: 50\n",
      "SCHW\n"
     ]
    },
    {
     "name": "stderr",
     "output_type": "stream",
     "text": [
      "C:\\Users\\CHIN\\AppData\\Local\\Temp/ipykernel_416/1045654372.py:93: FutureWarning: Indexing with multiple keys (implicitly converted to a tuple of keys) will be deprecated, use a list instead.\n",
      "  total_port_value = pd.DataFrame(df_init.groupby([df_init.index])['Total_value_todate','close'].sum())\n",
      "C:\\Users\\CHIN\\AppData\\Local\\Temp/ipykernel_416/2026335479.py:25: DeprecationWarning: cafile, capath and cadefault are deprecated, use a custom context instead.\n",
      "  response = urlopen(url, cafile=certifi.where())\n"
     ]
    },
    {
     "name": "stdout",
     "output_type": "stream",
     "text": [
      "calculate period: 50\n",
      "CHTR\n"
     ]
    },
    {
     "name": "stderr",
     "output_type": "stream",
     "text": [
      "C:\\Users\\CHIN\\AppData\\Local\\Temp/ipykernel_416/1045654372.py:93: FutureWarning: Indexing with multiple keys (implicitly converted to a tuple of keys) will be deprecated, use a list instead.\n",
      "  total_port_value = pd.DataFrame(df_init.groupby([df_init.index])['Total_value_todate','close'].sum())\n",
      "C:\\Users\\CHIN\\AppData\\Local\\Temp/ipykernel_416/2026335479.py:25: DeprecationWarning: cafile, capath and cadefault are deprecated, use a custom context instead.\n",
      "  response = urlopen(url, cafile=certifi.where())\n"
     ]
    },
    {
     "name": "stdout",
     "output_type": "stream",
     "text": [
      "calculate period: 50\n",
      "CVX\n"
     ]
    },
    {
     "name": "stderr",
     "output_type": "stream",
     "text": [
      "C:\\Users\\CHIN\\AppData\\Local\\Temp/ipykernel_416/1045654372.py:93: FutureWarning: Indexing with multiple keys (implicitly converted to a tuple of keys) will be deprecated, use a list instead.\n",
      "  total_port_value = pd.DataFrame(df_init.groupby([df_init.index])['Total_value_todate','close'].sum())\n",
      "C:\\Users\\CHIN\\AppData\\Local\\Temp/ipykernel_416/2026335479.py:25: DeprecationWarning: cafile, capath and cadefault are deprecated, use a custom context instead.\n",
      "  response = urlopen(url, cafile=certifi.where())\n"
     ]
    },
    {
     "name": "stdout",
     "output_type": "stream",
     "text": [
      "calculate period: 50\n",
      "CMG\n"
     ]
    },
    {
     "name": "stderr",
     "output_type": "stream",
     "text": [
      "C:\\Users\\CHIN\\AppData\\Local\\Temp/ipykernel_416/1045654372.py:93: FutureWarning: Indexing with multiple keys (implicitly converted to a tuple of keys) will be deprecated, use a list instead.\n",
      "  total_port_value = pd.DataFrame(df_init.groupby([df_init.index])['Total_value_todate','close'].sum())\n",
      "C:\\Users\\CHIN\\AppData\\Local\\Temp/ipykernel_416/2026335479.py:25: DeprecationWarning: cafile, capath and cadefault are deprecated, use a custom context instead.\n",
      "  response = urlopen(url, cafile=certifi.where())\n"
     ]
    },
    {
     "name": "stdout",
     "output_type": "stream",
     "text": [
      "calculate period: 50\n",
      "CB\n"
     ]
    },
    {
     "name": "stderr",
     "output_type": "stream",
     "text": [
      "C:\\Users\\CHIN\\AppData\\Local\\Temp/ipykernel_416/1045654372.py:93: FutureWarning: Indexing with multiple keys (implicitly converted to a tuple of keys) will be deprecated, use a list instead.\n",
      "  total_port_value = pd.DataFrame(df_init.groupby([df_init.index])['Total_value_todate','close'].sum())\n",
      "C:\\Users\\CHIN\\AppData\\Local\\Temp/ipykernel_416/2026335479.py:25: DeprecationWarning: cafile, capath and cadefault are deprecated, use a custom context instead.\n",
      "  response = urlopen(url, cafile=certifi.where())\n"
     ]
    },
    {
     "name": "stdout",
     "output_type": "stream",
     "text": [
      "calculate period: 50\n",
      "CHD\n"
     ]
    },
    {
     "name": "stderr",
     "output_type": "stream",
     "text": [
      "C:\\Users\\CHIN\\AppData\\Local\\Temp/ipykernel_416/1045654372.py:93: FutureWarning: Indexing with multiple keys (implicitly converted to a tuple of keys) will be deprecated, use a list instead.\n",
      "  total_port_value = pd.DataFrame(df_init.groupby([df_init.index])['Total_value_todate','close'].sum())\n",
      "C:\\Users\\CHIN\\AppData\\Local\\Temp/ipykernel_416/2026335479.py:25: DeprecationWarning: cafile, capath and cadefault are deprecated, use a custom context instead.\n",
      "  response = urlopen(url, cafile=certifi.where())\n"
     ]
    },
    {
     "name": "stdout",
     "output_type": "stream",
     "text": [
      "calculate period: 50\n",
      "CI\n"
     ]
    },
    {
     "name": "stderr",
     "output_type": "stream",
     "text": [
      "C:\\Users\\CHIN\\AppData\\Local\\Temp/ipykernel_416/1045654372.py:93: FutureWarning: Indexing with multiple keys (implicitly converted to a tuple of keys) will be deprecated, use a list instead.\n",
      "  total_port_value = pd.DataFrame(df_init.groupby([df_init.index])['Total_value_todate','close'].sum())\n",
      "C:\\Users\\CHIN\\AppData\\Local\\Temp/ipykernel_416/2026335479.py:25: DeprecationWarning: cafile, capath and cadefault are deprecated, use a custom context instead.\n",
      "  response = urlopen(url, cafile=certifi.where())\n"
     ]
    },
    {
     "name": "stdout",
     "output_type": "stream",
     "text": [
      "calculate period: 50\n",
      "CINF\n"
     ]
    },
    {
     "name": "stderr",
     "output_type": "stream",
     "text": [
      "C:\\Users\\CHIN\\AppData\\Local\\Temp/ipykernel_416/1045654372.py:93: FutureWarning: Indexing with multiple keys (implicitly converted to a tuple of keys) will be deprecated, use a list instead.\n",
      "  total_port_value = pd.DataFrame(df_init.groupby([df_init.index])['Total_value_todate','close'].sum())\n",
      "C:\\Users\\CHIN\\AppData\\Local\\Temp/ipykernel_416/2026335479.py:25: DeprecationWarning: cafile, capath and cadefault are deprecated, use a custom context instead.\n",
      "  response = urlopen(url, cafile=certifi.where())\n"
     ]
    },
    {
     "name": "stdout",
     "output_type": "stream",
     "text": [
      "calculate period: 50\n",
      "CTAS\n"
     ]
    },
    {
     "name": "stderr",
     "output_type": "stream",
     "text": [
      "C:\\Users\\CHIN\\AppData\\Local\\Temp/ipykernel_416/1045654372.py:93: FutureWarning: Indexing with multiple keys (implicitly converted to a tuple of keys) will be deprecated, use a list instead.\n",
      "  total_port_value = pd.DataFrame(df_init.groupby([df_init.index])['Total_value_todate','close'].sum())\n",
      "C:\\Users\\CHIN\\AppData\\Local\\Temp/ipykernel_416/2026335479.py:25: DeprecationWarning: cafile, capath and cadefault are deprecated, use a custom context instead.\n",
      "  response = urlopen(url, cafile=certifi.where())\n"
     ]
    },
    {
     "name": "stdout",
     "output_type": "stream",
     "text": [
      "calculate period: 50\n",
      "CSCO\n"
     ]
    },
    {
     "name": "stderr",
     "output_type": "stream",
     "text": [
      "C:\\Users\\CHIN\\AppData\\Local\\Temp/ipykernel_416/1045654372.py:93: FutureWarning: Indexing with multiple keys (implicitly converted to a tuple of keys) will be deprecated, use a list instead.\n",
      "  total_port_value = pd.DataFrame(df_init.groupby([df_init.index])['Total_value_todate','close'].sum())\n",
      "C:\\Users\\CHIN\\AppData\\Local\\Temp/ipykernel_416/2026335479.py:25: DeprecationWarning: cafile, capath and cadefault are deprecated, use a custom context instead.\n",
      "  response = urlopen(url, cafile=certifi.where())\n"
     ]
    },
    {
     "name": "stdout",
     "output_type": "stream",
     "text": [
      "calculate period: 50\n",
      "C\n"
     ]
    },
    {
     "name": "stderr",
     "output_type": "stream",
     "text": [
      "C:\\Users\\CHIN\\AppData\\Local\\Temp/ipykernel_416/1045654372.py:93: FutureWarning: Indexing with multiple keys (implicitly converted to a tuple of keys) will be deprecated, use a list instead.\n",
      "  total_port_value = pd.DataFrame(df_init.groupby([df_init.index])['Total_value_todate','close'].sum())\n",
      "C:\\Users\\CHIN\\AppData\\Local\\Temp/ipykernel_416/2026335479.py:25: DeprecationWarning: cafile, capath and cadefault are deprecated, use a custom context instead.\n",
      "  response = urlopen(url, cafile=certifi.where())\n"
     ]
    },
    {
     "name": "stdout",
     "output_type": "stream",
     "text": [
      "calculate period: 50\n",
      "CFG\n"
     ]
    },
    {
     "name": "stderr",
     "output_type": "stream",
     "text": [
      "C:\\Users\\CHIN\\AppData\\Local\\Temp/ipykernel_416/1045654372.py:93: FutureWarning: Indexing with multiple keys (implicitly converted to a tuple of keys) will be deprecated, use a list instead.\n",
      "  total_port_value = pd.DataFrame(df_init.groupby([df_init.index])['Total_value_todate','close'].sum())\n",
      "C:\\Users\\CHIN\\AppData\\Local\\Temp/ipykernel_416/2026335479.py:25: DeprecationWarning: cafile, capath and cadefault are deprecated, use a custom context instead.\n",
      "  response = urlopen(url, cafile=certifi.where())\n"
     ]
    },
    {
     "name": "stdout",
     "output_type": "stream",
     "text": [
      "calculate period: 50\n",
      "CLX\n"
     ]
    },
    {
     "name": "stderr",
     "output_type": "stream",
     "text": [
      "C:\\Users\\CHIN\\AppData\\Local\\Temp/ipykernel_416/1045654372.py:93: FutureWarning: Indexing with multiple keys (implicitly converted to a tuple of keys) will be deprecated, use a list instead.\n",
      "  total_port_value = pd.DataFrame(df_init.groupby([df_init.index])['Total_value_todate','close'].sum())\n",
      "C:\\Users\\CHIN\\AppData\\Local\\Temp/ipykernel_416/2026335479.py:25: DeprecationWarning: cafile, capath and cadefault are deprecated, use a custom context instead.\n",
      "  response = urlopen(url, cafile=certifi.where())\n"
     ]
    },
    {
     "name": "stdout",
     "output_type": "stream",
     "text": [
      "calculate period: 50\n",
      "CME\n"
     ]
    },
    {
     "name": "stderr",
     "output_type": "stream",
     "text": [
      "C:\\Users\\CHIN\\AppData\\Local\\Temp/ipykernel_416/1045654372.py:93: FutureWarning: Indexing with multiple keys (implicitly converted to a tuple of keys) will be deprecated, use a list instead.\n",
      "  total_port_value = pd.DataFrame(df_init.groupby([df_init.index])['Total_value_todate','close'].sum())\n",
      "C:\\Users\\CHIN\\AppData\\Local\\Temp/ipykernel_416/2026335479.py:25: DeprecationWarning: cafile, capath and cadefault are deprecated, use a custom context instead.\n",
      "  response = urlopen(url, cafile=certifi.where())\n"
     ]
    },
    {
     "name": "stdout",
     "output_type": "stream",
     "text": [
      "calculate period: 50\n",
      "CMS\n"
     ]
    },
    {
     "name": "stderr",
     "output_type": "stream",
     "text": [
      "C:\\Users\\CHIN\\AppData\\Local\\Temp/ipykernel_416/1045654372.py:93: FutureWarning: Indexing with multiple keys (implicitly converted to a tuple of keys) will be deprecated, use a list instead.\n",
      "  total_port_value = pd.DataFrame(df_init.groupby([df_init.index])['Total_value_todate','close'].sum())\n",
      "C:\\Users\\CHIN\\AppData\\Local\\Temp/ipykernel_416/2026335479.py:25: DeprecationWarning: cafile, capath and cadefault are deprecated, use a custom context instead.\n",
      "  response = urlopen(url, cafile=certifi.where())\n"
     ]
    },
    {
     "name": "stdout",
     "output_type": "stream",
     "text": [
      "calculate period: 50\n",
      "KO\n"
     ]
    },
    {
     "name": "stderr",
     "output_type": "stream",
     "text": [
      "C:\\Users\\CHIN\\AppData\\Local\\Temp/ipykernel_416/1045654372.py:93: FutureWarning: Indexing with multiple keys (implicitly converted to a tuple of keys) will be deprecated, use a list instead.\n",
      "  total_port_value = pd.DataFrame(df_init.groupby([df_init.index])['Total_value_todate','close'].sum())\n",
      "C:\\Users\\CHIN\\AppData\\Local\\Temp/ipykernel_416/2026335479.py:25: DeprecationWarning: cafile, capath and cadefault are deprecated, use a custom context instead.\n",
      "  response = urlopen(url, cafile=certifi.where())\n"
     ]
    },
    {
     "name": "stdout",
     "output_type": "stream",
     "text": [
      "calculate period: 50\n",
      "CTSH\n"
     ]
    },
    {
     "name": "stderr",
     "output_type": "stream",
     "text": [
      "C:\\Users\\CHIN\\AppData\\Local\\Temp/ipykernel_416/1045654372.py:93: FutureWarning: Indexing with multiple keys (implicitly converted to a tuple of keys) will be deprecated, use a list instead.\n",
      "  total_port_value = pd.DataFrame(df_init.groupby([df_init.index])['Total_value_todate','close'].sum())\n",
      "C:\\Users\\CHIN\\AppData\\Local\\Temp/ipykernel_416/2026335479.py:25: DeprecationWarning: cafile, capath and cadefault are deprecated, use a custom context instead.\n",
      "  response = urlopen(url, cafile=certifi.where())\n"
     ]
    },
    {
     "name": "stdout",
     "output_type": "stream",
     "text": [
      "calculate period: 50\n",
      "CL\n"
     ]
    },
    {
     "name": "stderr",
     "output_type": "stream",
     "text": [
      "C:\\Users\\CHIN\\AppData\\Local\\Temp/ipykernel_416/1045654372.py:93: FutureWarning: Indexing with multiple keys (implicitly converted to a tuple of keys) will be deprecated, use a list instead.\n",
      "  total_port_value = pd.DataFrame(df_init.groupby([df_init.index])['Total_value_todate','close'].sum())\n",
      "C:\\Users\\CHIN\\AppData\\Local\\Temp/ipykernel_416/2026335479.py:25: DeprecationWarning: cafile, capath and cadefault are deprecated, use a custom context instead.\n",
      "  response = urlopen(url, cafile=certifi.where())\n"
     ]
    },
    {
     "name": "stdout",
     "output_type": "stream",
     "text": [
      "calculate period: 50\n",
      "CMCSA\n"
     ]
    },
    {
     "name": "stderr",
     "output_type": "stream",
     "text": [
      "C:\\Users\\CHIN\\AppData\\Local\\Temp/ipykernel_416/1045654372.py:93: FutureWarning: Indexing with multiple keys (implicitly converted to a tuple of keys) will be deprecated, use a list instead.\n",
      "  total_port_value = pd.DataFrame(df_init.groupby([df_init.index])['Total_value_todate','close'].sum())\n",
      "C:\\Users\\CHIN\\AppData\\Local\\Temp/ipykernel_416/2026335479.py:25: DeprecationWarning: cafile, capath and cadefault are deprecated, use a custom context instead.\n",
      "  response = urlopen(url, cafile=certifi.where())\n"
     ]
    },
    {
     "name": "stdout",
     "output_type": "stream",
     "text": [
      "calculate period: 50\n",
      "CMA\n"
     ]
    },
    {
     "name": "stderr",
     "output_type": "stream",
     "text": [
      "C:\\Users\\CHIN\\AppData\\Local\\Temp/ipykernel_416/1045654372.py:93: FutureWarning: Indexing with multiple keys (implicitly converted to a tuple of keys) will be deprecated, use a list instead.\n",
      "  total_port_value = pd.DataFrame(df_init.groupby([df_init.index])['Total_value_todate','close'].sum())\n",
      "C:\\Users\\CHIN\\AppData\\Local\\Temp/ipykernel_416/2026335479.py:25: DeprecationWarning: cafile, capath and cadefault are deprecated, use a custom context instead.\n",
      "  response = urlopen(url, cafile=certifi.where())\n"
     ]
    },
    {
     "name": "stdout",
     "output_type": "stream",
     "text": [
      "calculate period: 50\n",
      "CAG\n"
     ]
    },
    {
     "name": "stderr",
     "output_type": "stream",
     "text": [
      "C:\\Users\\CHIN\\AppData\\Local\\Temp/ipykernel_416/1045654372.py:93: FutureWarning: Indexing with multiple keys (implicitly converted to a tuple of keys) will be deprecated, use a list instead.\n",
      "  total_port_value = pd.DataFrame(df_init.groupby([df_init.index])['Total_value_todate','close'].sum())\n",
      "C:\\Users\\CHIN\\AppData\\Local\\Temp/ipykernel_416/2026335479.py:25: DeprecationWarning: cafile, capath and cadefault are deprecated, use a custom context instead.\n",
      "  response = urlopen(url, cafile=certifi.where())\n"
     ]
    },
    {
     "name": "stdout",
     "output_type": "stream",
     "text": [
      "calculate period: 50\n",
      "COP\n"
     ]
    },
    {
     "name": "stderr",
     "output_type": "stream",
     "text": [
      "C:\\Users\\CHIN\\AppData\\Local\\Temp/ipykernel_416/1045654372.py:93: FutureWarning: Indexing with multiple keys (implicitly converted to a tuple of keys) will be deprecated, use a list instead.\n",
      "  total_port_value = pd.DataFrame(df_init.groupby([df_init.index])['Total_value_todate','close'].sum())\n",
      "C:\\Users\\CHIN\\AppData\\Local\\Temp/ipykernel_416/2026335479.py:25: DeprecationWarning: cafile, capath and cadefault are deprecated, use a custom context instead.\n",
      "  response = urlopen(url, cafile=certifi.where())\n"
     ]
    },
    {
     "name": "stdout",
     "output_type": "stream",
     "text": [
      "calculate period: 50\n",
      "ED\n"
     ]
    },
    {
     "name": "stderr",
     "output_type": "stream",
     "text": [
      "C:\\Users\\CHIN\\AppData\\Local\\Temp/ipykernel_416/1045654372.py:93: FutureWarning: Indexing with multiple keys (implicitly converted to a tuple of keys) will be deprecated, use a list instead.\n",
      "  total_port_value = pd.DataFrame(df_init.groupby([df_init.index])['Total_value_todate','close'].sum())\n",
      "C:\\Users\\CHIN\\AppData\\Local\\Temp/ipykernel_416/2026335479.py:25: DeprecationWarning: cafile, capath and cadefault are deprecated, use a custom context instead.\n",
      "  response = urlopen(url, cafile=certifi.where())\n"
     ]
    },
    {
     "name": "stdout",
     "output_type": "stream",
     "text": [
      "calculate period: 50\n",
      "STZ\n"
     ]
    },
    {
     "name": "stderr",
     "output_type": "stream",
     "text": [
      "C:\\Users\\CHIN\\AppData\\Local\\Temp/ipykernel_416/1045654372.py:93: FutureWarning: Indexing with multiple keys (implicitly converted to a tuple of keys) will be deprecated, use a list instead.\n",
      "  total_port_value = pd.DataFrame(df_init.groupby([df_init.index])['Total_value_todate','close'].sum())\n",
      "C:\\Users\\CHIN\\AppData\\Local\\Temp/ipykernel_416/2026335479.py:25: DeprecationWarning: cafile, capath and cadefault are deprecated, use a custom context instead.\n",
      "  response = urlopen(url, cafile=certifi.where())\n"
     ]
    },
    {
     "name": "stdout",
     "output_type": "stream",
     "text": [
      "calculate period: 50\n",
      "CEG\n"
     ]
    },
    {
     "name": "stderr",
     "output_type": "stream",
     "text": [
      "C:\\Users\\CHIN\\AppData\\Local\\Temp/ipykernel_416/1045654372.py:93: FutureWarning: Indexing with multiple keys (implicitly converted to a tuple of keys) will be deprecated, use a list instead.\n",
      "  total_port_value = pd.DataFrame(df_init.groupby([df_init.index])['Total_value_todate','close'].sum())\n",
      "C:\\Users\\CHIN\\AppData\\Local\\Temp/ipykernel_416/2026335479.py:25: DeprecationWarning: cafile, capath and cadefault are deprecated, use a custom context instead.\n",
      "  response = urlopen(url, cafile=certifi.where())\n"
     ]
    },
    {
     "name": "stdout",
     "output_type": "stream",
     "text": [
      "calculate period: 50\n",
      "COO\n"
     ]
    },
    {
     "name": "stderr",
     "output_type": "stream",
     "text": [
      "C:\\Users\\CHIN\\AppData\\Local\\Temp/ipykernel_416/1045654372.py:93: FutureWarning: Indexing with multiple keys (implicitly converted to a tuple of keys) will be deprecated, use a list instead.\n",
      "  total_port_value = pd.DataFrame(df_init.groupby([df_init.index])['Total_value_todate','close'].sum())\n",
      "C:\\Users\\CHIN\\AppData\\Local\\Temp/ipykernel_416/2026335479.py:25: DeprecationWarning: cafile, capath and cadefault are deprecated, use a custom context instead.\n",
      "  response = urlopen(url, cafile=certifi.where())\n"
     ]
    },
    {
     "name": "stdout",
     "output_type": "stream",
     "text": [
      "calculate period: 50\n",
      "CPRT\n"
     ]
    },
    {
     "name": "stderr",
     "output_type": "stream",
     "text": [
      "C:\\Users\\CHIN\\AppData\\Local\\Temp/ipykernel_416/1045654372.py:93: FutureWarning: Indexing with multiple keys (implicitly converted to a tuple of keys) will be deprecated, use a list instead.\n",
      "  total_port_value = pd.DataFrame(df_init.groupby([df_init.index])['Total_value_todate','close'].sum())\n",
      "C:\\Users\\CHIN\\AppData\\Local\\Temp/ipykernel_416/2026335479.py:25: DeprecationWarning: cafile, capath and cadefault are deprecated, use a custom context instead.\n",
      "  response = urlopen(url, cafile=certifi.where())\n"
     ]
    },
    {
     "name": "stdout",
     "output_type": "stream",
     "text": [
      "calculate period: 50\n",
      "GLW\n"
     ]
    },
    {
     "name": "stderr",
     "output_type": "stream",
     "text": [
      "C:\\Users\\CHIN\\AppData\\Local\\Temp/ipykernel_416/1045654372.py:93: FutureWarning: Indexing with multiple keys (implicitly converted to a tuple of keys) will be deprecated, use a list instead.\n",
      "  total_port_value = pd.DataFrame(df_init.groupby([df_init.index])['Total_value_todate','close'].sum())\n",
      "C:\\Users\\CHIN\\AppData\\Local\\Temp/ipykernel_416/2026335479.py:25: DeprecationWarning: cafile, capath and cadefault are deprecated, use a custom context instead.\n",
      "  response = urlopen(url, cafile=certifi.where())\n"
     ]
    },
    {
     "name": "stdout",
     "output_type": "stream",
     "text": [
      "calculate period: 50\n",
      "CTVA\n"
     ]
    },
    {
     "name": "stderr",
     "output_type": "stream",
     "text": [
      "C:\\Users\\CHIN\\AppData\\Local\\Temp/ipykernel_416/1045654372.py:93: FutureWarning: Indexing with multiple keys (implicitly converted to a tuple of keys) will be deprecated, use a list instead.\n",
      "  total_port_value = pd.DataFrame(df_init.groupby([df_init.index])['Total_value_todate','close'].sum())\n",
      "C:\\Users\\CHIN\\AppData\\Local\\Temp/ipykernel_416/2026335479.py:25: DeprecationWarning: cafile, capath and cadefault are deprecated, use a custom context instead.\n",
      "  response = urlopen(url, cafile=certifi.where())\n"
     ]
    },
    {
     "name": "stdout",
     "output_type": "stream",
     "text": [
      "calculate period: 50\n",
      "CSGP\n"
     ]
    },
    {
     "name": "stderr",
     "output_type": "stream",
     "text": [
      "C:\\Users\\CHIN\\AppData\\Local\\Temp/ipykernel_416/1045654372.py:93: FutureWarning: Indexing with multiple keys (implicitly converted to a tuple of keys) will be deprecated, use a list instead.\n",
      "  total_port_value = pd.DataFrame(df_init.groupby([df_init.index])['Total_value_todate','close'].sum())\n",
      "C:\\Users\\CHIN\\AppData\\Local\\Temp/ipykernel_416/2026335479.py:25: DeprecationWarning: cafile, capath and cadefault are deprecated, use a custom context instead.\n",
      "  response = urlopen(url, cafile=certifi.where())\n"
     ]
    },
    {
     "name": "stdout",
     "output_type": "stream",
     "text": [
      "calculate period: 50\n",
      "COST\n"
     ]
    },
    {
     "name": "stderr",
     "output_type": "stream",
     "text": [
      "C:\\Users\\CHIN\\AppData\\Local\\Temp/ipykernel_416/1045654372.py:93: FutureWarning: Indexing with multiple keys (implicitly converted to a tuple of keys) will be deprecated, use a list instead.\n",
      "  total_port_value = pd.DataFrame(df_init.groupby([df_init.index])['Total_value_todate','close'].sum())\n",
      "C:\\Users\\CHIN\\AppData\\Local\\Temp/ipykernel_416/2026335479.py:25: DeprecationWarning: cafile, capath and cadefault are deprecated, use a custom context instead.\n",
      "  response = urlopen(url, cafile=certifi.where())\n"
     ]
    },
    {
     "name": "stdout",
     "output_type": "stream",
     "text": [
      "calculate period: 50\n",
      "CTRA\n"
     ]
    },
    {
     "name": "stderr",
     "output_type": "stream",
     "text": [
      "C:\\Users\\CHIN\\AppData\\Local\\Temp/ipykernel_416/1045654372.py:93: FutureWarning: Indexing with multiple keys (implicitly converted to a tuple of keys) will be deprecated, use a list instead.\n",
      "  total_port_value = pd.DataFrame(df_init.groupby([df_init.index])['Total_value_todate','close'].sum())\n",
      "C:\\Users\\CHIN\\AppData\\Local\\Temp/ipykernel_416/2026335479.py:25: DeprecationWarning: cafile, capath and cadefault are deprecated, use a custom context instead.\n",
      "  response = urlopen(url, cafile=certifi.where())\n"
     ]
    },
    {
     "name": "stdout",
     "output_type": "stream",
     "text": [
      "calculate period: 50\n",
      "CCI\n"
     ]
    },
    {
     "name": "stderr",
     "output_type": "stream",
     "text": [
      "C:\\Users\\CHIN\\AppData\\Local\\Temp/ipykernel_416/1045654372.py:93: FutureWarning: Indexing with multiple keys (implicitly converted to a tuple of keys) will be deprecated, use a list instead.\n",
      "  total_port_value = pd.DataFrame(df_init.groupby([df_init.index])['Total_value_todate','close'].sum())\n",
      "C:\\Users\\CHIN\\AppData\\Local\\Temp/ipykernel_416/2026335479.py:25: DeprecationWarning: cafile, capath and cadefault are deprecated, use a custom context instead.\n",
      "  response = urlopen(url, cafile=certifi.where())\n"
     ]
    },
    {
     "name": "stdout",
     "output_type": "stream",
     "text": [
      "calculate period: 50\n",
      "CSX\n"
     ]
    },
    {
     "name": "stderr",
     "output_type": "stream",
     "text": [
      "C:\\Users\\CHIN\\AppData\\Local\\Temp/ipykernel_416/1045654372.py:93: FutureWarning: Indexing with multiple keys (implicitly converted to a tuple of keys) will be deprecated, use a list instead.\n",
      "  total_port_value = pd.DataFrame(df_init.groupby([df_init.index])['Total_value_todate','close'].sum())\n",
      "C:\\Users\\CHIN\\AppData\\Local\\Temp/ipykernel_416/2026335479.py:25: DeprecationWarning: cafile, capath and cadefault are deprecated, use a custom context instead.\n",
      "  response = urlopen(url, cafile=certifi.where())\n"
     ]
    },
    {
     "name": "stdout",
     "output_type": "stream",
     "text": [
      "calculate period: 50\n",
      "CMI\n"
     ]
    },
    {
     "name": "stderr",
     "output_type": "stream",
     "text": [
      "C:\\Users\\CHIN\\AppData\\Local\\Temp/ipykernel_416/1045654372.py:93: FutureWarning: Indexing with multiple keys (implicitly converted to a tuple of keys) will be deprecated, use a list instead.\n",
      "  total_port_value = pd.DataFrame(df_init.groupby([df_init.index])['Total_value_todate','close'].sum())\n",
      "C:\\Users\\CHIN\\AppData\\Local\\Temp/ipykernel_416/2026335479.py:25: DeprecationWarning: cafile, capath and cadefault are deprecated, use a custom context instead.\n",
      "  response = urlopen(url, cafile=certifi.where())\n"
     ]
    },
    {
     "name": "stdout",
     "output_type": "stream",
     "text": [
      "calculate period: 50\n",
      "CVS\n"
     ]
    },
    {
     "name": "stderr",
     "output_type": "stream",
     "text": [
      "C:\\Users\\CHIN\\AppData\\Local\\Temp/ipykernel_416/1045654372.py:93: FutureWarning: Indexing with multiple keys (implicitly converted to a tuple of keys) will be deprecated, use a list instead.\n",
      "  total_port_value = pd.DataFrame(df_init.groupby([df_init.index])['Total_value_todate','close'].sum())\n",
      "C:\\Users\\CHIN\\AppData\\Local\\Temp/ipykernel_416/2026335479.py:25: DeprecationWarning: cafile, capath and cadefault are deprecated, use a custom context instead.\n",
      "  response = urlopen(url, cafile=certifi.where())\n"
     ]
    },
    {
     "name": "stdout",
     "output_type": "stream",
     "text": [
      "calculate period: 50\n",
      "DHR\n"
     ]
    },
    {
     "name": "stderr",
     "output_type": "stream",
     "text": [
      "C:\\Users\\CHIN\\AppData\\Local\\Temp/ipykernel_416/1045654372.py:93: FutureWarning: Indexing with multiple keys (implicitly converted to a tuple of keys) will be deprecated, use a list instead.\n",
      "  total_port_value = pd.DataFrame(df_init.groupby([df_init.index])['Total_value_todate','close'].sum())\n",
      "C:\\Users\\CHIN\\AppData\\Local\\Temp/ipykernel_416/2026335479.py:25: DeprecationWarning: cafile, capath and cadefault are deprecated, use a custom context instead.\n",
      "  response = urlopen(url, cafile=certifi.where())\n"
     ]
    },
    {
     "name": "stdout",
     "output_type": "stream",
     "text": [
      "calculate period: 50\n",
      "DRI\n"
     ]
    },
    {
     "name": "stderr",
     "output_type": "stream",
     "text": [
      "C:\\Users\\CHIN\\AppData\\Local\\Temp/ipykernel_416/1045654372.py:93: FutureWarning: Indexing with multiple keys (implicitly converted to a tuple of keys) will be deprecated, use a list instead.\n",
      "  total_port_value = pd.DataFrame(df_init.groupby([df_init.index])['Total_value_todate','close'].sum())\n",
      "C:\\Users\\CHIN\\AppData\\Local\\Temp/ipykernel_416/2026335479.py:25: DeprecationWarning: cafile, capath and cadefault are deprecated, use a custom context instead.\n",
      "  response = urlopen(url, cafile=certifi.where())\n"
     ]
    },
    {
     "name": "stdout",
     "output_type": "stream",
     "text": [
      "calculate period: 50\n",
      "DVA\n"
     ]
    },
    {
     "name": "stderr",
     "output_type": "stream",
     "text": [
      "C:\\Users\\CHIN\\AppData\\Local\\Temp/ipykernel_416/1045654372.py:93: FutureWarning: Indexing with multiple keys (implicitly converted to a tuple of keys) will be deprecated, use a list instead.\n",
      "  total_port_value = pd.DataFrame(df_init.groupby([df_init.index])['Total_value_todate','close'].sum())\n",
      "C:\\Users\\CHIN\\AppData\\Local\\Temp/ipykernel_416/2026335479.py:25: DeprecationWarning: cafile, capath and cadefault are deprecated, use a custom context instead.\n",
      "  response = urlopen(url, cafile=certifi.where())\n"
     ]
    },
    {
     "name": "stdout",
     "output_type": "stream",
     "text": [
      "calculate period: 50\n",
      "DE\n"
     ]
    },
    {
     "name": "stderr",
     "output_type": "stream",
     "text": [
      "C:\\Users\\CHIN\\AppData\\Local\\Temp/ipykernel_416/1045654372.py:93: FutureWarning: Indexing with multiple keys (implicitly converted to a tuple of keys) will be deprecated, use a list instead.\n",
      "  total_port_value = pd.DataFrame(df_init.groupby([df_init.index])['Total_value_todate','close'].sum())\n",
      "C:\\Users\\CHIN\\AppData\\Local\\Temp/ipykernel_416/2026335479.py:25: DeprecationWarning: cafile, capath and cadefault are deprecated, use a custom context instead.\n",
      "  response = urlopen(url, cafile=certifi.where())\n"
     ]
    },
    {
     "name": "stdout",
     "output_type": "stream",
     "text": [
      "calculate period: 50\n",
      "DAL\n"
     ]
    },
    {
     "name": "stderr",
     "output_type": "stream",
     "text": [
      "C:\\Users\\CHIN\\AppData\\Local\\Temp/ipykernel_416/1045654372.py:93: FutureWarning: Indexing with multiple keys (implicitly converted to a tuple of keys) will be deprecated, use a list instead.\n",
      "  total_port_value = pd.DataFrame(df_init.groupby([df_init.index])['Total_value_todate','close'].sum())\n",
      "C:\\Users\\CHIN\\AppData\\Local\\Temp/ipykernel_416/2026335479.py:25: DeprecationWarning: cafile, capath and cadefault are deprecated, use a custom context instead.\n",
      "  response = urlopen(url, cafile=certifi.where())\n"
     ]
    },
    {
     "name": "stdout",
     "output_type": "stream",
     "text": [
      "calculate period: 50\n",
      "XRAY\n"
     ]
    },
    {
     "name": "stderr",
     "output_type": "stream",
     "text": [
      "C:\\Users\\CHIN\\AppData\\Local\\Temp/ipykernel_416/1045654372.py:93: FutureWarning: Indexing with multiple keys (implicitly converted to a tuple of keys) will be deprecated, use a list instead.\n",
      "  total_port_value = pd.DataFrame(df_init.groupby([df_init.index])['Total_value_todate','close'].sum())\n",
      "C:\\Users\\CHIN\\AppData\\Local\\Temp/ipykernel_416/2026335479.py:25: DeprecationWarning: cafile, capath and cadefault are deprecated, use a custom context instead.\n",
      "  response = urlopen(url, cafile=certifi.where())\n"
     ]
    },
    {
     "name": "stdout",
     "output_type": "stream",
     "text": [
      "calculate period: 50\n",
      "DVN\n"
     ]
    },
    {
     "name": "stderr",
     "output_type": "stream",
     "text": [
      "C:\\Users\\CHIN\\AppData\\Local\\Temp/ipykernel_416/1045654372.py:93: FutureWarning: Indexing with multiple keys (implicitly converted to a tuple of keys) will be deprecated, use a list instead.\n",
      "  total_port_value = pd.DataFrame(df_init.groupby([df_init.index])['Total_value_todate','close'].sum())\n",
      "C:\\Users\\CHIN\\AppData\\Local\\Temp/ipykernel_416/2026335479.py:25: DeprecationWarning: cafile, capath and cadefault are deprecated, use a custom context instead.\n",
      "  response = urlopen(url, cafile=certifi.where())\n"
     ]
    },
    {
     "name": "stdout",
     "output_type": "stream",
     "text": [
      "calculate period: 50\n",
      "DXCM\n"
     ]
    },
    {
     "name": "stderr",
     "output_type": "stream",
     "text": [
      "C:\\Users\\CHIN\\AppData\\Local\\Temp/ipykernel_416/1045654372.py:93: FutureWarning: Indexing with multiple keys (implicitly converted to a tuple of keys) will be deprecated, use a list instead.\n",
      "  total_port_value = pd.DataFrame(df_init.groupby([df_init.index])['Total_value_todate','close'].sum())\n",
      "C:\\Users\\CHIN\\AppData\\Local\\Temp/ipykernel_416/2026335479.py:25: DeprecationWarning: cafile, capath and cadefault are deprecated, use a custom context instead.\n",
      "  response = urlopen(url, cafile=certifi.where())\n"
     ]
    },
    {
     "name": "stdout",
     "output_type": "stream",
     "text": [
      "calculate period: 50\n",
      "FANG\n"
     ]
    },
    {
     "name": "stderr",
     "output_type": "stream",
     "text": [
      "C:\\Users\\CHIN\\AppData\\Local\\Temp/ipykernel_416/1045654372.py:93: FutureWarning: Indexing with multiple keys (implicitly converted to a tuple of keys) will be deprecated, use a list instead.\n",
      "  total_port_value = pd.DataFrame(df_init.groupby([df_init.index])['Total_value_todate','close'].sum())\n",
      "C:\\Users\\CHIN\\AppData\\Local\\Temp/ipykernel_416/2026335479.py:25: DeprecationWarning: cafile, capath and cadefault are deprecated, use a custom context instead.\n",
      "  response = urlopen(url, cafile=certifi.where())\n"
     ]
    },
    {
     "name": "stdout",
     "output_type": "stream",
     "text": [
      "calculate period: 50\n",
      "DLR\n"
     ]
    },
    {
     "name": "stderr",
     "output_type": "stream",
     "text": [
      "C:\\Users\\CHIN\\AppData\\Local\\Temp/ipykernel_416/1045654372.py:93: FutureWarning: Indexing with multiple keys (implicitly converted to a tuple of keys) will be deprecated, use a list instead.\n",
      "  total_port_value = pd.DataFrame(df_init.groupby([df_init.index])['Total_value_todate','close'].sum())\n",
      "C:\\Users\\CHIN\\AppData\\Local\\Temp/ipykernel_416/2026335479.py:25: DeprecationWarning: cafile, capath and cadefault are deprecated, use a custom context instead.\n",
      "  response = urlopen(url, cafile=certifi.where())\n"
     ]
    },
    {
     "name": "stdout",
     "output_type": "stream",
     "text": [
      "calculate period: 50\n",
      "DFS\n"
     ]
    },
    {
     "name": "stderr",
     "output_type": "stream",
     "text": [
      "C:\\Users\\CHIN\\AppData\\Local\\Temp/ipykernel_416/1045654372.py:93: FutureWarning: Indexing with multiple keys (implicitly converted to a tuple of keys) will be deprecated, use a list instead.\n",
      "  total_port_value = pd.DataFrame(df_init.groupby([df_init.index])['Total_value_todate','close'].sum())\n",
      "C:\\Users\\CHIN\\AppData\\Local\\Temp/ipykernel_416/2026335479.py:25: DeprecationWarning: cafile, capath and cadefault are deprecated, use a custom context instead.\n",
      "  response = urlopen(url, cafile=certifi.where())\n"
     ]
    },
    {
     "name": "stdout",
     "output_type": "stream",
     "text": [
      "calculate period: 50\n",
      "DG\n"
     ]
    },
    {
     "name": "stderr",
     "output_type": "stream",
     "text": [
      "C:\\Users\\CHIN\\AppData\\Local\\Temp/ipykernel_416/1045654372.py:93: FutureWarning: Indexing with multiple keys (implicitly converted to a tuple of keys) will be deprecated, use a list instead.\n",
      "  total_port_value = pd.DataFrame(df_init.groupby([df_init.index])['Total_value_todate','close'].sum())\n",
      "C:\\Users\\CHIN\\AppData\\Local\\Temp/ipykernel_416/2026335479.py:25: DeprecationWarning: cafile, capath and cadefault are deprecated, use a custom context instead.\n",
      "  response = urlopen(url, cafile=certifi.where())\n"
     ]
    },
    {
     "name": "stdout",
     "output_type": "stream",
     "text": [
      "calculate period: 50\n",
      "DLTR\n"
     ]
    },
    {
     "name": "stderr",
     "output_type": "stream",
     "text": [
      "C:\\Users\\CHIN\\AppData\\Local\\Temp/ipykernel_416/1045654372.py:93: FutureWarning: Indexing with multiple keys (implicitly converted to a tuple of keys) will be deprecated, use a list instead.\n",
      "  total_port_value = pd.DataFrame(df_init.groupby([df_init.index])['Total_value_todate','close'].sum())\n",
      "C:\\Users\\CHIN\\AppData\\Local\\Temp/ipykernel_416/2026335479.py:25: DeprecationWarning: cafile, capath and cadefault are deprecated, use a custom context instead.\n",
      "  response = urlopen(url, cafile=certifi.where())\n"
     ]
    },
    {
     "name": "stdout",
     "output_type": "stream",
     "text": [
      "calculate period: 50\n",
      "D\n"
     ]
    },
    {
     "name": "stderr",
     "output_type": "stream",
     "text": [
      "C:\\Users\\CHIN\\AppData\\Local\\Temp/ipykernel_416/1045654372.py:93: FutureWarning: Indexing with multiple keys (implicitly converted to a tuple of keys) will be deprecated, use a list instead.\n",
      "  total_port_value = pd.DataFrame(df_init.groupby([df_init.index])['Total_value_todate','close'].sum())\n",
      "C:\\Users\\CHIN\\AppData\\Local\\Temp/ipykernel_416/2026335479.py:25: DeprecationWarning: cafile, capath and cadefault are deprecated, use a custom context instead.\n",
      "  response = urlopen(url, cafile=certifi.where())\n"
     ]
    },
    {
     "name": "stdout",
     "output_type": "stream",
     "text": [
      "calculate period: 50\n",
      "DPZ\n"
     ]
    },
    {
     "name": "stderr",
     "output_type": "stream",
     "text": [
      "C:\\Users\\CHIN\\AppData\\Local\\Temp/ipykernel_416/1045654372.py:93: FutureWarning: Indexing with multiple keys (implicitly converted to a tuple of keys) will be deprecated, use a list instead.\n",
      "  total_port_value = pd.DataFrame(df_init.groupby([df_init.index])['Total_value_todate','close'].sum())\n",
      "C:\\Users\\CHIN\\AppData\\Local\\Temp/ipykernel_416/2026335479.py:25: DeprecationWarning: cafile, capath and cadefault are deprecated, use a custom context instead.\n",
      "  response = urlopen(url, cafile=certifi.where())\n"
     ]
    },
    {
     "name": "stdout",
     "output_type": "stream",
     "text": [
      "calculate period: 50\n",
      "DOV\n"
     ]
    },
    {
     "name": "stderr",
     "output_type": "stream",
     "text": [
      "C:\\Users\\CHIN\\AppData\\Local\\Temp/ipykernel_416/1045654372.py:93: FutureWarning: Indexing with multiple keys (implicitly converted to a tuple of keys) will be deprecated, use a list instead.\n",
      "  total_port_value = pd.DataFrame(df_init.groupby([df_init.index])['Total_value_todate','close'].sum())\n",
      "C:\\Users\\CHIN\\AppData\\Local\\Temp/ipykernel_416/2026335479.py:25: DeprecationWarning: cafile, capath and cadefault are deprecated, use a custom context instead.\n",
      "  response = urlopen(url, cafile=certifi.where())\n"
     ]
    },
    {
     "name": "stdout",
     "output_type": "stream",
     "text": [
      "calculate period: 50\n",
      "DOW\n"
     ]
    },
    {
     "name": "stderr",
     "output_type": "stream",
     "text": [
      "C:\\Users\\CHIN\\AppData\\Local\\Temp/ipykernel_416/1045654372.py:93: FutureWarning: Indexing with multiple keys (implicitly converted to a tuple of keys) will be deprecated, use a list instead.\n",
      "  total_port_value = pd.DataFrame(df_init.groupby([df_init.index])['Total_value_todate','close'].sum())\n",
      "C:\\Users\\CHIN\\AppData\\Local\\Temp/ipykernel_416/2026335479.py:25: DeprecationWarning: cafile, capath and cadefault are deprecated, use a custom context instead.\n",
      "  response = urlopen(url, cafile=certifi.where())\n"
     ]
    },
    {
     "name": "stdout",
     "output_type": "stream",
     "text": [
      "calculate period: 50\n",
      "DHI\n"
     ]
    },
    {
     "name": "stderr",
     "output_type": "stream",
     "text": [
      "C:\\Users\\CHIN\\AppData\\Local\\Temp/ipykernel_416/1045654372.py:93: FutureWarning: Indexing with multiple keys (implicitly converted to a tuple of keys) will be deprecated, use a list instead.\n",
      "  total_port_value = pd.DataFrame(df_init.groupby([df_init.index])['Total_value_todate','close'].sum())\n",
      "C:\\Users\\CHIN\\AppData\\Local\\Temp/ipykernel_416/2026335479.py:25: DeprecationWarning: cafile, capath and cadefault are deprecated, use a custom context instead.\n",
      "  response = urlopen(url, cafile=certifi.where())\n"
     ]
    },
    {
     "name": "stdout",
     "output_type": "stream",
     "text": [
      "calculate period: 50\n",
      "DTE\n"
     ]
    },
    {
     "name": "stderr",
     "output_type": "stream",
     "text": [
      "C:\\Users\\CHIN\\AppData\\Local\\Temp/ipykernel_416/1045654372.py:93: FutureWarning: Indexing with multiple keys (implicitly converted to a tuple of keys) will be deprecated, use a list instead.\n",
      "  total_port_value = pd.DataFrame(df_init.groupby([df_init.index])['Total_value_todate','close'].sum())\n",
      "C:\\Users\\CHIN\\AppData\\Local\\Temp/ipykernel_416/2026335479.py:25: DeprecationWarning: cafile, capath and cadefault are deprecated, use a custom context instead.\n",
      "  response = urlopen(url, cafile=certifi.where())\n"
     ]
    },
    {
     "name": "stdout",
     "output_type": "stream",
     "text": [
      "calculate period: 50\n",
      "DUK\n"
     ]
    },
    {
     "name": "stderr",
     "output_type": "stream",
     "text": [
      "C:\\Users\\CHIN\\AppData\\Local\\Temp/ipykernel_416/1045654372.py:93: FutureWarning: Indexing with multiple keys (implicitly converted to a tuple of keys) will be deprecated, use a list instead.\n",
      "  total_port_value = pd.DataFrame(df_init.groupby([df_init.index])['Total_value_todate','close'].sum())\n",
      "C:\\Users\\CHIN\\AppData\\Local\\Temp/ipykernel_416/2026335479.py:25: DeprecationWarning: cafile, capath and cadefault are deprecated, use a custom context instead.\n",
      "  response = urlopen(url, cafile=certifi.where())\n"
     ]
    },
    {
     "name": "stdout",
     "output_type": "stream",
     "text": [
      "calculate period: 50\n",
      "DD\n"
     ]
    },
    {
     "name": "stderr",
     "output_type": "stream",
     "text": [
      "C:\\Users\\CHIN\\AppData\\Local\\Temp/ipykernel_416/1045654372.py:93: FutureWarning: Indexing with multiple keys (implicitly converted to a tuple of keys) will be deprecated, use a list instead.\n",
      "  total_port_value = pd.DataFrame(df_init.groupby([df_init.index])['Total_value_todate','close'].sum())\n",
      "C:\\Users\\CHIN\\AppData\\Local\\Temp/ipykernel_416/2026335479.py:25: DeprecationWarning: cafile, capath and cadefault are deprecated, use a custom context instead.\n",
      "  response = urlopen(url, cafile=certifi.where())\n"
     ]
    },
    {
     "name": "stdout",
     "output_type": "stream",
     "text": [
      "calculate period: 50\n",
      "EMN\n"
     ]
    },
    {
     "name": "stderr",
     "output_type": "stream",
     "text": [
      "C:\\Users\\CHIN\\AppData\\Local\\Temp/ipykernel_416/1045654372.py:93: FutureWarning: Indexing with multiple keys (implicitly converted to a tuple of keys) will be deprecated, use a list instead.\n",
      "  total_port_value = pd.DataFrame(df_init.groupby([df_init.index])['Total_value_todate','close'].sum())\n",
      "C:\\Users\\CHIN\\AppData\\Local\\Temp/ipykernel_416/2026335479.py:25: DeprecationWarning: cafile, capath and cadefault are deprecated, use a custom context instead.\n",
      "  response = urlopen(url, cafile=certifi.where())\n"
     ]
    },
    {
     "name": "stdout",
     "output_type": "stream",
     "text": [
      "calculate period: 50\n",
      "ETN\n"
     ]
    },
    {
     "name": "stderr",
     "output_type": "stream",
     "text": [
      "C:\\Users\\CHIN\\AppData\\Local\\Temp/ipykernel_416/1045654372.py:93: FutureWarning: Indexing with multiple keys (implicitly converted to a tuple of keys) will be deprecated, use a list instead.\n",
      "  total_port_value = pd.DataFrame(df_init.groupby([df_init.index])['Total_value_todate','close'].sum())\n",
      "C:\\Users\\CHIN\\AppData\\Local\\Temp/ipykernel_416/2026335479.py:25: DeprecationWarning: cafile, capath and cadefault are deprecated, use a custom context instead.\n",
      "  response = urlopen(url, cafile=certifi.where())\n"
     ]
    },
    {
     "name": "stdout",
     "output_type": "stream",
     "text": [
      "calculate period: 50\n",
      "EBAY\n"
     ]
    },
    {
     "name": "stderr",
     "output_type": "stream",
     "text": [
      "C:\\Users\\CHIN\\AppData\\Local\\Temp/ipykernel_416/1045654372.py:93: FutureWarning: Indexing with multiple keys (implicitly converted to a tuple of keys) will be deprecated, use a list instead.\n",
      "  total_port_value = pd.DataFrame(df_init.groupby([df_init.index])['Total_value_todate','close'].sum())\n",
      "C:\\Users\\CHIN\\AppData\\Local\\Temp/ipykernel_416/2026335479.py:25: DeprecationWarning: cafile, capath and cadefault are deprecated, use a custom context instead.\n",
      "  response = urlopen(url, cafile=certifi.where())\n"
     ]
    },
    {
     "name": "stdout",
     "output_type": "stream",
     "text": [
      "calculate period: 50\n",
      "ECL\n"
     ]
    },
    {
     "name": "stderr",
     "output_type": "stream",
     "text": [
      "C:\\Users\\CHIN\\AppData\\Local\\Temp/ipykernel_416/1045654372.py:93: FutureWarning: Indexing with multiple keys (implicitly converted to a tuple of keys) will be deprecated, use a list instead.\n",
      "  total_port_value = pd.DataFrame(df_init.groupby([df_init.index])['Total_value_todate','close'].sum())\n",
      "C:\\Users\\CHIN\\AppData\\Local\\Temp/ipykernel_416/2026335479.py:25: DeprecationWarning: cafile, capath and cadefault are deprecated, use a custom context instead.\n",
      "  response = urlopen(url, cafile=certifi.where())\n"
     ]
    },
    {
     "name": "stdout",
     "output_type": "stream",
     "text": [
      "calculate period: 50\n",
      "EIX\n"
     ]
    },
    {
     "name": "stderr",
     "output_type": "stream",
     "text": [
      "C:\\Users\\CHIN\\AppData\\Local\\Temp/ipykernel_416/1045654372.py:93: FutureWarning: Indexing with multiple keys (implicitly converted to a tuple of keys) will be deprecated, use a list instead.\n",
      "  total_port_value = pd.DataFrame(df_init.groupby([df_init.index])['Total_value_todate','close'].sum())\n",
      "C:\\Users\\CHIN\\AppData\\Local\\Temp/ipykernel_416/2026335479.py:25: DeprecationWarning: cafile, capath and cadefault are deprecated, use a custom context instead.\n",
      "  response = urlopen(url, cafile=certifi.where())\n"
     ]
    },
    {
     "name": "stdout",
     "output_type": "stream",
     "text": [
      "calculate period: 50\n",
      "EW\n"
     ]
    },
    {
     "name": "stderr",
     "output_type": "stream",
     "text": [
      "C:\\Users\\CHIN\\AppData\\Local\\Temp/ipykernel_416/1045654372.py:93: FutureWarning: Indexing with multiple keys (implicitly converted to a tuple of keys) will be deprecated, use a list instead.\n",
      "  total_port_value = pd.DataFrame(df_init.groupby([df_init.index])['Total_value_todate','close'].sum())\n",
      "C:\\Users\\CHIN\\AppData\\Local\\Temp/ipykernel_416/2026335479.py:25: DeprecationWarning: cafile, capath and cadefault are deprecated, use a custom context instead.\n",
      "  response = urlopen(url, cafile=certifi.where())\n"
     ]
    },
    {
     "name": "stdout",
     "output_type": "stream",
     "text": [
      "calculate period: 50\n",
      "EA\n"
     ]
    },
    {
     "name": "stderr",
     "output_type": "stream",
     "text": [
      "C:\\Users\\CHIN\\AppData\\Local\\Temp/ipykernel_416/1045654372.py:93: FutureWarning: Indexing with multiple keys (implicitly converted to a tuple of keys) will be deprecated, use a list instead.\n",
      "  total_port_value = pd.DataFrame(df_init.groupby([df_init.index])['Total_value_todate','close'].sum())\n",
      "C:\\Users\\CHIN\\AppData\\Local\\Temp/ipykernel_416/2026335479.py:25: DeprecationWarning: cafile, capath and cadefault are deprecated, use a custom context instead.\n",
      "  response = urlopen(url, cafile=certifi.where())\n"
     ]
    },
    {
     "name": "stdout",
     "output_type": "stream",
     "text": [
      "calculate period: 50\n",
      "ELV\n"
     ]
    },
    {
     "name": "stderr",
     "output_type": "stream",
     "text": [
      "C:\\Users\\CHIN\\AppData\\Local\\Temp/ipykernel_416/1045654372.py:93: FutureWarning: Indexing with multiple keys (implicitly converted to a tuple of keys) will be deprecated, use a list instead.\n",
      "  total_port_value = pd.DataFrame(df_init.groupby([df_init.index])['Total_value_todate','close'].sum())\n",
      "C:\\Users\\CHIN\\AppData\\Local\\Temp/ipykernel_416/2026335479.py:25: DeprecationWarning: cafile, capath and cadefault are deprecated, use a custom context instead.\n",
      "  response = urlopen(url, cafile=certifi.where())\n"
     ]
    },
    {
     "name": "stdout",
     "output_type": "stream",
     "text": [
      "calculate period: 50\n",
      "LLY\n"
     ]
    },
    {
     "name": "stderr",
     "output_type": "stream",
     "text": [
      "C:\\Users\\CHIN\\AppData\\Local\\Temp/ipykernel_416/1045654372.py:93: FutureWarning: Indexing with multiple keys (implicitly converted to a tuple of keys) will be deprecated, use a list instead.\n",
      "  total_port_value = pd.DataFrame(df_init.groupby([df_init.index])['Total_value_todate','close'].sum())\n",
      "C:\\Users\\CHIN\\AppData\\Local\\Temp/ipykernel_416/2026335479.py:25: DeprecationWarning: cafile, capath and cadefault are deprecated, use a custom context instead.\n",
      "  response = urlopen(url, cafile=certifi.where())\n"
     ]
    },
    {
     "name": "stdout",
     "output_type": "stream",
     "text": [
      "calculate period: 50\n",
      "EMR\n"
     ]
    },
    {
     "name": "stderr",
     "output_type": "stream",
     "text": [
      "C:\\Users\\CHIN\\AppData\\Local\\Temp/ipykernel_416/1045654372.py:93: FutureWarning: Indexing with multiple keys (implicitly converted to a tuple of keys) will be deprecated, use a list instead.\n",
      "  total_port_value = pd.DataFrame(df_init.groupby([df_init.index])['Total_value_todate','close'].sum())\n",
      "C:\\Users\\CHIN\\AppData\\Local\\Temp/ipykernel_416/2026335479.py:25: DeprecationWarning: cafile, capath and cadefault are deprecated, use a custom context instead.\n",
      "  response = urlopen(url, cafile=certifi.where())\n"
     ]
    },
    {
     "name": "stdout",
     "output_type": "stream",
     "text": [
      "calculate period: 50\n",
      "ENPH\n"
     ]
    },
    {
     "name": "stderr",
     "output_type": "stream",
     "text": [
      "C:\\Users\\CHIN\\AppData\\Local\\Temp/ipykernel_416/1045654372.py:93: FutureWarning: Indexing with multiple keys (implicitly converted to a tuple of keys) will be deprecated, use a list instead.\n",
      "  total_port_value = pd.DataFrame(df_init.groupby([df_init.index])['Total_value_todate','close'].sum())\n",
      "C:\\Users\\CHIN\\AppData\\Local\\Temp/ipykernel_416/2026335479.py:25: DeprecationWarning: cafile, capath and cadefault are deprecated, use a custom context instead.\n",
      "  response = urlopen(url, cafile=certifi.where())\n"
     ]
    },
    {
     "name": "stdout",
     "output_type": "stream",
     "text": [
      "calculate period: 50\n",
      "ETR\n"
     ]
    },
    {
     "name": "stderr",
     "output_type": "stream",
     "text": [
      "C:\\Users\\CHIN\\AppData\\Local\\Temp/ipykernel_416/1045654372.py:93: FutureWarning: Indexing with multiple keys (implicitly converted to a tuple of keys) will be deprecated, use a list instead.\n",
      "  total_port_value = pd.DataFrame(df_init.groupby([df_init.index])['Total_value_todate','close'].sum())\n",
      "C:\\Users\\CHIN\\AppData\\Local\\Temp/ipykernel_416/2026335479.py:25: DeprecationWarning: cafile, capath and cadefault are deprecated, use a custom context instead.\n",
      "  response = urlopen(url, cafile=certifi.where())\n"
     ]
    },
    {
     "name": "stdout",
     "output_type": "stream",
     "text": [
      "calculate period: 50\n",
      "EOG\n"
     ]
    },
    {
     "name": "stderr",
     "output_type": "stream",
     "text": [
      "C:\\Users\\CHIN\\AppData\\Local\\Temp/ipykernel_416/1045654372.py:93: FutureWarning: Indexing with multiple keys (implicitly converted to a tuple of keys) will be deprecated, use a list instead.\n",
      "  total_port_value = pd.DataFrame(df_init.groupby([df_init.index])['Total_value_todate','close'].sum())\n",
      "C:\\Users\\CHIN\\AppData\\Local\\Temp/ipykernel_416/2026335479.py:25: DeprecationWarning: cafile, capath and cadefault are deprecated, use a custom context instead.\n",
      "  response = urlopen(url, cafile=certifi.where())\n"
     ]
    },
    {
     "name": "stdout",
     "output_type": "stream",
     "text": [
      "calculate period: 50\n",
      "EPAM\n"
     ]
    },
    {
     "name": "stderr",
     "output_type": "stream",
     "text": [
      "C:\\Users\\CHIN\\AppData\\Local\\Temp/ipykernel_416/1045654372.py:93: FutureWarning: Indexing with multiple keys (implicitly converted to a tuple of keys) will be deprecated, use a list instead.\n",
      "  total_port_value = pd.DataFrame(df_init.groupby([df_init.index])['Total_value_todate','close'].sum())\n",
      "C:\\Users\\CHIN\\AppData\\Local\\Temp/ipykernel_416/2026335479.py:25: DeprecationWarning: cafile, capath and cadefault are deprecated, use a custom context instead.\n",
      "  response = urlopen(url, cafile=certifi.where())\n"
     ]
    },
    {
     "name": "stdout",
     "output_type": "stream",
     "text": [
      "calculate period: 50\n",
      "EQT\n"
     ]
    },
    {
     "name": "stderr",
     "output_type": "stream",
     "text": [
      "C:\\Users\\CHIN\\AppData\\Local\\Temp/ipykernel_416/1045654372.py:93: FutureWarning: Indexing with multiple keys (implicitly converted to a tuple of keys) will be deprecated, use a list instead.\n",
      "  total_port_value = pd.DataFrame(df_init.groupby([df_init.index])['Total_value_todate','close'].sum())\n",
      "C:\\Users\\CHIN\\AppData\\Local\\Temp/ipykernel_416/2026335479.py:25: DeprecationWarning: cafile, capath and cadefault are deprecated, use a custom context instead.\n",
      "  response = urlopen(url, cafile=certifi.where())\n"
     ]
    },
    {
     "name": "stdout",
     "output_type": "stream",
     "text": [
      "calculate period: 50\n",
      "EFX\n"
     ]
    },
    {
     "name": "stderr",
     "output_type": "stream",
     "text": [
      "C:\\Users\\CHIN\\AppData\\Local\\Temp/ipykernel_416/1045654372.py:93: FutureWarning: Indexing with multiple keys (implicitly converted to a tuple of keys) will be deprecated, use a list instead.\n",
      "  total_port_value = pd.DataFrame(df_init.groupby([df_init.index])['Total_value_todate','close'].sum())\n",
      "C:\\Users\\CHIN\\AppData\\Local\\Temp/ipykernel_416/2026335479.py:25: DeprecationWarning: cafile, capath and cadefault are deprecated, use a custom context instead.\n",
      "  response = urlopen(url, cafile=certifi.where())\n"
     ]
    },
    {
     "name": "stdout",
     "output_type": "stream",
     "text": [
      "calculate period: 50\n",
      "EQIX\n"
     ]
    },
    {
     "name": "stderr",
     "output_type": "stream",
     "text": [
      "C:\\Users\\CHIN\\AppData\\Local\\Temp/ipykernel_416/1045654372.py:93: FutureWarning: Indexing with multiple keys (implicitly converted to a tuple of keys) will be deprecated, use a list instead.\n",
      "  total_port_value = pd.DataFrame(df_init.groupby([df_init.index])['Total_value_todate','close'].sum())\n",
      "C:\\Users\\CHIN\\AppData\\Local\\Temp/ipykernel_416/2026335479.py:25: DeprecationWarning: cafile, capath and cadefault are deprecated, use a custom context instead.\n",
      "  response = urlopen(url, cafile=certifi.where())\n"
     ]
    },
    {
     "name": "stdout",
     "output_type": "stream",
     "text": [
      "calculate period: 50\n",
      "EQR\n"
     ]
    },
    {
     "name": "stderr",
     "output_type": "stream",
     "text": [
      "C:\\Users\\CHIN\\AppData\\Local\\Temp/ipykernel_416/1045654372.py:93: FutureWarning: Indexing with multiple keys (implicitly converted to a tuple of keys) will be deprecated, use a list instead.\n",
      "  total_port_value = pd.DataFrame(df_init.groupby([df_init.index])['Total_value_todate','close'].sum())\n",
      "C:\\Users\\CHIN\\AppData\\Local\\Temp/ipykernel_416/2026335479.py:25: DeprecationWarning: cafile, capath and cadefault are deprecated, use a custom context instead.\n",
      "  response = urlopen(url, cafile=certifi.where())\n"
     ]
    },
    {
     "name": "stdout",
     "output_type": "stream",
     "text": [
      "calculate period: 50\n",
      "ESS\n"
     ]
    },
    {
     "name": "stderr",
     "output_type": "stream",
     "text": [
      "C:\\Users\\CHIN\\AppData\\Local\\Temp/ipykernel_416/1045654372.py:93: FutureWarning: Indexing with multiple keys (implicitly converted to a tuple of keys) will be deprecated, use a list instead.\n",
      "  total_port_value = pd.DataFrame(df_init.groupby([df_init.index])['Total_value_todate','close'].sum())\n",
      "C:\\Users\\CHIN\\AppData\\Local\\Temp/ipykernel_416/2026335479.py:25: DeprecationWarning: cafile, capath and cadefault are deprecated, use a custom context instead.\n",
      "  response = urlopen(url, cafile=certifi.where())\n"
     ]
    },
    {
     "name": "stdout",
     "output_type": "stream",
     "text": [
      "calculate period: 50\n",
      "EL\n"
     ]
    },
    {
     "name": "stderr",
     "output_type": "stream",
     "text": [
      "C:\\Users\\CHIN\\AppData\\Local\\Temp/ipykernel_416/1045654372.py:93: FutureWarning: Indexing with multiple keys (implicitly converted to a tuple of keys) will be deprecated, use a list instead.\n",
      "  total_port_value = pd.DataFrame(df_init.groupby([df_init.index])['Total_value_todate','close'].sum())\n",
      "C:\\Users\\CHIN\\AppData\\Local\\Temp/ipykernel_416/2026335479.py:25: DeprecationWarning: cafile, capath and cadefault are deprecated, use a custom context instead.\n",
      "  response = urlopen(url, cafile=certifi.where())\n"
     ]
    },
    {
     "name": "stdout",
     "output_type": "stream",
     "text": [
      "calculate period: 50\n",
      "ETSY\n"
     ]
    },
    {
     "name": "stderr",
     "output_type": "stream",
     "text": [
      "C:\\Users\\CHIN\\AppData\\Local\\Temp/ipykernel_416/1045654372.py:93: FutureWarning: Indexing with multiple keys (implicitly converted to a tuple of keys) will be deprecated, use a list instead.\n",
      "  total_port_value = pd.DataFrame(df_init.groupby([df_init.index])['Total_value_todate','close'].sum())\n",
      "C:\\Users\\CHIN\\AppData\\Local\\Temp/ipykernel_416/2026335479.py:25: DeprecationWarning: cafile, capath and cadefault are deprecated, use a custom context instead.\n",
      "  response = urlopen(url, cafile=certifi.where())\n"
     ]
    },
    {
     "name": "stdout",
     "output_type": "stream",
     "text": [
      "calculate period: 50\n",
      "EG\n"
     ]
    },
    {
     "name": "stderr",
     "output_type": "stream",
     "text": [
      "C:\\Users\\CHIN\\AppData\\Local\\Temp/ipykernel_416/1045654372.py:93: FutureWarning: Indexing with multiple keys (implicitly converted to a tuple of keys) will be deprecated, use a list instead.\n",
      "  total_port_value = pd.DataFrame(df_init.groupby([df_init.index])['Total_value_todate','close'].sum())\n",
      "C:\\Users\\CHIN\\AppData\\Local\\Temp/ipykernel_416/2026335479.py:25: DeprecationWarning: cafile, capath and cadefault are deprecated, use a custom context instead.\n",
      "  response = urlopen(url, cafile=certifi.where())\n"
     ]
    },
    {
     "name": "stdout",
     "output_type": "stream",
     "text": [
      "calculate period: 50\n",
      "EVRG\n"
     ]
    },
    {
     "name": "stderr",
     "output_type": "stream",
     "text": [
      "C:\\Users\\CHIN\\AppData\\Local\\Temp/ipykernel_416/1045654372.py:93: FutureWarning: Indexing with multiple keys (implicitly converted to a tuple of keys) will be deprecated, use a list instead.\n",
      "  total_port_value = pd.DataFrame(df_init.groupby([df_init.index])['Total_value_todate','close'].sum())\n",
      "C:\\Users\\CHIN\\AppData\\Local\\Temp/ipykernel_416/2026335479.py:25: DeprecationWarning: cafile, capath and cadefault are deprecated, use a custom context instead.\n",
      "  response = urlopen(url, cafile=certifi.where())\n"
     ]
    },
    {
     "name": "stdout",
     "output_type": "stream",
     "text": [
      "calculate period: 50\n",
      "ES\n"
     ]
    },
    {
     "name": "stderr",
     "output_type": "stream",
     "text": [
      "C:\\Users\\CHIN\\AppData\\Local\\Temp/ipykernel_416/1045654372.py:93: FutureWarning: Indexing with multiple keys (implicitly converted to a tuple of keys) will be deprecated, use a list instead.\n",
      "  total_port_value = pd.DataFrame(df_init.groupby([df_init.index])['Total_value_todate','close'].sum())\n",
      "C:\\Users\\CHIN\\AppData\\Local\\Temp/ipykernel_416/2026335479.py:25: DeprecationWarning: cafile, capath and cadefault are deprecated, use a custom context instead.\n",
      "  response = urlopen(url, cafile=certifi.where())\n"
     ]
    },
    {
     "name": "stdout",
     "output_type": "stream",
     "text": [
      "calculate period: 50\n",
      "EXC\n"
     ]
    },
    {
     "name": "stderr",
     "output_type": "stream",
     "text": [
      "C:\\Users\\CHIN\\AppData\\Local\\Temp/ipykernel_416/1045654372.py:93: FutureWarning: Indexing with multiple keys (implicitly converted to a tuple of keys) will be deprecated, use a list instead.\n",
      "  total_port_value = pd.DataFrame(df_init.groupby([df_init.index])['Total_value_todate','close'].sum())\n",
      "C:\\Users\\CHIN\\AppData\\Local\\Temp/ipykernel_416/2026335479.py:25: DeprecationWarning: cafile, capath and cadefault are deprecated, use a custom context instead.\n",
      "  response = urlopen(url, cafile=certifi.where())\n"
     ]
    },
    {
     "name": "stdout",
     "output_type": "stream",
     "text": [
      "calculate period: 50\n",
      "EXPE\n"
     ]
    },
    {
     "name": "stderr",
     "output_type": "stream",
     "text": [
      "C:\\Users\\CHIN\\AppData\\Local\\Temp/ipykernel_416/1045654372.py:93: FutureWarning: Indexing with multiple keys (implicitly converted to a tuple of keys) will be deprecated, use a list instead.\n",
      "  total_port_value = pd.DataFrame(df_init.groupby([df_init.index])['Total_value_todate','close'].sum())\n",
      "C:\\Users\\CHIN\\AppData\\Local\\Temp/ipykernel_416/2026335479.py:25: DeprecationWarning: cafile, capath and cadefault are deprecated, use a custom context instead.\n",
      "  response = urlopen(url, cafile=certifi.where())\n"
     ]
    },
    {
     "name": "stdout",
     "output_type": "stream",
     "text": [
      "calculate period: 50\n",
      "EXPD\n"
     ]
    },
    {
     "name": "stderr",
     "output_type": "stream",
     "text": [
      "C:\\Users\\CHIN\\AppData\\Local\\Temp/ipykernel_416/1045654372.py:93: FutureWarning: Indexing with multiple keys (implicitly converted to a tuple of keys) will be deprecated, use a list instead.\n",
      "  total_port_value = pd.DataFrame(df_init.groupby([df_init.index])['Total_value_todate','close'].sum())\n",
      "C:\\Users\\CHIN\\AppData\\Local\\Temp/ipykernel_416/2026335479.py:25: DeprecationWarning: cafile, capath and cadefault are deprecated, use a custom context instead.\n",
      "  response = urlopen(url, cafile=certifi.where())\n"
     ]
    },
    {
     "name": "stdout",
     "output_type": "stream",
     "text": [
      "calculate period: 50\n",
      "EXR\n"
     ]
    },
    {
     "name": "stderr",
     "output_type": "stream",
     "text": [
      "C:\\Users\\CHIN\\AppData\\Local\\Temp/ipykernel_416/1045654372.py:93: FutureWarning: Indexing with multiple keys (implicitly converted to a tuple of keys) will be deprecated, use a list instead.\n",
      "  total_port_value = pd.DataFrame(df_init.groupby([df_init.index])['Total_value_todate','close'].sum())\n",
      "C:\\Users\\CHIN\\AppData\\Local\\Temp/ipykernel_416/2026335479.py:25: DeprecationWarning: cafile, capath and cadefault are deprecated, use a custom context instead.\n",
      "  response = urlopen(url, cafile=certifi.where())\n"
     ]
    },
    {
     "name": "stdout",
     "output_type": "stream",
     "text": [
      "calculate period: 50\n",
      "XOM\n"
     ]
    },
    {
     "name": "stderr",
     "output_type": "stream",
     "text": [
      "C:\\Users\\CHIN\\AppData\\Local\\Temp/ipykernel_416/1045654372.py:93: FutureWarning: Indexing with multiple keys (implicitly converted to a tuple of keys) will be deprecated, use a list instead.\n",
      "  total_port_value = pd.DataFrame(df_init.groupby([df_init.index])['Total_value_todate','close'].sum())\n",
      "C:\\Users\\CHIN\\AppData\\Local\\Temp/ipykernel_416/2026335479.py:25: DeprecationWarning: cafile, capath and cadefault are deprecated, use a custom context instead.\n",
      "  response = urlopen(url, cafile=certifi.where())\n"
     ]
    },
    {
     "name": "stdout",
     "output_type": "stream",
     "text": [
      "calculate period: 50\n",
      "FFIV\n"
     ]
    },
    {
     "name": "stderr",
     "output_type": "stream",
     "text": [
      "C:\\Users\\CHIN\\AppData\\Local\\Temp/ipykernel_416/1045654372.py:93: FutureWarning: Indexing with multiple keys (implicitly converted to a tuple of keys) will be deprecated, use a list instead.\n",
      "  total_port_value = pd.DataFrame(df_init.groupby([df_init.index])['Total_value_todate','close'].sum())\n",
      "C:\\Users\\CHIN\\AppData\\Local\\Temp/ipykernel_416/2026335479.py:25: DeprecationWarning: cafile, capath and cadefault are deprecated, use a custom context instead.\n",
      "  response = urlopen(url, cafile=certifi.where())\n"
     ]
    },
    {
     "name": "stdout",
     "output_type": "stream",
     "text": [
      "calculate period: 50\n",
      "FDS\n"
     ]
    },
    {
     "name": "stderr",
     "output_type": "stream",
     "text": [
      "C:\\Users\\CHIN\\AppData\\Local\\Temp/ipykernel_416/1045654372.py:93: FutureWarning: Indexing with multiple keys (implicitly converted to a tuple of keys) will be deprecated, use a list instead.\n",
      "  total_port_value = pd.DataFrame(df_init.groupby([df_init.index])['Total_value_todate','close'].sum())\n",
      "C:\\Users\\CHIN\\AppData\\Local\\Temp/ipykernel_416/2026335479.py:25: DeprecationWarning: cafile, capath and cadefault are deprecated, use a custom context instead.\n",
      "  response = urlopen(url, cafile=certifi.where())\n"
     ]
    },
    {
     "name": "stdout",
     "output_type": "stream",
     "text": [
      "calculate period: 50\n",
      "FICO\n"
     ]
    },
    {
     "name": "stderr",
     "output_type": "stream",
     "text": [
      "C:\\Users\\CHIN\\AppData\\Local\\Temp/ipykernel_416/1045654372.py:93: FutureWarning: Indexing with multiple keys (implicitly converted to a tuple of keys) will be deprecated, use a list instead.\n",
      "  total_port_value = pd.DataFrame(df_init.groupby([df_init.index])['Total_value_todate','close'].sum())\n",
      "C:\\Users\\CHIN\\AppData\\Local\\Temp/ipykernel_416/2026335479.py:25: DeprecationWarning: cafile, capath and cadefault are deprecated, use a custom context instead.\n",
      "  response = urlopen(url, cafile=certifi.where())\n"
     ]
    },
    {
     "name": "stdout",
     "output_type": "stream",
     "text": [
      "calculate period: 50\n",
      "FAST\n"
     ]
    },
    {
     "name": "stderr",
     "output_type": "stream",
     "text": [
      "C:\\Users\\CHIN\\AppData\\Local\\Temp/ipykernel_416/1045654372.py:93: FutureWarning: Indexing with multiple keys (implicitly converted to a tuple of keys) will be deprecated, use a list instead.\n",
      "  total_port_value = pd.DataFrame(df_init.groupby([df_init.index])['Total_value_todate','close'].sum())\n",
      "C:\\Users\\CHIN\\AppData\\Local\\Temp/ipykernel_416/2026335479.py:25: DeprecationWarning: cafile, capath and cadefault are deprecated, use a custom context instead.\n",
      "  response = urlopen(url, cafile=certifi.where())\n"
     ]
    },
    {
     "name": "stdout",
     "output_type": "stream",
     "text": [
      "calculate period: 50\n",
      "FRT\n"
     ]
    },
    {
     "name": "stderr",
     "output_type": "stream",
     "text": [
      "C:\\Users\\CHIN\\AppData\\Local\\Temp/ipykernel_416/1045654372.py:93: FutureWarning: Indexing with multiple keys (implicitly converted to a tuple of keys) will be deprecated, use a list instead.\n",
      "  total_port_value = pd.DataFrame(df_init.groupby([df_init.index])['Total_value_todate','close'].sum())\n",
      "C:\\Users\\CHIN\\AppData\\Local\\Temp/ipykernel_416/2026335479.py:25: DeprecationWarning: cafile, capath and cadefault are deprecated, use a custom context instead.\n",
      "  response = urlopen(url, cafile=certifi.where())\n"
     ]
    },
    {
     "name": "stdout",
     "output_type": "stream",
     "text": [
      "calculate period: 50\n",
      "FDX\n"
     ]
    },
    {
     "name": "stderr",
     "output_type": "stream",
     "text": [
      "C:\\Users\\CHIN\\AppData\\Local\\Temp/ipykernel_416/1045654372.py:93: FutureWarning: Indexing with multiple keys (implicitly converted to a tuple of keys) will be deprecated, use a list instead.\n",
      "  total_port_value = pd.DataFrame(df_init.groupby([df_init.index])['Total_value_todate','close'].sum())\n",
      "C:\\Users\\CHIN\\AppData\\Local\\Temp/ipykernel_416/2026335479.py:25: DeprecationWarning: cafile, capath and cadefault are deprecated, use a custom context instead.\n",
      "  response = urlopen(url, cafile=certifi.where())\n"
     ]
    },
    {
     "name": "stdout",
     "output_type": "stream",
     "text": [
      "calculate period: 50\n",
      "FIS\n"
     ]
    },
    {
     "name": "stderr",
     "output_type": "stream",
     "text": [
      "C:\\Users\\CHIN\\AppData\\Local\\Temp/ipykernel_416/1045654372.py:93: FutureWarning: Indexing with multiple keys (implicitly converted to a tuple of keys) will be deprecated, use a list instead.\n",
      "  total_port_value = pd.DataFrame(df_init.groupby([df_init.index])['Total_value_todate','close'].sum())\n",
      "C:\\Users\\CHIN\\AppData\\Local\\Temp/ipykernel_416/2026335479.py:25: DeprecationWarning: cafile, capath and cadefault are deprecated, use a custom context instead.\n",
      "  response = urlopen(url, cafile=certifi.where())\n"
     ]
    },
    {
     "name": "stdout",
     "output_type": "stream",
     "text": [
      "calculate period: 50\n",
      "FITB\n"
     ]
    },
    {
     "name": "stderr",
     "output_type": "stream",
     "text": [
      "C:\\Users\\CHIN\\AppData\\Local\\Temp/ipykernel_416/1045654372.py:93: FutureWarning: Indexing with multiple keys (implicitly converted to a tuple of keys) will be deprecated, use a list instead.\n",
      "  total_port_value = pd.DataFrame(df_init.groupby([df_init.index])['Total_value_todate','close'].sum())\n",
      "C:\\Users\\CHIN\\AppData\\Local\\Temp/ipykernel_416/2026335479.py:25: DeprecationWarning: cafile, capath and cadefault are deprecated, use a custom context instead.\n",
      "  response = urlopen(url, cafile=certifi.where())\n"
     ]
    },
    {
     "name": "stdout",
     "output_type": "stream",
     "text": [
      "calculate period: 50\n",
      "FSLR\n"
     ]
    },
    {
     "name": "stderr",
     "output_type": "stream",
     "text": [
      "C:\\Users\\CHIN\\AppData\\Local\\Temp/ipykernel_416/1045654372.py:93: FutureWarning: Indexing with multiple keys (implicitly converted to a tuple of keys) will be deprecated, use a list instead.\n",
      "  total_port_value = pd.DataFrame(df_init.groupby([df_init.index])['Total_value_todate','close'].sum())\n",
      "C:\\Users\\CHIN\\AppData\\Local\\Temp/ipykernel_416/2026335479.py:25: DeprecationWarning: cafile, capath and cadefault are deprecated, use a custom context instead.\n",
      "  response = urlopen(url, cafile=certifi.where())\n"
     ]
    },
    {
     "name": "stdout",
     "output_type": "stream",
     "text": [
      "calculate period: 50\n",
      "FE\n"
     ]
    },
    {
     "name": "stderr",
     "output_type": "stream",
     "text": [
      "C:\\Users\\CHIN\\AppData\\Local\\Temp/ipykernel_416/1045654372.py:93: FutureWarning: Indexing with multiple keys (implicitly converted to a tuple of keys) will be deprecated, use a list instead.\n",
      "  total_port_value = pd.DataFrame(df_init.groupby([df_init.index])['Total_value_todate','close'].sum())\n",
      "C:\\Users\\CHIN\\AppData\\Local\\Temp/ipykernel_416/2026335479.py:25: DeprecationWarning: cafile, capath and cadefault are deprecated, use a custom context instead.\n",
      "  response = urlopen(url, cafile=certifi.where())\n"
     ]
    },
    {
     "name": "stdout",
     "output_type": "stream",
     "text": [
      "calculate period: 50\n",
      "FI\n"
     ]
    },
    {
     "name": "stderr",
     "output_type": "stream",
     "text": [
      "C:\\Users\\CHIN\\AppData\\Local\\Temp/ipykernel_416/1045654372.py:93: FutureWarning: Indexing with multiple keys (implicitly converted to a tuple of keys) will be deprecated, use a list instead.\n",
      "  total_port_value = pd.DataFrame(df_init.groupby([df_init.index])['Total_value_todate','close'].sum())\n",
      "C:\\Users\\CHIN\\AppData\\Local\\Temp/ipykernel_416/2026335479.py:25: DeprecationWarning: cafile, capath and cadefault are deprecated, use a custom context instead.\n",
      "  response = urlopen(url, cafile=certifi.where())\n"
     ]
    },
    {
     "name": "stdout",
     "output_type": "stream",
     "text": [
      "calculate period: 50\n",
      "FLT\n"
     ]
    },
    {
     "name": "stderr",
     "output_type": "stream",
     "text": [
      "C:\\Users\\CHIN\\AppData\\Local\\Temp/ipykernel_416/1045654372.py:93: FutureWarning: Indexing with multiple keys (implicitly converted to a tuple of keys) will be deprecated, use a list instead.\n",
      "  total_port_value = pd.DataFrame(df_init.groupby([df_init.index])['Total_value_todate','close'].sum())\n",
      "C:\\Users\\CHIN\\AppData\\Local\\Temp/ipykernel_416/2026335479.py:25: DeprecationWarning: cafile, capath and cadefault are deprecated, use a custom context instead.\n",
      "  response = urlopen(url, cafile=certifi.where())\n"
     ]
    },
    {
     "name": "stdout",
     "output_type": "stream",
     "text": [
      "calculate period: 50\n",
      "FMC\n"
     ]
    },
    {
     "name": "stderr",
     "output_type": "stream",
     "text": [
      "C:\\Users\\CHIN\\AppData\\Local\\Temp/ipykernel_416/1045654372.py:93: FutureWarning: Indexing with multiple keys (implicitly converted to a tuple of keys) will be deprecated, use a list instead.\n",
      "  total_port_value = pd.DataFrame(df_init.groupby([df_init.index])['Total_value_todate','close'].sum())\n",
      "C:\\Users\\CHIN\\AppData\\Local\\Temp/ipykernel_416/2026335479.py:25: DeprecationWarning: cafile, capath and cadefault are deprecated, use a custom context instead.\n",
      "  response = urlopen(url, cafile=certifi.where())\n"
     ]
    },
    {
     "name": "stdout",
     "output_type": "stream",
     "text": [
      "calculate period: 50\n",
      "F\n"
     ]
    },
    {
     "name": "stderr",
     "output_type": "stream",
     "text": [
      "C:\\Users\\CHIN\\AppData\\Local\\Temp/ipykernel_416/1045654372.py:93: FutureWarning: Indexing with multiple keys (implicitly converted to a tuple of keys) will be deprecated, use a list instead.\n",
      "  total_port_value = pd.DataFrame(df_init.groupby([df_init.index])['Total_value_todate','close'].sum())\n",
      "C:\\Users\\CHIN\\AppData\\Local\\Temp/ipykernel_416/2026335479.py:25: DeprecationWarning: cafile, capath and cadefault are deprecated, use a custom context instead.\n",
      "  response = urlopen(url, cafile=certifi.where())\n"
     ]
    },
    {
     "name": "stdout",
     "output_type": "stream",
     "text": [
      "calculate period: 50\n",
      "FTNT\n"
     ]
    },
    {
     "name": "stderr",
     "output_type": "stream",
     "text": [
      "C:\\Users\\CHIN\\AppData\\Local\\Temp/ipykernel_416/1045654372.py:93: FutureWarning: Indexing with multiple keys (implicitly converted to a tuple of keys) will be deprecated, use a list instead.\n",
      "  total_port_value = pd.DataFrame(df_init.groupby([df_init.index])['Total_value_todate','close'].sum())\n",
      "C:\\Users\\CHIN\\AppData\\Local\\Temp/ipykernel_416/2026335479.py:25: DeprecationWarning: cafile, capath and cadefault are deprecated, use a custom context instead.\n",
      "  response = urlopen(url, cafile=certifi.where())\n"
     ]
    },
    {
     "name": "stdout",
     "output_type": "stream",
     "text": [
      "calculate period: 50\n",
      "FTV\n"
     ]
    },
    {
     "name": "stderr",
     "output_type": "stream",
     "text": [
      "C:\\Users\\CHIN\\AppData\\Local\\Temp/ipykernel_416/1045654372.py:93: FutureWarning: Indexing with multiple keys (implicitly converted to a tuple of keys) will be deprecated, use a list instead.\n",
      "  total_port_value = pd.DataFrame(df_init.groupby([df_init.index])['Total_value_todate','close'].sum())\n",
      "C:\\Users\\CHIN\\AppData\\Local\\Temp/ipykernel_416/2026335479.py:25: DeprecationWarning: cafile, capath and cadefault are deprecated, use a custom context instead.\n",
      "  response = urlopen(url, cafile=certifi.where())\n"
     ]
    },
    {
     "name": "stdout",
     "output_type": "stream",
     "text": [
      "calculate period: 50\n",
      "FOXA\n"
     ]
    },
    {
     "name": "stderr",
     "output_type": "stream",
     "text": [
      "C:\\Users\\CHIN\\AppData\\Local\\Temp/ipykernel_416/1045654372.py:93: FutureWarning: Indexing with multiple keys (implicitly converted to a tuple of keys) will be deprecated, use a list instead.\n",
      "  total_port_value = pd.DataFrame(df_init.groupby([df_init.index])['Total_value_todate','close'].sum())\n",
      "C:\\Users\\CHIN\\AppData\\Local\\Temp/ipykernel_416/2026335479.py:25: DeprecationWarning: cafile, capath and cadefault are deprecated, use a custom context instead.\n",
      "  response = urlopen(url, cafile=certifi.where())\n"
     ]
    },
    {
     "name": "stdout",
     "output_type": "stream",
     "text": [
      "calculate period: 50\n",
      "FOX\n"
     ]
    },
    {
     "name": "stderr",
     "output_type": "stream",
     "text": [
      "C:\\Users\\CHIN\\AppData\\Local\\Temp/ipykernel_416/1045654372.py:93: FutureWarning: Indexing with multiple keys (implicitly converted to a tuple of keys) will be deprecated, use a list instead.\n",
      "  total_port_value = pd.DataFrame(df_init.groupby([df_init.index])['Total_value_todate','close'].sum())\n",
      "C:\\Users\\CHIN\\AppData\\Local\\Temp/ipykernel_416/2026335479.py:25: DeprecationWarning: cafile, capath and cadefault are deprecated, use a custom context instead.\n",
      "  response = urlopen(url, cafile=certifi.where())\n"
     ]
    },
    {
     "name": "stdout",
     "output_type": "stream",
     "text": [
      "calculate period: 50\n",
      "BEN\n"
     ]
    },
    {
     "name": "stderr",
     "output_type": "stream",
     "text": [
      "C:\\Users\\CHIN\\AppData\\Local\\Temp/ipykernel_416/1045654372.py:93: FutureWarning: Indexing with multiple keys (implicitly converted to a tuple of keys) will be deprecated, use a list instead.\n",
      "  total_port_value = pd.DataFrame(df_init.groupby([df_init.index])['Total_value_todate','close'].sum())\n",
      "C:\\Users\\CHIN\\AppData\\Local\\Temp/ipykernel_416/2026335479.py:25: DeprecationWarning: cafile, capath and cadefault are deprecated, use a custom context instead.\n",
      "  response = urlopen(url, cafile=certifi.where())\n"
     ]
    },
    {
     "name": "stdout",
     "output_type": "stream",
     "text": [
      "calculate period: 50\n",
      "FCX\n"
     ]
    },
    {
     "name": "stderr",
     "output_type": "stream",
     "text": [
      "C:\\Users\\CHIN\\AppData\\Local\\Temp/ipykernel_416/1045654372.py:93: FutureWarning: Indexing with multiple keys (implicitly converted to a tuple of keys) will be deprecated, use a list instead.\n",
      "  total_port_value = pd.DataFrame(df_init.groupby([df_init.index])['Total_value_todate','close'].sum())\n",
      "C:\\Users\\CHIN\\AppData\\Local\\Temp/ipykernel_416/2026335479.py:25: DeprecationWarning: cafile, capath and cadefault are deprecated, use a custom context instead.\n",
      "  response = urlopen(url, cafile=certifi.where())\n"
     ]
    },
    {
     "name": "stdout",
     "output_type": "stream",
     "text": [
      "calculate period: 50\n",
      "GRMN\n"
     ]
    },
    {
     "name": "stderr",
     "output_type": "stream",
     "text": [
      "C:\\Users\\CHIN\\AppData\\Local\\Temp/ipykernel_416/1045654372.py:93: FutureWarning: Indexing with multiple keys (implicitly converted to a tuple of keys) will be deprecated, use a list instead.\n",
      "  total_port_value = pd.DataFrame(df_init.groupby([df_init.index])['Total_value_todate','close'].sum())\n",
      "C:\\Users\\CHIN\\AppData\\Local\\Temp/ipykernel_416/2026335479.py:25: DeprecationWarning: cafile, capath and cadefault are deprecated, use a custom context instead.\n",
      "  response = urlopen(url, cafile=certifi.where())\n"
     ]
    },
    {
     "name": "stdout",
     "output_type": "stream",
     "text": [
      "calculate period: 50\n",
      "IT\n"
     ]
    },
    {
     "name": "stderr",
     "output_type": "stream",
     "text": [
      "C:\\Users\\CHIN\\AppData\\Local\\Temp/ipykernel_416/1045654372.py:93: FutureWarning: Indexing with multiple keys (implicitly converted to a tuple of keys) will be deprecated, use a list instead.\n",
      "  total_port_value = pd.DataFrame(df_init.groupby([df_init.index])['Total_value_todate','close'].sum())\n",
      "C:\\Users\\CHIN\\AppData\\Local\\Temp/ipykernel_416/2026335479.py:25: DeprecationWarning: cafile, capath and cadefault are deprecated, use a custom context instead.\n",
      "  response = urlopen(url, cafile=certifi.where())\n"
     ]
    },
    {
     "name": "stdout",
     "output_type": "stream",
     "text": [
      "calculate period: 50\n",
      "GEHC\n"
     ]
    },
    {
     "name": "stderr",
     "output_type": "stream",
     "text": [
      "C:\\Users\\CHIN\\AppData\\Local\\Temp/ipykernel_416/1045654372.py:93: FutureWarning: Indexing with multiple keys (implicitly converted to a tuple of keys) will be deprecated, use a list instead.\n",
      "  total_port_value = pd.DataFrame(df_init.groupby([df_init.index])['Total_value_todate','close'].sum())\n",
      "C:\\Users\\CHIN\\AppData\\Local\\Temp/ipykernel_416/2026335479.py:25: DeprecationWarning: cafile, capath and cadefault are deprecated, use a custom context instead.\n",
      "  response = urlopen(url, cafile=certifi.where())\n"
     ]
    },
    {
     "name": "stdout",
     "output_type": "stream",
     "text": [
      "calculate period: 50\n",
      "GEN\n"
     ]
    },
    {
     "name": "stderr",
     "output_type": "stream",
     "text": [
      "C:\\Users\\CHIN\\AppData\\Local\\Temp/ipykernel_416/1045654372.py:93: FutureWarning: Indexing with multiple keys (implicitly converted to a tuple of keys) will be deprecated, use a list instead.\n",
      "  total_port_value = pd.DataFrame(df_init.groupby([df_init.index])['Total_value_todate','close'].sum())\n",
      "C:\\Users\\CHIN\\AppData\\Local\\Temp/ipykernel_416/2026335479.py:25: DeprecationWarning: cafile, capath and cadefault are deprecated, use a custom context instead.\n",
      "  response = urlopen(url, cafile=certifi.where())\n"
     ]
    },
    {
     "name": "stdout",
     "output_type": "stream",
     "text": [
      "calculate period: 50\n",
      "GNRC\n"
     ]
    },
    {
     "name": "stderr",
     "output_type": "stream",
     "text": [
      "C:\\Users\\CHIN\\AppData\\Local\\Temp/ipykernel_416/1045654372.py:93: FutureWarning: Indexing with multiple keys (implicitly converted to a tuple of keys) will be deprecated, use a list instead.\n",
      "  total_port_value = pd.DataFrame(df_init.groupby([df_init.index])['Total_value_todate','close'].sum())\n",
      "C:\\Users\\CHIN\\AppData\\Local\\Temp/ipykernel_416/2026335479.py:25: DeprecationWarning: cafile, capath and cadefault are deprecated, use a custom context instead.\n",
      "  response = urlopen(url, cafile=certifi.where())\n"
     ]
    },
    {
     "name": "stdout",
     "output_type": "stream",
     "text": [
      "calculate period: 50\n",
      "GD\n"
     ]
    },
    {
     "name": "stderr",
     "output_type": "stream",
     "text": [
      "C:\\Users\\CHIN\\AppData\\Local\\Temp/ipykernel_416/1045654372.py:93: FutureWarning: Indexing with multiple keys (implicitly converted to a tuple of keys) will be deprecated, use a list instead.\n",
      "  total_port_value = pd.DataFrame(df_init.groupby([df_init.index])['Total_value_todate','close'].sum())\n",
      "C:\\Users\\CHIN\\AppData\\Local\\Temp/ipykernel_416/2026335479.py:25: DeprecationWarning: cafile, capath and cadefault are deprecated, use a custom context instead.\n",
      "  response = urlopen(url, cafile=certifi.where())\n"
     ]
    },
    {
     "name": "stdout",
     "output_type": "stream",
     "text": [
      "calculate period: 50\n",
      "GE\n"
     ]
    },
    {
     "name": "stderr",
     "output_type": "stream",
     "text": [
      "C:\\Users\\CHIN\\AppData\\Local\\Temp/ipykernel_416/1045654372.py:93: FutureWarning: Indexing with multiple keys (implicitly converted to a tuple of keys) will be deprecated, use a list instead.\n",
      "  total_port_value = pd.DataFrame(df_init.groupby([df_init.index])['Total_value_todate','close'].sum())\n",
      "C:\\Users\\CHIN\\AppData\\Local\\Temp/ipykernel_416/2026335479.py:25: DeprecationWarning: cafile, capath and cadefault are deprecated, use a custom context instead.\n",
      "  response = urlopen(url, cafile=certifi.where())\n"
     ]
    },
    {
     "name": "stdout",
     "output_type": "stream",
     "text": [
      "calculate period: 50\n",
      "GIS\n"
     ]
    },
    {
     "name": "stderr",
     "output_type": "stream",
     "text": [
      "C:\\Users\\CHIN\\AppData\\Local\\Temp/ipykernel_416/1045654372.py:93: FutureWarning: Indexing with multiple keys (implicitly converted to a tuple of keys) will be deprecated, use a list instead.\n",
      "  total_port_value = pd.DataFrame(df_init.groupby([df_init.index])['Total_value_todate','close'].sum())\n",
      "C:\\Users\\CHIN\\AppData\\Local\\Temp/ipykernel_416/2026335479.py:25: DeprecationWarning: cafile, capath and cadefault are deprecated, use a custom context instead.\n",
      "  response = urlopen(url, cafile=certifi.where())\n"
     ]
    },
    {
     "name": "stdout",
     "output_type": "stream",
     "text": [
      "calculate period: 50\n",
      "GM\n"
     ]
    },
    {
     "name": "stderr",
     "output_type": "stream",
     "text": [
      "C:\\Users\\CHIN\\AppData\\Local\\Temp/ipykernel_416/1045654372.py:93: FutureWarning: Indexing with multiple keys (implicitly converted to a tuple of keys) will be deprecated, use a list instead.\n",
      "  total_port_value = pd.DataFrame(df_init.groupby([df_init.index])['Total_value_todate','close'].sum())\n",
      "C:\\Users\\CHIN\\AppData\\Local\\Temp/ipykernel_416/2026335479.py:25: DeprecationWarning: cafile, capath and cadefault are deprecated, use a custom context instead.\n",
      "  response = urlopen(url, cafile=certifi.where())\n"
     ]
    },
    {
     "name": "stdout",
     "output_type": "stream",
     "text": [
      "calculate period: 50\n",
      "GPC\n"
     ]
    },
    {
     "name": "stderr",
     "output_type": "stream",
     "text": [
      "C:\\Users\\CHIN\\AppData\\Local\\Temp/ipykernel_416/1045654372.py:93: FutureWarning: Indexing with multiple keys (implicitly converted to a tuple of keys) will be deprecated, use a list instead.\n",
      "  total_port_value = pd.DataFrame(df_init.groupby([df_init.index])['Total_value_todate','close'].sum())\n",
      "C:\\Users\\CHIN\\AppData\\Local\\Temp/ipykernel_416/2026335479.py:25: DeprecationWarning: cafile, capath and cadefault are deprecated, use a custom context instead.\n",
      "  response = urlopen(url, cafile=certifi.where())\n"
     ]
    },
    {
     "name": "stdout",
     "output_type": "stream",
     "text": [
      "calculate period: 50\n",
      "GILD\n"
     ]
    },
    {
     "name": "stderr",
     "output_type": "stream",
     "text": [
      "C:\\Users\\CHIN\\AppData\\Local\\Temp/ipykernel_416/1045654372.py:93: FutureWarning: Indexing with multiple keys (implicitly converted to a tuple of keys) will be deprecated, use a list instead.\n",
      "  total_port_value = pd.DataFrame(df_init.groupby([df_init.index])['Total_value_todate','close'].sum())\n",
      "C:\\Users\\CHIN\\AppData\\Local\\Temp/ipykernel_416/2026335479.py:25: DeprecationWarning: cafile, capath and cadefault are deprecated, use a custom context instead.\n",
      "  response = urlopen(url, cafile=certifi.where())\n"
     ]
    },
    {
     "name": "stdout",
     "output_type": "stream",
     "text": [
      "calculate period: 50\n",
      "GPN\n"
     ]
    },
    {
     "name": "stderr",
     "output_type": "stream",
     "text": [
      "C:\\Users\\CHIN\\AppData\\Local\\Temp/ipykernel_416/1045654372.py:93: FutureWarning: Indexing with multiple keys (implicitly converted to a tuple of keys) will be deprecated, use a list instead.\n",
      "  total_port_value = pd.DataFrame(df_init.groupby([df_init.index])['Total_value_todate','close'].sum())\n",
      "C:\\Users\\CHIN\\AppData\\Local\\Temp/ipykernel_416/2026335479.py:25: DeprecationWarning: cafile, capath and cadefault are deprecated, use a custom context instead.\n",
      "  response = urlopen(url, cafile=certifi.where())\n"
     ]
    },
    {
     "name": "stdout",
     "output_type": "stream",
     "text": [
      "calculate period: 50\n",
      "GL\n"
     ]
    },
    {
     "name": "stderr",
     "output_type": "stream",
     "text": [
      "C:\\Users\\CHIN\\AppData\\Local\\Temp/ipykernel_416/1045654372.py:93: FutureWarning: Indexing with multiple keys (implicitly converted to a tuple of keys) will be deprecated, use a list instead.\n",
      "  total_port_value = pd.DataFrame(df_init.groupby([df_init.index])['Total_value_todate','close'].sum())\n",
      "C:\\Users\\CHIN\\AppData\\Local\\Temp/ipykernel_416/2026335479.py:25: DeprecationWarning: cafile, capath and cadefault are deprecated, use a custom context instead.\n",
      "  response = urlopen(url, cafile=certifi.where())\n"
     ]
    },
    {
     "name": "stdout",
     "output_type": "stream",
     "text": [
      "calculate period: 50\n",
      "GS\n"
     ]
    },
    {
     "name": "stderr",
     "output_type": "stream",
     "text": [
      "C:\\Users\\CHIN\\AppData\\Local\\Temp/ipykernel_416/1045654372.py:93: FutureWarning: Indexing with multiple keys (implicitly converted to a tuple of keys) will be deprecated, use a list instead.\n",
      "  total_port_value = pd.DataFrame(df_init.groupby([df_init.index])['Total_value_todate','close'].sum())\n",
      "C:\\Users\\CHIN\\AppData\\Local\\Temp/ipykernel_416/2026335479.py:25: DeprecationWarning: cafile, capath and cadefault are deprecated, use a custom context instead.\n",
      "  response = urlopen(url, cafile=certifi.where())\n"
     ]
    },
    {
     "name": "stdout",
     "output_type": "stream",
     "text": [
      "calculate period: 50\n",
      "HAL\n"
     ]
    },
    {
     "name": "stderr",
     "output_type": "stream",
     "text": [
      "C:\\Users\\CHIN\\AppData\\Local\\Temp/ipykernel_416/1045654372.py:93: FutureWarning: Indexing with multiple keys (implicitly converted to a tuple of keys) will be deprecated, use a list instead.\n",
      "  total_port_value = pd.DataFrame(df_init.groupby([df_init.index])['Total_value_todate','close'].sum())\n",
      "C:\\Users\\CHIN\\AppData\\Local\\Temp/ipykernel_416/2026335479.py:25: DeprecationWarning: cafile, capath and cadefault are deprecated, use a custom context instead.\n",
      "  response = urlopen(url, cafile=certifi.where())\n"
     ]
    },
    {
     "name": "stdout",
     "output_type": "stream",
     "text": [
      "calculate period: 50\n",
      "HIG\n"
     ]
    },
    {
     "name": "stderr",
     "output_type": "stream",
     "text": [
      "C:\\Users\\CHIN\\AppData\\Local\\Temp/ipykernel_416/1045654372.py:93: FutureWarning: Indexing with multiple keys (implicitly converted to a tuple of keys) will be deprecated, use a list instead.\n",
      "  total_port_value = pd.DataFrame(df_init.groupby([df_init.index])['Total_value_todate','close'].sum())\n",
      "C:\\Users\\CHIN\\AppData\\Local\\Temp/ipykernel_416/2026335479.py:25: DeprecationWarning: cafile, capath and cadefault are deprecated, use a custom context instead.\n",
      "  response = urlopen(url, cafile=certifi.where())\n"
     ]
    },
    {
     "name": "stdout",
     "output_type": "stream",
     "text": [
      "calculate period: 50\n",
      "HAS\n"
     ]
    },
    {
     "name": "stderr",
     "output_type": "stream",
     "text": [
      "C:\\Users\\CHIN\\AppData\\Local\\Temp/ipykernel_416/1045654372.py:93: FutureWarning: Indexing with multiple keys (implicitly converted to a tuple of keys) will be deprecated, use a list instead.\n",
      "  total_port_value = pd.DataFrame(df_init.groupby([df_init.index])['Total_value_todate','close'].sum())\n",
      "C:\\Users\\CHIN\\AppData\\Local\\Temp/ipykernel_416/2026335479.py:25: DeprecationWarning: cafile, capath and cadefault are deprecated, use a custom context instead.\n",
      "  response = urlopen(url, cafile=certifi.where())\n"
     ]
    },
    {
     "name": "stdout",
     "output_type": "stream",
     "text": [
      "calculate period: 50\n",
      "HCA\n"
     ]
    },
    {
     "name": "stderr",
     "output_type": "stream",
     "text": [
      "C:\\Users\\CHIN\\AppData\\Local\\Temp/ipykernel_416/1045654372.py:93: FutureWarning: Indexing with multiple keys (implicitly converted to a tuple of keys) will be deprecated, use a list instead.\n",
      "  total_port_value = pd.DataFrame(df_init.groupby([df_init.index])['Total_value_todate','close'].sum())\n",
      "C:\\Users\\CHIN\\AppData\\Local\\Temp/ipykernel_416/2026335479.py:25: DeprecationWarning: cafile, capath and cadefault are deprecated, use a custom context instead.\n",
      "  response = urlopen(url, cafile=certifi.where())\n"
     ]
    },
    {
     "name": "stdout",
     "output_type": "stream",
     "text": [
      "calculate period: 50\n",
      "PEAK\n"
     ]
    },
    {
     "name": "stderr",
     "output_type": "stream",
     "text": [
      "C:\\Users\\CHIN\\AppData\\Local\\Temp/ipykernel_416/1045654372.py:93: FutureWarning: Indexing with multiple keys (implicitly converted to a tuple of keys) will be deprecated, use a list instead.\n",
      "  total_port_value = pd.DataFrame(df_init.groupby([df_init.index])['Total_value_todate','close'].sum())\n",
      "C:\\Users\\CHIN\\AppData\\Local\\Temp/ipykernel_416/2026335479.py:25: DeprecationWarning: cafile, capath and cadefault are deprecated, use a custom context instead.\n",
      "  response = urlopen(url, cafile=certifi.where())\n"
     ]
    },
    {
     "name": "stdout",
     "output_type": "stream",
     "text": [
      "calculate period: 50\n",
      "HSIC\n"
     ]
    },
    {
     "name": "stderr",
     "output_type": "stream",
     "text": [
      "C:\\Users\\CHIN\\AppData\\Local\\Temp/ipykernel_416/1045654372.py:93: FutureWarning: Indexing with multiple keys (implicitly converted to a tuple of keys) will be deprecated, use a list instead.\n",
      "  total_port_value = pd.DataFrame(df_init.groupby([df_init.index])['Total_value_todate','close'].sum())\n",
      "C:\\Users\\CHIN\\AppData\\Local\\Temp/ipykernel_416/2026335479.py:25: DeprecationWarning: cafile, capath and cadefault are deprecated, use a custom context instead.\n",
      "  response = urlopen(url, cafile=certifi.where())\n"
     ]
    },
    {
     "name": "stdout",
     "output_type": "stream",
     "text": [
      "calculate period: 50\n",
      "HSY\n"
     ]
    },
    {
     "name": "stderr",
     "output_type": "stream",
     "text": [
      "C:\\Users\\CHIN\\AppData\\Local\\Temp/ipykernel_416/1045654372.py:93: FutureWarning: Indexing with multiple keys (implicitly converted to a tuple of keys) will be deprecated, use a list instead.\n",
      "  total_port_value = pd.DataFrame(df_init.groupby([df_init.index])['Total_value_todate','close'].sum())\n",
      "C:\\Users\\CHIN\\AppData\\Local\\Temp/ipykernel_416/2026335479.py:25: DeprecationWarning: cafile, capath and cadefault are deprecated, use a custom context instead.\n",
      "  response = urlopen(url, cafile=certifi.where())\n"
     ]
    },
    {
     "name": "stdout",
     "output_type": "stream",
     "text": [
      "calculate period: 50\n",
      "HES\n"
     ]
    },
    {
     "name": "stderr",
     "output_type": "stream",
     "text": [
      "C:\\Users\\CHIN\\AppData\\Local\\Temp/ipykernel_416/1045654372.py:93: FutureWarning: Indexing with multiple keys (implicitly converted to a tuple of keys) will be deprecated, use a list instead.\n",
      "  total_port_value = pd.DataFrame(df_init.groupby([df_init.index])['Total_value_todate','close'].sum())\n",
      "C:\\Users\\CHIN\\AppData\\Local\\Temp/ipykernel_416/2026335479.py:25: DeprecationWarning: cafile, capath and cadefault are deprecated, use a custom context instead.\n",
      "  response = urlopen(url, cafile=certifi.where())\n"
     ]
    },
    {
     "name": "stdout",
     "output_type": "stream",
     "text": [
      "calculate period: 50\n",
      "HPE\n"
     ]
    },
    {
     "name": "stderr",
     "output_type": "stream",
     "text": [
      "C:\\Users\\CHIN\\AppData\\Local\\Temp/ipykernel_416/1045654372.py:93: FutureWarning: Indexing with multiple keys (implicitly converted to a tuple of keys) will be deprecated, use a list instead.\n",
      "  total_port_value = pd.DataFrame(df_init.groupby([df_init.index])['Total_value_todate','close'].sum())\n",
      "C:\\Users\\CHIN\\AppData\\Local\\Temp/ipykernel_416/2026335479.py:25: DeprecationWarning: cafile, capath and cadefault are deprecated, use a custom context instead.\n",
      "  response = urlopen(url, cafile=certifi.where())\n"
     ]
    },
    {
     "name": "stdout",
     "output_type": "stream",
     "text": [
      "calculate period: 50\n",
      "HLT\n"
     ]
    },
    {
     "name": "stderr",
     "output_type": "stream",
     "text": [
      "C:\\Users\\CHIN\\AppData\\Local\\Temp/ipykernel_416/1045654372.py:93: FutureWarning: Indexing with multiple keys (implicitly converted to a tuple of keys) will be deprecated, use a list instead.\n",
      "  total_port_value = pd.DataFrame(df_init.groupby([df_init.index])['Total_value_todate','close'].sum())\n",
      "C:\\Users\\CHIN\\AppData\\Local\\Temp/ipykernel_416/2026335479.py:25: DeprecationWarning: cafile, capath and cadefault are deprecated, use a custom context instead.\n",
      "  response = urlopen(url, cafile=certifi.where())\n"
     ]
    },
    {
     "name": "stdout",
     "output_type": "stream",
     "text": [
      "calculate period: 50\n",
      "HOLX\n"
     ]
    },
    {
     "name": "stderr",
     "output_type": "stream",
     "text": [
      "C:\\Users\\CHIN\\AppData\\Local\\Temp/ipykernel_416/1045654372.py:93: FutureWarning: Indexing with multiple keys (implicitly converted to a tuple of keys) will be deprecated, use a list instead.\n",
      "  total_port_value = pd.DataFrame(df_init.groupby([df_init.index])['Total_value_todate','close'].sum())\n",
      "C:\\Users\\CHIN\\AppData\\Local\\Temp/ipykernel_416/2026335479.py:25: DeprecationWarning: cafile, capath and cadefault are deprecated, use a custom context instead.\n",
      "  response = urlopen(url, cafile=certifi.where())\n"
     ]
    },
    {
     "name": "stdout",
     "output_type": "stream",
     "text": [
      "calculate period: 50\n",
      "HD\n"
     ]
    },
    {
     "name": "stderr",
     "output_type": "stream",
     "text": [
      "C:\\Users\\CHIN\\AppData\\Local\\Temp/ipykernel_416/1045654372.py:93: FutureWarning: Indexing with multiple keys (implicitly converted to a tuple of keys) will be deprecated, use a list instead.\n",
      "  total_port_value = pd.DataFrame(df_init.groupby([df_init.index])['Total_value_todate','close'].sum())\n",
      "C:\\Users\\CHIN\\AppData\\Local\\Temp/ipykernel_416/2026335479.py:25: DeprecationWarning: cafile, capath and cadefault are deprecated, use a custom context instead.\n",
      "  response = urlopen(url, cafile=certifi.where())\n"
     ]
    },
    {
     "name": "stdout",
     "output_type": "stream",
     "text": [
      "calculate period: 50\n",
      "HON\n"
     ]
    },
    {
     "name": "stderr",
     "output_type": "stream",
     "text": [
      "C:\\Users\\CHIN\\AppData\\Local\\Temp/ipykernel_416/1045654372.py:93: FutureWarning: Indexing with multiple keys (implicitly converted to a tuple of keys) will be deprecated, use a list instead.\n",
      "  total_port_value = pd.DataFrame(df_init.groupby([df_init.index])['Total_value_todate','close'].sum())\n",
      "C:\\Users\\CHIN\\AppData\\Local\\Temp/ipykernel_416/2026335479.py:25: DeprecationWarning: cafile, capath and cadefault are deprecated, use a custom context instead.\n",
      "  response = urlopen(url, cafile=certifi.where())\n"
     ]
    },
    {
     "name": "stdout",
     "output_type": "stream",
     "text": [
      "calculate period: 50\n",
      "HRL\n"
     ]
    },
    {
     "name": "stderr",
     "output_type": "stream",
     "text": [
      "C:\\Users\\CHIN\\AppData\\Local\\Temp/ipykernel_416/1045654372.py:93: FutureWarning: Indexing with multiple keys (implicitly converted to a tuple of keys) will be deprecated, use a list instead.\n",
      "  total_port_value = pd.DataFrame(df_init.groupby([df_init.index])['Total_value_todate','close'].sum())\n",
      "C:\\Users\\CHIN\\AppData\\Local\\Temp/ipykernel_416/2026335479.py:25: DeprecationWarning: cafile, capath and cadefault are deprecated, use a custom context instead.\n",
      "  response = urlopen(url, cafile=certifi.where())\n"
     ]
    },
    {
     "name": "stdout",
     "output_type": "stream",
     "text": [
      "calculate period: 50\n",
      "HST\n"
     ]
    },
    {
     "name": "stderr",
     "output_type": "stream",
     "text": [
      "C:\\Users\\CHIN\\AppData\\Local\\Temp/ipykernel_416/1045654372.py:93: FutureWarning: Indexing with multiple keys (implicitly converted to a tuple of keys) will be deprecated, use a list instead.\n",
      "  total_port_value = pd.DataFrame(df_init.groupby([df_init.index])['Total_value_todate','close'].sum())\n",
      "C:\\Users\\CHIN\\AppData\\Local\\Temp/ipykernel_416/2026335479.py:25: DeprecationWarning: cafile, capath and cadefault are deprecated, use a custom context instead.\n",
      "  response = urlopen(url, cafile=certifi.where())\n"
     ]
    },
    {
     "name": "stdout",
     "output_type": "stream",
     "text": [
      "calculate period: 50\n",
      "HWM\n"
     ]
    },
    {
     "name": "stderr",
     "output_type": "stream",
     "text": [
      "C:\\Users\\CHIN\\AppData\\Local\\Temp/ipykernel_416/1045654372.py:93: FutureWarning: Indexing with multiple keys (implicitly converted to a tuple of keys) will be deprecated, use a list instead.\n",
      "  total_port_value = pd.DataFrame(df_init.groupby([df_init.index])['Total_value_todate','close'].sum())\n",
      "C:\\Users\\CHIN\\AppData\\Local\\Temp/ipykernel_416/2026335479.py:25: DeprecationWarning: cafile, capath and cadefault are deprecated, use a custom context instead.\n",
      "  response = urlopen(url, cafile=certifi.where())\n"
     ]
    },
    {
     "name": "stdout",
     "output_type": "stream",
     "text": [
      "calculate period: 50\n",
      "HPQ\n"
     ]
    },
    {
     "name": "stderr",
     "output_type": "stream",
     "text": [
      "C:\\Users\\CHIN\\AppData\\Local\\Temp/ipykernel_416/1045654372.py:93: FutureWarning: Indexing with multiple keys (implicitly converted to a tuple of keys) will be deprecated, use a list instead.\n",
      "  total_port_value = pd.DataFrame(df_init.groupby([df_init.index])['Total_value_todate','close'].sum())\n",
      "C:\\Users\\CHIN\\AppData\\Local\\Temp/ipykernel_416/2026335479.py:25: DeprecationWarning: cafile, capath and cadefault are deprecated, use a custom context instead.\n",
      "  response = urlopen(url, cafile=certifi.where())\n"
     ]
    },
    {
     "name": "stdout",
     "output_type": "stream",
     "text": [
      "calculate period: 50\n",
      "HUBB\n"
     ]
    },
    {
     "name": "stderr",
     "output_type": "stream",
     "text": [
      "C:\\Users\\CHIN\\AppData\\Local\\Temp/ipykernel_416/1045654372.py:93: FutureWarning: Indexing with multiple keys (implicitly converted to a tuple of keys) will be deprecated, use a list instead.\n",
      "  total_port_value = pd.DataFrame(df_init.groupby([df_init.index])['Total_value_todate','close'].sum())\n",
      "C:\\Users\\CHIN\\AppData\\Local\\Temp/ipykernel_416/2026335479.py:25: DeprecationWarning: cafile, capath and cadefault are deprecated, use a custom context instead.\n",
      "  response = urlopen(url, cafile=certifi.where())\n"
     ]
    },
    {
     "name": "stdout",
     "output_type": "stream",
     "text": [
      "calculate period: 50\n",
      "HUM\n"
     ]
    },
    {
     "name": "stderr",
     "output_type": "stream",
     "text": [
      "C:\\Users\\CHIN\\AppData\\Local\\Temp/ipykernel_416/1045654372.py:93: FutureWarning: Indexing with multiple keys (implicitly converted to a tuple of keys) will be deprecated, use a list instead.\n",
      "  total_port_value = pd.DataFrame(df_init.groupby([df_init.index])['Total_value_todate','close'].sum())\n",
      "C:\\Users\\CHIN\\AppData\\Local\\Temp/ipykernel_416/2026335479.py:25: DeprecationWarning: cafile, capath and cadefault are deprecated, use a custom context instead.\n",
      "  response = urlopen(url, cafile=certifi.where())\n"
     ]
    },
    {
     "name": "stdout",
     "output_type": "stream",
     "text": [
      "calculate period: 50\n",
      "HBAN\n"
     ]
    },
    {
     "name": "stderr",
     "output_type": "stream",
     "text": [
      "C:\\Users\\CHIN\\AppData\\Local\\Temp/ipykernel_416/1045654372.py:93: FutureWarning: Indexing with multiple keys (implicitly converted to a tuple of keys) will be deprecated, use a list instead.\n",
      "  total_port_value = pd.DataFrame(df_init.groupby([df_init.index])['Total_value_todate','close'].sum())\n",
      "C:\\Users\\CHIN\\AppData\\Local\\Temp/ipykernel_416/2026335479.py:25: DeprecationWarning: cafile, capath and cadefault are deprecated, use a custom context instead.\n",
      "  response = urlopen(url, cafile=certifi.where())\n"
     ]
    },
    {
     "name": "stdout",
     "output_type": "stream",
     "text": [
      "calculate period: 50\n",
      "HII\n"
     ]
    },
    {
     "name": "stderr",
     "output_type": "stream",
     "text": [
      "C:\\Users\\CHIN\\AppData\\Local\\Temp/ipykernel_416/1045654372.py:93: FutureWarning: Indexing with multiple keys (implicitly converted to a tuple of keys) will be deprecated, use a list instead.\n",
      "  total_port_value = pd.DataFrame(df_init.groupby([df_init.index])['Total_value_todate','close'].sum())\n",
      "C:\\Users\\CHIN\\AppData\\Local\\Temp/ipykernel_416/2026335479.py:25: DeprecationWarning: cafile, capath and cadefault are deprecated, use a custom context instead.\n",
      "  response = urlopen(url, cafile=certifi.where())\n"
     ]
    },
    {
     "name": "stdout",
     "output_type": "stream",
     "text": [
      "calculate period: 50\n",
      "IBM\n"
     ]
    },
    {
     "name": "stderr",
     "output_type": "stream",
     "text": [
      "C:\\Users\\CHIN\\AppData\\Local\\Temp/ipykernel_416/1045654372.py:93: FutureWarning: Indexing with multiple keys (implicitly converted to a tuple of keys) will be deprecated, use a list instead.\n",
      "  total_port_value = pd.DataFrame(df_init.groupby([df_init.index])['Total_value_todate','close'].sum())\n",
      "C:\\Users\\CHIN\\AppData\\Local\\Temp/ipykernel_416/2026335479.py:25: DeprecationWarning: cafile, capath and cadefault are deprecated, use a custom context instead.\n",
      "  response = urlopen(url, cafile=certifi.where())\n"
     ]
    },
    {
     "name": "stdout",
     "output_type": "stream",
     "text": [
      "calculate period: 50\n",
      "IEX\n"
     ]
    },
    {
     "name": "stderr",
     "output_type": "stream",
     "text": [
      "C:\\Users\\CHIN\\AppData\\Local\\Temp/ipykernel_416/1045654372.py:93: FutureWarning: Indexing with multiple keys (implicitly converted to a tuple of keys) will be deprecated, use a list instead.\n",
      "  total_port_value = pd.DataFrame(df_init.groupby([df_init.index])['Total_value_todate','close'].sum())\n",
      "C:\\Users\\CHIN\\AppData\\Local\\Temp/ipykernel_416/2026335479.py:25: DeprecationWarning: cafile, capath and cadefault are deprecated, use a custom context instead.\n",
      "  response = urlopen(url, cafile=certifi.where())\n"
     ]
    },
    {
     "name": "stdout",
     "output_type": "stream",
     "text": [
      "calculate period: 50\n",
      "IDXX\n"
     ]
    },
    {
     "name": "stderr",
     "output_type": "stream",
     "text": [
      "C:\\Users\\CHIN\\AppData\\Local\\Temp/ipykernel_416/1045654372.py:93: FutureWarning: Indexing with multiple keys (implicitly converted to a tuple of keys) will be deprecated, use a list instead.\n",
      "  total_port_value = pd.DataFrame(df_init.groupby([df_init.index])['Total_value_todate','close'].sum())\n",
      "C:\\Users\\CHIN\\AppData\\Local\\Temp/ipykernel_416/2026335479.py:25: DeprecationWarning: cafile, capath and cadefault are deprecated, use a custom context instead.\n",
      "  response = urlopen(url, cafile=certifi.where())\n"
     ]
    },
    {
     "name": "stdout",
     "output_type": "stream",
     "text": [
      "calculate period: 50\n",
      "ITW\n"
     ]
    },
    {
     "name": "stderr",
     "output_type": "stream",
     "text": [
      "C:\\Users\\CHIN\\AppData\\Local\\Temp/ipykernel_416/1045654372.py:93: FutureWarning: Indexing with multiple keys (implicitly converted to a tuple of keys) will be deprecated, use a list instead.\n",
      "  total_port_value = pd.DataFrame(df_init.groupby([df_init.index])['Total_value_todate','close'].sum())\n",
      "C:\\Users\\CHIN\\AppData\\Local\\Temp/ipykernel_416/2026335479.py:25: DeprecationWarning: cafile, capath and cadefault are deprecated, use a custom context instead.\n",
      "  response = urlopen(url, cafile=certifi.where())\n"
     ]
    },
    {
     "name": "stdout",
     "output_type": "stream",
     "text": [
      "calculate period: 50\n",
      "ILMN\n"
     ]
    },
    {
     "name": "stderr",
     "output_type": "stream",
     "text": [
      "C:\\Users\\CHIN\\AppData\\Local\\Temp/ipykernel_416/1045654372.py:93: FutureWarning: Indexing with multiple keys (implicitly converted to a tuple of keys) will be deprecated, use a list instead.\n",
      "  total_port_value = pd.DataFrame(df_init.groupby([df_init.index])['Total_value_todate','close'].sum())\n",
      "C:\\Users\\CHIN\\AppData\\Local\\Temp/ipykernel_416/2026335479.py:25: DeprecationWarning: cafile, capath and cadefault are deprecated, use a custom context instead.\n",
      "  response = urlopen(url, cafile=certifi.where())\n"
     ]
    },
    {
     "name": "stdout",
     "output_type": "stream",
     "text": [
      "calculate period: 50\n",
      "INCY\n"
     ]
    },
    {
     "name": "stderr",
     "output_type": "stream",
     "text": [
      "C:\\Users\\CHIN\\AppData\\Local\\Temp/ipykernel_416/1045654372.py:93: FutureWarning: Indexing with multiple keys (implicitly converted to a tuple of keys) will be deprecated, use a list instead.\n",
      "  total_port_value = pd.DataFrame(df_init.groupby([df_init.index])['Total_value_todate','close'].sum())\n",
      "C:\\Users\\CHIN\\AppData\\Local\\Temp/ipykernel_416/2026335479.py:25: DeprecationWarning: cafile, capath and cadefault are deprecated, use a custom context instead.\n",
      "  response = urlopen(url, cafile=certifi.where())\n"
     ]
    },
    {
     "name": "stdout",
     "output_type": "stream",
     "text": [
      "calculate period: 50\n",
      "IR\n"
     ]
    },
    {
     "name": "stderr",
     "output_type": "stream",
     "text": [
      "C:\\Users\\CHIN\\AppData\\Local\\Temp/ipykernel_416/1045654372.py:93: FutureWarning: Indexing with multiple keys (implicitly converted to a tuple of keys) will be deprecated, use a list instead.\n",
      "  total_port_value = pd.DataFrame(df_init.groupby([df_init.index])['Total_value_todate','close'].sum())\n",
      "C:\\Users\\CHIN\\AppData\\Local\\Temp/ipykernel_416/2026335479.py:25: DeprecationWarning: cafile, capath and cadefault are deprecated, use a custom context instead.\n",
      "  response = urlopen(url, cafile=certifi.where())\n"
     ]
    },
    {
     "name": "stdout",
     "output_type": "stream",
     "text": [
      "calculate period: 50\n",
      "PODD\n"
     ]
    },
    {
     "name": "stderr",
     "output_type": "stream",
     "text": [
      "C:\\Users\\CHIN\\AppData\\Local\\Temp/ipykernel_416/1045654372.py:93: FutureWarning: Indexing with multiple keys (implicitly converted to a tuple of keys) will be deprecated, use a list instead.\n",
      "  total_port_value = pd.DataFrame(df_init.groupby([df_init.index])['Total_value_todate','close'].sum())\n",
      "C:\\Users\\CHIN\\AppData\\Local\\Temp/ipykernel_416/2026335479.py:25: DeprecationWarning: cafile, capath and cadefault are deprecated, use a custom context instead.\n",
      "  response = urlopen(url, cafile=certifi.where())\n"
     ]
    },
    {
     "name": "stdout",
     "output_type": "stream",
     "text": [
      "calculate period: 50\n",
      "INTC\n"
     ]
    },
    {
     "name": "stderr",
     "output_type": "stream",
     "text": [
      "C:\\Users\\CHIN\\AppData\\Local\\Temp/ipykernel_416/1045654372.py:93: FutureWarning: Indexing with multiple keys (implicitly converted to a tuple of keys) will be deprecated, use a list instead.\n",
      "  total_port_value = pd.DataFrame(df_init.groupby([df_init.index])['Total_value_todate','close'].sum())\n",
      "C:\\Users\\CHIN\\AppData\\Local\\Temp/ipykernel_416/2026335479.py:25: DeprecationWarning: cafile, capath and cadefault are deprecated, use a custom context instead.\n",
      "  response = urlopen(url, cafile=certifi.where())\n"
     ]
    },
    {
     "name": "stdout",
     "output_type": "stream",
     "text": [
      "calculate period: 50\n",
      "ICE\n"
     ]
    },
    {
     "name": "stderr",
     "output_type": "stream",
     "text": [
      "C:\\Users\\CHIN\\AppData\\Local\\Temp/ipykernel_416/1045654372.py:93: FutureWarning: Indexing with multiple keys (implicitly converted to a tuple of keys) will be deprecated, use a list instead.\n",
      "  total_port_value = pd.DataFrame(df_init.groupby([df_init.index])['Total_value_todate','close'].sum())\n",
      "C:\\Users\\CHIN\\AppData\\Local\\Temp/ipykernel_416/2026335479.py:25: DeprecationWarning: cafile, capath and cadefault are deprecated, use a custom context instead.\n",
      "  response = urlopen(url, cafile=certifi.where())\n"
     ]
    },
    {
     "name": "stdout",
     "output_type": "stream",
     "text": [
      "calculate period: 50\n",
      "IFF\n"
     ]
    },
    {
     "name": "stderr",
     "output_type": "stream",
     "text": [
      "C:\\Users\\CHIN\\AppData\\Local\\Temp/ipykernel_416/1045654372.py:93: FutureWarning: Indexing with multiple keys (implicitly converted to a tuple of keys) will be deprecated, use a list instead.\n",
      "  total_port_value = pd.DataFrame(df_init.groupby([df_init.index])['Total_value_todate','close'].sum())\n",
      "C:\\Users\\CHIN\\AppData\\Local\\Temp/ipykernel_416/2026335479.py:25: DeprecationWarning: cafile, capath and cadefault are deprecated, use a custom context instead.\n",
      "  response = urlopen(url, cafile=certifi.where())\n"
     ]
    },
    {
     "name": "stdout",
     "output_type": "stream",
     "text": [
      "calculate period: 50\n",
      "IP\n"
     ]
    },
    {
     "name": "stderr",
     "output_type": "stream",
     "text": [
      "C:\\Users\\CHIN\\AppData\\Local\\Temp/ipykernel_416/1045654372.py:93: FutureWarning: Indexing with multiple keys (implicitly converted to a tuple of keys) will be deprecated, use a list instead.\n",
      "  total_port_value = pd.DataFrame(df_init.groupby([df_init.index])['Total_value_todate','close'].sum())\n",
      "C:\\Users\\CHIN\\AppData\\Local\\Temp/ipykernel_416/2026335479.py:25: DeprecationWarning: cafile, capath and cadefault are deprecated, use a custom context instead.\n",
      "  response = urlopen(url, cafile=certifi.where())\n"
     ]
    },
    {
     "name": "stdout",
     "output_type": "stream",
     "text": [
      "calculate period: 50\n",
      "IPG\n"
     ]
    },
    {
     "name": "stderr",
     "output_type": "stream",
     "text": [
      "C:\\Users\\CHIN\\AppData\\Local\\Temp/ipykernel_416/1045654372.py:93: FutureWarning: Indexing with multiple keys (implicitly converted to a tuple of keys) will be deprecated, use a list instead.\n",
      "  total_port_value = pd.DataFrame(df_init.groupby([df_init.index])['Total_value_todate','close'].sum())\n",
      "C:\\Users\\CHIN\\AppData\\Local\\Temp/ipykernel_416/2026335479.py:25: DeprecationWarning: cafile, capath and cadefault are deprecated, use a custom context instead.\n",
      "  response = urlopen(url, cafile=certifi.where())\n"
     ]
    },
    {
     "name": "stdout",
     "output_type": "stream",
     "text": [
      "calculate period: 50\n",
      "INTU\n"
     ]
    },
    {
     "name": "stderr",
     "output_type": "stream",
     "text": [
      "C:\\Users\\CHIN\\AppData\\Local\\Temp/ipykernel_416/1045654372.py:93: FutureWarning: Indexing with multiple keys (implicitly converted to a tuple of keys) will be deprecated, use a list instead.\n",
      "  total_port_value = pd.DataFrame(df_init.groupby([df_init.index])['Total_value_todate','close'].sum())\n",
      "C:\\Users\\CHIN\\AppData\\Local\\Temp/ipykernel_416/2026335479.py:25: DeprecationWarning: cafile, capath and cadefault are deprecated, use a custom context instead.\n",
      "  response = urlopen(url, cafile=certifi.where())\n"
     ]
    },
    {
     "name": "stdout",
     "output_type": "stream",
     "text": [
      "calculate period: 50\n",
      "ISRG\n"
     ]
    },
    {
     "name": "stderr",
     "output_type": "stream",
     "text": [
      "C:\\Users\\CHIN\\AppData\\Local\\Temp/ipykernel_416/1045654372.py:93: FutureWarning: Indexing with multiple keys (implicitly converted to a tuple of keys) will be deprecated, use a list instead.\n",
      "  total_port_value = pd.DataFrame(df_init.groupby([df_init.index])['Total_value_todate','close'].sum())\n",
      "C:\\Users\\CHIN\\AppData\\Local\\Temp/ipykernel_416/2026335479.py:25: DeprecationWarning: cafile, capath and cadefault are deprecated, use a custom context instead.\n",
      "  response = urlopen(url, cafile=certifi.where())\n"
     ]
    },
    {
     "name": "stdout",
     "output_type": "stream",
     "text": [
      "calculate period: 50\n",
      "IVZ\n"
     ]
    },
    {
     "name": "stderr",
     "output_type": "stream",
     "text": [
      "C:\\Users\\CHIN\\AppData\\Local\\Temp/ipykernel_416/1045654372.py:93: FutureWarning: Indexing with multiple keys (implicitly converted to a tuple of keys) will be deprecated, use a list instead.\n",
      "  total_port_value = pd.DataFrame(df_init.groupby([df_init.index])['Total_value_todate','close'].sum())\n",
      "C:\\Users\\CHIN\\AppData\\Local\\Temp/ipykernel_416/2026335479.py:25: DeprecationWarning: cafile, capath and cadefault are deprecated, use a custom context instead.\n",
      "  response = urlopen(url, cafile=certifi.where())\n"
     ]
    },
    {
     "name": "stdout",
     "output_type": "stream",
     "text": [
      "calculate period: 50\n",
      "INVH\n"
     ]
    },
    {
     "name": "stderr",
     "output_type": "stream",
     "text": [
      "C:\\Users\\CHIN\\AppData\\Local\\Temp/ipykernel_416/1045654372.py:93: FutureWarning: Indexing with multiple keys (implicitly converted to a tuple of keys) will be deprecated, use a list instead.\n",
      "  total_port_value = pd.DataFrame(df_init.groupby([df_init.index])['Total_value_todate','close'].sum())\n",
      "C:\\Users\\CHIN\\AppData\\Local\\Temp/ipykernel_416/2026335479.py:25: DeprecationWarning: cafile, capath and cadefault are deprecated, use a custom context instead.\n",
      "  response = urlopen(url, cafile=certifi.where())\n"
     ]
    },
    {
     "name": "stdout",
     "output_type": "stream",
     "text": [
      "calculate period: 50\n",
      "IQV\n"
     ]
    },
    {
     "name": "stderr",
     "output_type": "stream",
     "text": [
      "C:\\Users\\CHIN\\AppData\\Local\\Temp/ipykernel_416/1045654372.py:93: FutureWarning: Indexing with multiple keys (implicitly converted to a tuple of keys) will be deprecated, use a list instead.\n",
      "  total_port_value = pd.DataFrame(df_init.groupby([df_init.index])['Total_value_todate','close'].sum())\n",
      "C:\\Users\\CHIN\\AppData\\Local\\Temp/ipykernel_416/2026335479.py:25: DeprecationWarning: cafile, capath and cadefault are deprecated, use a custom context instead.\n",
      "  response = urlopen(url, cafile=certifi.where())\n"
     ]
    },
    {
     "name": "stdout",
     "output_type": "stream",
     "text": [
      "calculate period: 50\n",
      "IRM\n"
     ]
    },
    {
     "name": "stderr",
     "output_type": "stream",
     "text": [
      "C:\\Users\\CHIN\\AppData\\Local\\Temp/ipykernel_416/1045654372.py:93: FutureWarning: Indexing with multiple keys (implicitly converted to a tuple of keys) will be deprecated, use a list instead.\n",
      "  total_port_value = pd.DataFrame(df_init.groupby([df_init.index])['Total_value_todate','close'].sum())\n",
      "C:\\Users\\CHIN\\AppData\\Local\\Temp/ipykernel_416/2026335479.py:25: DeprecationWarning: cafile, capath and cadefault are deprecated, use a custom context instead.\n",
      "  response = urlopen(url, cafile=certifi.where())\n"
     ]
    },
    {
     "name": "stdout",
     "output_type": "stream",
     "text": [
      "calculate period: 50\n",
      "JBHT\n"
     ]
    },
    {
     "name": "stderr",
     "output_type": "stream",
     "text": [
      "C:\\Users\\CHIN\\AppData\\Local\\Temp/ipykernel_416/1045654372.py:93: FutureWarning: Indexing with multiple keys (implicitly converted to a tuple of keys) will be deprecated, use a list instead.\n",
      "  total_port_value = pd.DataFrame(df_init.groupby([df_init.index])['Total_value_todate','close'].sum())\n",
      "C:\\Users\\CHIN\\AppData\\Local\\Temp/ipykernel_416/2026335479.py:25: DeprecationWarning: cafile, capath and cadefault are deprecated, use a custom context instead.\n",
      "  response = urlopen(url, cafile=certifi.where())\n"
     ]
    },
    {
     "name": "stdout",
     "output_type": "stream",
     "text": [
      "calculate period: 50\n",
      "JBL\n"
     ]
    },
    {
     "name": "stderr",
     "output_type": "stream",
     "text": [
      "C:\\Users\\CHIN\\AppData\\Local\\Temp/ipykernel_416/1045654372.py:93: FutureWarning: Indexing with multiple keys (implicitly converted to a tuple of keys) will be deprecated, use a list instead.\n",
      "  total_port_value = pd.DataFrame(df_init.groupby([df_init.index])['Total_value_todate','close'].sum())\n",
      "C:\\Users\\CHIN\\AppData\\Local\\Temp/ipykernel_416/2026335479.py:25: DeprecationWarning: cafile, capath and cadefault are deprecated, use a custom context instead.\n",
      "  response = urlopen(url, cafile=certifi.where())\n"
     ]
    },
    {
     "name": "stdout",
     "output_type": "stream",
     "text": [
      "calculate period: 50\n",
      "JKHY\n"
     ]
    },
    {
     "name": "stderr",
     "output_type": "stream",
     "text": [
      "C:\\Users\\CHIN\\AppData\\Local\\Temp/ipykernel_416/1045654372.py:93: FutureWarning: Indexing with multiple keys (implicitly converted to a tuple of keys) will be deprecated, use a list instead.\n",
      "  total_port_value = pd.DataFrame(df_init.groupby([df_init.index])['Total_value_todate','close'].sum())\n",
      "C:\\Users\\CHIN\\AppData\\Local\\Temp/ipykernel_416/2026335479.py:25: DeprecationWarning: cafile, capath and cadefault are deprecated, use a custom context instead.\n",
      "  response = urlopen(url, cafile=certifi.where())\n"
     ]
    },
    {
     "name": "stdout",
     "output_type": "stream",
     "text": [
      "calculate period: 50\n",
      "J\n"
     ]
    },
    {
     "name": "stderr",
     "output_type": "stream",
     "text": [
      "C:\\Users\\CHIN\\AppData\\Local\\Temp/ipykernel_416/1045654372.py:93: FutureWarning: Indexing with multiple keys (implicitly converted to a tuple of keys) will be deprecated, use a list instead.\n",
      "  total_port_value = pd.DataFrame(df_init.groupby([df_init.index])['Total_value_todate','close'].sum())\n",
      "C:\\Users\\CHIN\\AppData\\Local\\Temp/ipykernel_416/2026335479.py:25: DeprecationWarning: cafile, capath and cadefault are deprecated, use a custom context instead.\n",
      "  response = urlopen(url, cafile=certifi.where())\n"
     ]
    },
    {
     "name": "stdout",
     "output_type": "stream",
     "text": [
      "calculate period: 50\n",
      "JNJ\n"
     ]
    },
    {
     "name": "stderr",
     "output_type": "stream",
     "text": [
      "C:\\Users\\CHIN\\AppData\\Local\\Temp/ipykernel_416/1045654372.py:93: FutureWarning: Indexing with multiple keys (implicitly converted to a tuple of keys) will be deprecated, use a list instead.\n",
      "  total_port_value = pd.DataFrame(df_init.groupby([df_init.index])['Total_value_todate','close'].sum())\n",
      "C:\\Users\\CHIN\\AppData\\Local\\Temp/ipykernel_416/2026335479.py:25: DeprecationWarning: cafile, capath and cadefault are deprecated, use a custom context instead.\n",
      "  response = urlopen(url, cafile=certifi.where())\n"
     ]
    },
    {
     "name": "stdout",
     "output_type": "stream",
     "text": [
      "calculate period: 50\n",
      "JCI\n"
     ]
    },
    {
     "name": "stderr",
     "output_type": "stream",
     "text": [
      "C:\\Users\\CHIN\\AppData\\Local\\Temp/ipykernel_416/1045654372.py:93: FutureWarning: Indexing with multiple keys (implicitly converted to a tuple of keys) will be deprecated, use a list instead.\n",
      "  total_port_value = pd.DataFrame(df_init.groupby([df_init.index])['Total_value_todate','close'].sum())\n",
      "C:\\Users\\CHIN\\AppData\\Local\\Temp/ipykernel_416/2026335479.py:25: DeprecationWarning: cafile, capath and cadefault are deprecated, use a custom context instead.\n",
      "  response = urlopen(url, cafile=certifi.where())\n"
     ]
    },
    {
     "name": "stdout",
     "output_type": "stream",
     "text": [
      "calculate period: 50\n",
      "JPM\n"
     ]
    },
    {
     "name": "stderr",
     "output_type": "stream",
     "text": [
      "C:\\Users\\CHIN\\AppData\\Local\\Temp/ipykernel_416/1045654372.py:93: FutureWarning: Indexing with multiple keys (implicitly converted to a tuple of keys) will be deprecated, use a list instead.\n",
      "  total_port_value = pd.DataFrame(df_init.groupby([df_init.index])['Total_value_todate','close'].sum())\n",
      "C:\\Users\\CHIN\\AppData\\Local\\Temp/ipykernel_416/2026335479.py:25: DeprecationWarning: cafile, capath and cadefault are deprecated, use a custom context instead.\n",
      "  response = urlopen(url, cafile=certifi.where())\n"
     ]
    },
    {
     "name": "stdout",
     "output_type": "stream",
     "text": [
      "calculate period: 50\n",
      "JNPR\n"
     ]
    },
    {
     "name": "stderr",
     "output_type": "stream",
     "text": [
      "C:\\Users\\CHIN\\AppData\\Local\\Temp/ipykernel_416/1045654372.py:93: FutureWarning: Indexing with multiple keys (implicitly converted to a tuple of keys) will be deprecated, use a list instead.\n",
      "  total_port_value = pd.DataFrame(df_init.groupby([df_init.index])['Total_value_todate','close'].sum())\n",
      "C:\\Users\\CHIN\\AppData\\Local\\Temp/ipykernel_416/2026335479.py:25: DeprecationWarning: cafile, capath and cadefault are deprecated, use a custom context instead.\n",
      "  response = urlopen(url, cafile=certifi.where())\n"
     ]
    },
    {
     "name": "stdout",
     "output_type": "stream",
     "text": [
      "calculate period: 50\n",
      "K\n"
     ]
    },
    {
     "name": "stderr",
     "output_type": "stream",
     "text": [
      "C:\\Users\\CHIN\\AppData\\Local\\Temp/ipykernel_416/1045654372.py:93: FutureWarning: Indexing with multiple keys (implicitly converted to a tuple of keys) will be deprecated, use a list instead.\n",
      "  total_port_value = pd.DataFrame(df_init.groupby([df_init.index])['Total_value_todate','close'].sum())\n",
      "C:\\Users\\CHIN\\AppData\\Local\\Temp/ipykernel_416/2026335479.py:25: DeprecationWarning: cafile, capath and cadefault are deprecated, use a custom context instead.\n",
      "  response = urlopen(url, cafile=certifi.where())\n"
     ]
    },
    {
     "name": "stdout",
     "output_type": "stream",
     "text": [
      "calculate period: 50\n",
      "KVUE\n"
     ]
    },
    {
     "name": "stderr",
     "output_type": "stream",
     "text": [
      "C:\\Users\\CHIN\\AppData\\Local\\Temp/ipykernel_416/1045654372.py:93: FutureWarning: Indexing with multiple keys (implicitly converted to a tuple of keys) will be deprecated, use a list instead.\n",
      "  total_port_value = pd.DataFrame(df_init.groupby([df_init.index])['Total_value_todate','close'].sum())\n",
      "C:\\Users\\CHIN\\AppData\\Local\\Temp/ipykernel_416/2026335479.py:25: DeprecationWarning: cafile, capath and cadefault are deprecated, use a custom context instead.\n",
      "  response = urlopen(url, cafile=certifi.where())\n"
     ]
    },
    {
     "name": "stdout",
     "output_type": "stream",
     "text": [
      "calculate period: 50\n",
      "KDP\n"
     ]
    },
    {
     "name": "stderr",
     "output_type": "stream",
     "text": [
      "C:\\Users\\CHIN\\AppData\\Local\\Temp/ipykernel_416/1045654372.py:93: FutureWarning: Indexing with multiple keys (implicitly converted to a tuple of keys) will be deprecated, use a list instead.\n",
      "  total_port_value = pd.DataFrame(df_init.groupby([df_init.index])['Total_value_todate','close'].sum())\n",
      "C:\\Users\\CHIN\\AppData\\Local\\Temp/ipykernel_416/2026335479.py:25: DeprecationWarning: cafile, capath and cadefault are deprecated, use a custom context instead.\n",
      "  response = urlopen(url, cafile=certifi.where())\n"
     ]
    },
    {
     "name": "stdout",
     "output_type": "stream",
     "text": [
      "calculate period: 50\n",
      "KEY\n"
     ]
    },
    {
     "name": "stderr",
     "output_type": "stream",
     "text": [
      "C:\\Users\\CHIN\\AppData\\Local\\Temp/ipykernel_416/1045654372.py:93: FutureWarning: Indexing with multiple keys (implicitly converted to a tuple of keys) will be deprecated, use a list instead.\n",
      "  total_port_value = pd.DataFrame(df_init.groupby([df_init.index])['Total_value_todate','close'].sum())\n",
      "C:\\Users\\CHIN\\AppData\\Local\\Temp/ipykernel_416/2026335479.py:25: DeprecationWarning: cafile, capath and cadefault are deprecated, use a custom context instead.\n",
      "  response = urlopen(url, cafile=certifi.where())\n"
     ]
    },
    {
     "name": "stdout",
     "output_type": "stream",
     "text": [
      "calculate period: 50\n",
      "KEYS\n"
     ]
    },
    {
     "name": "stderr",
     "output_type": "stream",
     "text": [
      "C:\\Users\\CHIN\\AppData\\Local\\Temp/ipykernel_416/1045654372.py:93: FutureWarning: Indexing with multiple keys (implicitly converted to a tuple of keys) will be deprecated, use a list instead.\n",
      "  total_port_value = pd.DataFrame(df_init.groupby([df_init.index])['Total_value_todate','close'].sum())\n",
      "C:\\Users\\CHIN\\AppData\\Local\\Temp/ipykernel_416/2026335479.py:25: DeprecationWarning: cafile, capath and cadefault are deprecated, use a custom context instead.\n",
      "  response = urlopen(url, cafile=certifi.where())\n"
     ]
    },
    {
     "name": "stdout",
     "output_type": "stream",
     "text": [
      "calculate period: 50\n",
      "KMB\n"
     ]
    },
    {
     "name": "stderr",
     "output_type": "stream",
     "text": [
      "C:\\Users\\CHIN\\AppData\\Local\\Temp/ipykernel_416/1045654372.py:93: FutureWarning: Indexing with multiple keys (implicitly converted to a tuple of keys) will be deprecated, use a list instead.\n",
      "  total_port_value = pd.DataFrame(df_init.groupby([df_init.index])['Total_value_todate','close'].sum())\n",
      "C:\\Users\\CHIN\\AppData\\Local\\Temp/ipykernel_416/2026335479.py:25: DeprecationWarning: cafile, capath and cadefault are deprecated, use a custom context instead.\n",
      "  response = urlopen(url, cafile=certifi.where())\n"
     ]
    },
    {
     "name": "stdout",
     "output_type": "stream",
     "text": [
      "calculate period: 50\n",
      "KIM\n"
     ]
    },
    {
     "name": "stderr",
     "output_type": "stream",
     "text": [
      "C:\\Users\\CHIN\\AppData\\Local\\Temp/ipykernel_416/1045654372.py:93: FutureWarning: Indexing with multiple keys (implicitly converted to a tuple of keys) will be deprecated, use a list instead.\n",
      "  total_port_value = pd.DataFrame(df_init.groupby([df_init.index])['Total_value_todate','close'].sum())\n",
      "C:\\Users\\CHIN\\AppData\\Local\\Temp/ipykernel_416/2026335479.py:25: DeprecationWarning: cafile, capath and cadefault are deprecated, use a custom context instead.\n",
      "  response = urlopen(url, cafile=certifi.where())\n"
     ]
    },
    {
     "name": "stdout",
     "output_type": "stream",
     "text": [
      "calculate period: 50\n",
      "KMI\n"
     ]
    },
    {
     "name": "stderr",
     "output_type": "stream",
     "text": [
      "C:\\Users\\CHIN\\AppData\\Local\\Temp/ipykernel_416/1045654372.py:93: FutureWarning: Indexing with multiple keys (implicitly converted to a tuple of keys) will be deprecated, use a list instead.\n",
      "  total_port_value = pd.DataFrame(df_init.groupby([df_init.index])['Total_value_todate','close'].sum())\n",
      "C:\\Users\\CHIN\\AppData\\Local\\Temp/ipykernel_416/2026335479.py:25: DeprecationWarning: cafile, capath and cadefault are deprecated, use a custom context instead.\n",
      "  response = urlopen(url, cafile=certifi.where())\n"
     ]
    },
    {
     "name": "stdout",
     "output_type": "stream",
     "text": [
      "calculate period: 50\n",
      "KLAC\n"
     ]
    },
    {
     "name": "stderr",
     "output_type": "stream",
     "text": [
      "C:\\Users\\CHIN\\AppData\\Local\\Temp/ipykernel_416/1045654372.py:93: FutureWarning: Indexing with multiple keys (implicitly converted to a tuple of keys) will be deprecated, use a list instead.\n",
      "  total_port_value = pd.DataFrame(df_init.groupby([df_init.index])['Total_value_todate','close'].sum())\n",
      "C:\\Users\\CHIN\\AppData\\Local\\Temp/ipykernel_416/2026335479.py:25: DeprecationWarning: cafile, capath and cadefault are deprecated, use a custom context instead.\n",
      "  response = urlopen(url, cafile=certifi.where())\n"
     ]
    },
    {
     "name": "stdout",
     "output_type": "stream",
     "text": [
      "calculate period: 50\n",
      "KHC\n"
     ]
    },
    {
     "name": "stderr",
     "output_type": "stream",
     "text": [
      "C:\\Users\\CHIN\\AppData\\Local\\Temp/ipykernel_416/1045654372.py:93: FutureWarning: Indexing with multiple keys (implicitly converted to a tuple of keys) will be deprecated, use a list instead.\n",
      "  total_port_value = pd.DataFrame(df_init.groupby([df_init.index])['Total_value_todate','close'].sum())\n",
      "C:\\Users\\CHIN\\AppData\\Local\\Temp/ipykernel_416/2026335479.py:25: DeprecationWarning: cafile, capath and cadefault are deprecated, use a custom context instead.\n",
      "  response = urlopen(url, cafile=certifi.where())\n"
     ]
    },
    {
     "name": "stdout",
     "output_type": "stream",
     "text": [
      "calculate period: 50\n",
      "KR\n"
     ]
    },
    {
     "name": "stderr",
     "output_type": "stream",
     "text": [
      "C:\\Users\\CHIN\\AppData\\Local\\Temp/ipykernel_416/1045654372.py:93: FutureWarning: Indexing with multiple keys (implicitly converted to a tuple of keys) will be deprecated, use a list instead.\n",
      "  total_port_value = pd.DataFrame(df_init.groupby([df_init.index])['Total_value_todate','close'].sum())\n",
      "C:\\Users\\CHIN\\AppData\\Local\\Temp/ipykernel_416/2026335479.py:25: DeprecationWarning: cafile, capath and cadefault are deprecated, use a custom context instead.\n",
      "  response = urlopen(url, cafile=certifi.where())\n"
     ]
    },
    {
     "name": "stdout",
     "output_type": "stream",
     "text": [
      "calculate period: 50\n",
      "LHX\n"
     ]
    },
    {
     "name": "stderr",
     "output_type": "stream",
     "text": [
      "C:\\Users\\CHIN\\AppData\\Local\\Temp/ipykernel_416/1045654372.py:93: FutureWarning: Indexing with multiple keys (implicitly converted to a tuple of keys) will be deprecated, use a list instead.\n",
      "  total_port_value = pd.DataFrame(df_init.groupby([df_init.index])['Total_value_todate','close'].sum())\n",
      "C:\\Users\\CHIN\\AppData\\Local\\Temp/ipykernel_416/2026335479.py:25: DeprecationWarning: cafile, capath and cadefault are deprecated, use a custom context instead.\n",
      "  response = urlopen(url, cafile=certifi.where())\n"
     ]
    },
    {
     "name": "stdout",
     "output_type": "stream",
     "text": [
      "calculate period: 50\n",
      "LH\n"
     ]
    },
    {
     "name": "stderr",
     "output_type": "stream",
     "text": [
      "C:\\Users\\CHIN\\AppData\\Local\\Temp/ipykernel_416/1045654372.py:93: FutureWarning: Indexing with multiple keys (implicitly converted to a tuple of keys) will be deprecated, use a list instead.\n",
      "  total_port_value = pd.DataFrame(df_init.groupby([df_init.index])['Total_value_todate','close'].sum())\n",
      "C:\\Users\\CHIN\\AppData\\Local\\Temp/ipykernel_416/2026335479.py:25: DeprecationWarning: cafile, capath and cadefault are deprecated, use a custom context instead.\n",
      "  response = urlopen(url, cafile=certifi.where())\n"
     ]
    },
    {
     "name": "stdout",
     "output_type": "stream",
     "text": [
      "calculate period: 50\n",
      "LRCX\n"
     ]
    },
    {
     "name": "stderr",
     "output_type": "stream",
     "text": [
      "C:\\Users\\CHIN\\AppData\\Local\\Temp/ipykernel_416/1045654372.py:93: FutureWarning: Indexing with multiple keys (implicitly converted to a tuple of keys) will be deprecated, use a list instead.\n",
      "  total_port_value = pd.DataFrame(df_init.groupby([df_init.index])['Total_value_todate','close'].sum())\n",
      "C:\\Users\\CHIN\\AppData\\Local\\Temp/ipykernel_416/2026335479.py:25: DeprecationWarning: cafile, capath and cadefault are deprecated, use a custom context instead.\n",
      "  response = urlopen(url, cafile=certifi.where())\n"
     ]
    },
    {
     "name": "stdout",
     "output_type": "stream",
     "text": [
      "calculate period: 50\n",
      "LW\n"
     ]
    },
    {
     "name": "stderr",
     "output_type": "stream",
     "text": [
      "C:\\Users\\CHIN\\AppData\\Local\\Temp/ipykernel_416/1045654372.py:93: FutureWarning: Indexing with multiple keys (implicitly converted to a tuple of keys) will be deprecated, use a list instead.\n",
      "  total_port_value = pd.DataFrame(df_init.groupby([df_init.index])['Total_value_todate','close'].sum())\n",
      "C:\\Users\\CHIN\\AppData\\Local\\Temp/ipykernel_416/2026335479.py:25: DeprecationWarning: cafile, capath and cadefault are deprecated, use a custom context instead.\n",
      "  response = urlopen(url, cafile=certifi.where())\n"
     ]
    },
    {
     "name": "stdout",
     "output_type": "stream",
     "text": [
      "calculate period: 50\n",
      "LVS\n"
     ]
    },
    {
     "name": "stderr",
     "output_type": "stream",
     "text": [
      "C:\\Users\\CHIN\\AppData\\Local\\Temp/ipykernel_416/1045654372.py:93: FutureWarning: Indexing with multiple keys (implicitly converted to a tuple of keys) will be deprecated, use a list instead.\n",
      "  total_port_value = pd.DataFrame(df_init.groupby([df_init.index])['Total_value_todate','close'].sum())\n",
      "C:\\Users\\CHIN\\AppData\\Local\\Temp/ipykernel_416/2026335479.py:25: DeprecationWarning: cafile, capath and cadefault are deprecated, use a custom context instead.\n",
      "  response = urlopen(url, cafile=certifi.where())\n"
     ]
    },
    {
     "name": "stdout",
     "output_type": "stream",
     "text": [
      "calculate period: 50\n",
      "LDOS\n"
     ]
    },
    {
     "name": "stderr",
     "output_type": "stream",
     "text": [
      "C:\\Users\\CHIN\\AppData\\Local\\Temp/ipykernel_416/1045654372.py:93: FutureWarning: Indexing with multiple keys (implicitly converted to a tuple of keys) will be deprecated, use a list instead.\n",
      "  total_port_value = pd.DataFrame(df_init.groupby([df_init.index])['Total_value_todate','close'].sum())\n",
      "C:\\Users\\CHIN\\AppData\\Local\\Temp/ipykernel_416/2026335479.py:25: DeprecationWarning: cafile, capath and cadefault are deprecated, use a custom context instead.\n",
      "  response = urlopen(url, cafile=certifi.where())\n"
     ]
    },
    {
     "name": "stdout",
     "output_type": "stream",
     "text": [
      "calculate period: 50\n",
      "LEN\n"
     ]
    },
    {
     "name": "stderr",
     "output_type": "stream",
     "text": [
      "C:\\Users\\CHIN\\AppData\\Local\\Temp/ipykernel_416/1045654372.py:93: FutureWarning: Indexing with multiple keys (implicitly converted to a tuple of keys) will be deprecated, use a list instead.\n",
      "  total_port_value = pd.DataFrame(df_init.groupby([df_init.index])['Total_value_todate','close'].sum())\n",
      "C:\\Users\\CHIN\\AppData\\Local\\Temp/ipykernel_416/2026335479.py:25: DeprecationWarning: cafile, capath and cadefault are deprecated, use a custom context instead.\n",
      "  response = urlopen(url, cafile=certifi.where())\n"
     ]
    },
    {
     "name": "stdout",
     "output_type": "stream",
     "text": [
      "calculate period: 50\n",
      "LIN\n"
     ]
    },
    {
     "name": "stderr",
     "output_type": "stream",
     "text": [
      "C:\\Users\\CHIN\\AppData\\Local\\Temp/ipykernel_416/1045654372.py:93: FutureWarning: Indexing with multiple keys (implicitly converted to a tuple of keys) will be deprecated, use a list instead.\n",
      "  total_port_value = pd.DataFrame(df_init.groupby([df_init.index])['Total_value_todate','close'].sum())\n",
      "C:\\Users\\CHIN\\AppData\\Local\\Temp/ipykernel_416/2026335479.py:25: DeprecationWarning: cafile, capath and cadefault are deprecated, use a custom context instead.\n",
      "  response = urlopen(url, cafile=certifi.where())\n"
     ]
    },
    {
     "name": "stdout",
     "output_type": "stream",
     "text": [
      "calculate period: 50\n",
      "LYV\n"
     ]
    },
    {
     "name": "stderr",
     "output_type": "stream",
     "text": [
      "C:\\Users\\CHIN\\AppData\\Local\\Temp/ipykernel_416/1045654372.py:93: FutureWarning: Indexing with multiple keys (implicitly converted to a tuple of keys) will be deprecated, use a list instead.\n",
      "  total_port_value = pd.DataFrame(df_init.groupby([df_init.index])['Total_value_todate','close'].sum())\n",
      "C:\\Users\\CHIN\\AppData\\Local\\Temp/ipykernel_416/2026335479.py:25: DeprecationWarning: cafile, capath and cadefault are deprecated, use a custom context instead.\n",
      "  response = urlopen(url, cafile=certifi.where())\n"
     ]
    },
    {
     "name": "stdout",
     "output_type": "stream",
     "text": [
      "calculate period: 50\n",
      "LKQ\n"
     ]
    },
    {
     "name": "stderr",
     "output_type": "stream",
     "text": [
      "C:\\Users\\CHIN\\AppData\\Local\\Temp/ipykernel_416/1045654372.py:93: FutureWarning: Indexing with multiple keys (implicitly converted to a tuple of keys) will be deprecated, use a list instead.\n",
      "  total_port_value = pd.DataFrame(df_init.groupby([df_init.index])['Total_value_todate','close'].sum())\n",
      "C:\\Users\\CHIN\\AppData\\Local\\Temp/ipykernel_416/2026335479.py:25: DeprecationWarning: cafile, capath and cadefault are deprecated, use a custom context instead.\n",
      "  response = urlopen(url, cafile=certifi.where())\n"
     ]
    },
    {
     "name": "stdout",
     "output_type": "stream",
     "text": [
      "calculate period: 50\n",
      "LMT\n"
     ]
    },
    {
     "name": "stderr",
     "output_type": "stream",
     "text": [
      "C:\\Users\\CHIN\\AppData\\Local\\Temp/ipykernel_416/1045654372.py:93: FutureWarning: Indexing with multiple keys (implicitly converted to a tuple of keys) will be deprecated, use a list instead.\n",
      "  total_port_value = pd.DataFrame(df_init.groupby([df_init.index])['Total_value_todate','close'].sum())\n",
      "C:\\Users\\CHIN\\AppData\\Local\\Temp/ipykernel_416/2026335479.py:25: DeprecationWarning: cafile, capath and cadefault are deprecated, use a custom context instead.\n",
      "  response = urlopen(url, cafile=certifi.where())\n"
     ]
    },
    {
     "name": "stdout",
     "output_type": "stream",
     "text": [
      "calculate period: 50\n",
      "L\n"
     ]
    },
    {
     "name": "stderr",
     "output_type": "stream",
     "text": [
      "C:\\Users\\CHIN\\AppData\\Local\\Temp/ipykernel_416/1045654372.py:93: FutureWarning: Indexing with multiple keys (implicitly converted to a tuple of keys) will be deprecated, use a list instead.\n",
      "  total_port_value = pd.DataFrame(df_init.groupby([df_init.index])['Total_value_todate','close'].sum())\n",
      "C:\\Users\\CHIN\\AppData\\Local\\Temp/ipykernel_416/2026335479.py:25: DeprecationWarning: cafile, capath and cadefault are deprecated, use a custom context instead.\n",
      "  response = urlopen(url, cafile=certifi.where())\n"
     ]
    },
    {
     "name": "stdout",
     "output_type": "stream",
     "text": [
      "calculate period: 50\n",
      "LOW\n"
     ]
    },
    {
     "name": "stderr",
     "output_type": "stream",
     "text": [
      "C:\\Users\\CHIN\\AppData\\Local\\Temp/ipykernel_416/1045654372.py:93: FutureWarning: Indexing with multiple keys (implicitly converted to a tuple of keys) will be deprecated, use a list instead.\n",
      "  total_port_value = pd.DataFrame(df_init.groupby([df_init.index])['Total_value_todate','close'].sum())\n",
      "C:\\Users\\CHIN\\AppData\\Local\\Temp/ipykernel_416/2026335479.py:25: DeprecationWarning: cafile, capath and cadefault are deprecated, use a custom context instead.\n",
      "  response = urlopen(url, cafile=certifi.where())\n"
     ]
    },
    {
     "name": "stdout",
     "output_type": "stream",
     "text": [
      "calculate period: 50\n",
      "LULU\n"
     ]
    },
    {
     "name": "stderr",
     "output_type": "stream",
     "text": [
      "C:\\Users\\CHIN\\AppData\\Local\\Temp/ipykernel_416/1045654372.py:93: FutureWarning: Indexing with multiple keys (implicitly converted to a tuple of keys) will be deprecated, use a list instead.\n",
      "  total_port_value = pd.DataFrame(df_init.groupby([df_init.index])['Total_value_todate','close'].sum())\n",
      "C:\\Users\\CHIN\\AppData\\Local\\Temp/ipykernel_416/2026335479.py:25: DeprecationWarning: cafile, capath and cadefault are deprecated, use a custom context instead.\n",
      "  response = urlopen(url, cafile=certifi.where())\n"
     ]
    },
    {
     "name": "stdout",
     "output_type": "stream",
     "text": [
      "calculate period: 50\n",
      "LYB\n"
     ]
    },
    {
     "name": "stderr",
     "output_type": "stream",
     "text": [
      "C:\\Users\\CHIN\\AppData\\Local\\Temp/ipykernel_416/1045654372.py:93: FutureWarning: Indexing with multiple keys (implicitly converted to a tuple of keys) will be deprecated, use a list instead.\n",
      "  total_port_value = pd.DataFrame(df_init.groupby([df_init.index])['Total_value_todate','close'].sum())\n",
      "C:\\Users\\CHIN\\AppData\\Local\\Temp/ipykernel_416/2026335479.py:25: DeprecationWarning: cafile, capath and cadefault are deprecated, use a custom context instead.\n",
      "  response = urlopen(url, cafile=certifi.where())\n"
     ]
    },
    {
     "name": "stdout",
     "output_type": "stream",
     "text": [
      "calculate period: 50\n",
      "MTB\n"
     ]
    },
    {
     "name": "stderr",
     "output_type": "stream",
     "text": [
      "C:\\Users\\CHIN\\AppData\\Local\\Temp/ipykernel_416/1045654372.py:93: FutureWarning: Indexing with multiple keys (implicitly converted to a tuple of keys) will be deprecated, use a list instead.\n",
      "  total_port_value = pd.DataFrame(df_init.groupby([df_init.index])['Total_value_todate','close'].sum())\n",
      "C:\\Users\\CHIN\\AppData\\Local\\Temp/ipykernel_416/2026335479.py:25: DeprecationWarning: cafile, capath and cadefault are deprecated, use a custom context instead.\n",
      "  response = urlopen(url, cafile=certifi.where())\n"
     ]
    },
    {
     "name": "stdout",
     "output_type": "stream",
     "text": [
      "calculate period: 50\n",
      "MRO\n"
     ]
    },
    {
     "name": "stderr",
     "output_type": "stream",
     "text": [
      "C:\\Users\\CHIN\\AppData\\Local\\Temp/ipykernel_416/1045654372.py:93: FutureWarning: Indexing with multiple keys (implicitly converted to a tuple of keys) will be deprecated, use a list instead.\n",
      "  total_port_value = pd.DataFrame(df_init.groupby([df_init.index])['Total_value_todate','close'].sum())\n",
      "C:\\Users\\CHIN\\AppData\\Local\\Temp/ipykernel_416/2026335479.py:25: DeprecationWarning: cafile, capath and cadefault are deprecated, use a custom context instead.\n",
      "  response = urlopen(url, cafile=certifi.where())\n"
     ]
    },
    {
     "name": "stdout",
     "output_type": "stream",
     "text": [
      "calculate period: 50\n",
      "MPC\n"
     ]
    },
    {
     "name": "stderr",
     "output_type": "stream",
     "text": [
      "C:\\Users\\CHIN\\AppData\\Local\\Temp/ipykernel_416/1045654372.py:93: FutureWarning: Indexing with multiple keys (implicitly converted to a tuple of keys) will be deprecated, use a list instead.\n",
      "  total_port_value = pd.DataFrame(df_init.groupby([df_init.index])['Total_value_todate','close'].sum())\n",
      "C:\\Users\\CHIN\\AppData\\Local\\Temp/ipykernel_416/2026335479.py:25: DeprecationWarning: cafile, capath and cadefault are deprecated, use a custom context instead.\n",
      "  response = urlopen(url, cafile=certifi.where())\n"
     ]
    },
    {
     "name": "stdout",
     "output_type": "stream",
     "text": [
      "calculate period: 50\n",
      "MKTX\n"
     ]
    },
    {
     "name": "stderr",
     "output_type": "stream",
     "text": [
      "C:\\Users\\CHIN\\AppData\\Local\\Temp/ipykernel_416/1045654372.py:93: FutureWarning: Indexing with multiple keys (implicitly converted to a tuple of keys) will be deprecated, use a list instead.\n",
      "  total_port_value = pd.DataFrame(df_init.groupby([df_init.index])['Total_value_todate','close'].sum())\n",
      "C:\\Users\\CHIN\\AppData\\Local\\Temp/ipykernel_416/2026335479.py:25: DeprecationWarning: cafile, capath and cadefault are deprecated, use a custom context instead.\n",
      "  response = urlopen(url, cafile=certifi.where())\n"
     ]
    },
    {
     "name": "stdout",
     "output_type": "stream",
     "text": [
      "calculate period: 50\n",
      "MAR\n"
     ]
    },
    {
     "name": "stderr",
     "output_type": "stream",
     "text": [
      "C:\\Users\\CHIN\\AppData\\Local\\Temp/ipykernel_416/1045654372.py:93: FutureWarning: Indexing with multiple keys (implicitly converted to a tuple of keys) will be deprecated, use a list instead.\n",
      "  total_port_value = pd.DataFrame(df_init.groupby([df_init.index])['Total_value_todate','close'].sum())\n",
      "C:\\Users\\CHIN\\AppData\\Local\\Temp/ipykernel_416/2026335479.py:25: DeprecationWarning: cafile, capath and cadefault are deprecated, use a custom context instead.\n",
      "  response = urlopen(url, cafile=certifi.where())\n"
     ]
    },
    {
     "name": "stdout",
     "output_type": "stream",
     "text": [
      "calculate period: 50\n",
      "MMC\n"
     ]
    },
    {
     "name": "stderr",
     "output_type": "stream",
     "text": [
      "C:\\Users\\CHIN\\AppData\\Local\\Temp/ipykernel_416/1045654372.py:93: FutureWarning: Indexing with multiple keys (implicitly converted to a tuple of keys) will be deprecated, use a list instead.\n",
      "  total_port_value = pd.DataFrame(df_init.groupby([df_init.index])['Total_value_todate','close'].sum())\n",
      "C:\\Users\\CHIN\\AppData\\Local\\Temp/ipykernel_416/2026335479.py:25: DeprecationWarning: cafile, capath and cadefault are deprecated, use a custom context instead.\n",
      "  response = urlopen(url, cafile=certifi.where())\n"
     ]
    },
    {
     "name": "stdout",
     "output_type": "stream",
     "text": [
      "calculate period: 50\n",
      "MLM\n"
     ]
    },
    {
     "name": "stderr",
     "output_type": "stream",
     "text": [
      "C:\\Users\\CHIN\\AppData\\Local\\Temp/ipykernel_416/1045654372.py:93: FutureWarning: Indexing with multiple keys (implicitly converted to a tuple of keys) will be deprecated, use a list instead.\n",
      "  total_port_value = pd.DataFrame(df_init.groupby([df_init.index])['Total_value_todate','close'].sum())\n",
      "C:\\Users\\CHIN\\AppData\\Local\\Temp/ipykernel_416/2026335479.py:25: DeprecationWarning: cafile, capath and cadefault are deprecated, use a custom context instead.\n",
      "  response = urlopen(url, cafile=certifi.where())\n"
     ]
    },
    {
     "name": "stdout",
     "output_type": "stream",
     "text": [
      "calculate period: 50\n",
      "MAS\n"
     ]
    },
    {
     "name": "stderr",
     "output_type": "stream",
     "text": [
      "C:\\Users\\CHIN\\AppData\\Local\\Temp/ipykernel_416/1045654372.py:93: FutureWarning: Indexing with multiple keys (implicitly converted to a tuple of keys) will be deprecated, use a list instead.\n",
      "  total_port_value = pd.DataFrame(df_init.groupby([df_init.index])['Total_value_todate','close'].sum())\n",
      "C:\\Users\\CHIN\\AppData\\Local\\Temp/ipykernel_416/2026335479.py:25: DeprecationWarning: cafile, capath and cadefault are deprecated, use a custom context instead.\n",
      "  response = urlopen(url, cafile=certifi.where())\n"
     ]
    },
    {
     "name": "stdout",
     "output_type": "stream",
     "text": [
      "calculate period: 50\n",
      "MA\n"
     ]
    },
    {
     "name": "stderr",
     "output_type": "stream",
     "text": [
      "C:\\Users\\CHIN\\AppData\\Local\\Temp/ipykernel_416/1045654372.py:93: FutureWarning: Indexing with multiple keys (implicitly converted to a tuple of keys) will be deprecated, use a list instead.\n",
      "  total_port_value = pd.DataFrame(df_init.groupby([df_init.index])['Total_value_todate','close'].sum())\n",
      "C:\\Users\\CHIN\\AppData\\Local\\Temp/ipykernel_416/2026335479.py:25: DeprecationWarning: cafile, capath and cadefault are deprecated, use a custom context instead.\n",
      "  response = urlopen(url, cafile=certifi.where())\n"
     ]
    },
    {
     "name": "stdout",
     "output_type": "stream",
     "text": [
      "calculate period: 50\n",
      "MTCH\n"
     ]
    },
    {
     "name": "stderr",
     "output_type": "stream",
     "text": [
      "C:\\Users\\CHIN\\AppData\\Local\\Temp/ipykernel_416/1045654372.py:93: FutureWarning: Indexing with multiple keys (implicitly converted to a tuple of keys) will be deprecated, use a list instead.\n",
      "  total_port_value = pd.DataFrame(df_init.groupby([df_init.index])['Total_value_todate','close'].sum())\n",
      "C:\\Users\\CHIN\\AppData\\Local\\Temp/ipykernel_416/2026335479.py:25: DeprecationWarning: cafile, capath and cadefault are deprecated, use a custom context instead.\n",
      "  response = urlopen(url, cafile=certifi.where())\n"
     ]
    },
    {
     "name": "stdout",
     "output_type": "stream",
     "text": [
      "calculate period: 50\n",
      "MKC\n"
     ]
    },
    {
     "name": "stderr",
     "output_type": "stream",
     "text": [
      "C:\\Users\\CHIN\\AppData\\Local\\Temp/ipykernel_416/1045654372.py:93: FutureWarning: Indexing with multiple keys (implicitly converted to a tuple of keys) will be deprecated, use a list instead.\n",
      "  total_port_value = pd.DataFrame(df_init.groupby([df_init.index])['Total_value_todate','close'].sum())\n",
      "C:\\Users\\CHIN\\AppData\\Local\\Temp/ipykernel_416/2026335479.py:25: DeprecationWarning: cafile, capath and cadefault are deprecated, use a custom context instead.\n",
      "  response = urlopen(url, cafile=certifi.where())\n"
     ]
    },
    {
     "name": "stdout",
     "output_type": "stream",
     "text": [
      "calculate period: 50\n",
      "MCD\n"
     ]
    },
    {
     "name": "stderr",
     "output_type": "stream",
     "text": [
      "C:\\Users\\CHIN\\AppData\\Local\\Temp/ipykernel_416/1045654372.py:93: FutureWarning: Indexing with multiple keys (implicitly converted to a tuple of keys) will be deprecated, use a list instead.\n",
      "  total_port_value = pd.DataFrame(df_init.groupby([df_init.index])['Total_value_todate','close'].sum())\n",
      "C:\\Users\\CHIN\\AppData\\Local\\Temp/ipykernel_416/2026335479.py:25: DeprecationWarning: cafile, capath and cadefault are deprecated, use a custom context instead.\n",
      "  response = urlopen(url, cafile=certifi.where())\n"
     ]
    },
    {
     "name": "stdout",
     "output_type": "stream",
     "text": [
      "calculate period: 50\n",
      "MCK\n"
     ]
    },
    {
     "name": "stderr",
     "output_type": "stream",
     "text": [
      "C:\\Users\\CHIN\\AppData\\Local\\Temp/ipykernel_416/1045654372.py:93: FutureWarning: Indexing with multiple keys (implicitly converted to a tuple of keys) will be deprecated, use a list instead.\n",
      "  total_port_value = pd.DataFrame(df_init.groupby([df_init.index])['Total_value_todate','close'].sum())\n",
      "C:\\Users\\CHIN\\AppData\\Local\\Temp/ipykernel_416/2026335479.py:25: DeprecationWarning: cafile, capath and cadefault are deprecated, use a custom context instead.\n",
      "  response = urlopen(url, cafile=certifi.where())\n"
     ]
    },
    {
     "name": "stdout",
     "output_type": "stream",
     "text": [
      "calculate period: 50\n",
      "MDT\n"
     ]
    },
    {
     "name": "stderr",
     "output_type": "stream",
     "text": [
      "C:\\Users\\CHIN\\AppData\\Local\\Temp/ipykernel_416/1045654372.py:93: FutureWarning: Indexing with multiple keys (implicitly converted to a tuple of keys) will be deprecated, use a list instead.\n",
      "  total_port_value = pd.DataFrame(df_init.groupby([df_init.index])['Total_value_todate','close'].sum())\n",
      "C:\\Users\\CHIN\\AppData\\Local\\Temp/ipykernel_416/2026335479.py:25: DeprecationWarning: cafile, capath and cadefault are deprecated, use a custom context instead.\n",
      "  response = urlopen(url, cafile=certifi.where())\n"
     ]
    },
    {
     "name": "stdout",
     "output_type": "stream",
     "text": [
      "calculate period: 50\n",
      "MRK\n"
     ]
    },
    {
     "name": "stderr",
     "output_type": "stream",
     "text": [
      "C:\\Users\\CHIN\\AppData\\Local\\Temp/ipykernel_416/1045654372.py:93: FutureWarning: Indexing with multiple keys (implicitly converted to a tuple of keys) will be deprecated, use a list instead.\n",
      "  total_port_value = pd.DataFrame(df_init.groupby([df_init.index])['Total_value_todate','close'].sum())\n",
      "C:\\Users\\CHIN\\AppData\\Local\\Temp/ipykernel_416/2026335479.py:25: DeprecationWarning: cafile, capath and cadefault are deprecated, use a custom context instead.\n",
      "  response = urlopen(url, cafile=certifi.where())\n"
     ]
    },
    {
     "name": "stdout",
     "output_type": "stream",
     "text": [
      "calculate period: 50\n",
      "META\n"
     ]
    },
    {
     "name": "stderr",
     "output_type": "stream",
     "text": [
      "C:\\Users\\CHIN\\AppData\\Local\\Temp/ipykernel_416/1045654372.py:93: FutureWarning: Indexing with multiple keys (implicitly converted to a tuple of keys) will be deprecated, use a list instead.\n",
      "  total_port_value = pd.DataFrame(df_init.groupby([df_init.index])['Total_value_todate','close'].sum())\n",
      "C:\\Users\\CHIN\\AppData\\Local\\Temp/ipykernel_416/2026335479.py:25: DeprecationWarning: cafile, capath and cadefault are deprecated, use a custom context instead.\n",
      "  response = urlopen(url, cafile=certifi.where())\n"
     ]
    },
    {
     "name": "stdout",
     "output_type": "stream",
     "text": [
      "calculate period: 50\n",
      "MET\n"
     ]
    },
    {
     "name": "stderr",
     "output_type": "stream",
     "text": [
      "C:\\Users\\CHIN\\AppData\\Local\\Temp/ipykernel_416/1045654372.py:93: FutureWarning: Indexing with multiple keys (implicitly converted to a tuple of keys) will be deprecated, use a list instead.\n",
      "  total_port_value = pd.DataFrame(df_init.groupby([df_init.index])['Total_value_todate','close'].sum())\n",
      "C:\\Users\\CHIN\\AppData\\Local\\Temp/ipykernel_416/2026335479.py:25: DeprecationWarning: cafile, capath and cadefault are deprecated, use a custom context instead.\n",
      "  response = urlopen(url, cafile=certifi.where())\n"
     ]
    },
    {
     "name": "stdout",
     "output_type": "stream",
     "text": [
      "calculate period: 50\n",
      "MTD\n"
     ]
    },
    {
     "name": "stderr",
     "output_type": "stream",
     "text": [
      "C:\\Users\\CHIN\\AppData\\Local\\Temp/ipykernel_416/1045654372.py:93: FutureWarning: Indexing with multiple keys (implicitly converted to a tuple of keys) will be deprecated, use a list instead.\n",
      "  total_port_value = pd.DataFrame(df_init.groupby([df_init.index])['Total_value_todate','close'].sum())\n",
      "C:\\Users\\CHIN\\AppData\\Local\\Temp/ipykernel_416/2026335479.py:25: DeprecationWarning: cafile, capath and cadefault are deprecated, use a custom context instead.\n",
      "  response = urlopen(url, cafile=certifi.where())\n"
     ]
    },
    {
     "name": "stdout",
     "output_type": "stream",
     "text": [
      "calculate period: 50\n",
      "MGM\n"
     ]
    },
    {
     "name": "stderr",
     "output_type": "stream",
     "text": [
      "C:\\Users\\CHIN\\AppData\\Local\\Temp/ipykernel_416/1045654372.py:93: FutureWarning: Indexing with multiple keys (implicitly converted to a tuple of keys) will be deprecated, use a list instead.\n",
      "  total_port_value = pd.DataFrame(df_init.groupby([df_init.index])['Total_value_todate','close'].sum())\n",
      "C:\\Users\\CHIN\\AppData\\Local\\Temp/ipykernel_416/2026335479.py:25: DeprecationWarning: cafile, capath and cadefault are deprecated, use a custom context instead.\n",
      "  response = urlopen(url, cafile=certifi.where())\n"
     ]
    },
    {
     "name": "stdout",
     "output_type": "stream",
     "text": [
      "calculate period: 50\n",
      "MCHP\n"
     ]
    },
    {
     "name": "stderr",
     "output_type": "stream",
     "text": [
      "C:\\Users\\CHIN\\AppData\\Local\\Temp/ipykernel_416/1045654372.py:93: FutureWarning: Indexing with multiple keys (implicitly converted to a tuple of keys) will be deprecated, use a list instead.\n",
      "  total_port_value = pd.DataFrame(df_init.groupby([df_init.index])['Total_value_todate','close'].sum())\n",
      "C:\\Users\\CHIN\\AppData\\Local\\Temp/ipykernel_416/2026335479.py:25: DeprecationWarning: cafile, capath and cadefault are deprecated, use a custom context instead.\n",
      "  response = urlopen(url, cafile=certifi.where())\n"
     ]
    },
    {
     "name": "stdout",
     "output_type": "stream",
     "text": [
      "calculate period: 50\n",
      "MU\n"
     ]
    },
    {
     "name": "stderr",
     "output_type": "stream",
     "text": [
      "C:\\Users\\CHIN\\AppData\\Local\\Temp/ipykernel_416/1045654372.py:93: FutureWarning: Indexing with multiple keys (implicitly converted to a tuple of keys) will be deprecated, use a list instead.\n",
      "  total_port_value = pd.DataFrame(df_init.groupby([df_init.index])['Total_value_todate','close'].sum())\n",
      "C:\\Users\\CHIN\\AppData\\Local\\Temp/ipykernel_416/2026335479.py:25: DeprecationWarning: cafile, capath and cadefault are deprecated, use a custom context instead.\n",
      "  response = urlopen(url, cafile=certifi.where())\n"
     ]
    },
    {
     "name": "stdout",
     "output_type": "stream",
     "text": [
      "calculate period: 50\n",
      "MSFT\n"
     ]
    },
    {
     "name": "stderr",
     "output_type": "stream",
     "text": [
      "C:\\Users\\CHIN\\AppData\\Local\\Temp/ipykernel_416/1045654372.py:93: FutureWarning: Indexing with multiple keys (implicitly converted to a tuple of keys) will be deprecated, use a list instead.\n",
      "  total_port_value = pd.DataFrame(df_init.groupby([df_init.index])['Total_value_todate','close'].sum())\n",
      "C:\\Users\\CHIN\\AppData\\Local\\Temp/ipykernel_416/2026335479.py:25: DeprecationWarning: cafile, capath and cadefault are deprecated, use a custom context instead.\n",
      "  response = urlopen(url, cafile=certifi.where())\n"
     ]
    },
    {
     "name": "stdout",
     "output_type": "stream",
     "text": [
      "calculate period: 50\n",
      "MAA\n"
     ]
    },
    {
     "name": "stderr",
     "output_type": "stream",
     "text": [
      "C:\\Users\\CHIN\\AppData\\Local\\Temp/ipykernel_416/1045654372.py:93: FutureWarning: Indexing with multiple keys (implicitly converted to a tuple of keys) will be deprecated, use a list instead.\n",
      "  total_port_value = pd.DataFrame(df_init.groupby([df_init.index])['Total_value_todate','close'].sum())\n",
      "C:\\Users\\CHIN\\AppData\\Local\\Temp/ipykernel_416/2026335479.py:25: DeprecationWarning: cafile, capath and cadefault are deprecated, use a custom context instead.\n",
      "  response = urlopen(url, cafile=certifi.where())\n"
     ]
    },
    {
     "name": "stdout",
     "output_type": "stream",
     "text": [
      "calculate period: 50\n",
      "MRNA\n"
     ]
    },
    {
     "name": "stderr",
     "output_type": "stream",
     "text": [
      "C:\\Users\\CHIN\\AppData\\Local\\Temp/ipykernel_416/1045654372.py:93: FutureWarning: Indexing with multiple keys (implicitly converted to a tuple of keys) will be deprecated, use a list instead.\n",
      "  total_port_value = pd.DataFrame(df_init.groupby([df_init.index])['Total_value_todate','close'].sum())\n",
      "C:\\Users\\CHIN\\AppData\\Local\\Temp/ipykernel_416/2026335479.py:25: DeprecationWarning: cafile, capath and cadefault are deprecated, use a custom context instead.\n",
      "  response = urlopen(url, cafile=certifi.where())\n"
     ]
    },
    {
     "name": "stdout",
     "output_type": "stream",
     "text": [
      "calculate period: 50\n",
      "MHK\n"
     ]
    },
    {
     "name": "stderr",
     "output_type": "stream",
     "text": [
      "C:\\Users\\CHIN\\AppData\\Local\\Temp/ipykernel_416/1045654372.py:93: FutureWarning: Indexing with multiple keys (implicitly converted to a tuple of keys) will be deprecated, use a list instead.\n",
      "  total_port_value = pd.DataFrame(df_init.groupby([df_init.index])['Total_value_todate','close'].sum())\n",
      "C:\\Users\\CHIN\\AppData\\Local\\Temp/ipykernel_416/2026335479.py:25: DeprecationWarning: cafile, capath and cadefault are deprecated, use a custom context instead.\n",
      "  response = urlopen(url, cafile=certifi.where())\n"
     ]
    },
    {
     "name": "stdout",
     "output_type": "stream",
     "text": [
      "calculate period: 50\n",
      "MOH\n"
     ]
    },
    {
     "name": "stderr",
     "output_type": "stream",
     "text": [
      "C:\\Users\\CHIN\\AppData\\Local\\Temp/ipykernel_416/1045654372.py:93: FutureWarning: Indexing with multiple keys (implicitly converted to a tuple of keys) will be deprecated, use a list instead.\n",
      "  total_port_value = pd.DataFrame(df_init.groupby([df_init.index])['Total_value_todate','close'].sum())\n",
      "C:\\Users\\CHIN\\AppData\\Local\\Temp/ipykernel_416/2026335479.py:25: DeprecationWarning: cafile, capath and cadefault are deprecated, use a custom context instead.\n",
      "  response = urlopen(url, cafile=certifi.where())\n"
     ]
    },
    {
     "name": "stdout",
     "output_type": "stream",
     "text": [
      "calculate period: 50\n",
      "TAP\n"
     ]
    },
    {
     "name": "stderr",
     "output_type": "stream",
     "text": [
      "C:\\Users\\CHIN\\AppData\\Local\\Temp/ipykernel_416/1045654372.py:93: FutureWarning: Indexing with multiple keys (implicitly converted to a tuple of keys) will be deprecated, use a list instead.\n",
      "  total_port_value = pd.DataFrame(df_init.groupby([df_init.index])['Total_value_todate','close'].sum())\n",
      "C:\\Users\\CHIN\\AppData\\Local\\Temp/ipykernel_416/2026335479.py:25: DeprecationWarning: cafile, capath and cadefault are deprecated, use a custom context instead.\n",
      "  response = urlopen(url, cafile=certifi.where())\n"
     ]
    },
    {
     "name": "stdout",
     "output_type": "stream",
     "text": [
      "calculate period: 50\n",
      "MDLZ\n"
     ]
    },
    {
     "name": "stderr",
     "output_type": "stream",
     "text": [
      "C:\\Users\\CHIN\\AppData\\Local\\Temp/ipykernel_416/1045654372.py:93: FutureWarning: Indexing with multiple keys (implicitly converted to a tuple of keys) will be deprecated, use a list instead.\n",
      "  total_port_value = pd.DataFrame(df_init.groupby([df_init.index])['Total_value_todate','close'].sum())\n",
      "C:\\Users\\CHIN\\AppData\\Local\\Temp/ipykernel_416/2026335479.py:25: DeprecationWarning: cafile, capath and cadefault are deprecated, use a custom context instead.\n",
      "  response = urlopen(url, cafile=certifi.where())\n"
     ]
    },
    {
     "name": "stdout",
     "output_type": "stream",
     "text": [
      "calculate period: 50\n",
      "MPWR\n"
     ]
    },
    {
     "name": "stderr",
     "output_type": "stream",
     "text": [
      "C:\\Users\\CHIN\\AppData\\Local\\Temp/ipykernel_416/1045654372.py:93: FutureWarning: Indexing with multiple keys (implicitly converted to a tuple of keys) will be deprecated, use a list instead.\n",
      "  total_port_value = pd.DataFrame(df_init.groupby([df_init.index])['Total_value_todate','close'].sum())\n",
      "C:\\Users\\CHIN\\AppData\\Local\\Temp/ipykernel_416/2026335479.py:25: DeprecationWarning: cafile, capath and cadefault are deprecated, use a custom context instead.\n",
      "  response = urlopen(url, cafile=certifi.where())\n"
     ]
    },
    {
     "name": "stdout",
     "output_type": "stream",
     "text": [
      "calculate period: 50\n",
      "MNST\n"
     ]
    },
    {
     "name": "stderr",
     "output_type": "stream",
     "text": [
      "C:\\Users\\CHIN\\AppData\\Local\\Temp/ipykernel_416/1045654372.py:93: FutureWarning: Indexing with multiple keys (implicitly converted to a tuple of keys) will be deprecated, use a list instead.\n",
      "  total_port_value = pd.DataFrame(df_init.groupby([df_init.index])['Total_value_todate','close'].sum())\n",
      "C:\\Users\\CHIN\\AppData\\Local\\Temp/ipykernel_416/2026335479.py:25: DeprecationWarning: cafile, capath and cadefault are deprecated, use a custom context instead.\n",
      "  response = urlopen(url, cafile=certifi.where())\n"
     ]
    },
    {
     "name": "stdout",
     "output_type": "stream",
     "text": [
      "calculate period: 50\n",
      "MCO\n"
     ]
    },
    {
     "name": "stderr",
     "output_type": "stream",
     "text": [
      "C:\\Users\\CHIN\\AppData\\Local\\Temp/ipykernel_416/1045654372.py:93: FutureWarning: Indexing with multiple keys (implicitly converted to a tuple of keys) will be deprecated, use a list instead.\n",
      "  total_port_value = pd.DataFrame(df_init.groupby([df_init.index])['Total_value_todate','close'].sum())\n",
      "C:\\Users\\CHIN\\AppData\\Local\\Temp/ipykernel_416/2026335479.py:25: DeprecationWarning: cafile, capath and cadefault are deprecated, use a custom context instead.\n",
      "  response = urlopen(url, cafile=certifi.where())\n"
     ]
    },
    {
     "name": "stdout",
     "output_type": "stream",
     "text": [
      "calculate period: 50\n",
      "MS\n"
     ]
    },
    {
     "name": "stderr",
     "output_type": "stream",
     "text": [
      "C:\\Users\\CHIN\\AppData\\Local\\Temp/ipykernel_416/1045654372.py:93: FutureWarning: Indexing with multiple keys (implicitly converted to a tuple of keys) will be deprecated, use a list instead.\n",
      "  total_port_value = pd.DataFrame(df_init.groupby([df_init.index])['Total_value_todate','close'].sum())\n",
      "C:\\Users\\CHIN\\AppData\\Local\\Temp/ipykernel_416/2026335479.py:25: DeprecationWarning: cafile, capath and cadefault are deprecated, use a custom context instead.\n",
      "  response = urlopen(url, cafile=certifi.where())\n"
     ]
    },
    {
     "name": "stdout",
     "output_type": "stream",
     "text": [
      "calculate period: 50\n",
      "MOS\n"
     ]
    },
    {
     "name": "stderr",
     "output_type": "stream",
     "text": [
      "C:\\Users\\CHIN\\AppData\\Local\\Temp/ipykernel_416/1045654372.py:93: FutureWarning: Indexing with multiple keys (implicitly converted to a tuple of keys) will be deprecated, use a list instead.\n",
      "  total_port_value = pd.DataFrame(df_init.groupby([df_init.index])['Total_value_todate','close'].sum())\n",
      "C:\\Users\\CHIN\\AppData\\Local\\Temp/ipykernel_416/2026335479.py:25: DeprecationWarning: cafile, capath and cadefault are deprecated, use a custom context instead.\n",
      "  response = urlopen(url, cafile=certifi.where())\n"
     ]
    },
    {
     "name": "stdout",
     "output_type": "stream",
     "text": [
      "calculate period: 50\n",
      "MSI\n"
     ]
    },
    {
     "name": "stderr",
     "output_type": "stream",
     "text": [
      "C:\\Users\\CHIN\\AppData\\Local\\Temp/ipykernel_416/1045654372.py:93: FutureWarning: Indexing with multiple keys (implicitly converted to a tuple of keys) will be deprecated, use a list instead.\n",
      "  total_port_value = pd.DataFrame(df_init.groupby([df_init.index])['Total_value_todate','close'].sum())\n",
      "C:\\Users\\CHIN\\AppData\\Local\\Temp/ipykernel_416/2026335479.py:25: DeprecationWarning: cafile, capath and cadefault are deprecated, use a custom context instead.\n",
      "  response = urlopen(url, cafile=certifi.where())\n"
     ]
    },
    {
     "name": "stdout",
     "output_type": "stream",
     "text": [
      "calculate period: 50\n",
      "MSCI\n"
     ]
    },
    {
     "name": "stderr",
     "output_type": "stream",
     "text": [
      "C:\\Users\\CHIN\\AppData\\Local\\Temp/ipykernel_416/1045654372.py:93: FutureWarning: Indexing with multiple keys (implicitly converted to a tuple of keys) will be deprecated, use a list instead.\n",
      "  total_port_value = pd.DataFrame(df_init.groupby([df_init.index])['Total_value_todate','close'].sum())\n",
      "C:\\Users\\CHIN\\AppData\\Local\\Temp/ipykernel_416/2026335479.py:25: DeprecationWarning: cafile, capath and cadefault are deprecated, use a custom context instead.\n",
      "  response = urlopen(url, cafile=certifi.where())\n"
     ]
    },
    {
     "name": "stdout",
     "output_type": "stream",
     "text": [
      "calculate period: 50\n",
      "NDAQ\n"
     ]
    },
    {
     "name": "stderr",
     "output_type": "stream",
     "text": [
      "C:\\Users\\CHIN\\AppData\\Local\\Temp/ipykernel_416/1045654372.py:93: FutureWarning: Indexing with multiple keys (implicitly converted to a tuple of keys) will be deprecated, use a list instead.\n",
      "  total_port_value = pd.DataFrame(df_init.groupby([df_init.index])['Total_value_todate','close'].sum())\n",
      "C:\\Users\\CHIN\\AppData\\Local\\Temp/ipykernel_416/2026335479.py:25: DeprecationWarning: cafile, capath and cadefault are deprecated, use a custom context instead.\n",
      "  response = urlopen(url, cafile=certifi.where())\n"
     ]
    },
    {
     "name": "stdout",
     "output_type": "stream",
     "text": [
      "calculate period: 50\n",
      "NTAP\n"
     ]
    },
    {
     "name": "stderr",
     "output_type": "stream",
     "text": [
      "C:\\Users\\CHIN\\AppData\\Local\\Temp/ipykernel_416/1045654372.py:93: FutureWarning: Indexing with multiple keys (implicitly converted to a tuple of keys) will be deprecated, use a list instead.\n",
      "  total_port_value = pd.DataFrame(df_init.groupby([df_init.index])['Total_value_todate','close'].sum())\n",
      "C:\\Users\\CHIN\\AppData\\Local\\Temp/ipykernel_416/2026335479.py:25: DeprecationWarning: cafile, capath and cadefault are deprecated, use a custom context instead.\n",
      "  response = urlopen(url, cafile=certifi.where())\n"
     ]
    },
    {
     "name": "stdout",
     "output_type": "stream",
     "text": [
      "calculate period: 50\n",
      "NFLX\n"
     ]
    },
    {
     "name": "stderr",
     "output_type": "stream",
     "text": [
      "C:\\Users\\CHIN\\AppData\\Local\\Temp/ipykernel_416/1045654372.py:93: FutureWarning: Indexing with multiple keys (implicitly converted to a tuple of keys) will be deprecated, use a list instead.\n",
      "  total_port_value = pd.DataFrame(df_init.groupby([df_init.index])['Total_value_todate','close'].sum())\n",
      "C:\\Users\\CHIN\\AppData\\Local\\Temp/ipykernel_416/2026335479.py:25: DeprecationWarning: cafile, capath and cadefault are deprecated, use a custom context instead.\n",
      "  response = urlopen(url, cafile=certifi.where())\n"
     ]
    },
    {
     "name": "stdout",
     "output_type": "stream",
     "text": [
      "calculate period: 50\n",
      "NEM\n"
     ]
    },
    {
     "name": "stderr",
     "output_type": "stream",
     "text": [
      "C:\\Users\\CHIN\\AppData\\Local\\Temp/ipykernel_416/1045654372.py:93: FutureWarning: Indexing with multiple keys (implicitly converted to a tuple of keys) will be deprecated, use a list instead.\n",
      "  total_port_value = pd.DataFrame(df_init.groupby([df_init.index])['Total_value_todate','close'].sum())\n",
      "C:\\Users\\CHIN\\AppData\\Local\\Temp/ipykernel_416/2026335479.py:25: DeprecationWarning: cafile, capath and cadefault are deprecated, use a custom context instead.\n",
      "  response = urlopen(url, cafile=certifi.where())\n"
     ]
    },
    {
     "name": "stdout",
     "output_type": "stream",
     "text": [
      "calculate period: 50\n",
      "NWSA\n"
     ]
    },
    {
     "name": "stderr",
     "output_type": "stream",
     "text": [
      "C:\\Users\\CHIN\\AppData\\Local\\Temp/ipykernel_416/1045654372.py:93: FutureWarning: Indexing with multiple keys (implicitly converted to a tuple of keys) will be deprecated, use a list instead.\n",
      "  total_port_value = pd.DataFrame(df_init.groupby([df_init.index])['Total_value_todate','close'].sum())\n",
      "C:\\Users\\CHIN\\AppData\\Local\\Temp/ipykernel_416/2026335479.py:25: DeprecationWarning: cafile, capath and cadefault are deprecated, use a custom context instead.\n",
      "  response = urlopen(url, cafile=certifi.where())\n"
     ]
    },
    {
     "name": "stdout",
     "output_type": "stream",
     "text": [
      "calculate period: 50\n",
      "NWS\n"
     ]
    },
    {
     "name": "stderr",
     "output_type": "stream",
     "text": [
      "C:\\Users\\CHIN\\AppData\\Local\\Temp/ipykernel_416/1045654372.py:93: FutureWarning: Indexing with multiple keys (implicitly converted to a tuple of keys) will be deprecated, use a list instead.\n",
      "  total_port_value = pd.DataFrame(df_init.groupby([df_init.index])['Total_value_todate','close'].sum())\n",
      "C:\\Users\\CHIN\\AppData\\Local\\Temp/ipykernel_416/2026335479.py:25: DeprecationWarning: cafile, capath and cadefault are deprecated, use a custom context instead.\n",
      "  response = urlopen(url, cafile=certifi.where())\n"
     ]
    },
    {
     "name": "stdout",
     "output_type": "stream",
     "text": [
      "calculate period: 50\n",
      "NEE\n"
     ]
    },
    {
     "name": "stderr",
     "output_type": "stream",
     "text": [
      "C:\\Users\\CHIN\\AppData\\Local\\Temp/ipykernel_416/1045654372.py:93: FutureWarning: Indexing with multiple keys (implicitly converted to a tuple of keys) will be deprecated, use a list instead.\n",
      "  total_port_value = pd.DataFrame(df_init.groupby([df_init.index])['Total_value_todate','close'].sum())\n",
      "C:\\Users\\CHIN\\AppData\\Local\\Temp/ipykernel_416/2026335479.py:25: DeprecationWarning: cafile, capath and cadefault are deprecated, use a custom context instead.\n",
      "  response = urlopen(url, cafile=certifi.where())\n"
     ]
    },
    {
     "name": "stdout",
     "output_type": "stream",
     "text": [
      "calculate period: 50\n",
      "NKE\n"
     ]
    },
    {
     "name": "stderr",
     "output_type": "stream",
     "text": [
      "C:\\Users\\CHIN\\AppData\\Local\\Temp/ipykernel_416/1045654372.py:93: FutureWarning: Indexing with multiple keys (implicitly converted to a tuple of keys) will be deprecated, use a list instead.\n",
      "  total_port_value = pd.DataFrame(df_init.groupby([df_init.index])['Total_value_todate','close'].sum())\n",
      "C:\\Users\\CHIN\\AppData\\Local\\Temp/ipykernel_416/2026335479.py:25: DeprecationWarning: cafile, capath and cadefault are deprecated, use a custom context instead.\n",
      "  response = urlopen(url, cafile=certifi.where())\n"
     ]
    },
    {
     "name": "stdout",
     "output_type": "stream",
     "text": [
      "calculate period: 50\n",
      "NI\n"
     ]
    },
    {
     "name": "stderr",
     "output_type": "stream",
     "text": [
      "C:\\Users\\CHIN\\AppData\\Local\\Temp/ipykernel_416/1045654372.py:93: FutureWarning: Indexing with multiple keys (implicitly converted to a tuple of keys) will be deprecated, use a list instead.\n",
      "  total_port_value = pd.DataFrame(df_init.groupby([df_init.index])['Total_value_todate','close'].sum())\n",
      "C:\\Users\\CHIN\\AppData\\Local\\Temp/ipykernel_416/2026335479.py:25: DeprecationWarning: cafile, capath and cadefault are deprecated, use a custom context instead.\n",
      "  response = urlopen(url, cafile=certifi.where())\n"
     ]
    },
    {
     "name": "stdout",
     "output_type": "stream",
     "text": [
      "calculate period: 50\n",
      "NDSN\n"
     ]
    },
    {
     "name": "stderr",
     "output_type": "stream",
     "text": [
      "C:\\Users\\CHIN\\AppData\\Local\\Temp/ipykernel_416/1045654372.py:93: FutureWarning: Indexing with multiple keys (implicitly converted to a tuple of keys) will be deprecated, use a list instead.\n",
      "  total_port_value = pd.DataFrame(df_init.groupby([df_init.index])['Total_value_todate','close'].sum())\n",
      "C:\\Users\\CHIN\\AppData\\Local\\Temp/ipykernel_416/2026335479.py:25: DeprecationWarning: cafile, capath and cadefault are deprecated, use a custom context instead.\n",
      "  response = urlopen(url, cafile=certifi.where())\n"
     ]
    },
    {
     "name": "stdout",
     "output_type": "stream",
     "text": [
      "calculate period: 50\n",
      "NSC\n"
     ]
    },
    {
     "name": "stderr",
     "output_type": "stream",
     "text": [
      "C:\\Users\\CHIN\\AppData\\Local\\Temp/ipykernel_416/1045654372.py:93: FutureWarning: Indexing with multiple keys (implicitly converted to a tuple of keys) will be deprecated, use a list instead.\n",
      "  total_port_value = pd.DataFrame(df_init.groupby([df_init.index])['Total_value_todate','close'].sum())\n",
      "C:\\Users\\CHIN\\AppData\\Local\\Temp/ipykernel_416/2026335479.py:25: DeprecationWarning: cafile, capath and cadefault are deprecated, use a custom context instead.\n",
      "  response = urlopen(url, cafile=certifi.where())\n"
     ]
    },
    {
     "name": "stdout",
     "output_type": "stream",
     "text": [
      "calculate period: 50\n",
      "NTRS\n"
     ]
    },
    {
     "name": "stderr",
     "output_type": "stream",
     "text": [
      "C:\\Users\\CHIN\\AppData\\Local\\Temp/ipykernel_416/1045654372.py:93: FutureWarning: Indexing with multiple keys (implicitly converted to a tuple of keys) will be deprecated, use a list instead.\n",
      "  total_port_value = pd.DataFrame(df_init.groupby([df_init.index])['Total_value_todate','close'].sum())\n",
      "C:\\Users\\CHIN\\AppData\\Local\\Temp/ipykernel_416/2026335479.py:25: DeprecationWarning: cafile, capath and cadefault are deprecated, use a custom context instead.\n",
      "  response = urlopen(url, cafile=certifi.where())\n"
     ]
    },
    {
     "name": "stdout",
     "output_type": "stream",
     "text": [
      "calculate period: 50\n",
      "NOC\n"
     ]
    },
    {
     "name": "stderr",
     "output_type": "stream",
     "text": [
      "C:\\Users\\CHIN\\AppData\\Local\\Temp/ipykernel_416/1045654372.py:93: FutureWarning: Indexing with multiple keys (implicitly converted to a tuple of keys) will be deprecated, use a list instead.\n",
      "  total_port_value = pd.DataFrame(df_init.groupby([df_init.index])['Total_value_todate','close'].sum())\n",
      "C:\\Users\\CHIN\\AppData\\Local\\Temp/ipykernel_416/2026335479.py:25: DeprecationWarning: cafile, capath and cadefault are deprecated, use a custom context instead.\n",
      "  response = urlopen(url, cafile=certifi.where())\n"
     ]
    },
    {
     "name": "stdout",
     "output_type": "stream",
     "text": [
      "calculate period: 50\n",
      "NCLH\n"
     ]
    },
    {
     "name": "stderr",
     "output_type": "stream",
     "text": [
      "C:\\Users\\CHIN\\AppData\\Local\\Temp/ipykernel_416/1045654372.py:93: FutureWarning: Indexing with multiple keys (implicitly converted to a tuple of keys) will be deprecated, use a list instead.\n",
      "  total_port_value = pd.DataFrame(df_init.groupby([df_init.index])['Total_value_todate','close'].sum())\n",
      "C:\\Users\\CHIN\\AppData\\Local\\Temp/ipykernel_416/2026335479.py:25: DeprecationWarning: cafile, capath and cadefault are deprecated, use a custom context instead.\n",
      "  response = urlopen(url, cafile=certifi.where())\n"
     ]
    },
    {
     "name": "stdout",
     "output_type": "stream",
     "text": [
      "calculate period: 50\n",
      "NRG\n"
     ]
    },
    {
     "name": "stderr",
     "output_type": "stream",
     "text": [
      "C:\\Users\\CHIN\\AppData\\Local\\Temp/ipykernel_416/1045654372.py:93: FutureWarning: Indexing with multiple keys (implicitly converted to a tuple of keys) will be deprecated, use a list instead.\n",
      "  total_port_value = pd.DataFrame(df_init.groupby([df_init.index])['Total_value_todate','close'].sum())\n",
      "C:\\Users\\CHIN\\AppData\\Local\\Temp/ipykernel_416/2026335479.py:25: DeprecationWarning: cafile, capath and cadefault are deprecated, use a custom context instead.\n",
      "  response = urlopen(url, cafile=certifi.where())\n"
     ]
    },
    {
     "name": "stdout",
     "output_type": "stream",
     "text": [
      "calculate period: 50\n",
      "NUE\n"
     ]
    },
    {
     "name": "stderr",
     "output_type": "stream",
     "text": [
      "C:\\Users\\CHIN\\AppData\\Local\\Temp/ipykernel_416/1045654372.py:93: FutureWarning: Indexing with multiple keys (implicitly converted to a tuple of keys) will be deprecated, use a list instead.\n",
      "  total_port_value = pd.DataFrame(df_init.groupby([df_init.index])['Total_value_todate','close'].sum())\n",
      "C:\\Users\\CHIN\\AppData\\Local\\Temp/ipykernel_416/2026335479.py:25: DeprecationWarning: cafile, capath and cadefault are deprecated, use a custom context instead.\n",
      "  response = urlopen(url, cafile=certifi.where())\n"
     ]
    },
    {
     "name": "stdout",
     "output_type": "stream",
     "text": [
      "calculate period: 50\n",
      "NVDA\n"
     ]
    },
    {
     "name": "stderr",
     "output_type": "stream",
     "text": [
      "C:\\Users\\CHIN\\AppData\\Local\\Temp/ipykernel_416/1045654372.py:93: FutureWarning: Indexing with multiple keys (implicitly converted to a tuple of keys) will be deprecated, use a list instead.\n",
      "  total_port_value = pd.DataFrame(df_init.groupby([df_init.index])['Total_value_todate','close'].sum())\n",
      "C:\\Users\\CHIN\\AppData\\Local\\Temp/ipykernel_416/2026335479.py:25: DeprecationWarning: cafile, capath and cadefault are deprecated, use a custom context instead.\n",
      "  response = urlopen(url, cafile=certifi.where())\n"
     ]
    },
    {
     "name": "stdout",
     "output_type": "stream",
     "text": [
      "calculate period: 50\n",
      "NVR\n"
     ]
    },
    {
     "name": "stderr",
     "output_type": "stream",
     "text": [
      "C:\\Users\\CHIN\\AppData\\Local\\Temp/ipykernel_416/1045654372.py:93: FutureWarning: Indexing with multiple keys (implicitly converted to a tuple of keys) will be deprecated, use a list instead.\n",
      "  total_port_value = pd.DataFrame(df_init.groupby([df_init.index])['Total_value_todate','close'].sum())\n",
      "C:\\Users\\CHIN\\AppData\\Local\\Temp/ipykernel_416/2026335479.py:25: DeprecationWarning: cafile, capath and cadefault are deprecated, use a custom context instead.\n",
      "  response = urlopen(url, cafile=certifi.where())\n"
     ]
    },
    {
     "name": "stdout",
     "output_type": "stream",
     "text": [
      "calculate period: 50\n",
      "NXPI\n"
     ]
    },
    {
     "name": "stderr",
     "output_type": "stream",
     "text": [
      "C:\\Users\\CHIN\\AppData\\Local\\Temp/ipykernel_416/1045654372.py:93: FutureWarning: Indexing with multiple keys (implicitly converted to a tuple of keys) will be deprecated, use a list instead.\n",
      "  total_port_value = pd.DataFrame(df_init.groupby([df_init.index])['Total_value_todate','close'].sum())\n",
      "C:\\Users\\CHIN\\AppData\\Local\\Temp/ipykernel_416/2026335479.py:25: DeprecationWarning: cafile, capath and cadefault are deprecated, use a custom context instead.\n",
      "  response = urlopen(url, cafile=certifi.where())\n"
     ]
    },
    {
     "name": "stdout",
     "output_type": "stream",
     "text": [
      "calculate period: 50\n",
      "ORLY\n"
     ]
    },
    {
     "name": "stderr",
     "output_type": "stream",
     "text": [
      "C:\\Users\\CHIN\\AppData\\Local\\Temp/ipykernel_416/1045654372.py:93: FutureWarning: Indexing with multiple keys (implicitly converted to a tuple of keys) will be deprecated, use a list instead.\n",
      "  total_port_value = pd.DataFrame(df_init.groupby([df_init.index])['Total_value_todate','close'].sum())\n",
      "C:\\Users\\CHIN\\AppData\\Local\\Temp/ipykernel_416/2026335479.py:25: DeprecationWarning: cafile, capath and cadefault are deprecated, use a custom context instead.\n",
      "  response = urlopen(url, cafile=certifi.where())\n"
     ]
    },
    {
     "name": "stdout",
     "output_type": "stream",
     "text": [
      "calculate period: 50\n",
      "OXY\n"
     ]
    },
    {
     "name": "stderr",
     "output_type": "stream",
     "text": [
      "C:\\Users\\CHIN\\AppData\\Local\\Temp/ipykernel_416/1045654372.py:93: FutureWarning: Indexing with multiple keys (implicitly converted to a tuple of keys) will be deprecated, use a list instead.\n",
      "  total_port_value = pd.DataFrame(df_init.groupby([df_init.index])['Total_value_todate','close'].sum())\n",
      "C:\\Users\\CHIN\\AppData\\Local\\Temp/ipykernel_416/2026335479.py:25: DeprecationWarning: cafile, capath and cadefault are deprecated, use a custom context instead.\n",
      "  response = urlopen(url, cafile=certifi.where())\n"
     ]
    },
    {
     "name": "stdout",
     "output_type": "stream",
     "text": [
      "calculate period: 50\n",
      "ODFL\n"
     ]
    },
    {
     "name": "stderr",
     "output_type": "stream",
     "text": [
      "C:\\Users\\CHIN\\AppData\\Local\\Temp/ipykernel_416/1045654372.py:93: FutureWarning: Indexing with multiple keys (implicitly converted to a tuple of keys) will be deprecated, use a list instead.\n",
      "  total_port_value = pd.DataFrame(df_init.groupby([df_init.index])['Total_value_todate','close'].sum())\n",
      "C:\\Users\\CHIN\\AppData\\Local\\Temp/ipykernel_416/2026335479.py:25: DeprecationWarning: cafile, capath and cadefault are deprecated, use a custom context instead.\n",
      "  response = urlopen(url, cafile=certifi.where())\n"
     ]
    },
    {
     "name": "stdout",
     "output_type": "stream",
     "text": [
      "calculate period: 50\n",
      "OMC\n"
     ]
    },
    {
     "name": "stderr",
     "output_type": "stream",
     "text": [
      "C:\\Users\\CHIN\\AppData\\Local\\Temp/ipykernel_416/1045654372.py:93: FutureWarning: Indexing with multiple keys (implicitly converted to a tuple of keys) will be deprecated, use a list instead.\n",
      "  total_port_value = pd.DataFrame(df_init.groupby([df_init.index])['Total_value_todate','close'].sum())\n",
      "C:\\Users\\CHIN\\AppData\\Local\\Temp/ipykernel_416/2026335479.py:25: DeprecationWarning: cafile, capath and cadefault are deprecated, use a custom context instead.\n",
      "  response = urlopen(url, cafile=certifi.where())\n"
     ]
    },
    {
     "name": "stdout",
     "output_type": "stream",
     "text": [
      "calculate period: 50\n",
      "ON\n"
     ]
    },
    {
     "name": "stderr",
     "output_type": "stream",
     "text": [
      "C:\\Users\\CHIN\\AppData\\Local\\Temp/ipykernel_416/1045654372.py:93: FutureWarning: Indexing with multiple keys (implicitly converted to a tuple of keys) will be deprecated, use a list instead.\n",
      "  total_port_value = pd.DataFrame(df_init.groupby([df_init.index])['Total_value_todate','close'].sum())\n",
      "C:\\Users\\CHIN\\AppData\\Local\\Temp/ipykernel_416/2026335479.py:25: DeprecationWarning: cafile, capath and cadefault are deprecated, use a custom context instead.\n",
      "  response = urlopen(url, cafile=certifi.where())\n"
     ]
    },
    {
     "name": "stdout",
     "output_type": "stream",
     "text": [
      "calculate period: 50\n",
      "OKE\n"
     ]
    },
    {
     "name": "stderr",
     "output_type": "stream",
     "text": [
      "C:\\Users\\CHIN\\AppData\\Local\\Temp/ipykernel_416/1045654372.py:93: FutureWarning: Indexing with multiple keys (implicitly converted to a tuple of keys) will be deprecated, use a list instead.\n",
      "  total_port_value = pd.DataFrame(df_init.groupby([df_init.index])['Total_value_todate','close'].sum())\n",
      "C:\\Users\\CHIN\\AppData\\Local\\Temp/ipykernel_416/2026335479.py:25: DeprecationWarning: cafile, capath and cadefault are deprecated, use a custom context instead.\n",
      "  response = urlopen(url, cafile=certifi.where())\n"
     ]
    },
    {
     "name": "stdout",
     "output_type": "stream",
     "text": [
      "calculate period: 50\n",
      "ORCL\n"
     ]
    },
    {
     "name": "stderr",
     "output_type": "stream",
     "text": [
      "C:\\Users\\CHIN\\AppData\\Local\\Temp/ipykernel_416/1045654372.py:93: FutureWarning: Indexing with multiple keys (implicitly converted to a tuple of keys) will be deprecated, use a list instead.\n",
      "  total_port_value = pd.DataFrame(df_init.groupby([df_init.index])['Total_value_todate','close'].sum())\n",
      "C:\\Users\\CHIN\\AppData\\Local\\Temp/ipykernel_416/2026335479.py:25: DeprecationWarning: cafile, capath and cadefault are deprecated, use a custom context instead.\n",
      "  response = urlopen(url, cafile=certifi.where())\n"
     ]
    },
    {
     "name": "stdout",
     "output_type": "stream",
     "text": [
      "calculate period: 50\n",
      "OTIS\n"
     ]
    },
    {
     "name": "stderr",
     "output_type": "stream",
     "text": [
      "C:\\Users\\CHIN\\AppData\\Local\\Temp/ipykernel_416/1045654372.py:93: FutureWarning: Indexing with multiple keys (implicitly converted to a tuple of keys) will be deprecated, use a list instead.\n",
      "  total_port_value = pd.DataFrame(df_init.groupby([df_init.index])['Total_value_todate','close'].sum())\n",
      "C:\\Users\\CHIN\\AppData\\Local\\Temp/ipykernel_416/2026335479.py:25: DeprecationWarning: cafile, capath and cadefault are deprecated, use a custom context instead.\n",
      "  response = urlopen(url, cafile=certifi.where())\n"
     ]
    },
    {
     "name": "stdout",
     "output_type": "stream",
     "text": [
      "calculate period: 50\n",
      "PCAR\n"
     ]
    },
    {
     "name": "stderr",
     "output_type": "stream",
     "text": [
      "C:\\Users\\CHIN\\AppData\\Local\\Temp/ipykernel_416/1045654372.py:93: FutureWarning: Indexing with multiple keys (implicitly converted to a tuple of keys) will be deprecated, use a list instead.\n",
      "  total_port_value = pd.DataFrame(df_init.groupby([df_init.index])['Total_value_todate','close'].sum())\n",
      "C:\\Users\\CHIN\\AppData\\Local\\Temp/ipykernel_416/2026335479.py:25: DeprecationWarning: cafile, capath and cadefault are deprecated, use a custom context instead.\n",
      "  response = urlopen(url, cafile=certifi.where())\n"
     ]
    },
    {
     "name": "stdout",
     "output_type": "stream",
     "text": [
      "calculate period: 50\n",
      "PKG\n"
     ]
    },
    {
     "name": "stderr",
     "output_type": "stream",
     "text": [
      "C:\\Users\\CHIN\\AppData\\Local\\Temp/ipykernel_416/1045654372.py:93: FutureWarning: Indexing with multiple keys (implicitly converted to a tuple of keys) will be deprecated, use a list instead.\n",
      "  total_port_value = pd.DataFrame(df_init.groupby([df_init.index])['Total_value_todate','close'].sum())\n",
      "C:\\Users\\CHIN\\AppData\\Local\\Temp/ipykernel_416/2026335479.py:25: DeprecationWarning: cafile, capath and cadefault are deprecated, use a custom context instead.\n",
      "  response = urlopen(url, cafile=certifi.where())\n"
     ]
    },
    {
     "name": "stdout",
     "output_type": "stream",
     "text": [
      "calculate period: 50\n",
      "PANW\n"
     ]
    },
    {
     "name": "stderr",
     "output_type": "stream",
     "text": [
      "C:\\Users\\CHIN\\AppData\\Local\\Temp/ipykernel_416/1045654372.py:93: FutureWarning: Indexing with multiple keys (implicitly converted to a tuple of keys) will be deprecated, use a list instead.\n",
      "  total_port_value = pd.DataFrame(df_init.groupby([df_init.index])['Total_value_todate','close'].sum())\n",
      "C:\\Users\\CHIN\\AppData\\Local\\Temp/ipykernel_416/2026335479.py:25: DeprecationWarning: cafile, capath and cadefault are deprecated, use a custom context instead.\n",
      "  response = urlopen(url, cafile=certifi.where())\n"
     ]
    },
    {
     "name": "stdout",
     "output_type": "stream",
     "text": [
      "calculate period: 50\n",
      "PARA\n"
     ]
    },
    {
     "name": "stderr",
     "output_type": "stream",
     "text": [
      "C:\\Users\\CHIN\\AppData\\Local\\Temp/ipykernel_416/1045654372.py:93: FutureWarning: Indexing with multiple keys (implicitly converted to a tuple of keys) will be deprecated, use a list instead.\n",
      "  total_port_value = pd.DataFrame(df_init.groupby([df_init.index])['Total_value_todate','close'].sum())\n",
      "C:\\Users\\CHIN\\AppData\\Local\\Temp/ipykernel_416/2026335479.py:25: DeprecationWarning: cafile, capath and cadefault are deprecated, use a custom context instead.\n",
      "  response = urlopen(url, cafile=certifi.where())\n"
     ]
    },
    {
     "name": "stdout",
     "output_type": "stream",
     "text": [
      "calculate period: 50\n",
      "PH\n"
     ]
    },
    {
     "name": "stderr",
     "output_type": "stream",
     "text": [
      "C:\\Users\\CHIN\\AppData\\Local\\Temp/ipykernel_416/1045654372.py:93: FutureWarning: Indexing with multiple keys (implicitly converted to a tuple of keys) will be deprecated, use a list instead.\n",
      "  total_port_value = pd.DataFrame(df_init.groupby([df_init.index])['Total_value_todate','close'].sum())\n",
      "C:\\Users\\CHIN\\AppData\\Local\\Temp/ipykernel_416/2026335479.py:25: DeprecationWarning: cafile, capath and cadefault are deprecated, use a custom context instead.\n",
      "  response = urlopen(url, cafile=certifi.where())\n"
     ]
    },
    {
     "name": "stdout",
     "output_type": "stream",
     "text": [
      "calculate period: 50\n",
      "PAYX\n"
     ]
    },
    {
     "name": "stderr",
     "output_type": "stream",
     "text": [
      "C:\\Users\\CHIN\\AppData\\Local\\Temp/ipykernel_416/1045654372.py:93: FutureWarning: Indexing with multiple keys (implicitly converted to a tuple of keys) will be deprecated, use a list instead.\n",
      "  total_port_value = pd.DataFrame(df_init.groupby([df_init.index])['Total_value_todate','close'].sum())\n",
      "C:\\Users\\CHIN\\AppData\\Local\\Temp/ipykernel_416/2026335479.py:25: DeprecationWarning: cafile, capath and cadefault are deprecated, use a custom context instead.\n",
      "  response = urlopen(url, cafile=certifi.where())\n"
     ]
    },
    {
     "name": "stdout",
     "output_type": "stream",
     "text": [
      "calculate period: 50\n",
      "PAYC\n"
     ]
    },
    {
     "name": "stderr",
     "output_type": "stream",
     "text": [
      "C:\\Users\\CHIN\\AppData\\Local\\Temp/ipykernel_416/1045654372.py:93: FutureWarning: Indexing with multiple keys (implicitly converted to a tuple of keys) will be deprecated, use a list instead.\n",
      "  total_port_value = pd.DataFrame(df_init.groupby([df_init.index])['Total_value_todate','close'].sum())\n",
      "C:\\Users\\CHIN\\AppData\\Local\\Temp/ipykernel_416/2026335479.py:25: DeprecationWarning: cafile, capath and cadefault are deprecated, use a custom context instead.\n",
      "  response = urlopen(url, cafile=certifi.where())\n"
     ]
    },
    {
     "name": "stdout",
     "output_type": "stream",
     "text": [
      "calculate period: 50\n",
      "PYPL\n"
     ]
    },
    {
     "name": "stderr",
     "output_type": "stream",
     "text": [
      "C:\\Users\\CHIN\\AppData\\Local\\Temp/ipykernel_416/1045654372.py:93: FutureWarning: Indexing with multiple keys (implicitly converted to a tuple of keys) will be deprecated, use a list instead.\n",
      "  total_port_value = pd.DataFrame(df_init.groupby([df_init.index])['Total_value_todate','close'].sum())\n",
      "C:\\Users\\CHIN\\AppData\\Local\\Temp/ipykernel_416/2026335479.py:25: DeprecationWarning: cafile, capath and cadefault are deprecated, use a custom context instead.\n",
      "  response = urlopen(url, cafile=certifi.where())\n"
     ]
    },
    {
     "name": "stdout",
     "output_type": "stream",
     "text": [
      "calculate period: 50\n",
      "PNR\n"
     ]
    },
    {
     "name": "stderr",
     "output_type": "stream",
     "text": [
      "C:\\Users\\CHIN\\AppData\\Local\\Temp/ipykernel_416/1045654372.py:93: FutureWarning: Indexing with multiple keys (implicitly converted to a tuple of keys) will be deprecated, use a list instead.\n",
      "  total_port_value = pd.DataFrame(df_init.groupby([df_init.index])['Total_value_todate','close'].sum())\n",
      "C:\\Users\\CHIN\\AppData\\Local\\Temp/ipykernel_416/2026335479.py:25: DeprecationWarning: cafile, capath and cadefault are deprecated, use a custom context instead.\n",
      "  response = urlopen(url, cafile=certifi.where())\n"
     ]
    },
    {
     "name": "stdout",
     "output_type": "stream",
     "text": [
      "calculate period: 50\n",
      "PEP\n"
     ]
    },
    {
     "name": "stderr",
     "output_type": "stream",
     "text": [
      "C:\\Users\\CHIN\\AppData\\Local\\Temp/ipykernel_416/1045654372.py:93: FutureWarning: Indexing with multiple keys (implicitly converted to a tuple of keys) will be deprecated, use a list instead.\n",
      "  total_port_value = pd.DataFrame(df_init.groupby([df_init.index])['Total_value_todate','close'].sum())\n",
      "C:\\Users\\CHIN\\AppData\\Local\\Temp/ipykernel_416/2026335479.py:25: DeprecationWarning: cafile, capath and cadefault are deprecated, use a custom context instead.\n",
      "  response = urlopen(url, cafile=certifi.where())\n"
     ]
    },
    {
     "name": "stdout",
     "output_type": "stream",
     "text": [
      "calculate period: 50\n",
      "PFE\n"
     ]
    },
    {
     "name": "stderr",
     "output_type": "stream",
     "text": [
      "C:\\Users\\CHIN\\AppData\\Local\\Temp/ipykernel_416/1045654372.py:93: FutureWarning: Indexing with multiple keys (implicitly converted to a tuple of keys) will be deprecated, use a list instead.\n",
      "  total_port_value = pd.DataFrame(df_init.groupby([df_init.index])['Total_value_todate','close'].sum())\n",
      "C:\\Users\\CHIN\\AppData\\Local\\Temp/ipykernel_416/2026335479.py:25: DeprecationWarning: cafile, capath and cadefault are deprecated, use a custom context instead.\n",
      "  response = urlopen(url, cafile=certifi.where())\n"
     ]
    },
    {
     "name": "stdout",
     "output_type": "stream",
     "text": [
      "calculate period: 50\n",
      "PCG\n"
     ]
    },
    {
     "name": "stderr",
     "output_type": "stream",
     "text": [
      "C:\\Users\\CHIN\\AppData\\Local\\Temp/ipykernel_416/1045654372.py:93: FutureWarning: Indexing with multiple keys (implicitly converted to a tuple of keys) will be deprecated, use a list instead.\n",
      "  total_port_value = pd.DataFrame(df_init.groupby([df_init.index])['Total_value_todate','close'].sum())\n",
      "C:\\Users\\CHIN\\AppData\\Local\\Temp/ipykernel_416/2026335479.py:25: DeprecationWarning: cafile, capath and cadefault are deprecated, use a custom context instead.\n",
      "  response = urlopen(url, cafile=certifi.where())\n"
     ]
    },
    {
     "name": "stdout",
     "output_type": "stream",
     "text": [
      "calculate period: 50\n",
      "PM\n"
     ]
    },
    {
     "name": "stderr",
     "output_type": "stream",
     "text": [
      "C:\\Users\\CHIN\\AppData\\Local\\Temp/ipykernel_416/1045654372.py:93: FutureWarning: Indexing with multiple keys (implicitly converted to a tuple of keys) will be deprecated, use a list instead.\n",
      "  total_port_value = pd.DataFrame(df_init.groupby([df_init.index])['Total_value_todate','close'].sum())\n",
      "C:\\Users\\CHIN\\AppData\\Local\\Temp/ipykernel_416/2026335479.py:25: DeprecationWarning: cafile, capath and cadefault are deprecated, use a custom context instead.\n",
      "  response = urlopen(url, cafile=certifi.where())\n"
     ]
    },
    {
     "name": "stdout",
     "output_type": "stream",
     "text": [
      "calculate period: 50\n",
      "PSX\n"
     ]
    },
    {
     "name": "stderr",
     "output_type": "stream",
     "text": [
      "C:\\Users\\CHIN\\AppData\\Local\\Temp/ipykernel_416/1045654372.py:93: FutureWarning: Indexing with multiple keys (implicitly converted to a tuple of keys) will be deprecated, use a list instead.\n",
      "  total_port_value = pd.DataFrame(df_init.groupby([df_init.index])['Total_value_todate','close'].sum())\n",
      "C:\\Users\\CHIN\\AppData\\Local\\Temp/ipykernel_416/2026335479.py:25: DeprecationWarning: cafile, capath and cadefault are deprecated, use a custom context instead.\n",
      "  response = urlopen(url, cafile=certifi.where())\n"
     ]
    },
    {
     "name": "stdout",
     "output_type": "stream",
     "text": [
      "calculate period: 50\n",
      "PNW\n"
     ]
    },
    {
     "name": "stderr",
     "output_type": "stream",
     "text": [
      "C:\\Users\\CHIN\\AppData\\Local\\Temp/ipykernel_416/1045654372.py:93: FutureWarning: Indexing with multiple keys (implicitly converted to a tuple of keys) will be deprecated, use a list instead.\n",
      "  total_port_value = pd.DataFrame(df_init.groupby([df_init.index])['Total_value_todate','close'].sum())\n",
      "C:\\Users\\CHIN\\AppData\\Local\\Temp/ipykernel_416/2026335479.py:25: DeprecationWarning: cafile, capath and cadefault are deprecated, use a custom context instead.\n",
      "  response = urlopen(url, cafile=certifi.where())\n"
     ]
    },
    {
     "name": "stdout",
     "output_type": "stream",
     "text": [
      "calculate period: 50\n",
      "PXD\n"
     ]
    },
    {
     "name": "stderr",
     "output_type": "stream",
     "text": [
      "C:\\Users\\CHIN\\AppData\\Local\\Temp/ipykernel_416/1045654372.py:93: FutureWarning: Indexing with multiple keys (implicitly converted to a tuple of keys) will be deprecated, use a list instead.\n",
      "  total_port_value = pd.DataFrame(df_init.groupby([df_init.index])['Total_value_todate','close'].sum())\n",
      "C:\\Users\\CHIN\\AppData\\Local\\Temp/ipykernel_416/2026335479.py:25: DeprecationWarning: cafile, capath and cadefault are deprecated, use a custom context instead.\n",
      "  response = urlopen(url, cafile=certifi.where())\n"
     ]
    },
    {
     "name": "stdout",
     "output_type": "stream",
     "text": [
      "calculate period: 50\n",
      "PNC\n"
     ]
    },
    {
     "name": "stderr",
     "output_type": "stream",
     "text": [
      "C:\\Users\\CHIN\\AppData\\Local\\Temp/ipykernel_416/1045654372.py:93: FutureWarning: Indexing with multiple keys (implicitly converted to a tuple of keys) will be deprecated, use a list instead.\n",
      "  total_port_value = pd.DataFrame(df_init.groupby([df_init.index])['Total_value_todate','close'].sum())\n",
      "C:\\Users\\CHIN\\AppData\\Local\\Temp/ipykernel_416/2026335479.py:25: DeprecationWarning: cafile, capath and cadefault are deprecated, use a custom context instead.\n",
      "  response = urlopen(url, cafile=certifi.where())\n"
     ]
    },
    {
     "name": "stdout",
     "output_type": "stream",
     "text": [
      "calculate period: 50\n",
      "POOL\n"
     ]
    },
    {
     "name": "stderr",
     "output_type": "stream",
     "text": [
      "C:\\Users\\CHIN\\AppData\\Local\\Temp/ipykernel_416/1045654372.py:93: FutureWarning: Indexing with multiple keys (implicitly converted to a tuple of keys) will be deprecated, use a list instead.\n",
      "  total_port_value = pd.DataFrame(df_init.groupby([df_init.index])['Total_value_todate','close'].sum())\n",
      "C:\\Users\\CHIN\\AppData\\Local\\Temp/ipykernel_416/2026335479.py:25: DeprecationWarning: cafile, capath and cadefault are deprecated, use a custom context instead.\n",
      "  response = urlopen(url, cafile=certifi.where())\n"
     ]
    },
    {
     "name": "stdout",
     "output_type": "stream",
     "text": [
      "calculate period: 50\n",
      "PPG\n"
     ]
    },
    {
     "name": "stderr",
     "output_type": "stream",
     "text": [
      "C:\\Users\\CHIN\\AppData\\Local\\Temp/ipykernel_416/1045654372.py:93: FutureWarning: Indexing with multiple keys (implicitly converted to a tuple of keys) will be deprecated, use a list instead.\n",
      "  total_port_value = pd.DataFrame(df_init.groupby([df_init.index])['Total_value_todate','close'].sum())\n",
      "C:\\Users\\CHIN\\AppData\\Local\\Temp/ipykernel_416/2026335479.py:25: DeprecationWarning: cafile, capath and cadefault are deprecated, use a custom context instead.\n",
      "  response = urlopen(url, cafile=certifi.where())\n"
     ]
    },
    {
     "name": "stdout",
     "output_type": "stream",
     "text": [
      "calculate period: 50\n",
      "PPL\n"
     ]
    },
    {
     "name": "stderr",
     "output_type": "stream",
     "text": [
      "C:\\Users\\CHIN\\AppData\\Local\\Temp/ipykernel_416/1045654372.py:93: FutureWarning: Indexing with multiple keys (implicitly converted to a tuple of keys) will be deprecated, use a list instead.\n",
      "  total_port_value = pd.DataFrame(df_init.groupby([df_init.index])['Total_value_todate','close'].sum())\n",
      "C:\\Users\\CHIN\\AppData\\Local\\Temp/ipykernel_416/2026335479.py:25: DeprecationWarning: cafile, capath and cadefault are deprecated, use a custom context instead.\n",
      "  response = urlopen(url, cafile=certifi.where())\n"
     ]
    },
    {
     "name": "stdout",
     "output_type": "stream",
     "text": [
      "calculate period: 50\n",
      "PFG\n"
     ]
    },
    {
     "name": "stderr",
     "output_type": "stream",
     "text": [
      "C:\\Users\\CHIN\\AppData\\Local\\Temp/ipykernel_416/1045654372.py:93: FutureWarning: Indexing with multiple keys (implicitly converted to a tuple of keys) will be deprecated, use a list instead.\n",
      "  total_port_value = pd.DataFrame(df_init.groupby([df_init.index])['Total_value_todate','close'].sum())\n",
      "C:\\Users\\CHIN\\AppData\\Local\\Temp/ipykernel_416/2026335479.py:25: DeprecationWarning: cafile, capath and cadefault are deprecated, use a custom context instead.\n",
      "  response = urlopen(url, cafile=certifi.where())\n"
     ]
    },
    {
     "name": "stdout",
     "output_type": "stream",
     "text": [
      "calculate period: 50\n",
      "PG\n"
     ]
    },
    {
     "name": "stderr",
     "output_type": "stream",
     "text": [
      "C:\\Users\\CHIN\\AppData\\Local\\Temp/ipykernel_416/1045654372.py:93: FutureWarning: Indexing with multiple keys (implicitly converted to a tuple of keys) will be deprecated, use a list instead.\n",
      "  total_port_value = pd.DataFrame(df_init.groupby([df_init.index])['Total_value_todate','close'].sum())\n",
      "C:\\Users\\CHIN\\AppData\\Local\\Temp/ipykernel_416/2026335479.py:25: DeprecationWarning: cafile, capath and cadefault are deprecated, use a custom context instead.\n",
      "  response = urlopen(url, cafile=certifi.where())\n"
     ]
    },
    {
     "name": "stdout",
     "output_type": "stream",
     "text": [
      "calculate period: 50\n",
      "PGR\n"
     ]
    },
    {
     "name": "stderr",
     "output_type": "stream",
     "text": [
      "C:\\Users\\CHIN\\AppData\\Local\\Temp/ipykernel_416/1045654372.py:93: FutureWarning: Indexing with multiple keys (implicitly converted to a tuple of keys) will be deprecated, use a list instead.\n",
      "  total_port_value = pd.DataFrame(df_init.groupby([df_init.index])['Total_value_todate','close'].sum())\n",
      "C:\\Users\\CHIN\\AppData\\Local\\Temp/ipykernel_416/2026335479.py:25: DeprecationWarning: cafile, capath and cadefault are deprecated, use a custom context instead.\n",
      "  response = urlopen(url, cafile=certifi.where())\n"
     ]
    },
    {
     "name": "stdout",
     "output_type": "stream",
     "text": [
      "calculate period: 50\n",
      "PLD\n"
     ]
    },
    {
     "name": "stderr",
     "output_type": "stream",
     "text": [
      "C:\\Users\\CHIN\\AppData\\Local\\Temp/ipykernel_416/1045654372.py:93: FutureWarning: Indexing with multiple keys (implicitly converted to a tuple of keys) will be deprecated, use a list instead.\n",
      "  total_port_value = pd.DataFrame(df_init.groupby([df_init.index])['Total_value_todate','close'].sum())\n",
      "C:\\Users\\CHIN\\AppData\\Local\\Temp/ipykernel_416/2026335479.py:25: DeprecationWarning: cafile, capath and cadefault are deprecated, use a custom context instead.\n",
      "  response = urlopen(url, cafile=certifi.where())\n"
     ]
    },
    {
     "name": "stdout",
     "output_type": "stream",
     "text": [
      "calculate period: 50\n",
      "PRU\n"
     ]
    },
    {
     "name": "stderr",
     "output_type": "stream",
     "text": [
      "C:\\Users\\CHIN\\AppData\\Local\\Temp/ipykernel_416/1045654372.py:93: FutureWarning: Indexing with multiple keys (implicitly converted to a tuple of keys) will be deprecated, use a list instead.\n",
      "  total_port_value = pd.DataFrame(df_init.groupby([df_init.index])['Total_value_todate','close'].sum())\n",
      "C:\\Users\\CHIN\\AppData\\Local\\Temp/ipykernel_416/2026335479.py:25: DeprecationWarning: cafile, capath and cadefault are deprecated, use a custom context instead.\n",
      "  response = urlopen(url, cafile=certifi.where())\n"
     ]
    },
    {
     "name": "stdout",
     "output_type": "stream",
     "text": [
      "calculate period: 50\n",
      "PEG\n"
     ]
    },
    {
     "name": "stderr",
     "output_type": "stream",
     "text": [
      "C:\\Users\\CHIN\\AppData\\Local\\Temp/ipykernel_416/1045654372.py:93: FutureWarning: Indexing with multiple keys (implicitly converted to a tuple of keys) will be deprecated, use a list instead.\n",
      "  total_port_value = pd.DataFrame(df_init.groupby([df_init.index])['Total_value_todate','close'].sum())\n",
      "C:\\Users\\CHIN\\AppData\\Local\\Temp/ipykernel_416/2026335479.py:25: DeprecationWarning: cafile, capath and cadefault are deprecated, use a custom context instead.\n",
      "  response = urlopen(url, cafile=certifi.where())\n"
     ]
    },
    {
     "name": "stdout",
     "output_type": "stream",
     "text": [
      "calculate period: 50\n",
      "PTC\n"
     ]
    },
    {
     "name": "stderr",
     "output_type": "stream",
     "text": [
      "C:\\Users\\CHIN\\AppData\\Local\\Temp/ipykernel_416/1045654372.py:93: FutureWarning: Indexing with multiple keys (implicitly converted to a tuple of keys) will be deprecated, use a list instead.\n",
      "  total_port_value = pd.DataFrame(df_init.groupby([df_init.index])['Total_value_todate','close'].sum())\n",
      "C:\\Users\\CHIN\\AppData\\Local\\Temp/ipykernel_416/2026335479.py:25: DeprecationWarning: cafile, capath and cadefault are deprecated, use a custom context instead.\n",
      "  response = urlopen(url, cafile=certifi.where())\n"
     ]
    },
    {
     "name": "stdout",
     "output_type": "stream",
     "text": [
      "calculate period: 50\n",
      "PSA\n"
     ]
    },
    {
     "name": "stderr",
     "output_type": "stream",
     "text": [
      "C:\\Users\\CHIN\\AppData\\Local\\Temp/ipykernel_416/1045654372.py:93: FutureWarning: Indexing with multiple keys (implicitly converted to a tuple of keys) will be deprecated, use a list instead.\n",
      "  total_port_value = pd.DataFrame(df_init.groupby([df_init.index])['Total_value_todate','close'].sum())\n",
      "C:\\Users\\CHIN\\AppData\\Local\\Temp/ipykernel_416/2026335479.py:25: DeprecationWarning: cafile, capath and cadefault are deprecated, use a custom context instead.\n",
      "  response = urlopen(url, cafile=certifi.where())\n"
     ]
    },
    {
     "name": "stdout",
     "output_type": "stream",
     "text": [
      "calculate period: 50\n",
      "PHM\n"
     ]
    },
    {
     "name": "stderr",
     "output_type": "stream",
     "text": [
      "C:\\Users\\CHIN\\AppData\\Local\\Temp/ipykernel_416/1045654372.py:93: FutureWarning: Indexing with multiple keys (implicitly converted to a tuple of keys) will be deprecated, use a list instead.\n",
      "  total_port_value = pd.DataFrame(df_init.groupby([df_init.index])['Total_value_todate','close'].sum())\n",
      "C:\\Users\\CHIN\\AppData\\Local\\Temp/ipykernel_416/2026335479.py:25: DeprecationWarning: cafile, capath and cadefault are deprecated, use a custom context instead.\n",
      "  response = urlopen(url, cafile=certifi.where())\n"
     ]
    },
    {
     "name": "stdout",
     "output_type": "stream",
     "text": [
      "calculate period: 50\n",
      "QRVO\n"
     ]
    },
    {
     "name": "stderr",
     "output_type": "stream",
     "text": [
      "C:\\Users\\CHIN\\AppData\\Local\\Temp/ipykernel_416/1045654372.py:93: FutureWarning: Indexing with multiple keys (implicitly converted to a tuple of keys) will be deprecated, use a list instead.\n",
      "  total_port_value = pd.DataFrame(df_init.groupby([df_init.index])['Total_value_todate','close'].sum())\n",
      "C:\\Users\\CHIN\\AppData\\Local\\Temp/ipykernel_416/2026335479.py:25: DeprecationWarning: cafile, capath and cadefault are deprecated, use a custom context instead.\n",
      "  response = urlopen(url, cafile=certifi.where())\n"
     ]
    },
    {
     "name": "stdout",
     "output_type": "stream",
     "text": [
      "calculate period: 50\n",
      "PWR\n"
     ]
    },
    {
     "name": "stderr",
     "output_type": "stream",
     "text": [
      "C:\\Users\\CHIN\\AppData\\Local\\Temp/ipykernel_416/1045654372.py:93: FutureWarning: Indexing with multiple keys (implicitly converted to a tuple of keys) will be deprecated, use a list instead.\n",
      "  total_port_value = pd.DataFrame(df_init.groupby([df_init.index])['Total_value_todate','close'].sum())\n",
      "C:\\Users\\CHIN\\AppData\\Local\\Temp/ipykernel_416/2026335479.py:25: DeprecationWarning: cafile, capath and cadefault are deprecated, use a custom context instead.\n",
      "  response = urlopen(url, cafile=certifi.where())\n"
     ]
    },
    {
     "name": "stdout",
     "output_type": "stream",
     "text": [
      "calculate period: 50\n",
      "QCOM\n"
     ]
    },
    {
     "name": "stderr",
     "output_type": "stream",
     "text": [
      "C:\\Users\\CHIN\\AppData\\Local\\Temp/ipykernel_416/1045654372.py:93: FutureWarning: Indexing with multiple keys (implicitly converted to a tuple of keys) will be deprecated, use a list instead.\n",
      "  total_port_value = pd.DataFrame(df_init.groupby([df_init.index])['Total_value_todate','close'].sum())\n",
      "C:\\Users\\CHIN\\AppData\\Local\\Temp/ipykernel_416/2026335479.py:25: DeprecationWarning: cafile, capath and cadefault are deprecated, use a custom context instead.\n",
      "  response = urlopen(url, cafile=certifi.where())\n"
     ]
    },
    {
     "name": "stdout",
     "output_type": "stream",
     "text": [
      "calculate period: 50\n",
      "DGX\n"
     ]
    },
    {
     "name": "stderr",
     "output_type": "stream",
     "text": [
      "C:\\Users\\CHIN\\AppData\\Local\\Temp/ipykernel_416/1045654372.py:93: FutureWarning: Indexing with multiple keys (implicitly converted to a tuple of keys) will be deprecated, use a list instead.\n",
      "  total_port_value = pd.DataFrame(df_init.groupby([df_init.index])['Total_value_todate','close'].sum())\n",
      "C:\\Users\\CHIN\\AppData\\Local\\Temp/ipykernel_416/2026335479.py:25: DeprecationWarning: cafile, capath and cadefault are deprecated, use a custom context instead.\n",
      "  response = urlopen(url, cafile=certifi.where())\n"
     ]
    },
    {
     "name": "stdout",
     "output_type": "stream",
     "text": [
      "calculate period: 50\n",
      "RL\n"
     ]
    },
    {
     "name": "stderr",
     "output_type": "stream",
     "text": [
      "C:\\Users\\CHIN\\AppData\\Local\\Temp/ipykernel_416/1045654372.py:93: FutureWarning: Indexing with multiple keys (implicitly converted to a tuple of keys) will be deprecated, use a list instead.\n",
      "  total_port_value = pd.DataFrame(df_init.groupby([df_init.index])['Total_value_todate','close'].sum())\n",
      "C:\\Users\\CHIN\\AppData\\Local\\Temp/ipykernel_416/2026335479.py:25: DeprecationWarning: cafile, capath and cadefault are deprecated, use a custom context instead.\n",
      "  response = urlopen(url, cafile=certifi.where())\n"
     ]
    },
    {
     "name": "stdout",
     "output_type": "stream",
     "text": [
      "calculate period: 50\n",
      "RJF\n"
     ]
    },
    {
     "name": "stderr",
     "output_type": "stream",
     "text": [
      "C:\\Users\\CHIN\\AppData\\Local\\Temp/ipykernel_416/1045654372.py:93: FutureWarning: Indexing with multiple keys (implicitly converted to a tuple of keys) will be deprecated, use a list instead.\n",
      "  total_port_value = pd.DataFrame(df_init.groupby([df_init.index])['Total_value_todate','close'].sum())\n",
      "C:\\Users\\CHIN\\AppData\\Local\\Temp/ipykernel_416/2026335479.py:25: DeprecationWarning: cafile, capath and cadefault are deprecated, use a custom context instead.\n",
      "  response = urlopen(url, cafile=certifi.where())\n"
     ]
    },
    {
     "name": "stdout",
     "output_type": "stream",
     "text": [
      "calculate period: 50\n",
      "RTX\n"
     ]
    },
    {
     "name": "stderr",
     "output_type": "stream",
     "text": [
      "C:\\Users\\CHIN\\AppData\\Local\\Temp/ipykernel_416/1045654372.py:93: FutureWarning: Indexing with multiple keys (implicitly converted to a tuple of keys) will be deprecated, use a list instead.\n",
      "  total_port_value = pd.DataFrame(df_init.groupby([df_init.index])['Total_value_todate','close'].sum())\n",
      "C:\\Users\\CHIN\\AppData\\Local\\Temp/ipykernel_416/2026335479.py:25: DeprecationWarning: cafile, capath and cadefault are deprecated, use a custom context instead.\n",
      "  response = urlopen(url, cafile=certifi.where())\n"
     ]
    },
    {
     "name": "stdout",
     "output_type": "stream",
     "text": [
      "calculate period: 50\n",
      "O\n"
     ]
    },
    {
     "name": "stderr",
     "output_type": "stream",
     "text": [
      "C:\\Users\\CHIN\\AppData\\Local\\Temp/ipykernel_416/1045654372.py:93: FutureWarning: Indexing with multiple keys (implicitly converted to a tuple of keys) will be deprecated, use a list instead.\n",
      "  total_port_value = pd.DataFrame(df_init.groupby([df_init.index])['Total_value_todate','close'].sum())\n",
      "C:\\Users\\CHIN\\AppData\\Local\\Temp/ipykernel_416/2026335479.py:25: DeprecationWarning: cafile, capath and cadefault are deprecated, use a custom context instead.\n",
      "  response = urlopen(url, cafile=certifi.where())\n"
     ]
    },
    {
     "name": "stdout",
     "output_type": "stream",
     "text": [
      "calculate period: 50\n",
      "REG\n"
     ]
    },
    {
     "name": "stderr",
     "output_type": "stream",
     "text": [
      "C:\\Users\\CHIN\\AppData\\Local\\Temp/ipykernel_416/1045654372.py:93: FutureWarning: Indexing with multiple keys (implicitly converted to a tuple of keys) will be deprecated, use a list instead.\n",
      "  total_port_value = pd.DataFrame(df_init.groupby([df_init.index])['Total_value_todate','close'].sum())\n",
      "C:\\Users\\CHIN\\AppData\\Local\\Temp/ipykernel_416/2026335479.py:25: DeprecationWarning: cafile, capath and cadefault are deprecated, use a custom context instead.\n",
      "  response = urlopen(url, cafile=certifi.where())\n"
     ]
    },
    {
     "name": "stdout",
     "output_type": "stream",
     "text": [
      "calculate period: 50\n",
      "REGN\n"
     ]
    },
    {
     "name": "stderr",
     "output_type": "stream",
     "text": [
      "C:\\Users\\CHIN\\AppData\\Local\\Temp/ipykernel_416/1045654372.py:93: FutureWarning: Indexing with multiple keys (implicitly converted to a tuple of keys) will be deprecated, use a list instead.\n",
      "  total_port_value = pd.DataFrame(df_init.groupby([df_init.index])['Total_value_todate','close'].sum())\n",
      "C:\\Users\\CHIN\\AppData\\Local\\Temp/ipykernel_416/2026335479.py:25: DeprecationWarning: cafile, capath and cadefault are deprecated, use a custom context instead.\n",
      "  response = urlopen(url, cafile=certifi.where())\n"
     ]
    },
    {
     "name": "stdout",
     "output_type": "stream",
     "text": [
      "calculate period: 50\n",
      "RF\n"
     ]
    },
    {
     "name": "stderr",
     "output_type": "stream",
     "text": [
      "C:\\Users\\CHIN\\AppData\\Local\\Temp/ipykernel_416/1045654372.py:93: FutureWarning: Indexing with multiple keys (implicitly converted to a tuple of keys) will be deprecated, use a list instead.\n",
      "  total_port_value = pd.DataFrame(df_init.groupby([df_init.index])['Total_value_todate','close'].sum())\n",
      "C:\\Users\\CHIN\\AppData\\Local\\Temp/ipykernel_416/2026335479.py:25: DeprecationWarning: cafile, capath and cadefault are deprecated, use a custom context instead.\n",
      "  response = urlopen(url, cafile=certifi.where())\n"
     ]
    },
    {
     "name": "stdout",
     "output_type": "stream",
     "text": [
      "calculate period: 50\n",
      "RSG\n"
     ]
    },
    {
     "name": "stderr",
     "output_type": "stream",
     "text": [
      "C:\\Users\\CHIN\\AppData\\Local\\Temp/ipykernel_416/1045654372.py:93: FutureWarning: Indexing with multiple keys (implicitly converted to a tuple of keys) will be deprecated, use a list instead.\n",
      "  total_port_value = pd.DataFrame(df_init.groupby([df_init.index])['Total_value_todate','close'].sum())\n",
      "C:\\Users\\CHIN\\AppData\\Local\\Temp/ipykernel_416/2026335479.py:25: DeprecationWarning: cafile, capath and cadefault are deprecated, use a custom context instead.\n",
      "  response = urlopen(url, cafile=certifi.where())\n"
     ]
    },
    {
     "name": "stdout",
     "output_type": "stream",
     "text": [
      "calculate period: 50\n",
      "RMD\n"
     ]
    },
    {
     "name": "stderr",
     "output_type": "stream",
     "text": [
      "C:\\Users\\CHIN\\AppData\\Local\\Temp/ipykernel_416/1045654372.py:93: FutureWarning: Indexing with multiple keys (implicitly converted to a tuple of keys) will be deprecated, use a list instead.\n",
      "  total_port_value = pd.DataFrame(df_init.groupby([df_init.index])['Total_value_todate','close'].sum())\n",
      "C:\\Users\\CHIN\\AppData\\Local\\Temp/ipykernel_416/2026335479.py:25: DeprecationWarning: cafile, capath and cadefault are deprecated, use a custom context instead.\n",
      "  response = urlopen(url, cafile=certifi.where())\n"
     ]
    },
    {
     "name": "stdout",
     "output_type": "stream",
     "text": [
      "calculate period: 50\n",
      "RVTY\n"
     ]
    },
    {
     "name": "stderr",
     "output_type": "stream",
     "text": [
      "C:\\Users\\CHIN\\AppData\\Local\\Temp/ipykernel_416/1045654372.py:93: FutureWarning: Indexing with multiple keys (implicitly converted to a tuple of keys) will be deprecated, use a list instead.\n",
      "  total_port_value = pd.DataFrame(df_init.groupby([df_init.index])['Total_value_todate','close'].sum())\n",
      "C:\\Users\\CHIN\\AppData\\Local\\Temp/ipykernel_416/2026335479.py:25: DeprecationWarning: cafile, capath and cadefault are deprecated, use a custom context instead.\n",
      "  response = urlopen(url, cafile=certifi.where())\n"
     ]
    },
    {
     "name": "stdout",
     "output_type": "stream",
     "text": [
      "calculate period: 50\n",
      "RHI\n"
     ]
    },
    {
     "name": "stderr",
     "output_type": "stream",
     "text": [
      "C:\\Users\\CHIN\\AppData\\Local\\Temp/ipykernel_416/1045654372.py:93: FutureWarning: Indexing with multiple keys (implicitly converted to a tuple of keys) will be deprecated, use a list instead.\n",
      "  total_port_value = pd.DataFrame(df_init.groupby([df_init.index])['Total_value_todate','close'].sum())\n",
      "C:\\Users\\CHIN\\AppData\\Local\\Temp/ipykernel_416/2026335479.py:25: DeprecationWarning: cafile, capath and cadefault are deprecated, use a custom context instead.\n",
      "  response = urlopen(url, cafile=certifi.where())\n"
     ]
    },
    {
     "name": "stdout",
     "output_type": "stream",
     "text": [
      "calculate period: 50\n",
      "ROK\n"
     ]
    },
    {
     "name": "stderr",
     "output_type": "stream",
     "text": [
      "C:\\Users\\CHIN\\AppData\\Local\\Temp/ipykernel_416/1045654372.py:93: FutureWarning: Indexing with multiple keys (implicitly converted to a tuple of keys) will be deprecated, use a list instead.\n",
      "  total_port_value = pd.DataFrame(df_init.groupby([df_init.index])['Total_value_todate','close'].sum())\n",
      "C:\\Users\\CHIN\\AppData\\Local\\Temp/ipykernel_416/2026335479.py:25: DeprecationWarning: cafile, capath and cadefault are deprecated, use a custom context instead.\n",
      "  response = urlopen(url, cafile=certifi.where())\n"
     ]
    },
    {
     "name": "stdout",
     "output_type": "stream",
     "text": [
      "calculate period: 50\n",
      "ROL\n"
     ]
    },
    {
     "name": "stderr",
     "output_type": "stream",
     "text": [
      "C:\\Users\\CHIN\\AppData\\Local\\Temp/ipykernel_416/1045654372.py:93: FutureWarning: Indexing with multiple keys (implicitly converted to a tuple of keys) will be deprecated, use a list instead.\n",
      "  total_port_value = pd.DataFrame(df_init.groupby([df_init.index])['Total_value_todate','close'].sum())\n",
      "C:\\Users\\CHIN\\AppData\\Local\\Temp/ipykernel_416/2026335479.py:25: DeprecationWarning: cafile, capath and cadefault are deprecated, use a custom context instead.\n",
      "  response = urlopen(url, cafile=certifi.where())\n"
     ]
    },
    {
     "name": "stdout",
     "output_type": "stream",
     "text": [
      "calculate period: 50\n",
      "ROP\n"
     ]
    },
    {
     "name": "stderr",
     "output_type": "stream",
     "text": [
      "C:\\Users\\CHIN\\AppData\\Local\\Temp/ipykernel_416/1045654372.py:93: FutureWarning: Indexing with multiple keys (implicitly converted to a tuple of keys) will be deprecated, use a list instead.\n",
      "  total_port_value = pd.DataFrame(df_init.groupby([df_init.index])['Total_value_todate','close'].sum())\n",
      "C:\\Users\\CHIN\\AppData\\Local\\Temp/ipykernel_416/2026335479.py:25: DeprecationWarning: cafile, capath and cadefault are deprecated, use a custom context instead.\n",
      "  response = urlopen(url, cafile=certifi.where())\n"
     ]
    },
    {
     "name": "stdout",
     "output_type": "stream",
     "text": [
      "calculate period: 50\n",
      "ROST\n"
     ]
    },
    {
     "name": "stderr",
     "output_type": "stream",
     "text": [
      "C:\\Users\\CHIN\\AppData\\Local\\Temp/ipykernel_416/1045654372.py:93: FutureWarning: Indexing with multiple keys (implicitly converted to a tuple of keys) will be deprecated, use a list instead.\n",
      "  total_port_value = pd.DataFrame(df_init.groupby([df_init.index])['Total_value_todate','close'].sum())\n",
      "C:\\Users\\CHIN\\AppData\\Local\\Temp/ipykernel_416/2026335479.py:25: DeprecationWarning: cafile, capath and cadefault are deprecated, use a custom context instead.\n",
      "  response = urlopen(url, cafile=certifi.where())\n"
     ]
    },
    {
     "name": "stdout",
     "output_type": "stream",
     "text": [
      "calculate period: 50\n",
      "RCL\n"
     ]
    },
    {
     "name": "stderr",
     "output_type": "stream",
     "text": [
      "C:\\Users\\CHIN\\AppData\\Local\\Temp/ipykernel_416/1045654372.py:93: FutureWarning: Indexing with multiple keys (implicitly converted to a tuple of keys) will be deprecated, use a list instead.\n",
      "  total_port_value = pd.DataFrame(df_init.groupby([df_init.index])['Total_value_todate','close'].sum())\n",
      "C:\\Users\\CHIN\\AppData\\Local\\Temp/ipykernel_416/2026335479.py:25: DeprecationWarning: cafile, capath and cadefault are deprecated, use a custom context instead.\n",
      "  response = urlopen(url, cafile=certifi.where())\n"
     ]
    },
    {
     "name": "stdout",
     "output_type": "stream",
     "text": [
      "calculate period: 50\n",
      "SPGI\n"
     ]
    },
    {
     "name": "stderr",
     "output_type": "stream",
     "text": [
      "C:\\Users\\CHIN\\AppData\\Local\\Temp/ipykernel_416/1045654372.py:93: FutureWarning: Indexing with multiple keys (implicitly converted to a tuple of keys) will be deprecated, use a list instead.\n",
      "  total_port_value = pd.DataFrame(df_init.groupby([df_init.index])['Total_value_todate','close'].sum())\n",
      "C:\\Users\\CHIN\\AppData\\Local\\Temp/ipykernel_416/2026335479.py:25: DeprecationWarning: cafile, capath and cadefault are deprecated, use a custom context instead.\n",
      "  response = urlopen(url, cafile=certifi.where())\n"
     ]
    },
    {
     "name": "stdout",
     "output_type": "stream",
     "text": [
      "calculate period: 50\n",
      "CRM\n"
     ]
    },
    {
     "name": "stderr",
     "output_type": "stream",
     "text": [
      "C:\\Users\\CHIN\\AppData\\Local\\Temp/ipykernel_416/1045654372.py:93: FutureWarning: Indexing with multiple keys (implicitly converted to a tuple of keys) will be deprecated, use a list instead.\n",
      "  total_port_value = pd.DataFrame(df_init.groupby([df_init.index])['Total_value_todate','close'].sum())\n",
      "C:\\Users\\CHIN\\AppData\\Local\\Temp/ipykernel_416/2026335479.py:25: DeprecationWarning: cafile, capath and cadefault are deprecated, use a custom context instead.\n",
      "  response = urlopen(url, cafile=certifi.where())\n"
     ]
    },
    {
     "name": "stdout",
     "output_type": "stream",
     "text": [
      "calculate period: 50\n",
      "SBAC\n"
     ]
    },
    {
     "name": "stderr",
     "output_type": "stream",
     "text": [
      "C:\\Users\\CHIN\\AppData\\Local\\Temp/ipykernel_416/1045654372.py:93: FutureWarning: Indexing with multiple keys (implicitly converted to a tuple of keys) will be deprecated, use a list instead.\n",
      "  total_port_value = pd.DataFrame(df_init.groupby([df_init.index])['Total_value_todate','close'].sum())\n",
      "C:\\Users\\CHIN\\AppData\\Local\\Temp/ipykernel_416/2026335479.py:25: DeprecationWarning: cafile, capath and cadefault are deprecated, use a custom context instead.\n",
      "  response = urlopen(url, cafile=certifi.where())\n"
     ]
    },
    {
     "name": "stdout",
     "output_type": "stream",
     "text": [
      "calculate period: 50\n",
      "SLB\n"
     ]
    },
    {
     "name": "stderr",
     "output_type": "stream",
     "text": [
      "C:\\Users\\CHIN\\AppData\\Local\\Temp/ipykernel_416/1045654372.py:93: FutureWarning: Indexing with multiple keys (implicitly converted to a tuple of keys) will be deprecated, use a list instead.\n",
      "  total_port_value = pd.DataFrame(df_init.groupby([df_init.index])['Total_value_todate','close'].sum())\n",
      "C:\\Users\\CHIN\\AppData\\Local\\Temp/ipykernel_416/2026335479.py:25: DeprecationWarning: cafile, capath and cadefault are deprecated, use a custom context instead.\n",
      "  response = urlopen(url, cafile=certifi.where())\n"
     ]
    },
    {
     "name": "stdout",
     "output_type": "stream",
     "text": [
      "calculate period: 50\n",
      "STX\n"
     ]
    },
    {
     "name": "stderr",
     "output_type": "stream",
     "text": [
      "C:\\Users\\CHIN\\AppData\\Local\\Temp/ipykernel_416/1045654372.py:93: FutureWarning: Indexing with multiple keys (implicitly converted to a tuple of keys) will be deprecated, use a list instead.\n",
      "  total_port_value = pd.DataFrame(df_init.groupby([df_init.index])['Total_value_todate','close'].sum())\n",
      "C:\\Users\\CHIN\\AppData\\Local\\Temp/ipykernel_416/2026335479.py:25: DeprecationWarning: cafile, capath and cadefault are deprecated, use a custom context instead.\n",
      "  response = urlopen(url, cafile=certifi.where())\n"
     ]
    },
    {
     "name": "stdout",
     "output_type": "stream",
     "text": [
      "calculate period: 50\n",
      "SRE\n"
     ]
    },
    {
     "name": "stderr",
     "output_type": "stream",
     "text": [
      "C:\\Users\\CHIN\\AppData\\Local\\Temp/ipykernel_416/1045654372.py:93: FutureWarning: Indexing with multiple keys (implicitly converted to a tuple of keys) will be deprecated, use a list instead.\n",
      "  total_port_value = pd.DataFrame(df_init.groupby([df_init.index])['Total_value_todate','close'].sum())\n",
      "C:\\Users\\CHIN\\AppData\\Local\\Temp/ipykernel_416/2026335479.py:25: DeprecationWarning: cafile, capath and cadefault are deprecated, use a custom context instead.\n",
      "  response = urlopen(url, cafile=certifi.where())\n"
     ]
    },
    {
     "name": "stdout",
     "output_type": "stream",
     "text": [
      "calculate period: 50\n",
      "NOW\n"
     ]
    },
    {
     "name": "stderr",
     "output_type": "stream",
     "text": [
      "C:\\Users\\CHIN\\AppData\\Local\\Temp/ipykernel_416/1045654372.py:93: FutureWarning: Indexing with multiple keys (implicitly converted to a tuple of keys) will be deprecated, use a list instead.\n",
      "  total_port_value = pd.DataFrame(df_init.groupby([df_init.index])['Total_value_todate','close'].sum())\n",
      "C:\\Users\\CHIN\\AppData\\Local\\Temp/ipykernel_416/2026335479.py:25: DeprecationWarning: cafile, capath and cadefault are deprecated, use a custom context instead.\n",
      "  response = urlopen(url, cafile=certifi.where())\n"
     ]
    },
    {
     "name": "stdout",
     "output_type": "stream",
     "text": [
      "calculate period: 50\n",
      "SHW\n"
     ]
    },
    {
     "name": "stderr",
     "output_type": "stream",
     "text": [
      "C:\\Users\\CHIN\\AppData\\Local\\Temp/ipykernel_416/1045654372.py:93: FutureWarning: Indexing with multiple keys (implicitly converted to a tuple of keys) will be deprecated, use a list instead.\n",
      "  total_port_value = pd.DataFrame(df_init.groupby([df_init.index])['Total_value_todate','close'].sum())\n",
      "C:\\Users\\CHIN\\AppData\\Local\\Temp/ipykernel_416/2026335479.py:25: DeprecationWarning: cafile, capath and cadefault are deprecated, use a custom context instead.\n",
      "  response = urlopen(url, cafile=certifi.where())\n"
     ]
    },
    {
     "name": "stdout",
     "output_type": "stream",
     "text": [
      "calculate period: 50\n",
      "SPG\n"
     ]
    },
    {
     "name": "stderr",
     "output_type": "stream",
     "text": [
      "C:\\Users\\CHIN\\AppData\\Local\\Temp/ipykernel_416/1045654372.py:93: FutureWarning: Indexing with multiple keys (implicitly converted to a tuple of keys) will be deprecated, use a list instead.\n",
      "  total_port_value = pd.DataFrame(df_init.groupby([df_init.index])['Total_value_todate','close'].sum())\n",
      "C:\\Users\\CHIN\\AppData\\Local\\Temp/ipykernel_416/2026335479.py:25: DeprecationWarning: cafile, capath and cadefault are deprecated, use a custom context instead.\n",
      "  response = urlopen(url, cafile=certifi.where())\n"
     ]
    },
    {
     "name": "stdout",
     "output_type": "stream",
     "text": [
      "calculate period: 50\n",
      "SWKS\n"
     ]
    },
    {
     "name": "stderr",
     "output_type": "stream",
     "text": [
      "C:\\Users\\CHIN\\AppData\\Local\\Temp/ipykernel_416/1045654372.py:93: FutureWarning: Indexing with multiple keys (implicitly converted to a tuple of keys) will be deprecated, use a list instead.\n",
      "  total_port_value = pd.DataFrame(df_init.groupby([df_init.index])['Total_value_todate','close'].sum())\n",
      "C:\\Users\\CHIN\\AppData\\Local\\Temp/ipykernel_416/2026335479.py:25: DeprecationWarning: cafile, capath and cadefault are deprecated, use a custom context instead.\n",
      "  response = urlopen(url, cafile=certifi.where())\n"
     ]
    },
    {
     "name": "stdout",
     "output_type": "stream",
     "text": [
      "calculate period: 50\n",
      "SJM\n"
     ]
    },
    {
     "name": "stderr",
     "output_type": "stream",
     "text": [
      "C:\\Users\\CHIN\\AppData\\Local\\Temp/ipykernel_416/1045654372.py:93: FutureWarning: Indexing with multiple keys (implicitly converted to a tuple of keys) will be deprecated, use a list instead.\n",
      "  total_port_value = pd.DataFrame(df_init.groupby([df_init.index])['Total_value_todate','close'].sum())\n",
      "C:\\Users\\CHIN\\AppData\\Local\\Temp/ipykernel_416/2026335479.py:25: DeprecationWarning: cafile, capath and cadefault are deprecated, use a custom context instead.\n",
      "  response = urlopen(url, cafile=certifi.where())\n"
     ]
    },
    {
     "name": "stdout",
     "output_type": "stream",
     "text": [
      "calculate period: 50\n",
      "SNA\n"
     ]
    },
    {
     "name": "stderr",
     "output_type": "stream",
     "text": [
      "C:\\Users\\CHIN\\AppData\\Local\\Temp/ipykernel_416/1045654372.py:93: FutureWarning: Indexing with multiple keys (implicitly converted to a tuple of keys) will be deprecated, use a list instead.\n",
      "  total_port_value = pd.DataFrame(df_init.groupby([df_init.index])['Total_value_todate','close'].sum())\n",
      "C:\\Users\\CHIN\\AppData\\Local\\Temp/ipykernel_416/2026335479.py:25: DeprecationWarning: cafile, capath and cadefault are deprecated, use a custom context instead.\n",
      "  response = urlopen(url, cafile=certifi.where())\n"
     ]
    },
    {
     "name": "stdout",
     "output_type": "stream",
     "text": [
      "calculate period: 50\n",
      "SO\n"
     ]
    },
    {
     "name": "stderr",
     "output_type": "stream",
     "text": [
      "C:\\Users\\CHIN\\AppData\\Local\\Temp/ipykernel_416/1045654372.py:93: FutureWarning: Indexing with multiple keys (implicitly converted to a tuple of keys) will be deprecated, use a list instead.\n",
      "  total_port_value = pd.DataFrame(df_init.groupby([df_init.index])['Total_value_todate','close'].sum())\n",
      "C:\\Users\\CHIN\\AppData\\Local\\Temp/ipykernel_416/2026335479.py:25: DeprecationWarning: cafile, capath and cadefault are deprecated, use a custom context instead.\n",
      "  response = urlopen(url, cafile=certifi.where())\n"
     ]
    },
    {
     "name": "stdout",
     "output_type": "stream",
     "text": [
      "calculate period: 50\n",
      "LUV\n"
     ]
    },
    {
     "name": "stderr",
     "output_type": "stream",
     "text": [
      "C:\\Users\\CHIN\\AppData\\Local\\Temp/ipykernel_416/1045654372.py:93: FutureWarning: Indexing with multiple keys (implicitly converted to a tuple of keys) will be deprecated, use a list instead.\n",
      "  total_port_value = pd.DataFrame(df_init.groupby([df_init.index])['Total_value_todate','close'].sum())\n",
      "C:\\Users\\CHIN\\AppData\\Local\\Temp/ipykernel_416/2026335479.py:25: DeprecationWarning: cafile, capath and cadefault are deprecated, use a custom context instead.\n",
      "  response = urlopen(url, cafile=certifi.where())\n"
     ]
    },
    {
     "name": "stdout",
     "output_type": "stream",
     "text": [
      "calculate period: 50\n",
      "SWK\n"
     ]
    },
    {
     "name": "stderr",
     "output_type": "stream",
     "text": [
      "C:\\Users\\CHIN\\AppData\\Local\\Temp/ipykernel_416/1045654372.py:93: FutureWarning: Indexing with multiple keys (implicitly converted to a tuple of keys) will be deprecated, use a list instead.\n",
      "  total_port_value = pd.DataFrame(df_init.groupby([df_init.index])['Total_value_todate','close'].sum())\n",
      "C:\\Users\\CHIN\\AppData\\Local\\Temp/ipykernel_416/2026335479.py:25: DeprecationWarning: cafile, capath and cadefault are deprecated, use a custom context instead.\n",
      "  response = urlopen(url, cafile=certifi.where())\n"
     ]
    },
    {
     "name": "stdout",
     "output_type": "stream",
     "text": [
      "calculate period: 50\n",
      "SBUX\n"
     ]
    },
    {
     "name": "stderr",
     "output_type": "stream",
     "text": [
      "C:\\Users\\CHIN\\AppData\\Local\\Temp/ipykernel_416/1045654372.py:93: FutureWarning: Indexing with multiple keys (implicitly converted to a tuple of keys) will be deprecated, use a list instead.\n",
      "  total_port_value = pd.DataFrame(df_init.groupby([df_init.index])['Total_value_todate','close'].sum())\n",
      "C:\\Users\\CHIN\\AppData\\Local\\Temp/ipykernel_416/2026335479.py:25: DeprecationWarning: cafile, capath and cadefault are deprecated, use a custom context instead.\n",
      "  response = urlopen(url, cafile=certifi.where())\n"
     ]
    },
    {
     "name": "stdout",
     "output_type": "stream",
     "text": [
      "calculate period: 50\n",
      "STT\n"
     ]
    },
    {
     "name": "stderr",
     "output_type": "stream",
     "text": [
      "C:\\Users\\CHIN\\AppData\\Local\\Temp/ipykernel_416/1045654372.py:93: FutureWarning: Indexing with multiple keys (implicitly converted to a tuple of keys) will be deprecated, use a list instead.\n",
      "  total_port_value = pd.DataFrame(df_init.groupby([df_init.index])['Total_value_todate','close'].sum())\n",
      "C:\\Users\\CHIN\\AppData\\Local\\Temp/ipykernel_416/2026335479.py:25: DeprecationWarning: cafile, capath and cadefault are deprecated, use a custom context instead.\n",
      "  response = urlopen(url, cafile=certifi.where())\n"
     ]
    },
    {
     "name": "stdout",
     "output_type": "stream",
     "text": [
      "calculate period: 50\n",
      "STLD\n"
     ]
    },
    {
     "name": "stderr",
     "output_type": "stream",
     "text": [
      "C:\\Users\\CHIN\\AppData\\Local\\Temp/ipykernel_416/1045654372.py:93: FutureWarning: Indexing with multiple keys (implicitly converted to a tuple of keys) will be deprecated, use a list instead.\n",
      "  total_port_value = pd.DataFrame(df_init.groupby([df_init.index])['Total_value_todate','close'].sum())\n",
      "C:\\Users\\CHIN\\AppData\\Local\\Temp/ipykernel_416/2026335479.py:25: DeprecationWarning: cafile, capath and cadefault are deprecated, use a custom context instead.\n",
      "  response = urlopen(url, cafile=certifi.where())\n"
     ]
    },
    {
     "name": "stdout",
     "output_type": "stream",
     "text": [
      "calculate period: 50\n",
      "STE\n"
     ]
    },
    {
     "name": "stderr",
     "output_type": "stream",
     "text": [
      "C:\\Users\\CHIN\\AppData\\Local\\Temp/ipykernel_416/1045654372.py:93: FutureWarning: Indexing with multiple keys (implicitly converted to a tuple of keys) will be deprecated, use a list instead.\n",
      "  total_port_value = pd.DataFrame(df_init.groupby([df_init.index])['Total_value_todate','close'].sum())\n",
      "C:\\Users\\CHIN\\AppData\\Local\\Temp/ipykernel_416/2026335479.py:25: DeprecationWarning: cafile, capath and cadefault are deprecated, use a custom context instead.\n",
      "  response = urlopen(url, cafile=certifi.where())\n"
     ]
    },
    {
     "name": "stdout",
     "output_type": "stream",
     "text": [
      "calculate period: 50\n",
      "SYK\n"
     ]
    },
    {
     "name": "stderr",
     "output_type": "stream",
     "text": [
      "C:\\Users\\CHIN\\AppData\\Local\\Temp/ipykernel_416/1045654372.py:93: FutureWarning: Indexing with multiple keys (implicitly converted to a tuple of keys) will be deprecated, use a list instead.\n",
      "  total_port_value = pd.DataFrame(df_init.groupby([df_init.index])['Total_value_todate','close'].sum())\n",
      "C:\\Users\\CHIN\\AppData\\Local\\Temp/ipykernel_416/2026335479.py:25: DeprecationWarning: cafile, capath and cadefault are deprecated, use a custom context instead.\n",
      "  response = urlopen(url, cafile=certifi.where())\n"
     ]
    },
    {
     "name": "stdout",
     "output_type": "stream",
     "text": [
      "calculate period: 50\n",
      "SYF\n"
     ]
    },
    {
     "name": "stderr",
     "output_type": "stream",
     "text": [
      "C:\\Users\\CHIN\\AppData\\Local\\Temp/ipykernel_416/1045654372.py:93: FutureWarning: Indexing with multiple keys (implicitly converted to a tuple of keys) will be deprecated, use a list instead.\n",
      "  total_port_value = pd.DataFrame(df_init.groupby([df_init.index])['Total_value_todate','close'].sum())\n",
      "C:\\Users\\CHIN\\AppData\\Local\\Temp/ipykernel_416/2026335479.py:25: DeprecationWarning: cafile, capath and cadefault are deprecated, use a custom context instead.\n",
      "  response = urlopen(url, cafile=certifi.where())\n"
     ]
    },
    {
     "name": "stdout",
     "output_type": "stream",
     "text": [
      "calculate period: 50\n",
      "SNPS\n"
     ]
    },
    {
     "name": "stderr",
     "output_type": "stream",
     "text": [
      "C:\\Users\\CHIN\\AppData\\Local\\Temp/ipykernel_416/1045654372.py:93: FutureWarning: Indexing with multiple keys (implicitly converted to a tuple of keys) will be deprecated, use a list instead.\n",
      "  total_port_value = pd.DataFrame(df_init.groupby([df_init.index])['Total_value_todate','close'].sum())\n",
      "C:\\Users\\CHIN\\AppData\\Local\\Temp/ipykernel_416/2026335479.py:25: DeprecationWarning: cafile, capath and cadefault are deprecated, use a custom context instead.\n",
      "  response = urlopen(url, cafile=certifi.where())\n"
     ]
    },
    {
     "name": "stdout",
     "output_type": "stream",
     "text": [
      "calculate period: 50\n",
      "SYY\n"
     ]
    },
    {
     "name": "stderr",
     "output_type": "stream",
     "text": [
      "C:\\Users\\CHIN\\AppData\\Local\\Temp/ipykernel_416/1045654372.py:93: FutureWarning: Indexing with multiple keys (implicitly converted to a tuple of keys) will be deprecated, use a list instead.\n",
      "  total_port_value = pd.DataFrame(df_init.groupby([df_init.index])['Total_value_todate','close'].sum())\n",
      "C:\\Users\\CHIN\\AppData\\Local\\Temp/ipykernel_416/2026335479.py:25: DeprecationWarning: cafile, capath and cadefault are deprecated, use a custom context instead.\n",
      "  response = urlopen(url, cafile=certifi.where())\n"
     ]
    },
    {
     "name": "stdout",
     "output_type": "stream",
     "text": [
      "calculate period: 50\n",
      "TMUS\n"
     ]
    },
    {
     "name": "stderr",
     "output_type": "stream",
     "text": [
      "C:\\Users\\CHIN\\AppData\\Local\\Temp/ipykernel_416/1045654372.py:93: FutureWarning: Indexing with multiple keys (implicitly converted to a tuple of keys) will be deprecated, use a list instead.\n",
      "  total_port_value = pd.DataFrame(df_init.groupby([df_init.index])['Total_value_todate','close'].sum())\n",
      "C:\\Users\\CHIN\\AppData\\Local\\Temp/ipykernel_416/2026335479.py:25: DeprecationWarning: cafile, capath and cadefault are deprecated, use a custom context instead.\n",
      "  response = urlopen(url, cafile=certifi.where())\n"
     ]
    },
    {
     "name": "stdout",
     "output_type": "stream",
     "text": [
      "calculate period: 50\n",
      "TROW\n"
     ]
    },
    {
     "name": "stderr",
     "output_type": "stream",
     "text": [
      "C:\\Users\\CHIN\\AppData\\Local\\Temp/ipykernel_416/1045654372.py:93: FutureWarning: Indexing with multiple keys (implicitly converted to a tuple of keys) will be deprecated, use a list instead.\n",
      "  total_port_value = pd.DataFrame(df_init.groupby([df_init.index])['Total_value_todate','close'].sum())\n",
      "C:\\Users\\CHIN\\AppData\\Local\\Temp/ipykernel_416/2026335479.py:25: DeprecationWarning: cafile, capath and cadefault are deprecated, use a custom context instead.\n",
      "  response = urlopen(url, cafile=certifi.where())\n"
     ]
    },
    {
     "name": "stdout",
     "output_type": "stream",
     "text": [
      "calculate period: 50\n",
      "TTWO\n"
     ]
    },
    {
     "name": "stderr",
     "output_type": "stream",
     "text": [
      "C:\\Users\\CHIN\\AppData\\Local\\Temp/ipykernel_416/1045654372.py:93: FutureWarning: Indexing with multiple keys (implicitly converted to a tuple of keys) will be deprecated, use a list instead.\n",
      "  total_port_value = pd.DataFrame(df_init.groupby([df_init.index])['Total_value_todate','close'].sum())\n",
      "C:\\Users\\CHIN\\AppData\\Local\\Temp/ipykernel_416/2026335479.py:25: DeprecationWarning: cafile, capath and cadefault are deprecated, use a custom context instead.\n",
      "  response = urlopen(url, cafile=certifi.where())\n"
     ]
    },
    {
     "name": "stdout",
     "output_type": "stream",
     "text": [
      "calculate period: 50\n",
      "TPR\n"
     ]
    },
    {
     "name": "stderr",
     "output_type": "stream",
     "text": [
      "C:\\Users\\CHIN\\AppData\\Local\\Temp/ipykernel_416/1045654372.py:93: FutureWarning: Indexing with multiple keys (implicitly converted to a tuple of keys) will be deprecated, use a list instead.\n",
      "  total_port_value = pd.DataFrame(df_init.groupby([df_init.index])['Total_value_todate','close'].sum())\n",
      "C:\\Users\\CHIN\\AppData\\Local\\Temp/ipykernel_416/2026335479.py:25: DeprecationWarning: cafile, capath and cadefault are deprecated, use a custom context instead.\n",
      "  response = urlopen(url, cafile=certifi.where())\n"
     ]
    },
    {
     "name": "stdout",
     "output_type": "stream",
     "text": [
      "calculate period: 50\n",
      "TRGP\n"
     ]
    },
    {
     "name": "stderr",
     "output_type": "stream",
     "text": [
      "C:\\Users\\CHIN\\AppData\\Local\\Temp/ipykernel_416/1045654372.py:93: FutureWarning: Indexing with multiple keys (implicitly converted to a tuple of keys) will be deprecated, use a list instead.\n",
      "  total_port_value = pd.DataFrame(df_init.groupby([df_init.index])['Total_value_todate','close'].sum())\n",
      "C:\\Users\\CHIN\\AppData\\Local\\Temp/ipykernel_416/2026335479.py:25: DeprecationWarning: cafile, capath and cadefault are deprecated, use a custom context instead.\n",
      "  response = urlopen(url, cafile=certifi.where())\n"
     ]
    },
    {
     "name": "stdout",
     "output_type": "stream",
     "text": [
      "calculate period: 50\n",
      "TGT\n"
     ]
    },
    {
     "name": "stderr",
     "output_type": "stream",
     "text": [
      "C:\\Users\\CHIN\\AppData\\Local\\Temp/ipykernel_416/1045654372.py:93: FutureWarning: Indexing with multiple keys (implicitly converted to a tuple of keys) will be deprecated, use a list instead.\n",
      "  total_port_value = pd.DataFrame(df_init.groupby([df_init.index])['Total_value_todate','close'].sum())\n",
      "C:\\Users\\CHIN\\AppData\\Local\\Temp/ipykernel_416/2026335479.py:25: DeprecationWarning: cafile, capath and cadefault are deprecated, use a custom context instead.\n",
      "  response = urlopen(url, cafile=certifi.where())\n"
     ]
    },
    {
     "name": "stdout",
     "output_type": "stream",
     "text": [
      "calculate period: 50\n",
      "TEL\n"
     ]
    },
    {
     "name": "stderr",
     "output_type": "stream",
     "text": [
      "C:\\Users\\CHIN\\AppData\\Local\\Temp/ipykernel_416/1045654372.py:93: FutureWarning: Indexing with multiple keys (implicitly converted to a tuple of keys) will be deprecated, use a list instead.\n",
      "  total_port_value = pd.DataFrame(df_init.groupby([df_init.index])['Total_value_todate','close'].sum())\n",
      "C:\\Users\\CHIN\\AppData\\Local\\Temp/ipykernel_416/2026335479.py:25: DeprecationWarning: cafile, capath and cadefault are deprecated, use a custom context instead.\n",
      "  response = urlopen(url, cafile=certifi.where())\n"
     ]
    },
    {
     "name": "stdout",
     "output_type": "stream",
     "text": [
      "calculate period: 50\n",
      "TDY\n"
     ]
    },
    {
     "name": "stderr",
     "output_type": "stream",
     "text": [
      "C:\\Users\\CHIN\\AppData\\Local\\Temp/ipykernel_416/1045654372.py:93: FutureWarning: Indexing with multiple keys (implicitly converted to a tuple of keys) will be deprecated, use a list instead.\n",
      "  total_port_value = pd.DataFrame(df_init.groupby([df_init.index])['Total_value_todate','close'].sum())\n",
      "C:\\Users\\CHIN\\AppData\\Local\\Temp/ipykernel_416/2026335479.py:25: DeprecationWarning: cafile, capath and cadefault are deprecated, use a custom context instead.\n",
      "  response = urlopen(url, cafile=certifi.where())\n"
     ]
    },
    {
     "name": "stdout",
     "output_type": "stream",
     "text": [
      "calculate period: 50\n",
      "TFX\n"
     ]
    },
    {
     "name": "stderr",
     "output_type": "stream",
     "text": [
      "C:\\Users\\CHIN\\AppData\\Local\\Temp/ipykernel_416/1045654372.py:93: FutureWarning: Indexing with multiple keys (implicitly converted to a tuple of keys) will be deprecated, use a list instead.\n",
      "  total_port_value = pd.DataFrame(df_init.groupby([df_init.index])['Total_value_todate','close'].sum())\n",
      "C:\\Users\\CHIN\\AppData\\Local\\Temp/ipykernel_416/2026335479.py:25: DeprecationWarning: cafile, capath and cadefault are deprecated, use a custom context instead.\n",
      "  response = urlopen(url, cafile=certifi.where())\n"
     ]
    },
    {
     "name": "stdout",
     "output_type": "stream",
     "text": [
      "calculate period: 50\n",
      "TER\n"
     ]
    },
    {
     "name": "stderr",
     "output_type": "stream",
     "text": [
      "C:\\Users\\CHIN\\AppData\\Local\\Temp/ipykernel_416/1045654372.py:93: FutureWarning: Indexing with multiple keys (implicitly converted to a tuple of keys) will be deprecated, use a list instead.\n",
      "  total_port_value = pd.DataFrame(df_init.groupby([df_init.index])['Total_value_todate','close'].sum())\n",
      "C:\\Users\\CHIN\\AppData\\Local\\Temp/ipykernel_416/2026335479.py:25: DeprecationWarning: cafile, capath and cadefault are deprecated, use a custom context instead.\n",
      "  response = urlopen(url, cafile=certifi.where())\n"
     ]
    },
    {
     "name": "stdout",
     "output_type": "stream",
     "text": [
      "calculate period: 50\n",
      "TSLA\n"
     ]
    },
    {
     "name": "stderr",
     "output_type": "stream",
     "text": [
      "C:\\Users\\CHIN\\AppData\\Local\\Temp/ipykernel_416/1045654372.py:93: FutureWarning: Indexing with multiple keys (implicitly converted to a tuple of keys) will be deprecated, use a list instead.\n",
      "  total_port_value = pd.DataFrame(df_init.groupby([df_init.index])['Total_value_todate','close'].sum())\n",
      "C:\\Users\\CHIN\\AppData\\Local\\Temp/ipykernel_416/2026335479.py:25: DeprecationWarning: cafile, capath and cadefault are deprecated, use a custom context instead.\n",
      "  response = urlopen(url, cafile=certifi.where())\n"
     ]
    },
    {
     "name": "stdout",
     "output_type": "stream",
     "text": [
      "calculate period: 50\n",
      "TXN\n"
     ]
    },
    {
     "name": "stderr",
     "output_type": "stream",
     "text": [
      "C:\\Users\\CHIN\\AppData\\Local\\Temp/ipykernel_416/1045654372.py:93: FutureWarning: Indexing with multiple keys (implicitly converted to a tuple of keys) will be deprecated, use a list instead.\n",
      "  total_port_value = pd.DataFrame(df_init.groupby([df_init.index])['Total_value_todate','close'].sum())\n",
      "C:\\Users\\CHIN\\AppData\\Local\\Temp/ipykernel_416/2026335479.py:25: DeprecationWarning: cafile, capath and cadefault are deprecated, use a custom context instead.\n",
      "  response = urlopen(url, cafile=certifi.where())\n"
     ]
    },
    {
     "name": "stdout",
     "output_type": "stream",
     "text": [
      "calculate period: 50\n",
      "TXT\n"
     ]
    },
    {
     "name": "stderr",
     "output_type": "stream",
     "text": [
      "C:\\Users\\CHIN\\AppData\\Local\\Temp/ipykernel_416/1045654372.py:93: FutureWarning: Indexing with multiple keys (implicitly converted to a tuple of keys) will be deprecated, use a list instead.\n",
      "  total_port_value = pd.DataFrame(df_init.groupby([df_init.index])['Total_value_todate','close'].sum())\n",
      "C:\\Users\\CHIN\\AppData\\Local\\Temp/ipykernel_416/2026335479.py:25: DeprecationWarning: cafile, capath and cadefault are deprecated, use a custom context instead.\n",
      "  response = urlopen(url, cafile=certifi.where())\n"
     ]
    },
    {
     "name": "stdout",
     "output_type": "stream",
     "text": [
      "calculate period: 50\n",
      "TMO\n"
     ]
    },
    {
     "name": "stderr",
     "output_type": "stream",
     "text": [
      "C:\\Users\\CHIN\\AppData\\Local\\Temp/ipykernel_416/1045654372.py:93: FutureWarning: Indexing with multiple keys (implicitly converted to a tuple of keys) will be deprecated, use a list instead.\n",
      "  total_port_value = pd.DataFrame(df_init.groupby([df_init.index])['Total_value_todate','close'].sum())\n",
      "C:\\Users\\CHIN\\AppData\\Local\\Temp/ipykernel_416/2026335479.py:25: DeprecationWarning: cafile, capath and cadefault are deprecated, use a custom context instead.\n",
      "  response = urlopen(url, cafile=certifi.where())\n"
     ]
    },
    {
     "name": "stdout",
     "output_type": "stream",
     "text": [
      "calculate period: 50\n",
      "TJX\n"
     ]
    },
    {
     "name": "stderr",
     "output_type": "stream",
     "text": [
      "C:\\Users\\CHIN\\AppData\\Local\\Temp/ipykernel_416/1045654372.py:93: FutureWarning: Indexing with multiple keys (implicitly converted to a tuple of keys) will be deprecated, use a list instead.\n",
      "  total_port_value = pd.DataFrame(df_init.groupby([df_init.index])['Total_value_todate','close'].sum())\n",
      "C:\\Users\\CHIN\\AppData\\Local\\Temp/ipykernel_416/2026335479.py:25: DeprecationWarning: cafile, capath and cadefault are deprecated, use a custom context instead.\n",
      "  response = urlopen(url, cafile=certifi.where())\n"
     ]
    },
    {
     "name": "stdout",
     "output_type": "stream",
     "text": [
      "calculate period: 50\n",
      "TSCO\n"
     ]
    },
    {
     "name": "stderr",
     "output_type": "stream",
     "text": [
      "C:\\Users\\CHIN\\AppData\\Local\\Temp/ipykernel_416/1045654372.py:93: FutureWarning: Indexing with multiple keys (implicitly converted to a tuple of keys) will be deprecated, use a list instead.\n",
      "  total_port_value = pd.DataFrame(df_init.groupby([df_init.index])['Total_value_todate','close'].sum())\n",
      "C:\\Users\\CHIN\\AppData\\Local\\Temp/ipykernel_416/2026335479.py:25: DeprecationWarning: cafile, capath and cadefault are deprecated, use a custom context instead.\n",
      "  response = urlopen(url, cafile=certifi.where())\n"
     ]
    },
    {
     "name": "stdout",
     "output_type": "stream",
     "text": [
      "calculate period: 50\n",
      "TT\n"
     ]
    },
    {
     "name": "stderr",
     "output_type": "stream",
     "text": [
      "C:\\Users\\CHIN\\AppData\\Local\\Temp/ipykernel_416/1045654372.py:93: FutureWarning: Indexing with multiple keys (implicitly converted to a tuple of keys) will be deprecated, use a list instead.\n",
      "  total_port_value = pd.DataFrame(df_init.groupby([df_init.index])['Total_value_todate','close'].sum())\n",
      "C:\\Users\\CHIN\\AppData\\Local\\Temp/ipykernel_416/2026335479.py:25: DeprecationWarning: cafile, capath and cadefault are deprecated, use a custom context instead.\n",
      "  response = urlopen(url, cafile=certifi.where())\n"
     ]
    },
    {
     "name": "stdout",
     "output_type": "stream",
     "text": [
      "calculate period: 50\n",
      "TDG\n"
     ]
    },
    {
     "name": "stderr",
     "output_type": "stream",
     "text": [
      "C:\\Users\\CHIN\\AppData\\Local\\Temp/ipykernel_416/1045654372.py:93: FutureWarning: Indexing with multiple keys (implicitly converted to a tuple of keys) will be deprecated, use a list instead.\n",
      "  total_port_value = pd.DataFrame(df_init.groupby([df_init.index])['Total_value_todate','close'].sum())\n",
      "C:\\Users\\CHIN\\AppData\\Local\\Temp/ipykernel_416/2026335479.py:25: DeprecationWarning: cafile, capath and cadefault are deprecated, use a custom context instead.\n",
      "  response = urlopen(url, cafile=certifi.where())\n"
     ]
    },
    {
     "name": "stdout",
     "output_type": "stream",
     "text": [
      "calculate period: 50\n",
      "TRV\n"
     ]
    },
    {
     "name": "stderr",
     "output_type": "stream",
     "text": [
      "C:\\Users\\CHIN\\AppData\\Local\\Temp/ipykernel_416/1045654372.py:93: FutureWarning: Indexing with multiple keys (implicitly converted to a tuple of keys) will be deprecated, use a list instead.\n",
      "  total_port_value = pd.DataFrame(df_init.groupby([df_init.index])['Total_value_todate','close'].sum())\n",
      "C:\\Users\\CHIN\\AppData\\Local\\Temp/ipykernel_416/2026335479.py:25: DeprecationWarning: cafile, capath and cadefault are deprecated, use a custom context instead.\n",
      "  response = urlopen(url, cafile=certifi.where())\n"
     ]
    },
    {
     "name": "stdout",
     "output_type": "stream",
     "text": [
      "calculate period: 50\n",
      "TRMB\n"
     ]
    },
    {
     "name": "stderr",
     "output_type": "stream",
     "text": [
      "C:\\Users\\CHIN\\AppData\\Local\\Temp/ipykernel_416/1045654372.py:93: FutureWarning: Indexing with multiple keys (implicitly converted to a tuple of keys) will be deprecated, use a list instead.\n",
      "  total_port_value = pd.DataFrame(df_init.groupby([df_init.index])['Total_value_todate','close'].sum())\n",
      "C:\\Users\\CHIN\\AppData\\Local\\Temp/ipykernel_416/2026335479.py:25: DeprecationWarning: cafile, capath and cadefault are deprecated, use a custom context instead.\n",
      "  response = urlopen(url, cafile=certifi.where())\n"
     ]
    },
    {
     "name": "stdout",
     "output_type": "stream",
     "text": [
      "calculate period: 50\n",
      "TFC\n"
     ]
    },
    {
     "name": "stderr",
     "output_type": "stream",
     "text": [
      "C:\\Users\\CHIN\\AppData\\Local\\Temp/ipykernel_416/1045654372.py:93: FutureWarning: Indexing with multiple keys (implicitly converted to a tuple of keys) will be deprecated, use a list instead.\n",
      "  total_port_value = pd.DataFrame(df_init.groupby([df_init.index])['Total_value_todate','close'].sum())\n",
      "C:\\Users\\CHIN\\AppData\\Local\\Temp/ipykernel_416/2026335479.py:25: DeprecationWarning: cafile, capath and cadefault are deprecated, use a custom context instead.\n",
      "  response = urlopen(url, cafile=certifi.where())\n"
     ]
    },
    {
     "name": "stdout",
     "output_type": "stream",
     "text": [
      "calculate period: 50\n",
      "TYL\n"
     ]
    },
    {
     "name": "stderr",
     "output_type": "stream",
     "text": [
      "C:\\Users\\CHIN\\AppData\\Local\\Temp/ipykernel_416/1045654372.py:93: FutureWarning: Indexing with multiple keys (implicitly converted to a tuple of keys) will be deprecated, use a list instead.\n",
      "  total_port_value = pd.DataFrame(df_init.groupby([df_init.index])['Total_value_todate','close'].sum())\n",
      "C:\\Users\\CHIN\\AppData\\Local\\Temp/ipykernel_416/2026335479.py:25: DeprecationWarning: cafile, capath and cadefault are deprecated, use a custom context instead.\n",
      "  response = urlopen(url, cafile=certifi.where())\n"
     ]
    },
    {
     "name": "stdout",
     "output_type": "stream",
     "text": [
      "calculate period: 50\n",
      "TSN\n"
     ]
    },
    {
     "name": "stderr",
     "output_type": "stream",
     "text": [
      "C:\\Users\\CHIN\\AppData\\Local\\Temp/ipykernel_416/1045654372.py:93: FutureWarning: Indexing with multiple keys (implicitly converted to a tuple of keys) will be deprecated, use a list instead.\n",
      "  total_port_value = pd.DataFrame(df_init.groupby([df_init.index])['Total_value_todate','close'].sum())\n",
      "C:\\Users\\CHIN\\AppData\\Local\\Temp/ipykernel_416/2026335479.py:25: DeprecationWarning: cafile, capath and cadefault are deprecated, use a custom context instead.\n",
      "  response = urlopen(url, cafile=certifi.where())\n"
     ]
    },
    {
     "name": "stdout",
     "output_type": "stream",
     "text": [
      "calculate period: 50\n",
      "USB\n"
     ]
    },
    {
     "name": "stderr",
     "output_type": "stream",
     "text": [
      "C:\\Users\\CHIN\\AppData\\Local\\Temp/ipykernel_416/1045654372.py:93: FutureWarning: Indexing with multiple keys (implicitly converted to a tuple of keys) will be deprecated, use a list instead.\n",
      "  total_port_value = pd.DataFrame(df_init.groupby([df_init.index])['Total_value_todate','close'].sum())\n",
      "C:\\Users\\CHIN\\AppData\\Local\\Temp/ipykernel_416/2026335479.py:25: DeprecationWarning: cafile, capath and cadefault are deprecated, use a custom context instead.\n",
      "  response = urlopen(url, cafile=certifi.where())\n"
     ]
    },
    {
     "name": "stdout",
     "output_type": "stream",
     "text": [
      "calculate period: 50\n",
      "UBER\n"
     ]
    },
    {
     "name": "stderr",
     "output_type": "stream",
     "text": [
      "C:\\Users\\CHIN\\AppData\\Local\\Temp/ipykernel_416/1045654372.py:93: FutureWarning: Indexing with multiple keys (implicitly converted to a tuple of keys) will be deprecated, use a list instead.\n",
      "  total_port_value = pd.DataFrame(df_init.groupby([df_init.index])['Total_value_todate','close'].sum())\n",
      "C:\\Users\\CHIN\\AppData\\Local\\Temp/ipykernel_416/2026335479.py:25: DeprecationWarning: cafile, capath and cadefault are deprecated, use a custom context instead.\n",
      "  response = urlopen(url, cafile=certifi.where())\n"
     ]
    },
    {
     "name": "stdout",
     "output_type": "stream",
     "text": [
      "calculate period: 50\n",
      "UDR\n"
     ]
    },
    {
     "name": "stderr",
     "output_type": "stream",
     "text": [
      "C:\\Users\\CHIN\\AppData\\Local\\Temp/ipykernel_416/1045654372.py:93: FutureWarning: Indexing with multiple keys (implicitly converted to a tuple of keys) will be deprecated, use a list instead.\n",
      "  total_port_value = pd.DataFrame(df_init.groupby([df_init.index])['Total_value_todate','close'].sum())\n",
      "C:\\Users\\CHIN\\AppData\\Local\\Temp/ipykernel_416/2026335479.py:25: DeprecationWarning: cafile, capath and cadefault are deprecated, use a custom context instead.\n",
      "  response = urlopen(url, cafile=certifi.where())\n"
     ]
    },
    {
     "name": "stdout",
     "output_type": "stream",
     "text": [
      "calculate period: 50\n",
      "ULTA\n"
     ]
    },
    {
     "name": "stderr",
     "output_type": "stream",
     "text": [
      "C:\\Users\\CHIN\\AppData\\Local\\Temp/ipykernel_416/1045654372.py:93: FutureWarning: Indexing with multiple keys (implicitly converted to a tuple of keys) will be deprecated, use a list instead.\n",
      "  total_port_value = pd.DataFrame(df_init.groupby([df_init.index])['Total_value_todate','close'].sum())\n",
      "C:\\Users\\CHIN\\AppData\\Local\\Temp/ipykernel_416/2026335479.py:25: DeprecationWarning: cafile, capath and cadefault are deprecated, use a custom context instead.\n",
      "  response = urlopen(url, cafile=certifi.where())\n"
     ]
    },
    {
     "name": "stdout",
     "output_type": "stream",
     "text": [
      "calculate period: 50\n",
      "UNP\n"
     ]
    },
    {
     "name": "stderr",
     "output_type": "stream",
     "text": [
      "C:\\Users\\CHIN\\AppData\\Local\\Temp/ipykernel_416/1045654372.py:93: FutureWarning: Indexing with multiple keys (implicitly converted to a tuple of keys) will be deprecated, use a list instead.\n",
      "  total_port_value = pd.DataFrame(df_init.groupby([df_init.index])['Total_value_todate','close'].sum())\n",
      "C:\\Users\\CHIN\\AppData\\Local\\Temp/ipykernel_416/2026335479.py:25: DeprecationWarning: cafile, capath and cadefault are deprecated, use a custom context instead.\n",
      "  response = urlopen(url, cafile=certifi.where())\n"
     ]
    },
    {
     "name": "stdout",
     "output_type": "stream",
     "text": [
      "calculate period: 50\n",
      "UAL\n"
     ]
    },
    {
     "name": "stderr",
     "output_type": "stream",
     "text": [
      "C:\\Users\\CHIN\\AppData\\Local\\Temp/ipykernel_416/1045654372.py:93: FutureWarning: Indexing with multiple keys (implicitly converted to a tuple of keys) will be deprecated, use a list instead.\n",
      "  total_port_value = pd.DataFrame(df_init.groupby([df_init.index])['Total_value_todate','close'].sum())\n",
      "C:\\Users\\CHIN\\AppData\\Local\\Temp/ipykernel_416/2026335479.py:25: DeprecationWarning: cafile, capath and cadefault are deprecated, use a custom context instead.\n",
      "  response = urlopen(url, cafile=certifi.where())\n"
     ]
    },
    {
     "name": "stdout",
     "output_type": "stream",
     "text": [
      "calculate period: 50\n",
      "UPS\n"
     ]
    },
    {
     "name": "stderr",
     "output_type": "stream",
     "text": [
      "C:\\Users\\CHIN\\AppData\\Local\\Temp/ipykernel_416/1045654372.py:93: FutureWarning: Indexing with multiple keys (implicitly converted to a tuple of keys) will be deprecated, use a list instead.\n",
      "  total_port_value = pd.DataFrame(df_init.groupby([df_init.index])['Total_value_todate','close'].sum())\n",
      "C:\\Users\\CHIN\\AppData\\Local\\Temp/ipykernel_416/2026335479.py:25: DeprecationWarning: cafile, capath and cadefault are deprecated, use a custom context instead.\n",
      "  response = urlopen(url, cafile=certifi.where())\n"
     ]
    },
    {
     "name": "stdout",
     "output_type": "stream",
     "text": [
      "calculate period: 50\n",
      "URI\n"
     ]
    },
    {
     "name": "stderr",
     "output_type": "stream",
     "text": [
      "C:\\Users\\CHIN\\AppData\\Local\\Temp/ipykernel_416/1045654372.py:93: FutureWarning: Indexing with multiple keys (implicitly converted to a tuple of keys) will be deprecated, use a list instead.\n",
      "  total_port_value = pd.DataFrame(df_init.groupby([df_init.index])['Total_value_todate','close'].sum())\n",
      "C:\\Users\\CHIN\\AppData\\Local\\Temp/ipykernel_416/2026335479.py:25: DeprecationWarning: cafile, capath and cadefault are deprecated, use a custom context instead.\n",
      "  response = urlopen(url, cafile=certifi.where())\n"
     ]
    },
    {
     "name": "stdout",
     "output_type": "stream",
     "text": [
      "calculate period: 50\n",
      "UNH\n"
     ]
    },
    {
     "name": "stderr",
     "output_type": "stream",
     "text": [
      "C:\\Users\\CHIN\\AppData\\Local\\Temp/ipykernel_416/1045654372.py:93: FutureWarning: Indexing with multiple keys (implicitly converted to a tuple of keys) will be deprecated, use a list instead.\n",
      "  total_port_value = pd.DataFrame(df_init.groupby([df_init.index])['Total_value_todate','close'].sum())\n",
      "C:\\Users\\CHIN\\AppData\\Local\\Temp/ipykernel_416/2026335479.py:25: DeprecationWarning: cafile, capath and cadefault are deprecated, use a custom context instead.\n",
      "  response = urlopen(url, cafile=certifi.where())\n"
     ]
    },
    {
     "name": "stdout",
     "output_type": "stream",
     "text": [
      "calculate period: 50\n",
      "UHS\n"
     ]
    },
    {
     "name": "stderr",
     "output_type": "stream",
     "text": [
      "C:\\Users\\CHIN\\AppData\\Local\\Temp/ipykernel_416/1045654372.py:93: FutureWarning: Indexing with multiple keys (implicitly converted to a tuple of keys) will be deprecated, use a list instead.\n",
      "  total_port_value = pd.DataFrame(df_init.groupby([df_init.index])['Total_value_todate','close'].sum())\n",
      "C:\\Users\\CHIN\\AppData\\Local\\Temp/ipykernel_416/2026335479.py:25: DeprecationWarning: cafile, capath and cadefault are deprecated, use a custom context instead.\n",
      "  response = urlopen(url, cafile=certifi.where())\n"
     ]
    },
    {
     "name": "stdout",
     "output_type": "stream",
     "text": [
      "calculate period: 50\n",
      "VLO\n"
     ]
    },
    {
     "name": "stderr",
     "output_type": "stream",
     "text": [
      "C:\\Users\\CHIN\\AppData\\Local\\Temp/ipykernel_416/1045654372.py:93: FutureWarning: Indexing with multiple keys (implicitly converted to a tuple of keys) will be deprecated, use a list instead.\n",
      "  total_port_value = pd.DataFrame(df_init.groupby([df_init.index])['Total_value_todate','close'].sum())\n",
      "C:\\Users\\CHIN\\AppData\\Local\\Temp/ipykernel_416/2026335479.py:25: DeprecationWarning: cafile, capath and cadefault are deprecated, use a custom context instead.\n",
      "  response = urlopen(url, cafile=certifi.where())\n"
     ]
    },
    {
     "name": "stdout",
     "output_type": "stream",
     "text": [
      "calculate period: 50\n",
      "VTR\n"
     ]
    },
    {
     "name": "stderr",
     "output_type": "stream",
     "text": [
      "C:\\Users\\CHIN\\AppData\\Local\\Temp/ipykernel_416/1045654372.py:93: FutureWarning: Indexing with multiple keys (implicitly converted to a tuple of keys) will be deprecated, use a list instead.\n",
      "  total_port_value = pd.DataFrame(df_init.groupby([df_init.index])['Total_value_todate','close'].sum())\n",
      "C:\\Users\\CHIN\\AppData\\Local\\Temp/ipykernel_416/2026335479.py:25: DeprecationWarning: cafile, capath and cadefault are deprecated, use a custom context instead.\n",
      "  response = urlopen(url, cafile=certifi.where())\n"
     ]
    },
    {
     "name": "stdout",
     "output_type": "stream",
     "text": [
      "calculate period: 50\n",
      "VLTO\n",
      "calculate period: 50\n",
      "VRSN\n"
     ]
    },
    {
     "name": "stderr",
     "output_type": "stream",
     "text": [
      "C:\\Users\\CHIN\\AppData\\Local\\Temp/ipykernel_416/1045654372.py:93: FutureWarning: Indexing with multiple keys (implicitly converted to a tuple of keys) will be deprecated, use a list instead.\n",
      "  total_port_value = pd.DataFrame(df_init.groupby([df_init.index])['Total_value_todate','close'].sum())\n",
      "C:\\Users\\CHIN\\AppData\\Local\\Temp/ipykernel_416/2026335479.py:25: DeprecationWarning: cafile, capath and cadefault are deprecated, use a custom context instead.\n",
      "  response = urlopen(url, cafile=certifi.where())\n"
     ]
    },
    {
     "name": "stdout",
     "output_type": "stream",
     "text": [
      "calculate period: 50\n",
      "VRSK\n"
     ]
    },
    {
     "name": "stderr",
     "output_type": "stream",
     "text": [
      "C:\\Users\\CHIN\\AppData\\Local\\Temp/ipykernel_416/1045654372.py:93: FutureWarning: Indexing with multiple keys (implicitly converted to a tuple of keys) will be deprecated, use a list instead.\n",
      "  total_port_value = pd.DataFrame(df_init.groupby([df_init.index])['Total_value_todate','close'].sum())\n",
      "C:\\Users\\CHIN\\AppData\\Local\\Temp/ipykernel_416/2026335479.py:25: DeprecationWarning: cafile, capath and cadefault are deprecated, use a custom context instead.\n",
      "  response = urlopen(url, cafile=certifi.where())\n"
     ]
    },
    {
     "name": "stdout",
     "output_type": "stream",
     "text": [
      "calculate period: 50\n",
      "VZ\n"
     ]
    },
    {
     "name": "stderr",
     "output_type": "stream",
     "text": [
      "C:\\Users\\CHIN\\AppData\\Local\\Temp/ipykernel_416/1045654372.py:93: FutureWarning: Indexing with multiple keys (implicitly converted to a tuple of keys) will be deprecated, use a list instead.\n",
      "  total_port_value = pd.DataFrame(df_init.groupby([df_init.index])['Total_value_todate','close'].sum())\n",
      "C:\\Users\\CHIN\\AppData\\Local\\Temp/ipykernel_416/2026335479.py:25: DeprecationWarning: cafile, capath and cadefault are deprecated, use a custom context instead.\n",
      "  response = urlopen(url, cafile=certifi.where())\n"
     ]
    },
    {
     "name": "stdout",
     "output_type": "stream",
     "text": [
      "calculate period: 50\n",
      "VRTX\n"
     ]
    },
    {
     "name": "stderr",
     "output_type": "stream",
     "text": [
      "C:\\Users\\CHIN\\AppData\\Local\\Temp/ipykernel_416/1045654372.py:93: FutureWarning: Indexing with multiple keys (implicitly converted to a tuple of keys) will be deprecated, use a list instead.\n",
      "  total_port_value = pd.DataFrame(df_init.groupby([df_init.index])['Total_value_todate','close'].sum())\n",
      "C:\\Users\\CHIN\\AppData\\Local\\Temp/ipykernel_416/2026335479.py:25: DeprecationWarning: cafile, capath and cadefault are deprecated, use a custom context instead.\n",
      "  response = urlopen(url, cafile=certifi.where())\n"
     ]
    },
    {
     "name": "stdout",
     "output_type": "stream",
     "text": [
      "calculate period: 50\n",
      "VFC\n"
     ]
    },
    {
     "name": "stderr",
     "output_type": "stream",
     "text": [
      "C:\\Users\\CHIN\\AppData\\Local\\Temp/ipykernel_416/1045654372.py:93: FutureWarning: Indexing with multiple keys (implicitly converted to a tuple of keys) will be deprecated, use a list instead.\n",
      "  total_port_value = pd.DataFrame(df_init.groupby([df_init.index])['Total_value_todate','close'].sum())\n",
      "C:\\Users\\CHIN\\AppData\\Local\\Temp/ipykernel_416/2026335479.py:25: DeprecationWarning: cafile, capath and cadefault are deprecated, use a custom context instead.\n",
      "  response = urlopen(url, cafile=certifi.where())\n"
     ]
    },
    {
     "name": "stdout",
     "output_type": "stream",
     "text": [
      "calculate period: 50\n",
      "VTRS\n"
     ]
    },
    {
     "name": "stderr",
     "output_type": "stream",
     "text": [
      "C:\\Users\\CHIN\\AppData\\Local\\Temp/ipykernel_416/1045654372.py:93: FutureWarning: Indexing with multiple keys (implicitly converted to a tuple of keys) will be deprecated, use a list instead.\n",
      "  total_port_value = pd.DataFrame(df_init.groupby([df_init.index])['Total_value_todate','close'].sum())\n",
      "C:\\Users\\CHIN\\AppData\\Local\\Temp/ipykernel_416/2026335479.py:25: DeprecationWarning: cafile, capath and cadefault are deprecated, use a custom context instead.\n",
      "  response = urlopen(url, cafile=certifi.where())\n"
     ]
    },
    {
     "name": "stdout",
     "output_type": "stream",
     "text": [
      "calculate period: 50\n",
      "VICI\n"
     ]
    },
    {
     "name": "stderr",
     "output_type": "stream",
     "text": [
      "C:\\Users\\CHIN\\AppData\\Local\\Temp/ipykernel_416/1045654372.py:93: FutureWarning: Indexing with multiple keys (implicitly converted to a tuple of keys) will be deprecated, use a list instead.\n",
      "  total_port_value = pd.DataFrame(df_init.groupby([df_init.index])['Total_value_todate','close'].sum())\n",
      "C:\\Users\\CHIN\\AppData\\Local\\Temp/ipykernel_416/2026335479.py:25: DeprecationWarning: cafile, capath and cadefault are deprecated, use a custom context instead.\n",
      "  response = urlopen(url, cafile=certifi.where())\n"
     ]
    },
    {
     "name": "stdout",
     "output_type": "stream",
     "text": [
      "calculate period: 50\n",
      "V\n"
     ]
    },
    {
     "name": "stderr",
     "output_type": "stream",
     "text": [
      "C:\\Users\\CHIN\\AppData\\Local\\Temp/ipykernel_416/1045654372.py:93: FutureWarning: Indexing with multiple keys (implicitly converted to a tuple of keys) will be deprecated, use a list instead.\n",
      "  total_port_value = pd.DataFrame(df_init.groupby([df_init.index])['Total_value_todate','close'].sum())\n",
      "C:\\Users\\CHIN\\AppData\\Local\\Temp/ipykernel_416/2026335479.py:25: DeprecationWarning: cafile, capath and cadefault are deprecated, use a custom context instead.\n",
      "  response = urlopen(url, cafile=certifi.where())\n"
     ]
    },
    {
     "name": "stdout",
     "output_type": "stream",
     "text": [
      "calculate period: 50\n",
      "VMC\n"
     ]
    },
    {
     "name": "stderr",
     "output_type": "stream",
     "text": [
      "C:\\Users\\CHIN\\AppData\\Local\\Temp/ipykernel_416/1045654372.py:93: FutureWarning: Indexing with multiple keys (implicitly converted to a tuple of keys) will be deprecated, use a list instead.\n",
      "  total_port_value = pd.DataFrame(df_init.groupby([df_init.index])['Total_value_todate','close'].sum())\n",
      "C:\\Users\\CHIN\\AppData\\Local\\Temp/ipykernel_416/2026335479.py:25: DeprecationWarning: cafile, capath and cadefault are deprecated, use a custom context instead.\n",
      "  response = urlopen(url, cafile=certifi.where())\n"
     ]
    },
    {
     "name": "stdout",
     "output_type": "stream",
     "text": [
      "calculate period: 50\n",
      "WRB\n"
     ]
    },
    {
     "name": "stderr",
     "output_type": "stream",
     "text": [
      "C:\\Users\\CHIN\\AppData\\Local\\Temp/ipykernel_416/1045654372.py:93: FutureWarning: Indexing with multiple keys (implicitly converted to a tuple of keys) will be deprecated, use a list instead.\n",
      "  total_port_value = pd.DataFrame(df_init.groupby([df_init.index])['Total_value_todate','close'].sum())\n",
      "C:\\Users\\CHIN\\AppData\\Local\\Temp/ipykernel_416/2026335479.py:25: DeprecationWarning: cafile, capath and cadefault are deprecated, use a custom context instead.\n",
      "  response = urlopen(url, cafile=certifi.where())\n"
     ]
    },
    {
     "name": "stdout",
     "output_type": "stream",
     "text": [
      "calculate period: 50\n",
      "WAB\n"
     ]
    },
    {
     "name": "stderr",
     "output_type": "stream",
     "text": [
      "C:\\Users\\CHIN\\AppData\\Local\\Temp/ipykernel_416/1045654372.py:93: FutureWarning: Indexing with multiple keys (implicitly converted to a tuple of keys) will be deprecated, use a list instead.\n",
      "  total_port_value = pd.DataFrame(df_init.groupby([df_init.index])['Total_value_todate','close'].sum())\n",
      "C:\\Users\\CHIN\\AppData\\Local\\Temp/ipykernel_416/2026335479.py:25: DeprecationWarning: cafile, capath and cadefault are deprecated, use a custom context instead.\n",
      "  response = urlopen(url, cafile=certifi.where())\n"
     ]
    },
    {
     "name": "stdout",
     "output_type": "stream",
     "text": [
      "calculate period: 50\n",
      "WBA\n"
     ]
    },
    {
     "name": "stderr",
     "output_type": "stream",
     "text": [
      "C:\\Users\\CHIN\\AppData\\Local\\Temp/ipykernel_416/1045654372.py:93: FutureWarning: Indexing with multiple keys (implicitly converted to a tuple of keys) will be deprecated, use a list instead.\n",
      "  total_port_value = pd.DataFrame(df_init.groupby([df_init.index])['Total_value_todate','close'].sum())\n",
      "C:\\Users\\CHIN\\AppData\\Local\\Temp/ipykernel_416/2026335479.py:25: DeprecationWarning: cafile, capath and cadefault are deprecated, use a custom context instead.\n",
      "  response = urlopen(url, cafile=certifi.where())\n"
     ]
    },
    {
     "name": "stdout",
     "output_type": "stream",
     "text": [
      "calculate period: 50\n",
      "WMT\n"
     ]
    },
    {
     "name": "stderr",
     "output_type": "stream",
     "text": [
      "C:\\Users\\CHIN\\AppData\\Local\\Temp/ipykernel_416/1045654372.py:93: FutureWarning: Indexing with multiple keys (implicitly converted to a tuple of keys) will be deprecated, use a list instead.\n",
      "  total_port_value = pd.DataFrame(df_init.groupby([df_init.index])['Total_value_todate','close'].sum())\n",
      "C:\\Users\\CHIN\\AppData\\Local\\Temp/ipykernel_416/2026335479.py:25: DeprecationWarning: cafile, capath and cadefault are deprecated, use a custom context instead.\n",
      "  response = urlopen(url, cafile=certifi.where())\n"
     ]
    },
    {
     "name": "stdout",
     "output_type": "stream",
     "text": [
      "calculate period: 50\n",
      "DIS\n"
     ]
    },
    {
     "name": "stderr",
     "output_type": "stream",
     "text": [
      "C:\\Users\\CHIN\\AppData\\Local\\Temp/ipykernel_416/1045654372.py:93: FutureWarning: Indexing with multiple keys (implicitly converted to a tuple of keys) will be deprecated, use a list instead.\n",
      "  total_port_value = pd.DataFrame(df_init.groupby([df_init.index])['Total_value_todate','close'].sum())\n",
      "C:\\Users\\CHIN\\AppData\\Local\\Temp/ipykernel_416/2026335479.py:25: DeprecationWarning: cafile, capath and cadefault are deprecated, use a custom context instead.\n",
      "  response = urlopen(url, cafile=certifi.where())\n"
     ]
    },
    {
     "name": "stdout",
     "output_type": "stream",
     "text": [
      "calculate period: 50\n",
      "WBD\n"
     ]
    },
    {
     "name": "stderr",
     "output_type": "stream",
     "text": [
      "C:\\Users\\CHIN\\AppData\\Local\\Temp/ipykernel_416/1045654372.py:93: FutureWarning: Indexing with multiple keys (implicitly converted to a tuple of keys) will be deprecated, use a list instead.\n",
      "  total_port_value = pd.DataFrame(df_init.groupby([df_init.index])['Total_value_todate','close'].sum())\n",
      "C:\\Users\\CHIN\\AppData\\Local\\Temp/ipykernel_416/2026335479.py:25: DeprecationWarning: cafile, capath and cadefault are deprecated, use a custom context instead.\n",
      "  response = urlopen(url, cafile=certifi.where())\n"
     ]
    },
    {
     "name": "stdout",
     "output_type": "stream",
     "text": [
      "calculate period: 50\n",
      "WM\n"
     ]
    },
    {
     "name": "stderr",
     "output_type": "stream",
     "text": [
      "C:\\Users\\CHIN\\AppData\\Local\\Temp/ipykernel_416/1045654372.py:93: FutureWarning: Indexing with multiple keys (implicitly converted to a tuple of keys) will be deprecated, use a list instead.\n",
      "  total_port_value = pd.DataFrame(df_init.groupby([df_init.index])['Total_value_todate','close'].sum())\n",
      "C:\\Users\\CHIN\\AppData\\Local\\Temp/ipykernel_416/2026335479.py:25: DeprecationWarning: cafile, capath and cadefault are deprecated, use a custom context instead.\n",
      "  response = urlopen(url, cafile=certifi.where())\n"
     ]
    },
    {
     "name": "stdout",
     "output_type": "stream",
     "text": [
      "calculate period: 50\n",
      "WAT\n"
     ]
    },
    {
     "name": "stderr",
     "output_type": "stream",
     "text": [
      "C:\\Users\\CHIN\\AppData\\Local\\Temp/ipykernel_416/1045654372.py:93: FutureWarning: Indexing with multiple keys (implicitly converted to a tuple of keys) will be deprecated, use a list instead.\n",
      "  total_port_value = pd.DataFrame(df_init.groupby([df_init.index])['Total_value_todate','close'].sum())\n",
      "C:\\Users\\CHIN\\AppData\\Local\\Temp/ipykernel_416/2026335479.py:25: DeprecationWarning: cafile, capath and cadefault are deprecated, use a custom context instead.\n",
      "  response = urlopen(url, cafile=certifi.where())\n"
     ]
    },
    {
     "name": "stdout",
     "output_type": "stream",
     "text": [
      "calculate period: 50\n",
      "WEC\n"
     ]
    },
    {
     "name": "stderr",
     "output_type": "stream",
     "text": [
      "C:\\Users\\CHIN\\AppData\\Local\\Temp/ipykernel_416/1045654372.py:93: FutureWarning: Indexing with multiple keys (implicitly converted to a tuple of keys) will be deprecated, use a list instead.\n",
      "  total_port_value = pd.DataFrame(df_init.groupby([df_init.index])['Total_value_todate','close'].sum())\n",
      "C:\\Users\\CHIN\\AppData\\Local\\Temp/ipykernel_416/2026335479.py:25: DeprecationWarning: cafile, capath and cadefault are deprecated, use a custom context instead.\n",
      "  response = urlopen(url, cafile=certifi.where())\n"
     ]
    },
    {
     "name": "stdout",
     "output_type": "stream",
     "text": [
      "calculate period: 50\n",
      "WFC\n"
     ]
    },
    {
     "name": "stderr",
     "output_type": "stream",
     "text": [
      "C:\\Users\\CHIN\\AppData\\Local\\Temp/ipykernel_416/1045654372.py:93: FutureWarning: Indexing with multiple keys (implicitly converted to a tuple of keys) will be deprecated, use a list instead.\n",
      "  total_port_value = pd.DataFrame(df_init.groupby([df_init.index])['Total_value_todate','close'].sum())\n",
      "C:\\Users\\CHIN\\AppData\\Local\\Temp/ipykernel_416/2026335479.py:25: DeprecationWarning: cafile, capath and cadefault are deprecated, use a custom context instead.\n",
      "  response = urlopen(url, cafile=certifi.where())\n"
     ]
    },
    {
     "name": "stdout",
     "output_type": "stream",
     "text": [
      "calculate period: 50\n",
      "WELL\n"
     ]
    },
    {
     "name": "stderr",
     "output_type": "stream",
     "text": [
      "C:\\Users\\CHIN\\AppData\\Local\\Temp/ipykernel_416/1045654372.py:93: FutureWarning: Indexing with multiple keys (implicitly converted to a tuple of keys) will be deprecated, use a list instead.\n",
      "  total_port_value = pd.DataFrame(df_init.groupby([df_init.index])['Total_value_todate','close'].sum())\n",
      "C:\\Users\\CHIN\\AppData\\Local\\Temp/ipykernel_416/2026335479.py:25: DeprecationWarning: cafile, capath and cadefault are deprecated, use a custom context instead.\n",
      "  response = urlopen(url, cafile=certifi.where())\n"
     ]
    },
    {
     "name": "stdout",
     "output_type": "stream",
     "text": [
      "calculate period: 50\n",
      "WST\n"
     ]
    },
    {
     "name": "stderr",
     "output_type": "stream",
     "text": [
      "C:\\Users\\CHIN\\AppData\\Local\\Temp/ipykernel_416/1045654372.py:93: FutureWarning: Indexing with multiple keys (implicitly converted to a tuple of keys) will be deprecated, use a list instead.\n",
      "  total_port_value = pd.DataFrame(df_init.groupby([df_init.index])['Total_value_todate','close'].sum())\n",
      "C:\\Users\\CHIN\\AppData\\Local\\Temp/ipykernel_416/2026335479.py:25: DeprecationWarning: cafile, capath and cadefault are deprecated, use a custom context instead.\n",
      "  response = urlopen(url, cafile=certifi.where())\n"
     ]
    },
    {
     "name": "stdout",
     "output_type": "stream",
     "text": [
      "calculate period: 50\n",
      "WDC\n"
     ]
    },
    {
     "name": "stderr",
     "output_type": "stream",
     "text": [
      "C:\\Users\\CHIN\\AppData\\Local\\Temp/ipykernel_416/1045654372.py:93: FutureWarning: Indexing with multiple keys (implicitly converted to a tuple of keys) will be deprecated, use a list instead.\n",
      "  total_port_value = pd.DataFrame(df_init.groupby([df_init.index])['Total_value_todate','close'].sum())\n",
      "C:\\Users\\CHIN\\AppData\\Local\\Temp/ipykernel_416/2026335479.py:25: DeprecationWarning: cafile, capath and cadefault are deprecated, use a custom context instead.\n",
      "  response = urlopen(url, cafile=certifi.where())\n"
     ]
    },
    {
     "name": "stdout",
     "output_type": "stream",
     "text": [
      "calculate period: 50\n",
      "WRK\n"
     ]
    },
    {
     "name": "stderr",
     "output_type": "stream",
     "text": [
      "C:\\Users\\CHIN\\AppData\\Local\\Temp/ipykernel_416/1045654372.py:93: FutureWarning: Indexing with multiple keys (implicitly converted to a tuple of keys) will be deprecated, use a list instead.\n",
      "  total_port_value = pd.DataFrame(df_init.groupby([df_init.index])['Total_value_todate','close'].sum())\n",
      "C:\\Users\\CHIN\\AppData\\Local\\Temp/ipykernel_416/2026335479.py:25: DeprecationWarning: cafile, capath and cadefault are deprecated, use a custom context instead.\n",
      "  response = urlopen(url, cafile=certifi.where())\n"
     ]
    },
    {
     "name": "stdout",
     "output_type": "stream",
     "text": [
      "calculate period: 50\n",
      "WY\n"
     ]
    },
    {
     "name": "stderr",
     "output_type": "stream",
     "text": [
      "C:\\Users\\CHIN\\AppData\\Local\\Temp/ipykernel_416/1045654372.py:93: FutureWarning: Indexing with multiple keys (implicitly converted to a tuple of keys) will be deprecated, use a list instead.\n",
      "  total_port_value = pd.DataFrame(df_init.groupby([df_init.index])['Total_value_todate','close'].sum())\n",
      "C:\\Users\\CHIN\\AppData\\Local\\Temp/ipykernel_416/2026335479.py:25: DeprecationWarning: cafile, capath and cadefault are deprecated, use a custom context instead.\n",
      "  response = urlopen(url, cafile=certifi.where())\n"
     ]
    },
    {
     "name": "stdout",
     "output_type": "stream",
     "text": [
      "calculate period: 50\n",
      "WHR\n"
     ]
    },
    {
     "name": "stderr",
     "output_type": "stream",
     "text": [
      "C:\\Users\\CHIN\\AppData\\Local\\Temp/ipykernel_416/1045654372.py:93: FutureWarning: Indexing with multiple keys (implicitly converted to a tuple of keys) will be deprecated, use a list instead.\n",
      "  total_port_value = pd.DataFrame(df_init.groupby([df_init.index])['Total_value_todate','close'].sum())\n",
      "C:\\Users\\CHIN\\AppData\\Local\\Temp/ipykernel_416/2026335479.py:25: DeprecationWarning: cafile, capath and cadefault are deprecated, use a custom context instead.\n",
      "  response = urlopen(url, cafile=certifi.where())\n"
     ]
    },
    {
     "name": "stdout",
     "output_type": "stream",
     "text": [
      "calculate period: 50\n",
      "WMB\n"
     ]
    },
    {
     "name": "stderr",
     "output_type": "stream",
     "text": [
      "C:\\Users\\CHIN\\AppData\\Local\\Temp/ipykernel_416/1045654372.py:93: FutureWarning: Indexing with multiple keys (implicitly converted to a tuple of keys) will be deprecated, use a list instead.\n",
      "  total_port_value = pd.DataFrame(df_init.groupby([df_init.index])['Total_value_todate','close'].sum())\n",
      "C:\\Users\\CHIN\\AppData\\Local\\Temp/ipykernel_416/2026335479.py:25: DeprecationWarning: cafile, capath and cadefault are deprecated, use a custom context instead.\n",
      "  response = urlopen(url, cafile=certifi.where())\n"
     ]
    },
    {
     "name": "stdout",
     "output_type": "stream",
     "text": [
      "calculate period: 50\n",
      "WTW\n"
     ]
    },
    {
     "name": "stderr",
     "output_type": "stream",
     "text": [
      "C:\\Users\\CHIN\\AppData\\Local\\Temp/ipykernel_416/1045654372.py:93: FutureWarning: Indexing with multiple keys (implicitly converted to a tuple of keys) will be deprecated, use a list instead.\n",
      "  total_port_value = pd.DataFrame(df_init.groupby([df_init.index])['Total_value_todate','close'].sum())\n",
      "C:\\Users\\CHIN\\AppData\\Local\\Temp/ipykernel_416/2026335479.py:25: DeprecationWarning: cafile, capath and cadefault are deprecated, use a custom context instead.\n",
      "  response = urlopen(url, cafile=certifi.where())\n"
     ]
    },
    {
     "name": "stdout",
     "output_type": "stream",
     "text": [
      "calculate period: 50\n",
      "GWW\n"
     ]
    },
    {
     "name": "stderr",
     "output_type": "stream",
     "text": [
      "C:\\Users\\CHIN\\AppData\\Local\\Temp/ipykernel_416/1045654372.py:93: FutureWarning: Indexing with multiple keys (implicitly converted to a tuple of keys) will be deprecated, use a list instead.\n",
      "  total_port_value = pd.DataFrame(df_init.groupby([df_init.index])['Total_value_todate','close'].sum())\n",
      "C:\\Users\\CHIN\\AppData\\Local\\Temp/ipykernel_416/2026335479.py:25: DeprecationWarning: cafile, capath and cadefault are deprecated, use a custom context instead.\n",
      "  response = urlopen(url, cafile=certifi.where())\n"
     ]
    },
    {
     "name": "stdout",
     "output_type": "stream",
     "text": [
      "calculate period: 50\n",
      "WYNN\n"
     ]
    },
    {
     "name": "stderr",
     "output_type": "stream",
     "text": [
      "C:\\Users\\CHIN\\AppData\\Local\\Temp/ipykernel_416/1045654372.py:93: FutureWarning: Indexing with multiple keys (implicitly converted to a tuple of keys) will be deprecated, use a list instead.\n",
      "  total_port_value = pd.DataFrame(df_init.groupby([df_init.index])['Total_value_todate','close'].sum())\n",
      "C:\\Users\\CHIN\\AppData\\Local\\Temp/ipykernel_416/2026335479.py:25: DeprecationWarning: cafile, capath and cadefault are deprecated, use a custom context instead.\n",
      "  response = urlopen(url, cafile=certifi.where())\n"
     ]
    },
    {
     "name": "stdout",
     "output_type": "stream",
     "text": [
      "calculate period: 50\n",
      "XEL\n"
     ]
    },
    {
     "name": "stderr",
     "output_type": "stream",
     "text": [
      "C:\\Users\\CHIN\\AppData\\Local\\Temp/ipykernel_416/1045654372.py:93: FutureWarning: Indexing with multiple keys (implicitly converted to a tuple of keys) will be deprecated, use a list instead.\n",
      "  total_port_value = pd.DataFrame(df_init.groupby([df_init.index])['Total_value_todate','close'].sum())\n",
      "C:\\Users\\CHIN\\AppData\\Local\\Temp/ipykernel_416/2026335479.py:25: DeprecationWarning: cafile, capath and cadefault are deprecated, use a custom context instead.\n",
      "  response = urlopen(url, cafile=certifi.where())\n"
     ]
    },
    {
     "name": "stdout",
     "output_type": "stream",
     "text": [
      "calculate period: 50\n",
      "XYL\n"
     ]
    },
    {
     "name": "stderr",
     "output_type": "stream",
     "text": [
      "C:\\Users\\CHIN\\AppData\\Local\\Temp/ipykernel_416/1045654372.py:93: FutureWarning: Indexing with multiple keys (implicitly converted to a tuple of keys) will be deprecated, use a list instead.\n",
      "  total_port_value = pd.DataFrame(df_init.groupby([df_init.index])['Total_value_todate','close'].sum())\n",
      "C:\\Users\\CHIN\\AppData\\Local\\Temp/ipykernel_416/2026335479.py:25: DeprecationWarning: cafile, capath and cadefault are deprecated, use a custom context instead.\n",
      "  response = urlopen(url, cafile=certifi.where())\n"
     ]
    },
    {
     "name": "stdout",
     "output_type": "stream",
     "text": [
      "calculate period: 50\n",
      "YUM\n"
     ]
    },
    {
     "name": "stderr",
     "output_type": "stream",
     "text": [
      "C:\\Users\\CHIN\\AppData\\Local\\Temp/ipykernel_416/1045654372.py:93: FutureWarning: Indexing with multiple keys (implicitly converted to a tuple of keys) will be deprecated, use a list instead.\n",
      "  total_port_value = pd.DataFrame(df_init.groupby([df_init.index])['Total_value_todate','close'].sum())\n",
      "C:\\Users\\CHIN\\AppData\\Local\\Temp/ipykernel_416/2026335479.py:25: DeprecationWarning: cafile, capath and cadefault are deprecated, use a custom context instead.\n",
      "  response = urlopen(url, cafile=certifi.where())\n"
     ]
    },
    {
     "name": "stdout",
     "output_type": "stream",
     "text": [
      "calculate period: 50\n",
      "ZBRA\n"
     ]
    },
    {
     "name": "stderr",
     "output_type": "stream",
     "text": [
      "C:\\Users\\CHIN\\AppData\\Local\\Temp/ipykernel_416/1045654372.py:93: FutureWarning: Indexing with multiple keys (implicitly converted to a tuple of keys) will be deprecated, use a list instead.\n",
      "  total_port_value = pd.DataFrame(df_init.groupby([df_init.index])['Total_value_todate','close'].sum())\n",
      "C:\\Users\\CHIN\\AppData\\Local\\Temp/ipykernel_416/2026335479.py:25: DeprecationWarning: cafile, capath and cadefault are deprecated, use a custom context instead.\n",
      "  response = urlopen(url, cafile=certifi.where())\n"
     ]
    },
    {
     "name": "stdout",
     "output_type": "stream",
     "text": [
      "calculate period: 50\n",
      "ZBH\n"
     ]
    },
    {
     "name": "stderr",
     "output_type": "stream",
     "text": [
      "C:\\Users\\CHIN\\AppData\\Local\\Temp/ipykernel_416/1045654372.py:93: FutureWarning: Indexing with multiple keys (implicitly converted to a tuple of keys) will be deprecated, use a list instead.\n",
      "  total_port_value = pd.DataFrame(df_init.groupby([df_init.index])['Total_value_todate','close'].sum())\n",
      "C:\\Users\\CHIN\\AppData\\Local\\Temp/ipykernel_416/2026335479.py:25: DeprecationWarning: cafile, capath and cadefault are deprecated, use a custom context instead.\n",
      "  response = urlopen(url, cafile=certifi.where())\n"
     ]
    },
    {
     "name": "stdout",
     "output_type": "stream",
     "text": [
      "calculate period: 50\n",
      "ZION\n"
     ]
    },
    {
     "name": "stderr",
     "output_type": "stream",
     "text": [
      "C:\\Users\\CHIN\\AppData\\Local\\Temp/ipykernel_416/1045654372.py:93: FutureWarning: Indexing with multiple keys (implicitly converted to a tuple of keys) will be deprecated, use a list instead.\n",
      "  total_port_value = pd.DataFrame(df_init.groupby([df_init.index])['Total_value_todate','close'].sum())\n",
      "C:\\Users\\CHIN\\AppData\\Local\\Temp/ipykernel_416/2026335479.py:25: DeprecationWarning: cafile, capath and cadefault are deprecated, use a custom context instead.\n",
      "  response = urlopen(url, cafile=certifi.where())\n"
     ]
    },
    {
     "name": "stdout",
     "output_type": "stream",
     "text": [
      "calculate period: 50\n",
      "ZTS\n"
     ]
    },
    {
     "name": "stderr",
     "output_type": "stream",
     "text": [
      "C:\\Users\\CHIN\\AppData\\Local\\Temp/ipykernel_416/1045654372.py:93: FutureWarning: Indexing with multiple keys (implicitly converted to a tuple of keys) will be deprecated, use a list instead.\n",
      "  total_port_value = pd.DataFrame(df_init.groupby([df_init.index])['Total_value_todate','close'].sum())\n"
     ]
    }
   ],
   "source": [
    "api =  'oX1sBTfvsAn0ALsUptoRGJCxFlY2iXCA'\n",
    "\n",
    "backtest_resultOverall = pd.DataFrame()\n",
    "port_valueOverall = pd.DataFrame()\n",
    "compareAnnualizeOverall = pd.DataFrame()\n",
    "# ticker_all = ['APA', 'BKR', 'CVX', 'COP', 'CTRA', 'DVN', 'FANG', 'EOG', 'EQT',\n",
    "#        'XOM', 'HAL', 'HES', 'KMI', 'MRO', 'MPC', 'OXY', 'OKE', 'PSX',\n",
    "#        'PXD', 'SLB', 'TRGP', 'VLO', 'WMB']\n",
    "#ticker_all =compareAnnualizeOverall[compareAnnualizeOverall.sector=='Energy'].symbol.unique()\n",
    "for temp_ticker in ticker_all:\n",
    "    price_api = 'https://financialmodelingprep.com/api/v3/historical-price-full/'+temp_ticker+'?apikey='+api+'&from=2019-01-01&to=2023-12-27'\n",
    "    price_temp = get_jsonparsed_data(price_api)\n",
    "    price_temp = pd.json_normalize(price_temp['historical'])\n",
    "    price_temp = price_temp.sort_values(by=['date'])\n",
    "    price_temp['Symbol'] = temp_ticker\n",
    "    period_tem = 50\n",
    "    #for period_tem in period:\n",
    "    print('calculate period:',period_tem)\n",
    "    price_temp = get_weightbulbear(price_temp,period_tem)\n",
    "    check = price_temp[price_temp['Signal']==-1] \n",
    "    print(temp_ticker)\n",
    "    if check.shape[0]>1:\n",
    "        price_temp['Price'] = price_temp['open']\n",
    "        port_value, backtest_result = backtest_strategy(data = price_temp,capital =1000)\n",
    "\n",
    "        backtest_resultOverall = pd.concat([backtest_resultOverall,backtest_result])\n",
    "        port_value['Symbol'] = temp_ticker\n",
    "        port_valueOverall = pd.concat([port_valueOverall,port_value])\n",
    "        annualize_value = annualized (port_value,'Return_without_trailing')\n",
    "        mdd_value = MDD(port_value,'Return_without_trailing')\n",
    "        annualize_buyandhold = annualized (port_value,'Return_without_trailingBuyAndHold')\n",
    "        mdd_buyandhold = MDD(port_value,'Return_without_trailingBuyAndHold')\n",
    "        compareAnnualize = pd.DataFrame({'annualize_Strategy':[annualize_value],\n",
    "                     'mdd_Strategy':[mdd_value],\n",
    "                     'annualize_buyandhold': [annualize_buyandhold],\n",
    "                     'mdd_buyandhold':[mdd_buyandhold],\n",
    "                     'Symbol':[temp_ticker]})\n",
    "        compareAnnualizeOverall = pd.concat([compareAnnualizeOverall,compareAnnualize])\n",
    "    "
   ]
  },
  {
   "cell_type": "code",
   "execution_count": 11,
   "id": "a2b7bd84",
   "metadata": {},
   "outputs": [],
   "source": [
    "compareAnnualizeOverall['annualizeStrategyMinusBuyHold'] = compareAnnualizeOverall['annualize_Strategy'] - compareAnnualizeOverall['annualize_buyandhold']\n",
    "compareAnnualizeOverall = pd.merge(compareAnnualizeOverall,companyInfo[['symbol', 'sector']], left_on = ['Symbol'], right_on = ['symbol'])\n",
    "compareAnnualizeOverall['MDDStrategyMinusBuyHold'] = compareAnnualizeOverall['mdd_Strategy'] - compareAnnualizeOverall['mdd_buyandhold']\n"
   ]
  },
  {
   "cell_type": "code",
   "execution_count": 12,
   "id": "3611581e",
   "metadata": {},
   "outputs": [],
   "source": [
    "# Define the bins and labels for the categories\n",
    "#bins = [-float('inf'), 0, 10, 30, 50, float('inf')]\n",
    "#labels = ['< 0', '0-10', '10-30', '30-50', 'more than 50']\n",
    "bins = [-float('inf'), 0,  float('inf')]\n",
    "labels = ['< 0', '>0']\n",
    "# Create a new column 'annualize_strategy_category' using pd.cut\n",
    "compareAnnualizeOverall['annualizeStrategyMinusBuyHoldCategory'] = pd.cut(compareAnnualizeOverall['annualizeStrategyMinusBuyHold'], bins=bins, labels=labels, right=False)\n",
    "\n",
    "# Define the bins and labels for the categories\n",
    "bins = [-float('inf'), 0, 10, 30, 50, float('inf')]\n",
    "labels = ['< 0', '0-10', '10-30', '30-50', 'more than 50']\n",
    "#bins = [-float('inf'), 0,  float('inf')]\n",
    "#labels = ['< 0', '>0']\n",
    "# Create a new column 'annualize_strategy_category' using pd.cut\n",
    "compareAnnualizeOverall['MDDStrategyMinusBuyHoldCategory'] = pd.cut(compareAnnualizeOverall['MDDStrategyMinusBuyHold'], bins=bins, labels=labels, right=False)"
   ]
  },
  {
   "cell_type": "code",
   "execution_count": 18,
   "id": "7d91e91e",
   "metadata": {},
   "outputs": [
    {
     "data": {
      "image/png": "[encoded data removed]",
      "text/plain": [
       "<Figure size 864x576 with 1 Axes>"
      ]
     },
     "metadata": {},
     "output_type": "display_data"
    }
   ],
   "source": [
    "import pandas as pd\n",
    "import seaborn as sns\n",
    "import matplotlib.pyplot as plt\n",
    "\n",
    "# Assuming your DataFrame is named df\n",
    "# If it's not, replace df with the actual name of your DataFrame\n",
    "\n",
    "# Set the style of seaborn for better visualization\n",
    "sns.set(style=\"whitegrid\")\n",
    "\n",
    "# Define the figure and axes\n",
    "fig, ax = plt.subplots(figsize=(12, 8))\n",
    "\n",
    "# Plot the area chart using seaborn\n",
    "sns.countplot(data=compareAnnualizeOverall[compareAnnualizeOverall.sector!=''], x='sector', hue='annualizeStrategyMinusBuyHoldCategory', palette='viridis', ax=ax)\n",
    "\n",
    "# Set plot labels and title\n",
    "ax.set_xlabel('Sector')\n",
    "ax.set_ylabel('Nb of company')\n",
    "ax.set_title('Annualize return by Sector')\n",
    "\n",
    "# Display the legend\n",
    "#ax.legend(title='Category annualize return trade plan minus buy and hold', bbox_to_anchor=(1.05, 1))\n",
    "\n",
    "# Rotate x-axis labels for better readability\n",
    "plt.xticks(rotation=45)\n",
    "\n",
    "# Show the plot\n",
    "plt.show()\n",
    "\n"
   ]
  },
  {
   "cell_type": "code",
   "execution_count": 20,
   "id": "03589289",
   "metadata": {},
   "outputs": [
    {
     "data": {
      "image/png": "[encoded data removed]",
      "text/plain": [
       "<Figure size 864x576 with 1 Axes>"
      ]
     },
     "metadata": {},
     "output_type": "display_data"
    }
   ],
   "source": [
    "import pandas as pd\n",
    "import seaborn as sns\n",
    "import matplotlib.pyplot as plt\n",
    "\n",
    "# Assuming your DataFrame is named df\n",
    "# If it's not, replace df with the actual name of your DataFrame\n",
    "\n",
    "# Set the style of seaborn for better visualization\n",
    "sns.set(style=\"whitegrid\")\n",
    "\n",
    "# Define the figure and axes\n",
    "fig, ax = plt.subplots(figsize=(12, 8))\n",
    "\n",
    "# Plot the area chart using seaborn\n",
    "sns.countplot(data=compareAnnualizeOverall[compareAnnualizeOverall.sector!=''], x='sector', hue='MDDStrategyMinusBuyHoldCategory', palette='viridis', ax=ax)\n",
    "\n",
    "# Set plot labels and title\n",
    "ax.set_xlabel('Sector')\n",
    "ax.set_ylabel('Nb of company')\n",
    "ax.set_title('Maximum drawdown by Sector')\n",
    "\n",
    "# Display the legend\n",
    "ax.legend(title='Category maximum draw down trade plan minus buy and hold')\n",
    "\n",
    "# Rotate x-axis labels for better readability\n",
    "plt.xticks(rotation=45)\n",
    "\n",
    "# Show the plot\n",
    "plt.show()"
   ]
  },
  {
   "cell_type": "code",
   "execution_count": 21,
   "id": "3e138983",
   "metadata": {},
   "outputs": [],
   "source": [
    "# Define the bins and labels for the categories\n",
    "bins = [-float('inf'), 0, 10, 30, 50, float('inf')]\n",
    "labels = ['<0', '0-10', '10-30', '30-50', 'more than 50']\n",
    "\n",
    "# Create a new column 'annualize_strategy_category' using pd.cut\n",
    "compareAnnualizeOverall['annualizeStrategyMinusBuyHoldCategory'] = pd.cut(compareAnnualizeOverall['annualizeStrategyMinusBuyHold'], bins=bins, labels=labels, right=False)"
   ]
  },
  {
   "cell_type": "code",
   "execution_count": 23,
   "id": "ca4812f0",
   "metadata": {},
   "outputs": [
    {
     "data": {
      "image/png": "[encoded data removed]",
      "text/plain": [
       "<Figure size 864x576 with 1 Axes>"
      ]
     },
     "metadata": {},
     "output_type": "display_data"
    }
   ],
   "source": [
    "import pandas as pd\n",
    "import seaborn as sns\n",
    "import matplotlib.pyplot as plt\n",
    "\n",
    "# Assuming your DataFrame is named df\n",
    "# If it's not, replace df with the actual name of your DataFrame\n",
    "\n",
    "# Set the style of seaborn for better visualization\n",
    "sns.set(style=\"whitegrid\")\n",
    "\n",
    "# Define the figure and axes\n",
    "fig, ax = plt.subplots(figsize=(12, 8))\n",
    "\n",
    "# Plot the area chart using seaborn\n",
    "sns.countplot(data=compareAnnualizeOverall[compareAnnualizeOverall.sector!=''], x='sector', hue='annualizeStrategyMinusBuyHoldCategory', palette='viridis', ax=ax)\n",
    "\n",
    "# Set plot labels and title\n",
    "ax.set_xlabel('Sector')\n",
    "ax.set_ylabel('Count of Rows')\n",
    "ax.set_title('Count of Rows by Sector and Category')\n",
    "\n",
    "# Display the legend\n",
    "ax.legend(title='Category', bbox_to_anchor=(1.05, 1), loc='upper left')\n",
    "\n",
    "# Rotate x-axis labels for better readability\n",
    "plt.xticks(rotation=45)\n",
    "\n",
    "# Show the plot\n",
    "plt.show()"
   ]
  },
  {
   "cell_type": "code",
   "execution_count": null,
   "id": "a36b2d23",
   "metadata": {},
   "outputs": [],
   "source": []
  },
  {
   "cell_type": "code",
   "execution_count": null,
   "id": "b376d649",
   "metadata": {},
   "outputs": [],
   "source": []
  }
 ],
 "metadata": {
  "kernelspec": {
   "display_name": "Python 3 (ipykernel)",
   "language": "python",
   "name": "python3"
  },
  "language_info": {
   "codemirror_mode": {
    "name": "ipython",
    "version": 3
   },
   "file_extension": ".py",
   "mimetype": "text/x-python",
   "name": "python",
   "nbconvert_exporter": "python",
   "pygments_lexer": "ipython3",
   "version": "3.9.7"
  }
 },
 "nbformat": 4,
 "nbformat_minor": 5
}
