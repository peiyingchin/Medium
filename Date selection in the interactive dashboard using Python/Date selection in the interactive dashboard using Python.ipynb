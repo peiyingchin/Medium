{
 "cells": [
  {
   "cell_type": "code",
   "execution_count": 48,
   "id": "e6517aba",
   "metadata": {},
   "outputs": [],
   "source": [
    "import pandas as pd\n",
    "import ipywidgets \n",
    "import pandas_datareader as pdr\n",
    "import datetime \n",
    "import matplotlib.pyplot as plt"
   ]
  },
  {
   "cell_type": "code",
   "execution_count": 49,
   "id": "04416e5c",
   "metadata": {},
   "outputs": [],
   "source": [
    "today = datetime.datetime.now()\n",
    "df = pdr.get_data_yahoo('AAPL', start=datetime.datetime(today.year-1,today.month-1, 1),\n",
    "                            end=datetime.datetime(today.year, today.month, today.day)).reset_index()\n",
    "df['DATE'] =pd.to_datetime(df['Date']).dt.date\n",
    "df['year'] = pd.DatetimeIndex(df['DATE']).year\n",
    "df['month'] = pd.DatetimeIndex(df['DATE']).month\n",
    "df.set_index('DATE',inplace=True)"
   ]
  },
  {
   "cell_type": "code",
   "execution_count": 50,
   "id": "599d164d",
   "metadata": {},
   "outputs": [
    {
     "data": {
      "application/vnd.jupyter.widget-view+json": {
       "model_id": "dd209ced204a4625ab8801fab62f3113",
       "version_major": 2,
       "version_minor": 0
      },
      "text/plain": [
       "HBox(children=(DatePicker(value=None, description='Start Date'), DatePicker(value=None, description='End Date'…"
      ]
     },
     "metadata": {},
     "output_type": "display_data"
    },
    {
     "data": {
      "application/vnd.jupyter.widget-view+json": {
       "model_id": "f72a5d5322284d65941ab803d98f0c36",
       "version_major": 2,
       "version_minor": 0
      },
      "text/plain": [
       "Output()"
      ]
     },
     "metadata": {},
     "output_type": "display_data"
    }
   ],
   "source": [
    "%matplotlib widget\n",
    "# date slider for start date\n",
    "date_start = ipywidgets.DatePicker(\n",
    "    description='Start Date',\n",
    "    disabled=False\n",
    ")\n",
    "# date slider for end date\n",
    "date_end = ipywidgets.DatePicker(\n",
    "    description='End Date',\n",
    "    disabled=False\n",
    ")\n",
    "\n",
    "#plot my line plot based on start date and end date\n",
    "def line_plot(start_date,end_date):\n",
    "    if (df[(df.index >start_date)& (df.index <end_date)].shape[0]==0):\n",
    "        print('Please select a date between ', df.index.min(), ' and ', df.index.max())\n",
    "    else:\n",
    "        plt.close('all')\n",
    "        fig = plt.figure(figsize=(9,5))\n",
    "        plt.style.use('seaborn')\n",
    "        plt.plot(df[(df.index >start_date)& (df.index <end_date)].Close)\n",
    "        plt.title('Apple Trend chart')\n",
    "        plt.show()\n",
    "\n",
    "#layout for filtering \n",
    "ui2 = ipywidgets.HBox([date_start,date_end])\n",
    "# link your function to your input \n",
    "out2 = ipywidgets.interactive_output(line_plot,\n",
    "                                     {'start_date' : date_start,\n",
    "                                      'end_date': date_end})\n",
    "# display your line plot\n",
    "display(ui2,out2)"
   ]
  },
  {
   "cell_type": "code",
   "execution_count": 62,
   "id": "78d6c441",
   "metadata": {},
   "outputs": [
    {
     "data": {
      "application/vnd.jupyter.widget-view+json": {
       "model_id": "a21eefa4e9574ee79a820714198ac34d",
       "version_major": 2,
       "version_minor": 0
      },
      "text/plain": [
       "HBox(children=(Dropdown(options=(2021, 2022), value=2021), Dropdown(options=(11, 12), value=11)))"
      ]
     },
     "metadata": {},
     "output_type": "display_data"
    },
    {
     "data": {
      "application/vnd.jupyter.widget-view+json": {
       "model_id": "db51bfbf1329497ca70811d6c2d5911d",
       "version_major": 2,
       "version_minor": 0
      },
      "text/plain": [
       "Output()"
      ]
     },
     "metadata": {},
     "output_type": "display_data"
    }
   ],
   "source": [
    "year = ipywidgets.Dropdown(options=df.year.unique(),value =df.year[0]) \n",
    "month = ipywidgets.Dropdown(options=[1,2,3,4,5,6,7,8,9,10,11,12], value=df.month[0])\n",
    "    \n",
    "    \n",
    "def line_plot():\n",
    "    # month list based on the year\n",
    "    month.options = list(df[df['year']==year.value].month.unique())\n",
    "    plt.close('all')\n",
    "    fig = plt.figure(figsize=(9,5))\n",
    "    plt.style.use('seaborn')\n",
    "    # filter by year.value represent the year selected by user\n",
    "    # filter by month.value represent the month selected by user\n",
    "    plt.plot(df[(df.year==year.value)& (df.month==month.value)].Close)\n",
    "    plt.title('Apple Trend chart')\n",
    "    plt.show()\n",
    "\n",
    "# main function to create plot, will used for interactive_output\n",
    "def main(year):\n",
    "    line_plot()\n",
    "    \n",
    "#layout for filtering \n",
    "ui2 = ipywidgets.HBox([year,month])\n",
    "\n",
    "# link your function to your input \n",
    "out2 = ipywidgets.interactive_output(main, {'year':year})\n",
    "# display your box plot\n",
    "display(ui2,out2)"
   ]
  },
  {
   "cell_type": "code",
   "execution_count": null,
   "id": "487095bc",
   "metadata": {},
   "outputs": [],
   "source": []
  }
 ],
 "metadata": {
  "kernelspec": {
   "display_name": "Python 3 (ipykernel)",
   "language": "python",
   "name": "python3"
  },
  "language_info": {
   "codemirror_mode": {
    "name": "ipython",
    "version": 3
   },
   "file_extension": ".py",
   "mimetype": "text/x-python",
   "name": "python",
   "nbconvert_exporter": "python",
   "pygments_lexer": "ipython3",
   "version": "3.9.7"
  }
 },
 "nbformat": 4,
 "nbformat_minor": 5
}
